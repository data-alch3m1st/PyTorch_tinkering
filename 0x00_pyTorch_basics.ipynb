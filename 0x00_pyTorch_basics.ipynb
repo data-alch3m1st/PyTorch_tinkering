{
 "cells": [
  {
   "cell_type": "code",
   "execution_count": 2,
   "id": "226e0554",
   "metadata": {},
   "outputs": [],
   "source": [
    "import pandas as pd\n",
    "import numpy as np\n",
    "import matplotlib.pyplot as plt\n",
    "import seaborn as sns\n",
    "\n",
    "import warnings\n",
    "warnings.simplefilter('ignore')\n",
    "\n",
    "from IPython.core.interactiveshell import InteractiveShell\n",
    "InteractiveShell.ast_node_interactivity = 'all'"
   ]
  },
  {
   "cell_type": "code",
   "execution_count": 3,
   "id": "046b0e26",
   "metadata": {},
   "outputs": [],
   "source": [
    "import torch"
   ]
  },
  {
   "cell_type": "code",
   "execution_count": 7,
   "id": "17e48451",
   "metadata": {},
   "outputs": [
    {
     "data": {
      "text/plain": [
       "tensor([7, 7])"
      ]
     },
     "execution_count": 7,
     "metadata": {},
     "output_type": "execute_result"
    },
    {
     "data": {
      "text/plain": [
       "1"
      ]
     },
     "execution_count": 7,
     "metadata": {},
     "output_type": "execute_result"
    }
   ],
   "source": [
    "# Vector\n",
    "vector = torch.tensor([7, 7])\n",
    "vector\n",
    "vector.ndim"
   ]
  },
  {
   "cell_type": "code",
   "execution_count": 8,
   "id": "76df1217",
   "metadata": {},
   "outputs": [
    {
     "data": {
      "text/plain": [
       "tensor([7, 7, 7])"
      ]
     },
     "execution_count": 8,
     "metadata": {},
     "output_type": "execute_result"
    },
    {
     "data": {
      "text/plain": [
       "torch.Size([3])"
      ]
     },
     "execution_count": 8,
     "metadata": {},
     "output_type": "execute_result"
    },
    {
     "data": {
      "text/plain": [
       "1"
      ]
     },
     "execution_count": 8,
     "metadata": {},
     "output_type": "execute_result"
    }
   ],
   "source": [
    "t1 = torch.tensor([7, 7, 7])\n",
    "t1\n",
    "t1.shape\n",
    "t1.ndim"
   ]
  },
  {
   "cell_type": "code",
   "execution_count": 9,
   "id": "9a2fa871",
   "metadata": {},
   "outputs": [
    {
     "data": {
      "text/plain": [
       "tensor([[ 7,  8],\n",
       "        [ 9, 10]])"
      ]
     },
     "execution_count": 9,
     "metadata": {},
     "output_type": "execute_result"
    },
    {
     "data": {
      "text/plain": [
       "torch.Size([2, 2])"
      ]
     },
     "execution_count": 9,
     "metadata": {},
     "output_type": "execute_result"
    },
    {
     "data": {
      "text/plain": [
       "2"
      ]
     },
     "execution_count": 9,
     "metadata": {},
     "output_type": "execute_result"
    }
   ],
   "source": [
    "# Matrix\n",
    "matrix = torch.tensor([[7, 8], \n",
    "                       [9, 10]])\n",
    "matrix\n",
    "\n",
    "matrix.shape\n",
    "matrix.ndim"
   ]
  },
  {
   "cell_type": "code",
   "execution_count": 11,
   "id": "48e93f0c",
   "metadata": {},
   "outputs": [
    {
     "data": {
      "text/plain": [
       "tensor([[ 7,  8],\n",
       "        [ 9, 10],\n",
       "        [11, 12],\n",
       "        [13, 14]])"
      ]
     },
     "execution_count": 11,
     "metadata": {},
     "output_type": "execute_result"
    },
    {
     "data": {
      "text/plain": [
       "torch.Size([4, 2])"
      ]
     },
     "execution_count": 11,
     "metadata": {},
     "output_type": "execute_result"
    },
    {
     "data": {
      "text/plain": [
       "2"
      ]
     },
     "execution_count": 11,
     "metadata": {},
     "output_type": "execute_result"
    }
   ],
   "source": [
    "# Matrix\n",
    "matrix = torch.tensor([[7, 8], \n",
    "                       [9, 10],\n",
    "                       [11, 12],\n",
    "                       [13, 14]]\n",
    "                     )\n",
    "matrix\n",
    "\n",
    "matrix.shape\n",
    "matrix.ndim"
   ]
  },
  {
   "cell_type": "code",
   "execution_count": 12,
   "id": "2d2346a5",
   "metadata": {},
   "outputs": [
    {
     "data": {
      "text/plain": [
       "tensor([[[1, 2, 3],\n",
       "         [3, 6, 9],\n",
       "         [2, 4, 5]]])"
      ]
     },
     "execution_count": 12,
     "metadata": {},
     "output_type": "execute_result"
    },
    {
     "data": {
      "text/plain": [
       "torch.Size([1, 3, 3])"
      ]
     },
     "execution_count": 12,
     "metadata": {},
     "output_type": "execute_result"
    },
    {
     "data": {
      "text/plain": [
       "3"
      ]
     },
     "execution_count": 12,
     "metadata": {},
     "output_type": "execute_result"
    }
   ],
   "source": [
    "# Tensor\n",
    "TENSOR = torch.tensor([[[1, 2, 3],\n",
    "                        [3, 6, 9],\n",
    "                        [2, 4, 5]]])\n",
    "TENSOR\n",
    "TENSOR.shape\n",
    "TENSOR.ndim"
   ]
  },
  {
   "cell_type": "code",
   "execution_count": 14,
   "id": "94640848",
   "metadata": {},
   "outputs": [
    {
     "data": {
      "text/plain": [
       "tensor([[[1, 2, 3],\n",
       "         [3, 6, 9],\n",
       "         [2, 4, 5]]])"
      ]
     },
     "execution_count": 14,
     "metadata": {},
     "output_type": "execute_result"
    },
    {
     "data": {
      "text/plain": [
       "torch.Size([1, 3, 3])"
      ]
     },
     "execution_count": 14,
     "metadata": {},
     "output_type": "execute_result"
    },
    {
     "data": {
      "text/plain": [
       "3"
      ]
     },
     "execution_count": 14,
     "metadata": {},
     "output_type": "execute_result"
    }
   ],
   "source": [
    "tensor3d = torch.tensor([[[1, 2, 3],\n",
    "                        [3, 6, 9],\n",
    "                        [2, 4, 5]]])\n",
    "tensor3d\n",
    "tensor3d.shape\n",
    "tensor3d.ndim"
   ]
  },
  {
   "cell_type": "code",
   "execution_count": 19,
   "id": "08f5b17c",
   "metadata": {
    "scrolled": true
   },
   "outputs": [
    {
     "data": {
      "text/plain": [
       "torch.float32"
      ]
     },
     "execution_count": 19,
     "metadata": {},
     "output_type": "execute_result"
    },
    {
     "data": {
      "text/plain": [
       "torch.Size([3, 3, 3, 3, 3, 3])"
      ]
     },
     "execution_count": 19,
     "metadata": {},
     "output_type": "execute_result"
    },
    {
     "data": {
      "text/plain": [
       "6"
      ]
     },
     "execution_count": 19,
     "metadata": {},
     "output_type": "execute_result"
    },
    {
     "data": {
      "text/plain": [
       "tensor([[[[[[9.2935e-01, 3.0501e-01, 5.3447e-01],\n",
       "            [5.2982e-01, 7.9489e-01, 9.7576e-01],\n",
       "            [6.2918e-01, 4.9524e-01, 4.9543e-02]],\n",
       "\n",
       "           [[6.6030e-01, 1.4775e-01, 2.3883e-01],\n",
       "            [1.0699e-01, 4.2705e-01, 4.0886e-01],\n",
       "            [6.4102e-01, 9.1255e-01, 3.9856e-01]],\n",
       "\n",
       "           [[7.3895e-01, 1.1687e-01, 5.3332e-01],\n",
       "            [1.4145e-01, 5.1904e-01, 2.8691e-01],\n",
       "            [5.5170e-01, 1.1683e-01, 9.2646e-01]]],\n",
       "\n",
       "\n",
       "          [[[4.4474e-01, 7.9244e-01, 5.4170e-01],\n",
       "            [3.2304e-01, 3.5352e-01, 8.2675e-01],\n",
       "            [4.3385e-01, 9.3523e-01, 8.0720e-01]],\n",
       "\n",
       "           [[5.8807e-01, 2.0272e-01, 7.1759e-01],\n",
       "            [5.5115e-01, 1.4014e-01, 9.2848e-01],\n",
       "            [6.2028e-01, 5.9632e-01, 7.9817e-04]],\n",
       "\n",
       "           [[3.0655e-01, 3.2131e-01, 6.2910e-01],\n",
       "            [6.0130e-01, 4.8475e-01, 2.1367e-01],\n",
       "            [2.9963e-01, 7.8837e-01, 7.6098e-01]]],\n",
       "\n",
       "\n",
       "          [[[4.7089e-01, 4.8823e-01, 5.4533e-01],\n",
       "            [2.7043e-01, 6.4770e-01, 4.1541e-01],\n",
       "            [4.8449e-01, 5.3934e-01, 6.9062e-01]],\n",
       "\n",
       "           [[4.3747e-01, 4.3791e-02, 2.2441e-01],\n",
       "            [4.7155e-01, 5.6932e-01, 3.8832e-01],\n",
       "            [2.4351e-01, 6.6060e-01, 9.1061e-01]],\n",
       "\n",
       "           [[1.2575e-01, 2.5044e-01, 7.3639e-01],\n",
       "            [6.6836e-01, 7.6015e-01, 1.7767e-01],\n",
       "            [5.2779e-01, 1.9312e-01, 5.8620e-01]]]],\n",
       "\n",
       "\n",
       "\n",
       "         [[[[5.9628e-01, 6.7216e-01, 8.0743e-01],\n",
       "            [3.7896e-02, 2.5508e-01, 7.0029e-02],\n",
       "            [2.8794e-01, 9.0089e-01, 8.4462e-01]],\n",
       "\n",
       "           [[2.5287e-01, 2.6947e-01, 5.0499e-01],\n",
       "            [2.5165e-01, 7.8121e-02, 4.1882e-01],\n",
       "            [5.7058e-01, 3.8034e-01, 1.7307e-01]],\n",
       "\n",
       "           [[3.9016e-01, 7.2415e-02, 9.5166e-02],\n",
       "            [7.6479e-01, 8.1222e-01, 7.0540e-01],\n",
       "            [2.7220e-01, 3.8944e-01, 1.3770e-01]]],\n",
       "\n",
       "\n",
       "          [[[1.0373e-01, 9.0342e-01, 4.7019e-01],\n",
       "            [2.3668e-01, 2.5653e-01, 6.1558e-01],\n",
       "            [5.0541e-01, 2.9538e-01, 2.4225e-01]],\n",
       "\n",
       "           [[6.2896e-02, 5.8190e-01, 1.7981e-01],\n",
       "            [2.0751e-02, 1.6222e-01, 8.7251e-01],\n",
       "            [1.4143e-01, 3.6406e-01, 1.4172e-01]],\n",
       "\n",
       "           [[6.5248e-01, 4.7269e-01, 8.2144e-01],\n",
       "            [8.0880e-01, 5.4075e-01, 9.2219e-01],\n",
       "            [3.3848e-01, 7.6991e-01, 9.1648e-01]]],\n",
       "\n",
       "\n",
       "          [[[2.8546e-01, 4.8495e-01, 1.2897e-01],\n",
       "            [5.8498e-01, 7.5771e-01, 2.8402e-01],\n",
       "            [7.8970e-01, 1.7477e-01, 3.1265e-01]],\n",
       "\n",
       "           [[3.5197e-01, 2.8168e-01, 8.5396e-01],\n",
       "            [4.0443e-01, 7.2857e-01, 8.7391e-01],\n",
       "            [1.5058e-01, 3.1468e-01, 6.6680e-01]],\n",
       "\n",
       "           [[2.6093e-01, 3.9869e-01, 8.7695e-01],\n",
       "            [7.6205e-01, 5.5211e-01, 4.1379e-01],\n",
       "            [2.5208e-01, 3.0957e-02, 5.0563e-02]]]],\n",
       "\n",
       "\n",
       "\n",
       "         [[[[7.4161e-01, 4.3631e-01, 2.9971e-01],\n",
       "            [9.1050e-01, 4.2698e-01, 8.2631e-01],\n",
       "            [2.5697e-01, 8.7733e-01, 4.1214e-01]],\n",
       "\n",
       "           [[2.7925e-01, 1.0910e-01, 6.5487e-01],\n",
       "            [5.5045e-01, 4.6275e-03, 9.2044e-01],\n",
       "            [9.8917e-01, 3.8237e-01, 7.9160e-01]],\n",
       "\n",
       "           [[7.0333e-01, 6.9409e-01, 3.6633e-01],\n",
       "            [8.0310e-01, 6.3055e-01, 8.6292e-01],\n",
       "            [1.4886e-01, 5.7689e-01, 9.4971e-01]]],\n",
       "\n",
       "\n",
       "          [[[1.8626e-01, 9.1837e-01, 1.2921e-01],\n",
       "            [9.4280e-01, 8.2193e-02, 1.4781e-01],\n",
       "            [8.8797e-01, 4.3928e-01, 9.2787e-01]],\n",
       "\n",
       "           [[7.5933e-01, 4.9298e-01, 4.2604e-01],\n",
       "            [8.4974e-01, 4.7962e-02, 3.0031e-01],\n",
       "            [7.6484e-02, 3.4443e-01, 5.0659e-01]],\n",
       "\n",
       "           [[1.0245e-01, 6.3403e-01, 7.9452e-01],\n",
       "            [4.0379e-01, 8.2167e-01, 2.6615e-01],\n",
       "            [9.4405e-01, 8.9747e-01, 1.3415e-01]]],\n",
       "\n",
       "\n",
       "          [[[8.5351e-01, 5.2475e-01, 9.1840e-01],\n",
       "            [7.5289e-01, 8.1351e-01, 2.2330e-01],\n",
       "            [2.7862e-02, 9.3807e-01, 2.8372e-01]],\n",
       "\n",
       "           [[5.5212e-01, 4.1945e-01, 9.6927e-01],\n",
       "            [9.7221e-01, 8.4854e-01, 2.0623e-01],\n",
       "            [6.4275e-01, 1.6844e-01, 8.9390e-02]],\n",
       "\n",
       "           [[6.7629e-01, 9.2875e-01, 2.5897e-01],\n",
       "            [7.2068e-01, 3.3085e-01, 5.0139e-01],\n",
       "            [8.1719e-01, 9.6698e-01, 5.3069e-01]]]]],\n",
       "\n",
       "\n",
       "\n",
       "\n",
       "        [[[[[6.3507e-01, 9.3599e-01, 8.8293e-01],\n",
       "            [5.8580e-01, 6.1440e-01, 8.6779e-01],\n",
       "            [3.3451e-01, 9.9617e-02, 1.2748e-01]],\n",
       "\n",
       "           [[8.7455e-01, 7.2870e-01, 5.4840e-01],\n",
       "            [7.0768e-02, 8.1590e-01, 5.8625e-01],\n",
       "            [3.0393e-01, 7.9989e-01, 4.9651e-02]],\n",
       "\n",
       "           [[5.1204e-01, 8.7957e-01, 5.8117e-01],\n",
       "            [2.4703e-01, 1.4936e-01, 5.2429e-01],\n",
       "            [2.6398e-01, 4.6855e-01, 5.5585e-01]]],\n",
       "\n",
       "\n",
       "          [[[3.5084e-01, 1.7588e-01, 7.5546e-01],\n",
       "            [3.5621e-01, 1.0196e-01, 1.9079e-01],\n",
       "            [2.2661e-01, 9.3772e-01, 5.7640e-01]],\n",
       "\n",
       "           [[4.2235e-01, 8.4939e-01, 3.5956e-02],\n",
       "            [4.5089e-02, 4.4719e-02, 7.6610e-01],\n",
       "            [7.9144e-01, 9.7842e-01, 8.4802e-01]],\n",
       "\n",
       "           [[8.8898e-02, 7.1573e-01, 1.8134e-02],\n",
       "            [8.7271e-01, 2.2941e-02, 9.8297e-01],\n",
       "            [8.9117e-01, 1.0010e-01, 1.3889e-01]]],\n",
       "\n",
       "\n",
       "          [[[6.2348e-01, 7.6488e-01, 8.6843e-01],\n",
       "            [1.9199e-01, 5.6500e-01, 3.4637e-01],\n",
       "            [4.3154e-01, 4.6739e-01, 6.7357e-01]],\n",
       "\n",
       "           [[7.5296e-01, 2.1924e-01, 2.2891e-01],\n",
       "            [4.9914e-01, 5.7722e-01, 4.2120e-01],\n",
       "            [4.5563e-01, 5.2998e-01, 3.9450e-01]],\n",
       "\n",
       "           [[9.5590e-01, 3.3527e-01, 6.6063e-02],\n",
       "            [9.5762e-01, 3.6718e-01, 9.7317e-01],\n",
       "            [2.8713e-01, 7.1204e-01, 2.6117e-01]]]],\n",
       "\n",
       "\n",
       "\n",
       "         [[[[8.5592e-01, 3.9256e-01, 3.0356e-01],\n",
       "            [7.7418e-01, 4.5399e-01, 3.5090e-01],\n",
       "            [6.4353e-01, 3.3932e-01, 9.6657e-01]],\n",
       "\n",
       "           [[5.0057e-01, 7.3240e-01, 8.2892e-01],\n",
       "            [6.5700e-01, 9.5306e-01, 1.4452e-01],\n",
       "            [9.1558e-02, 2.5013e-01, 1.7164e-01]],\n",
       "\n",
       "           [[5.1837e-01, 6.3629e-01, 5.4797e-01],\n",
       "            [8.8300e-01, 1.8064e-01, 1.0726e-01],\n",
       "            [5.9811e-01, 7.1939e-01, 7.5103e-01]]],\n",
       "\n",
       "\n",
       "          [[[1.9091e-01, 8.0661e-02, 4.2631e-01],\n",
       "            [5.9174e-01, 8.1000e-01, 4.5350e-01],\n",
       "            [8.9391e-01, 8.9654e-01, 2.2865e-01]],\n",
       "\n",
       "           [[3.7196e-01, 1.5923e-01, 8.5182e-01],\n",
       "            [8.4446e-01, 4.4424e-01, 6.5335e-02],\n",
       "            [9.3132e-01, 3.8420e-02, 3.4163e-01]],\n",
       "\n",
       "           [[7.4612e-01, 1.3331e-01, 5.6160e-01],\n",
       "            [5.5778e-01, 5.2619e-01, 3.3241e-01],\n",
       "            [6.2158e-01, 4.9165e-01, 6.6490e-01]]],\n",
       "\n",
       "\n",
       "          [[[3.7567e-01, 1.3700e-01, 1.4110e-01],\n",
       "            [5.6342e-02, 5.9901e-01, 4.3782e-01],\n",
       "            [6.9949e-01, 6.9104e-01, 2.4219e-01]],\n",
       "\n",
       "           [[6.1227e-02, 9.8250e-01, 3.4894e-01],\n",
       "            [1.9296e-01, 2.4237e-01, 8.6165e-01],\n",
       "            [2.2110e-01, 5.5419e-01, 6.7894e-01]],\n",
       "\n",
       "           [[8.8516e-02, 9.3205e-01, 1.2212e-01],\n",
       "            [3.3404e-01, 9.2021e-01, 4.5578e-02],\n",
       "            [5.0347e-01, 8.3350e-01, 9.0830e-01]]]],\n",
       "\n",
       "\n",
       "\n",
       "         [[[[1.2403e-01, 9.3000e-01, 1.3082e-01],\n",
       "            [5.3402e-01, 3.7215e-01, 6.4057e-01],\n",
       "            [3.7516e-01, 5.4421e-02, 6.5826e-01]],\n",
       "\n",
       "           [[6.6397e-01, 6.5692e-01, 7.5365e-01],\n",
       "            [5.7619e-01, 5.9794e-01, 4.8852e-02],\n",
       "            [8.6312e-01, 7.4614e-01, 5.0506e-01]],\n",
       "\n",
       "           [[6.4255e-01, 9.5139e-01, 6.9595e-02],\n",
       "            [2.7627e-01, 7.1097e-01, 8.6536e-02],\n",
       "            [5.0795e-01, 1.4297e-01, 2.6551e-01]]],\n",
       "\n",
       "\n",
       "          [[[4.3535e-01, 3.9875e-01, 3.6979e-01],\n",
       "            [6.1578e-01, 7.2271e-01, 6.2057e-01],\n",
       "            [6.8535e-01, 8.8989e-02, 7.2775e-01]],\n",
       "\n",
       "           [[8.8016e-01, 7.7019e-01, 5.5197e-01],\n",
       "            [4.5309e-01, 9.8273e-01, 6.1166e-01],\n",
       "            [2.1308e-01, 3.6912e-01, 2.6765e-01]],\n",
       "\n",
       "           [[2.2321e-01, 7.4916e-01, 5.9507e-01],\n",
       "            [6.2595e-01, 1.9582e-01, 3.2656e-01],\n",
       "            [8.8116e-02, 4.5938e-01, 7.4719e-01]]],\n",
       "\n",
       "\n",
       "          [[[1.2876e-01, 7.4724e-01, 8.0837e-01],\n",
       "            [4.3804e-01, 8.6039e-02, 9.7784e-01],\n",
       "            [3.6139e-01, 2.5823e-01, 3.4710e-01]],\n",
       "\n",
       "           [[6.3040e-01, 3.5730e-01, 4.5574e-01],\n",
       "            [6.3326e-01, 2.9339e-01, 7.3674e-01],\n",
       "            [4.1477e-01, 5.0102e-01, 2.8251e-01]],\n",
       "\n",
       "           [[6.3591e-01, 1.1618e-01, 2.4397e-01],\n",
       "            [7.3002e-01, 1.1916e-01, 9.3365e-01],\n",
       "            [5.5323e-01, 9.7963e-01, 4.4173e-01]]]]],\n",
       "\n",
       "\n",
       "\n",
       "\n",
       "        [[[[[7.9094e-01, 5.9385e-01, 2.5356e-01],\n",
       "            [1.2521e-01, 9.8411e-01, 7.9847e-01],\n",
       "            [9.3950e-01, 4.5271e-01, 7.7015e-01]],\n",
       "\n",
       "           [[3.4336e-01, 9.3516e-01, 9.5302e-01],\n",
       "            [8.2773e-01, 8.2782e-01, 9.1261e-01],\n",
       "            [7.2249e-01, 1.0324e-01, 5.7378e-01]],\n",
       "\n",
       "           [[8.5542e-02, 8.5971e-01, 3.0225e-01],\n",
       "            [7.1914e-01, 7.1404e-01, 8.7447e-01],\n",
       "            [3.7342e-01, 3.5518e-01, 2.4355e-01]]],\n",
       "\n",
       "\n",
       "          [[[1.7056e-01, 6.9799e-01, 8.7118e-01],\n",
       "            [7.5566e-01, 6.5385e-01, 5.7708e-01],\n",
       "            [3.7372e-01, 6.1144e-01, 8.4047e-01]],\n",
       "\n",
       "           [[8.2690e-01, 3.1495e-01, 5.7256e-01],\n",
       "            [6.0470e-01, 6.7899e-01, 2.3114e-01],\n",
       "            [5.4336e-01, 9.4807e-01, 6.4980e-02]],\n",
       "\n",
       "           [[4.2273e-01, 1.2451e-01, 9.1672e-01],\n",
       "            [8.0319e-01, 7.0693e-01, 2.1957e-01],\n",
       "            [5.8287e-01, 9.2355e-01, 8.9172e-01]]],\n",
       "\n",
       "\n",
       "          [[[4.9123e-01, 5.1478e-01, 8.4902e-01],\n",
       "            [2.1396e-03, 4.8102e-01, 7.5842e-01],\n",
       "            [2.0299e-01, 7.8849e-01, 7.3489e-01]],\n",
       "\n",
       "           [[9.7700e-01, 9.7304e-01, 3.9125e-01],\n",
       "            [4.5057e-01, 3.4194e-01, 7.9399e-01],\n",
       "            [9.6519e-01, 9.1586e-01, 2.5057e-01]],\n",
       "\n",
       "           [[7.5946e-01, 6.4614e-01, 7.6134e-01],\n",
       "            [3.1499e-01, 4.3789e-01, 6.2871e-02],\n",
       "            [5.0890e-02, 5.9630e-01, 4.3595e-01]]]],\n",
       "\n",
       "\n",
       "\n",
       "         [[[[9.0138e-01, 1.6533e-01, 1.0948e-01],\n",
       "            [1.8460e-01, 8.9749e-01, 7.3944e-01],\n",
       "            [6.7261e-01, 7.5488e-01, 6.5149e-02]],\n",
       "\n",
       "           [[8.3599e-01, 5.8165e-01, 8.3949e-01],\n",
       "            [6.0145e-01, 3.4164e-01, 5.7504e-01],\n",
       "            [9.4555e-01, 8.0334e-01, 8.9732e-02]],\n",
       "\n",
       "           [[7.9174e-01, 8.1456e-01, 3.5346e-01],\n",
       "            [7.4253e-01, 8.4262e-02, 4.7875e-01],\n",
       "            [1.8203e-01, 8.1575e-01, 4.2626e-01]]],\n",
       "\n",
       "\n",
       "          [[[9.4817e-01, 2.4802e-02, 4.3124e-01],\n",
       "            [4.1271e-01, 7.6894e-01, 1.2535e-01],\n",
       "            [2.6430e-01, 3.4948e-01, 8.8728e-01]],\n",
       "\n",
       "           [[7.8392e-01, 1.5106e-02, 2.3183e-01],\n",
       "            [1.8588e-01, 2.3909e-01, 3.8213e-01],\n",
       "            [2.4169e-01, 9.9495e-01, 3.6229e-01]],\n",
       "\n",
       "           [[1.1052e-01, 9.4238e-01, 9.0461e-01],\n",
       "            [3.6251e-01, 3.4939e-01, 6.6127e-01],\n",
       "            [8.6501e-01, 6.5311e-01, 3.2930e-01]]],\n",
       "\n",
       "\n",
       "          [[[3.9504e-01, 3.5154e-01, 9.5998e-01],\n",
       "            [2.0092e-02, 6.6833e-01, 1.5624e-01],\n",
       "            [9.2537e-01, 8.7177e-01, 1.2744e-01]],\n",
       "\n",
       "           [[7.2305e-01, 2.9256e-01, 1.9880e-01],\n",
       "            [2.4597e-01, 8.4218e-01, 4.9784e-02],\n",
       "            [5.9919e-01, 4.2288e-01, 3.7657e-01]],\n",
       "\n",
       "           [[4.9741e-01, 4.2732e-01, 2.9618e-01],\n",
       "            [5.4368e-01, 5.5515e-01, 1.1016e-01],\n",
       "            [8.2659e-01, 9.5570e-01, 8.8009e-01]]]],\n",
       "\n",
       "\n",
       "\n",
       "         [[[[6.3133e-01, 5.7600e-01, 8.2587e-01],\n",
       "            [1.4275e-01, 6.8721e-01, 3.1342e-01],\n",
       "            [6.2368e-01, 1.1914e-01, 6.9826e-01]],\n",
       "\n",
       "           [[7.4073e-01, 7.4078e-01, 2.7136e-01],\n",
       "            [3.0682e-01, 6.8662e-01, 6.8706e-01],\n",
       "            [2.1664e-01, 6.7829e-01, 5.5649e-01]],\n",
       "\n",
       "           [[1.1006e-01, 3.0678e-01, 9.3655e-02],\n",
       "            [8.1202e-01, 4.7173e-01, 1.9275e-01],\n",
       "            [1.1817e-01, 9.1096e-01, 6.3464e-01]]],\n",
       "\n",
       "\n",
       "          [[[4.5852e-01, 8.2624e-01, 4.2479e-01],\n",
       "            [9.9991e-01, 6.9491e-01, 7.4435e-01],\n",
       "            [4.0091e-01, 3.0207e-01, 1.1837e-01]],\n",
       "\n",
       "           [[4.7160e-01, 6.1905e-01, 1.9044e-01],\n",
       "            [4.8429e-01, 8.4435e-01, 9.7062e-01],\n",
       "            [4.3417e-01, 9.1387e-02, 5.5924e-01]],\n",
       "\n",
       "           [[5.0591e-01, 1.5908e-01, 5.3447e-01],\n",
       "            [7.7493e-01, 1.2982e-01, 1.4260e-01],\n",
       "            [1.4999e-02, 2.4229e-01, 9.3871e-01]]],\n",
       "\n",
       "\n",
       "          [[[2.0427e-01, 1.7866e-01, 5.3018e-01],\n",
       "            [3.7506e-01, 1.3559e-01, 7.4655e-01],\n",
       "            [9.0141e-01, 1.2356e-01, 9.4190e-01]],\n",
       "\n",
       "           [[8.0688e-01, 5.8379e-02, 8.8637e-01],\n",
       "            [8.6886e-01, 5.5427e-01, 2.5103e-01],\n",
       "            [7.7801e-01, 4.8888e-01, 5.1411e-01]],\n",
       "\n",
       "           [[7.9335e-01, 9.1479e-01, 5.3780e-01],\n",
       "            [9.1381e-01, 6.9702e-01, 6.0006e-01],\n",
       "            [7.4826e-01, 6.1076e-01, 6.7478e-01]]]]]])"
      ]
     },
     "execution_count": 19,
     "metadata": {},
     "output_type": "execute_result"
    }
   ],
   "source": [
    "# Create a random tensor of size (3, 4)\n",
    "random_tensor = torch.rand(size=(3, 3, 3, 3, 3, 3))\n",
    "\n",
    "random_tensor.dtype\n",
    "random_tensor.shape\n",
    "random_tensor.ndim\n",
    "\n",
    "random_tensor"
   ]
  },
  {
   "cell_type": "code",
   "execution_count": 22,
   "id": "062b2d72",
   "metadata": {},
   "outputs": [
    {
     "data": {
      "text/plain": [
       "(torch.float32,\n",
       " torch.Size([3, 3, 3, 3]),\n",
       " 4,\n",
       " tensor([[[[0.2694, 0.2003, 0.8308],\n",
       "           [0.5307, 0.0222, 0.7595],\n",
       "           [0.8940, 0.2017, 0.2350]],\n",
       " \n",
       "          [[0.8042, 0.4462, 0.6251],\n",
       "           [0.0080, 0.6218, 0.1381],\n",
       "           [0.7781, 0.1313, 0.2529]],\n",
       " \n",
       "          [[0.9586, 0.2025, 0.0901],\n",
       "           [0.8432, 0.3056, 0.8726],\n",
       "           [0.8632, 0.5738, 0.3926]]],\n",
       " \n",
       " \n",
       "         [[[0.3222, 0.9165, 0.6165],\n",
       "           [0.5712, 0.9368, 0.6675],\n",
       "           [0.0282, 0.5293, 0.1024]],\n",
       " \n",
       "          [[0.4321, 0.6237, 0.7726],\n",
       "           [0.0188, 0.5168, 0.9985],\n",
       "           [0.4029, 0.9620, 0.8171]],\n",
       " \n",
       "          [[0.9877, 0.2111, 0.1057],\n",
       "           [0.4778, 0.0346, 0.7009],\n",
       "           [0.7755, 0.0059, 0.2881]]],\n",
       " \n",
       " \n",
       "         [[[0.2673, 0.1360, 0.8265],\n",
       "           [0.7468, 0.5877, 0.3397],\n",
       "           [0.0614, 0.9982, 0.9902]],\n",
       " \n",
       "          [[0.8504, 0.1487, 0.9236],\n",
       "           [0.6379, 0.6017, 0.4801],\n",
       "           [0.3908, 0.0694, 0.7813]],\n",
       " \n",
       "          [[0.7607, 0.3227, 0.9782],\n",
       "           [0.7322, 0.0535, 0.4278],\n",
       "           [0.5920, 0.1465, 0.8121]]]]))"
      ]
     },
     "execution_count": 22,
     "metadata": {},
     "output_type": "execute_result"
    }
   ],
   "source": [
    "# Create a random tensor of 4dim:\n",
    "random_tensor_4d = torch.rand(size=(3, 3, 3, 3))\n",
    "random_tensor_4d.dtype, random_tensor.shape, random_tensor.ndim, random_tensor"
   ]
  },
  {
   "cell_type": "code",
   "execution_count": 24,
   "id": "fdc8aa43",
   "metadata": {},
   "outputs": [
    {
     "data": {
      "text/plain": [
       "torch.Size([224, 224, 3])"
      ]
     },
     "execution_count": 24,
     "metadata": {},
     "output_type": "execute_result"
    },
    {
     "data": {
      "text/plain": [
       "3"
      ]
     },
     "execution_count": 24,
     "metadata": {},
     "output_type": "execute_result"
    }
   ],
   "source": [
    "# Create a random tensor of size (224, 224, 3)\n",
    "random_image_size_tensor = torch.rand(size=(224, 224, 3))\n",
    "random_image_size_tensor.shape\n",
    "random_image_size_tensor.ndim"
   ]
  },
  {
   "cell_type": "code",
   "execution_count": 26,
   "id": "65e9ebee",
   "metadata": {},
   "outputs": [
    {
     "data": {
      "text/plain": [
       "torch.Size([224, 224, 3])"
      ]
     },
     "execution_count": 26,
     "metadata": {},
     "output_type": "execute_result"
    }
   ],
   "source": [
    "# In torch, '.size()' essentially does the same thing as '.shape' ; \n",
    "random_image_size_tensor.size()"
   ]
  },
  {
   "cell_type": "code",
   "execution_count": 27,
   "id": "048a7413",
   "metadata": {},
   "outputs": [
    {
     "data": {
      "text/plain": [
       "torch.float32"
      ]
     },
     "execution_count": 27,
     "metadata": {},
     "output_type": "execute_result"
    },
    {
     "data": {
      "text/plain": [
       "torch.Size([3, 4])"
      ]
     },
     "execution_count": 27,
     "metadata": {},
     "output_type": "execute_result"
    },
    {
     "data": {
      "text/plain": [
       "2"
      ]
     },
     "execution_count": 27,
     "metadata": {},
     "output_type": "execute_result"
    },
    {
     "data": {
      "text/plain": [
       "tensor([[0., 0., 0., 0.],\n",
       "        [0., 0., 0., 0.],\n",
       "        [0., 0., 0., 0.]])"
      ]
     },
     "execution_count": 27,
     "metadata": {},
     "output_type": "execute_result"
    }
   ],
   "source": [
    "# Create a tensor of all zeros\n",
    "zeros = torch.zeros(size=(3, 4))\n",
    "zeros.dtype\n",
    "zeros.size()\n",
    "zeros.ndim\n",
    "zeros"
   ]
  },
  {
   "cell_type": "code",
   "execution_count": 28,
   "id": "4c9d42ac",
   "metadata": {},
   "outputs": [
    {
     "data": {
      "text/plain": [
       "torch.float32"
      ]
     },
     "execution_count": 28,
     "metadata": {},
     "output_type": "execute_result"
    },
    {
     "data": {
      "text/plain": [
       "torch.Size([3, 3, 3])"
      ]
     },
     "execution_count": 28,
     "metadata": {},
     "output_type": "execute_result"
    },
    {
     "data": {
      "text/plain": [
       "3"
      ]
     },
     "execution_count": 28,
     "metadata": {},
     "output_type": "execute_result"
    },
    {
     "data": {
      "text/plain": [
       "tensor([[[1., 1., 1.],\n",
       "         [1., 1., 1.],\n",
       "         [1., 1., 1.]],\n",
       "\n",
       "        [[1., 1., 1.],\n",
       "         [1., 1., 1.],\n",
       "         [1., 1., 1.]],\n",
       "\n",
       "        [[1., 1., 1.],\n",
       "         [1., 1., 1.],\n",
       "         [1., 1., 1.]]])"
      ]
     },
     "execution_count": 28,
     "metadata": {},
     "output_type": "execute_result"
    }
   ],
   "source": [
    "# Create a tensor of all ones\n",
    "ones = torch.ones(size=(3, 3, 3))\n",
    "ones.dtype\n",
    "ones.size()\n",
    "ones.ndim\n",
    "ones"
   ]
  },
  {
   "cell_type": "code",
   "execution_count": null,
   "id": "0a779759",
   "metadata": {},
   "outputs": [],
   "source": [
    "\"\"\"\n",
    "Creating a range and tensors like\n",
    "Sometimes you might want a range of numbers, such as 1 to 10 or 0 to 100.\n",
    "\n",
    "You can use torch.arange(start, end, step) to do so.\n",
    "\n",
    "Where:\n",
    "\n",
    "start = start of range (e.g. 0)\n",
    "end = end of range (e.g. 10)\n",
    "step = how many steps in between each value (e.g. 1)\n",
    "Note: In Python, you can use range() to create a range. However in PyTorch, torch.range() is deprecated and may show an error in the future.\n",
    "\"\"\""
   ]
  },
  {
   "cell_type": "code",
   "execution_count": 30,
   "id": "5f2c421d",
   "metadata": {},
   "outputs": [
    {
     "data": {
      "text/plain": [
       "torch.Size([10])"
      ]
     },
     "execution_count": 30,
     "metadata": {},
     "output_type": "execute_result"
    },
    {
     "data": {
      "text/plain": [
       "1"
      ]
     },
     "execution_count": 30,
     "metadata": {},
     "output_type": "execute_result"
    },
    {
     "data": {
      "text/plain": [
       "tensor([0, 1, 2, 3, 4, 5, 6, 7, 8, 9])"
      ]
     },
     "execution_count": 30,
     "metadata": {},
     "output_type": "execute_result"
    }
   ],
   "source": [
    "# Use torch.arange(), torch.range() is deprecated \n",
    "zero_to_ten_deprecated = torch.range(0, 10) # Note: this may return an error in the future\n",
    "\n",
    "# Create a range of values 0 to 10\n",
    "zero_to_ten = torch.arange(start=0, end=10, step=1)\n",
    "zero_to_ten.shape\n",
    "zero_to_ten.ndim\n",
    "zero_to_ten"
   ]
  },
  {
   "cell_type": "code",
   "execution_count": 31,
   "id": "f0399fe9",
   "metadata": {},
   "outputs": [
    {
     "data": {
      "text/plain": [
       "torch.Size([10])"
      ]
     },
     "execution_count": 31,
     "metadata": {},
     "output_type": "execute_result"
    },
    {
     "data": {
      "text/plain": [
       "1"
      ]
     },
     "execution_count": 31,
     "metadata": {},
     "output_type": "execute_result"
    },
    {
     "data": {
      "text/plain": [
       "tensor([0, 0, 0, 0, 0, 0, 0, 0, 0, 0])"
      ]
     },
     "execution_count": 31,
     "metadata": {},
     "output_type": "execute_result"
    }
   ],
   "source": [
    "# Can also create a tensor of zeros similar to another tensor\n",
    "ten_zeros = torch.zeros_like(input=zero_to_ten) # will have same shape\n",
    "ten_zeros.shape\n",
    "ten_zeros.ndim\n",
    "ten_zeros"
   ]
  },
  {
   "cell_type": "markdown",
   "id": "17fa59ad",
   "metadata": {},
   "source": [
    "### Tensor datatypes\n",
    "\n",
    "There are many different [tensor datatypes available in PyTorch](https://pytorch.org/docs/stable/tensors.html#data-types).\n",
    "\n",
    "Some are specific for CPU and some are better for GPU.\n",
    "\n",
    "Getting to know which one can take some time.\n",
    "\n",
    "Generally if you see `torch.cuda` anywhere, the tensor is being used for GPU (since Nvidia GPUs use a computing toolkit called CUDA).\n",
    "\n",
    "The most common type (and generally the default) is `torch.float32` or `torch.float`.\n",
    "\n",
    "This is referred to as \"32-bit floating point\".\n",
    "\n",
    "But there's also 16-bit floating point (`torch.float16` or `torch.half`) and 64-bit floating point (`torch.float64` or `torch.double`).\n",
    "\n",
    "And to confuse things even more there's also 8-bit, 16-bit, 32-bit and 64-bit integers.\n",
    "\n",
    "Plus more!\n",
    "\n",
    "> **Note:** An integer is a flat round number like `7` whereas a float has a decimal `7.0`.\n",
    "\n",
    "The reason for all of these is to do with **precision in computing**.\n",
    "\n",
    "Precision is the amount of detail used to describe a number.\n",
    "\n",
    "The higher the precision value (8, 16, 32), the more detail and hence data used to express a number.\n",
    "\n",
    "This matters in deep learning and numerical computing because you're making so many operations, the more detail you have to calculate on, the more compute you have to use.\n",
    "\n",
    "So lower precision datatypes are generally faster to compute on but sacrifice some performance on evaluation metrics like accuracy (faster to compute but less accurate).\n",
    "\n",
    "> **Resources:** \n",
    "  * See the [PyTorch documentation for a list of all available tensor datatypes](https://pytorch.org/docs/stable/tensors.html#data-types).\n",
    "  * Read the [Wikipedia page for an overview of what precision in computing](https://en.wikipedia.org/wiki/Precision_(computer_science)) is.\n",
    "\n",
    "Let's see how to create some tensors with specific datatypes. We can do so using the `dtype` parameter."
   ]
  },
  {
   "cell_type": "code",
   "execution_count": 32,
   "id": "dc36ea71",
   "metadata": {},
   "outputs": [
    {
     "data": {
      "text/plain": [
       "(torch.Size([3]), torch.float32, device(type='cpu'))"
      ]
     },
     "execution_count": 32,
     "metadata": {},
     "output_type": "execute_result"
    }
   ],
   "source": [
    "# Default datatype for tensors is float32\n",
    "float_32_tensor = torch.tensor([3.0, 6.0, 9.0],\n",
    "                               dtype=None, # defaults to None, which is torch.float32 or w/e dtype is passed\n",
    "                               device=None, # defaults to None, which uses the default tensor type\n",
    "                               requires_grad=False) # if True, operations performed on the tensor are recorded \n",
    "\n",
    "float_32_tensor.shape, float_32_tensor.dtype, float_32_tensor.device"
   ]
  },
  {
   "cell_type": "code",
   "execution_count": 33,
   "id": "547f518e",
   "metadata": {},
   "outputs": [
    {
     "data": {
      "text/plain": [
       "torch.float16"
      ]
     },
     "execution_count": 33,
     "metadata": {},
     "output_type": "execute_result"
    }
   ],
   "source": [
    "float_16_tensor = torch.tensor([3.0, 6.0, 9.0],\n",
    "                               dtype=torch.float16) # torch.half would also work\n",
    "\n",
    "float_16_tensor.dtype"
   ]
  },
  {
   "cell_type": "code",
   "execution_count": 34,
   "id": "634263b6",
   "metadata": {},
   "outputs": [
    {
     "data": {
      "text/plain": [
       "torch.float16"
      ]
     },
     "execution_count": 34,
     "metadata": {},
     "output_type": "execute_result"
    }
   ],
   "source": [
    "torchHalf_tensor = torch.tensor([3.0, 6.0, 9.0],\n",
    "                               dtype=torch.half) # torch.half would also work\n",
    "\n",
    "torchHalf_tensor.dtype"
   ]
  },
  {
   "cell_type": "code",
   "execution_count": 36,
   "id": "ae809877",
   "metadata": {},
   "outputs": [
    {
     "data": {
      "text/plain": [
       "torch.float64"
      ]
     },
     "execution_count": 36,
     "metadata": {},
     "output_type": "execute_result"
    },
    {
     "data": {
      "text/plain": [
       "torch.float64"
      ]
     },
     "execution_count": 36,
     "metadata": {},
     "output_type": "execute_result"
    }
   ],
   "source": [
    "float_64_tensor = torch.tensor([3.0, 6.0, 9.0],\n",
    "                               dtype=torch.float64) # torch.half would also work\n",
    "\n",
    "float_64_tensor.dtype\n",
    "\n",
    "double_tensor = torch.tensor([3.0, 6.0, 9.0],\n",
    "                               dtype=torch.double) # torch.half would also work\n",
    "\n",
    "double_tensor.dtype"
   ]
  },
  {
   "cell_type": "code",
   "execution_count": null,
   "id": "8f61a973",
   "metadata": {},
   "outputs": [],
   "source": []
  },
  {
   "cell_type": "code",
   "execution_count": null,
   "id": "181d6fa2",
   "metadata": {},
   "outputs": [],
   "source": []
  }
 ],
 "metadata": {
  "kernelspec": {
   "display_name": "Python 3 (ipykernel)",
   "language": "python",
   "name": "python3"
  },
  "language_info": {
   "codemirror_mode": {
    "name": "ipython",
    "version": 3
   },
   "file_extension": ".py",
   "mimetype": "text/x-python",
   "name": "python",
   "nbconvert_exporter": "python",
   "pygments_lexer": "ipython3",
   "version": "3.11.5"
  }
 },
 "nbformat": 4,
 "nbformat_minor": 5
}
