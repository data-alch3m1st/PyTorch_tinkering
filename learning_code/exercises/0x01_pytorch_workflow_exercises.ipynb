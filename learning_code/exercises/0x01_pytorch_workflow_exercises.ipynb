{
 "cells": [
  {
   "cell_type": "markdown",
   "metadata": {
    "colab_type": "text",
    "id": "view-in-github"
   },
   "source": [
    "<a href=\"https://colab.research.google.com/github/mrdbourke/pytorch-deep-learning/blob/main/extras/exercises/01_pytorch_workflow_exercises.ipynb\" target=\"_parent\"><img src=\"https://colab.research.google.com/assets/colab-badge.svg\" alt=\"Open In Colab\"/></a>"
   ]
  },
  {
   "cell_type": "markdown",
   "metadata": {
    "id": "N8LsPXZti9Sw"
   },
   "source": [
    "# 01. PyTorch Workflow Exercise Template\n",
    "\n",
    "The following is a template for the PyTorch workflow exercises.\n",
    "\n",
    "It's only starter code and it's your job to fill in the blanks.\n",
    "\n",
    "Because of the flexibility of PyTorch, there may be more than one way to answer the question.\n",
    "\n",
    "Don't worry about trying to be *right* just try writing code that suffices the question.\n",
    "\n",
    "You can see one form of [solutions on GitHub](https://github.com/mrdbourke/pytorch-deep-learning/tree/main/extras/solutions) (but try the exercises below yourself first!)."
   ]
  },
  {
   "cell_type": "code",
   "execution_count": 2,
   "metadata": {
    "id": "Glu2fM4dkNlx"
   },
   "outputs": [],
   "source": [
    "# Import necessary libraries\n",
    "\n",
    "import pandas as pd\n",
    "import numpy as np\n",
    "import matplotlib.pyplot as plt\n",
    "import seaborn as sns\n",
    "\n",
    "from sklearn.model_selection import train_test_split\n",
    "\n",
    "import torch\n",
    "import torch.nn as nn\n",
    "import torch.optim as optim\n",
    "\n",
    "import warnings\n",
    "warnings.simplefilter('ignore')\n",
    "\n",
    "from IPython.core.interactiveshell import InteractiveShell\n",
    "InteractiveShell.ast_node_interactivity = 'all'"
   ]
  },
  {
   "cell_type": "code",
   "execution_count": 3,
   "metadata": {
    "id": "LqKhXY26m31s"
   },
   "outputs": [
    {
     "name": "stdout",
     "output_type": "stream",
     "text": [
      "mps\n"
     ]
    }
   ],
   "source": [
    "# Setup device-agnostic code\n",
    "\n",
    "if torch.cuda.is_available():\n",
    "    device = \"cuda\" # Use NVIDIA GPU (if available)\n",
    "elif torch.backends.mps.is_available():\n",
    "    device = \"mps\" # Use Apple Silicon GPU (if available)\n",
    "else:\n",
    "    device = \"cpu\" # Default to CPU if no GPU is available\n",
    "    \n",
    "print(device)"
   ]
  },
  {
   "cell_type": "markdown",
   "metadata": {
    "id": "g7HUhxCxjeBx"
   },
   "source": [
    "## 1. Create a straight line dataset using the linear regression formula (`weight * X + bias`).\n",
    "  * Set `weight=0.3` and `bias=0.9` there should be at least 100 datapoints total. \n",
    "  * Split the data into 80% training, 20% testing.\n",
    "  * Plot the training and testing data so it becomes visual.\n",
    "\n",
    "Your output of the below cell should look something like:\n",
    "```\n",
    "Number of X samples: 100\n",
    "Number of y samples: 100\n",
    "First 10 X & y samples:\n",
    "X: tensor([0.0000, 0.0100, 0.0200, 0.0300, 0.0400, 0.0500, 0.0600, 0.0700, 0.0800,\n",
    "        0.0900])\n",
    "y: tensor([0.9000, 0.9030, 0.9060, 0.9090, 0.9120, 0.9150, 0.9180, 0.9210, 0.9240,\n",
    "        0.9270])\n",
    "```\n",
    "\n",
    "Of course the numbers in `X` and `y` may be different but ideally they're created using the linear regression formula."
   ]
  },
  {
   "cell_type": "code",
   "execution_count": 14,
   "metadata": {
    "id": "KbDG5MV7jhvE"
   },
   "outputs": [],
   "source": [
    "# Create the data parameters\n",
    "\n",
    "# # Set constants\n",
    "# weight = 0.3\n",
    "# bias = 0.9\n",
    "# num_samples = 100\n",
    "\n",
    "# # Create X values (evenly spaced between 0 and 1)\n",
    "# X = torch.linspace(0.01, 1, num_samples)\n",
    "\n",
    "# # Make X and y using linear regression feature\n",
    "# y = weight * X + bias\n",
    "\n",
    "# print(f\"Number of X samples: {len(X)}\")\n",
    "# print(f\"Number of y samples: {len(y)}\")\n",
    "# print(f\"First 10 X & y samples:\\nX: {X[:10]}\\ny: {y[:10]}\")"
   ]
  },
  {
   "cell_type": "code",
   "execution_count": 35,
   "metadata": {},
   "outputs": [
    {
     "name": "stdout",
     "output_type": "stream",
     "text": [
      "Number of X samples: 100\n",
      "Number of y samples: 100\n",
      "First 10 X & y samples:\n",
      "X: tensor([[0.0100],\n",
      "        [0.0200],\n",
      "        [0.0300],\n",
      "        [0.0400],\n",
      "        [0.0500],\n",
      "        [0.0600],\n",
      "        [0.0700],\n",
      "        [0.0800],\n",
      "        [0.0900],\n",
      "        [0.1000]])\n",
      "y: tensor([[0.9030],\n",
      "        [0.9060],\n",
      "        [0.9090],\n",
      "        [0.9120],\n",
      "        [0.9150],\n",
      "        [0.9180],\n",
      "        [0.9210],\n",
      "        [0.9240],\n",
      "        [0.9270],\n",
      "        [0.9300]])\n"
     ]
    }
   ],
   "source": [
    "# Set constants\n",
    "weight = 0.3\n",
    "bias = 0.9\n",
    "# num_samples = 100\n",
    "\n",
    "# Create X values (evenly spaced between 0 and 1)\n",
    "X = torch.linspace(0.01, 1, num_samples).unsqueeze(dim=1) # DONT FORGET TO ADD 1 DIM to X!! {unsqueeze!}\n",
    "\n",
    "# Make X and y using linear regression feature\n",
    "y = weight * X + bias\n",
    "\n",
    "print(f\"Number of X samples: {len(X)}\")\n",
    "print(f\"Number of y samples: {len(y)}\")\n",
    "print(f\"First 10 X & y samples:\\nX: {X[:10]}\\ny: {y[:10]}\")"
   ]
  },
  {
   "cell_type": "code",
   "execution_count": 36,
   "metadata": {
    "id": "GlwtT1djkmLw"
   },
   "outputs": [
    {
     "data": {
      "text/plain": [
       "(torch.Size([80, 1]),\n",
       " torch.Size([20, 1]),\n",
       " torch.Size([80, 1]),\n",
       " torch.Size([20, 1]))"
      ]
     },
     "execution_count": 36,
     "metadata": {},
     "output_type": "execute_result"
    }
   ],
   "source": [
    "# Split the data into training and testing\n",
    "\n",
    "X_train, X_test, y_train, y_test = train_test_split(\n",
    "    X, y, test_size=0.2, random_state=42) # ONLY using 42 bc the Instr. does & I want to mirror his results!\n",
    "\n",
    "X_train.shape, X_test.shape, y_train.shape, y_test.shape"
   ]
  },
  {
   "cell_type": "code",
   "execution_count": 37,
   "metadata": {
    "id": "29iQZFNhlYJ-"
   },
   "outputs": [
    {
     "data": {
      "image/png": "[encoded data removed]",
      "text/plain": [
       "<Figure size 800x500 with 1 Axes>"
      ]
     },
     "metadata": {},
     "output_type": "display_data"
    }
   ],
   "source": [
    "# Plot the training and testing data \n",
    "\n",
    "plt.figure(figsize=(8, 5))\n",
    "plt.scatter(X_train, y_train, c=\"blue\", label=\"Training data\")\n",
    "plt.scatter(X_test, y_test, c=\"red\", label=\"Testing data\")\n",
    "plt.title(\"Generated Linear Data\")\n",
    "plt.xlabel(\"X values\")\n",
    "plt.ylabel(\"y values\")\n",
    "plt.legend()\n",
    "plt.show();"
   ]
  },
  {
   "cell_type": "markdown",
   "metadata": {
    "id": "ImZoe3v8jif8"
   },
   "source": [
    "## 2. Build a PyTorch model by subclassing `nn.Module`. \n",
    "  * Inside should be a randomly initialized `nn.Parameter()` with `requires_grad=True`, one for `weights` and one for `bias`. \n",
    "  * Implement the `forward()` method to compute the linear regression function you used to create the dataset in 1. \n",
    "  * Once you've constructed the model, make an instance of it and check its `state_dict()`.\n",
    "  * **Note:** If you'd like to use `nn.Linear()` instead of `nn.Parameter()` you can."
   ]
  },
  {
   "cell_type": "code",
   "execution_count": 21,
   "metadata": {
    "id": "qzd__Y5rjtB8"
   },
   "outputs": [],
   "source": [
    "# Create PyTorch linear regression model by subclassing nn.Module\n",
    "\n",
    "# OPTION 1: Manually code in self.weights & self.bias\n",
    "\n",
    "# class LinearRegression_v0(nn.Module):\n",
    "#     def __init__(self):\n",
    "#         super().__init__()\n",
    "        \n",
    "#         self.weights = nn.Parameter(\n",
    "#             torch.randn(1, dtype=torch.float32)\n",
    "#             , requires_grad=True\n",
    "#         )\n",
    "        \n",
    "#         self.bias = nn.Parameter(\n",
    "#             torch.randn(1, dtype=torch.float32)\n",
    "#             , requires_grad=True\n",
    "#         )\n",
    "        \n",
    "#     def forward(self, x: torch.Tensor) -> torch.Tensor:\n",
    "#         return self.weights * x * self.bias"
   ]
  },
  {
   "cell_type": "code",
   "execution_count": 22,
   "metadata": {},
   "outputs": [
    {
     "data": {
      "text/plain": [
       "<torch._C.Generator at 0x10c3b5a10>"
      ]
     },
     "execution_count": 22,
     "metadata": {},
     "output_type": "execute_result"
    },
    {
     "data": {
      "text/plain": [
       "[Parameter containing:\n",
       " tensor([0.3367], requires_grad=True),\n",
       " Parameter containing:\n",
       " tensor([0.1288], requires_grad=True)]"
      ]
     },
     "execution_count": 22,
     "metadata": {},
     "output_type": "execute_result"
    }
   ],
   "source": [
    "# Instantiate the model and put it to the target device\n",
    "\n",
    "torch.manual_seed(42)\n",
    "\n",
    "model_0 = LinearRegression_v0()\n",
    "list(model_0.parameters())"
   ]
  },
  {
   "cell_type": "code",
   "execution_count": 38,
   "metadata": {},
   "outputs": [],
   "source": [
    "# OPTION 2: use nn.Linear w/ in_features/out_features (seems more straightforward... why not?)\n",
    "\n",
    "# Create PyTorch linear regression model by subclassing nn.Module\n",
    "\n",
    "class LinearRegression_v2(nn.Module):\n",
    "    def __init__(self):\n",
    "        super().__init__()\n",
    "        self.linear_layer = nn.Linear(\n",
    "            in_features=1\n",
    "            , out_features=1\n",
    "        )\n",
    "        \n",
    "    def forward(self, x: torch.Tensor) -> torch.Tensor:\n",
    "        return self.linear_layer(x)"
   ]
  },
  {
   "cell_type": "code",
   "execution_count": 39,
   "metadata": {},
   "outputs": [
    {
     "data": {
      "text/plain": [
       "[Parameter containing:\n",
       " tensor([[0.7645]], requires_grad=True),\n",
       " Parameter containing:\n",
       " tensor([0.8300], requires_grad=True)]"
      ]
     },
     "execution_count": 39,
     "metadata": {},
     "output_type": "execute_result"
    }
   ],
   "source": [
    "torch.manual_seed(42)\n",
    "\n",
    "model_2 = LinearRegression_v2()\n",
    "list(model_2.parameters())"
   ]
  },
  {
   "cell_type": "code",
   "execution_count": 40,
   "metadata": {
    "id": "5LdcDnmOmyQ2"
   },
   "outputs": [
    {
     "data": {
      "text/plain": [
       "[Parameter containing:\n",
       " tensor([[0.7645]], device='mps:0', requires_grad=True),\n",
       " Parameter containing:\n",
       " tensor([0.8300], device='mps:0', requires_grad=True)]"
      ]
     },
     "execution_count": 40,
     "metadata": {},
     "output_type": "execute_result"
    }
   ],
   "source": [
    "# Instantiate the model and put it to the target device \n",
    "\n",
    "model_2.to(device)\n",
    "list(model_2.parameters())"
   ]
  },
  {
   "cell_type": "code",
   "execution_count": 41,
   "metadata": {},
   "outputs": [
    {
     "data": {
      "text/plain": [
       "OrderedDict([('linear_layer.weight', tensor([[0.7645]], device='mps:0')),\n",
       "             ('linear_layer.bias', tensor([0.8300], device='mps:0'))])"
      ]
     },
     "execution_count": 41,
     "metadata": {},
     "output_type": "execute_result"
    }
   ],
   "source": [
    "# model_0.state_dict()\n",
    "\n",
    "model_2.state_dict()"
   ]
  },
  {
   "cell_type": "code",
   "execution_count": 42,
   "metadata": {},
   "outputs": [
    {
     "data": {
      "text/plain": [
       "device(type='mps', index=0)"
      ]
     },
     "execution_count": 42,
     "metadata": {},
     "output_type": "execute_result"
    }
   ],
   "source": [
    "# next(model_0.parameters()).device\n",
    "next(model_2.parameters()).device"
   ]
  },
  {
   "cell_type": "markdown",
   "metadata": {
    "id": "G6nYOrJhjtfu"
   },
   "source": [
    "## 3. Create a loss function and optimizer using `nn.L1Loss()` and `torch.optim.SGD(params, lr)` respectively. \n",
    "  * Set the learning rate of the optimizer to be 0.01 and the parameters to optimize should be the model parameters from the model you created in 2.\n",
    "  * Write a training loop to perform the appropriate training steps for 300 epochs.\n",
    "  * The training loop should test the model on the test dataset every 20 epochs."
   ]
  },
  {
   "cell_type": "code",
   "execution_count": 43,
   "metadata": {
    "id": "ltvoZ-FWjv1j"
   },
   "outputs": [],
   "source": [
    "# Create the loss function and optimizer\n",
    "\n",
    "loss_fn = nn.L1Loss()\n",
    "\n",
    "optimizer = optim.SGD(params=model_2.parameters()\n",
    "                      , lr=0.01\n",
    "                     )"
   ]
  },
  {
   "cell_type": "code",
   "execution_count": 44,
   "metadata": {},
   "outputs": [],
   "source": [
    "# Temporarily suppress duplicate outputs (if you dont do this, the training loop will print EVERY epoch :/)\n",
    "InteractiveShell.ast_node_interactivity = 'last_expr'"
   ]
  },
  {
   "cell_type": "code",
   "execution_count": 45,
   "metadata": {
    "id": "xpE83NvNnkdV"
   },
   "outputs": [
    {
     "name": "stdout",
     "output_type": "stream",
     "text": [
      "Epoch: 0 | Train loss: 0.1792 | Test loss: 0.1490\n",
      "Epoch: 20 | Train loss: 0.0983 | Test loss: 0.0924\n",
      "Epoch: 40 | Train loss: 0.0800 | Test loss: 0.0846\n",
      "Epoch: 60 | Train loss: 0.0701 | Test loss: 0.0760\n",
      "Epoch: 80 | Train loss: 0.0607 | Test loss: 0.0660\n",
      "Epoch: 100 | Train loss: 0.0512 | Test loss: 0.0557\n",
      "Epoch: 120 | Train loss: 0.0418 | Test loss: 0.0454\n",
      "Epoch: 140 | Train loss: 0.0324 | Test loss: 0.0351\n",
      "Epoch: 160 | Train loss: 0.0230 | Test loss: 0.0247\n",
      "Epoch: 180 | Train loss: 0.0136 | Test loss: 0.0144\n",
      "Epoch: 200 | Train loss: 0.0042 | Test loss: 0.0041\n",
      "Epoch: 220 | Train loss: 0.0045 | Test loss: 0.0075\n",
      "Epoch: 240 | Train loss: 0.0045 | Test loss: 0.0075\n",
      "Epoch: 260 | Train loss: 0.0045 | Test loss: 0.0075\n",
      "Epoch: 280 | Train loss: 0.0045 | Test loss: 0.0075\n"
     ]
    }
   ],
   "source": [
    "# Training loop\n",
    "\n",
    "# Set the manual seed AND epochs (for range;)\n",
    "torch.manual_seed(42)\n",
    "epochs = 300\n",
    "\n",
    "# Set up the empties:\n",
    "train_loss_values = []\n",
    "test_loss_values = []\n",
    "epoch_count = []\n",
    "\n",
    "\n",
    "# Send data to target device (GOTTA REMEMBER THIS STEP!!! {whys it not in tha song?!?!?!})\n",
    "\n",
    "X_train = X_train.to(device)\n",
    "X_test = X_test.to(device)\n",
    "y_train = y_train.to(device)\n",
    "y_test = y_test.to(device)\n",
    "\n",
    "# Train model for 300 epochs\n",
    "\n",
    "for epoch in range(epochs):\n",
    "\n",
    "### TRAINING\n",
    "\n",
    "    # 0. Put model in train mode\n",
    "    model_2.train()\n",
    "    \n",
    "    # 1. Forward pass\n",
    "    y_pred = model_2(X_train)\n",
    "    \n",
    "    # 2. Calculate loss\n",
    "    loss = loss_fn(y_pred, y_train) # Remember: w/ PyTorch, y_pred comes first in the params;\n",
    "    \n",
    "    # 3. optimizer zero_grad!\n",
    "    optimizer.zero_grad()\n",
    "    \n",
    "    # 4. Backpropagation (loss.backward!)\n",
    "    loss.backward()\n",
    "    \n",
    "    # 5. optimizer step, (step, step!)\n",
    "    optimizer.step()\n",
    "    \n",
    "\n",
    "### TESTING  \n",
    "\n",
    "    # 0. Put model in evaluation mode and setup inference context \n",
    "    model_2.eval()\n",
    "    \n",
    "    # 1. Forward pass\n",
    "    test_pred = model_2(X_test)\n",
    "    \n",
    "    # 2. calculate the loss\n",
    "    test_loss = loss_fn(test_pred, y_test.type(torch.float32))\n",
    "    \n",
    "    # 3. Perform testing every 20 epochs:\n",
    "    if epoch % 20 == 0:\n",
    "        \n",
    "        # Print out what's happening\n",
    "        print(f\"Epoch: {epoch} | Train loss: {loss:.4f} | Test loss: {test_loss:.4f}\")"
   ]
  },
  {
   "cell_type": "markdown",
   "metadata": {
    "id": "x4j4TM18jwa7"
   },
   "source": [
    "## 4. Make predictions with the trained model on the test data.\n",
    "  * Visualize these predictions against the original training and testing data (**note:** you may need to make sure the predictions are *not* on the GPU if you want to use non-CUDA-enabled libraries such as matplotlib to plot)."
   ]
  },
  {
   "cell_type": "code",
   "execution_count": 48,
   "metadata": {
    "id": "bbMPK5Qjjyx_"
   },
   "outputs": [
    {
     "data": {
      "text/plain": [
       "tensor([[1.1488],\n",
       "        [1.0576],\n",
       "        [1.1093],\n",
       "        [1.0332],\n",
       "        [1.0302],\n",
       "        [1.0150],\n",
       "        [0.9632],\n",
       "        [1.1397],\n",
       "        [0.9267],\n",
       "        [0.8963],\n",
       "        [0.9511],\n",
       "        [0.9876],\n",
       "        [1.1184],\n",
       "        [0.9967],\n",
       "        [1.1701],\n",
       "        [0.9085],\n",
       "        [1.1275],\n",
       "        [1.1306],\n",
       "        [0.9328],\n",
       "        [0.9906]], device='mps:0')"
      ]
     },
     "execution_count": 48,
     "metadata": {},
     "output_type": "execute_result"
    }
   ],
   "source": [
    "# Make predictions with the model\n",
    "\n",
    "model_2.eval()\n",
    "\n",
    "with torch.inference_mode():\n",
    "    y_preds = model_2(X_test)\n",
    "    \n",
    "y_preds"
   ]
  },
  {
   "cell_type": "code",
   "execution_count": 49,
   "metadata": {},
   "outputs": [
    {
     "data": {
      "text/plain": [
       "tensor([[1.1488],\n",
       "        [1.0576],\n",
       "        [1.1093],\n",
       "        [1.0332],\n",
       "        [1.0302],\n",
       "        [1.0150],\n",
       "        [0.9632],\n",
       "        [1.1397],\n",
       "        [0.9267],\n",
       "        [0.8963],\n",
       "        [0.9511],\n",
       "        [0.9876],\n",
       "        [1.1184],\n",
       "        [0.9967],\n",
       "        [1.1701],\n",
       "        [0.9085],\n",
       "        [1.1275],\n",
       "        [1.1306],\n",
       "        [0.9328],\n",
       "        [0.9906]])"
      ]
     },
     "execution_count": 49,
     "metadata": {},
     "output_type": "execute_result"
    }
   ],
   "source": [
    "y_preds.cpu()"
   ]
  },
  {
   "cell_type": "code",
   "execution_count": 53,
   "metadata": {
    "id": "K3BdmQaDpFo8"
   },
   "outputs": [],
   "source": [
    "# Helper function to move tensors to CPU for plotting\n",
    "def to_cpu(tensor: torch.Tensor) -> torch.Tensor:\n",
    "    \"\"\"Move a tensor to CPU if it's not already on CPU.\"\"\"\n",
    "    if tensor.device != torch.device(\"cpu\"):\n",
    "        return tensor.cpu()\n",
    "    return tensor\n",
    "\n",
    "# Plotting function\n",
    "def plot_predictions(X_train, y_train, X_test, y_test, y_preds):\n",
    "    \"\"\"Plot the training data, testing data, and predictions.\"\"\"\n",
    "    # Move all tensors to CPU for plotting\n",
    "    X_train, y_train = to_cpu(X_train), to_cpu(y_train)\n",
    "    X_test, y_test = to_cpu(X_test), to_cpu(y_test)\n",
    "    y_preds = to_cpu(y_preds)\n",
    "    \n",
    "    # Convert tensors to NumPy arrays\n",
    "    X_train, y_train = X_train.numpy(), y_train.numpy()\n",
    "    X_test, y_test = X_test.numpy(), y_test.numpy()\n",
    "    y_preds = y_preds.detach().numpy()  # Detach from computation graph\n",
    "\n",
    "    # Plotting\n",
    "    plt.figure(figsize=(8, 5))\n",
    "    plt.scatter(X_train, y_train, c=\"blue\", label=\"Training data\")\n",
    "    plt.scatter(X_test, y_test, c=\"red\", label=\"Testing data\")\n",
    "    plt.plot(X_test, y_preds, c=\"green\", label=\"Predictions\", linewidth=2)\n",
    "    plt.title(\"Linear Regression Predictions\")\n",
    "    plt.xlabel(\"X values\")\n",
    "    plt.ylabel(\"y values\")\n",
    "    plt.legend()\n",
    "    plt.show()"
   ]
  },
  {
   "cell_type": "code",
   "execution_count": 54,
   "metadata": {},
   "outputs": [
    {
     "data": {
      "image/png": "[encoded data removed]",
      "text/plain": [
       "<Figure size 800x500 with 1 Axes>"
      ]
     },
     "metadata": {},
     "output_type": "display_data"
    }
   ],
   "source": [
    "# After training the model, make predictions and plot\n",
    "with torch.inference_mode():  # Use inference mode for evaluation\n",
    "    y_preds = model_2(X_test)  # Predict on test data\n",
    "    plot_predictions(X_train, y_train, X_test, y_test, y_preds);"
   ]
  },
  {
   "cell_type": "markdown",
   "metadata": {
    "id": "s2OnlMWKjzX8"
   },
   "source": [
    "## 5. Save your trained model's `state_dict()` to file.\n",
    "  * Create a new instance of your model class you made in 2. and load in the `state_dict()` you just saved to it.\n",
    "  * Perform predictions on your test data with the loaded model and confirm they match the original model predictions from 4."
   ]
  },
  {
   "cell_type": "code",
   "execution_count": null,
   "metadata": {
    "id": "hgxhgD14qr-i"
   },
   "outputs": [],
   "source": [
    "from pathlib import Path\n",
    "\n",
    "# 1. Create models directory \n",
    "\n",
    "\n",
    "# 2. Create model save path \n",
    "\n",
    "# 3. Save the model state dict\n"
   ]
  },
  {
   "cell_type": "code",
   "execution_count": null,
   "metadata": {
    "id": "P9vTgiLRrJ7T"
   },
   "outputs": [],
   "source": [
    "# Create new instance of model and load saved state dict (make sure to put it on the target device)\n"
   ]
  },
  {
   "cell_type": "code",
   "execution_count": null,
   "metadata": {
    "id": "8UGX3VebrVtI"
   },
   "outputs": [],
   "source": [
    "# Make predictions with loaded model and compare them to the previous\n"
   ]
  }
 ],
 "metadata": {
  "accelerator": "GPU",
  "colab": {
   "authorship_tag": "ABX9TyNYzatJtFkfUqqdiR6rYwVL",
   "collapsed_sections": [],
   "include_colab_link": true,
   "name": "01_pytorch_workflow_exercises.ipynb",
   "provenance": []
  },
  "kernelspec": {
   "display_name": "Python 3 (ipykernel)",
   "language": "python",
   "name": "python3"
  },
  "language_info": {
   "codemirror_mode": {
    "name": "ipython",
    "version": 3
   },
   "file_extension": ".py",
   "mimetype": "text/x-python",
   "name": "python",
   "nbconvert_exporter": "python",
   "pygments_lexer": "ipython3",
   "version": "3.11.5"
  }
 },
 "nbformat": 4,
 "nbformat_minor": 1
}
