{
 "cells": [
  {
   "cell_type": "markdown",
   "metadata": {
    "colab_type": "text",
    "id": "view-in-github"
   },
   "source": [
    "<a href=\"https://colab.research.google.com/github/mrdbourke/pytorch-deep-learning/blob/main/extras/exercises/02_pytorch_classification_exercises.ipynb\" target=\"_parent\"><img src=\"https://colab.research.google.com/assets/colab-badge.svg\" alt=\"Open In Colab\"/></a>"
   ]
  },
  {
   "cell_type": "markdown",
   "metadata": {
    "id": "ZKJFt7YxH8yl"
   },
   "source": [
    "# 02. PyTorch Classification Exercises\n",
    "\n",
    "The following is a template for 02. PyTorch Classification exercises.\n",
    "\n",
    "It's only starter code and it's your job to fill in the blanks.\n",
    "\n",
    "Because of the flexibility of PyTorch, there may be more than one way to answer the question.\n",
    "\n",
    "Don't worry about trying to be *right* just try writing code that suffices the question.\n",
    "\n",
    "## Resources\n",
    "* These exercises are based on [notebook 02 of the learn PyTorch course](https://www.learnpytorch.io/02_pytorch_classification/).\n",
    "* You can see one form of [solutions on GitHub](https://github.com/mrdbourke/pytorch-deep-learning/tree/main/extras/solutions) (but try the exercises below yourself first!)."
   ]
  },
  {
   "cell_type": "code",
   "execution_count": 1,
   "metadata": {},
   "outputs": [],
   "source": [
    "import torch\n",
    "import torch.nn as nn\n",
    "import torch.optim as optim\n",
    "from sklearn.datasets import make_circles\n",
    "\n",
    "from sklearn.metrics import (\n",
    "    confusion_matrix\n",
    "    , classification_report\n",
    "    , ConfusionMatrixDisplay\n",
    ")\n",
    "\n",
    "from sklearn.model_selection import train_test_split\n",
    "from sklearn.preprocessing import StandardScaler\n",
    "\n",
    "import pandas as pd\n",
    "import numpy as np\n",
    "from tqdm import tqdm"
   ]
  },
  {
   "cell_type": "code",
   "execution_count": 2,
   "metadata": {
    "id": "CSrUPgapO0tf"
   },
   "outputs": [],
   "source": [
    "# Import torch\n",
    "import torch\n",
    "\n",
    "# Setup device agnostic code\n",
    "# MacoOS device agnostic code:\n",
    "\n",
    "if torch.cuda.is_available():\n",
    "    device = \"cuda\" # Use NVIDIA GPU (if available)\n",
    "elif torch.backends.mps.is_available():\n",
    "    device = \"mps\" # Use Apple Silicon GPU (if available)\n",
    "else:\n",
    "    device = \"cpu\" # Default to CPU if no GPU is available\n",
    "    \n",
    "device\n",
    "\n",
    "# Setup random seed\n",
    "RANDOM_SEED = 42"
   ]
  },
  {
   "cell_type": "markdown",
   "metadata": {
    "id": "pH7jIZ2SPFee"
   },
   "source": [
    "## 1. Make a binary classification dataset with Scikit-Learn's [`make_moons()`](https://scikit-learn.org/stable/modules/generated/sklearn.datasets.make_moons.html) function.\n",
    "  * For consistency, the dataset should have 1000 samples and a `random_state=42`.\n",
    "  * Turn the data into PyTorch tensors. \n",
    "  * Split the data into training and test sets using `train_test_split` with 80% training and 20% testing."
   ]
  },
  {
   "cell_type": "code",
   "execution_count": 54,
   "metadata": {
    "id": "5t4VhPV1PX1X"
   },
   "outputs": [],
   "source": [
    "# Create a dataset with Scikit-Learn's make_moons()\n",
    "from sklearn.datasets import make_moons\n",
    "\n",
    "X, y = make_moons(\n",
    "    n_samples=1000\n",
    "    , noise=0.1\n",
    "    , random_state=42\n",
    ")"
   ]
  },
  {
   "cell_type": "code",
   "execution_count": 34,
   "metadata": {
    "id": "SUeHZ3-3P9C7"
   },
   "outputs": [
    {
     "data": {
      "text/html": [
       "<div>\n",
       "<style scoped>\n",
       "    .dataframe tbody tr th:only-of-type {\n",
       "        vertical-align: middle;\n",
       "    }\n",
       "\n",
       "    .dataframe tbody tr th {\n",
       "        vertical-align: top;\n",
       "    }\n",
       "\n",
       "    .dataframe thead th {\n",
       "        text-align: right;\n",
       "    }\n",
       "</style>\n",
       "<table border=\"1\" class=\"dataframe\">\n",
       "  <thead>\n",
       "    <tr style=\"text-align: right;\">\n",
       "      <th></th>\n",
       "      <th>X0</th>\n",
       "      <th>X1</th>\n",
       "      <th>y</th>\n",
       "    </tr>\n",
       "  </thead>\n",
       "  <tbody>\n",
       "    <tr>\n",
       "      <th>0</th>\n",
       "      <td>-0.051470</td>\n",
       "      <td>0.444199</td>\n",
       "      <td>1</td>\n",
       "    </tr>\n",
       "    <tr>\n",
       "      <th>1</th>\n",
       "      <td>1.032017</td>\n",
       "      <td>-0.419741</td>\n",
       "      <td>1</td>\n",
       "    </tr>\n",
       "    <tr>\n",
       "      <th>2</th>\n",
       "      <td>0.867892</td>\n",
       "      <td>-0.254827</td>\n",
       "      <td>1</td>\n",
       "    </tr>\n",
       "    <tr>\n",
       "      <th>3</th>\n",
       "      <td>0.288851</td>\n",
       "      <td>-0.448669</td>\n",
       "      <td>1</td>\n",
       "    </tr>\n",
       "    <tr>\n",
       "      <th>4</th>\n",
       "      <td>-0.833439</td>\n",
       "      <td>0.535057</td>\n",
       "      <td>0</td>\n",
       "    </tr>\n",
       "  </tbody>\n",
       "</table>\n",
       "</div>"
      ],
      "text/plain": [
       "         X0        X1  y\n",
       "0 -0.051470  0.444199  1\n",
       "1  1.032017 -0.419741  1\n",
       "2  0.867892 -0.254827  1\n",
       "3  0.288851 -0.448669  1\n",
       "4 -0.833439  0.535057  0"
      ]
     },
     "execution_count": 34,
     "metadata": {},
     "output_type": "execute_result"
    }
   ],
   "source": [
    "# Turn data into a DataFrame\n",
    "import pandas as pd\n",
    "df = pd.DataFrame(\n",
    "    {\"X0\": X[:, 0]\n",
    "     , \"X1\": X[:, 1]\n",
    "     , \"y\": y}\n",
    ")\n",
    "\n",
    "df.head()"
   ]
  },
  {
   "cell_type": "code",
   "execution_count": 55,
   "metadata": {
    "id": "owrkPSFvQPFI"
   },
   "outputs": [
    {
     "data": {
      "image/png": "[encoded data removed]",
      "text/plain": [
       "<Figure size 640x480 with 1 Axes>"
      ]
     },
     "metadata": {},
     "output_type": "display_data"
    }
   ],
   "source": [
    "# Visualize the data on a scatter plot\n",
    "import matplotlib.pyplot as plt\n",
    "\n",
    "# plt.scatter(df['X0'], df['X1'])\n",
    "plt.scatter(\n",
    "    df['X0'], df['X1']\n",
    "    , c=y, cmap=plt.cm.RdYlBu\n",
    "); "
   ]
  },
  {
   "cell_type": "code",
   "execution_count": 56,
   "metadata": {
    "id": "bDhyHn9fR4dq"
   },
   "outputs": [
    {
     "data": {
      "text/plain": [
       "(torch.Size([800, 2]),\n",
       " torch.Size([800]),\n",
       " torch.Size([200, 2]),\n",
       " torch.Size([200]))"
      ]
     },
     "execution_count": 56,
     "metadata": {},
     "output_type": "execute_result"
    }
   ],
   "source": [
    "\n",
    "# Split the data into train and test sets (80% train, 20% test)\n",
    "from sklearn.model_selection import train_test_split\n",
    "\n",
    "X_train, X_test, y_train, y_test = train_test_split(\n",
    "    X, y, test_size=0.2\n",
    "    , random_state=42\n",
    ")\n",
    "\n",
    "# Turn data into tensors of dtype float\n",
    "X_train_tensor = torch.tensor(X_train, dtype=torch.float32).to(device)\n",
    "y_train_tensor = torch.tensor(y_train, dtype=torch.float32).to(device)\n",
    "X_test_tensor = torch.tensor(X_test, dtype=torch.float32).to(device)\n",
    "y_test_tensor = torch.tensor(y_test, dtype=torch.float32).to(device)\n",
    "\n",
    "X_train_tensor.shape, y_train_tensor.shape, X_test_tensor.shape, y_test_tensor.shape"
   ]
  },
  {
   "cell_type": "markdown",
   "metadata": {
    "id": "cMIjxZdzQfPz"
   },
   "source": [
    "## 2. Build a model by subclassing `nn.Module` that incorporates non-linear activation functions and is capable of fitting the data you created in 1.\n",
    "  * Feel free to use any combination of PyTorch layers (linear and non-linear) you want."
   ]
  },
  {
   "cell_type": "code",
   "execution_count": 57,
   "metadata": {
    "id": "hwtyvm34Ri6Q"
   },
   "outputs": [
    {
     "data": {
      "text/plain": [
       "MoonModelV0(\n",
       "  (fc1): Linear(in_features=2, out_features=16, bias=True)\n",
       "  (fc2): Linear(in_features=16, out_features=16, bias=True)\n",
       "  (fc3): Linear(in_features=16, out_features=1, bias=True)\n",
       ")"
      ]
     },
     "execution_count": 57,
     "metadata": {},
     "output_type": "execute_result"
    }
   ],
   "source": [
    "import torch\n",
    "from torch import nn\n",
    "\n",
    "# Inherit from nn.Module to make a model capable of fitting the mooon data\n",
    "class MoonModelV0(nn.Module):\n",
    "    ## Your code here ##\n",
    "    def __init__(self):\n",
    "        super(MoonModelV0, self).__init__()\n",
    "        self.fc1 = nn.Linear(2, 16)\n",
    "        self.fc2 = nn.Linear(16, 16)\n",
    "        self.fc3 = nn.Linear(16, 1)\n",
    "\n",
    "    def forward(self, x):\n",
    "        x = torch.relu(self.fc1(x))  # Apply ReLU activation to the first hidden layer\n",
    "        x = torch.relu(self.fc2(x))  # Apply ReLU activation to the second hidden layer\n",
    "        x = self.fc3(x)              # Output layer (logits)\n",
    "        return x\n",
    "\n",
    "# Instantiate the model\n",
    "## Your code here ##\n",
    "\n",
    "model = MoonModelV0().to(device)\n",
    "model"
   ]
  },
  {
   "cell_type": "markdown",
   "metadata": {
    "id": "DSj97RwyVeFE"
   },
   "source": [
    "## 3. Setup a binary classification compatible loss function and optimizer to use when training the model built in 2."
   ]
  },
  {
   "cell_type": "code",
   "execution_count": 58,
   "metadata": {
    "id": "whSGw5qgVvxU"
   },
   "outputs": [],
   "source": [
    "# Setup loss function\n",
    "loss_fn = nn.BCEWithLogitsLoss()\n",
    "\n",
    "# Setup optimizer to optimize model's parameters\n",
    "optimizer = optim.Adam(\n",
    "    params=model.parameters()\n",
    "    , lr=0.01\n",
    ")"
   ]
  },
  {
   "cell_type": "markdown",
   "metadata": {
    "id": "nvk4PfNTWUAt"
   },
   "source": [
    "## 4. Create a training and testing loop to fit the model you created in 2 to the data you created in 1.\n",
    "  * Do a forward pass of the model to see what's coming out in the form of logits, prediction probabilities and labels.\n",
    "  * To measure model accuray, you can create your own accuracy function or use the accuracy function in [TorchMetrics](https://torchmetrics.readthedocs.io/en/latest/).\n",
    "  * Train the model for long enough for it to reach over 96% accuracy.\n",
    "  * The training loop should output progress every 10 epochs of the model's training and test set loss and accuracy."
   ]
  },
  {
   "cell_type": "code",
   "execution_count": 24,
   "metadata": {},
   "outputs": [
    {
     "data": {
      "text/plain": [
       "(torch.Size([200, 2]), torch.Size([800]))"
      ]
     },
     "execution_count": 24,
     "metadata": {},
     "output_type": "execute_result"
    }
   ],
   "source": [
    "X_test_tensor.shape, y_train_tensor.shape"
   ]
  },
  {
   "cell_type": "code",
   "execution_count": 29,
   "metadata": {},
   "outputs": [
    {
     "data": {
      "text/plain": [
       "(torch.Size([800, 2]), torch.Size([800, 1]), torch.Size([800]))"
      ]
     },
     "execution_count": 29,
     "metadata": {},
     "output_type": "execute_result"
    }
   ],
   "source": [
    "X_train_tensor.shape, y_pred.shape, y_train_tensor.shape"
   ]
  },
  {
   "cell_type": "code",
   "execution_count": null,
   "metadata": {},
   "outputs": [],
   "source": [
    "torch.manual_seed(42)\n",
    "epochs = 1000\n",
    "\n",
    "X_train_tensor, y_train_tensor = X_train_tensor.to(device), y_train_tensor.to(device)\n",
    "X_test_tensor, y_test_tensor = X_test_tensor.to(device), y_test_tensor.to(device)\n",
    "\n",
    "# Send data to the device\n",
    "X_train_tensor, y_train_tensor = X_train_tensor.to(device), y_train_tensor.to(device)\n",
    "X_test_tensor, y_test_tensor = X_test_tensor.to(device), y_test_tensor.to(device)\n",
    "\n",
    "# Loop through the data\n",
    "for epoch in range(epochs):\n",
    "  ### Training\n",
    "  model_0.train()\n",
    "\n",
    "  # 1. Forward pass\n",
    "  y_logits = model_0(X_train).squeeze()\n",
    "  # print(y_logits[:5]) # model raw outputs are \"logits\"\n",
    "  y_pred_probs = torch.sigmoid(y_logits)\n",
    "  y_pred = torch.round(y_pred_probs)\n",
    "\n",
    "  # 2. Calculaute the loss\n",
    "  loss = loss_fn(y_logits, y_train) # loss = compare model raw outputs to desired model outputs\n",
    "  acc = acc_fn(y_pred, y_train.int()) # the accuracy function needs to compare pred labels (not logits) with actual labels\n",
    "\n",
    "  # 3. Zero the gradients\n",
    "  optimizer.zero_grad()\n",
    "\n",
    "  # 4. Loss backward (perform backpropagation) - \n",
    "  loss.backward()\n",
    "\n",
    "  # 5. Step the optimizer (gradient descent\n",
    "  optimizer.step()\n",
    "\n",
    "  ### Testing\n",
    "  model_0.eval() \n",
    "  with torch.inference_mode():\n",
    "    # 1. Forward pass\n",
    "    test_logits = model_0(X_test).squeeze()\n",
    "    test_pred = torch.round(torch.sigmoid(test_logits))\n",
    "    # 2. Caculate the loss/acc\n",
    "    test_loss = loss_fn(test_logits, y_test)\n",
    "    test_acc = acc_fn(test_pred, y_test.int()) \n",
    "\n",
    "  # Print out what's happening\n",
    "  if epoch % 100 == 0:\n",
    "    print(f\"Epoch: {epoch} | Loss: {loss:.2f} Acc: {acc:.2f} | Test loss: {test_loss:.2f} Test acc: {test_acc:.2f}\")"
   ]
  },
  {
   "cell_type": "code",
   "execution_count": null,
   "metadata": {},
   "outputs": [],
   "source": []
  },
  {
   "cell_type": "code",
   "execution_count": null,
   "metadata": {},
   "outputs": [],
   "source": []
  },
  {
   "cell_type": "code",
   "execution_count": null,
   "metadata": {},
   "outputs": [],
   "source": []
  },
  {
   "cell_type": "code",
   "execution_count": 59,
   "metadata": {},
   "outputs": [
    {
     "name": "stdout",
     "output_type": "stream",
     "text": [
      "Epoch [10/100], Train Loss: 0.5372, Train Accuracy: 400.00%, Test Loss: 0.5335, Test Accuracy: 100.00%\n",
      "Epoch [20/100], Train Loss: 0.3712, Train Accuracy: 400.00%, Test Loss: 0.3767, Test Accuracy: 100.00%\n",
      "Epoch [30/100], Train Loss: 0.2901, Train Accuracy: 400.00%, Test Loss: 0.2888, Test Accuracy: 100.00%\n",
      "Epoch [40/100], Train Loss: 0.2495, Train Accuracy: 400.00%, Test Loss: 0.2437, Test Accuracy: 100.00%\n",
      "Epoch [50/100], Train Loss: 0.2311, Train Accuracy: 400.00%, Test Loss: 0.2227, Test Accuracy: 100.00%\n",
      "Epoch [60/100], Train Loss: 0.2133, Train Accuracy: 400.00%, Test Loss: 0.2057, Test Accuracy: 100.00%\n",
      "Epoch [70/100], Train Loss: 0.1925, Train Accuracy: 400.00%, Test Loss: 0.1874, Test Accuracy: 100.00%\n",
      "Epoch [80/100], Train Loss: 0.1671, Train Accuracy: 400.00%, Test Loss: 0.1612, Test Accuracy: 100.00%\n",
      "Epoch [90/100], Train Loss: 0.1345, Train Accuracy: 400.00%, Test Loss: 0.1265, Test Accuracy: 100.00%\n",
      "Epoch [100/100], Train Loss: 0.0979, Train Accuracy: 400.00%, Test Loss: 0.0892, Test Accuracy: 100.00%\n"
     ]
    }
   ],
   "source": [
    "# Training loop\n",
    "torch.manual_seed(42)\n",
    "epochs = 100\n",
    "\n",
    "X_train_tensor, y_train_tensor = X_train_tensor.to(device), y_train_tensor.to(device)\n",
    "X_test_tensor, y_test_tensor = X_test_tensor.to(device), y_test_tensor.to(device)\n",
    "\n",
    "for epoch in range(epochs):    \n",
    "    model.train()\n",
    "    y_pred = model(X_train_tensor)\n",
    "    loss = loss_fn(y_pred, y_train_tensor.unsqueeze(dim=1))\n",
    "    optimizer.zero_grad()\n",
    "    loss.backward()\n",
    "    optimizer.step()\n",
    "\n",
    "    if (epoch + 1) % 10 == 0:\n",
    "        model.eval()\n",
    "        with torch.no_grad():\n",
    "            # Training accuracy\n",
    "            y_train_pred_classes = (torch.sigmoid(y_pred) > 0.5).int()\n",
    "            train_correct = (y_train_pred_classes == y_train_tensor).sum().item()\n",
    "            train_accuracy = (train_correct / y_train_tensor.size(0))\n",
    "\n",
    "            # Test loss and accuracy\n",
    "            y_test_pred = model(X_test_tensor)\n",
    "            test_loss = loss_fn(y_test_pred, y_test_tensor.unsqueeze(dim=1)).item()\n",
    "            y_test_pred_classes = (torch.sigmoid(y_test_pred) > 0.5).int()\n",
    "            test_correct = (y_test_pred_classes == y_test_tensor).sum().item()\n",
    "            test_accuracy = (test_correct / y_test_tensor.size(0))\n",
    "\n",
    "        print(f\"Epoch [{epoch + 1}/{epochs}], \"\n",
    "              f\"Train Loss: {loss.item():.4f}, Train Accuracy: {train_accuracy:.2f}%, \"\n",
    "              f\"Test Loss: {test_loss:.4f}, Test Accuracy: {test_accuracy:.2f}%\")"
   ]
  },
  {
   "cell_type": "code",
   "execution_count": 51,
   "metadata": {},
   "outputs": [
    {
     "name": "stdout",
     "output_type": "stream",
     "text": [
      "Epoch [10/100], Train Loss: 0.5372, Train Accuracy: 50.00%, Test Loss: 0.5335, Test Accuracy: 50.00%\n",
      "Epoch [20/100], Train Loss: 0.3712, Train Accuracy: 50.00%, Test Loss: 0.3767, Test Accuracy: 50.00%\n",
      "Epoch [30/100], Train Loss: 0.2901, Train Accuracy: 50.00%, Test Loss: 0.2888, Test Accuracy: 50.00%\n",
      "Epoch [40/100], Train Loss: 0.2495, Train Accuracy: 50.00%, Test Loss: 0.2437, Test Accuracy: 50.00%\n",
      "Epoch [50/100], Train Loss: 0.2311, Train Accuracy: 50.00%, Test Loss: 0.2227, Test Accuracy: 50.00%\n",
      "Epoch [60/100], Train Loss: 0.2133, Train Accuracy: 50.00%, Test Loss: 0.2057, Test Accuracy: 50.00%\n",
      "Epoch [70/100], Train Loss: 0.1925, Train Accuracy: 50.00%, Test Loss: 0.1874, Test Accuracy: 50.00%\n",
      "Epoch [80/100], Train Loss: 0.1671, Train Accuracy: 50.00%, Test Loss: 0.1612, Test Accuracy: 50.00%\n",
      "Epoch [90/100], Train Loss: 0.1345, Train Accuracy: 50.00%, Test Loss: 0.1265, Test Accuracy: 50.00%\n",
      "Epoch [100/100], Train Loss: 0.0979, Train Accuracy: 50.00%, Test Loss: 0.0892, Test Accuracy: 50.00%\n"
     ]
    }
   ],
   "source": [
    "# Fit the model\n",
    "torch.manual_seed(42)\n",
    "epochs = 100\n",
    "\n",
    "# Put all data on target device\n",
    "X_train_tensor, y_train_tensor = X_train_tensor.to(device), y_train_tensor.to(device)\n",
    "X_test_tensor, y_test_tensor = X_test_tensor.to(device), y_test_tensor.to(device)\n",
    "\n",
    "for epoch in range(epochs):    \n",
    "    model.train()\n",
    "            \n",
    "    # Forward pass: compute the predictions\n",
    "    y_pred = model(X_train_tensor)\n",
    "\n",
    "    # Compute the training loss\n",
    "    loss = loss_fn(y_pred, y_train_tensor.unsqueeze(dim=1))\n",
    "\n",
    "    # Zero the gradients from the previous step\n",
    "    optimizer.zero_grad()\n",
    "\n",
    "    # Backward pass: compute the gradients\n",
    "    loss.backward()\n",
    "\n",
    "    # Update the model parameters\n",
    "    optimizer.step()\n",
    "\n",
    "    # ===== Evaluation every 10 epochs =====\n",
    "    if (epoch + 1) % 10 == 0:\n",
    "        # Calculate training accuracy\n",
    "        model.eval()  # Set the model to evaluation mode\n",
    "        with torch.no_grad():\n",
    "            # Training accuracy\n",
    "            y_train_pred_classes = torch.argmax(y_pred, dim=1)  # Get predicted class labels\n",
    "            train_correct = (y_train_pred_classes == y_train_tensor).sum().item()\n",
    "            train_accuracy = (train_correct / y_train_tensor.size(0)) * 100\n",
    "\n",
    "            # Test loss and accuracy\n",
    "            y_test_pred = model(X_test_tensor)  # Forward pass on test data\n",
    "            test_loss = loss_fn(y_test_pred, y_test_tensor.unsqueeze(dim=1)).item()  # Test loss\n",
    "            y_test_pred_classes = torch.argmax(y_test_pred, dim=1)  # Predicted class labels\n",
    "            test_correct = (y_test_pred_classes == y_test_tensor).sum().item()\n",
    "            test_accuracy = (test_correct / y_test_tensor.size(0)) * 100\n",
    "\n",
    "        # Print training and test results\n",
    "        print(f\"Epoch [{epoch + 1}/{epochs}], \"\n",
    "              f\"Train Loss: {loss.item():.4f}, Train Accuracy: {train_accuracy:.2f}%, \"\n",
    "              f\"Test Loss: {test_loss:.4f}, Test Accuracy: {test_accuracy:.2f}%\")"
   ]
  },
  {
   "cell_type": "code",
   "execution_count": 8,
   "metadata": {
    "colab": {
     "base_uri": "https://localhost:8080/"
    },
    "id": "AgnFdlamd2-D",
    "outputId": "627d8c33-071e-4925-f18b-5d5ba6126729"
   },
   "outputs": [
    {
     "name": "stdout",
     "output_type": "stream",
     "text": [
      "Logits:\n",
      "Pred probs:\n",
      "Pred labels:\n"
     ]
    }
   ],
   "source": [
    "# What's coming out of our model?\n",
    "\n",
    "# Fit the model\n",
    "torch.manual_seed(42)\n",
    "epochs = 100\n",
    "\n",
    "# Put all data on target device\n",
    "X_train_tensor, y_train_tensor = X_train_tensor.to(device), y_train_tensor.to(device)\n",
    "X_test_tensor, y_test_tensor = X_test_tensor.to(device), y_test_tensor.to(device)\n",
    "\n",
    "for epoch in range(epochs):    \n",
    "    model.train():\n",
    "        y_logits = model(X_train_tensor).squeeze()\n",
    "        y_pred = torch.round(torch.sigmoid(y_logits)\n",
    "                             \n",
    "                             \n",
    "\n",
    "# logits (raw outputs of model)\n",
    "print(\"Logits:\")\n",
    "## Your code here ##\n",
    "\n",
    "# Prediction probabilities\n",
    "print(\"Pred probs:\")\n",
    "## Your code here ##\n",
    "\n",
    "# Prediction labels\n",
    "print(\"Pred labels:\")\n",
    "## Your code here ##"
   ]
  },
  {
   "cell_type": "code",
   "execution_count": 9,
   "metadata": {
    "id": "rUSDNHB4euoJ"
   },
   "outputs": [],
   "source": [
    "# Let's calculuate the accuracy using accuracy from TorchMetrics\n",
    "!pip -q install torchmetrics # Colab doesn't come with torchmetrics\n",
    "from torchmetrics import Accuracy\n",
    "\n",
    "## TODO: Uncomment this code to use the Accuracy function\n",
    "# acc_fn = Accuracy(task=\"multiclass\", num_classes=2).to(device) # send accuracy function to device\n",
    "# acc_fn"
   ]
  },
  {
   "cell_type": "code",
   "execution_count": 10,
   "metadata": {
    "id": "SHBY3h7XXnxt"
   },
   "outputs": [],
   "source": [
    "## TODO: Uncomment this to set the seed\n",
    "# torch.manual_seed(RANDOM_SEED)\n",
    "\n",
    "# Setup epochs\n",
    "\n",
    "\n",
    "# Send data to the device\n",
    "\n",
    "\n",
    "# Loop through the data\n",
    "# for epoch in range(epochs):\n",
    "  ### Training\n",
    "  \n",
    "\n",
    "  # 1. Forward pass (logits output)\n",
    "  \n",
    "  # Turn logits into prediction probabilities\n",
    "  \n",
    "\n",
    "  # Turn prediction probabilities into prediction labels\n",
    "  \n",
    "\n",
    "  # 2. Calculaute the loss\n",
    "  # loss = loss_fn(y_logits, y_train) # loss = compare model raw outputs to desired model outputs\n",
    "\n",
    "  # Calculate the accuracy\n",
    "  # acc = acc_fn(y_pred, y_train.int()) # the accuracy function needs to compare pred labels (not logits) with actual labels\n",
    "\n",
    "  # 3. Zero the gradients\n",
    "  \n",
    "\n",
    "  # 4. Loss backward (perform backpropagation) - https://brilliant.org/wiki/backpropagation/#:~:text=Backpropagation%2C%20short%20for%20%22backward%20propagation,to%20the%20neural%20network's%20weights.\n",
    "  \n",
    "  # 5. Step the optimizer (gradient descent) - https://towardsdatascience.com/gradient-descent-algorithm-a-deep-dive-cf04e8115f21#:~:text=Gradient%20descent%20(GD)%20is%20an,e.g.%20in%20a%20linear%20regression) \n",
    "  \n",
    "\n",
    "  ### Testing\n",
    "  # model_0.eval() \n",
    "  # with torch.inference_mode():\n",
    "    # 1. Forward pass (to get the logits)\n",
    "    \n",
    "    # Turn the test logits into prediction labels\n",
    "    \n",
    "\n",
    "    # 2. Caculate the test loss/acc\n",
    "    \n",
    "\n",
    "  # Print out what's happening every 100 epochs\n",
    "  # if epoch % 100 == 0:\n",
    "    "
   ]
  },
  {
   "cell_type": "markdown",
   "metadata": {
    "id": "8Nwihtomj9JO"
   },
   "source": [
    "## 5. Make predictions with your trained model and plot them using the `plot_decision_boundary()` function created in this notebook."
   ]
  },
  {
   "cell_type": "code",
   "execution_count": 11,
   "metadata": {
    "id": "0YRzatb8a1P2"
   },
   "outputs": [],
   "source": [
    "# Plot the model predictions\n",
    "import numpy as np\n",
    "\n",
    "def plot_decision_boundary(model, X, y):\n",
    "  \n",
    "    # Put everything to CPU (works better with NumPy + Matplotlib)\n",
    "    model.to(\"cpu\")\n",
    "    X, y = X.to(\"cpu\"), y.to(\"cpu\")\n",
    "\n",
    "    # Source - https://madewithml.com/courses/foundations/neural-networks/ \n",
    "    # (with modifications)\n",
    "    x_min, x_max = X[:, 0].min() - 0.1, X[:, 0].max() + 0.1\n",
    "    y_min, y_max = X[:, 1].min() - 0.1, X[:, 1].max() + 0.1\n",
    "    xx, yy = np.meshgrid(np.linspace(x_min, x_max, 101), \n",
    "                         np.linspace(y_min, y_max, 101))\n",
    "\n",
    "    # Make features\n",
    "    X_to_pred_on = torch.from_numpy(np.column_stack((xx.ravel(), yy.ravel()))).float()\n",
    "\n",
    "    # Make predictions\n",
    "    model.eval()\n",
    "    with torch.inference_mode():\n",
    "        y_logits = model(X_to_pred_on)\n",
    "\n",
    "    # Test for multi-class or binary and adjust logits to prediction labels\n",
    "    if len(torch.unique(y)) > 2:\n",
    "        y_pred = torch.softmax(y_logits, dim=1).argmax(dim=1) # mutli-class\n",
    "    else: \n",
    "        y_pred = torch.round(torch.sigmoid(y_logits)) # binary\n",
    "    \n",
    "    # Reshape preds and plot\n",
    "    y_pred = y_pred.reshape(xx.shape).detach().numpy()\n",
    "    plt.contourf(xx, yy, y_pred, cmap=plt.cm.RdYlBu, alpha=0.7)\n",
    "    plt.scatter(X[:, 0], X[:, 1], c=y, s=40, cmap=plt.cm.RdYlBu)\n",
    "    plt.xlim(xx.min(), xx.max())\n",
    "    plt.ylim(yy.min(), yy.max())"
   ]
  },
  {
   "cell_type": "code",
   "execution_count": 12,
   "metadata": {
    "id": "PMrcpyirig1d"
   },
   "outputs": [],
   "source": [
    "# Plot decision boundaries for training and test sets\n"
   ]
  },
  {
   "cell_type": "markdown",
   "metadata": {
    "id": "EtMYBvtciiAU"
   },
   "source": [
    "## 6. Replicate the Tanh (hyperbolic tangent) activation function in pure PyTorch.\n",
    "  * Feel free to reference the [ML cheatsheet website](https://ml-cheatsheet.readthedocs.io/en/latest/activation_functions.html#tanh) for the formula."
   ]
  },
  {
   "cell_type": "code",
   "execution_count": 13,
   "metadata": {
    "id": "BlXaWC5TkEUE"
   },
   "outputs": [],
   "source": [
    "# Create a straight line tensor\n"
   ]
  },
  {
   "cell_type": "code",
   "execution_count": 14,
   "metadata": {
    "id": "vZPCcQmIkZjO"
   },
   "outputs": [],
   "source": [
    "# Test torch.tanh() on the tensor and plot it\n"
   ]
  },
  {
   "cell_type": "code",
   "execution_count": 15,
   "metadata": {
    "id": "J-ne__Kjkdc1"
   },
   "outputs": [],
   "source": [
    "# Replicate torch.tanh() and plot it\n"
   ]
  },
  {
   "cell_type": "markdown",
   "metadata": {
    "id": "Lbt1bNcWk5G9"
   },
   "source": [
    "## 7. Create a multi-class dataset using the [spirals data creation function from CS231n](https://cs231n.github.io/neural-networks-case-study/) (see below for the code).\n",
    "  * Split the data into training and test sets (80% train, 20% test) as well as turn it into PyTorch tensors.\n",
    "  * Construct a model capable of fitting the data (you may need a combination of linear and non-linear layers).\n",
    "  * Build a loss function and optimizer capable of handling multi-class data (optional extension: use the Adam optimizer instead of SGD, you may have to experiment with different values of the learning rate to get it working).\n",
    "  * Make a training and testing loop for the multi-class data and train a model on it to reach over 95% testing accuracy (you can use any accuracy measuring function here that you like) - 1000 epochs should be plenty.\n",
    "  * Plot the decision boundaries on the spirals dataset from your model predictions, the `plot_decision_boundary()` function should work for this dataset too."
   ]
  },
  {
   "cell_type": "code",
   "execution_count": 16,
   "metadata": {
    "colab": {
     "base_uri": "https://localhost:8080/",
     "height": 265
    },
    "id": "tU-UNZsKlJls",
    "outputId": "8b7b745a-070d-4ecb-c639-c4ee4d8eae06"
   },
   "outputs": [
    {
     "data": {
      "image/png": "[encoded data removed]",
      "text/plain": [
       "<Figure size 432x288 with 1 Axes>"
      ]
     },
     "metadata": {
      "needs_background": "light"
     },
     "output_type": "display_data"
    }
   ],
   "source": [
    "# Code for creating a spiral dataset from CS231n\n",
    "import numpy as np\n",
    "import matplotlib.pyplot as plt\n",
    "RANDOM_SEED = 42\n",
    "np.random.seed(RANDOM_SEED)\n",
    "N = 100 # number of points per class\n",
    "D = 2 # dimensionality\n",
    "K = 3 # number of classes\n",
    "X = np.zeros((N*K,D)) # data matrix (each row = single example)\n",
    "y = np.zeros(N*K, dtype='uint8') # class labels\n",
    "for j in range(K):\n",
    "  ix = range(N*j,N*(j+1))\n",
    "  r = np.linspace(0.0,1,N) # radius\n",
    "  t = np.linspace(j*4,(j+1)*4,N) + np.random.randn(N)*0.2 # theta\n",
    "  X[ix] = np.c_[r*np.sin(t), r*np.cos(t)]\n",
    "  y[ix] = j\n",
    "# lets visualize the data\n",
    "plt.scatter(X[:, 0], X[:, 1], c=y, s=40, cmap=plt.cm.RdYlBu)\n",
    "plt.show()"
   ]
  },
  {
   "cell_type": "code",
   "execution_count": 17,
   "metadata": {
    "id": "OWVrmkEyl0VP"
   },
   "outputs": [],
   "source": [
    "# Turn data into tensors\n",
    "import torch\n",
    "X = torch.from_numpy(X).type(torch.float) # features as float32\n",
    "y = torch.from_numpy(y).type(torch.LongTensor) # labels need to be of type long\n",
    "\n",
    "# Create train and test splits\n",
    "from sklearn.model_selection import train_test_split\n"
   ]
  },
  {
   "cell_type": "code",
   "execution_count": 18,
   "metadata": {
    "id": "a-v-7f0op0tG"
   },
   "outputs": [],
   "source": [
    "# Let's calculuate the accuracy for when we fit our model\n",
    "!pip -q install torchmetrics # colab doesn't come with torchmetrics\n",
    "from torchmetrics import Accuracy\n",
    "\n",
    "## TODO: uncomment the two lines below to send the accuracy function to the device\n",
    "# acc_fn = Accuracy(task=\"multiclass\", num_classes=4).to(device)\n",
    "# acc_fn"
   ]
  },
  {
   "cell_type": "code",
   "execution_count": 19,
   "metadata": {
    "id": "DB3u3ldumapf"
   },
   "outputs": [],
   "source": [
    "# Prepare device agnostic code\n",
    "# device = \"cuda\" if torch.cuda.is_available() else \"cpu\"\n",
    "\n",
    "# Create model by subclassing nn.Module\n",
    "\n",
    "\n",
    "\n",
    "# Instantiate model and send it to device\n"
   ]
  },
  {
   "cell_type": "code",
   "execution_count": 20,
   "metadata": {
    "colab": {
     "base_uri": "https://localhost:8080/"
    },
    "id": "QE7XWSSunMTS",
    "outputId": "00b31909-87c9-41e3-9dbb-fb4c4bd3aabd"
   },
   "outputs": [
    {
     "name": "stdout",
     "output_type": "stream",
     "text": [
      "Logits:\n",
      "Pred probs:\n",
      "Pred labels:\n"
     ]
    }
   ],
   "source": [
    "# Setup data to be device agnostic\n",
    "\n",
    "\n",
    "# Print out first 10 untrained model outputs (forward pass)\n",
    "print(\"Logits:\")\n",
    "## Your code here ##\n",
    "\n",
    "print(\"Pred probs:\")\n",
    "## Your code here ##\n",
    "\n",
    "print(\"Pred labels:\")\n",
    "## Your code here ##"
   ]
  },
  {
   "cell_type": "code",
   "execution_count": 21,
   "metadata": {
    "id": "54EqLRKLo0AW"
   },
   "outputs": [],
   "source": [
    "# Setup loss function and optimizer\n",
    "# loss_fn =\n",
    "# optimizer = "
   ]
  },
  {
   "cell_type": "code",
   "execution_count": 22,
   "metadata": {
    "id": "vIlExkUHnmxi"
   },
   "outputs": [],
   "source": [
    "# Build a training loop for the model\n",
    "\n",
    "# Loop over data\n",
    "\n",
    "\n",
    "  ## Training\n",
    "  \n",
    "  # 1. Forward pass\n",
    "  \n",
    "\n",
    "  # 2. Calculate the loss\n",
    "  \n",
    "  \n",
    "  # 3. Optimizer zero grad\n",
    "  \n",
    "\n",
    "  # 4. Loss backward\n",
    "  \n",
    "\n",
    "  # 5. Optimizer step\n",
    "  \n",
    "\n",
    "  ## Testing\n",
    "  \n",
    "\n",
    "    # 1. Forward pass\n",
    "    \n",
    "    # 2. Caculate loss and acc\n",
    "    \n",
    "  # Print out what's happening every 100 epochs\n",
    "  "
   ]
  },
  {
   "cell_type": "code",
   "execution_count": 23,
   "metadata": {
    "id": "JrwVRbaE0keT"
   },
   "outputs": [],
   "source": [
    "# Plot decision boundaries for training and test sets\n"
   ]
  }
 ],
 "metadata": {
  "accelerator": "GPU",
  "colab": {
   "authorship_tag": "ABX9TyNloicnciRwCXd2bJo6F2iS",
   "collapsed_sections": [],
   "include_colab_link": true,
   "name": "02_pytorch_classification_exercises.ipynb",
   "provenance": []
  },
  "kernelspec": {
   "display_name": "Python 3 (ipykernel)",
   "language": "python",
   "name": "python3"
  },
  "language_info": {
   "codemirror_mode": {
    "name": "ipython",
    "version": 3
   },
   "file_extension": ".py",
   "mimetype": "text/x-python",
   "name": "python",
   "nbconvert_exporter": "python",
   "pygments_lexer": "ipython3",
   "version": "3.11.5"
  }
 },
 "nbformat": 4,
 "nbformat_minor": 1
}
