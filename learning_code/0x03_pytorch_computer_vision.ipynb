{
 "cells": [
  {
   "cell_type": "code",
   "execution_count": 1,
   "id": "e8d7b3b7",
   "metadata": {},
   "outputs": [
    {
     "name": "stdout",
     "output_type": "stream",
     "text": [
      "PyTorch version: 2.2.2\n",
      "torchvision version: 0.17.2\n"
     ]
    }
   ],
   "source": [
    "# Import PyTorch\n",
    "import torch\n",
    "from torch import nn\n",
    "\n",
    "# Import torchvision \n",
    "import torchvision\n",
    "from torchvision import datasets\n",
    "from torchvision.transforms import ToTensor\n",
    "\n",
    "# Import matplotlib for visualization\n",
    "import matplotlib.pyplot as plt\n",
    "\n",
    "# Check versions\n",
    "# Note: your PyTorch version shouldn't be lower than 1.10.0 and torchvision version shouldn't be lower than 0.11\n",
    "print(f\"PyTorch version: {torch.__version__}\\ntorchvision version: {torchvision.__version__}\")"
   ]
  },
  {
   "cell_type": "code",
   "execution_count": 2,
   "id": "6567adda",
   "metadata": {},
   "outputs": [],
   "source": [
    "from IPython.core.interactiveshell import InteractiveShell\n",
    "InteractiveShell.ast_node_interactivity = 'all'"
   ]
  },
  {
   "cell_type": "code",
   "execution_count": 4,
   "id": "5de216f7",
   "metadata": {},
   "outputs": [
    {
     "data": {
      "text/plain": [
       "'mps'"
      ]
     },
     "execution_count": 4,
     "metadata": {},
     "output_type": "execute_result"
    }
   ],
   "source": [
    "# MacoOS device agnostic code:\n",
    "\n",
    "if torch.cuda.is_available():\n",
    "    device = \"cuda\" # Use NVIDIA GPU (if available)\n",
    "elif torch.backends.mps.is_available():\n",
    "    device = \"mps\" # Use Apple Silicon GPU (if available)\n",
    "else:\n",
    "    device = \"cpu\" # Default to CPU if no GPU is available\n",
    "    \n",
    "device"
   ]
  },
  {
   "cell_type": "code",
   "execution_count": 3,
   "id": "bd5e7c0d",
   "metadata": {},
   "outputs": [
    {
     "name": "stdout",
     "output_type": "stream",
     "text": [
      "Downloading http://fashion-mnist.s3-website.eu-central-1.amazonaws.com/train-images-idx3-ubyte.gz\n",
      "Downloading http://fashion-mnist.s3-website.eu-central-1.amazonaws.com/train-images-idx3-ubyte.gz to data/FashionMNIST/raw/train-images-idx3-ubyte.gz\n"
     ]
    },
    {
     "name": "stderr",
     "output_type": "stream",
     "text": [
      "100%|█████████████████████████| 26421880/26421880 [00:01<00:00, 14770032.08it/s]\n"
     ]
    },
    {
     "name": "stdout",
     "output_type": "stream",
     "text": [
      "Extracting data/FashionMNIST/raw/train-images-idx3-ubyte.gz to data/FashionMNIST/raw\n",
      "\n",
      "Downloading http://fashion-mnist.s3-website.eu-central-1.amazonaws.com/train-labels-idx1-ubyte.gz\n",
      "Downloading http://fashion-mnist.s3-website.eu-central-1.amazonaws.com/train-labels-idx1-ubyte.gz to data/FashionMNIST/raw/train-labels-idx1-ubyte.gz\n"
     ]
    },
    {
     "name": "stderr",
     "output_type": "stream",
     "text": [
      "100%|█████████████████████████████████| 29515/29515 [00:00<00:00, 197465.83it/s]\n"
     ]
    },
    {
     "name": "stdout",
     "output_type": "stream",
     "text": [
      "Extracting data/FashionMNIST/raw/train-labels-idx1-ubyte.gz to data/FashionMNIST/raw\n",
      "\n",
      "Downloading http://fashion-mnist.s3-website.eu-central-1.amazonaws.com/t10k-images-idx3-ubyte.gz\n",
      "Downloading http://fashion-mnist.s3-website.eu-central-1.amazonaws.com/t10k-images-idx3-ubyte.gz to data/FashionMNIST/raw/t10k-images-idx3-ubyte.gz\n"
     ]
    },
    {
     "name": "stderr",
     "output_type": "stream",
     "text": [
      "100%|████████████████████████████| 4422102/4422102 [00:01<00:00, 4367163.44it/s]\n"
     ]
    },
    {
     "name": "stdout",
     "output_type": "stream",
     "text": [
      "Extracting data/FashionMNIST/raw/t10k-images-idx3-ubyte.gz to data/FashionMNIST/raw\n",
      "\n",
      "Downloading http://fashion-mnist.s3-website.eu-central-1.amazonaws.com/t10k-labels-idx1-ubyte.gz\n",
      "Downloading http://fashion-mnist.s3-website.eu-central-1.amazonaws.com/t10k-labels-idx1-ubyte.gz to data/FashionMNIST/raw/t10k-labels-idx1-ubyte.gz\n"
     ]
    },
    {
     "name": "stderr",
     "output_type": "stream",
     "text": [
      "100%|█████████████████████████████████| 5148/5148 [00:00<00:00, 11754097.44it/s]"
     ]
    },
    {
     "name": "stdout",
     "output_type": "stream",
     "text": [
      "Extracting data/FashionMNIST/raw/t10k-labels-idx1-ubyte.gz to data/FashionMNIST/raw\n",
      "\n"
     ]
    },
    {
     "name": "stderr",
     "output_type": "stream",
     "text": [
      "\n"
     ]
    }
   ],
   "source": [
    "# Setup training data\n",
    "train_data = datasets.FashionMNIST(\n",
    "    root=\"data\" # where to download data to?\n",
    "    , train=True # get training data\n",
    "    , download=True # download data if it doesn't exist on disk\n",
    "    , transform=ToTensor() # images come as PIL format, we want to turn into Torch tensors\n",
    "    , target_transform=None # you can transform labels as well\n",
    ")\n",
    "\n",
    "# Setup testing data\n",
    "test_data = datasets.FashionMNIST(\n",
    "    root=\"data\"\n",
    "    , train=False # get test data\n",
    "    , download=True\n",
    "    , transform=ToTensor()\n",
    ")"
   ]
  },
  {
   "cell_type": "code",
   "execution_count": 5,
   "id": "ce9204a0",
   "metadata": {},
   "outputs": [
    {
     "data": {
      "text/plain": [
       "(tensor([[[0.0000, 0.0000, 0.0000, 0.0000, 0.0000, 0.0000, 0.0000, 0.0000,\n",
       "           0.0000, 0.0000, 0.0000, 0.0000, 0.0000, 0.0000, 0.0000, 0.0000,\n",
       "           0.0000, 0.0000, 0.0000, 0.0000, 0.0000, 0.0000, 0.0000, 0.0000,\n",
       "           0.0000, 0.0000, 0.0000, 0.0000],\n",
       "          [0.0000, 0.0000, 0.0000, 0.0000, 0.0000, 0.0000, 0.0000, 0.0000,\n",
       "           0.0000, 0.0000, 0.0000, 0.0000, 0.0000, 0.0000, 0.0000, 0.0000,\n",
       "           0.0000, 0.0000, 0.0000, 0.0000, 0.0000, 0.0000, 0.0000, 0.0000,\n",
       "           0.0000, 0.0000, 0.0000, 0.0000],\n",
       "          [0.0000, 0.0000, 0.0000, 0.0000, 0.0000, 0.0000, 0.0000, 0.0000,\n",
       "           0.0000, 0.0000, 0.0000, 0.0000, 0.0000, 0.0000, 0.0000, 0.0000,\n",
       "           0.0000, 0.0000, 0.0000, 0.0000, 0.0000, 0.0000, 0.0000, 0.0000,\n",
       "           0.0000, 0.0000, 0.0000, 0.0000],\n",
       "          [0.0000, 0.0000, 0.0000, 0.0000, 0.0000, 0.0000, 0.0000, 0.0000,\n",
       "           0.0000, 0.0000, 0.0000, 0.0000, 0.0039, 0.0000, 0.0000, 0.0510,\n",
       "           0.2863, 0.0000, 0.0000, 0.0039, 0.0157, 0.0000, 0.0000, 0.0000,\n",
       "           0.0000, 0.0039, 0.0039, 0.0000],\n",
       "          [0.0000, 0.0000, 0.0000, 0.0000, 0.0000, 0.0000, 0.0000, 0.0000,\n",
       "           0.0000, 0.0000, 0.0000, 0.0000, 0.0118, 0.0000, 0.1412, 0.5333,\n",
       "           0.4980, 0.2431, 0.2118, 0.0000, 0.0000, 0.0000, 0.0039, 0.0118,\n",
       "           0.0157, 0.0000, 0.0000, 0.0118],\n",
       "          [0.0000, 0.0000, 0.0000, 0.0000, 0.0000, 0.0000, 0.0000, 0.0000,\n",
       "           0.0000, 0.0000, 0.0000, 0.0000, 0.0235, 0.0000, 0.4000, 0.8000,\n",
       "           0.6902, 0.5255, 0.5647, 0.4824, 0.0902, 0.0000, 0.0000, 0.0000,\n",
       "           0.0000, 0.0471, 0.0392, 0.0000],\n",
       "          [0.0000, 0.0000, 0.0000, 0.0000, 0.0000, 0.0000, 0.0000, 0.0000,\n",
       "           0.0000, 0.0000, 0.0000, 0.0000, 0.0000, 0.0000, 0.6078, 0.9255,\n",
       "           0.8118, 0.6980, 0.4196, 0.6118, 0.6314, 0.4275, 0.2510, 0.0902,\n",
       "           0.3020, 0.5098, 0.2824, 0.0588],\n",
       "          [0.0000, 0.0000, 0.0000, 0.0000, 0.0000, 0.0000, 0.0000, 0.0000,\n",
       "           0.0000, 0.0000, 0.0000, 0.0039, 0.0000, 0.2706, 0.8118, 0.8745,\n",
       "           0.8549, 0.8471, 0.8471, 0.6392, 0.4980, 0.4745, 0.4784, 0.5725,\n",
       "           0.5529, 0.3451, 0.6745, 0.2588],\n",
       "          [0.0000, 0.0000, 0.0000, 0.0000, 0.0000, 0.0000, 0.0000, 0.0000,\n",
       "           0.0000, 0.0039, 0.0039, 0.0039, 0.0000, 0.7843, 0.9098, 0.9098,\n",
       "           0.9137, 0.8980, 0.8745, 0.8745, 0.8431, 0.8353, 0.6431, 0.4980,\n",
       "           0.4824, 0.7686, 0.8980, 0.0000],\n",
       "          [0.0000, 0.0000, 0.0000, 0.0000, 0.0000, 0.0000, 0.0000, 0.0000,\n",
       "           0.0000, 0.0000, 0.0000, 0.0000, 0.0000, 0.7176, 0.8824, 0.8471,\n",
       "           0.8745, 0.8941, 0.9216, 0.8902, 0.8784, 0.8706, 0.8784, 0.8667,\n",
       "           0.8745, 0.9608, 0.6784, 0.0000],\n",
       "          [0.0000, 0.0000, 0.0000, 0.0000, 0.0000, 0.0000, 0.0000, 0.0000,\n",
       "           0.0000, 0.0000, 0.0000, 0.0000, 0.0000, 0.7569, 0.8941, 0.8549,\n",
       "           0.8353, 0.7765, 0.7059, 0.8314, 0.8235, 0.8275, 0.8353, 0.8745,\n",
       "           0.8627, 0.9529, 0.7922, 0.0000],\n",
       "          [0.0000, 0.0000, 0.0000, 0.0000, 0.0000, 0.0000, 0.0000, 0.0000,\n",
       "           0.0000, 0.0039, 0.0118, 0.0000, 0.0471, 0.8588, 0.8627, 0.8314,\n",
       "           0.8549, 0.7529, 0.6627, 0.8902, 0.8157, 0.8549, 0.8784, 0.8314,\n",
       "           0.8863, 0.7725, 0.8196, 0.2039],\n",
       "          [0.0000, 0.0000, 0.0000, 0.0000, 0.0000, 0.0000, 0.0000, 0.0000,\n",
       "           0.0000, 0.0000, 0.0235, 0.0000, 0.3882, 0.9569, 0.8706, 0.8627,\n",
       "           0.8549, 0.7961, 0.7765, 0.8667, 0.8431, 0.8353, 0.8706, 0.8627,\n",
       "           0.9608, 0.4667, 0.6549, 0.2196],\n",
       "          [0.0000, 0.0000, 0.0000, 0.0000, 0.0000, 0.0000, 0.0000, 0.0000,\n",
       "           0.0000, 0.0157, 0.0000, 0.0000, 0.2157, 0.9255, 0.8941, 0.9020,\n",
       "           0.8941, 0.9412, 0.9098, 0.8353, 0.8549, 0.8745, 0.9176, 0.8510,\n",
       "           0.8510, 0.8196, 0.3608, 0.0000],\n",
       "          [0.0000, 0.0000, 0.0039, 0.0157, 0.0235, 0.0275, 0.0078, 0.0000,\n",
       "           0.0000, 0.0000, 0.0000, 0.0000, 0.9294, 0.8863, 0.8510, 0.8745,\n",
       "           0.8706, 0.8588, 0.8706, 0.8667, 0.8471, 0.8745, 0.8980, 0.8431,\n",
       "           0.8549, 1.0000, 0.3020, 0.0000],\n",
       "          [0.0000, 0.0118, 0.0000, 0.0000, 0.0000, 0.0000, 0.0000, 0.0000,\n",
       "           0.0000, 0.2431, 0.5686, 0.8000, 0.8941, 0.8118, 0.8353, 0.8667,\n",
       "           0.8549, 0.8157, 0.8275, 0.8549, 0.8784, 0.8745, 0.8588, 0.8431,\n",
       "           0.8784, 0.9569, 0.6235, 0.0000],\n",
       "          [0.0000, 0.0000, 0.0000, 0.0000, 0.0706, 0.1725, 0.3216, 0.4196,\n",
       "           0.7412, 0.8941, 0.8627, 0.8706, 0.8510, 0.8863, 0.7843, 0.8039,\n",
       "           0.8275, 0.9020, 0.8784, 0.9176, 0.6902, 0.7373, 0.9804, 0.9725,\n",
       "           0.9137, 0.9333, 0.8431, 0.0000],\n",
       "          [0.0000, 0.2235, 0.7333, 0.8157, 0.8784, 0.8667, 0.8784, 0.8157,\n",
       "           0.8000, 0.8392, 0.8157, 0.8196, 0.7843, 0.6235, 0.9608, 0.7569,\n",
       "           0.8078, 0.8745, 1.0000, 1.0000, 0.8667, 0.9176, 0.8667, 0.8275,\n",
       "           0.8627, 0.9098, 0.9647, 0.0000],\n",
       "          [0.0118, 0.7922, 0.8941, 0.8784, 0.8667, 0.8275, 0.8275, 0.8392,\n",
       "           0.8039, 0.8039, 0.8039, 0.8627, 0.9412, 0.3137, 0.5882, 1.0000,\n",
       "           0.8980, 0.8667, 0.7373, 0.6039, 0.7490, 0.8235, 0.8000, 0.8196,\n",
       "           0.8706, 0.8941, 0.8824, 0.0000],\n",
       "          [0.3843, 0.9137, 0.7765, 0.8235, 0.8706, 0.8980, 0.8980, 0.9176,\n",
       "           0.9765, 0.8627, 0.7608, 0.8431, 0.8510, 0.9451, 0.2549, 0.2863,\n",
       "           0.4157, 0.4588, 0.6588, 0.8588, 0.8667, 0.8431, 0.8510, 0.8745,\n",
       "           0.8745, 0.8784, 0.8980, 0.1137],\n",
       "          [0.2941, 0.8000, 0.8314, 0.8000, 0.7569, 0.8039, 0.8275, 0.8824,\n",
       "           0.8471, 0.7255, 0.7725, 0.8078, 0.7765, 0.8353, 0.9412, 0.7647,\n",
       "           0.8902, 0.9608, 0.9373, 0.8745, 0.8549, 0.8314, 0.8196, 0.8706,\n",
       "           0.8627, 0.8667, 0.9020, 0.2627],\n",
       "          [0.1882, 0.7961, 0.7176, 0.7608, 0.8353, 0.7725, 0.7255, 0.7451,\n",
       "           0.7608, 0.7529, 0.7922, 0.8392, 0.8588, 0.8667, 0.8627, 0.9255,\n",
       "           0.8824, 0.8471, 0.7804, 0.8078, 0.7294, 0.7098, 0.6941, 0.6745,\n",
       "           0.7098, 0.8039, 0.8078, 0.4510],\n",
       "          [0.0000, 0.4784, 0.8588, 0.7569, 0.7020, 0.6706, 0.7176, 0.7686,\n",
       "           0.8000, 0.8235, 0.8353, 0.8118, 0.8275, 0.8235, 0.7843, 0.7686,\n",
       "           0.7608, 0.7490, 0.7647, 0.7490, 0.7765, 0.7529, 0.6902, 0.6118,\n",
       "           0.6549, 0.6941, 0.8235, 0.3608],\n",
       "          [0.0000, 0.0000, 0.2902, 0.7412, 0.8314, 0.7490, 0.6863, 0.6745,\n",
       "           0.6863, 0.7098, 0.7255, 0.7373, 0.7412, 0.7373, 0.7569, 0.7765,\n",
       "           0.8000, 0.8196, 0.8235, 0.8235, 0.8275, 0.7373, 0.7373, 0.7608,\n",
       "           0.7529, 0.8471, 0.6667, 0.0000],\n",
       "          [0.0078, 0.0000, 0.0000, 0.0000, 0.2588, 0.7843, 0.8706, 0.9294,\n",
       "           0.9373, 0.9490, 0.9647, 0.9529, 0.9569, 0.8667, 0.8627, 0.7569,\n",
       "           0.7490, 0.7020, 0.7137, 0.7137, 0.7098, 0.6902, 0.6510, 0.6588,\n",
       "           0.3882, 0.2275, 0.0000, 0.0000],\n",
       "          [0.0000, 0.0000, 0.0000, 0.0000, 0.0000, 0.0000, 0.0000, 0.1569,\n",
       "           0.2392, 0.1725, 0.2824, 0.1608, 0.1373, 0.0000, 0.0000, 0.0000,\n",
       "           0.0000, 0.0000, 0.0000, 0.0000, 0.0000, 0.0000, 0.0000, 0.0000,\n",
       "           0.0000, 0.0000, 0.0000, 0.0000],\n",
       "          [0.0000, 0.0000, 0.0000, 0.0000, 0.0000, 0.0000, 0.0000, 0.0000,\n",
       "           0.0000, 0.0000, 0.0000, 0.0000, 0.0000, 0.0000, 0.0000, 0.0000,\n",
       "           0.0000, 0.0000, 0.0000, 0.0000, 0.0000, 0.0000, 0.0000, 0.0000,\n",
       "           0.0000, 0.0000, 0.0000, 0.0000],\n",
       "          [0.0000, 0.0000, 0.0000, 0.0000, 0.0000, 0.0000, 0.0000, 0.0000,\n",
       "           0.0000, 0.0000, 0.0000, 0.0000, 0.0000, 0.0000, 0.0000, 0.0000,\n",
       "           0.0000, 0.0000, 0.0000, 0.0000, 0.0000, 0.0000, 0.0000, 0.0000,\n",
       "           0.0000, 0.0000, 0.0000, 0.0000]]]),\n",
       " 9)"
      ]
     },
     "execution_count": 5,
     "metadata": {},
     "output_type": "execute_result"
    }
   ],
   "source": [
    "# See first training sample\n",
    "image, label = train_data[0]\n",
    "image, label"
   ]
  },
  {
   "cell_type": "code",
   "execution_count": 7,
   "id": "a7677de2",
   "metadata": {},
   "outputs": [
    {
     "data": {
      "text/plain": [
       "(torch.Size([1, 28, 28]), 9)"
      ]
     },
     "execution_count": 7,
     "metadata": {},
     "output_type": "execute_result"
    }
   ],
   "source": [
    "image.shape, label"
   ]
  },
  {
   "cell_type": "code",
   "execution_count": 11,
   "id": "276d2d8c",
   "metadata": {},
   "outputs": [
    {
     "data": {
      "text/plain": [
       "(60000, 60000, 10000, 10000)"
      ]
     },
     "execution_count": 11,
     "metadata": {},
     "output_type": "execute_result"
    }
   ],
   "source": [
    "len(train_data.data), len(train_data.targets), len(test_data.data), len(test_data.targets)"
   ]
  },
  {
   "cell_type": "code",
   "execution_count": 10,
   "id": "31801769",
   "metadata": {},
   "outputs": [
    {
     "data": {
      "text/plain": [
       "(torch.Size([60000, 28, 28]),\n",
       " torch.Size([60000]),\n",
       " torch.Size([10000, 28, 28]),\n",
       " torch.Size([10000]))"
      ]
     },
     "execution_count": 10,
     "metadata": {},
     "output_type": "execute_result"
    }
   ],
   "source": [
    "train_data.data.shape, train_data.targets.shape, test_data.data.shape, test_data.targets.shape"
   ]
  },
  {
   "cell_type": "code",
   "execution_count": 12,
   "id": "01039b5f",
   "metadata": {},
   "outputs": [
    {
     "data": {
      "text/plain": [
       "['T-shirt/top',\n",
       " 'Trouser',\n",
       " 'Pullover',\n",
       " 'Dress',\n",
       " 'Coat',\n",
       " 'Sandal',\n",
       " 'Shirt',\n",
       " 'Sneaker',\n",
       " 'Bag',\n",
       " 'Ankle boot']"
      ]
     },
     "execution_count": 12,
     "metadata": {},
     "output_type": "execute_result"
    }
   ],
   "source": [
    "# See classes\n",
    "class_names = train_data.classes\n",
    "class_names"
   ]
  },
  {
   "cell_type": "code",
   "execution_count": 13,
   "id": "2e4417fd",
   "metadata": {},
   "outputs": [
    {
     "name": "stdout",
     "output_type": "stream",
     "text": [
      "Image shape: torch.Size([1, 28, 28])\n"
     ]
    },
    {
     "data": {
      "image/png": "[encoded data removed]",
      "text/plain": [
       "<Figure size 640x480 with 1 Axes>"
      ]
     },
     "metadata": {},
     "output_type": "display_data"
    }
   ],
   "source": [
    "import matplotlib.pyplot as plt\n",
    "image, label = train_data[0]\n",
    "print(f\"Image shape: {image.shape}\")\n",
    "plt.imshow(image.squeeze()) # image shape is [1, 28, 28] (colour channels, height, width)\n",
    "plt.title(label);"
   ]
  },
  {
   "cell_type": "code",
   "execution_count": 14,
   "id": "c4e519cf",
   "metadata": {},
   "outputs": [
    {
     "data": {
      "image/png": "[encoded data removed]",
      "text/plain": [
       "<Figure size 640x480 with 1 Axes>"
      ]
     },
     "metadata": {},
     "output_type": "display_data"
    }
   ],
   "source": [
    "plt.imshow(image.squeeze(), cmap=\"gray\")\n",
    "plt.title(class_names[label]);"
   ]
  },
  {
   "cell_type": "code",
   "execution_count": 15,
   "id": "4239fcd3",
   "metadata": {},
   "outputs": [
    {
     "data": {
      "image/png": "[encoded data removed]",
      "text/plain": [
       "<Figure size 900x900 with 16 Axes>"
      ]
     },
     "metadata": {},
     "output_type": "display_data"
    }
   ],
   "source": [
    "torch.manual_seed(42)  # prevents printing the Generator\n",
    "rows, cols = 4, 4\n",
    "fig = plt.figure(figsize=(9, 9))\n",
    "\n",
    "for i in range(1, rows * cols + 1):\n",
    "    random_idx = torch.randint(0, len(train_data), (1,)).item()\n",
    "    img, label = train_data[random_idx]\n",
    "\n",
    "    ax = fig.add_subplot(rows, cols, i)\n",
    "    ax.imshow(img.squeeze(), cmap=\"gray\")      # this will suppress echo\n",
    "    ax.set_title(class_names[label])           # and this will too..\n",
    "    ax.set_axis_off()                          # no echo here... ;)\n",
    "\n",
    "plt.tight_layout()\n",
    "plt.show();"
   ]
  },
  {
   "cell_type": "code",
   "execution_count": 16,
   "id": "368f67ab",
   "metadata": {},
   "outputs": [
    {
     "name": "stdout",
     "output_type": "stream",
     "text": [
      "Dataloaders: (<torch.utils.data.dataloader.DataLoader object at 0x146ca0dd0>, <torch.utils.data.dataloader.DataLoader object at 0x1284605d0>)\n",
      "Length of train dataloader: 1875 batches of 32\n",
      "Length of test dataloader: 313 batches of 32\n"
     ]
    }
   ],
   "source": [
    "from torch.utils.data import DataLoader\n",
    "\n",
    "# Setup the batch size hyperparameter\n",
    "BATCH_SIZE = 32\n",
    "\n",
    "# Turn datasets into iterables (batches)\n",
    "train_dataloader = DataLoader(\n",
    "    train_data # dataset to turn into iterable\n",
    "    , batch_size=BATCH_SIZE # how many samples per batch? \n",
    "    , shuffle=True # shuffle data every epoch?\n",
    ")\n",
    "\n",
    "test_dataloader = DataLoader(\n",
    "    test_data, batch_size=BATCH_SIZE\n",
    "    , shuffle=False # don't necessarily have to shuffle the testing data\n",
    ")\n",
    "\n",
    "# Let's check out what we've created\n",
    "print(f\"Dataloaders: {train_dataloader, test_dataloader}\") \n",
    "print(f\"Length of train dataloader: {len(train_dataloader)} batches of {BATCH_SIZE}\")\n",
    "print(f\"Length of test dataloader: {len(test_dataloader)} batches of {BATCH_SIZE}\")"
   ]
  },
  {
   "cell_type": "code",
   "execution_count": 17,
   "id": "c57813bb",
   "metadata": {},
   "outputs": [
    {
     "data": {
      "text/plain": [
       "(torch.Size([32, 1, 28, 28]), torch.Size([32]))"
      ]
     },
     "execution_count": 17,
     "metadata": {},
     "output_type": "execute_result"
    }
   ],
   "source": [
    "# Check out what's inside the training dataloader\n",
    "train_features_batch, train_labels_batch = next(iter(train_dataloader))\n",
    "train_features_batch.shape, train_labels_batch.shape"
   ]
  },
  {
   "cell_type": "code",
   "execution_count": 18,
   "id": "8ab91054",
   "metadata": {},
   "outputs": [
    {
     "name": "stdout",
     "output_type": "stream",
     "text": [
      "\n",
      "Image size: torch.Size([1, 28, 28])\n",
      "Label: 6, label size: torch.Size([])\n"
     ]
    },
    {
     "data": {
      "image/png": "[encoded data removed]",
      "text/plain": [
       "<Figure size 640x480 with 1 Axes>"
      ]
     },
     "metadata": {},
     "output_type": "display_data"
    }
   ],
   "source": [
    "# Show a sample\n",
    "torch.manual_seed(42)\n",
    "\n",
    "random_idx = torch.randint(0, len(train_features_batch), size=[1]).item()\n",
    "img, label = train_features_batch[random_idx], train_labels_batch[random_idx]\n",
    "plt.imshow(img.squeeze(), cmap=\"gray\")\n",
    "plt.title(class_names[label])\n",
    "plt.axis(\"Off\");\n",
    "\n",
    "print(f\"\\nImage size: {img.shape}\");\n",
    "print(f\"Label: {label}, label size: {label.shape}\");"
   ]
  },
  {
   "cell_type": "code",
   "execution_count": 21,
   "id": "1a8a727b",
   "metadata": {
    "scrolled": false
   },
   "outputs": [
    {
     "name": "stdout",
     "output_type": "stream",
     "text": [
      "Shape before flattening: torch.Size([1, 28, 28]) -> [color_channels, height, width]\n",
      "Shape after flattening: torch.Size([1, 784]) -> [color_channels, height*width]\n"
     ]
    }
   ],
   "source": [
    "# Create a flatten layer\n",
    "flatten_model = nn.Flatten() # all nn modules function as a model (can do a forward pass)\n",
    "\n",
    "# Get a single sample\n",
    "x = train_features_batch[0]\n",
    "\n",
    "# Flatten the sample\n",
    "output = flatten_model(x) # perform forward pass\n",
    "\n",
    "# Print out what happened\n",
    "print(f\"Shape before flattening: {x.shape} -> [color_channels, height, width]\")\n",
    "print(f\"Shape after flattening: {output.shape} -> [color_channels, height*width]\")"
   ]
  },
  {
   "cell_type": "code",
   "execution_count": 24,
   "id": "e2091880",
   "metadata": {
    "collapsed": true
   },
   "outputs": [
    {
     "name": "stdout",
     "output_type": "stream",
     "text": [
      "tensor([[[0.0000, 0.0000, 0.0000, 0.0000, 0.0000, 0.0000, 0.0000, 0.0000,\n",
      "          0.0000, 0.0000, 0.0000, 0.0000, 0.0000, 0.0000, 0.0000, 0.0000,\n",
      "          0.0000, 0.0000, 0.0000, 0.0000, 0.0000, 0.0000, 0.0000, 0.0000,\n",
      "          0.0000, 0.0000, 0.0000, 0.0000],\n",
      "         [0.0000, 0.0000, 0.0000, 0.0000, 0.0000, 0.0000, 0.0000, 0.0000,\n",
      "          0.0000, 0.0000, 0.0000, 0.0000, 0.0000, 0.0000, 0.0000, 0.0000,\n",
      "          0.0000, 0.0000, 0.0000, 0.0000, 0.0000, 0.0000, 0.0000, 0.0000,\n",
      "          0.0000, 0.0000, 0.0000, 0.0000],\n",
      "         [0.0000, 0.0000, 0.0000, 0.0000, 0.0000, 0.0000, 0.0000, 0.0000,\n",
      "          0.0000, 0.0000, 0.0000, 0.0000, 0.0000, 0.0000, 0.0000, 0.0000,\n",
      "          0.0000, 0.0000, 0.0000, 0.0000, 0.0000, 0.0000, 0.0000, 0.0000,\n",
      "          0.0000, 0.0000, 0.0000, 0.0000],\n",
      "         [0.0000, 0.0000, 0.0000, 0.0000, 0.0000, 0.0000, 0.0000, 0.0000,\n",
      "          0.0000, 0.0039, 0.0039, 0.0000, 0.0000, 0.0078, 0.0078, 0.0000,\n",
      "          0.0000, 0.0039, 0.0078, 0.0000, 0.0000, 0.0000, 0.0000, 0.0000,\n",
      "          0.2863, 0.0000, 0.0000, 0.0078],\n",
      "         [0.0000, 0.0000, 0.0000, 0.0000, 0.0000, 0.0000, 0.0000, 0.0000,\n",
      "          0.0000, 0.0000, 0.0000, 0.0000, 0.0000, 0.0000, 0.0000, 0.0000,\n",
      "          0.0000, 0.0000, 0.0000, 0.0000, 0.0000, 0.0000, 0.0000, 0.0000,\n",
      "          0.3725, 0.0000, 0.0000, 0.0000],\n",
      "         [0.0000, 0.0000, 0.0000, 0.0000, 0.0000, 0.0000, 0.0000, 0.0000,\n",
      "          0.0000, 0.0000, 0.0000, 0.0000, 0.0000, 0.3373, 0.3569, 0.2039,\n",
      "          0.4980, 0.4196, 0.4706, 0.3608, 0.3961, 0.4706, 0.4471, 1.0000,\n",
      "          0.4314, 0.3451, 0.0078, 0.0000],\n",
      "         [0.0000, 0.0000, 0.0000, 0.0000, 0.0000, 0.0000, 0.0000, 0.0000,\n",
      "          0.0000, 0.0000, 0.0000, 0.0000, 0.0000, 0.0706, 0.0824, 0.0706,\n",
      "          0.4588, 0.4118, 0.4980, 0.2588, 0.2235, 0.2588, 0.0824, 0.0510,\n",
      "          0.1922, 0.5137, 0.5765, 0.0000],\n",
      "         [0.0000, 0.0000, 0.0000, 0.0000, 0.0000, 0.0000, 0.0000, 0.0000,\n",
      "          0.0000, 0.0000, 0.0000, 0.0000, 0.0000, 0.0000, 0.0000, 0.0000,\n",
      "          0.0000, 0.0000, 0.0000, 0.0000, 0.0000, 0.0000, 0.0000, 0.1333,\n",
      "          0.8000, 0.5608, 0.5255, 0.2431],\n",
      "         [0.0000, 0.0000, 0.0000, 0.0000, 0.0000, 0.0000, 0.0000, 0.0000,\n",
      "          0.0000, 0.0000, 0.0000, 0.0000, 0.0000, 0.0039, 0.0039, 0.0000,\n",
      "          0.0000, 0.0000, 0.0000, 0.0078, 0.0000, 0.0000, 0.0000, 0.9137,\n",
      "          0.9686, 0.5137, 0.4353, 0.6471],\n",
      "         [0.0000, 0.0000, 0.0000, 0.0000, 0.0000, 0.0000, 0.0000, 0.0000,\n",
      "          0.0000, 0.0000, 0.0000, 0.0000, 0.0000, 0.0000, 0.0000, 0.0000,\n",
      "          0.0000, 0.0000, 0.0000, 0.0000, 0.0000, 0.0000, 0.0588, 0.3843,\n",
      "          0.6980, 0.0588, 0.2824, 0.1686],\n",
      "         [0.0000, 0.0000, 0.0000, 0.0000, 0.0000, 0.0000, 0.0000, 0.0000,\n",
      "          0.0000, 0.0000, 0.0000, 0.0000, 0.0000, 0.0000, 0.0000, 0.0000,\n",
      "          0.0000, 0.0000, 0.0000, 0.0000, 0.0000, 0.1333, 0.2078, 0.2157,\n",
      "          0.6745, 0.2941, 0.1059, 0.0000],\n",
      "         [0.0000, 0.0000, 0.0000, 0.0000, 0.0000, 0.0000, 0.0000, 0.0000,\n",
      "          0.0000, 0.0000, 0.0000, 0.0000, 0.0000, 0.0000, 0.0000, 0.0000,\n",
      "          0.0000, 0.0000, 0.0039, 0.0000, 0.0078, 0.3333, 0.2980, 0.2941,\n",
      "          0.2039, 0.0314, 0.0000, 0.0000],\n",
      "         [0.0000, 0.0000, 0.0000, 0.0000, 0.0000, 0.0000, 0.0000, 0.0000,\n",
      "          0.0000, 0.0000, 0.0000, 0.0000, 0.0000, 0.0000, 0.0000, 0.0000,\n",
      "          0.0000, 0.0039, 0.0039, 0.0000, 0.2196, 0.5020, 0.0157, 0.0706,\n",
      "          0.3451, 0.3216, 0.0588, 0.0000],\n",
      "         [0.0000, 0.0000, 0.0000, 0.0000, 0.0000, 0.0000, 0.0000, 0.0000,\n",
      "          0.0000, 0.0000, 0.0000, 0.0000, 0.0000, 0.0000, 0.0000, 0.0000,\n",
      "          0.0000, 0.0000, 0.0000, 0.0157, 0.4863, 0.3843, 0.1804, 0.6235,\n",
      "          0.7882, 0.6000, 0.1569, 0.0000],\n",
      "         [0.0000, 0.0000, 0.0000, 0.0000, 0.0000, 0.0000, 0.0000, 0.0000,\n",
      "          0.0000, 0.0000, 0.0000, 0.0000, 0.0000, 0.0000, 0.0000, 0.0000,\n",
      "          0.0000, 0.0000, 0.0000, 0.2863, 0.4431, 0.4196, 0.5882, 0.5020,\n",
      "          0.1020, 0.2235, 0.0549, 0.0000],\n",
      "         [0.0000, 0.0000, 0.0000, 0.0000, 0.0000, 0.0000, 0.0000, 0.0000,\n",
      "          0.0000, 0.0000, 0.0000, 0.0000, 0.0000, 0.0000, 0.0000, 0.0000,\n",
      "          0.0000, 0.0000, 0.0039, 0.4078, 0.4314, 0.7137, 0.1843, 0.2196,\n",
      "          0.4118, 0.3216, 0.0196, 0.0000],\n",
      "         [0.0000, 0.0000, 0.0000, 0.0000, 0.0039, 0.0000, 0.0000, 0.0000,\n",
      "          0.0000, 0.0000, 0.0000, 0.0000, 0.0000, 0.0000, 0.0000, 0.0000,\n",
      "          0.0000, 0.0000, 0.2549, 0.5647, 0.6275, 0.0824, 0.0000, 0.0000,\n",
      "          0.5098, 0.3333, 0.0000, 0.0000],\n",
      "         [0.0000, 0.0000, 0.0000, 0.0000, 0.0000, 0.0000, 0.0039, 0.0039,\n",
      "          0.0000, 0.0000, 0.0000, 0.0000, 0.0000, 0.0000, 0.0000, 0.0000,\n",
      "          0.0000, 0.3333, 0.5647, 0.5529, 0.0000, 0.0000, 0.0000, 0.0000,\n",
      "          0.6510, 0.3059, 0.0000, 0.0000],\n",
      "         [0.0000, 0.0000, 0.0000, 0.0000, 0.0000, 0.0000, 0.0000, 0.0000,\n",
      "          0.0000, 0.0000, 0.0000, 0.0000, 0.0000, 0.0000, 0.0000, 0.0000,\n",
      "          0.1922, 0.7216, 0.4510, 0.0000, 0.0000, 0.0157, 0.0000, 0.0000,\n",
      "          0.6275, 0.2667, 0.0000, 0.0000],\n",
      "         [0.0000, 0.0000, 0.0000, 0.0039, 0.0000, 0.0000, 0.0784, 0.0784,\n",
      "          0.0000, 0.0000, 0.0000, 0.0000, 0.0000, 0.0000, 0.0000, 0.0706,\n",
      "          0.6392, 0.3804, 0.0000, 0.0000, 0.0000, 0.0314, 0.0000, 0.0000,\n",
      "          0.6667, 0.1529, 0.0000, 0.0000],\n",
      "         [0.0000, 0.0000, 0.0039, 0.0000, 0.0314, 0.2471, 0.2980, 0.1686,\n",
      "          0.0000, 0.0000, 0.0000, 0.0000, 0.0000, 0.0000, 0.0000, 0.5255,\n",
      "          0.5333, 0.0000, 0.0000, 0.0000, 0.0000, 0.0078, 0.0000, 0.0000,\n",
      "          0.6784, 0.0706, 0.0000, 0.0039],\n",
      "         [0.0039, 0.0039, 0.0000, 0.0000, 0.0706, 0.0941, 0.0000, 0.0196,\n",
      "          0.0000, 0.0000, 0.0000, 0.0000, 0.0000, 0.0000, 0.3451, 0.7137,\n",
      "          0.0275, 0.0000, 0.0000, 0.0000, 0.0000, 0.0000, 0.0000, 0.0000,\n",
      "          0.6588, 0.0039, 0.0000, 0.0039],\n",
      "         [0.0000, 0.0000, 0.0000, 0.0000, 0.0078, 0.1922, 0.1059, 0.1216,\n",
      "          0.2196, 0.0667, 0.0000, 0.0000, 0.0000, 0.3451, 0.6000, 0.1922,\n",
      "          0.0000, 0.0196, 0.0000, 0.0039, 0.0000, 0.0000, 0.0000, 0.0000,\n",
      "          0.6471, 0.0000, 0.0000, 0.0039],\n",
      "         [0.0510, 0.0275, 0.0000, 0.0000, 0.0000, 0.3294, 0.3804, 0.4000,\n",
      "          0.4941, 0.3882, 0.0000, 0.0196, 0.5020, 0.6000, 0.2863, 0.0000,\n",
      "          0.0000, 0.0000, 0.0000, 0.0000, 0.0000, 0.0000, 0.0000, 0.0039,\n",
      "          0.5451, 0.0000, 0.0000, 0.0000],\n",
      "         [0.3176, 0.5961, 0.5725, 0.5490, 0.4863, 0.4824, 0.5098, 0.4941,\n",
      "          0.4431, 0.4431, 0.4471, 0.7216, 0.6235, 0.1647, 0.0000, 0.0000,\n",
      "          0.0000, 0.0078, 0.0000, 0.0000, 0.0000, 0.0000, 0.0000, 0.0000,\n",
      "          0.7294, 0.0000, 0.0000, 0.0039],\n",
      "         [0.0000, 0.0000, 0.0000, 0.0941, 0.1647, 0.1804, 0.2235, 0.2549,\n",
      "          0.2706, 0.2549, 0.2471, 0.1569, 0.0000, 0.0000, 0.0000, 0.0000,\n",
      "          0.0000, 0.0000, 0.0000, 0.0000, 0.0000, 0.0000, 0.0000, 0.0000,\n",
      "          0.7137, 0.0157, 0.0000, 0.0039],\n",
      "         [0.0000, 0.0000, 0.0000, 0.0000, 0.0000, 0.0000, 0.0000, 0.0000,\n",
      "          0.0000, 0.0000, 0.0000, 0.0000, 0.0000, 0.0000, 0.0000, 0.0000,\n",
      "          0.0000, 0.0000, 0.0000, 0.0000, 0.0000, 0.0000, 0.0000, 0.0000,\n",
      "          0.0000, 0.0000, 0.0000, 0.0000],\n",
      "         [0.0000, 0.0000, 0.0000, 0.0000, 0.0000, 0.0000, 0.0000, 0.0000,\n",
      "          0.0000, 0.0000, 0.0000, 0.0000, 0.0000, 0.0000, 0.0000, 0.0000,\n",
      "          0.0000, 0.0000, 0.0000, 0.0000, 0.0000, 0.0000, 0.0000, 0.0000,\n",
      "          0.0000, 0.0000, 0.0000, 0.0000]]])\n",
      "tensor([[0.0000, 0.0000, 0.0000, 0.0000, 0.0000, 0.0000, 0.0000, 0.0000, 0.0000,\n",
      "         0.0000, 0.0000, 0.0000, 0.0000, 0.0000, 0.0000, 0.0000, 0.0000, 0.0000,\n",
      "         0.0000, 0.0000, 0.0000, 0.0000, 0.0000, 0.0000, 0.0000, 0.0000, 0.0000,\n",
      "         0.0000, 0.0000, 0.0000, 0.0000, 0.0000, 0.0000, 0.0000, 0.0000, 0.0000,\n",
      "         0.0000, 0.0000, 0.0000, 0.0000, 0.0000, 0.0000, 0.0000, 0.0000, 0.0000,\n",
      "         0.0000, 0.0000, 0.0000, 0.0000, 0.0000, 0.0000, 0.0000, 0.0000, 0.0000,\n",
      "         0.0000, 0.0000, 0.0000, 0.0000, 0.0000, 0.0000, 0.0000, 0.0000, 0.0000,\n",
      "         0.0000, 0.0000, 0.0000, 0.0000, 0.0000, 0.0000, 0.0000, 0.0000, 0.0000,\n",
      "         0.0000, 0.0000, 0.0000, 0.0000, 0.0000, 0.0000, 0.0000, 0.0000, 0.0000,\n",
      "         0.0000, 0.0000, 0.0000, 0.0000, 0.0000, 0.0000, 0.0000, 0.0000, 0.0000,\n",
      "         0.0000, 0.0000, 0.0000, 0.0039, 0.0039, 0.0000, 0.0000, 0.0078, 0.0078,\n",
      "         0.0000, 0.0000, 0.0039, 0.0078, 0.0000, 0.0000, 0.0000, 0.0000, 0.0000,\n",
      "         0.2863, 0.0000, 0.0000, 0.0078, 0.0000, 0.0000, 0.0000, 0.0000, 0.0000,\n",
      "         0.0000, 0.0000, 0.0000, 0.0000, 0.0000, 0.0000, 0.0000, 0.0000, 0.0000,\n",
      "         0.0000, 0.0000, 0.0000, 0.0000, 0.0000, 0.0000, 0.0000, 0.0000, 0.0000,\n",
      "         0.0000, 0.3725, 0.0000, 0.0000, 0.0000, 0.0000, 0.0000, 0.0000, 0.0000,\n",
      "         0.0000, 0.0000, 0.0000, 0.0000, 0.0000, 0.0000, 0.0000, 0.0000, 0.0000,\n",
      "         0.3373, 0.3569, 0.2039, 0.4980, 0.4196, 0.4706, 0.3608, 0.3961, 0.4706,\n",
      "         0.4471, 1.0000, 0.4314, 0.3451, 0.0078, 0.0000, 0.0000, 0.0000, 0.0000,\n",
      "         0.0000, 0.0000, 0.0000, 0.0000, 0.0000, 0.0000, 0.0000, 0.0000, 0.0000,\n",
      "         0.0000, 0.0706, 0.0824, 0.0706, 0.4588, 0.4118, 0.4980, 0.2588, 0.2235,\n",
      "         0.2588, 0.0824, 0.0510, 0.1922, 0.5137, 0.5765, 0.0000, 0.0000, 0.0000,\n",
      "         0.0000, 0.0000, 0.0000, 0.0000, 0.0000, 0.0000, 0.0000, 0.0000, 0.0000,\n",
      "         0.0000, 0.0000, 0.0000, 0.0000, 0.0000, 0.0000, 0.0000, 0.0000, 0.0000,\n",
      "         0.0000, 0.0000, 0.0000, 0.1333, 0.8000, 0.5608, 0.5255, 0.2431, 0.0000,\n",
      "         0.0000, 0.0000, 0.0000, 0.0000, 0.0000, 0.0000, 0.0000, 0.0000, 0.0000,\n",
      "         0.0000, 0.0000, 0.0000, 0.0039, 0.0039, 0.0000, 0.0000, 0.0000, 0.0000,\n",
      "         0.0078, 0.0000, 0.0000, 0.0000, 0.9137, 0.9686, 0.5137, 0.4353, 0.6471,\n",
      "         0.0000, 0.0000, 0.0000, 0.0000, 0.0000, 0.0000, 0.0000, 0.0000, 0.0000,\n",
      "         0.0000, 0.0000, 0.0000, 0.0000, 0.0000, 0.0000, 0.0000, 0.0000, 0.0000,\n",
      "         0.0000, 0.0000, 0.0000, 0.0000, 0.0588, 0.3843, 0.6980, 0.0588, 0.2824,\n",
      "         0.1686, 0.0000, 0.0000, 0.0000, 0.0000, 0.0000, 0.0000, 0.0000, 0.0000,\n",
      "         0.0000, 0.0000, 0.0000, 0.0000, 0.0000, 0.0000, 0.0000, 0.0000, 0.0000,\n",
      "         0.0000, 0.0000, 0.0000, 0.0000, 0.1333, 0.2078, 0.2157, 0.6745, 0.2941,\n",
      "         0.1059, 0.0000, 0.0000, 0.0000, 0.0000, 0.0000, 0.0000, 0.0000, 0.0000,\n",
      "         0.0000, 0.0000, 0.0000, 0.0000, 0.0000, 0.0000, 0.0000, 0.0000, 0.0000,\n",
      "         0.0000, 0.0000, 0.0039, 0.0000, 0.0078, 0.3333, 0.2980, 0.2941, 0.2039,\n",
      "         0.0314, 0.0000, 0.0000, 0.0000, 0.0000, 0.0000, 0.0000, 0.0000, 0.0000,\n",
      "         0.0000, 0.0000, 0.0000, 0.0000, 0.0000, 0.0000, 0.0000, 0.0000, 0.0000,\n",
      "         0.0000, 0.0000, 0.0039, 0.0039, 0.0000, 0.2196, 0.5020, 0.0157, 0.0706,\n",
      "         0.3451, 0.3216, 0.0588, 0.0000, 0.0000, 0.0000, 0.0000, 0.0000, 0.0000,\n",
      "         0.0000, 0.0000, 0.0000, 0.0000, 0.0000, 0.0000, 0.0000, 0.0000, 0.0000,\n",
      "         0.0000, 0.0000, 0.0000, 0.0000, 0.0000, 0.0157, 0.4863, 0.3843, 0.1804,\n",
      "         0.6235, 0.7882, 0.6000, 0.1569, 0.0000, 0.0000, 0.0000, 0.0000, 0.0000,\n",
      "         0.0000, 0.0000, 0.0000, 0.0000, 0.0000, 0.0000, 0.0000, 0.0000, 0.0000,\n",
      "         0.0000, 0.0000, 0.0000, 0.0000, 0.0000, 0.0000, 0.2863, 0.4431, 0.4196,\n",
      "         0.5882, 0.5020, 0.1020, 0.2235, 0.0549, 0.0000, 0.0000, 0.0000, 0.0000,\n",
      "         0.0000, 0.0000, 0.0000, 0.0000, 0.0000, 0.0000, 0.0000, 0.0000, 0.0000,\n",
      "         0.0000, 0.0000, 0.0000, 0.0000, 0.0000, 0.0000, 0.0039, 0.4078, 0.4314,\n",
      "         0.7137, 0.1843, 0.2196, 0.4118, 0.3216, 0.0196, 0.0000, 0.0000, 0.0000,\n",
      "         0.0000, 0.0000, 0.0039, 0.0000, 0.0000, 0.0000, 0.0000, 0.0000, 0.0000,\n",
      "         0.0000, 0.0000, 0.0000, 0.0000, 0.0000, 0.0000, 0.0000, 0.2549, 0.5647,\n",
      "         0.6275, 0.0824, 0.0000, 0.0000, 0.5098, 0.3333, 0.0000, 0.0000, 0.0000,\n",
      "         0.0000, 0.0000, 0.0000, 0.0000, 0.0000, 0.0039, 0.0039, 0.0000, 0.0000,\n",
      "         0.0000, 0.0000, 0.0000, 0.0000, 0.0000, 0.0000, 0.0000, 0.3333, 0.5647,\n",
      "         0.5529, 0.0000, 0.0000, 0.0000, 0.0000, 0.6510, 0.3059, 0.0000, 0.0000,\n",
      "         0.0000, 0.0000, 0.0000, 0.0000, 0.0000, 0.0000, 0.0000, 0.0000, 0.0000,\n",
      "         0.0000, 0.0000, 0.0000, 0.0000, 0.0000, 0.0000, 0.0000, 0.1922, 0.7216,\n",
      "         0.4510, 0.0000, 0.0000, 0.0157, 0.0000, 0.0000, 0.6275, 0.2667, 0.0000,\n",
      "         0.0000, 0.0000, 0.0000, 0.0000, 0.0039, 0.0000, 0.0000, 0.0784, 0.0784,\n",
      "         0.0000, 0.0000, 0.0000, 0.0000, 0.0000, 0.0000, 0.0000, 0.0706, 0.6392,\n",
      "         0.3804, 0.0000, 0.0000, 0.0000, 0.0314, 0.0000, 0.0000, 0.6667, 0.1529,\n",
      "         0.0000, 0.0000, 0.0000, 0.0000, 0.0039, 0.0000, 0.0314, 0.2471, 0.2980,\n",
      "         0.1686, 0.0000, 0.0000, 0.0000, 0.0000, 0.0000, 0.0000, 0.0000, 0.5255,\n",
      "         0.5333, 0.0000, 0.0000, 0.0000, 0.0000, 0.0078, 0.0000, 0.0000, 0.6784,\n",
      "         0.0706, 0.0000, 0.0039, 0.0039, 0.0039, 0.0000, 0.0000, 0.0706, 0.0941,\n",
      "         0.0000, 0.0196, 0.0000, 0.0000, 0.0000, 0.0000, 0.0000, 0.0000, 0.3451,\n",
      "         0.7137, 0.0275, 0.0000, 0.0000, 0.0000, 0.0000, 0.0000, 0.0000, 0.0000,\n",
      "         0.6588, 0.0039, 0.0000, 0.0039, 0.0000, 0.0000, 0.0000, 0.0000, 0.0078,\n",
      "         0.1922, 0.1059, 0.1216, 0.2196, 0.0667, 0.0000, 0.0000, 0.0000, 0.3451,\n",
      "         0.6000, 0.1922, 0.0000, 0.0196, 0.0000, 0.0039, 0.0000, 0.0000, 0.0000,\n",
      "         0.0000, 0.6471, 0.0000, 0.0000, 0.0039, 0.0510, 0.0275, 0.0000, 0.0000,\n",
      "         0.0000, 0.3294, 0.3804, 0.4000, 0.4941, 0.3882, 0.0000, 0.0196, 0.5020,\n",
      "         0.6000, 0.2863, 0.0000, 0.0000, 0.0000, 0.0000, 0.0000, 0.0000, 0.0000,\n",
      "         0.0000, 0.0039, 0.5451, 0.0000, 0.0000, 0.0000, 0.3176, 0.5961, 0.5725,\n",
      "         0.5490, 0.4863, 0.4824, 0.5098, 0.4941, 0.4431, 0.4431, 0.4471, 0.7216,\n",
      "         0.6235, 0.1647, 0.0000, 0.0000, 0.0000, 0.0078, 0.0000, 0.0000, 0.0000,\n",
      "         0.0000, 0.0000, 0.0000, 0.7294, 0.0000, 0.0000, 0.0039, 0.0000, 0.0000,\n",
      "         0.0000, 0.0941, 0.1647, 0.1804, 0.2235, 0.2549, 0.2706, 0.2549, 0.2471,\n",
      "         0.1569, 0.0000, 0.0000, 0.0000, 0.0000, 0.0000, 0.0000, 0.0000, 0.0000,\n",
      "         0.0000, 0.0000, 0.0000, 0.0000, 0.7137, 0.0157, 0.0000, 0.0039, 0.0000,\n",
      "         0.0000, 0.0000, 0.0000, 0.0000, 0.0000, 0.0000, 0.0000, 0.0000, 0.0000,\n",
      "         0.0000, 0.0000, 0.0000, 0.0000, 0.0000, 0.0000, 0.0000, 0.0000, 0.0000,\n",
      "         0.0000, 0.0000, 0.0000, 0.0000, 0.0000, 0.0000, 0.0000, 0.0000, 0.0000,\n",
      "         0.0000, 0.0000, 0.0000, 0.0000, 0.0000, 0.0000, 0.0000, 0.0000, 0.0000,\n",
      "         0.0000, 0.0000, 0.0000, 0.0000, 0.0000, 0.0000, 0.0000, 0.0000, 0.0000,\n",
      "         0.0000, 0.0000, 0.0000, 0.0000, 0.0000, 0.0000, 0.0000, 0.0000, 0.0000,\n",
      "         0.0000]])\n"
     ]
    }
   ],
   "source": [
    "print(x)\n",
    "print(output)"
   ]
  },
  {
   "cell_type": "code",
   "execution_count": 28,
   "id": "b6e556ae",
   "metadata": {},
   "outputs": [
    {
     "name": "stdout",
     "output_type": "stream",
     "text": [
      "helper_functions.py already exists, skipping download\n"
     ]
    }
   ],
   "source": [
    "import requests\n",
    "from pathlib import Path \n",
    "\n",
    "# Download helper functions from Learn PyTorch repo (if not already downloaded)\n",
    "if Path(\"helper_functions.py\").is_file():\n",
    "  print(\"helper_functions.py already exists, skipping download\")\n",
    "else:\n",
    "  print(\"Downloading helper_functions.py\")\n",
    "  # Note: you need the \"raw\" GitHub URL for this to work\n",
    "  request = requests.get(\"https://raw.githubusercontent.com/mrdbourke/pytorch-deep-learning/main/helper_functions.py\")\n",
    "  with open(\"helper_functions.py\", \"wb\") as f:\n",
    "    f.write(request.content)"
   ]
  },
  {
   "cell_type": "code",
   "execution_count": 32,
   "id": "53197d86",
   "metadata": {},
   "outputs": [
    {
     "data": {
      "text/plain": [
       "<function helper_functions.accuracy_fn(y_true, y_pred)>"
      ]
     },
     "execution_count": 32,
     "metadata": {},
     "output_type": "execute_result"
    },
    {
     "data": {
      "text/plain": [
       "MulticlassAccuracy()"
      ]
     },
     "execution_count": 32,
     "metadata": {},
     "output_type": "execute_result"
    }
   ],
   "source": [
    "# Import accuracy metric\n",
    "from helper_functions import accuracy_fn \n",
    "# Note: could also use torchmetrics.Accuracy(task = 'multiclass', num_classes=len(class_names)).to(device)\n",
    "\n",
    "import torchmetrics\n",
    "\n",
    "accuracy_torch_fn = torchmetrics.Accuracy(task = 'multiclass', num_classes=len(class_names)).to(device)\n",
    "\n",
    "accuracy_fn\n",
    "accuracy_torch_fn"
   ]
  },
  {
   "cell_type": "code",
   "execution_count": 35,
   "id": "76478176",
   "metadata": {},
   "outputs": [],
   "source": [
    "from timeit import default_timer as timer \n",
    "\n",
    "def print_train_time(start: float, end: float, device: torch.device = None):\n",
    "    \"\"\"Prints difference between start and end time.\n",
    "\n",
    "    Args:\n",
    "        start (float): Start time of computation (preferred in timeit format). \n",
    "        end (float): End time of computation.\n",
    "        device ([type], optional): Device that compute is running on. Defaults to None.\n",
    "\n",
    "    Returns:\n",
    "        float: time between start and end in seconds (higher is longer).\n",
    "    \"\"\"\n",
    "    total_time = end - start\n",
    "    print(f\"Train time on {device}: {total_time:.3f} seconds\")\n",
    "    return total_time"
   ]
  },
  {
   "cell_type": "code",
   "execution_count": 36,
   "id": "f0f29cdc",
   "metadata": {},
   "outputs": [],
   "source": [
    "# Functionize the train & test loop(s):\n",
    "\n",
    "def train_step(model: torch.nn.Module\n",
    "               , data_loader: torch.utils.data.DataLoader\n",
    "               , loss_fn: torch.nn.Module\n",
    "               , optimizer: torch.optim.Optimizer\n",
    "               , accuracy_fn\n",
    "               , device: torch.device = device):\n",
    "    \n",
    "    train_loss, train_acc = 0, 0\n",
    "    model.to(device)\n",
    "    for batch, (X, y) in enumerate(data_loader):\n",
    "        # Send data to GPU\n",
    "        X, y = X.to(device), y.to(device)\n",
    "\n",
    "        # 1. Forward pass\n",
    "        y_pred = model(X)\n",
    "\n",
    "        # 2. Calculate loss\n",
    "        loss = loss_fn(y_pred, y)\n",
    "        train_loss += loss\n",
    "        train_acc += accuracy_fn(\n",
    "            y_true=y\n",
    "            , y_pred=y_pred.argmax(dim=1)) # Go from logits -> pred labels\n",
    "\n",
    "        # 3. Optimizer zero grad\n",
    "        optimizer.zero_grad()\n",
    "\n",
    "        # 4. Loss backward\n",
    "        loss.backward()\n",
    "\n",
    "        # 5. Optimizer step\n",
    "        optimizer.step()\n",
    "\n",
    "    # Calculate loss and accuracy per epoch and print out what's happening\n",
    "    train_loss /= len(data_loader)\n",
    "    train_acc /= len(data_loader)\n",
    "    print(f\"Train loss: {train_loss:.5f} | Train accuracy: {train_acc:.2f}%\")\n",
    "\n",
    "def test_step(\n",
    "    data_loader: torch.utils.data.DataLoader\n",
    "    , model: torch.nn.Module\n",
    "    , loss_fn: torch.nn.Module\n",
    "    , accuracy_fn\n",
    "    , device: torch.device = device):\n",
    "    \n",
    "    test_loss, test_acc = 0, 0\n",
    "    model.to(device)\n",
    "    model.eval() # put model in eval mode\n",
    "    # Turn on inference context manager\n",
    "    with torch.inference_mode(): \n",
    "        for X, y in data_loader:\n",
    "            # Send data to GPU\n",
    "            X, y = X.to(device), y.to(device)\n",
    "            \n",
    "            # 1. Forward pass\n",
    "            test_pred = model(X)\n",
    "            \n",
    "            # 2. Calculate loss and accuracy\n",
    "            test_loss += loss_fn(test_pred, y)\n",
    "            test_acc += accuracy_fn(\n",
    "                y_true=y\n",
    "                , y_pred=test_pred.argmax(dim=1) # Go from logits -> pred labels\n",
    "            )\n",
    "        \n",
    "        # Adjust metrics and print out\n",
    "        test_loss /= len(data_loader)\n",
    "        test_acc /= len(data_loader)\n",
    "        print(f\"Test loss: {test_loss:.5f} | Test accuracy: {test_acc:.2f}%\\n\")"
   ]
  },
  {
   "cell_type": "code",
   "execution_count": 37,
   "id": "98653858",
   "metadata": {},
   "outputs": [
    {
     "data": {
      "text/plain": [
       "<torch._C.Generator at 0x10c154cb0>"
      ]
     },
     "execution_count": 37,
     "metadata": {},
     "output_type": "execute_result"
    }
   ],
   "source": [
    "# Move values to device\n",
    "torch.manual_seed(42)\n",
    "def eval_model(model: torch.nn.Module\n",
    "               , data_loader: torch.utils.data.DataLoader\n",
    "               , loss_fn: torch.nn.Module\n",
    "               , accuracy_fn\n",
    "               , device: torch.device = device):   \n",
    "    \"\"\"Evaluates a given model on a given dataset.\n",
    "\n",
    "    Args:\n",
    "        model (torch.nn.Module): A PyTorch model capable of making predictions on data_loader.\n",
    "        data_loader (torch.utils.data.DataLoader): The target dataset to predict on.\n",
    "        loss_fn (torch.nn.Module): The loss function of model.\n",
    "        accuracy_fn: An accuracy function to compare the models predictions to the truth labels.\n",
    "        device (str, optional): Target device to compute on. Defaults to device.\n",
    "\n",
    "    Returns:\n",
    "        (dict): Results of model making predictions on data_loader.\n",
    "    \"\"\"\n",
    "    loss, acc = 0, 0\n",
    "    model.eval()\n",
    "    with torch.inference_mode():\n",
    "        for X, y in data_loader:\n",
    "            # Send data to the target device\n",
    "            X, y = X.to(device), y.to(device)\n",
    "            y_pred = model(X)\n",
    "            loss += loss_fn(y_pred, y)\n",
    "            acc += accuracy_fn(\n",
    "                y_true=y\n",
    "                , y_pred=y_pred.argmax(dim=1))\n",
    "        \n",
    "        # Scale loss and acc\n",
    "        loss /= len(data_loader)\n",
    "        acc /= len(data_loader)\n",
    "    return {\"model_name\": model.__class__.__name__ # only works when model was created with a class\n",
    "            , \"model_loss\": loss.item()\n",
    "            , \"model_acc\": acc}"
   ]
  },
  {
   "cell_type": "code",
   "execution_count": 39,
   "id": "5afa964d",
   "metadata": {},
   "outputs": [],
   "source": [
    "# Create a convolutional neural network \n",
    "class FashionMNISTModelV2(nn.Module):\n",
    "    \"\"\"\n",
    "    Model architecture copying TinyVGG from: \n",
    "    https://poloclub.github.io/cnn-explainer/\n",
    "    \"\"\"\n",
    "    def __init__(self, input_shape: int, hidden_units: int, output_shape: int):\n",
    "        super().__init__()\n",
    "        self.block_1 = nn.Sequential(\n",
    "            nn.Conv2d(\n",
    "                in_channels=input_shape \n",
    "                , out_channels=hidden_units\n",
    "                , kernel_size=3 # how big is the square that's going over the image?\n",
    "                , stride=1 # default\n",
    "                , padding=1) # \"valid\" (no pad) or \"same\" (output same shape as input) or int for spec num \n",
    "            , nn.ReLU()\n",
    "            , nn.Conv2d(in_channels=hidden_units \n",
    "                      , out_channels=hidden_units\n",
    "                      , kernel_size=3\n",
    "                      , stride=1\n",
    "                      , padding=1)\n",
    "            , nn.ReLU()\n",
    "            , nn.MaxPool2d(kernel_size=2,\n",
    "                         stride=2) # default stride value is same as kernel_size\n",
    "        )\n",
    "        self.block_2 = nn.Sequential(\n",
    "            nn.Conv2d(hidden_units, hidden_units, 3, padding=1)\n",
    "            , nn.ReLU()\n",
    "            , nn.Conv2d(hidden_units, hidden_units, 3, padding=1)\n",
    "            , nn.ReLU()\n",
    "            , nn.MaxPool2d(2)\n",
    "        )\n",
    "        self.classifier = nn.Sequential(\n",
    "            nn.Flatten()\n",
    "            # Where did this in_features shape come from? \n",
    "            # It's because each layer of our network compresses and changes the shape of our input data.\n",
    "            , nn.Linear(in_features=hidden_units*7*7 \n",
    "                      , out_features=output_shape)\n",
    "        )\n",
    "    \n",
    "    def forward(self, x: torch.Tensor):\n",
    "        x = self.block_1(x)\n",
    "        # print(x.shape)\n",
    "        x = self.block_2(x)\n",
    "        # print(x.shape)\n",
    "        x = self.classifier(x)\n",
    "        # print(x.shape)\n",
    "        return x"
   ]
  },
  {
   "cell_type": "code",
   "execution_count": 89,
   "id": "9093d517",
   "metadata": {},
   "outputs": [
    {
     "data": {
      "text/plain": [
       "'mps'"
      ]
     },
     "execution_count": 89,
     "metadata": {},
     "output_type": "execute_result"
    }
   ],
   "source": [
    "device"
   ]
  },
  {
   "cell_type": "code",
   "execution_count": 90,
   "id": "42dabfef",
   "metadata": {},
   "outputs": [
    {
     "data": {
      "text/plain": [
       "<torch._C.Generator at 0x10c154cb0>"
      ]
     },
     "execution_count": 90,
     "metadata": {},
     "output_type": "execute_result"
    },
    {
     "data": {
      "text/plain": [
       "FashionMNISTModelV2(\n",
       "  (block_1): Sequential(\n",
       "    (0): Conv2d(1, 16, kernel_size=(3, 3), stride=(1, 1), padding=(1, 1))\n",
       "    (1): ReLU()\n",
       "    (2): Conv2d(16, 16, kernel_size=(3, 3), stride=(1, 1), padding=(1, 1))\n",
       "    (3): ReLU()\n",
       "    (4): MaxPool2d(kernel_size=2, stride=2, padding=0, dilation=1, ceil_mode=False)\n",
       "  )\n",
       "  (block_2): Sequential(\n",
       "    (0): Conv2d(16, 16, kernel_size=(3, 3), stride=(1, 1), padding=(1, 1))\n",
       "    (1): ReLU()\n",
       "    (2): Conv2d(16, 16, kernel_size=(3, 3), stride=(1, 1), padding=(1, 1))\n",
       "    (3): ReLU()\n",
       "    (4): MaxPool2d(kernel_size=2, stride=2, padding=0, dilation=1, ceil_mode=False)\n",
       "  )\n",
       "  (classifier): Sequential(\n",
       "    (0): Flatten(start_dim=1, end_dim=-1)\n",
       "    (1): Linear(in_features=784, out_features=10, bias=True)\n",
       "  )\n",
       ")"
      ]
     },
     "execution_count": 90,
     "metadata": {},
     "output_type": "execute_result"
    }
   ],
   "source": [
    "torch.manual_seed(27)\n",
    "model_2 = FashionMNISTModelV2(\n",
    "    input_shape=1\n",
    "    , hidden_units=16\n",
    "    , output_shape=len(class_names)\n",
    ").to(device)\n",
    "\n",
    "model_2"
   ]
  },
  {
   "cell_type": "code",
   "execution_count": 209,
   "id": "112aec94",
   "metadata": {},
   "outputs": [
    {
     "data": {
      "text/plain": [
       "<bound method Module.parameters of FashionMNISTModelV2(\n",
       "  (block_1): Sequential(\n",
       "    (0): Conv2d(1, 16, kernel_size=(3, 3), stride=(1, 1), padding=(1, 1))\n",
       "    (1): ReLU()\n",
       "    (2): Conv2d(16, 16, kernel_size=(3, 3), stride=(1, 1), padding=(1, 1))\n",
       "    (3): ReLU()\n",
       "    (4): MaxPool2d(kernel_size=2, stride=2, padding=0, dilation=1, ceil_mode=False)\n",
       "  )\n",
       "  (block_2): Sequential(\n",
       "    (0): Conv2d(16, 16, kernel_size=(3, 3), stride=(1, 1), padding=(1, 1))\n",
       "    (1): ReLU()\n",
       "    (2): Conv2d(16, 16, kernel_size=(3, 3), stride=(1, 1), padding=(1, 1))\n",
       "    (3): ReLU()\n",
       "    (4): MaxPool2d(kernel_size=2, stride=2, padding=0, dilation=1, ceil_mode=False)\n",
       "  )\n",
       "  (classifier): Sequential(\n",
       "    (0): Flatten(start_dim=1, end_dim=-1)\n",
       "    (1): Linear(in_features=784, out_features=10, bias=True)\n",
       "  )\n",
       ")>"
      ]
     },
     "execution_count": 209,
     "metadata": {},
     "output_type": "execute_result"
    }
   ],
   "source": [
    "model_2.parameters"
   ]
  },
  {
   "cell_type": "code",
   "execution_count": 91,
   "id": "fef4772b",
   "metadata": {},
   "outputs": [],
   "source": [
    "# Setup loss and optimizer\n",
    "\n",
    "loss_fn = nn.CrossEntropyLoss()\n",
    "optimizer = torch.optim.SGD(\n",
    "    params=model_2.parameters()\n",
    "    , lr=0.01)"
   ]
  },
  {
   "cell_type": "code",
   "execution_count": 44,
   "id": "89927846",
   "metadata": {},
   "outputs": [],
   "source": [
    "from tqdm.auto import tqdm"
   ]
  },
  {
   "cell_type": "code",
   "execution_count": 92,
   "id": "20dc405e",
   "metadata": {},
   "outputs": [
    {
     "data": {
      "text/plain": [
       "<torch._C.Generator at 0x10c154cb0>"
      ]
     },
     "execution_count": 92,
     "metadata": {},
     "output_type": "execute_result"
    },
    {
     "data": {
      "application/vnd.jupyter.widget-view+json": {
       "model_id": "2bbb6540e519404eae45f1de6d94e8ad",
       "version_major": 2,
       "version_minor": 0
      },
      "text/plain": [
       "  0%|          | 0/6 [00:00<?, ?it/s]"
      ]
     },
     "metadata": {},
     "output_type": "display_data"
    },
    {
     "name": "stdout",
     "output_type": "stream",
     "text": [
      "Epoch: 0\n",
      "---------\n",
      "Train loss: 1.26926 | Train accuracy: 53.94%\n",
      "Test loss: 0.65979 | Test accuracy: 75.02%\n",
      "\n",
      "Epoch: 1\n",
      "---------\n",
      "Train loss: 0.55685 | Train accuracy: 79.73%\n",
      "Test loss: 0.50010 | Test accuracy: 81.85%\n",
      "\n",
      "Epoch: 2\n",
      "---------\n",
      "Train loss: 0.45020 | Train accuracy: 83.79%\n",
      "Test loss: 0.43742 | Test accuracy: 84.35%\n",
      "\n",
      "Epoch: 3\n",
      "---------\n",
      "Train loss: 0.40611 | Train accuracy: 85.39%\n",
      "Test loss: 0.41848 | Test accuracy: 84.83%\n",
      "\n",
      "Epoch: 4\n",
      "---------\n",
      "Train loss: 0.37893 | Train accuracy: 86.42%\n",
      "Test loss: 0.39526 | Test accuracy: 85.84%\n",
      "\n",
      "Epoch: 5\n",
      "---------\n",
      "Train loss: 0.35926 | Train accuracy: 87.11%\n",
      "Test loss: 0.36981 | Test accuracy: 86.68%\n",
      "\n",
      "Train time on mps: 390.770 seconds\n"
     ]
    }
   ],
   "source": [
    "torch.manual_seed(27)\n",
    "\n",
    "# Measure time\n",
    "from timeit import default_timer as timer\n",
    "train_time_start_model_2 = timer()\n",
    "\n",
    "# Train and test model \n",
    "epochs = 6\n",
    "for epoch in tqdm(range(epochs)):\n",
    "    print(f\"Epoch: {epoch}\\n---------\")\n",
    "    train_step(data_loader=train_dataloader \n",
    "        , model=model_2\n",
    "        , loss_fn=loss_fn\n",
    "        , optimizer=optimizer\n",
    "        , accuracy_fn=accuracy_fn\n",
    "        , device=device\n",
    "    )\n",
    "    test_step(data_loader=test_dataloader\n",
    "        , model=model_2\n",
    "        , loss_fn=loss_fn\n",
    "        , accuracy_fn=accuracy_fn\n",
    "        , device=device\n",
    "    )\n",
    "\n",
    "train_time_end_model_2 = timer()\n",
    "total_train_time_model_2 = print_train_time(\n",
    "    start=train_time_start_model_2\n",
    "    , end=train_time_end_model_2\n",
    "    , device=device)"
   ]
  },
  {
   "cell_type": "code",
   "execution_count": 93,
   "id": "d7dcf08d",
   "metadata": {},
   "outputs": [
    {
     "data": {
      "text/plain": [
       "{'model_name': 'FashionMNISTModelV2',\n",
       " 'model_loss': 0.36981454491615295,\n",
       " 'model_acc': 86.68130990415335}"
      ]
     },
     "execution_count": 93,
     "metadata": {},
     "output_type": "execute_result"
    }
   ],
   "source": [
    "# Get model_2 results \n",
    "model_2_results = eval_model(\n",
    "    model=model_2\n",
    "    , data_loader=test_dataloader\n",
    "    , loss_fn=loss_fn\n",
    "    , accuracy_fn=accuracy_fn\n",
    ")\n",
    "model_2_results"
   ]
  },
  {
   "cell_type": "code",
   "execution_count": 94,
   "id": "0828fd5d",
   "metadata": {},
   "outputs": [
    {
     "data": {
      "text/plain": [
       "<torch._C.Generator at 0x10c154cb0>"
      ]
     },
     "execution_count": 94,
     "metadata": {},
     "output_type": "execute_result"
    },
    {
     "data": {
      "text/plain": [
       "FashionMNISTModelV2(\n",
       "  (block_1): Sequential(\n",
       "    (0): Conv2d(1, 32, kernel_size=(3, 3), stride=(1, 1), padding=(1, 1))\n",
       "    (1): ReLU()\n",
       "    (2): Conv2d(32, 32, kernel_size=(3, 3), stride=(1, 1), padding=(1, 1))\n",
       "    (3): ReLU()\n",
       "    (4): MaxPool2d(kernel_size=2, stride=2, padding=0, dilation=1, ceil_mode=False)\n",
       "  )\n",
       "  (block_2): Sequential(\n",
       "    (0): Conv2d(32, 32, kernel_size=(3, 3), stride=(1, 1), padding=(1, 1))\n",
       "    (1): ReLU()\n",
       "    (2): Conv2d(32, 32, kernel_size=(3, 3), stride=(1, 1), padding=(1, 1))\n",
       "    (3): ReLU()\n",
       "    (4): MaxPool2d(kernel_size=2, stride=2, padding=0, dilation=1, ceil_mode=False)\n",
       "  )\n",
       "  (classifier): Sequential(\n",
       "    (0): Flatten(start_dim=1, end_dim=-1)\n",
       "    (1): Linear(in_features=1568, out_features=10, bias=True)\n",
       "  )\n",
       ")"
      ]
     },
     "execution_count": 94,
     "metadata": {},
     "output_type": "execute_result"
    }
   ],
   "source": [
    "# REMEMBER: If you spin up additional models to test new params, hidden layers, neurons, etc. REMEMBER TO RE-RUN THE OPTIMIZER AND LOSS_FN FOR THAT MODEL!!! (otherwise, you will get abysmally low acc rates!!!)\n",
    "\n",
    "torch.manual_seed(27)\n",
    "model_3 = FashionMNISTModelV2(\n",
    "    input_shape=1\n",
    "    , hidden_units=32\n",
    "    , output_shape=len(class_names)\n",
    ").to(device)\n",
    "\n",
    "model_3"
   ]
  },
  {
   "cell_type": "code",
   "execution_count": 95,
   "id": "4d41a896",
   "metadata": {},
   "outputs": [],
   "source": [
    "# REMEMBER: If you spin up additional models to test new params, hidden layers, neurons, etc. REMEMBER TO RE-RUN THE OPTIMIZER AND LOSS_FN FOR THAT MODEL!!! (otherwise, you will get abysmally low acc rates!!!)\n",
    "\n",
    "loss_fn = nn.CrossEntropyLoss()\n",
    "optimizer = torch.optim.SGD(\n",
    "    params=model_3.parameters()\n",
    "    , lr=0.01)"
   ]
  },
  {
   "cell_type": "code",
   "execution_count": 96,
   "id": "63a72f31",
   "metadata": {
    "scrolled": false
   },
   "outputs": [
    {
     "data": {
      "text/plain": [
       "<torch._C.Generator at 0x10c154cb0>"
      ]
     },
     "execution_count": 96,
     "metadata": {},
     "output_type": "execute_result"
    },
    {
     "data": {
      "application/vnd.jupyter.widget-view+json": {
       "model_id": "50fa3ae4ff75460ba91c9b322e81c1d2",
       "version_major": 2,
       "version_minor": 0
      },
      "text/plain": [
       "  0%|          | 0/9 [00:00<?, ?it/s]"
      ]
     },
     "metadata": {},
     "output_type": "display_data"
    },
    {
     "name": "stdout",
     "output_type": "stream",
     "text": [
      "Epoch: 0\n",
      "---------\n",
      "Train loss: 0.89853 | Train accuracy: 67.58%\n",
      "Test loss: 0.54379 | Test accuracy: 80.13%\n",
      "\n",
      "Epoch: 1\n",
      "---------\n",
      "Train loss: 0.47798 | Train accuracy: 82.95%\n",
      "Test loss: 0.44460 | Test accuracy: 84.09%\n",
      "\n",
      "Epoch: 2\n",
      "---------\n",
      "Train loss: 0.40473 | Train accuracy: 85.66%\n",
      "Test loss: 0.40498 | Test accuracy: 85.53%\n",
      "\n",
      "Epoch: 3\n",
      "---------\n",
      "Train loss: 0.36373 | Train accuracy: 86.97%\n",
      "Test loss: 0.37115 | Test accuracy: 86.76%\n",
      "\n",
      "Epoch: 4\n",
      "---------\n",
      "Train loss: 0.33676 | Train accuracy: 87.89%\n",
      "Test loss: 0.34459 | Test accuracy: 87.84%\n",
      "\n",
      "Epoch: 5\n",
      "---------\n",
      "Train loss: 0.31873 | Train accuracy: 88.66%\n",
      "Test loss: 0.34991 | Test accuracy: 87.72%\n",
      "\n",
      "Epoch: 6\n",
      "---------\n",
      "Train loss: 0.30305 | Train accuracy: 89.19%\n",
      "Test loss: 0.34741 | Test accuracy: 87.79%\n",
      "\n",
      "Epoch: 7\n",
      "---------\n",
      "Train loss: 0.29167 | Train accuracy: 89.55%\n",
      "Test loss: 0.31554 | Test accuracy: 88.77%\n",
      "\n",
      "Epoch: 8\n",
      "---------\n",
      "Train loss: 0.28220 | Train accuracy: 90.00%\n",
      "Test loss: 0.31135 | Test accuracy: 89.05%\n",
      "\n",
      "Train time on mps: 602.147 seconds\n"
     ]
    }
   ],
   "source": [
    "torch.manual_seed(27)\n",
    "\n",
    "# Measure time\n",
    "from timeit import default_timer as timer\n",
    "train_time_start_model_3 = timer()\n",
    "\n",
    "# Train and test model \n",
    "epochs = 9\n",
    "for epoch in tqdm(range(epochs)):\n",
    "    print(f\"Epoch: {epoch}\\n---------\")\n",
    "    train_step(data_loader=train_dataloader \n",
    "        , model=model_3\n",
    "        , loss_fn=loss_fn\n",
    "        , optimizer=optimizer\n",
    "        , accuracy_fn=accuracy_fn\n",
    "        , device=device\n",
    "    )\n",
    "    test_step(data_loader=test_dataloader\n",
    "        , model=model_3\n",
    "        , loss_fn=loss_fn\n",
    "        , accuracy_fn=accuracy_fn\n",
    "        , device=device\n",
    "    )\n",
    "\n",
    "train_time_end_model_3 = timer()\n",
    "total_train_time_model_3 = print_train_time(\n",
    "    start=train_time_start_model_3\n",
    "    , end=train_time_end_model_3\n",
    "    , device=device)"
   ]
  },
  {
   "cell_type": "code",
   "execution_count": 85,
   "id": "60192e74",
   "metadata": {},
   "outputs": [
    {
     "data": {
      "text/plain": [
       "{'model_name': 'FashionMNISTModelV2',\n",
       " 'model_loss': 0.2466222494840622,\n",
       " 'model_acc': 92.06269968051119}"
      ]
     },
     "execution_count": 85,
     "metadata": {},
     "output_type": "execute_result"
    }
   ],
   "source": [
    "# Get model_2 results \n",
    "model_3_results = eval_model(\n",
    "    model=model_3\n",
    "    , data_loader=test_dataloader\n",
    "    , loss_fn=loss_fn\n",
    "    , accuracy_fn=accuracy_fn\n",
    ")\n",
    "model_3_results"
   ]
  },
  {
   "cell_type": "code",
   "execution_count": 82,
   "id": "b1394041",
   "metadata": {},
   "outputs": [
    {
     "data": {
      "text/plain": [
       "{'model_name': 'FashionMNISTModelV2',\n",
       " 'model_loss': 0.23812277615070343,\n",
       " 'model_acc': 92.1026357827476}"
      ]
     },
     "execution_count": 82,
     "metadata": {},
     "output_type": "execute_result"
    }
   ],
   "source": [
    "# Get model_2 results \n",
    "model_3_results = eval_model(\n",
    "    model=model_3\n",
    "    , data_loader=test_dataloader\n",
    "    , loss_fn=loss_fn\n",
    "    , accuracy_fn=accuracy_fn\n",
    ")\n",
    "model_3_results"
   ]
  },
  {
   "cell_type": "code",
   "execution_count": 97,
   "id": "7897da76",
   "metadata": {},
   "outputs": [
    {
     "data": {
      "text/plain": [
       "<torch._C.Generator at 0x10c154cb0>"
      ]
     },
     "execution_count": 97,
     "metadata": {},
     "output_type": "execute_result"
    },
    {
     "data": {
      "text/plain": [
       "FashionMNISTModelV2(\n",
       "  (block_1): Sequential(\n",
       "    (0): Conv2d(1, 28, kernel_size=(3, 3), stride=(1, 1), padding=(1, 1))\n",
       "    (1): ReLU()\n",
       "    (2): Conv2d(28, 28, kernel_size=(3, 3), stride=(1, 1), padding=(1, 1))\n",
       "    (3): ReLU()\n",
       "    (4): MaxPool2d(kernel_size=2, stride=2, padding=0, dilation=1, ceil_mode=False)\n",
       "  )\n",
       "  (block_2): Sequential(\n",
       "    (0): Conv2d(28, 28, kernel_size=(3, 3), stride=(1, 1), padding=(1, 1))\n",
       "    (1): ReLU()\n",
       "    (2): Conv2d(28, 28, kernel_size=(3, 3), stride=(1, 1), padding=(1, 1))\n",
       "    (3): ReLU()\n",
       "    (4): MaxPool2d(kernel_size=2, stride=2, padding=0, dilation=1, ceil_mode=False)\n",
       "  )\n",
       "  (classifier): Sequential(\n",
       "    (0): Flatten(start_dim=1, end_dim=-1)\n",
       "    (1): Linear(in_features=1372, out_features=10, bias=True)\n",
       "  )\n",
       ")"
      ]
     },
     "execution_count": 97,
     "metadata": {},
     "output_type": "execute_result"
    }
   ],
   "source": [
    "# REMEMBER: If you spin up additional models to test new params, hidden layers, neurons, etc. REMEMBER TO RE-RUN THE OPTIMIZER AND LOSS_FN FOR THAT MODEL!!! (otherwise, you will get abysmally low acc rates!!!)\n",
    "\n",
    "torch.manual_seed(27)\n",
    "model_4 = FashionMNISTModelV2(\n",
    "    input_shape=1\n",
    "    , hidden_units=28\n",
    "    , output_shape=len(class_names)\n",
    ").to(device)\n",
    "\n",
    "model_4"
   ]
  },
  {
   "cell_type": "code",
   "execution_count": 98,
   "id": "bb05efa2",
   "metadata": {},
   "outputs": [],
   "source": [
    "# REMEMBER: If you spin up additional models to test new params, hidden layers, neurons, etc. REMEMBER TO RE-RUN THE OPTIMIZER AND LOSS_FN FOR THAT MODEL!!! (otherwise, you will get abysmally low acc rates!!!)\n",
    "\n",
    "loss_fn = nn.CrossEntropyLoss()\n",
    "optimizer = torch.optim.SGD(\n",
    "    params=model_4.parameters()\n",
    "    , lr=0.01)"
   ]
  },
  {
   "cell_type": "code",
   "execution_count": 133,
   "id": "8bad1491",
   "metadata": {},
   "outputs": [
    {
     "data": {
      "text/plain": [
       "0.01"
      ]
     },
     "execution_count": 133,
     "metadata": {},
     "output_type": "execute_result"
    },
    {
     "data": {
      "text/plain": [
       "CrossEntropyLoss()"
      ]
     },
     "execution_count": 133,
     "metadata": {},
     "output_type": "execute_result"
    },
    {
     "data": {
      "text/plain": [
       "Conv2d(1, 28, kernel_size=(3, 3), stride=(1, 1), padding=(1, 1))"
      ]
     },
     "execution_count": 133,
     "metadata": {},
     "output_type": "execute_result"
    }
   ],
   "source": [
    "optimizer.param_groups[0]['lr']\n",
    "loss_fn\n",
    "# model_4.parameters('hidden_units')\n",
    "model_4.block_1[0]"
   ]
  },
  {
   "cell_type": "code",
   "execution_count": 134,
   "id": "2f73ec8d",
   "metadata": {},
   "outputs": [
    {
     "name": "stdout",
     "output_type": "stream",
     "text": [
      "Model 4: lr=0.01, model params: Conv2d(1, 28, kernel_size=(3, 3), stride=(1, 1), padding=(1, 1))\n"
     ]
    }
   ],
   "source": [
    "print(f\"Model 4: lr={optimizer.param_groups[0]['lr']}, model params: {model_4.block_1[0]}\")"
   ]
  },
  {
   "cell_type": "code",
   "execution_count": 140,
   "id": "9d6e9e0f",
   "metadata": {
    "scrolled": false
   },
   "outputs": [
    {
     "name": "stdout",
     "output_type": "stream",
     "text": [
      "Model 4: lr=0.01, model params: Conv2d(1, 28, kernel_size=(3, 3), stride=(1, 1), padding=(1, 1))\n"
     ]
    },
    {
     "data": {
      "text/plain": [
       "<torch._C.Generator at 0x10c154cb0>"
      ]
     },
     "execution_count": 140,
     "metadata": {},
     "output_type": "execute_result"
    },
    {
     "data": {
      "application/vnd.jupyter.widget-view+json": {
       "model_id": "439a70140f5446e9948c6dba80a36a39",
       "version_major": 2,
       "version_minor": 0
      },
      "text/plain": [
       "  0%|          | 0/9 [00:00<?, ?it/s]"
      ]
     },
     "metadata": {},
     "output_type": "display_data"
    },
    {
     "name": "stdout",
     "output_type": "stream",
     "text": [
      "Epoch: 0\n",
      "---------\n",
      "Train loss: 0.22971 | Train accuracy: 91.59%\n",
      "Test loss: 0.29399 | Test accuracy: 89.47%\n",
      "\n",
      "Epoch: 1\n",
      "---------\n",
      "Train loss: 0.22478 | Train accuracy: 91.84%\n",
      "Test loss: 0.27778 | Test accuracy: 89.75%\n",
      "\n",
      "Epoch: 2\n",
      "---------\n",
      "Train loss: 0.22192 | Train accuracy: 91.94%\n",
      "Test loss: 0.26799 | Test accuracy: 90.16%\n",
      "\n",
      "Epoch: 3\n",
      "---------\n",
      "Train loss: 0.21755 | Train accuracy: 92.04%\n",
      "Test loss: 0.26147 | Test accuracy: 90.50%\n",
      "\n",
      "Epoch: 4\n",
      "---------\n",
      "Train loss: 0.21415 | Train accuracy: 92.32%\n",
      "Test loss: 0.25344 | Test accuracy: 90.74%\n",
      "\n",
      "Epoch: 5\n",
      "---------\n",
      "Train loss: 0.21021 | Train accuracy: 92.34%\n",
      "Test loss: 0.28515 | Test accuracy: 89.94%\n",
      "\n",
      "Epoch: 6\n",
      "---------\n",
      "Train loss: 0.20664 | Train accuracy: 92.48%\n",
      "Test loss: 0.26141 | Test accuracy: 90.71%\n",
      "\n",
      "Epoch: 7\n",
      "---------\n",
      "Train loss: 0.20367 | Train accuracy: 92.66%\n",
      "Test loss: 0.26483 | Test accuracy: 90.62%\n",
      "\n",
      "Epoch: 8\n",
      "---------\n",
      "Train loss: 0.20035 | Train accuracy: 92.69%\n",
      "Test loss: 0.25473 | Test accuracy: 90.94%\n",
      "\n",
      "Train time on mps: 543.276 seconds\n"
     ]
    }
   ],
   "source": [
    "print(f\"Model 4: lr={optimizer.param_groups[0]['lr']}, model params: {model_4.block_1[0]}\")\n",
    "\n",
    "torch.manual_seed(27)\n",
    "\n",
    "# Measure time\n",
    "from timeit import default_timer as timer\n",
    "train_time_start_model_4 = timer()\n",
    "\n",
    "# Train and test model \n",
    "epochs = 9\n",
    "for epoch in tqdm(range(epochs)):\n",
    "    print(f\"Epoch: {epoch}\\n---------\")\n",
    "    train_step(data_loader=train_dataloader \n",
    "        , model=model_4\n",
    "        , loss_fn=loss_fn\n",
    "        , optimizer=optimizer\n",
    "        , accuracy_fn=accuracy_fn\n",
    "        , device=device\n",
    "    )\n",
    "    test_step(data_loader=test_dataloader\n",
    "        , model=model_4\n",
    "        , loss_fn=loss_fn\n",
    "        , accuracy_fn=accuracy_fn\n",
    "        , device=device\n",
    "    )\n",
    "\n",
    "train_time_end_model_4 = timer()\n",
    "total_train_time_model_4 = print_train_time(\n",
    "    start=train_time_start_model_4\n",
    "    , end=train_time_end_model_4\n",
    "    , device=device)"
   ]
  },
  {
   "cell_type": "code",
   "execution_count": 139,
   "id": "b8a66c08",
   "metadata": {},
   "outputs": [
    {
     "name": "stdout",
     "output_type": "stream",
     "text": [
      "Model 4: lr=0.01, model params: Conv2d(1, 28, kernel_size=(3, 3), stride=(1, 1), padding=(1, 1))\n"
     ]
    },
    {
     "data": {
      "text/plain": [
       "{'model_name': 'FashionMNISTModelV2',\n",
       " 'model_loss': 0.27338624000549316,\n",
       " 'model_acc': 90.45527156549521}"
      ]
     },
     "execution_count": 139,
     "metadata": {},
     "output_type": "execute_result"
    }
   ],
   "source": [
    "print(f\"Model 4: lr={optimizer.param_groups[0]['lr']}, model params: {model_4.block_1[0]}\")\n",
    "\n",
    "model_4_results = eval_model(\n",
    "    model=model_4\n",
    "    , data_loader=test_dataloader\n",
    "    , loss_fn=loss_fn\n",
    "    , accuracy_fn=accuracy_fn\n",
    ")\n",
    "model_4_results"
   ]
  },
  {
   "cell_type": "code",
   "execution_count": 137,
   "id": "358260e8",
   "metadata": {},
   "outputs": [
    {
     "data": {
      "text/plain": [
       "Conv2d(1, 28, kernel_size=(3, 3), stride=(1, 1), padding=(1, 1))"
      ]
     },
     "execution_count": 137,
     "metadata": {},
     "output_type": "execute_result"
    }
   ],
   "source": []
  },
  {
   "cell_type": "code",
   "execution_count": null,
   "id": "f6b8bb47",
   "metadata": {},
   "outputs": [],
   "source": []
  },
  {
   "cell_type": "code",
   "execution_count": null,
   "id": "823408f4",
   "metadata": {},
   "outputs": [],
   "source": []
  },
  {
   "cell_type": "code",
   "execution_count": null,
   "id": "2d4f07e4",
   "metadata": {},
   "outputs": [],
   "source": []
  },
  {
   "cell_type": "code",
   "execution_count": 163,
   "id": "7f29fe5c",
   "metadata": {},
   "outputs": [],
   "source": [
    "# A trick for remembering hidden size and calculating the spatial dementions after going through the layers:\n",
    "\n",
    "import torch.nn as nn\n",
    "\n",
    "class FashionMNISTModelV3(nn.Module):\n",
    "    def __init__(self, hidden_channels=32):\n",
    "        super().__init__()\n",
    "        self.hidden_channels = hidden_channels  # <- keep it!\n",
    "        self.block_1 = nn.Sequential(\n",
    "            nn.Conv2d(1, hidden_channels, 3, padding=1)\n",
    "            , nn.ReLU()\n",
    "            , nn.Conv2d(hidden_channels, hidden_channels, 3, padding=1)\n",
    "            , nn.ReLU()\n",
    "            , nn.MaxPool2d(2)\n",
    "        )\n",
    "        self.block_2 = nn.Sequential(\n",
    "            nn.Conv2d(hidden_channels, hidden_channels, 3, padding=1)\n",
    "            , nn.ReLU()\n",
    "            , nn.Conv2d(hidden_channels, hidden_channels, 3, padding=1)\n",
    "            , nn.ReLU()\n",
    "            , nn.MaxPool2d(2)\n",
    "        )\n",
    "        # 28x28 -> pool2x -> 14x14 -> pool2x -> 7x7; flatten -> hidden_channels*7*7\n",
    "        \"\"\"\n",
    "        Translation --> To calculate our 'in_features': In block1, since the nn.MaxPool2d kernal_size=2, we             DIVIDE 28x28 by 2 (hence 28x28 --> 14x14); then in block2, the same occurs, so 14x14 --> 7x7, which             must be multiplied by our 'hidden_channels'; so for our classifier, we flatten, then build our Linear           Layer with that equation for 'in_features' and our out_features=10, as we have 10 diff't classes;\n",
    "        \n",
    "        nn.Linear(in_features=(hidden_channels * 7 * 7, out_features=10)\n",
    "        \n",
    "        \"\"\"\n",
    "        self.classifier = nn.Sequential(\n",
    "            nn.Flatten(1)\n",
    "            , nn.Linear(\n",
    "                in_features=(hidden_channels * 7 * 7)\n",
    "                , out_features=10),\n",
    "        )\n",
    "\n",
    "    def __repr__(self):\n",
    "        # optional: include hyperparams in repr for easy logging\n",
    "        base = super().__repr__()\n",
    "        return f\"{base[:-1]}\\n  (hidden_channels): {self.hidden_channels}\\n)\"\n",
    "    \n",
    "    def forward(self, x: torch.Tensor):\n",
    "        x = self.block_1(x)\n",
    "        x = self.block_2(x)\n",
    "        x = self.classifier(x)\n",
    "        return x"
   ]
  },
  {
   "cell_type": "code",
   "execution_count": 152,
   "id": "34740a1a",
   "metadata": {},
   "outputs": [
    {
     "data": {
      "text/plain": [
       "<torch._C.Generator at 0x10c154cb0>"
      ]
     },
     "execution_count": 152,
     "metadata": {},
     "output_type": "execute_result"
    },
    {
     "data": {
      "text/plain": [
       "FashionMNISTModelV3(\n",
       "  (block_1): Sequential(\n",
       "    (0): Conv2d(1, 64, kernel_size=(3, 3), stride=(1, 1), padding=(1, 1))\n",
       "    (1): ReLU()\n",
       "    (2): Conv2d(64, 64, kernel_size=(3, 3), stride=(1, 1), padding=(1, 1))\n",
       "    (3): ReLU()\n",
       "    (4): MaxPool2d(kernel_size=2, stride=2, padding=0, dilation=1, ceil_mode=False)\n",
       "  )\n",
       "  (block_2): Sequential(\n",
       "    (0): Conv2d(64, 64, kernel_size=(3, 3), stride=(1, 1), padding=(1, 1))\n",
       "    (1): ReLU()\n",
       "    (2): Conv2d(64, 64, kernel_size=(3, 3), stride=(1, 1), padding=(1, 1))\n",
       "    (3): ReLU()\n",
       "    (4): MaxPool2d(kernel_size=2, stride=2, padding=0, dilation=1, ceil_mode=False)\n",
       "  )\n",
       "  (classifier): Sequential(\n",
       "    (0): Flatten(start_dim=1, end_dim=-1)\n",
       "    (1): Linear(in_features=3136, out_features=10, bias=True)\n",
       "  )\n",
       "\n",
       "  (hidden_channels): 64\n",
       ")"
      ]
     },
     "execution_count": 152,
     "metadata": {},
     "output_type": "execute_result"
    }
   ],
   "source": [
    "torch.manual_seed(27)\n",
    "model_0x = FashionMNISTModelV3(\n",
    "#     input_shape=1\n",
    "    hidden_channels=64\n",
    "#     , output_shape=len(class_names)\n",
    ").to(device)\n",
    "\n",
    "model_0x"
   ]
  },
  {
   "cell_type": "code",
   "execution_count": 155,
   "id": "595b7164",
   "metadata": {},
   "outputs": [],
   "source": [
    "# REMEMBER: If you spin up additional models to test new params, hidden layers, neurons, etc. REMEMBER TO RE-RUN THE OPTIMIZER AND LOSS_FN FOR THAT MODEL!!! (otherwise, you will get abysmally low acc rates!!!)\n",
    "\n",
    "loss_fn_0x = nn.CrossEntropyLoss()\n",
    "optimizer_0x = torch.optim.SGD(\n",
    "    params=model_0x.parameters()\n",
    "    , lr=0.007)"
   ]
  },
  {
   "cell_type": "code",
   "execution_count": 156,
   "id": "e0b7fada",
   "metadata": {},
   "outputs": [
    {
     "data": {
      "text/plain": [
       "<torch._C.Generator at 0x10c154cb0>"
      ]
     },
     "execution_count": 156,
     "metadata": {},
     "output_type": "execute_result"
    },
    {
     "data": {
      "application/vnd.jupyter.widget-view+json": {
       "model_id": "f22e5ea4774445309cb052c3614a12bd",
       "version_major": 2,
       "version_minor": 0
      },
      "text/plain": [
       "  0%|          | 0/9 [00:00<?, ?it/s]"
      ]
     },
     "metadata": {},
     "output_type": "display_data"
    },
    {
     "name": "stdout",
     "output_type": "stream",
     "text": [
      "Epoch: 0\n",
      "---------\n",
      "Train loss: 0.24837 | Train accuracy: 90.94%\n",
      "Test loss: 0.29816 | Test accuracy: 88.99%\n",
      "\n",
      "Epoch: 1\n",
      "---------\n",
      "Train loss: 0.24239 | Train accuracy: 91.20%\n",
      "Test loss: 0.28087 | Test accuracy: 89.89%\n",
      "\n",
      "Epoch: 2\n",
      "---------\n",
      "Train loss: 0.23673 | Train accuracy: 91.41%\n",
      "Test loss: 0.28479 | Test accuracy: 89.23%\n",
      "\n",
      "Epoch: 3\n",
      "---------\n",
      "Train loss: 0.23146 | Train accuracy: 91.58%\n",
      "Test loss: 0.26748 | Test accuracy: 90.34%\n",
      "\n",
      "Epoch: 4\n",
      "---------\n",
      "Train loss: 0.22663 | Train accuracy: 91.86%\n",
      "Test loss: 0.26710 | Test accuracy: 90.52%\n",
      "\n",
      "Epoch: 5\n",
      "---------\n",
      "Train loss: 0.22175 | Train accuracy: 92.06%\n",
      "Test loss: 0.27997 | Test accuracy: 89.90%\n",
      "\n",
      "Epoch: 6\n",
      "---------\n",
      "Train loss: 0.21633 | Train accuracy: 92.12%\n",
      "Test loss: 0.27079 | Test accuracy: 90.29%\n",
      "\n",
      "Epoch: 7\n",
      "---------\n",
      "Train loss: 0.21271 | Train accuracy: 92.28%\n",
      "Test loss: 0.26669 | Test accuracy: 90.41%\n",
      "\n",
      "Epoch: 8\n",
      "---------\n",
      "Train loss: 0.20844 | Train accuracy: 92.44%\n",
      "Test loss: 0.26565 | Test accuracy: 90.36%\n",
      "\n",
      "Train time on mps: 590.522 seconds\n"
     ]
    }
   ],
   "source": [
    "torch.manual_seed(27)\n",
    "\n",
    "# Measure time\n",
    "from timeit import default_timer as timer\n",
    "train_time_start_model_0x = timer()\n",
    "\n",
    "# Train and test model \n",
    "epochs = 9\n",
    "for epoch in tqdm(range(epochs)):\n",
    "    print(f\"Epoch: {epoch}\\n---------\")\n",
    "    train_step(data_loader=train_dataloader \n",
    "        , model=model_0x\n",
    "        , loss_fn=loss_fn_0x\n",
    "        , optimizer=optimizer_0x\n",
    "        , accuracy_fn=accuracy_fn\n",
    "        , device=device\n",
    "    )\n",
    "    test_step(data_loader=test_dataloader\n",
    "        , model=model_0x\n",
    "        , loss_fn=loss_fn_0x\n",
    "        , accuracy_fn=accuracy_fn\n",
    "        , device=device\n",
    "    )\n",
    "\n",
    "train_time_end_model_0x = timer()\n",
    "total_train_time_model_0x = print_train_time(\n",
    "    start=train_time_start_model_0x\n",
    "    , end=train_time_end_model_0x\n",
    "    , device=device)"
   ]
  },
  {
   "cell_type": "code",
   "execution_count": 157,
   "id": "530706cc",
   "metadata": {},
   "outputs": [
    {
     "name": "stdout",
     "output_type": "stream",
     "text": [
      "Model: lr=0.007, model params: Conv2d(1, 64, kernel_size=(3, 3), stride=(1, 1), padding=(1, 1))\n"
     ]
    },
    {
     "data": {
      "text/plain": [
       "{'model_name': 'FashionMNISTModelV3',\n",
       " 'model_loss': 0.2656458020210266,\n",
       " 'model_acc': 90.35543130990415}"
      ]
     },
     "execution_count": 157,
     "metadata": {},
     "output_type": "execute_result"
    }
   ],
   "source": [
    "print(f\"Model: lr={optimizer_0x.param_groups[0]['lr']}, model params: {model_0x.block_1[0]}\")\n",
    "\n",
    "model_0x_results = eval_model(\n",
    "    model=model_0x\n",
    "    , data_loader=test_dataloader\n",
    "    , loss_fn=loss_fn_0x\n",
    "    , accuracy_fn=accuracy_fn\n",
    ")\n",
    "model_0x_results"
   ]
  },
  {
   "cell_type": "code",
   "execution_count": null,
   "id": "72e9773a",
   "metadata": {},
   "outputs": [],
   "source": []
  },
  {
   "cell_type": "code",
   "execution_count": null,
   "id": "c3a82212",
   "metadata": {},
   "outputs": [],
   "source": []
  },
  {
   "cell_type": "code",
   "execution_count": 158,
   "id": "afe84920",
   "metadata": {},
   "outputs": [],
   "source": [
    "# REMEMBER: If you spin up additional models to test new params, hidden layers, neurons, etc. REMEMBER TO RE-RUN THE OPTIMIZER AND LOSS_FN FOR THAT MODEL!!! (otherwise, you will get abysmally low acc rates!!!)\n",
    "\n",
    "loss_fn_0x = nn.CrossEntropyLoss()\n",
    "optimizer_0x = torch.optim.SGD(\n",
    "    params=model_0x.parameters()\n",
    "    , lr=0.005)"
   ]
  },
  {
   "cell_type": "code",
   "execution_count": 159,
   "id": "7300cab8",
   "metadata": {},
   "outputs": [
    {
     "data": {
      "text/plain": [
       "<torch._C.Generator at 0x10c154cb0>"
      ]
     },
     "execution_count": 159,
     "metadata": {},
     "output_type": "execute_result"
    },
    {
     "data": {
      "application/vnd.jupyter.widget-view+json": {
       "model_id": "c2f2f29be8e94feba72757b671df324a",
       "version_major": 2,
       "version_minor": 0
      },
      "text/plain": [
       "  0%|          | 0/9 [00:00<?, ?it/s]"
      ]
     },
     "metadata": {},
     "output_type": "display_data"
    },
    {
     "name": "stdout",
     "output_type": "stream",
     "text": [
      "Epoch: 0\n",
      "---------\n",
      "Train loss: 0.19841 | Train accuracy: 92.74%\n",
      "Test loss: 0.26851 | Test accuracy: 90.39%\n",
      "\n",
      "Epoch: 1\n",
      "---------\n",
      "Train loss: 0.19559 | Train accuracy: 92.89%\n",
      "Test loss: 0.25692 | Test accuracy: 90.62%\n",
      "\n",
      "Epoch: 2\n",
      "---------\n",
      "Train loss: 0.19262 | Train accuracy: 92.97%\n",
      "Test loss: 0.26444 | Test accuracy: 90.28%\n",
      "\n",
      "Epoch: 3\n",
      "---------\n",
      "Train loss: 0.18966 | Train accuracy: 93.16%\n",
      "Test loss: 0.24592 | Test accuracy: 91.47%\n",
      "\n",
      "Epoch: 4\n",
      "---------\n",
      "Train loss: 0.18686 | Train accuracy: 93.25%\n",
      "Test loss: 0.24751 | Test accuracy: 91.28%\n",
      "\n",
      "Epoch: 5\n",
      "---------\n",
      "Train loss: 0.18390 | Train accuracy: 93.38%\n",
      "Test loss: 0.26061 | Test accuracy: 90.86%\n",
      "\n",
      "Epoch: 6\n",
      "---------\n",
      "Train loss: 0.18085 | Train accuracy: 93.39%\n",
      "Test loss: 0.25148 | Test accuracy: 91.09%\n",
      "\n",
      "Epoch: 7\n",
      "---------\n",
      "Train loss: 0.17846 | Train accuracy: 93.54%\n",
      "Test loss: 0.25170 | Test accuracy: 91.14%\n",
      "\n",
      "Epoch: 8\n",
      "---------\n",
      "Train loss: 0.17574 | Train accuracy: 93.67%\n",
      "Test loss: 0.25294 | Test accuracy: 90.83%\n",
      "\n",
      "Train time on mps: 585.527 seconds\n"
     ]
    }
   ],
   "source": [
    "torch.manual_seed(27)\n",
    "\n",
    "# Measure time\n",
    "from timeit import default_timer as timer\n",
    "train_time_start_model_0x = timer()\n",
    "\n",
    "# Train and test model \n",
    "epochs = 9\n",
    "for epoch in tqdm(range(epochs)):\n",
    "    print(f\"Epoch: {epoch}\\n---------\")\n",
    "    train_step(data_loader=train_dataloader \n",
    "        , model=model_0x\n",
    "        , loss_fn=loss_fn_0x\n",
    "        , optimizer=optimizer_0x\n",
    "        , accuracy_fn=accuracy_fn\n",
    "        , device=device\n",
    "    )\n",
    "    test_step(data_loader=test_dataloader\n",
    "        , model=model_0x\n",
    "        , loss_fn=loss_fn_0x\n",
    "        , accuracy_fn=accuracy_fn\n",
    "        , device=device\n",
    "    )\n",
    "\n",
    "train_time_end_model_0x = timer()\n",
    "total_train_time_model_0x = print_train_time(\n",
    "    start=train_time_start_model_0x\n",
    "    , end=train_time_end_model_0x\n",
    "    , device=device)"
   ]
  },
  {
   "cell_type": "code",
   "execution_count": 164,
   "id": "82253ad5",
   "metadata": {},
   "outputs": [
    {
     "name": "stdout",
     "output_type": "stream",
     "text": [
      "Model: lr=0.005, model params: Conv2d(1, 64, kernel_size=(3, 3), stride=(1, 1), padding=(1, 1))\n"
     ]
    },
    {
     "data": {
      "text/plain": [
       "{'model_name': 'FashionMNISTModelV3',\n",
       " 'model_loss': 0.25294041633605957,\n",
       " 'model_acc': 90.83466453674122}"
      ]
     },
     "execution_count": 164,
     "metadata": {},
     "output_type": "execute_result"
    }
   ],
   "source": [
    "print(f\"Model: lr={optimizer_0x.param_groups[0]['lr']}, model params: {model_0x.block_1[0]}\")\n",
    "\n",
    "model_0x_results = eval_model(\n",
    "    model=model_0x\n",
    "    , data_loader=test_dataloader\n",
    "    , loss_fn=loss_fn_0x\n",
    "    , accuracy_fn=accuracy_fn\n",
    ")\n",
    "model_0x_results"
   ]
  },
  {
   "cell_type": "code",
   "execution_count": null,
   "id": "3f7cfecc",
   "metadata": {},
   "outputs": [],
   "source": []
  },
  {
   "cell_type": "code",
   "execution_count": null,
   "id": "b605bc16",
   "metadata": {},
   "outputs": [],
   "source": [
    "'''\n",
    "class FashionMNIST_CNN(nn.Module):\n",
    "    def __init__(self):\n",
    "        super(FashionMNIST_CNN, self).__init__()\n",
    "        # Convolutional layers for feature extraction\n",
    "        self.conv_layers = nn.Sequential(\n",
    "            nn.Conv2d(1, 32, kernel_size=3, padding=1)\n",
    "            , nn.ReLU()\n",
    "            , nn.MaxPool2d(kernel_size=2, stride=2)\n",
    "            , nn.Conv2d(32, 64, kernel_size=3, padding=1)\n",
    "            , nn.ReLU()\n",
    "            , nn.MaxPool2d(kernel_size=2, stride=2)\n",
    "        )\n",
    "        # Fully connected layers for classification\n",
    "        # The input size to the first fully connected layer depends on the output of conv_layers\n",
    "        # For 28x28 input, after two 2x2 max pools, spatial dimensions become 7x7\n",
    "        # So, 64 filters * 7 * 7 = 3136\n",
    "        self.classifier = nn.Sequential(\n",
    "            nn.Linear(64 * 7 * 7, 128), # Example hidden layer with 128 units\n",
    "            , nn.ReLU()\n",
    "            , nn.Dropout(0.5) # Optional: Add dropout for regularization\n",
    "            , nn.Linear(128, 10) # Output layer for 10 classes\n",
    "        )\n",
    "\n",
    "    def forward(self, x):\n",
    "        x = self.conv_layers(x)\n",
    "        x = x.view(x.size(0), -1) # Flatten the feature maps\n",
    "        x = self.classifier(x)\n",
    "        return x\n",
    "'''"
   ]
  },
  {
   "cell_type": "code",
   "execution_count": null,
   "id": "eec2ef91",
   "metadata": {},
   "outputs": [],
   "source": []
  },
  {
   "cell_type": "code",
   "execution_count": null,
   "id": "a28cf443",
   "metadata": {},
   "outputs": [],
   "source": []
  },
  {
   "cell_type": "code",
   "execution_count": null,
   "id": "7dc9ced2",
   "metadata": {},
   "outputs": [],
   "source": [
    "\"\"\"\n",
    "# lr=0.007; h/u=32:\n",
    "\n",
    "{'model_name': 'FashionMNISTModelV2',\n",
    " 'model_loss': 0.23812277615070343,\n",
    " 'model_acc': 92.1026357827476}\n",
    "\n",
    "<torch._C.Generator at 0x10c154cb0>\n",
    "100%\n",
    " 9/9 [09:12<00:00, 61.46s/it]\n",
    "Epoch: 0\n",
    "---------\n",
    "Train loss: 0.11843 | Train accuracy: 95.84%\n",
    "Test loss: 0.23914 | Test accuracy: 92.13%\n",
    "\n",
    "Epoch: 1\n",
    "---------\n",
    "Train loss: 0.11679 | Train accuracy: 95.89%\n",
    "Test loss: 0.23882 | Test accuracy: 92.00%\n",
    "\n",
    "Epoch: 2\n",
    "---------\n",
    "Train loss: 0.11516 | Train accuracy: 96.00%\n",
    "Test loss: 0.23933 | Test accuracy: 92.22%\n",
    "\n",
    "Epoch: 3\n",
    "---------\n",
    "Train loss: 0.11382 | Train accuracy: 96.06%\n",
    "Test loss: 0.24243 | Test accuracy: 91.96%\n",
    "\n",
    "Epoch: 4\n",
    "---------\n",
    "Train loss: 0.11238 | Train accuracy: 96.08%\n",
    "Test loss: 0.23996 | Test accuracy: 92.11%\n",
    "\n",
    "Epoch: 5\n",
    "---------\n",
    "Train loss: 0.11032 | Train accuracy: 96.16%\n",
    "Test loss: 0.24535 | Test accuracy: 92.02%\n",
    "\n",
    "Epoch: 6\n",
    "---------\n",
    "Train loss: 0.10877 | Train accuracy: 96.28%\n",
    "Test loss: 0.24819 | Test accuracy: 92.09%\n",
    "\n",
    "Epoch: 7\n",
    "---------\n",
    "Train loss: 0.10700 | Train accuracy: 96.20%\n",
    "Test loss: 0.25138 | Test accuracy: 91.95%\n",
    "\n",
    "Epoch: 8\n",
    "---------\n",
    "Train loss: 0.10537 | Train accuracy: 96.36%\n",
    "Test loss: 0.24662 | Test accuracy: 92.06%\n",
    "\n",
    "Train time on mps: 552.609 seconds\n",
    "\n",
    "\"\"\""
   ]
  },
  {
   "cell_type": "code",
   "execution_count": null,
   "id": "8e1d00e2",
   "metadata": {},
   "outputs": [],
   "source": []
  },
  {
   "cell_type": "code",
   "execution_count": null,
   "id": "8e44b33c",
   "metadata": {},
   "outputs": [],
   "source": []
  },
  {
   "cell_type": "code",
   "execution_count": null,
   "id": "68a12d22",
   "metadata": {},
   "outputs": [],
   "source": [
    "\"\"\"\n",
    "\n",
    "<bound method NeuralNet.get_params of <class 'skorch.classifier.NeuralNetClassifier'>[initialized](\n",
    "  module_=SimpleCNN(\n",
    "    (conv1): Conv2d(1, 32, kernel_size=(3, 3), stride=(1, 1), padding=(1, 1))\n",
    "    (conv2): Conv2d(32, 64, kernel_size=(3, 3), stride=(1, 1), padding=(1, 1))\n",
    "    (fc1): Linear(in_features=3136, out_features=128, bias=True)\n",
    "    (fc2): Linear(in_features=128, out_features=10, bias=True)\n",
    "    (dropout): Dropout(p=0.0, inplace=False)\n",
    "  ),\n",
    "  \n",
    "\"\"\""
   ]
  },
  {
   "cell_type": "code",
   "execution_count": 166,
   "id": "a1b794e4",
   "metadata": {},
   "outputs": [],
   "source": [
    "# Create a convolutional neural network \n",
    "class FashionMNISTModelV4(nn.Module):\n",
    "    \"\"\"\n",
    "    Model architecture copying TinyVGG from: \n",
    "    https://poloclub.github.io/cnn-explainer/\n",
    "    \"\"\"\n",
    "    def __init__(self, input_shape: int, hidden_units: int, output_shape: int):\n",
    "        super().__init__()\n",
    "        self.block_1 = nn.Sequential(\n",
    "            nn.Conv2d(\n",
    "                in_channels=input_shape \n",
    "                , out_channels=32\n",
    "                , kernel_size=3 # how big is the square that's going over the image?\n",
    "                , stride=1 # default\n",
    "                , padding=1) # \"valid\" (no pad) or \"same\" (output same shape as input) or int for spec num \n",
    "            , nn.ReLU()\n",
    "            , nn.Conv2d(in_channels=32 \n",
    "                      , out_channels=64\n",
    "                      , kernel_size=3\n",
    "                      , stride=1\n",
    "                      , padding=1)\n",
    "            , nn.ReLU()\n",
    "            , nn.MaxPool2d(kernel_size=2,\n",
    "                         stride=2) # default stride value is same as kernel_size\n",
    "        )\n",
    "        self.block_2 = nn.Sequential(\n",
    "            nn.Conv2d(64, 64, 3, padding=1)\n",
    "            , nn.ReLU()\n",
    "            , nn.Conv2d(64, 32, 3, padding=1)\n",
    "            , nn.ReLU()\n",
    "            , nn.MaxPool2d(2)\n",
    "        )\n",
    "        self.classifier = nn.Sequential(\n",
    "            nn.Flatten()\n",
    "            # Where did this in_features shape come from? \n",
    "            # It's because each layer of our network compresses and changes the shape of our input data.\n",
    "            , nn.Linear(in_features=32*7*7 \n",
    "                      , out_features=output_shape)\n",
    "        )\n",
    "    \n",
    "    def forward(self, x: torch.Tensor):\n",
    "        x = self.block_1(x)\n",
    "        x = self.block_2(x)\n",
    "        x = self.classifier(x)\n",
    "        return x"
   ]
  },
  {
   "cell_type": "code",
   "execution_count": 168,
   "id": "c8a4c077",
   "metadata": {},
   "outputs": [
    {
     "data": {
      "text/plain": [
       "<torch._C.Generator at 0x10c154cb0>"
      ]
     },
     "execution_count": 168,
     "metadata": {},
     "output_type": "execute_result"
    },
    {
     "data": {
      "text/plain": [
       "FashionMNISTModelV4(\n",
       "  (block_1): Sequential(\n",
       "    (0): Conv2d(1, 32, kernel_size=(3, 3), stride=(1, 1), padding=(1, 1))\n",
       "    (1): ReLU()\n",
       "    (2): Conv2d(32, 64, kernel_size=(3, 3), stride=(1, 1), padding=(1, 1))\n",
       "    (3): ReLU()\n",
       "    (4): MaxPool2d(kernel_size=2, stride=2, padding=0, dilation=1, ceil_mode=False)\n",
       "  )\n",
       "  (block_2): Sequential(\n",
       "    (0): Conv2d(64, 64, kernel_size=(3, 3), stride=(1, 1), padding=(1, 1))\n",
       "    (1): ReLU()\n",
       "    (2): Conv2d(64, 32, kernel_size=(3, 3), stride=(1, 1), padding=(1, 1))\n",
       "    (3): ReLU()\n",
       "    (4): MaxPool2d(kernel_size=2, stride=2, padding=0, dilation=1, ceil_mode=False)\n",
       "  )\n",
       "  (classifier): Sequential(\n",
       "    (0): Flatten(start_dim=1, end_dim=-1)\n",
       "    (1): Linear(in_features=1568, out_features=10, bias=True)\n",
       "  )\n",
       ")"
      ]
     },
     "execution_count": 168,
     "metadata": {},
     "output_type": "execute_result"
    }
   ],
   "source": [
    "# REMEMBER: If you spin up additional models to test new params, hidden layers, neurons, etc. REMEMBER TO RE-RUN THE OPTIMIZER AND LOSS_FN FOR THAT MODEL!!! (otherwise, you will get abysmally low acc rates!!!)\n",
    "\n",
    "torch.manual_seed(27)\n",
    "model_4 = FashionMNISTModelV4(\n",
    "    input_shape=1\n",
    "    , hidden_units=64\n",
    "    , output_shape=len(class_names)\n",
    ").to(device)\n",
    "\n",
    "model_4"
   ]
  },
  {
   "cell_type": "code",
   "execution_count": 169,
   "id": "88fea237",
   "metadata": {},
   "outputs": [],
   "source": [
    "# REMEMBER: If you spin up additional models to test new params, hidden layers, neurons, etc. REMEMBER TO RE-RUN THE OPTIMIZER AND LOSS_FN FOR THAT MODEL!!! (otherwise, you will get abysmally low acc rates!!!)\n",
    "\n",
    "loss_fn = nn.CrossEntropyLoss()\n",
    "optimizer = torch.optim.Adam(\n",
    "    params=model_4.parameters()\n",
    "    , lr=0.0003)"
   ]
  },
  {
   "cell_type": "code",
   "execution_count": 172,
   "id": "ef671049",
   "metadata": {
    "scrolled": false
   },
   "outputs": [
    {
     "data": {
      "text/plain": [
       "<torch._C.Generator at 0x10c154cb0>"
      ]
     },
     "execution_count": 172,
     "metadata": {},
     "output_type": "execute_result"
    },
    {
     "data": {
      "application/vnd.jupyter.widget-view+json": {
       "model_id": "94947827e7e241ef99298c89fe0eb479",
       "version_major": 2,
       "version_minor": 0
      },
      "text/plain": [
       "  0%|          | 0/20 [00:00<?, ?it/s]"
      ]
     },
     "metadata": {},
     "output_type": "display_data"
    },
    {
     "name": "stdout",
     "output_type": "stream",
     "text": [
      "Epoch: 0\n",
      "---------\n",
      "Train loss: 0.27335 | Train accuracy: 90.16%\n",
      "Test loss: 0.27677 | Test accuracy: 89.93%\n",
      "\n",
      "Epoch: 1\n",
      "---------\n",
      "Train loss: 0.24511 | Train accuracy: 91.07%\n",
      "Test loss: 0.25821 | Test accuracy: 90.68%\n",
      "\n",
      "Epoch: 2\n",
      "---------\n",
      "Train loss: 0.22383 | Train accuracy: 91.96%\n",
      "Test loss: 0.24791 | Test accuracy: 91.15%\n",
      "\n",
      "Epoch: 3\n",
      "---------\n",
      "Train loss: 0.20547 | Train accuracy: 92.57%\n",
      "Test loss: 0.24407 | Test accuracy: 91.24%\n",
      "\n",
      "Epoch: 4\n",
      "---------\n",
      "Train loss: 0.19094 | Train accuracy: 93.09%\n",
      "Test loss: 0.23223 | Test accuracy: 91.71%\n",
      "\n",
      "Epoch: 5\n",
      "---------\n",
      "Train loss: 0.17866 | Train accuracy: 93.65%\n",
      "Test loss: 0.25460 | Test accuracy: 91.07%\n",
      "\n",
      "Epoch: 6\n",
      "---------\n",
      "Train loss: 0.16710 | Train accuracy: 93.98%\n",
      "Test loss: 0.23083 | Test accuracy: 91.92%\n",
      "\n",
      "Epoch: 7\n",
      "---------\n",
      "Train loss: 0.15621 | Train accuracy: 94.39%\n",
      "Test loss: 0.22649 | Test accuracy: 92.00%\n",
      "\n",
      "Epoch: 8\n",
      "---------\n",
      "Train loss: 0.14653 | Train accuracy: 94.76%\n",
      "Test loss: 0.22854 | Test accuracy: 92.23%\n",
      "\n",
      "Epoch: 9\n",
      "---------\n",
      "Train loss: 0.13719 | Train accuracy: 94.97%\n",
      "Test loss: 0.23677 | Test accuracy: 92.18%\n",
      "\n",
      "Epoch: 10\n",
      "---------\n",
      "Train loss: 0.12866 | Train accuracy: 95.37%\n",
      "Test loss: 0.22664 | Test accuracy: 92.30%\n",
      "\n",
      "Epoch: 11\n",
      "---------\n",
      "Train loss: 0.12081 | Train accuracy: 95.69%\n",
      "Test loss: 0.22856 | Test accuracy: 92.46%\n",
      "\n",
      "Epoch: 12\n",
      "---------\n",
      "Train loss: 0.11220 | Train accuracy: 95.89%\n",
      "Test loss: 0.23753 | Test accuracy: 92.41%\n",
      "\n",
      "Epoch: 13\n",
      "---------\n",
      "Train loss: 0.10418 | Train accuracy: 96.26%\n",
      "Test loss: 0.24242 | Test accuracy: 91.96%\n",
      "\n",
      "Epoch: 14\n",
      "---------\n",
      "Train loss: 0.09821 | Train accuracy: 96.47%\n",
      "Test loss: 0.25719 | Test accuracy: 92.16%\n",
      "\n",
      "Epoch: 15\n",
      "---------\n",
      "Train loss: 0.09183 | Train accuracy: 96.67%\n",
      "Test loss: 0.27379 | Test accuracy: 91.95%\n",
      "\n",
      "Epoch: 16\n",
      "---------\n",
      "Train loss: 0.08448 | Train accuracy: 97.01%\n",
      "Test loss: 0.27372 | Test accuracy: 91.84%\n",
      "\n",
      "Epoch: 17\n",
      "---------\n",
      "Train loss: 0.07859 | Train accuracy: 97.10%\n",
      "Test loss: 0.29268 | Test accuracy: 91.57%\n",
      "\n",
      "Epoch: 18\n",
      "---------\n",
      "Train loss: 0.07230 | Train accuracy: 97.42%\n",
      "Test loss: 0.30912 | Test accuracy: 91.67%\n",
      "\n",
      "Epoch: 19\n",
      "---------\n",
      "Train loss: 0.06866 | Train accuracy: 97.48%\n",
      "Test loss: 0.29953 | Test accuracy: 91.83%\n",
      "\n",
      "Train time on mps: 1149.004 seconds\n"
     ]
    }
   ],
   "source": [
    "torch.manual_seed(27)\n",
    "\n",
    "# Measure time\n",
    "from timeit import default_timer as timer\n",
    "train_time_start_model_4 = timer()\n",
    "\n",
    "# Train and test model \n",
    "epochs = 20\n",
    "for epoch in tqdm(range(epochs)):\n",
    "    print(f\"Epoch: {epoch}\\n---------\")\n",
    "    train_step(data_loader=train_dataloader \n",
    "        , model=model_4\n",
    "        , loss_fn=loss_fn\n",
    "        , optimizer=optimizer\n",
    "        , accuracy_fn=accuracy_fn\n",
    "        , device=device\n",
    "    )\n",
    "    test_step(data_loader=test_dataloader\n",
    "        , model=model_4\n",
    "        , loss_fn=loss_fn\n",
    "        , accuracy_fn=accuracy_fn\n",
    "        , device=device\n",
    "    )\n",
    "\n",
    "train_time_end_model_4= timer()\n",
    "total_train_time_model_4= print_train_time(\n",
    "    start=train_time_start_model_4\n",
    "    , end=train_time_end_model_4\n",
    "    , device=device)"
   ]
  },
  {
   "cell_type": "code",
   "execution_count": 173,
   "id": "a3887647",
   "metadata": {},
   "outputs": [
    {
     "data": {
      "text/plain": [
       "{'model_name': 'FashionMNISTModelV4',\n",
       " 'model_loss': 0.2995302677154541,\n",
       " 'model_acc': 91.83306709265176}"
      ]
     },
     "execution_count": 173,
     "metadata": {},
     "output_type": "execute_result"
    }
   ],
   "source": [
    "# Get model_2 results \n",
    "model_4_results = eval_model(\n",
    "    model=model_4\n",
    "    , data_loader=test_dataloader\n",
    "    , loss_fn=loss_fn\n",
    "    , accuracy_fn=accuracy_fn\n",
    ")\n",
    "model_4_results"
   ]
  },
  {
   "cell_type": "code",
   "execution_count": 174,
   "id": "e716bc75",
   "metadata": {},
   "outputs": [],
   "source": [
    "def make_predictions(model: torch.nn.Module, data: list, device: torch.device = device):\n",
    "    pred_probs = []\n",
    "    model.eval()\n",
    "    with torch.inference_mode():\n",
    "        for sample in data:\n",
    "            # Prepare sample\n",
    "            sample = torch.unsqueeze(sample, dim=0).to(device) # Add an extra dimension and send sample to device\n",
    "\n",
    "            # Forward pass (model outputs raw logit)\n",
    "            pred_logit = model(sample)\n",
    "\n",
    "            # Get prediction probability (logit -> prediction probability)\n",
    "            pred_prob = torch.softmax(pred_logit.squeeze(), dim=0) # note: perform softmax on the \"logits\" dimension, not \"batch\" dimension (in this case we have a batch size of 1, so can perform on dim=0)\n",
    "\n",
    "            # Get pred_prob off GPU for further calculations\n",
    "            pred_probs.append(pred_prob.cpu())\n",
    "            \n",
    "    # Stack the pred_probs to turn list into a tensor\n",
    "    return torch.stack(pred_probs)"
   ]
  },
  {
   "cell_type": "code",
   "execution_count": 175,
   "id": "ff0c8619",
   "metadata": {},
   "outputs": [
    {
     "name": "stdout",
     "output_type": "stream",
     "text": [
      "Test sample image shape: torch.Size([1, 28, 28])\n",
      "Test sample label: 7 (Sneaker)\n"
     ]
    }
   ],
   "source": [
    "import random\n",
    "random.seed(27)\n",
    "test_samples = []\n",
    "test_labels = []\n",
    "for sample, label in random.sample(list(test_data), k=9):\n",
    "    test_samples.append(sample)\n",
    "    test_labels.append(label)\n",
    "\n",
    "# View the first test sample shape and label\n",
    "print(f\"Test sample image shape: {test_samples[0].shape}\\nTest sample label: {test_labels[0]} ({class_names[test_labels[0]]})\")"
   ]
  },
  {
   "cell_type": "code",
   "execution_count": 178,
   "id": "05c5944e",
   "metadata": {},
   "outputs": [
    {
     "data": {
      "text/plain": [
       "FashionMNISTModelV4(\n",
       "  (block_1): Sequential(\n",
       "    (0): Conv2d(1, 32, kernel_size=(3, 3), stride=(1, 1), padding=(1, 1))\n",
       "    (1): ReLU()\n",
       "    (2): Conv2d(32, 64, kernel_size=(3, 3), stride=(1, 1), padding=(1, 1))\n",
       "    (3): ReLU()\n",
       "    (4): MaxPool2d(kernel_size=2, stride=2, padding=0, dilation=1, ceil_mode=False)\n",
       "  )\n",
       "  (block_2): Sequential(\n",
       "    (0): Conv2d(64, 64, kernel_size=(3, 3), stride=(1, 1), padding=(1, 1))\n",
       "    (1): ReLU()\n",
       "    (2): Conv2d(64, 32, kernel_size=(3, 3), stride=(1, 1), padding=(1, 1))\n",
       "    (3): ReLU()\n",
       "    (4): MaxPool2d(kernel_size=2, stride=2, padding=0, dilation=1, ceil_mode=False)\n",
       "  )\n",
       "  (classifier): Sequential(\n",
       "    (0): Flatten(start_dim=1, end_dim=-1)\n",
       "    (1): Linear(in_features=1568, out_features=10, bias=True)\n",
       "  )\n",
       ")"
      ]
     },
     "execution_count": 178,
     "metadata": {},
     "output_type": "execute_result"
    },
    {
     "data": {
      "application/vnd.jupyter.widget-view+json": {
       "model_id": "1ecf5ac11f914e3890ff1954a6d56712",
       "version_major": 2,
       "version_minor": 0
      },
      "text/plain": [
       "Making predictions:   0%|          | 0/313 [00:00<?, ?it/s]"
      ]
     },
     "metadata": {},
     "output_type": "display_data"
    }
   ],
   "source": [
    "# Import tqdm for progress bar\n",
    "from tqdm.auto import tqdm\n",
    "\n",
    "# 1. Make predictions with trained model\n",
    "y_preds = []\n",
    "model_4.eval()\n",
    "with torch.inference_mode():\n",
    "  for X, y in tqdm(test_dataloader, desc=\"Making predictions\"):\n",
    "    # Send data and targets to target device\n",
    "    X, y = X.to(device), y.to(device)\n",
    "    # Do the forward pass\n",
    "    y_logit = model_4(X)\n",
    "    # Turn predictions from logits -> prediction probabilities -> predictions labels\n",
    "    y_pred = torch.softmax(y_logit, dim=1).argmax(dim=1) # note: perform softmax on the \"logits\" dimension, not \"batch\" dimension (in this case we have a batch size of 32, so can perform on dim=1)\n",
    "    # Put predictions on CPU for evaluation\n",
    "    y_preds.append(y_pred.cpu())\n",
    "# Concatenate list of predictions into a tensor\n",
    "y_pred_tensor = torch.cat(y_preds)"
   ]
  },
  {
   "cell_type": "code",
   "execution_count": 179,
   "id": "baba5990",
   "metadata": {},
   "outputs": [
    {
     "name": "stdout",
     "output_type": "stream",
     "text": [
      "mlxtend version: 0.23.4\n"
     ]
    }
   ],
   "source": [
    "# See if torchmetrics exists, if not, install it\n",
    "try:\n",
    "    import torchmetrics, mlxtend\n",
    "    print(f\"mlxtend version: {mlxtend.__version__}\")\n",
    "    assert int(mlxtend.__version__.split(\".\")[1]) >= 19, \"mlxtend verison should be 0.19.0 or higher\"\n",
    "except:\n",
    "    !pip install -q torchmetrics -U mlxtend # <- Note: If you're using Google Colab, this may require restarting the runtime\n",
    "    import torchmetrics, mlxtend\n",
    "    print(f\"mlxtend version: {mlxtend.__version__}\")"
   ]
  },
  {
   "cell_type": "code",
   "execution_count": 180,
   "id": "8f1c462d",
   "metadata": {},
   "outputs": [
    {
     "name": "stdout",
     "output_type": "stream",
     "text": [
      "0.23.4\n"
     ]
    }
   ],
   "source": [
    "# Import mlxtend upgraded version\n",
    "import mlxtend \n",
    "print(mlxtend.__version__)\n",
    "assert int(mlxtend.__version__.split(\".\")[1]) >= 19 # should be version 0.19.0 or higher"
   ]
  },
  {
   "cell_type": "code",
   "execution_count": 183,
   "id": "fa851041",
   "metadata": {},
   "outputs": [
    {
     "data": {
      "image/png": "[encoded data removed]",
      "text/plain": [
       "<Figure size 1000x700 with 1 Axes>"
      ]
     },
     "metadata": {},
     "output_type": "display_data"
    }
   ],
   "source": [
    "from torchmetrics import ConfusionMatrix\n",
    "from mlxtend.plotting import plot_confusion_matrix\n",
    "\n",
    "# 2. Setup confusion matrix instance and compare predictions to targets\n",
    "confmat = ConfusionMatrix(num_classes=len(class_names), task='multiclass')\n",
    "confmat_tensor = confmat(\n",
    "    preds=y_pred_tensor,target=test_data.targets)\n",
    "\n",
    "# 3. Plot the confusion matrix\n",
    "fig, ax = plot_confusion_matrix(\n",
    "    conf_mat=confmat_tensor.numpy(), # matplotlib likes working with NumPy \n",
    "    class_names=class_names, # turn the row and column labels into class names\n",
    "    figsize=(10, 7)\n",
    ");"
   ]
  },
  {
   "cell_type": "code",
   "execution_count": 196,
   "id": "e4bd6270",
   "metadata": {},
   "outputs": [
    {
     "data": {
      "image/png": "[encoded data removed]",
      "text/plain": [
       "<Figure size 1000x700 with 1 Axes>"
      ]
     },
     "metadata": {},
     "output_type": "display_data"
    }
   ],
   "source": [
    "import numpy as np\n",
    "from torchmetrics import ConfusionMatrix\n",
    "from mlxtend.plotting import plot_confusion_matrix\n",
    "\n",
    "# 2. Setup confusion matrix instance and compare predictions to targets\n",
    "confmat = ConfusionMatrix(num_classes=len(class_names), task='multiclass')\n",
    "confmat_tensor = confmat(preds=y_pred_tensor, target=test_data.targets)\n",
    "\n",
    "# Convert to numpy\n",
    "cm = confmat_tensor.numpy().astype(float)\n",
    "\n",
    "# Normalize per row (true labels) to get ratios\n",
    "row_sums = cm.sum(axis=1, keepdims=True)\n",
    "# Avoid division by zero for any empty classes\n",
    "row_sums[row_sums == 0] = 1.0\n",
    "cm_normalized = cm / row_sums\n",
    "\n",
    "# 3. Plot the normalized confusion matrix\n",
    "fig, ax = plot_confusion_matrix(\n",
    "    conf_mat=cm_normalized,\n",
    "    class_names=class_names, show_absolute=False, show_normed=True,\n",
    "    figsize=(10, 7)\n",
    ");"
   ]
  },
  {
   "cell_type": "code",
   "execution_count": 184,
   "id": "875c612e",
   "metadata": {},
   "outputs": [
    {
     "name": "stdout",
     "output_type": "stream",
     "text": [
      "[[0.858 0.    0.015 0.008 0.004 0.001 0.108 0.    0.006 0.   ]\n",
      " [0.002 0.987 0.003 0.005 0.    0.    0.003 0.    0.    0.   ]\n",
      " [0.027 0.    0.864 0.007 0.051 0.    0.051 0.    0.    0.   ]\n",
      " [0.021 0.009 0.012 0.88  0.037 0.    0.041 0.    0.    0.   ]\n",
      " [0.    0.    0.023 0.025 0.903 0.    0.049 0.    0.    0.   ]\n",
      " [0.    0.    0.    0.    0.    0.984 0.    0.013 0.    0.003]\n",
      " [0.085 0.    0.033 0.022 0.072 0.    0.786 0.    0.002 0.   ]\n",
      " [0.    0.    0.    0.    0.    0.003 0.    0.988 0.    0.009]\n",
      " [0.005 0.    0.002 0.001 0.002 0.003 0.005 0.003 0.979 0.   ]\n",
      " [0.    0.    0.001 0.    0.    0.005 0.    0.04  0.    0.954]]\n"
     ]
    }
   ],
   "source": [
    "import numpy as np\n",
    "\n",
    "# Assuming confmat_tensor is your confusion matrix\n",
    "cm = cm_tensor.numpy()\n",
    "\n",
    "# Calculate the sum of each row (total predictions for each class)\n",
    "row_sums = cm.sum(axis=1, keepdims=True)\n",
    "\n",
    "# Calculate the ratios\n",
    "ratio_matrix = cm / row_sums\n",
    "\n",
    "# Replace NaN values with 0 (if any class had no predictions)\n",
    "ratio_matrix = np.nan_to_num(ratio_matrix)\n",
    "\n",
    "print(ratio_matrix);"
   ]
  },
  {
   "cell_type": "code",
   "execution_count": 186,
   "id": "c7167284",
   "metadata": {},
   "outputs": [
    {
     "data": {
      "image/png": "[encoded data removed]",
      "text/plain": [
       "<Figure size 1000x700 with 1 Axes>"
      ]
     },
     "metadata": {},
     "output_type": "display_data"
    }
   ],
   "source": [
    "import numpy as np\n",
    "from torchmetrics import ConfusionMatrix\n",
    "from mlxtend.plotting import plot_confusion_matrix\n",
    "\n",
    "# 2. Setup confusion matrix instance and compare predictions to targets\n",
    "cm = ConfusionMatrix(num_classes=len(class_names), task='multiclass')\n",
    "confmat_tensor = confmat(preds=y_pred_tensor, target=test_data.targets)\n",
    "\n",
    "# Convert the confusion matrix to NumPy array\n",
    "cm = confmat_tensor.numpy()\n",
    "\n",
    "# Calculate the sum of each row (total predictions for each class)\n",
    "row_sums = cm.sum(axis=1, keepdims=True)\n",
    "\n",
    "# Calculate the ratios\n",
    "ratio_matrix = cm / row_sums\n",
    "\n",
    "# Replace NaN values with 0 (if any class had no predictions)\n",
    "ratio_matrix = np.nan_to_num(ratio_matrix)\n",
    "\n",
    "# 3. Plot the confusion matrix with ratios\n",
    "fig, ax = plot_confusion_matrix(\n",
    "    conf_mat=ratio_matrix,  # Use the ratio matrix here\n",
    "    class_names=class_names, # Turn the row and column labels into class names\n",
    "    figsize=(10, 7)\n",
    ");"
   ]
  },
  {
   "cell_type": "code",
   "execution_count": null,
   "id": "e8134875",
   "metadata": {},
   "outputs": [],
   "source": []
  },
  {
   "cell_type": "code",
   "execution_count": null,
   "id": "c28edc35",
   "metadata": {},
   "outputs": [],
   "source": [
    "\"\"\"\n",
    "\n",
    "<bound method NeuralNet.get_params of <class 'skorch.classifier.NeuralNetClassifier'>[initialized](\n",
    "  module_=SimpleCNN(\n",
    "    (conv1): Conv2d(1, 32, kernel_size=(3, 3), stride=(1, 1), padding=(1, 1))\n",
    "    (conv2): Conv2d(32, 64, kernel_size=(3, 3), stride=(1, 1), padding=(1, 1))\n",
    "    (fc1): Linear(in_features=3136, out_features=128, bias=True)\n",
    "    (fc2): Linear(in_features=128, out_features=10, bias=True)\n",
    "    (dropout): Dropout(p=0.0, inplace=False)\n",
    "  ),\n",
    "  \n",
    "\"\"\""
   ]
  },
  {
   "cell_type": "code",
   "execution_count": 200,
   "id": "9196f568",
   "metadata": {},
   "outputs": [],
   "source": [
    "# Create a convolutional neural network \n",
    "class FashionMNISTModelV5(nn.Module):\n",
    "    \"\"\"\n",
    "    Model architecture copying TinyVGG from: \n",
    "    https://poloclub.github.io/cnn-explainer/\n",
    "    \"\"\"\n",
    "    def __init__(self, input_shape: int, hidden_units: int, output_shape: int):\n",
    "        super().__init__()\n",
    "        self.block_1 = nn.Sequential(\n",
    "            nn.Conv2d(\n",
    "                in_channels=input_shape \n",
    "                , out_channels=32\n",
    "                , kernel_size=3 # how big is the square that's going over the image?\n",
    "                , stride=1 # default\n",
    "                , padding=1) # \"valid\" (no pad) or \"same\" (output same shape as input) or int for spec num \n",
    "            , nn.ReLU()\n",
    "            , nn.Conv2d(in_channels=32 \n",
    "                      , out_channels=64\n",
    "                      , kernel_size=3\n",
    "                      , stride=1\n",
    "                      , padding=1)\n",
    "            , nn.ReLU()\n",
    "            , nn.MaxPool2d(kernel_size=2\n",
    "                           , stride=2) # default stride value is same as kernel_size\n",
    "        )\n",
    "        self.block_2 = nn.Sequential(\n",
    "            nn.Conv2d(64, 64, 3, padding=1)\n",
    "            , nn.ReLU()\n",
    "            , nn.Conv2d(64, 64, 3, padding=1)\n",
    "            , nn.ReLU()\n",
    "            , nn.MaxPool2d(2)\n",
    "        )\n",
    "        self.classifier = nn.Sequential(\n",
    "            nn.Flatten()\n",
    "            # Where did this in_features shape come from? \n",
    "            # It's because each layer of our network compresses and changes the shape of our input data.\n",
    "            , nn.Linear(in_features=64*7*7 \n",
    "                      , out_features=output_shape)\n",
    "        )\n",
    "    \n",
    "    def forward(self, x: torch.Tensor):\n",
    "        x = self.block_1(x)\n",
    "        x = self.block_2(x)\n",
    "        x = self.classifier(x)\n",
    "        return x"
   ]
  },
  {
   "cell_type": "code",
   "execution_count": 201,
   "id": "76a6d291",
   "metadata": {},
   "outputs": [
    {
     "data": {
      "text/plain": [
       "<torch._C.Generator at 0x10c154cb0>"
      ]
     },
     "execution_count": 201,
     "metadata": {},
     "output_type": "execute_result"
    },
    {
     "data": {
      "text/plain": [
       "FashionMNISTModelV5(\n",
       "  (block_1): Sequential(\n",
       "    (0): Conv2d(1, 32, kernel_size=(3, 3), stride=(1, 1), padding=(1, 1))\n",
       "    (1): ReLU()\n",
       "    (2): Conv2d(32, 64, kernel_size=(3, 3), stride=(1, 1), padding=(1, 1))\n",
       "    (3): ReLU()\n",
       "    (4): MaxPool2d(kernel_size=2, stride=2, padding=0, dilation=1, ceil_mode=False)\n",
       "  )\n",
       "  (block_2): Sequential(\n",
       "    (0): Conv2d(64, 64, kernel_size=(3, 3), stride=(1, 1), padding=(1, 1))\n",
       "    (1): ReLU()\n",
       "    (2): Conv2d(64, 64, kernel_size=(3, 3), stride=(1, 1), padding=(1, 1))\n",
       "    (3): ReLU()\n",
       "    (4): MaxPool2d(kernel_size=2, stride=2, padding=0, dilation=1, ceil_mode=False)\n",
       "  )\n",
       "  (classifier): Sequential(\n",
       "    (0): Flatten(start_dim=1, end_dim=-1)\n",
       "    (1): Linear(in_features=3136, out_features=10, bias=True)\n",
       "  )\n",
       ")"
      ]
     },
     "execution_count": 201,
     "metadata": {},
     "output_type": "execute_result"
    }
   ],
   "source": [
    "# REMEMBER: If you spin up additional models to test new params, hidden layers, neurons, etc. REMEMBER TO RE-RUN THE OPTIMIZER AND LOSS_FN FOR THAT MODEL!!! (otherwise, you will get abysmally low acc rates!!!)\n",
    "\n",
    "torch.manual_seed(27)\n",
    "model_5 = FashionMNISTModelV5(\n",
    "    input_shape=1\n",
    "    , hidden_units=64\n",
    "    , output_shape=len(class_names)\n",
    ").to(device)\n",
    "\n",
    "model_5"
   ]
  },
  {
   "cell_type": "code",
   "execution_count": 202,
   "id": "beb41adc",
   "metadata": {},
   "outputs": [],
   "source": [
    "# REMEMBER: If you spin up additional models to test new params, hidden layers, neurons, etc. REMEMBER TO RE-RUN THE OPTIMIZER AND LOSS_FN FOR THAT MODEL!!! (otherwise, you will get abysmally low acc rates!!!)\n",
    "\n",
    "loss_fn = nn.CrossEntropyLoss()\n",
    "optimizer = torch.optim.Adam(\n",
    "    params=model_5.parameters()\n",
    "    , lr=0.0003)"
   ]
  },
  {
   "cell_type": "code",
   "execution_count": 203,
   "id": "a4b27674",
   "metadata": {
    "scrolled": false
   },
   "outputs": [
    {
     "data": {
      "text/plain": [
       "<torch._C.Generator at 0x10c154cb0>"
      ]
     },
     "execution_count": 203,
     "metadata": {},
     "output_type": "execute_result"
    },
    {
     "data": {
      "application/vnd.jupyter.widget-view+json": {
       "model_id": "b4141c02b73c4e80bab3d75bd2a11b97",
       "version_major": 2,
       "version_minor": 0
      },
      "text/plain": [
       "  0%|          | 0/20 [00:00<?, ?it/s]"
      ]
     },
     "metadata": {},
     "output_type": "display_data"
    },
    {
     "name": "stdout",
     "output_type": "stream",
     "text": [
      "Epoch: 0\n",
      "---------\n",
      "Train loss: 0.48347 | Train accuracy: 82.45%\n",
      "Test loss: 0.34810 | Test accuracy: 87.46%\n",
      "\n",
      "Epoch: 1\n",
      "---------\n",
      "Train loss: 0.30377 | Train accuracy: 89.12%\n",
      "Test loss: 0.30053 | Test accuracy: 89.23%\n",
      "\n",
      "Epoch: 2\n",
      "---------\n",
      "Train loss: 0.26004 | Train accuracy: 90.69%\n",
      "Test loss: 0.27711 | Test accuracy: 89.89%\n",
      "\n",
      "Epoch: 3\n",
      "---------\n",
      "Train loss: 0.23049 | Train accuracy: 91.61%\n",
      "Test loss: 0.25629 | Test accuracy: 90.51%\n",
      "\n",
      "Epoch: 4\n",
      "---------\n",
      "Train loss: 0.20874 | Train accuracy: 92.50%\n",
      "Test loss: 0.24203 | Test accuracy: 91.17%\n",
      "\n",
      "Epoch: 5\n",
      "---------\n",
      "Train loss: 0.18929 | Train accuracy: 93.17%\n",
      "Test loss: 0.23590 | Test accuracy: 91.57%\n",
      "\n",
      "Epoch: 6\n",
      "---------\n",
      "Train loss: 0.17255 | Train accuracy: 93.76%\n",
      "Test loss: 0.22754 | Test accuracy: 92.22%\n",
      "\n",
      "Epoch: 7\n",
      "---------\n",
      "Train loss: 0.15772 | Train accuracy: 94.23%\n",
      "Test loss: 0.22787 | Test accuracy: 92.01%\n",
      "\n",
      "Epoch: 8\n",
      "---------\n",
      "Train loss: 0.14584 | Train accuracy: 94.75%\n",
      "Test loss: 0.21625 | Test accuracy: 92.64%\n",
      "\n",
      "Epoch: 9\n",
      "---------\n",
      "Train loss: 0.13299 | Train accuracy: 95.26%\n",
      "Test loss: 0.22389 | Test accuracy: 92.38%\n",
      "\n",
      "Epoch: 10\n",
      "---------\n",
      "Train loss: 0.12244 | Train accuracy: 95.56%\n",
      "Test loss: 0.21937 | Test accuracy: 92.42%\n",
      "\n",
      "Epoch: 11\n",
      "---------\n",
      "Train loss: 0.11123 | Train accuracy: 96.04%\n",
      "Test loss: 0.22078 | Test accuracy: 92.63%\n",
      "\n",
      "Epoch: 12\n",
      "---------\n",
      "Train loss: 0.10118 | Train accuracy: 96.34%\n",
      "Test loss: 0.24586 | Test accuracy: 92.31%\n",
      "\n",
      "Epoch: 13\n",
      "---------\n",
      "Train loss: 0.09088 | Train accuracy: 96.75%\n",
      "Test loss: 0.24713 | Test accuracy: 91.97%\n",
      "\n",
      "Epoch: 14\n",
      "---------\n",
      "Train loss: 0.08318 | Train accuracy: 97.08%\n",
      "Test loss: 0.25914 | Test accuracy: 92.31%\n",
      "\n",
      "Epoch: 15\n",
      "---------\n",
      "Train loss: 0.07498 | Train accuracy: 97.29%\n",
      "Test loss: 0.27570 | Test accuracy: 91.94%\n",
      "\n",
      "Epoch: 16\n",
      "---------\n",
      "Train loss: 0.06712 | Train accuracy: 97.54%\n",
      "Test loss: 0.28503 | Test accuracy: 92.29%\n",
      "\n",
      "Epoch: 17\n",
      "---------\n",
      "Train loss: 0.06130 | Train accuracy: 97.78%\n",
      "Test loss: 0.29436 | Test accuracy: 92.13%\n",
      "\n",
      "Epoch: 18\n",
      "---------\n",
      "Train loss: 0.05460 | Train accuracy: 98.07%\n",
      "Test loss: 0.30824 | Test accuracy: 92.21%\n",
      "\n",
      "Epoch: 19\n",
      "---------\n",
      "Train loss: 0.04761 | Train accuracy: 98.36%\n",
      "Test loss: 0.33295 | Test accuracy: 92.12%\n",
      "\n",
      "Train time on mps: 1138.745 seconds\n"
     ]
    }
   ],
   "source": [
    "torch.manual_seed(27)\n",
    "\n",
    "# Measure time\n",
    "from timeit import default_timer as timer\n",
    "train_time_start_model_5 = timer()\n",
    "\n",
    "# Train and test model \n",
    "epochs = 20\n",
    "for epoch in tqdm(range(epochs)):\n",
    "    print(f\"Epoch: {epoch}\\n---------\")\n",
    "    train_step(data_loader=train_dataloader \n",
    "        , model=model_5\n",
    "        , loss_fn=loss_fn\n",
    "        , optimizer=optimizer\n",
    "        , accuracy_fn=accuracy_fn\n",
    "        , device=device\n",
    "    )\n",
    "    test_step(data_loader=test_dataloader\n",
    "        , model=model_5\n",
    "        , loss_fn=loss_fn\n",
    "        , accuracy_fn=accuracy_fn\n",
    "        , device=device\n",
    "    )\n",
    "\n",
    "train_time_end_model_5= timer()\n",
    "total_train_time_model_5=print_train_time(\n",
    "    start=train_time_start_model_5\n",
    "    , end=train_time_end_model_5\n",
    "    , device=device)"
   ]
  },
  {
   "cell_type": "code",
   "execution_count": 204,
   "id": "d34419f1",
   "metadata": {},
   "outputs": [
    {
     "data": {
      "text/plain": [
       "{'model_name': 'FashionMNISTModelV5',\n",
       " 'model_loss': 0.33294937014579773,\n",
       " 'model_acc': 92.12260383386581}"
      ]
     },
     "execution_count": 204,
     "metadata": {},
     "output_type": "execute_result"
    }
   ],
   "source": [
    "# Get model_5 results \n",
    "model_5_results = eval_model(\n",
    "    model=model_5\n",
    "    , data_loader=test_dataloader\n",
    "    , loss_fn=loss_fn\n",
    "    , accuracy_fn=accuracy_fn\n",
    ")\n",
    "model_5_results"
   ]
  },
  {
   "cell_type": "code",
   "execution_count": 207,
   "id": "37a299ec",
   "metadata": {},
   "outputs": [
    {
     "data": {
      "text/html": [
       "<div>\n",
       "<style scoped>\n",
       "    .dataframe tbody tr th:only-of-type {\n",
       "        vertical-align: middle;\n",
       "    }\n",
       "\n",
       "    .dataframe tbody tr th {\n",
       "        vertical-align: top;\n",
       "    }\n",
       "\n",
       "    .dataframe thead th {\n",
       "        text-align: right;\n",
       "    }\n",
       "</style>\n",
       "<table border=\"1\" class=\"dataframe\">\n",
       "  <thead>\n",
       "    <tr style=\"text-align: right;\">\n",
       "      <th></th>\n",
       "      <th>model_name</th>\n",
       "      <th>model_loss</th>\n",
       "      <th>model_acc</th>\n",
       "    </tr>\n",
       "  </thead>\n",
       "  <tbody>\n",
       "    <tr>\n",
       "      <th>4</th>\n",
       "      <td>FashionMNISTModelV5</td>\n",
       "      <td>0.332949</td>\n",
       "      <td>92.122604</td>\n",
       "    </tr>\n",
       "    <tr>\n",
       "      <th>2</th>\n",
       "      <td>FashionMNISTModelV2</td>\n",
       "      <td>0.246622</td>\n",
       "      <td>92.062700</td>\n",
       "    </tr>\n",
       "    <tr>\n",
       "      <th>3</th>\n",
       "      <td>FashionMNISTModelV4</td>\n",
       "      <td>0.299530</td>\n",
       "      <td>91.833067</td>\n",
       "    </tr>\n",
       "    <tr>\n",
       "      <th>0</th>\n",
       "      <td>FashionMNISTModelV3</td>\n",
       "      <td>0.252940</td>\n",
       "      <td>90.834665</td>\n",
       "    </tr>\n",
       "    <tr>\n",
       "      <th>1</th>\n",
       "      <td>FashionMNISTModelV2</td>\n",
       "      <td>0.369815</td>\n",
       "      <td>86.681310</td>\n",
       "    </tr>\n",
       "  </tbody>\n",
       "</table>\n",
       "</div>"
      ],
      "text/plain": [
       "            model_name  model_loss  model_acc\n",
       "4  FashionMNISTModelV5    0.332949  92.122604\n",
       "2  FashionMNISTModelV2    0.246622  92.062700\n",
       "3  FashionMNISTModelV4    0.299530  91.833067\n",
       "0  FashionMNISTModelV3    0.252940  90.834665\n",
       "1  FashionMNISTModelV2    0.369815  86.681310"
      ]
     },
     "execution_count": 207,
     "metadata": {},
     "output_type": "execute_result"
    }
   ],
   "source": [
    "import pandas as pd\n",
    "compare_results = pd.DataFrame([model_0x_results, model_2_results, model_3_results, model_4_results, model_5_results])\n",
    "compare_results.sort_values(by='model_acc', ascending=False)"
   ]
  },
  {
   "cell_type": "code",
   "execution_count": null,
   "id": "4d1fb414",
   "metadata": {},
   "outputs": [],
   "source": []
  },
  {
   "cell_type": "code",
   "execution_count": null,
   "id": "c1fe54df",
   "metadata": {},
   "outputs": [],
   "source": []
  },
  {
   "cell_type": "code",
   "execution_count": null,
   "id": "3357ef57",
   "metadata": {},
   "outputs": [],
   "source": []
  },
  {
   "cell_type": "code",
   "execution_count": null,
   "id": "13217fe2",
   "metadata": {},
   "outputs": [],
   "source": []
  },
  {
   "cell_type": "code",
   "execution_count": null,
   "id": "0c1983ee",
   "metadata": {},
   "outputs": [],
   "source": []
  },
  {
   "cell_type": "code",
   "execution_count": null,
   "id": "e4ac018d",
   "metadata": {},
   "outputs": [],
   "source": []
  },
  {
   "cell_type": "code",
   "execution_count": null,
   "id": "d23269c2",
   "metadata": {},
   "outputs": [],
   "source": []
  },
  {
   "cell_type": "code",
   "execution_count": null,
   "id": "d1eb7161",
   "metadata": {},
   "outputs": [],
   "source": []
  },
  {
   "cell_type": "code",
   "execution_count": null,
   "id": "db8bc78f",
   "metadata": {},
   "outputs": [],
   "source": [
    "# REMEMBER: If you spin up additional models to test new params, hidden layers, neurons, etc. REMEMBER TO RE-RUN THE OPTIMIZER AND LOSS_FN FOR THAT MODEL!!! (otherwise, you will get abysmally low acc rates!!!)\n",
    "\n",
    "torch.manual_seed(27)\n",
    "model_5 = FashionMNISTModelV2(\n",
    "    input_shape=1\n",
    "    , hidden_units=64\n",
    "    , output_shape=len(class_names)\n",
    ").to(device)\n",
    "\n",
    "model_5"
   ]
  },
  {
   "cell_type": "code",
   "execution_count": null,
   "id": "9efc06c7",
   "metadata": {},
   "outputs": [],
   "source": []
  }
 ],
 "metadata": {
  "kernelspec": {
   "display_name": "Python 3 (ipykernel)",
   "language": "python",
   "name": "python3"
  },
  "language_info": {
   "codemirror_mode": {
    "name": "ipython",
    "version": 3
   },
   "file_extension": ".py",
   "mimetype": "text/x-python",
   "name": "python",
   "nbconvert_exporter": "python",
   "pygments_lexer": "ipython3",
   "version": "3.11.5"
  }
 },
 "nbformat": 4,
 "nbformat_minor": 5
}
