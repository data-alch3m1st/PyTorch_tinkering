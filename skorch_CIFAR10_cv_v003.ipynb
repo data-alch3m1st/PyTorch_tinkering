{
  "nbformat": 4,
  "nbformat_minor": 0,
  "metadata": {
    "colab": {
      "provenance": [],
      "gpuType": "T4",
      "authorship_tag": "ABX9TyP1rFvmbxSqcBIgZzji48hH",
      "include_colab_link": true
    },
    "kernelspec": {
      "name": "python3",
      "display_name": "Python 3"
    },
    "language_info": {
      "name": "python"
    },
    "accelerator": "GPU"
  },
  "cells": [
    {
      "cell_type": "markdown",
      "metadata": {
        "id": "view-in-github",
        "colab_type": "text"
      },
      "source": [
        "<a href=\"https://colab.research.google.com/github/data-alch3m1st/PyTorch_tinkering/blob/main/skorch_CIFAR10_cv_v003.ipynb\" target=\"_parent\"><img src=\"https://colab.research.google.com/assets/colab-badge.svg\" alt=\"Open In Colab\"/></a>"
      ]
    },
    {
      "cell_type": "markdown",
      "source": [
        "### CIFAR-10 CNN (v003) ###\n",
        "\n",
        "*Given the significant demands on memory (and I am using a MacBook so no CUDA for me), have to run this in Google Colab for baller T4 CUDA...*"
      ],
      "metadata": {
        "id": "dl8KC4N6GBdx"
      }
    },
    {
      "cell_type": "code",
      "source": [
        "# !pip install skorch\n",
        "# !pip install torchmetrics"
      ],
      "metadata": {
        "collapsed": true,
        "id": "ml7-kkPZF5EF"
      },
      "execution_count": 39,
      "outputs": []
    },
    {
      "cell_type": "code",
      "source": [
        "# Imports\n",
        "\n",
        "import torch\n",
        "import torch.nn as nn\n",
        "import torch.nn.functional as F\n",
        "from torch.utils.data import DataLoader\n",
        "from torchvision import datasets, transforms\n",
        "from skorch import NeuralNetClassifier\n",
        "from sklearn.model_selection import RandomizedSearchCV, train_test_split\n",
        "from sklearn.metrics import (\n",
        "    classification_report, confusion_matrix\n",
        "    , accuracy_score, ConfusionMatrixDisplay\n",
        "    )\n",
        "from torchmetrics import Accuracy, ConfusionMatrix\n",
        "import pandas as pd\n",
        "import matplotlib.pyplot as plt\n",
        "import numpy as np\n",
        "import warnings\n",
        "from timeit import default_timer as timer\n",
        "from tqdm import tqdm\n",
        "\n",
        "warnings.filterwarnings(\"ignore\")"
      ],
      "metadata": {
        "id": "Wzp6iO33F5ae"
      },
      "execution_count": 2,
      "outputs": []
    },
    {
      "cell_type": "code",
      "execution_count": 3,
      "metadata": {
        "colab": {
          "base_uri": "https://localhost:8080/",
          "height": 35
        },
        "id": "VTjaR3dPF4fL",
        "outputId": "4a4f034c-83c4-4644-fa48-5b8d9cd22b4e"
      },
      "outputs": [
        {
          "output_type": "execute_result",
          "data": {
            "text/plain": [
              "'cuda'"
            ],
            "application/vnd.google.colaboratory.intrinsic+json": {
              "type": "string"
            }
          },
          "metadata": {},
          "execution_count": 3
        }
      ],
      "source": [
        "# MacoOS device agnostic code:\n",
        "\n",
        "if torch.cuda.is_available():\n",
        "    device = \"cuda\"  # Use NVIDIA GPU (if available)\n",
        "elif torch.backends.mps.is_available():\n",
        "    device = \"mps\"  # Use Apple Silicon GPU (if available)\n",
        "else:\n",
        "    device = \"cpu\"  # Default to CPU if no GPU is available\n",
        "\n",
        "device"
      ]
    },
    {
      "cell_type": "code",
      "source": [
        "# ---------------------------------------------------------\n",
        "# 1. Prepare dataset (CIFAR-10) with Augmentations\n",
        "# ---------------------------------------------------------\n",
        "\n",
        "# Train transforms (with augmentations)\n",
        "train_transform = transforms.Compose([\n",
        "    transforms.RandomHorizontalFlip(),  # Flip images with 50% probability\n",
        "    transforms.RandomCrop(32, padding=4),  # Add padding and crop randomly\n",
        "    transforms.Normalize((0.4914, 0.4822, 0.4465), (0.2023, 0.1994, 0.2010)),  # CIFAR-10 stats\n",
        "])\n",
        "\n",
        "# Test transforms (only normalize)\n",
        "test_transform = transforms.Compose([\n",
        "    transforms.Normalize((0.4914, 0.4822, 0.4465), (0.2023, 0.1994, 0.2010)),  # CIFAR-10 stats\n",
        "])\n",
        "\n",
        "# CIFAR-10 dataset download\n",
        "dataset = datasets.CIFAR10(\n",
        "    './data', train=True, download=True\n",
        ")\n",
        "\n",
        "# Extract raw data and labels\n",
        "X = torch.tensor(dataset.data).permute(0, 3, 1, 2).float() / 255.0  # Convert to [N, C, H, W]\n",
        "y = torch.tensor(dataset.targets)\n",
        "\n",
        "# Split into training and testing sets\n",
        "X_train, X_test, y_train, y_test = train_test_split(\n",
        "    X, y, test_size=0.2, random_state=27, stratify=y\n",
        ")\n",
        "\n",
        "X_train.shape, X_test.shape, y_train.shape, y_test .shape"
      ],
      "metadata": {
        "colab": {
          "base_uri": "https://localhost:8080/"
        },
        "id": "K-lxkno8F5MS",
        "outputId": "8c6394de-c2bc-4dc9-b46c-a13315e972df"
      },
      "execution_count": 4,
      "outputs": [
        {
          "output_type": "stream",
          "name": "stderr",
          "text": [
            "100%|██████████| 170M/170M [00:13<00:00, 13.1MB/s]\n"
          ]
        },
        {
          "output_type": "execute_result",
          "data": {
            "text/plain": [
              "(torch.Size([40000, 3, 32, 32]),\n",
              " torch.Size([10000, 3, 32, 32]),\n",
              " torch.Size([40000]),\n",
              " torch.Size([10000]))"
            ]
          },
          "metadata": {},
          "execution_count": 4
        }
      ]
    },
    {
      "cell_type": "code",
      "source": [
        "# ---------------------------------------------------------\n",
        "# 2. Apply Transforms for Augmentation/Normalization\n",
        "# ---------------------------------------------------------\n",
        "\n",
        "# Define functions to apply transforms to batches (used in DataLoader)\n",
        "train_transform_batch = transforms.Compose([\n",
        "    transforms.RandomHorizontalFlip(),  # Flip images with 50% probability\n",
        "    transforms.RandomCrop(32, padding=4),  # Add padding and crop randomly\n",
        "    transforms.Normalize((0.4914, 0.4822, 0.4465), (0.2023, 0.1994, 0.2010)),  # CIFAR-10 stats\n",
        "])\n",
        "\n",
        "test_transform_batch = transforms.Compose([\n",
        "    transforms.Normalize((0.4914, 0.4822, 0.4465), (0.2023, 0.1994, 0.2010)),  # CIFAR-10 stats\n",
        "])\n",
        "\n",
        "\n",
        "# Wrap in DataLoader for batching\n",
        "train_loader = DataLoader(\n",
        "    list(zip(X_train, y_train))\n",
        "    , batch_size=128\n",
        "    , shuffle=True\n",
        ")\n",
        "\n",
        "test_loader = DataLoader(\n",
        "    list(zip(X_test, y_test))\n",
        "    , batch_size=128\n",
        "    , shuffle=False\n",
        ")"
      ],
      "metadata": {
        "id": "Z_BtG3EPSZ82"
      },
      "execution_count": 5,
      "outputs": []
    },
    {
      "cell_type": "code",
      "source": [
        "# # Split into training and testing sets\n",
        "# X = torch.tensor(dataset.data).permute(0, 3, 1, 2).float() / 255.0\n",
        "\n",
        "# # Normalize manually using CIFAR10 stats (aligning with transform above)\n",
        "# mean = torch.tensor([0.4914, 0.4822, 0.4465]).view(3,1,1)\n",
        "# std = torch.tensor([0.2023, 0.1994, 0.2010]).view(3,1,1)\n",
        "# X = (X - mean) / std\n",
        "# y = torch.tensor(dataset.targets)\n",
        "\n",
        "# X_train, X_test, y_train, y_test = train_test_split(\n",
        "#     X, y, test_size=0.2\n",
        "#     , random_state=27\n",
        "#     , stratify=y\n",
        "# )\n",
        "\n",
        "X_train.shape, X_test.shape, y_train.shape, y_test .shape"
      ],
      "metadata": {
        "colab": {
          "base_uri": "https://localhost:8080/"
        },
        "id": "fMFQEv7MF5Um",
        "outputId": "c0d20119-8e98-4f6b-ec9c-1d46313be37a"
      },
      "execution_count": 6,
      "outputs": [
        {
          "output_type": "execute_result",
          "data": {
            "text/plain": [
              "(torch.Size([40000, 3, 32, 32]),\n",
              " torch.Size([10000, 3, 32, 32]),\n",
              " torch.Size([40000]),\n",
              " torch.Size([10000]))"
            ]
          },
          "metadata": {},
          "execution_count": 6
        }
      ]
    },
    {
      "cell_type": "code",
      "source": [
        "# # Wrap in DataLoader for batching\n",
        "# train_loader = DataLoader(\n",
        "#     list(zip(X_train, y_train))\n",
        "#     , batch_size=128\n",
        "#     , shuffle=True)\n",
        "\n",
        "# test_loader = DataLoader(\n",
        "#     list(zip(X_test, y_test))\n",
        "#     , batch_size=128\n",
        "#     , shuffle=False)"
      ],
      "metadata": {
        "id": "32UJBmUmF5f-"
      },
      "execution_count": null,
      "outputs": []
    },
    {
      "cell_type": "code",
      "source": [
        "class Cifar10CNN_v3(nn.Module):\n",
        "    def __init__(self, channels=64, dropout=0.3):\n",
        "        super().__init__()\n",
        "        # Convolutional block 1\n",
        "        self.conv1 = nn.Conv2d(3, channels, kernel_size=3, padding=1)\n",
        "        self.bn1 = nn.BatchNorm2d(channels)\n",
        "\n",
        "        # Convolutional block 2\n",
        "        self.conv2 = nn.Conv2d(channels, channels * 2, kernel_size=3, padding=1)\n",
        "        self.bn2 = nn.BatchNorm2d(channels * 2)\n",
        "\n",
        "        # Convolutional block 3\n",
        "        self.conv3 = nn.Conv2d(channels * 2, channels * 4, kernel_size=3, padding=1)\n",
        "        self.bn3 = nn.BatchNorm2d(channels * 4)\n",
        "\n",
        "        # Convolutional block 4\n",
        "        self.conv4 = nn.Conv2d(channels * 4, channels * 8, kernel_size=3, padding=1)\n",
        "        self.bn4 = nn.BatchNorm2d(channels * 8)\n",
        "\n",
        "        # Global average pooling to reduce overfitting\n",
        "        self.global_avgpool = nn.AdaptiveAvgPool2d(1)\n",
        "\n",
        "        # Fully connected layers\n",
        "        self.fc1 = nn.Linear(channels * 8, 512)\n",
        "        self.fc2 = nn.Linear(512, 256)\n",
        "        self.fc_out = nn.Linear(256, 10)\n",
        "        self.dropout = nn.Dropout(dropout)\n",
        "\n",
        "    def forward(self, x):\n",
        "        # Block 1\n",
        "        x = F.relu(self.bn1(self.conv1(x)))\n",
        "        x = F.max_pool2d(x, 2)\n",
        "\n",
        "        # Block 2\n",
        "        x = F.relu(self.bn2(self.conv2(x)))\n",
        "        x = F.max_pool2d(x, 2)\n",
        "\n",
        "        # Block 3\n",
        "        x = F.relu(self.bn3(self.conv3(x)))\n",
        "        x = F.max_pool2d(x, 2)\n",
        "\n",
        "        # Block 4\n",
        "        x = F.relu(self.bn4(self.conv4(x)))\n",
        "        x = F.max_pool2d(x, 2)\n",
        "\n",
        "        # Global average pooling\n",
        "        x = self.global_avgpool(x)\n",
        "        x = torch.flatten(x, 1)\n",
        "\n",
        "        # Fully connected layers\n",
        "        x = F.relu(self.fc1(self.dropout(x)))\n",
        "        x = F.relu(self.fc2(self.dropout(x)))\n",
        "        return self.fc_out(x)"
      ],
      "metadata": {
        "id": "WnyJLNgqRAMF"
      },
      "execution_count": 7,
      "outputs": []
    },
    {
      "cell_type": "code",
      "source": [
        "%%time\n",
        "# 3. Wrap (a base model) with skorch\n",
        "\n",
        "net = NeuralNetClassifier(\n",
        "    module=Cifar10CNN_v3\n",
        "    , criterion=nn.CrossEntropyLoss\n",
        "    , max_epochs=10\n",
        "    , lr=0.0001\n",
        "    , optimizer=torch.optim.Adam\n",
        "    , batch_size=128\n",
        "    , iterator_train__shuffle=True\n",
        "    , device=device\n",
        ")\n",
        "\n",
        "net.fit(X_train, y_train)\n",
        "\n",
        "print(\"Train accuracy:\", net.score(X_train, y_train))"
      ],
      "metadata": {
        "colab": {
          "base_uri": "https://localhost:8080/"
        },
        "id": "2ETvJ4iPF5nI",
        "outputId": "025a5aa6-28ba-48f4-8ef5-9d59461644ee"
      },
      "execution_count": 8,
      "outputs": [
        {
          "output_type": "stream",
          "name": "stdout",
          "text": [
            "  epoch    train_loss    valid_acc    valid_loss     dur\n",
            "-------  ------------  -----------  ------------  ------\n",
            "      1        \u001b[36m1.5651\u001b[0m       \u001b[32m0.5199\u001b[0m        \u001b[35m1.2752\u001b[0m  5.6074\n",
            "      2        \u001b[36m1.1371\u001b[0m       \u001b[32m0.5845\u001b[0m        \u001b[35m1.1694\u001b[0m  4.2864\n",
            "      3        \u001b[36m0.9609\u001b[0m       \u001b[32m0.6539\u001b[0m        \u001b[35m0.9764\u001b[0m  4.4175\n",
            "      4        \u001b[36m0.8508\u001b[0m       \u001b[32m0.6681\u001b[0m        \u001b[35m0.9181\u001b[0m  4.5093\n",
            "      5        \u001b[36m0.7538\u001b[0m       0.6619        1.0008  4.4015\n",
            "      6        \u001b[36m0.6754\u001b[0m       \u001b[32m0.7105\u001b[0m        \u001b[35m0.8519\u001b[0m  4.3180\n",
            "      7        \u001b[36m0.6032\u001b[0m       \u001b[32m0.7334\u001b[0m        \u001b[35m0.7742\u001b[0m  4.2865\n",
            "      8        \u001b[36m0.5361\u001b[0m       0.6881        0.9893  5.2351\n",
            "      9        \u001b[36m0.4785\u001b[0m       0.6551        1.1563  4.9584\n",
            "     10        \u001b[36m0.4285\u001b[0m       0.6109        1.4342  5.5588\n",
            "Train accuracy: 0.708975\n",
            "CPU times: user 45.1 s, sys: 513 ms, total: 45.6 s\n",
            "Wall time: 49.9 s\n"
          ]
        }
      ]
    },
    {
      "cell_type": "code",
      "source": [
        "# 4a. RandomizedSearchCV for Hyperparams Tuning\n",
        "\n",
        "# (param_dist_v3)\n",
        "\n",
        "param_dist = {\n",
        "    \"module__channels\": [32, 64, 128],  # Increasing upper range\n",
        "    \"module__dropout\": [0.2, 0.3, 0.5],  # Slightly reduced dropout values\n",
        "    \"lr\": [1e-4, 3e-4, 1e-3],  # Removed extreme values for better control\n",
        "    \"optimizer\": [torch.optim.Adam, torch.optim.SGD, torch.optim.RMSprop],\n",
        "    \"batch_size\": [64, 128],  # Added smaller batch size for exploration\n",
        "    \"optimizer__momentum\": [0.0, 0.9],\n",
        "    \"optimizer__weight_decay\": [0.0, 1e-4, 5e-4],\n",
        "}"
      ],
      "metadata": {
        "id": "eIAU9fznF6ms"
      },
      "execution_count": 9,
      "outputs": []
    },
    {
      "cell_type": "code",
      "source": [
        "%%time\n",
        "\n",
        "# 4b. Randomized Search Actual (sample combos, actual run;)\n",
        "\n",
        "rs = RandomizedSearchCV(\n",
        "    estimator=net\n",
        "    , param_distributions=param_dist\n",
        "    , n_iter=10\n",
        "    , cv=3\n",
        "    , scoring=\"accuracy\"\n",
        "    , verbose=1\n",
        "    , random_state=27\n",
        "    , n_jobs=-1\n",
        ")\n",
        "\n",
        "rs.fit(X_train, y_train)\n",
        "\n",
        "print(\"Best CV accuracy:\", rs.best_score_)\n",
        "print(\"Best params:\", rs.best_params_)"
      ],
      "metadata": {
        "colab": {
          "base_uri": "https://localhost:8080/"
        },
        "id": "U5j44_mMF6pq",
        "outputId": "8482ca58-0ac0-490c-d4e2-f58814b50fd5"
      },
      "execution_count": 10,
      "outputs": [
        {
          "output_type": "stream",
          "name": "stdout",
          "text": [
            "Fitting 3 folds for each of 10 candidates, totalling 30 fits\n",
            "  epoch    train_loss    valid_acc    valid_loss     dur\n",
            "-------  ------------  -----------  ------------  ------\n",
            "      1        \u001b[36m1.7322\u001b[0m       \u001b[32m0.3776\u001b[0m        \u001b[35m1.7492\u001b[0m  4.4208\n",
            "      2        \u001b[36m1.3041\u001b[0m       \u001b[32m0.4898\u001b[0m        \u001b[35m1.4306\u001b[0m  4.5251\n",
            "      3        \u001b[36m1.0954\u001b[0m       \u001b[32m0.6352\u001b[0m        \u001b[35m1.0212\u001b[0m  4.4276\n",
            "      4        \u001b[36m0.9468\u001b[0m       0.5594        1.2473  4.5499\n",
            "      5        \u001b[36m0.8336\u001b[0m       \u001b[32m0.6801\u001b[0m        \u001b[35m0.9099\u001b[0m  4.5220\n",
            "      6        \u001b[36m0.7322\u001b[0m       0.6697        0.9771  4.4291\n",
            "      7        \u001b[36m0.6414\u001b[0m       0.6700        0.9879  4.5313\n",
            "      8        \u001b[36m0.5661\u001b[0m       \u001b[32m0.7469\u001b[0m        \u001b[35m0.7465\u001b[0m  4.4131\n",
            "      9        \u001b[36m0.4894\u001b[0m       0.6950        0.9143  4.4233\n",
            "     10        \u001b[36m0.4343\u001b[0m       \u001b[32m0.7475\u001b[0m        0.7763  4.5257\n",
            "Best CV accuracy: 0.7108251708842594\n",
            "Best params: {'optimizer__weight_decay': 0.0, 'optimizer__momentum': 0.9, 'optimizer': <class 'torch.optim.rmsprop.RMSprop'>, 'module__dropout': 0.3, 'module__channels': 64, 'lr': 0.0003, 'batch_size': 128}\n",
            "CPU times: user 53 s, sys: 22.1 s, total: 1min 15s\n",
            "Wall time: 10min 25s\n"
          ]
        }
      ]
    },
    {
      "cell_type": "code",
      "source": [
        "# 5. Send results to a dataframe for clean review;\n",
        "\n",
        "results = pd.DataFrame(rs.cv_results_)\n",
        "results[[\n",
        "    \"mean_test_score\"\n",
        "    , \"std_test_score\"\n",
        "    , \"params\"\n",
        "]].sort_values(\"mean_test_score\", ascending=False, inplace=True)\n",
        "results.head(3)"
      ],
      "metadata": {
        "colab": {
          "base_uri": "https://localhost:8080/",
          "height": 216
        },
        "id": "UH7O1aIzF6sr",
        "outputId": "40047180-9474-4827-da6e-3a722d05a5da"
      },
      "execution_count": 11,
      "outputs": [
        {
          "output_type": "execute_result",
          "data": {
            "text/plain": [
              "   mean_fit_time  std_fit_time  mean_score_time  std_score_time  \\\n",
              "0     131.307479      8.667714         2.116713        0.503485   \n",
              "1      57.940185      6.460549         1.258338        0.192699   \n",
              "2      36.566407      2.107070         0.865899        0.173721   \n",
              "\n",
              "   param_optimizer__weight_decay  param_optimizer__momentum  \\\n",
              "0                         0.0001                        0.0   \n",
              "1                         0.0000                        0.0   \n",
              "2                         0.0005                        0.9   \n",
              "\n",
              "                         param_optimizer  param_module__dropout  \\\n",
              "0  <class 'torch.optim.rmsprop.RMSprop'>                    0.5   \n",
              "1  <class 'torch.optim.rmsprop.RMSprop'>                    0.2   \n",
              "2          <class 'torch.optim.sgd.SGD'>                    0.5   \n",
              "\n",
              "   param_module__channels  param_lr  param_batch_size  \\\n",
              "0                     128    0.0001               128   \n",
              "1                      64    0.0001               128   \n",
              "2                      32    0.0001                64   \n",
              "\n",
              "                                              params  split0_test_score  \\\n",
              "0  {'optimizer__weight_decay': 0.0001, 'optimizer...           0.686366   \n",
              "1  {'optimizer__weight_decay': 0.0, 'optimizer__m...           0.672041   \n",
              "2  {'optimizer__weight_decay': 0.0005, 'optimizer...           0.308085   \n",
              "\n",
              "   split1_test_score  split2_test_score  mean_test_score  std_test_score  \\\n",
              "0           0.698942           0.497787         0.627699        0.092004   \n",
              "1           0.576464           0.510913         0.586473        0.066160   \n",
              "2           0.317933           0.323033         0.316350        0.006204   \n",
              "\n",
              "   rank_test_score  \n",
              "0                3  \n",
              "1                4  \n",
              "2                6  "
            ],
            "text/html": [
              "\n",
              "  <div id=\"df-dc7b0d52-a9a8-454f-8447-b84236518a2a\" class=\"colab-df-container\">\n",
              "    <div>\n",
              "<style scoped>\n",
              "    .dataframe tbody tr th:only-of-type {\n",
              "        vertical-align: middle;\n",
              "    }\n",
              "\n",
              "    .dataframe tbody tr th {\n",
              "        vertical-align: top;\n",
              "    }\n",
              "\n",
              "    .dataframe thead th {\n",
              "        text-align: right;\n",
              "    }\n",
              "</style>\n",
              "<table border=\"1\" class=\"dataframe\">\n",
              "  <thead>\n",
              "    <tr style=\"text-align: right;\">\n",
              "      <th></th>\n",
              "      <th>mean_fit_time</th>\n",
              "      <th>std_fit_time</th>\n",
              "      <th>mean_score_time</th>\n",
              "      <th>std_score_time</th>\n",
              "      <th>param_optimizer__weight_decay</th>\n",
              "      <th>param_optimizer__momentum</th>\n",
              "      <th>param_optimizer</th>\n",
              "      <th>param_module__dropout</th>\n",
              "      <th>param_module__channels</th>\n",
              "      <th>param_lr</th>\n",
              "      <th>param_batch_size</th>\n",
              "      <th>params</th>\n",
              "      <th>split0_test_score</th>\n",
              "      <th>split1_test_score</th>\n",
              "      <th>split2_test_score</th>\n",
              "      <th>mean_test_score</th>\n",
              "      <th>std_test_score</th>\n",
              "      <th>rank_test_score</th>\n",
              "    </tr>\n",
              "  </thead>\n",
              "  <tbody>\n",
              "    <tr>\n",
              "      <th>0</th>\n",
              "      <td>131.307479</td>\n",
              "      <td>8.667714</td>\n",
              "      <td>2.116713</td>\n",
              "      <td>0.503485</td>\n",
              "      <td>0.0001</td>\n",
              "      <td>0.0</td>\n",
              "      <td>&lt;class 'torch.optim.rmsprop.RMSprop'&gt;</td>\n",
              "      <td>0.5</td>\n",
              "      <td>128</td>\n",
              "      <td>0.0001</td>\n",
              "      <td>128</td>\n",
              "      <td>{'optimizer__weight_decay': 0.0001, 'optimizer...</td>\n",
              "      <td>0.686366</td>\n",
              "      <td>0.698942</td>\n",
              "      <td>0.497787</td>\n",
              "      <td>0.627699</td>\n",
              "      <td>0.092004</td>\n",
              "      <td>3</td>\n",
              "    </tr>\n",
              "    <tr>\n",
              "      <th>1</th>\n",
              "      <td>57.940185</td>\n",
              "      <td>6.460549</td>\n",
              "      <td>1.258338</td>\n",
              "      <td>0.192699</td>\n",
              "      <td>0.0000</td>\n",
              "      <td>0.0</td>\n",
              "      <td>&lt;class 'torch.optim.rmsprop.RMSprop'&gt;</td>\n",
              "      <td>0.2</td>\n",
              "      <td>64</td>\n",
              "      <td>0.0001</td>\n",
              "      <td>128</td>\n",
              "      <td>{'optimizer__weight_decay': 0.0, 'optimizer__m...</td>\n",
              "      <td>0.672041</td>\n",
              "      <td>0.576464</td>\n",
              "      <td>0.510913</td>\n",
              "      <td>0.586473</td>\n",
              "      <td>0.066160</td>\n",
              "      <td>4</td>\n",
              "    </tr>\n",
              "    <tr>\n",
              "      <th>2</th>\n",
              "      <td>36.566407</td>\n",
              "      <td>2.107070</td>\n",
              "      <td>0.865899</td>\n",
              "      <td>0.173721</td>\n",
              "      <td>0.0005</td>\n",
              "      <td>0.9</td>\n",
              "      <td>&lt;class 'torch.optim.sgd.SGD'&gt;</td>\n",
              "      <td>0.5</td>\n",
              "      <td>32</td>\n",
              "      <td>0.0001</td>\n",
              "      <td>64</td>\n",
              "      <td>{'optimizer__weight_decay': 0.0005, 'optimizer...</td>\n",
              "      <td>0.308085</td>\n",
              "      <td>0.317933</td>\n",
              "      <td>0.323033</td>\n",
              "      <td>0.316350</td>\n",
              "      <td>0.006204</td>\n",
              "      <td>6</td>\n",
              "    </tr>\n",
              "  </tbody>\n",
              "</table>\n",
              "</div>\n",
              "    <div class=\"colab-df-buttons\">\n",
              "\n",
              "  <div class=\"colab-df-container\">\n",
              "    <button class=\"colab-df-convert\" onclick=\"convertToInteractive('df-dc7b0d52-a9a8-454f-8447-b84236518a2a')\"\n",
              "            title=\"Convert this dataframe to an interactive table.\"\n",
              "            style=\"display:none;\">\n",
              "\n",
              "  <svg xmlns=\"http://www.w3.org/2000/svg\" height=\"24px\" viewBox=\"0 -960 960 960\">\n",
              "    <path d=\"M120-120v-720h720v720H120Zm60-500h600v-160H180v160Zm220 220h160v-160H400v160Zm0 220h160v-160H400v160ZM180-400h160v-160H180v160Zm440 0h160v-160H620v160ZM180-180h160v-160H180v160Zm440 0h160v-160H620v160Z\"/>\n",
              "  </svg>\n",
              "    </button>\n",
              "\n",
              "  <style>\n",
              "    .colab-df-container {\n",
              "      display:flex;\n",
              "      gap: 12px;\n",
              "    }\n",
              "\n",
              "    .colab-df-convert {\n",
              "      background-color: #E8F0FE;\n",
              "      border: none;\n",
              "      border-radius: 50%;\n",
              "      cursor: pointer;\n",
              "      display: none;\n",
              "      fill: #1967D2;\n",
              "      height: 32px;\n",
              "      padding: 0 0 0 0;\n",
              "      width: 32px;\n",
              "    }\n",
              "\n",
              "    .colab-df-convert:hover {\n",
              "      background-color: #E2EBFA;\n",
              "      box-shadow: 0px 1px 2px rgba(60, 64, 67, 0.3), 0px 1px 3px 1px rgba(60, 64, 67, 0.15);\n",
              "      fill: #174EA6;\n",
              "    }\n",
              "\n",
              "    .colab-df-buttons div {\n",
              "      margin-bottom: 4px;\n",
              "    }\n",
              "\n",
              "    [theme=dark] .colab-df-convert {\n",
              "      background-color: #3B4455;\n",
              "      fill: #D2E3FC;\n",
              "    }\n",
              "\n",
              "    [theme=dark] .colab-df-convert:hover {\n",
              "      background-color: #434B5C;\n",
              "      box-shadow: 0px 1px 3px 1px rgba(0, 0, 0, 0.15);\n",
              "      filter: drop-shadow(0px 1px 2px rgba(0, 0, 0, 0.3));\n",
              "      fill: #FFFFFF;\n",
              "    }\n",
              "  </style>\n",
              "\n",
              "    <script>\n",
              "      const buttonEl =\n",
              "        document.querySelector('#df-dc7b0d52-a9a8-454f-8447-b84236518a2a button.colab-df-convert');\n",
              "      buttonEl.style.display =\n",
              "        google.colab.kernel.accessAllowed ? 'block' : 'none';\n",
              "\n",
              "      async function convertToInteractive(key) {\n",
              "        const element = document.querySelector('#df-dc7b0d52-a9a8-454f-8447-b84236518a2a');\n",
              "        const dataTable =\n",
              "          await google.colab.kernel.invokeFunction('convertToInteractive',\n",
              "                                                    [key], {});\n",
              "        if (!dataTable) return;\n",
              "\n",
              "        const docLinkHtml = 'Like what you see? Visit the ' +\n",
              "          '<a target=\"_blank\" href=https://colab.research.google.com/notebooks/data_table.ipynb>data table notebook</a>'\n",
              "          + ' to learn more about interactive tables.';\n",
              "        element.innerHTML = '';\n",
              "        dataTable['output_type'] = 'display_data';\n",
              "        await google.colab.output.renderOutput(dataTable, element);\n",
              "        const docLink = document.createElement('div');\n",
              "        docLink.innerHTML = docLinkHtml;\n",
              "        element.appendChild(docLink);\n",
              "      }\n",
              "    </script>\n",
              "  </div>\n",
              "\n",
              "\n",
              "    <div id=\"df-8934d51f-f355-4400-b0de-44b209ca56c4\">\n",
              "      <button class=\"colab-df-quickchart\" onclick=\"quickchart('df-8934d51f-f355-4400-b0de-44b209ca56c4')\"\n",
              "                title=\"Suggest charts\"\n",
              "                style=\"display:none;\">\n",
              "\n",
              "<svg xmlns=\"http://www.w3.org/2000/svg\" height=\"24px\"viewBox=\"0 0 24 24\"\n",
              "     width=\"24px\">\n",
              "    <g>\n",
              "        <path d=\"M19 3H5c-1.1 0-2 .9-2 2v14c0 1.1.9 2 2 2h14c1.1 0 2-.9 2-2V5c0-1.1-.9-2-2-2zM9 17H7v-7h2v7zm4 0h-2V7h2v10zm4 0h-2v-4h2v4z\"/>\n",
              "    </g>\n",
              "</svg>\n",
              "      </button>\n",
              "\n",
              "<style>\n",
              "  .colab-df-quickchart {\n",
              "      --bg-color: #E8F0FE;\n",
              "      --fill-color: #1967D2;\n",
              "      --hover-bg-color: #E2EBFA;\n",
              "      --hover-fill-color: #174EA6;\n",
              "      --disabled-fill-color: #AAA;\n",
              "      --disabled-bg-color: #DDD;\n",
              "  }\n",
              "\n",
              "  [theme=dark] .colab-df-quickchart {\n",
              "      --bg-color: #3B4455;\n",
              "      --fill-color: #D2E3FC;\n",
              "      --hover-bg-color: #434B5C;\n",
              "      --hover-fill-color: #FFFFFF;\n",
              "      --disabled-bg-color: #3B4455;\n",
              "      --disabled-fill-color: #666;\n",
              "  }\n",
              "\n",
              "  .colab-df-quickchart {\n",
              "    background-color: var(--bg-color);\n",
              "    border: none;\n",
              "    border-radius: 50%;\n",
              "    cursor: pointer;\n",
              "    display: none;\n",
              "    fill: var(--fill-color);\n",
              "    height: 32px;\n",
              "    padding: 0;\n",
              "    width: 32px;\n",
              "  }\n",
              "\n",
              "  .colab-df-quickchart:hover {\n",
              "    background-color: var(--hover-bg-color);\n",
              "    box-shadow: 0 1px 2px rgba(60, 64, 67, 0.3), 0 1px 3px 1px rgba(60, 64, 67, 0.15);\n",
              "    fill: var(--button-hover-fill-color);\n",
              "  }\n",
              "\n",
              "  .colab-df-quickchart-complete:disabled,\n",
              "  .colab-df-quickchart-complete:disabled:hover {\n",
              "    background-color: var(--disabled-bg-color);\n",
              "    fill: var(--disabled-fill-color);\n",
              "    box-shadow: none;\n",
              "  }\n",
              "\n",
              "  .colab-df-spinner {\n",
              "    border: 2px solid var(--fill-color);\n",
              "    border-color: transparent;\n",
              "    border-bottom-color: var(--fill-color);\n",
              "    animation:\n",
              "      spin 1s steps(1) infinite;\n",
              "  }\n",
              "\n",
              "  @keyframes spin {\n",
              "    0% {\n",
              "      border-color: transparent;\n",
              "      border-bottom-color: var(--fill-color);\n",
              "      border-left-color: var(--fill-color);\n",
              "    }\n",
              "    20% {\n",
              "      border-color: transparent;\n",
              "      border-left-color: var(--fill-color);\n",
              "      border-top-color: var(--fill-color);\n",
              "    }\n",
              "    30% {\n",
              "      border-color: transparent;\n",
              "      border-left-color: var(--fill-color);\n",
              "      border-top-color: var(--fill-color);\n",
              "      border-right-color: var(--fill-color);\n",
              "    }\n",
              "    40% {\n",
              "      border-color: transparent;\n",
              "      border-right-color: var(--fill-color);\n",
              "      border-top-color: var(--fill-color);\n",
              "    }\n",
              "    60% {\n",
              "      border-color: transparent;\n",
              "      border-right-color: var(--fill-color);\n",
              "    }\n",
              "    80% {\n",
              "      border-color: transparent;\n",
              "      border-right-color: var(--fill-color);\n",
              "      border-bottom-color: var(--fill-color);\n",
              "    }\n",
              "    90% {\n",
              "      border-color: transparent;\n",
              "      border-bottom-color: var(--fill-color);\n",
              "    }\n",
              "  }\n",
              "</style>\n",
              "\n",
              "      <script>\n",
              "        async function quickchart(key) {\n",
              "          const quickchartButtonEl =\n",
              "            document.querySelector('#' + key + ' button');\n",
              "          quickchartButtonEl.disabled = true;  // To prevent multiple clicks.\n",
              "          quickchartButtonEl.classList.add('colab-df-spinner');\n",
              "          try {\n",
              "            const charts = await google.colab.kernel.invokeFunction(\n",
              "                'suggestCharts', [key], {});\n",
              "          } catch (error) {\n",
              "            console.error('Error during call to suggestCharts:', error);\n",
              "          }\n",
              "          quickchartButtonEl.classList.remove('colab-df-spinner');\n",
              "          quickchartButtonEl.classList.add('colab-df-quickchart-complete');\n",
              "        }\n",
              "        (() => {\n",
              "          let quickchartButtonEl =\n",
              "            document.querySelector('#df-8934d51f-f355-4400-b0de-44b209ca56c4 button');\n",
              "          quickchartButtonEl.style.display =\n",
              "            google.colab.kernel.accessAllowed ? 'block' : 'none';\n",
              "        })();\n",
              "      </script>\n",
              "    </div>\n",
              "\n",
              "    </div>\n",
              "  </div>\n"
            ],
            "application/vnd.google.colaboratory.intrinsic+json": {
              "type": "dataframe",
              "variable_name": "results",
              "summary": "{\n  \"name\": \"results\",\n  \"rows\": 10,\n  \"fields\": [\n    {\n      \"column\": \"mean_fit_time\",\n      \"properties\": {\n        \"dtype\": \"number\",\n        \"std\": 40.72267317651152,\n        \"min\": 0.4711802005767822,\n        \"max\": 131.30747946103415,\n        \"num_unique_values\": 10,\n        \"samples\": [\n          27.4114187558492,\n          57.94018546740214,\n          36.30014816919962\n        ],\n        \"semantic_type\": \"\",\n        \"description\": \"\"\n      }\n    },\n    {\n      \"column\": \"std_fit_time\",\n      \"properties\": {\n        \"dtype\": \"number\",\n        \"std\": 3.0321874029943148,\n        \"min\": 0.012530963608486653,\n        \"max\": 8.667713736717147,\n        \"num_unique_values\": 10,\n        \"samples\": [\n          4.92392176377487,\n          6.460548866767988,\n          1.8071236213442674\n        ],\n        \"semantic_type\": \"\",\n        \"description\": \"\"\n      }\n    },\n    {\n      \"column\": \"mean_score_time\",\n      \"properties\": {\n        \"dtype\": \"number\",\n        \"std\": 0.7153732524914654,\n        \"min\": 0.0,\n        \"max\": 2.1167128880818686,\n        \"num_unique_values\": 7,\n        \"samples\": [\n          2.1167128880818686,\n          1.2583382924397786,\n          1.1796358426411946\n        ],\n        \"semantic_type\": \"\",\n        \"description\": \"\"\n      }\n    },\n    {\n      \"column\": \"std_score_time\",\n      \"properties\": {\n        \"dtype\": \"number\",\n        \"std\": 0.1569817645936462,\n        \"min\": 0.0,\n        \"max\": 0.5034851009216667,\n        \"num_unique_values\": 7,\n        \"samples\": [\n          0.5034851009216667,\n          0.19269859807045497,\n          0.03460975537972179\n        ],\n        \"semantic_type\": \"\",\n        \"description\": \"\"\n      }\n    },\n    {\n      \"column\": \"param_optimizer__weight_decay\",\n      \"properties\": {\n        \"dtype\": \"number\",\n        \"std\": 0.0002440400695696417,\n        \"min\": 0.0,\n        \"max\": 0.0005,\n        \"num_unique_values\": 3,\n        \"samples\": [\n          0.0001,\n          0.0,\n          0.0005\n        ],\n        \"semantic_type\": \"\",\n        \"description\": \"\"\n      }\n    },\n    {\n      \"column\": \"param_optimizer__momentum\",\n      \"properties\": {\n        \"dtype\": \"number\",\n        \"std\": 0.474341649025257,\n        \"min\": 0.0,\n        \"max\": 0.9,\n        \"num_unique_values\": 2,\n        \"samples\": [\n          0.9,\n          0.0\n        ],\n        \"semantic_type\": \"\",\n        \"description\": \"\"\n      }\n    },\n    {\n      \"column\": \"param_optimizer\",\n      \"properties\": {\n        \"dtype\": \"category\",\n        \"num_unique_values\": 3,\n        \"samples\": [\n          \"<class 'torch.optim.rmsprop.RMSprop'>\",\n          \"<class 'torch.optim.sgd.SGD'>\"\n        ],\n        \"semantic_type\": \"\",\n        \"description\": \"\"\n      }\n    },\n    {\n      \"column\": \"param_module__dropout\",\n      \"properties\": {\n        \"dtype\": \"number\",\n        \"std\": 0.12516655570345725,\n        \"min\": 0.2,\n        \"max\": 0.5,\n        \"num_unique_values\": 3,\n        \"samples\": [\n          0.5,\n          0.2\n        ],\n        \"semantic_type\": \"\",\n        \"description\": \"\"\n      }\n    },\n    {\n      \"column\": \"param_module__channels\",\n      \"properties\": {\n        \"dtype\": \"number\",\n        \"std\": 30,\n        \"min\": 32,\n        \"max\": 128,\n        \"num_unique_values\": 3,\n        \"samples\": [\n          128,\n          64\n        ],\n        \"semantic_type\": \"\",\n        \"description\": \"\"\n      }\n    },\n    {\n      \"column\": \"param_lr\",\n      \"properties\": {\n        \"dtype\": \"number\",\n        \"std\": 9.660917830792957e-05,\n        \"min\": 0.0001,\n        \"max\": 0.0003,\n        \"num_unique_values\": 2,\n        \"samples\": [\n          0.0003,\n          0.0001\n        ],\n        \"semantic_type\": \"\",\n        \"description\": \"\"\n      }\n    },\n    {\n      \"column\": \"param_batch_size\",\n      \"properties\": {\n        \"dtype\": \"number\",\n        \"std\": 33,\n        \"min\": 64,\n        \"max\": 128,\n        \"num_unique_values\": 2,\n        \"samples\": [\n          64,\n          128\n        ],\n        \"semantic_type\": \"\",\n        \"description\": \"\"\n      }\n    },\n    {\n      \"column\": \"params\",\n      \"properties\": {\n        \"dtype\": \"object\",\n        \"semantic_type\": \"\",\n        \"description\": \"\"\n      }\n    },\n    {\n      \"column\": \"split0_test_score\",\n      \"properties\": {\n        \"dtype\": \"number\",\n        \"std\": 0.18696806533967686,\n        \"min\": 0.30808459577021147,\n        \"max\": 0.7039898005099745,\n        \"num_unique_values\": 6,\n        \"samples\": [\n          0.6863656817159142,\n          0.6720413979301035\n        ],\n        \"semantic_type\": \"\",\n        \"description\": \"\"\n      }\n    },\n    {\n      \"column\": \"split1_test_score\",\n      \"properties\": {\n        \"dtype\": \"number\",\n        \"std\": 0.17213368836260587,\n        \"min\": 0.3179329483237081,\n        \"max\": 0.7161179029475737,\n        \"num_unique_values\": 6,\n        \"samples\": [\n          0.698942473561839,\n          0.5764644116102903\n        ],\n        \"semantic_type\": \"\",\n        \"description\": \"\"\n      }\n    },\n    {\n      \"column\": \"split2_test_score\",\n      \"properties\": {\n        \"dtype\": \"number\",\n        \"std\": 0.16008098252925668,\n        \"min\": 0.32303307582689567,\n        \"max\": 0.7123678091952299,\n        \"num_unique_values\": 6,\n        \"samples\": [\n          0.49778744468611713,\n          0.5109127728193205\n        ],\n        \"semantic_type\": \"\",\n        \"description\": \"\"\n      }\n    },\n    {\n      \"column\": \"mean_test_score\",\n      \"properties\": {\n        \"dtype\": \"number\",\n        \"std\": 0.16707267323562605,\n        \"min\": 0.31635020664027175,\n        \"max\": 0.7108251708842594,\n        \"num_unique_values\": 6,\n        \"samples\": [\n          0.62769853332129,\n          0.5864728607865715\n        ],\n        \"semantic_type\": \"\",\n        \"description\": \"\"\n      }\n    },\n    {\n      \"column\": \"std_test_score\",\n      \"properties\": {\n        \"dtype\": \"number\",\n        \"std\": 0.03680045200920287,\n        \"min\": 0.005070010973234704,\n        \"max\": 0.09200439169251926,\n        \"num_unique_values\": 6,\n        \"samples\": [\n          0.09200439169251926,\n          0.06616008488864199\n        ],\n        \"semantic_type\": \"\",\n        \"description\": \"\"\n      }\n    },\n    {\n      \"column\": \"rank_test_score\",\n      \"properties\": {\n        \"dtype\": \"int32\",\n        \"num_unique_values\": 7,\n        \"samples\": [\n          3,\n          4\n        ],\n        \"semantic_type\": \"\",\n        \"description\": \"\"\n      }\n    }\n  ]\n}"
            }
          },
          "metadata": {},
          "execution_count": 11
        }
      ]
    },
    {
      "cell_type": "code",
      "source": [
        "results['params'].iloc[0]"
      ],
      "metadata": {
        "colab": {
          "base_uri": "https://localhost:8080/"
        },
        "id": "tirjq3kaJGuM",
        "outputId": "1bf43f52-cb3a-4ee5-d3ed-2ebff0a43c9c"
      },
      "execution_count": 12,
      "outputs": [
        {
          "output_type": "execute_result",
          "data": {
            "text/plain": [
              "{'optimizer__weight_decay': 0.0001,\n",
              " 'optimizer__momentum': 0.0,\n",
              " 'optimizer': torch.optim.rmsprop.RMSprop,\n",
              " 'module__dropout': 0.5,\n",
              " 'module__channels': 128,\n",
              " 'lr': 0.0001,\n",
              " 'batch_size': 128}"
            ]
          },
          "metadata": {},
          "execution_count": 12
        }
      ]
    },
    {
      "cell_type": "code",
      "source": [
        "\"\"\"\n",
        "Best params: {'optimizer__weight_decay': 0.0, 'optimizer__momentum': 0.9, 'optimizer': <class 'torch.optim.rmsprop.RMSprop'>, 'module__dropout': 0.3, 'module__channels': 64, 'lr': 0.0003, 'batch_size': 128}\n",
        "\n",
        "\n",
        "{'optimizer__weight_decay': 0.0001,\n",
        " 'optimizer__momentum': 0.0,\n",
        " 'optimizer': torch.optim.rmsprop.RMSprop,\n",
        " 'module__dropout': 0.5,\n",
        " 'module__channels': 128,\n",
        " 'lr': 0.0001,\n",
        " 'batch_size': 128}\n",
        "\n",
        "\"\"\""
      ],
      "metadata": {
        "id": "5izpFe5u4VME"
      },
      "execution_count": null,
      "outputs": []
    },
    {
      "cell_type": "code",
      "source": [
        "# 6. Predict & Evaluate Performance with Best Model\n",
        "\n",
        "best_model = rs.best_estimator_\n",
        "y_pred = best_model.predict(X_test)\n",
        "\n",
        "print(\"Accuracy:\\n\", accuracy_score(y_test, y_pred))\n",
        "print('\\n=================================================================\\n')\n",
        "print('Confusion Matrix:\\n', confusion_matrix(y_test, y_pred))\n",
        "print('\\n=================================================================\\n')\n",
        "print(\"Classification Report:\\n\", classification_report(y_test, y_pred))\n",
        "\n",
        "cm = ConfusionMatrix(num_classes=10, task='multiclass')\n",
        "cm_tensor = cm(torch.tensor(y_pred), y_test)"
      ],
      "metadata": {
        "colab": {
          "base_uri": "https://localhost:8080/"
        },
        "id": "dAoojeaoF6v1",
        "outputId": "ff00b912-6513-4347-dc07-abd5a85d86b3"
      },
      "execution_count": 13,
      "outputs": [
        {
          "output_type": "stream",
          "name": "stdout",
          "text": [
            "Accuracy:\n",
            " 0.7557\n",
            "\n",
            "=================================================================\n",
            "\n",
            "Confusion Matrix:\n",
            " [[729   8  41  14  30   2   9  78  52  37]\n",
            " [  7 911   2   2   1   1   4   7  16  49]\n",
            " [ 44   3 585  27 114  41  53 123   8   2]\n",
            " [  7   5  41 394 113 161  76 162  21  20]\n",
            " [  4   0  16   8 765   7  21 171   6   2]\n",
            " [  2   2  22  82  43 646  31 159   7   6]\n",
            " [  2   2  18  20  49  15 862  25   5   2]\n",
            " [  4   0   9   6  16  16   5 940   3   1]\n",
            " [ 26  19   6   8   8   3   6  18 887  19]\n",
            " [ 18  70   1   4   3   1   4  47  14 838]]\n",
            "\n",
            "=================================================================\n",
            "\n",
            "Classification Report:\n",
            "               precision    recall  f1-score   support\n",
            "\n",
            "           0       0.86      0.73      0.79      1000\n",
            "           1       0.89      0.91      0.90      1000\n",
            "           2       0.79      0.58      0.67      1000\n",
            "           3       0.70      0.39      0.50      1000\n",
            "           4       0.67      0.77      0.71      1000\n",
            "           5       0.72      0.65      0.68      1000\n",
            "           6       0.80      0.86      0.83      1000\n",
            "           7       0.54      0.94      0.69      1000\n",
            "           8       0.87      0.89      0.88      1000\n",
            "           9       0.86      0.84      0.85      1000\n",
            "\n",
            "    accuracy                           0.76     10000\n",
            "   macro avg       0.77      0.76      0.75     10000\n",
            "weighted avg       0.77      0.76      0.75     10000\n",
            "\n"
          ]
        }
      ]
    },
    {
      "cell_type": "code",
      "source": [
        "# 7. Plot the Confusion Matrix\n",
        "\n",
        "fig, ax = plt.subplots(figsize=(12, 10))\n",
        "\n",
        "# disp = ConfusionMatrixDisplay.from_predictions(\n",
        "#     y_test, y_pred\n",
        "#     , display_labels=dataset.classes\n",
        "#     , cmap='Blues'\n",
        "#     , normalize='true', xticks_rotation=45\n",
        "# )\n",
        "\n",
        "disp.plot(ax=ax, cmap='Blues')\n",
        "plt.show();"
      ],
      "metadata": {
        "colab": {
          "base_uri": "https://localhost:8080/",
          "height": 837
        },
        "id": "99kklmvPF6yo",
        "outputId": "8a306b0e-e7e2-4c6e-8f86-e011c3f54443"
      },
      "execution_count": 15,
      "outputs": [
        {
          "output_type": "display_data",
          "data": {
            "text/plain": [
              "<Figure size 1200x1000 with 2 Axes>"
            ],
            "image/png": "[encoded data removed]"
          },
          "metadata": {}
        }
      ]
    },
    {
      "cell_type": "code",
      "source": [
        " # 8. Functionize the train & test loop(s):\n",
        "\n",
        "def train_step(model, loader, loss_fn, optimizer, accuracy_fn, device):\n",
        "    model.train()\n",
        "    total_loss, total_acc = 0, 0\n",
        "    for X, y in loader:\n",
        "        X, y = X.to(device), y.to(device)\n",
        "        # Apply train transforms to the batch\n",
        "        X = train_transform_batch(X)\n",
        "        y_pred = model(X)\n",
        "        loss = loss_fn(y_pred, y)\n",
        "        optimizer.zero_grad()\n",
        "        loss.backward()\n",
        "        optimizer.step()\n",
        "        total_loss += loss.item()\n",
        "        total_acc += accuracy_fn(y_pred.argmax(dim=1), y).item()\n",
        "    return total_loss / len(loader), total_acc / len(loader)\n",
        "\n",
        "def test_step(model, loader, loss_fn, accuracy_fn, device):\n",
        "    model.eval()\n",
        "    total_loss, total_acc = 0, 0\n",
        "    with torch.no_grad():\n",
        "        for X, y in loader:\n",
        "            X, y = X.to(device), y.to(device)\n",
        "            # Apply test transforms to the batch\n",
        "            X = test_transform_batch(X)\n",
        "            y_pred = model(X)\n",
        "            loss = loss_fn(y_pred, y)\n",
        "            total_loss += loss.item()\n",
        "            total_acc += accuracy_fn(y_pred.argmax(dim=1), y).item()\n",
        "    return total_loss / len(loader), total_acc / len(loader)"
      ],
      "metadata": {
        "id": "FlkgLcZXF61g"
      },
      "execution_count": 16,
      "outputs": []
    },
    {
      "cell_type": "markdown",
      "source": [],
      "metadata": {
        "id": "k2mP3zx8XFNA"
      }
    },
    {
      "cell_type": "code",
      "source": [
        "# ---------------------------------------------------------\n",
        "# 9. Set the final model with the best params (including channels & dropout)\n",
        "# ---------------------------------------------------------\n",
        "\n",
        "model = Cifar10CNN_v3(\n",
        "    channels=rs.best_params_[\"module__channels\"]\n",
        "    , dropout=rs.best_params_[\"module__dropout\"]\n",
        ").to(device)\n",
        "\n",
        "model\n",
        "\n",
        "\n",
        "# model = Cifar10CNN_v3(\n",
        "#     num_filters=best_params['module__num_filters'],\n",
        "#     num_units=best_params['module__num_units'],\n",
        "#     dropout=best_params['module__dropout']\n",
        "# ).to(device)\n",
        "\n",
        "# model"
      ],
      "metadata": {
        "colab": {
          "base_uri": "https://localhost:8080/"
        },
        "id": "NmwX420VF65-",
        "outputId": "27601def-a504-4405-f8eb-2916cc0dd31f"
      },
      "execution_count": 17,
      "outputs": [
        {
          "output_type": "execute_result",
          "data": {
            "text/plain": [
              "Cifar10CNN_v3(\n",
              "  (conv1): Conv2d(3, 64, kernel_size=(3, 3), stride=(1, 1), padding=(1, 1))\n",
              "  (bn1): BatchNorm2d(64, eps=1e-05, momentum=0.1, affine=True, track_running_stats=True)\n",
              "  (conv2): Conv2d(64, 128, kernel_size=(3, 3), stride=(1, 1), padding=(1, 1))\n",
              "  (bn2): BatchNorm2d(128, eps=1e-05, momentum=0.1, affine=True, track_running_stats=True)\n",
              "  (conv3): Conv2d(128, 256, kernel_size=(3, 3), stride=(1, 1), padding=(1, 1))\n",
              "  (bn3): BatchNorm2d(256, eps=1e-05, momentum=0.1, affine=True, track_running_stats=True)\n",
              "  (conv4): Conv2d(256, 512, kernel_size=(3, 3), stride=(1, 1), padding=(1, 1))\n",
              "  (bn4): BatchNorm2d(512, eps=1e-05, momentum=0.1, affine=True, track_running_stats=True)\n",
              "  (global_avgpool): AdaptiveAvgPool2d(output_size=1)\n",
              "  (fc1): Linear(in_features=512, out_features=512, bias=True)\n",
              "  (fc2): Linear(in_features=512, out_features=256, bias=True)\n",
              "  (fc_out): Linear(in_features=256, out_features=10, bias=True)\n",
              "  (dropout): Dropout(p=0.3, inplace=False)\n",
              ")"
            ]
          },
          "metadata": {},
          "execution_count": 17
        }
      ]
    },
    {
      "cell_type": "code",
      "source": [
        "%%time\n",
        "\n",
        "# 10. Train the Best Model\n",
        "\n",
        "epochs = 50  # Increased to 50\n",
        "\n",
        "optimizer = rs.best_params_[\"optimizer\"](model.parameters(), lr=rs.best_params_[\"lr\"])\n",
        "scheduler = torch.optim.lr_scheduler.CosineAnnealingLR(optimizer, T_max=epochs)\n",
        "loss_fn = nn.CrossEntropyLoss()\n",
        "accuracy_fn = Accuracy(task='multiclass', num_classes=10).to(device)\n",
        "\n",
        "\n",
        "for epoch in tqdm(range(epochs)):\n",
        "    train_loss, train_acc = train_step(\n",
        "        model, train_loader, loss_fn, optimizer, accuracy_fn, device)\n",
        "    test_loss, test_acc = test_step(\n",
        "        model, test_loader, loss_fn, accuracy_fn, device)\n",
        "    scheduler.step()  # Update learning rate\n",
        "    print(\n",
        "        f\"Epoch {epoch+1}/{epochs} - \"\n",
        "        f\"Train Loss: {train_loss:.4f}, Train Acc: {train_acc:.2f} - \"\n",
        "        f\"Test Loss: {test_loss:.4f}, Test Acc: {test_acc:.2f}\"\n",
        "    )"
      ],
      "metadata": {
        "colab": {
          "base_uri": "https://localhost:8080/"
        },
        "id": "dcGwQNBGF68m",
        "outputId": "2cad7a92-343c-4bb4-c890-9a91ca293209"
      },
      "execution_count": 18,
      "outputs": [
        {
          "output_type": "stream",
          "name": "stderr",
          "text": [
            "  2%|▏         | 1/50 [00:05<04:51,  5.94s/it]"
          ]
        },
        {
          "output_type": "stream",
          "name": "stdout",
          "text": [
            "Epoch 1/50 - Train Loss: 1.4994, Train Acc: 0.44 - Test Loss: 1.4527, Test Acc: 0.50\n"
          ]
        },
        {
          "output_type": "stream",
          "name": "stderr",
          "text": [
            "\r  4%|▍         | 2/50 [00:11<04:35,  5.74s/it]"
          ]
        },
        {
          "output_type": "stream",
          "name": "stdout",
          "text": [
            "Epoch 2/50 - Train Loss: 1.1380, Train Acc: 0.59 - Test Loss: 1.1006, Test Acc: 0.60\n"
          ]
        },
        {
          "output_type": "stream",
          "name": "stderr",
          "text": [
            "\r  6%|▌         | 3/50 [00:17<04:30,  5.75s/it]"
          ]
        },
        {
          "output_type": "stream",
          "name": "stdout",
          "text": [
            "Epoch 3/50 - Train Loss: 0.9979, Train Acc: 0.65 - Test Loss: 1.0011, Test Acc: 0.65\n"
          ]
        },
        {
          "output_type": "stream",
          "name": "stderr",
          "text": [
            "\r  8%|▊         | 4/50 [00:22<04:22,  5.71s/it]"
          ]
        },
        {
          "output_type": "stream",
          "name": "stdout",
          "text": [
            "Epoch 4/50 - Train Loss: 0.9085, Train Acc: 0.68 - Test Loss: 1.0985, Test Acc: 0.64\n"
          ]
        },
        {
          "output_type": "stream",
          "name": "stderr",
          "text": [
            "\r 10%|█         | 5/50 [00:28<04:14,  5.66s/it]"
          ]
        },
        {
          "output_type": "stream",
          "name": "stdout",
          "text": [
            "Epoch 5/50 - Train Loss: 0.8495, Train Acc: 0.70 - Test Loss: 1.1342, Test Acc: 0.64\n"
          ]
        },
        {
          "output_type": "stream",
          "name": "stderr",
          "text": [
            "\r 12%|█▏        | 6/50 [00:34<04:12,  5.73s/it]"
          ]
        },
        {
          "output_type": "stream",
          "name": "stdout",
          "text": [
            "Epoch 6/50 - Train Loss: 0.7981, Train Acc: 0.72 - Test Loss: 0.8478, Test Acc: 0.70\n"
          ]
        },
        {
          "output_type": "stream",
          "name": "stderr",
          "text": [
            "\r 14%|█▍        | 7/50 [00:40<04:07,  5.75s/it]"
          ]
        },
        {
          "output_type": "stream",
          "name": "stdout",
          "text": [
            "Epoch 7/50 - Train Loss: 0.7544, Train Acc: 0.74 - Test Loss: 1.0121, Test Acc: 0.67\n"
          ]
        },
        {
          "output_type": "stream",
          "name": "stderr",
          "text": [
            "\r 16%|█▌        | 8/50 [00:45<03:59,  5.69s/it]"
          ]
        },
        {
          "output_type": "stream",
          "name": "stdout",
          "text": [
            "Epoch 8/50 - Train Loss: 0.7150, Train Acc: 0.75 - Test Loss: 1.1761, Test Acc: 0.64\n"
          ]
        },
        {
          "output_type": "stream",
          "name": "stderr",
          "text": [
            "\r 18%|█▊        | 9/50 [00:51<03:50,  5.62s/it]"
          ]
        },
        {
          "output_type": "stream",
          "name": "stdout",
          "text": [
            "Epoch 9/50 - Train Loss: 0.6895, Train Acc: 0.76 - Test Loss: 0.7866, Test Acc: 0.73\n"
          ]
        },
        {
          "output_type": "stream",
          "name": "stderr",
          "text": [
            "\r 20%|██        | 10/50 [00:56<03:43,  5.58s/it]"
          ]
        },
        {
          "output_type": "stream",
          "name": "stdout",
          "text": [
            "Epoch 10/50 - Train Loss: 0.6586, Train Acc: 0.77 - Test Loss: 0.9321, Test Acc: 0.70\n"
          ]
        },
        {
          "output_type": "stream",
          "name": "stderr",
          "text": [
            "\r 22%|██▏       | 11/50 [01:02<03:36,  5.55s/it]"
          ]
        },
        {
          "output_type": "stream",
          "name": "stdout",
          "text": [
            "Epoch 11/50 - Train Loss: 0.6287, Train Acc: 0.78 - Test Loss: 0.6856, Test Acc: 0.76\n"
          ]
        },
        {
          "output_type": "stream",
          "name": "stderr",
          "text": [
            "\r 24%|██▍       | 12/50 [01:07<03:29,  5.52s/it]"
          ]
        },
        {
          "output_type": "stream",
          "name": "stdout",
          "text": [
            "Epoch 12/50 - Train Loss: 0.6119, Train Acc: 0.79 - Test Loss: 0.7674, Test Acc: 0.75\n"
          ]
        },
        {
          "output_type": "stream",
          "name": "stderr",
          "text": [
            "\r 26%|██▌       | 13/50 [01:13<03:24,  5.52s/it]"
          ]
        },
        {
          "output_type": "stream",
          "name": "stdout",
          "text": [
            "Epoch 13/50 - Train Loss: 0.5865, Train Acc: 0.80 - Test Loss: 0.7490, Test Acc: 0.75\n"
          ]
        },
        {
          "output_type": "stream",
          "name": "stderr",
          "text": [
            "\r 28%|██▊       | 14/50 [01:18<03:17,  5.50s/it]"
          ]
        },
        {
          "output_type": "stream",
          "name": "stdout",
          "text": [
            "Epoch 14/50 - Train Loss: 0.5687, Train Acc: 0.80 - Test Loss: 0.6039, Test Acc: 0.79\n"
          ]
        },
        {
          "output_type": "stream",
          "name": "stderr",
          "text": [
            "\r 30%|███       | 15/50 [01:24<03:12,  5.51s/it]"
          ]
        },
        {
          "output_type": "stream",
          "name": "stdout",
          "text": [
            "Epoch 15/50 - Train Loss: 0.5522, Train Acc: 0.81 - Test Loss: 0.5790, Test Acc: 0.80\n"
          ]
        },
        {
          "output_type": "stream",
          "name": "stderr",
          "text": [
            "\r 32%|███▏      | 16/50 [01:29<03:06,  5.50s/it]"
          ]
        },
        {
          "output_type": "stream",
          "name": "stdout",
          "text": [
            "Epoch 16/50 - Train Loss: 0.5375, Train Acc: 0.81 - Test Loss: 0.5780, Test Acc: 0.80\n"
          ]
        },
        {
          "output_type": "stream",
          "name": "stderr",
          "text": [
            "\r 34%|███▍      | 17/50 [01:35<03:01,  5.51s/it]"
          ]
        },
        {
          "output_type": "stream",
          "name": "stdout",
          "text": [
            "Epoch 17/50 - Train Loss: 0.5183, Train Acc: 0.82 - Test Loss: 0.6246, Test Acc: 0.79\n"
          ]
        },
        {
          "output_type": "stream",
          "name": "stderr",
          "text": [
            "\r 36%|███▌      | 18/50 [01:40<02:56,  5.51s/it]"
          ]
        },
        {
          "output_type": "stream",
          "name": "stdout",
          "text": [
            "Epoch 18/50 - Train Loss: 0.5047, Train Acc: 0.83 - Test Loss: 0.6252, Test Acc: 0.79\n"
          ]
        },
        {
          "output_type": "stream",
          "name": "stderr",
          "text": [
            "\r 38%|███▊      | 19/50 [01:46<02:51,  5.54s/it]"
          ]
        },
        {
          "output_type": "stream",
          "name": "stdout",
          "text": [
            "Epoch 19/50 - Train Loss: 0.4943, Train Acc: 0.83 - Test Loss: 0.6170, Test Acc: 0.79\n"
          ]
        },
        {
          "output_type": "stream",
          "name": "stderr",
          "text": [
            "\r 40%|████      | 20/50 [01:51<02:46,  5.54s/it]"
          ]
        },
        {
          "output_type": "stream",
          "name": "stdout",
          "text": [
            "Epoch 20/50 - Train Loss: 0.4771, Train Acc: 0.83 - Test Loss: 0.5195, Test Acc: 0.82\n"
          ]
        },
        {
          "output_type": "stream",
          "name": "stderr",
          "text": [
            "\r 42%|████▏     | 21/50 [01:58<02:46,  5.75s/it]"
          ]
        },
        {
          "output_type": "stream",
          "name": "stdout",
          "text": [
            "Epoch 21/50 - Train Loss: 0.4632, Train Acc: 0.84 - Test Loss: 0.5808, Test Acc: 0.81\n"
          ]
        },
        {
          "output_type": "stream",
          "name": "stderr",
          "text": [
            "\r 44%|████▍     | 22/50 [02:05<02:55,  6.28s/it]"
          ]
        },
        {
          "output_type": "stream",
          "name": "stdout",
          "text": [
            "Epoch 22/50 - Train Loss: 0.4523, Train Acc: 0.84 - Test Loss: 0.6455, Test Acc: 0.79\n"
          ]
        },
        {
          "output_type": "stream",
          "name": "stderr",
          "text": [
            "\r 46%|████▌     | 23/50 [02:11<02:46,  6.15s/it]"
          ]
        },
        {
          "output_type": "stream",
          "name": "stdout",
          "text": [
            "Epoch 23/50 - Train Loss: 0.4374, Train Acc: 0.85 - Test Loss: 0.5151, Test Acc: 0.82\n"
          ]
        },
        {
          "output_type": "stream",
          "name": "stderr",
          "text": [
            "\r 48%|████▊     | 24/50 [02:16<02:34,  5.95s/it]"
          ]
        },
        {
          "output_type": "stream",
          "name": "stdout",
          "text": [
            "Epoch 24/50 - Train Loss: 0.4213, Train Acc: 0.85 - Test Loss: 0.5146, Test Acc: 0.82\n"
          ]
        },
        {
          "output_type": "stream",
          "name": "stderr",
          "text": [
            "\r 50%|█████     | 25/50 [02:22<02:27,  5.88s/it]"
          ]
        },
        {
          "output_type": "stream",
          "name": "stdout",
          "text": [
            "Epoch 25/50 - Train Loss: 0.4139, Train Acc: 0.86 - Test Loss: 0.5663, Test Acc: 0.81\n"
          ]
        },
        {
          "output_type": "stream",
          "name": "stderr",
          "text": [
            "\r 52%|█████▏    | 26/50 [02:28<02:19,  5.80s/it]"
          ]
        },
        {
          "output_type": "stream",
          "name": "stdout",
          "text": [
            "Epoch 26/50 - Train Loss: 0.4065, Train Acc: 0.86 - Test Loss: 0.5009, Test Acc: 0.83\n"
          ]
        },
        {
          "output_type": "stream",
          "name": "stderr",
          "text": [
            "\r 54%|█████▍    | 27/50 [02:33<02:11,  5.72s/it]"
          ]
        },
        {
          "output_type": "stream",
          "name": "stdout",
          "text": [
            "Epoch 27/50 - Train Loss: 0.3879, Train Acc: 0.86 - Test Loss: 0.4658, Test Acc: 0.84\n"
          ]
        },
        {
          "output_type": "stream",
          "name": "stderr",
          "text": [
            "\r 56%|█████▌    | 28/50 [02:39<02:04,  5.67s/it]"
          ]
        },
        {
          "output_type": "stream",
          "name": "stdout",
          "text": [
            "Epoch 28/50 - Train Loss: 0.3882, Train Acc: 0.87 - Test Loss: 0.4709, Test Acc: 0.84\n"
          ]
        },
        {
          "output_type": "stream",
          "name": "stderr",
          "text": [
            "\r 58%|█████▊    | 29/50 [02:44<01:57,  5.61s/it]"
          ]
        },
        {
          "output_type": "stream",
          "name": "stdout",
          "text": [
            "Epoch 29/50 - Train Loss: 0.3708, Train Acc: 0.87 - Test Loss: 0.5633, Test Acc: 0.82\n"
          ]
        },
        {
          "output_type": "stream",
          "name": "stderr",
          "text": [
            "\r 60%|██████    | 30/50 [02:50<01:52,  5.61s/it]"
          ]
        },
        {
          "output_type": "stream",
          "name": "stdout",
          "text": [
            "Epoch 30/50 - Train Loss: 0.3672, Train Acc: 0.87 - Test Loss: 0.4732, Test Acc: 0.84\n"
          ]
        },
        {
          "output_type": "stream",
          "name": "stderr",
          "text": [
            "\r 62%|██████▏   | 31/50 [02:55<01:45,  5.57s/it]"
          ]
        },
        {
          "output_type": "stream",
          "name": "stdout",
          "text": [
            "Epoch 31/50 - Train Loss: 0.3579, Train Acc: 0.88 - Test Loss: 0.5043, Test Acc: 0.84\n"
          ]
        },
        {
          "output_type": "stream",
          "name": "stderr",
          "text": [
            "\r 64%|██████▍   | 32/50 [03:01<01:40,  5.57s/it]"
          ]
        },
        {
          "output_type": "stream",
          "name": "stdout",
          "text": [
            "Epoch 32/50 - Train Loss: 0.3491, Train Acc: 0.88 - Test Loss: 0.4455, Test Acc: 0.85\n"
          ]
        },
        {
          "output_type": "stream",
          "name": "stderr",
          "text": [
            "\r 66%|██████▌   | 33/50 [03:06<01:34,  5.54s/it]"
          ]
        },
        {
          "output_type": "stream",
          "name": "stdout",
          "text": [
            "Epoch 33/50 - Train Loss: 0.3395, Train Acc: 0.88 - Test Loss: 0.4682, Test Acc: 0.85\n"
          ]
        },
        {
          "output_type": "stream",
          "name": "stderr",
          "text": [
            "\r 68%|██████▊   | 34/50 [03:12<01:30,  5.65s/it]"
          ]
        },
        {
          "output_type": "stream",
          "name": "stdout",
          "text": [
            "Epoch 34/50 - Train Loss: 0.3311, Train Acc: 0.89 - Test Loss: 0.4528, Test Acc: 0.85\n"
          ]
        },
        {
          "output_type": "stream",
          "name": "stderr",
          "text": [
            "\r 70%|███████   | 35/50 [03:18<01:25,  5.69s/it]"
          ]
        },
        {
          "output_type": "stream",
          "name": "stdout",
          "text": [
            "Epoch 35/50 - Train Loss: 0.3202, Train Acc: 0.89 - Test Loss: 0.4213, Test Acc: 0.86\n"
          ]
        },
        {
          "output_type": "stream",
          "name": "stderr",
          "text": [
            "\r 72%|███████▏  | 36/50 [03:24<01:19,  5.66s/it]"
          ]
        },
        {
          "output_type": "stream",
          "name": "stdout",
          "text": [
            "Epoch 36/50 - Train Loss: 0.3125, Train Acc: 0.89 - Test Loss: 0.4466, Test Acc: 0.85\n"
          ]
        },
        {
          "output_type": "stream",
          "name": "stderr",
          "text": [
            "\r 74%|███████▍  | 37/50 [03:29<01:12,  5.61s/it]"
          ]
        },
        {
          "output_type": "stream",
          "name": "stdout",
          "text": [
            "Epoch 37/50 - Train Loss: 0.3106, Train Acc: 0.89 - Test Loss: 0.4035, Test Acc: 0.87\n"
          ]
        },
        {
          "output_type": "stream",
          "name": "stderr",
          "text": [
            "\r 76%|███████▌  | 38/50 [03:35<01:07,  5.59s/it]"
          ]
        },
        {
          "output_type": "stream",
          "name": "stdout",
          "text": [
            "Epoch 38/50 - Train Loss: 0.3035, Train Acc: 0.89 - Test Loss: 0.4229, Test Acc: 0.86\n"
          ]
        },
        {
          "output_type": "stream",
          "name": "stderr",
          "text": [
            "\r 78%|███████▊  | 39/50 [03:40<01:01,  5.57s/it]"
          ]
        },
        {
          "output_type": "stream",
          "name": "stdout",
          "text": [
            "Epoch 39/50 - Train Loss: 0.3008, Train Acc: 0.89 - Test Loss: 0.4284, Test Acc: 0.86\n"
          ]
        },
        {
          "output_type": "stream",
          "name": "stderr",
          "text": [
            "\r 80%|████████  | 40/50 [03:46<00:55,  5.55s/it]"
          ]
        },
        {
          "output_type": "stream",
          "name": "stdout",
          "text": [
            "Epoch 40/50 - Train Loss: 0.2956, Train Acc: 0.90 - Test Loss: 0.4142, Test Acc: 0.87\n"
          ]
        },
        {
          "output_type": "stream",
          "name": "stderr",
          "text": [
            "\r 82%|████████▏ | 41/50 [03:51<00:50,  5.56s/it]"
          ]
        },
        {
          "output_type": "stream",
          "name": "stdout",
          "text": [
            "Epoch 41/50 - Train Loss: 0.2902, Train Acc: 0.90 - Test Loss: 0.4093, Test Acc: 0.87\n"
          ]
        },
        {
          "output_type": "stream",
          "name": "stderr",
          "text": [
            "\r 84%|████████▍ | 42/50 [03:57<00:44,  5.53s/it]"
          ]
        },
        {
          "output_type": "stream",
          "name": "stdout",
          "text": [
            "Epoch 42/50 - Train Loss: 0.2898, Train Acc: 0.90 - Test Loss: 0.4054, Test Acc: 0.87\n"
          ]
        },
        {
          "output_type": "stream",
          "name": "stderr",
          "text": [
            "\r 86%|████████▌ | 43/50 [04:02<00:38,  5.54s/it]"
          ]
        },
        {
          "output_type": "stream",
          "name": "stdout",
          "text": [
            "Epoch 43/50 - Train Loss: 0.2829, Train Acc: 0.90 - Test Loss: 0.4125, Test Acc: 0.86\n"
          ]
        },
        {
          "output_type": "stream",
          "name": "stderr",
          "text": [
            "\r 88%|████████▊ | 44/50 [04:08<00:33,  5.52s/it]"
          ]
        },
        {
          "output_type": "stream",
          "name": "stdout",
          "text": [
            "Epoch 44/50 - Train Loss: 0.2781, Train Acc: 0.90 - Test Loss: 0.4073, Test Acc: 0.87\n"
          ]
        },
        {
          "output_type": "stream",
          "name": "stderr",
          "text": [
            "\r 90%|█████████ | 45/50 [04:13<00:27,  5.52s/it]"
          ]
        },
        {
          "output_type": "stream",
          "name": "stdout",
          "text": [
            "Epoch 45/50 - Train Loss: 0.2776, Train Acc: 0.90 - Test Loss: 0.4125, Test Acc: 0.87\n"
          ]
        },
        {
          "output_type": "stream",
          "name": "stderr",
          "text": [
            "\r 92%|█████████▏| 46/50 [04:19<00:22,  5.51s/it]"
          ]
        },
        {
          "output_type": "stream",
          "name": "stdout",
          "text": [
            "Epoch 46/50 - Train Loss: 0.2736, Train Acc: 0.90 - Test Loss: 0.4113, Test Acc: 0.87\n"
          ]
        },
        {
          "output_type": "stream",
          "name": "stderr",
          "text": [
            "\r 94%|█████████▍| 47/50 [04:24<00:16,  5.52s/it]"
          ]
        },
        {
          "output_type": "stream",
          "name": "stdout",
          "text": [
            "Epoch 47/50 - Train Loss: 0.2696, Train Acc: 0.90 - Test Loss: 0.4059, Test Acc: 0.87\n"
          ]
        },
        {
          "output_type": "stream",
          "name": "stderr",
          "text": [
            "\r 96%|█████████▌| 48/50 [04:30<00:11,  5.51s/it]"
          ]
        },
        {
          "output_type": "stream",
          "name": "stdout",
          "text": [
            "Epoch 48/50 - Train Loss: 0.2706, Train Acc: 0.90 - Test Loss: 0.4024, Test Acc: 0.87\n"
          ]
        },
        {
          "output_type": "stream",
          "name": "stderr",
          "text": [
            "\r 98%|█████████▊| 49/50 [04:35<00:05,  5.51s/it]"
          ]
        },
        {
          "output_type": "stream",
          "name": "stdout",
          "text": [
            "Epoch 49/50 - Train Loss: 0.2734, Train Acc: 0.91 - Test Loss: 0.4062, Test Acc: 0.87\n"
          ]
        },
        {
          "output_type": "stream",
          "name": "stderr",
          "text": [
            "100%|██████████| 50/50 [04:41<00:00,  5.63s/it]"
          ]
        },
        {
          "output_type": "stream",
          "name": "stdout",
          "text": [
            "Epoch 50/50 - Train Loss: 0.2681, Train Acc: 0.91 - Test Loss: 0.4031, Test Acc: 0.87\n",
            "CPU times: user 4min 31s, sys: 823 ms, total: 4min 32s\n",
            "Wall time: 4min 41s\n"
          ]
        },
        {
          "output_type": "stream",
          "name": "stderr",
          "text": [
            "\n"
          ]
        }
      ]
    },
    {
      "cell_type": "code",
      "source": [
        "train_acc, test_acc"
      ],
      "metadata": {
        "colab": {
          "base_uri": "https://localhost:8080/"
        },
        "id": "YopAuRn48LwF",
        "outputId": "25daba1a-7531-44d6-fe77-48def1da04b1"
      },
      "execution_count": 19,
      "outputs": [
        {
          "output_type": "execute_result",
          "data": {
            "text/plain": [
              "(0.9053264776357828, 0.8691653481012658)"
            ]
          },
          "metadata": {},
          "execution_count": 19
        }
      ]
    },
    {
      "cell_type": "code",
      "source": [
        "# ---------------------------------------------------------\n",
        "# 11: [UPDATED] Eval Mode for Final Predix, Metrics on Best & Fully Trained Model\n",
        "# ---------------------------------------------------------\n",
        "\n",
        "# 11d. Final evaluation on test set with sklearn metrics\n",
        "model.eval()\n",
        "all_preds = []\n",
        "all_labels = []\n",
        "\n",
        "with torch.no_grad():\n",
        "    for X, y in test_loader:\n",
        "        X, y = X.to(device), y.to(device)\n",
        "        X = test_transform_batch(X)   # normalize just like during training\n",
        "        y_pred = model(X)\n",
        "        all_preds.extend(y_pred.argmax(dim=1).cpu().numpy())\n",
        "        all_labels.extend(y.cpu().numpy())"
      ],
      "metadata": {
        "id": "K_fTvypK10FU"
      },
      "execution_count": 20,
      "outputs": []
    },
    {
      "cell_type": "code",
      "source": [
        "# 11e. Compute metrics\n",
        "\n",
        "print(\"\\n✅ Final Evaluation with Sklearn Metrics\")\n",
        "print(\"Accuracy:\", accuracy_score(all_labels, all_preds))\n",
        "print(\"\\nConfusion Matrix:\\n\", confusion_matrix(all_labels, all_preds))\n",
        "print(\"\\nClassification Report:\\n\", classification_report(all_labels, all_preds))"
      ],
      "metadata": {
        "colab": {
          "base_uri": "https://localhost:8080/"
        },
        "id": "AqYiCiLa76IW",
        "outputId": "a9ff1ed8-e1d9-4d9e-a7bc-0bd81eb14b02"
      },
      "execution_count": 21,
      "outputs": [
        {
          "output_type": "stream",
          "name": "stdout",
          "text": [
            "\n",
            "✅ Final Evaluation with Sklearn Metrics\n",
            "Accuracy: 0.8684\n",
            "\n",
            "Confusion Matrix:\n",
            " [[897   7  26   9  15   5   2   3  21  15]\n",
            " [  9 937   0   2   1   1   4   0  11  35]\n",
            " [ 41   1 802  29  34  31  41  15   5   1]\n",
            " [ 19   3  22 752  27 108  47  13   3   6]\n",
            " [ 11   0  19  33 876  23  21  14   3   0]\n",
            " [  5   0  21 112  30 790  18  16   6   2]\n",
            " [  7   2  18  27   3   9 931   1   1   1]\n",
            " [ 10   0  17  33  35  31   3 868   0   3]\n",
            " [ 29   6   4   9   2   2   2   5 936   5]\n",
            " [ 21  30   2  10   1   2   9   2  28 895]]\n",
            "\n",
            "Classification Report:\n",
            "               precision    recall  f1-score   support\n",
            "\n",
            "           0       0.86      0.90      0.88      1000\n",
            "           1       0.95      0.94      0.94      1000\n",
            "           2       0.86      0.80      0.83      1000\n",
            "           3       0.74      0.75      0.75      1000\n",
            "           4       0.86      0.88      0.87      1000\n",
            "           5       0.79      0.79      0.79      1000\n",
            "           6       0.86      0.93      0.90      1000\n",
            "           7       0.93      0.87      0.90      1000\n",
            "           8       0.92      0.94      0.93      1000\n",
            "           9       0.93      0.90      0.91      1000\n",
            "\n",
            "    accuracy                           0.87     10000\n",
            "   macro avg       0.87      0.87      0.87     10000\n",
            "weighted avg       0.87      0.87      0.87     10000\n",
            "\n"
          ]
        }
      ]
    },
    {
      "cell_type": "code",
      "source": [
        "# ---------------------------------------------------------\n",
        "# 12. Final Confusion Matrix for Best & Fully Trained Model\n",
        "# ---------------------------------------------------------\n",
        "\n",
        "fig, ax = plt.subplots(figsize=(12, 10))\n",
        "\n",
        "# disp = ConfusionMatrixDisplay.from_predictions(\n",
        "#     all_labels, all_preds\n",
        "#     , display_labels=dataset.classes\n",
        "#     , normalize='true'\n",
        "# )\n",
        "\n",
        "disp.plot(ax=ax, cmap=\"Blues\", xticks_rotation=45)\n",
        "plt.title(\"Confusion Matrix for CIFAR-10 - Final Model\")\n",
        "plt.show();"
      ],
      "metadata": {
        "colab": {
          "base_uri": "https://localhost:8080/",
          "height": 898
        },
        "id": "6bmhbuzTHddm",
        "outputId": "0bcbacbb-69fd-4d79-8605-2196a61f4d25"
      },
      "execution_count": 23,
      "outputs": [
        {
          "output_type": "display_data",
          "data": {
            "text/plain": [
              "<Figure size 1200x1000 with 2 Axes>"
            ],
            "image/png": "[encoded data removed]"
          },
          "metadata": {}
        }
      ]
    },
    {
      "cell_type": "code",
      "source": [
        "model"
      ],
      "metadata": {
        "colab": {
          "base_uri": "https://localhost:8080/"
        },
        "id": "Df3mBJdu-A9O",
        "outputId": "20aa07dd-8106-48e3-f8d0-95f89d81e9f4"
      },
      "execution_count": 24,
      "outputs": [
        {
          "output_type": "execute_result",
          "data": {
            "text/plain": [
              "Cifar10CNN_v3(\n",
              "  (conv1): Conv2d(3, 64, kernel_size=(3, 3), stride=(1, 1), padding=(1, 1))\n",
              "  (bn1): BatchNorm2d(64, eps=1e-05, momentum=0.1, affine=True, track_running_stats=True)\n",
              "  (conv2): Conv2d(64, 128, kernel_size=(3, 3), stride=(1, 1), padding=(1, 1))\n",
              "  (bn2): BatchNorm2d(128, eps=1e-05, momentum=0.1, affine=True, track_running_stats=True)\n",
              "  (conv3): Conv2d(128, 256, kernel_size=(3, 3), stride=(1, 1), padding=(1, 1))\n",
              "  (bn3): BatchNorm2d(256, eps=1e-05, momentum=0.1, affine=True, track_running_stats=True)\n",
              "  (conv4): Conv2d(256, 512, kernel_size=(3, 3), stride=(1, 1), padding=(1, 1))\n",
              "  (bn4): BatchNorm2d(512, eps=1e-05, momentum=0.1, affine=True, track_running_stats=True)\n",
              "  (global_avgpool): AdaptiveAvgPool2d(output_size=1)\n",
              "  (fc1): Linear(in_features=512, out_features=512, bias=True)\n",
              "  (fc2): Linear(in_features=512, out_features=256, bias=True)\n",
              "  (fc_out): Linear(in_features=256, out_features=10, bias=True)\n",
              "  (dropout): Dropout(p=0.3, inplace=False)\n",
              ")"
            ]
          },
          "metadata": {},
          "execution_count": 24
        }
      ]
    },
    {
      "cell_type": "code",
      "source": [
        "# Save both model weights and optimizer state\n",
        "torch.save({\n",
        "    'epoch': epochs\n",
        "    , 'model_state_dict': model.state_dict()\n",
        "    , 'optimizer_state_dict': optimizer.state_dict()\n",
        "    , 'loss': loss_fn  # optional\n",
        "}, \"Cifar10CNN_v3_best.pth\")\n",
        "\n",
        "print(\"Model saved to Cifar10CNN_v3_best.pth\")"
      ],
      "metadata": {
        "colab": {
          "base_uri": "https://localhost:8080/"
        },
        "id": "ndKboQiN926p",
        "outputId": "a30569ae-b52a-4554-a807-be8c47703baa"
      },
      "execution_count": 27,
      "outputs": [
        {
          "output_type": "stream",
          "name": "stdout",
          "text": [
            "Model saved to Cifar10CNN_v3_best.pth\n"
          ]
        }
      ]
    },
    {
      "cell_type": "code",
      "source": [
        "# Retrain step?\n",
        "\n",
        "more_epochs = 30\n",
        "\n",
        "optimizer = rs.best_params_[\"optimizer\"](model.parameters(), lr=rs.best_params_[\"lr\"])\n",
        "scheduler = torch.optim.lr_scheduler.CosineAnnealingLR(optimizer, T_max=epochs)\n",
        "loss_fn = nn.CrossEntropyLoss()\n",
        "accuracy_fn = Accuracy(task='multiclass', num_classes=10).to(device)\n",
        "\n",
        "\n",
        "for epoch in tqdm(range(epochs, epochs + more_epochs)):\n",
        "    train_loss, train_acc = train_step(\n",
        "        model, train_loader, loss_fn, optimizer, accuracy_fn, device)\n",
        "    test_loss, test_acc = test_step(\n",
        "        model, test_loader, loss_fn, accuracy_fn, device)\n",
        "    scheduler.step()  # Update learning rate\n",
        "    print(\n",
        "        f\"Epoch {epoch+1}/{epochs} - \"\n",
        "        f\"Train Loss: {train_loss:.4f}, Train Acc: {train_acc:.2f} - \"\n",
        "        f\"Test Loss: {test_loss:.4f}, Test Acc: {test_acc:.2f}\"\n",
        "    )"
      ],
      "metadata": {
        "colab": {
          "base_uri": "https://localhost:8080/"
        },
        "id": "MmnIF7T0Hdir",
        "outputId": "3c3498a4-487a-472a-a16e-f016c420f04a"
      },
      "execution_count": 28,
      "outputs": [
        {
          "output_type": "stream",
          "name": "stderr",
          "text": [
            "  3%|▎         | 1/30 [00:05<02:42,  5.60s/it]"
          ]
        },
        {
          "output_type": "stream",
          "name": "stdout",
          "text": [
            "Epoch 51/50 - Train Loss: 0.4923, Train Acc: 0.83 - Test Loss: 0.5278, Test Acc: 0.82\n"
          ]
        },
        {
          "output_type": "stream",
          "name": "stderr",
          "text": [
            "\r  7%|▋         | 2/30 [00:11<02:37,  5.62s/it]"
          ]
        },
        {
          "output_type": "stream",
          "name": "stdout",
          "text": [
            "Epoch 52/50 - Train Loss: 0.4194, Train Acc: 0.85 - Test Loss: 0.5958, Test Acc: 0.81\n"
          ]
        },
        {
          "output_type": "stream",
          "name": "stderr",
          "text": [
            "\r 10%|█         | 3/30 [00:16<02:31,  5.61s/it]"
          ]
        },
        {
          "output_type": "stream",
          "name": "stdout",
          "text": [
            "Epoch 53/50 - Train Loss: 0.4153, Train Acc: 0.86 - Test Loss: 0.6163, Test Acc: 0.80\n"
          ]
        },
        {
          "output_type": "stream",
          "name": "stderr",
          "text": [
            "\r 13%|█▎        | 4/30 [00:23<02:39,  6.14s/it]"
          ]
        },
        {
          "output_type": "stream",
          "name": "stdout",
          "text": [
            "Epoch 54/50 - Train Loss: 0.4043, Train Acc: 0.86 - Test Loss: 0.5087, Test Acc: 0.83\n"
          ]
        },
        {
          "output_type": "stream",
          "name": "stderr",
          "text": [
            "\r 17%|█▋        | 5/30 [00:30<02:36,  6.25s/it]"
          ]
        },
        {
          "output_type": "stream",
          "name": "stdout",
          "text": [
            "Epoch 55/50 - Train Loss: 0.3967, Train Acc: 0.86 - Test Loss: 0.5032, Test Acc: 0.83\n"
          ]
        },
        {
          "output_type": "stream",
          "name": "stderr",
          "text": [
            "\r 20%|██        | 6/30 [00:36<02:27,  6.13s/it]"
          ]
        },
        {
          "output_type": "stream",
          "name": "stdout",
          "text": [
            "Epoch 56/50 - Train Loss: 0.3845, Train Acc: 0.87 - Test Loss: 0.6172, Test Acc: 0.80\n"
          ]
        },
        {
          "output_type": "stream",
          "name": "stderr",
          "text": [
            "\r 23%|██▎       | 7/30 [00:41<02:17,  5.98s/it]"
          ]
        },
        {
          "output_type": "stream",
          "name": "stdout",
          "text": [
            "Epoch 57/50 - Train Loss: 0.3798, Train Acc: 0.87 - Test Loss: 0.5012, Test Acc: 0.84\n"
          ]
        },
        {
          "output_type": "stream",
          "name": "stderr",
          "text": [
            "\r 27%|██▋       | 8/30 [00:47<02:12,  6.03s/it]"
          ]
        },
        {
          "output_type": "stream",
          "name": "stdout",
          "text": [
            "Epoch 58/50 - Train Loss: 0.3687, Train Acc: 0.87 - Test Loss: 0.5852, Test Acc: 0.81\n"
          ]
        },
        {
          "output_type": "stream",
          "name": "stderr",
          "text": [
            "\r 30%|███       | 9/30 [00:53<02:02,  5.86s/it]"
          ]
        },
        {
          "output_type": "stream",
          "name": "stdout",
          "text": [
            "Epoch 59/50 - Train Loss: 0.3593, Train Acc: 0.88 - Test Loss: 0.5248, Test Acc: 0.83\n"
          ]
        },
        {
          "output_type": "stream",
          "name": "stderr",
          "text": [
            "\r 33%|███▎      | 10/30 [00:58<01:55,  5.75s/it]"
          ]
        },
        {
          "output_type": "stream",
          "name": "stdout",
          "text": [
            "Epoch 60/50 - Train Loss: 0.3535, Train Acc: 0.88 - Test Loss: 0.6352, Test Acc: 0.81\n"
          ]
        },
        {
          "output_type": "stream",
          "name": "stderr",
          "text": [
            "\r 37%|███▋      | 11/30 [01:05<01:53,  5.99s/it]"
          ]
        },
        {
          "output_type": "stream",
          "name": "stdout",
          "text": [
            "Epoch 61/50 - Train Loss: 0.3447, Train Acc: 0.88 - Test Loss: 0.5704, Test Acc: 0.82\n"
          ]
        },
        {
          "output_type": "stream",
          "name": "stderr",
          "text": [
            "\r 40%|████      | 12/30 [01:12<01:55,  6.39s/it]"
          ]
        },
        {
          "output_type": "stream",
          "name": "stdout",
          "text": [
            "Epoch 62/50 - Train Loss: 0.3346, Train Acc: 0.88 - Test Loss: 0.4527, Test Acc: 0.85\n"
          ]
        },
        {
          "output_type": "stream",
          "name": "stderr",
          "text": [
            "\r 43%|████▎     | 13/30 [01:18<01:44,  6.16s/it]"
          ]
        },
        {
          "output_type": "stream",
          "name": "stdout",
          "text": [
            "Epoch 63/50 - Train Loss: 0.3312, Train Acc: 0.88 - Test Loss: 0.5269, Test Acc: 0.83\n"
          ]
        },
        {
          "output_type": "stream",
          "name": "stderr",
          "text": [
            "\r 47%|████▋     | 14/30 [01:23<01:35,  5.98s/it]"
          ]
        },
        {
          "output_type": "stream",
          "name": "stdout",
          "text": [
            "Epoch 64/50 - Train Loss: 0.3206, Train Acc: 0.89 - Test Loss: 0.4597, Test Acc: 0.85\n"
          ]
        },
        {
          "output_type": "stream",
          "name": "stderr",
          "text": [
            "\r 50%|█████     | 15/30 [01:29<01:27,  5.84s/it]"
          ]
        },
        {
          "output_type": "stream",
          "name": "stdout",
          "text": [
            "Epoch 65/50 - Train Loss: 0.3132, Train Acc: 0.89 - Test Loss: 0.7688, Test Acc: 0.78\n"
          ]
        },
        {
          "output_type": "stream",
          "name": "stderr",
          "text": [
            "\r 53%|█████▎    | 16/30 [01:35<01:20,  5.77s/it]"
          ]
        },
        {
          "output_type": "stream",
          "name": "stdout",
          "text": [
            "Epoch 66/50 - Train Loss: 0.3027, Train Acc: 0.89 - Test Loss: 0.5087, Test Acc: 0.84\n"
          ]
        },
        {
          "output_type": "stream",
          "name": "stderr",
          "text": [
            "\r 57%|█████▋    | 17/30 [01:40<01:14,  5.72s/it]"
          ]
        },
        {
          "output_type": "stream",
          "name": "stdout",
          "text": [
            "Epoch 67/50 - Train Loss: 0.2923, Train Acc: 0.90 - Test Loss: 0.4801, Test Acc: 0.85\n"
          ]
        },
        {
          "output_type": "stream",
          "name": "stderr",
          "text": [
            "\r 60%|██████    | 18/30 [01:46<01:08,  5.74s/it]"
          ]
        },
        {
          "output_type": "stream",
          "name": "stdout",
          "text": [
            "Epoch 68/50 - Train Loss: 0.2840, Train Acc: 0.90 - Test Loss: 0.5580, Test Acc: 0.83\n"
          ]
        },
        {
          "output_type": "stream",
          "name": "stderr",
          "text": [
            "\r 63%|██████▎   | 19/30 [01:52<01:04,  5.86s/it]"
          ]
        },
        {
          "output_type": "stream",
          "name": "stdout",
          "text": [
            "Epoch 69/50 - Train Loss: 0.2808, Train Acc: 0.90 - Test Loss: 0.5676, Test Acc: 0.83\n"
          ]
        },
        {
          "output_type": "stream",
          "name": "stderr",
          "text": [
            "\r 67%|██████▋   | 20/30 [01:58<00:58,  5.85s/it]"
          ]
        },
        {
          "output_type": "stream",
          "name": "stdout",
          "text": [
            "Epoch 70/50 - Train Loss: 0.2759, Train Acc: 0.90 - Test Loss: 0.4554, Test Acc: 0.86\n"
          ]
        },
        {
          "output_type": "stream",
          "name": "stderr",
          "text": [
            "\r 70%|███████   | 21/30 [02:03<00:51,  5.75s/it]"
          ]
        },
        {
          "output_type": "stream",
          "name": "stdout",
          "text": [
            "Epoch 71/50 - Train Loss: 0.2643, Train Acc: 0.91 - Test Loss: 0.4914, Test Acc: 0.85\n"
          ]
        },
        {
          "output_type": "stream",
          "name": "stderr",
          "text": [
            "\r 73%|███████▎  | 22/30 [02:10<00:48,  6.02s/it]"
          ]
        },
        {
          "output_type": "stream",
          "name": "stdout",
          "text": [
            "Epoch 72/50 - Train Loss: 0.2574, Train Acc: 0.91 - Test Loss: 0.4820, Test Acc: 0.85\n"
          ]
        },
        {
          "output_type": "stream",
          "name": "stderr",
          "text": [
            "\r 77%|███████▋  | 23/30 [02:16<00:42,  6.03s/it]"
          ]
        },
        {
          "output_type": "stream",
          "name": "stdout",
          "text": [
            "Epoch 73/50 - Train Loss: 0.2492, Train Acc: 0.91 - Test Loss: 0.4870, Test Acc: 0.85\n"
          ]
        },
        {
          "output_type": "stream",
          "name": "stderr",
          "text": [
            "\r 80%|████████  | 24/30 [02:22<00:35,  5.86s/it]"
          ]
        },
        {
          "output_type": "stream",
          "name": "stdout",
          "text": [
            "Epoch 74/50 - Train Loss: 0.2400, Train Acc: 0.92 - Test Loss: 0.4489, Test Acc: 0.86\n"
          ]
        },
        {
          "output_type": "stream",
          "name": "stderr",
          "text": [
            "\r 83%|████████▎ | 25/30 [02:27<00:28,  5.77s/it]"
          ]
        },
        {
          "output_type": "stream",
          "name": "stdout",
          "text": [
            "Epoch 75/50 - Train Loss: 0.2361, Train Acc: 0.92 - Test Loss: 0.4480, Test Acc: 0.86\n"
          ]
        },
        {
          "output_type": "stream",
          "name": "stderr",
          "text": [
            "\r 87%|████████▋ | 26/30 [02:33<00:22,  5.68s/it]"
          ]
        },
        {
          "output_type": "stream",
          "name": "stdout",
          "text": [
            "Epoch 76/50 - Train Loss: 0.2280, Train Acc: 0.92 - Test Loss: 0.4183, Test Acc: 0.87\n"
          ]
        },
        {
          "output_type": "stream",
          "name": "stderr",
          "text": [
            "\r 90%|█████████ | 27/30 [02:38<00:16,  5.64s/it]"
          ]
        },
        {
          "output_type": "stream",
          "name": "stdout",
          "text": [
            "Epoch 77/50 - Train Loss: 0.2193, Train Acc: 0.92 - Test Loss: 0.4897, Test Acc: 0.86\n"
          ]
        },
        {
          "output_type": "stream",
          "name": "stderr",
          "text": [
            "\r 93%|█████████▎| 28/30 [02:44<00:11,  5.60s/it]"
          ]
        },
        {
          "output_type": "stream",
          "name": "stdout",
          "text": [
            "Epoch 78/50 - Train Loss: 0.2137, Train Acc: 0.92 - Test Loss: 0.4268, Test Acc: 0.87\n"
          ]
        },
        {
          "output_type": "stream",
          "name": "stderr",
          "text": [
            "\r 97%|█████████▋| 29/30 [02:50<00:05,  5.82s/it]"
          ]
        },
        {
          "output_type": "stream",
          "name": "stdout",
          "text": [
            "Epoch 79/50 - Train Loss: 0.2135, Train Acc: 0.92 - Test Loss: 0.4707, Test Acc: 0.86\n"
          ]
        },
        {
          "output_type": "stream",
          "name": "stderr",
          "text": [
            "100%|██████████| 30/30 [02:56<00:00,  5.88s/it]"
          ]
        },
        {
          "output_type": "stream",
          "name": "stdout",
          "text": [
            "Epoch 80/50 - Train Loss: 0.2000, Train Acc: 0.93 - Test Loss: 0.4256, Test Acc: 0.87\n"
          ]
        },
        {
          "output_type": "stream",
          "name": "stderr",
          "text": [
            "\n"
          ]
        }
      ]
    },
    {
      "cell_type": "code",
      "source": [
        "train_acc, test_acc"
      ],
      "metadata": {
        "colab": {
          "base_uri": "https://localhost:8080/"
        },
        "id": "JuWgTuNaKWNp",
        "outputId": "787f0801-2ebd-4b05-f749-7bfca560e7f5"
      },
      "execution_count": 29,
      "outputs": [
        {
          "output_type": "execute_result",
          "data": {
            "text/plain": [
              "(0.9296875, 0.8709454113924051)"
            ]
          },
          "metadata": {},
          "execution_count": 29
        }
      ]
    },
    {
      "cell_type": "code",
      "source": [
        "# 11d. Final evaluation on test set with sklearn metrics\n",
        "model.eval()\n",
        "all_preds = []\n",
        "all_labels = []\n",
        "\n",
        "with torch.no_grad():\n",
        "    for X, y in test_loader:\n",
        "        X, y = X.to(device), y.to(device)\n",
        "        X = test_transform_batch(X)   # normalize just like during training\n",
        "        y_pred = model(X)\n",
        "        all_preds.extend(y_pred.argmax(dim=1).cpu().numpy())\n",
        "        all_labels.extend(y.cpu().numpy())"
      ],
      "metadata": {
        "id": "wahtjmRG_Ptx"
      },
      "execution_count": 30,
      "outputs": []
    },
    {
      "cell_type": "markdown",
      "source": [],
      "metadata": {
        "id": "FWu2u6ya_dmN"
      }
    },
    {
      "cell_type": "code",
      "source": [
        "# 11e. Compute metrics\n",
        "\n",
        "print(\"\\n✅ Final Evaluation with Sklearn Metrics\")\n",
        "print(\"Accuracy:\", accuracy_score(all_labels, all_preds))\n",
        "print(\"\\nConfusion Matrix:\\n\", confusion_matrix(all_labels, all_preds))\n",
        "print(\"\\nClassification Report:\\n\", classification_report(all_labels, all_preds))"
      ],
      "metadata": {
        "colab": {
          "base_uri": "https://localhost:8080/"
        },
        "id": "9gZ0ps6O_P7N",
        "outputId": "f9ac6d9d-751b-4f9c-f165-bf8341c14aaa"
      },
      "execution_count": 31,
      "outputs": [
        {
          "output_type": "stream",
          "name": "stdout",
          "text": [
            "\n",
            "✅ Final Evaluation with Sklearn Metrics\n",
            "Accuracy: 0.8695\n",
            "\n",
            "Confusion Matrix:\n",
            " [[893   4  33   8  14   4   4   2  22  16]\n",
            " [ 11 927   3   0   1   2   8   0  19  29]\n",
            " [ 36   1 852  22  25  19  36   6   3   0]\n",
            " [ 11   0  42 717  58 101  49   9   7   6]\n",
            " [  6   0  29  16 893  26  25   5   0   0]\n",
            " [  4   0  26  86  35 812  19  12   5   1]\n",
            " [  4   0  22  17   6  10 940   0   1   0]\n",
            " [  7   1  22  27  75  30   6 827   2   3]\n",
            " [ 23   3   9   3   3   2   3   3 946   5]\n",
            " [ 26  32   5   8   2   3   8   1  27 888]]\n",
            "\n",
            "Classification Report:\n",
            "               precision    recall  f1-score   support\n",
            "\n",
            "           0       0.87      0.89      0.88      1000\n",
            "           1       0.96      0.93      0.94      1000\n",
            "           2       0.82      0.85      0.83      1000\n",
            "           3       0.79      0.72      0.75      1000\n",
            "           4       0.80      0.89      0.85      1000\n",
            "           5       0.80      0.81      0.81      1000\n",
            "           6       0.86      0.94      0.90      1000\n",
            "           7       0.96      0.83      0.89      1000\n",
            "           8       0.92      0.95      0.93      1000\n",
            "           9       0.94      0.89      0.91      1000\n",
            "\n",
            "    accuracy                           0.87     10000\n",
            "   macro avg       0.87      0.87      0.87     10000\n",
            "weighted avg       0.87      0.87      0.87     10000\n",
            "\n"
          ]
        }
      ]
    },
    {
      "cell_type": "code",
      "source": [
        "# 12. Final Confusion Matrix for Best & Fully Trained Model\n",
        "\n",
        "fig, ax = plt.subplots(figsize=(12, 10))\n",
        "\n",
        "# disp = ConfusionMatrixDisplay.from_predictions(\n",
        "#     all_labels, all_preds\n",
        "#     , display_labels=dataset.classes\n",
        "#     , normalize='true'\n",
        "# )\n",
        "\n",
        "disp.plot(ax=ax, cmap=\"Blues\", xticks_rotation=45)\n",
        "plt.title(\"Confusion Matrix for CIFAR-10 - Final Model\")\n",
        "plt.show();"
      ],
      "metadata": {
        "colab": {
          "base_uri": "https://localhost:8080/",
          "height": 898
        },
        "id": "_yVO6TZv_TUF",
        "outputId": "039cbd45-7c6c-4225-8d34-266ca383385b"
      },
      "execution_count": 33,
      "outputs": [
        {
          "output_type": "display_data",
          "data": {
            "text/plain": [
              "<Figure size 1200x1000 with 2 Axes>"
            ],
            "image/png": "[encoded data removed]"
          },
          "metadata": {}
        }
      ]
    },
    {
      "cell_type": "code",
      "source": [
        "# Save both model weights and optimizer state\n",
        "torch.save({\n",
        "    'epoch': epochs + more_epochs\n",
        "    , 'model_state_dict': model.state_dict()\n",
        "    , 'optimizer_state_dict': optimizer.state_dict()\n",
        "    , 'loss': loss_fn,  # optional\n",
        "}, \"Cifar10CNN_v3_retrained_best.pth\")\n",
        "\n",
        "print(\"Model saved to Cifar10CNN_v3_retrained_best.pth\")"
      ],
      "metadata": {
        "colab": {
          "base_uri": "https://localhost:8080/"
        },
        "id": "U3lfrBAu3CON",
        "outputId": "a30bc261-ad82-4ef1-e13a-b65942444e37"
      },
      "execution_count": 34,
      "outputs": [
        {
          "output_type": "stream",
          "name": "stdout",
          "text": [
            "Model saved to Cifar10CNN_v3_retrained_best.pth\n"
          ]
        }
      ]
    },
    {
      "cell_type": "code",
      "source": [
        "torch.save(model.state_dict(), \"Cifar10CNN_v3_retrained_best_weights.pth\")"
      ],
      "metadata": {
        "id": "sRyUkPKc3CRU"
      },
      "execution_count": 35,
      "outputs": []
    },
    {
      "cell_type": "code",
      "source": [
        "# Cifar10CNN_v3_best\n",
        "\n",
        "torch.save(model.state_dict(), \"Cifar10CNN_v3_best_weights.pth\")"
      ],
      "metadata": {
        "id": "Nfs5RL83_AVE"
      },
      "execution_count": 36,
      "outputs": []
    },
    {
      "cell_type": "code",
      "source": [],
      "metadata": {
        "id": "ZEZs2L3B_Aey"
      },
      "execution_count": null,
      "outputs": []
    },
    {
      "cell_type": "code",
      "source": [],
      "metadata": {
        "id": "efCDEsrX_AiX"
      },
      "execution_count": null,
      "outputs": []
    },
    {
      "cell_type": "code",
      "source": [],
      "metadata": {
        "id": "57pqyyAM3CUo"
      },
      "execution_count": null,
      "outputs": []
    }
  ]
}