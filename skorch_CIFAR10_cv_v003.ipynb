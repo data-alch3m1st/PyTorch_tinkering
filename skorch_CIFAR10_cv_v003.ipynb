{
  "nbformat": 4,
  "nbformat_minor": 0,
  "metadata": {
    "colab": {
      "provenance": [],
      "gpuType": "T4",
      "authorship_tag": "ABX9TyN2LIGY9U5oPLDYnHuo2lWj",
      "include_colab_link": true
    },
    "kernelspec": {
      "name": "python3",
      "display_name": "Python 3"
    },
    "language_info": {
      "name": "python"
    },
    "accelerator": "GPU"
  },
  "cells": [
    {
      "cell_type": "markdown",
      "metadata": {
        "id": "view-in-github",
        "colab_type": "text"
      },
      "source": [
        "<a href=\"https://colab.research.google.com/github/data-alch3m1st/PyTorch_tinkering/blob/main/skorch_CIFAR10_cv_v003.ipynb\" target=\"_parent\"><img src=\"https://colab.research.google.com/assets/colab-badge.svg\" alt=\"Open In Colab\"/></a>"
      ]
    },
    {
      "cell_type": "markdown",
      "source": [
        "### CIFAR-10 CNN (v003) ###\n",
        "\n",
        "*Given the significant demands on memory (and I am using a MacBook so no CUDA for me), have to run this in Google Colab for baller T4 CUDA...*"
      ],
      "metadata": {
        "id": "dl8KC4N6GBdx"
      }
    },
    {
      "cell_type": "code",
      "source": [
        "# !pip install skorch\n",
        "# !pip install torchmetrics"
      ],
      "metadata": {
        "collapsed": true,
        "id": "ml7-kkPZF5EF"
      },
      "execution_count": 11,
      "outputs": []
    },
    {
      "cell_type": "code",
      "source": [
        "# Imports\n",
        "\n",
        "import torch\n",
        "import torch.nn as nn\n",
        "import torch.nn.functional as F\n",
        "from torch.utils.data import DataLoader\n",
        "from torchvision import datasets, transforms\n",
        "from skorch import NeuralNetClassifier\n",
        "from sklearn.model_selection import RandomizedSearchCV, train_test_split\n",
        "from sklearn.metrics import (\n",
        "    classification_report, confusion_matrix\n",
        "    , accuracy_score, ConfusionMatrixDisplay\n",
        "    )\n",
        "from torchmetrics import Accuracy, ConfusionMatrix\n",
        "import pandas as pd\n",
        "import matplotlib.pyplot as plt\n",
        "import numpy as np\n",
        "import warnings\n",
        "from timeit import default_timer as timer\n",
        "from tqdm import tqdm\n",
        "\n",
        "warnings.filterwarnings(\"ignore\")"
      ],
      "metadata": {
        "id": "Wzp6iO33F5ae"
      },
      "execution_count": 3,
      "outputs": []
    },
    {
      "cell_type": "code",
      "execution_count": 4,
      "metadata": {
        "colab": {
          "base_uri": "https://localhost:8080/",
          "height": 35
        },
        "id": "VTjaR3dPF4fL",
        "outputId": "76ffada4-3d9f-4f68-99c0-0e25ce437fda"
      },
      "outputs": [
        {
          "output_type": "execute_result",
          "data": {
            "text/plain": [
              "'cuda'"
            ],
            "application/vnd.google.colaboratory.intrinsic+json": {
              "type": "string"
            }
          },
          "metadata": {},
          "execution_count": 4
        }
      ],
      "source": [
        "# MacoOS device agnostic code:\n",
        "\n",
        "if torch.cuda.is_available():\n",
        "    device = \"cuda\"  # Use NVIDIA GPU (if available)\n",
        "elif torch.backends.mps.is_available():\n",
        "    device = \"mps\"  # Use Apple Silicon GPU (if available)\n",
        "else:\n",
        "    device = \"cpu\"  # Default to CPU if no GPU is available\n",
        "\n",
        "device"
      ]
    },
    {
      "cell_type": "code",
      "source": [
        "# ---------------------------------------------------------\n",
        "# 1. Prepare dataset (CIFAR-10) with Augmentations\n",
        "# ---------------------------------------------------------\n",
        "\n",
        "# Train transforms (with augmentations)\n",
        "train_transform = transforms.Compose([\n",
        "    transforms.RandomHorizontalFlip(),  # Flip images with 50% probability\n",
        "    transforms.RandomCrop(32, padding=4),  # Add padding and crop randomly\n",
        "    transforms.Normalize((0.4914, 0.4822, 0.4465), (0.2023, 0.1994, 0.2010)),  # CIFAR-10 stats\n",
        "])\n",
        "\n",
        "# Test transforms (only normalize)\n",
        "test_transform = transforms.Compose([\n",
        "    transforms.Normalize((0.4914, 0.4822, 0.4465), (0.2023, 0.1994, 0.2010)),  # CIFAR-10 stats\n",
        "])\n",
        "\n",
        "# CIFAR-10 dataset download\n",
        "dataset = datasets.CIFAR10(\n",
        "    './data', train=True, download=True\n",
        ")\n",
        "\n",
        "# Extract raw data and labels\n",
        "X = torch.tensor(dataset.data).permute(0, 3, 1, 2).float() / 255.0  # Convert to [N, C, H, W]\n",
        "y = torch.tensor(dataset.targets)\n",
        "\n",
        "# Split into training and testing sets\n",
        "X_train, X_test, y_train, y_test = train_test_split(\n",
        "    X, y, test_size=0.2, random_state=27, stratify=y\n",
        ")\n",
        "\n",
        "X_train.shape, X_test.shape, y_train.shape, y_test .shape"
      ],
      "metadata": {
        "colab": {
          "base_uri": "https://localhost:8080/"
        },
        "id": "K-lxkno8F5MS",
        "outputId": "c7b41b32-7814-44b6-dd61-2b0cd37b2d50"
      },
      "execution_count": 5,
      "outputs": [
        {
          "output_type": "stream",
          "name": "stderr",
          "text": [
            "100%|██████████| 170M/170M [00:04<00:00, 42.5MB/s]\n"
          ]
        },
        {
          "output_type": "execute_result",
          "data": {
            "text/plain": [
              "(torch.Size([40000, 3, 32, 32]),\n",
              " torch.Size([10000, 3, 32, 32]),\n",
              " torch.Size([40000]),\n",
              " torch.Size([10000]))"
            ]
          },
          "metadata": {},
          "execution_count": 5
        }
      ]
    },
    {
      "cell_type": "code",
      "source": [
        "# ---------------------------------------------------------\n",
        "# 2. Apply Transforms for Augmentation/Normalization\n",
        "# ---------------------------------------------------------\n",
        "\n",
        "# Define functions to apply transforms to batches (used in DataLoader)\n",
        "train_transform_batch = transforms.Compose([\n",
        "    transforms.RandomHorizontalFlip(),  # Flip images with 50% probability\n",
        "    transforms.RandomCrop(32, padding=4),  # Add padding and crop randomly\n",
        "    transforms.Normalize((0.4914, 0.4822, 0.4465), (0.2023, 0.1994, 0.2010)),  # CIFAR-10 stats\n",
        "])\n",
        "\n",
        "test_transform_batch = transforms.Compose([\n",
        "    transforms.Normalize((0.4914, 0.4822, 0.4465), (0.2023, 0.1994, 0.2010)),  # CIFAR-10 stats\n",
        "])\n",
        "\n",
        "\n",
        "# Wrap in DataLoader for batching\n",
        "train_loader = DataLoader(\n",
        "    list(zip(X_train, y_train))\n",
        "    , batch_size=128\n",
        "    , shuffle=True\n",
        ")\n",
        "\n",
        "test_loader = DataLoader(\n",
        "    list(zip(X_test, y_test))\n",
        "    , batch_size=128\n",
        "    , shuffle=False\n",
        ")"
      ],
      "metadata": {
        "id": "Z_BtG3EPSZ82"
      },
      "execution_count": 23,
      "outputs": []
    },
    {
      "cell_type": "code",
      "source": [
        "# # Split into training and testing sets\n",
        "# X = torch.tensor(dataset.data).permute(0, 3, 1, 2).float() / 255.0\n",
        "\n",
        "# # Normalize manually using CIFAR10 stats (aligning with transform above)\n",
        "# mean = torch.tensor([0.4914, 0.4822, 0.4465]).view(3,1,1)\n",
        "# std = torch.tensor([0.2023, 0.1994, 0.2010]).view(3,1,1)\n",
        "# X = (X - mean) / std\n",
        "# y = torch.tensor(dataset.targets)\n",
        "\n",
        "# X_train, X_test, y_train, y_test = train_test_split(\n",
        "#     X, y, test_size=0.2\n",
        "#     , random_state=27\n",
        "#     , stratify=y\n",
        "# )\n",
        "\n",
        "# X_train.shape, X_test.shape, y_train.shape, y_test .shape"
      ],
      "metadata": {
        "colab": {
          "base_uri": "https://localhost:8080/"
        },
        "id": "fMFQEv7MF5Um",
        "outputId": "e2ce21d8-9c81-4e12-d338-440011d913e6"
      },
      "execution_count": null,
      "outputs": [
        {
          "output_type": "execute_result",
          "data": {
            "text/plain": [
              "(torch.Size([40000, 3, 32, 32]),\n",
              " torch.Size([10000, 3, 32, 32]),\n",
              " torch.Size([40000]),\n",
              " torch.Size([10000]))"
            ]
          },
          "metadata": {},
          "execution_count": 5
        }
      ]
    },
    {
      "cell_type": "code",
      "source": [
        "# # Wrap in DataLoader for batching\n",
        "# train_loader = DataLoader(\n",
        "#     list(zip(X_train, y_train))\n",
        "#     , batch_size=128\n",
        "#     , shuffle=True)\n",
        "\n",
        "# test_loader = DataLoader(\n",
        "#     list(zip(X_test, y_test))\n",
        "#     , batch_size=128\n",
        "#     , shuffle=False)"
      ],
      "metadata": {
        "id": "32UJBmUmF5f-"
      },
      "execution_count": null,
      "outputs": []
    },
    {
      "cell_type": "code",
      "source": [
        "class Cifar10CNN_v3(nn.Module):\n",
        "    def __init__(self, channels=64, dropout=0.3):\n",
        "        super().__init__()\n",
        "        # Convolutional block 1\n",
        "        self.conv1 = nn.Conv2d(3, channels, kernel_size=3, padding=1)\n",
        "        self.bn1 = nn.BatchNorm2d(channels)\n",
        "\n",
        "        # Convolutional block 2\n",
        "        self.conv2 = nn.Conv2d(channels, channels * 2, kernel_size=3, padding=1)\n",
        "        self.bn2 = nn.BatchNorm2d(channels * 2)\n",
        "\n",
        "        # Convolutional block 3\n",
        "        self.conv3 = nn.Conv2d(channels * 2, channels * 4, kernel_size=3, padding=1)\n",
        "        self.bn3 = nn.BatchNorm2d(channels * 4)\n",
        "\n",
        "        # Convolutional block 4\n",
        "        self.conv4 = nn.Conv2d(channels * 4, channels * 8, kernel_size=3, padding=1)\n",
        "        self.bn4 = nn.BatchNorm2d(channels * 8)\n",
        "\n",
        "        # Global average pooling to reduce overfitting\n",
        "        self.global_avgpool = nn.AdaptiveAvgPool2d(1)\n",
        "\n",
        "        # Fully connected layers\n",
        "        self.fc1 = nn.Linear(channels * 8, 512)\n",
        "        self.fc2 = nn.Linear(512, 256)\n",
        "        self.fc_out = nn.Linear(256, 10)\n",
        "        self.dropout = nn.Dropout(dropout)\n",
        "\n",
        "    def forward(self, x):\n",
        "        # Block 1\n",
        "        x = F.relu(self.bn1(self.conv1(x)))\n",
        "        x = F.max_pool2d(x, 2)\n",
        "\n",
        "        # Block 2\n",
        "        x = F.relu(self.bn2(self.conv2(x)))\n",
        "        x = F.max_pool2d(x, 2)\n",
        "\n",
        "        # Block 3\n",
        "        x = F.relu(self.bn3(self.conv3(x)))\n",
        "        x = F.max_pool2d(x, 2)\n",
        "\n",
        "        # Block 4\n",
        "        x = F.relu(self.bn4(self.conv4(x)))\n",
        "        x = F.max_pool2d(x, 2)\n",
        "\n",
        "        # Global average pooling\n",
        "        x = self.global_avgpool(x)\n",
        "        x = torch.flatten(x, 1)\n",
        "\n",
        "        # Fully connected layers\n",
        "        x = F.relu(self.fc1(self.dropout(x)))\n",
        "        x = F.relu(self.fc2(self.dropout(x)))\n",
        "        return self.fc_out(x)"
      ],
      "metadata": {
        "id": "WnyJLNgqRAMF"
      },
      "execution_count": 7,
      "outputs": []
    },
    {
      "cell_type": "code",
      "source": [
        "%%time\n",
        "# 3. Wrap (a base model) with skorch\n",
        "\n",
        "net = NeuralNetClassifier(\n",
        "    module=Cifar10CNN_v3\n",
        "    , criterion=nn.CrossEntropyLoss\n",
        "    , max_epochs=10\n",
        "    , lr=0.001\n",
        "    , optimizer=torch.optim.Adam\n",
        "    , batch_size=128\n",
        "    , iterator_train__shuffle=True\n",
        "    , device=device\n",
        ")\n",
        "\n",
        "net.fit(X_train, y_train)\n",
        "\n",
        "print(\"Train accuracy:\", net.score(X_train, y_train))"
      ],
      "metadata": {
        "colab": {
          "base_uri": "https://localhost:8080/"
        },
        "id": "2ETvJ4iPF5nI",
        "outputId": "e229702b-89ab-4ca7-ba20-ea38427cbcb5"
      },
      "execution_count": 8,
      "outputs": [
        {
          "output_type": "stream",
          "name": "stdout",
          "text": [
            "  epoch    train_loss    valid_acc    valid_loss     dur\n",
            "-------  ------------  -----------  ------------  ------\n",
            "      1        \u001b[36m1.4319\u001b[0m       \u001b[32m0.5665\u001b[0m        \u001b[35m1.1680\u001b[0m  6.3274\n",
            "      2        \u001b[36m1.0310\u001b[0m       \u001b[32m0.6101\u001b[0m        \u001b[35m1.0921\u001b[0m  4.4361\n",
            "      3        \u001b[36m0.8586\u001b[0m       \u001b[32m0.6896\u001b[0m        \u001b[35m0.9019\u001b[0m  4.3235\n",
            "      4        \u001b[36m0.7432\u001b[0m       0.6834        0.9196  4.3121\n",
            "      5        \u001b[36m0.6480\u001b[0m       \u001b[32m0.7366\u001b[0m        \u001b[35m0.7681\u001b[0m  4.7448\n",
            "      6        \u001b[36m0.5736\u001b[0m       0.6630        1.0648  5.4642\n",
            "      7        \u001b[36m0.5004\u001b[0m       0.7034        0.8925  4.4379\n",
            "      8        \u001b[36m0.4360\u001b[0m       \u001b[32m0.7496\u001b[0m        0.7705  4.3639\n",
            "      9        \u001b[36m0.3880\u001b[0m       0.7250        0.8449  4.3640\n",
            "     10        \u001b[36m0.3388\u001b[0m       \u001b[32m0.7594\u001b[0m        \u001b[35m0.7670\u001b[0m  4.4658\n",
            "Train accuracy: 0.867925\n"
          ]
        }
      ]
    },
    {
      "cell_type": "code",
      "source": [
        "# 4a. RandomizedSearchCV for Hyperparams Tuning\n",
        "\n",
        "# (param_dist_v3)\n",
        "\n",
        "param_dist = {\n",
        "    \"module__channels\": [32, 64, 128],  # Increasing upper range\n",
        "    \"module__dropout\": [0.2, 0.3, 0.5],  # Slightly reduced dropout values\n",
        "    \"lr\": [1e-4, 3e-4, 1e-3],  # Removed extreme values for better control\n",
        "    \"optimizer\": [torch.optim.Adam, torch.optim.SGD, torch.optim.RMSprop],\n",
        "    \"batch_size\": [64, 128],  # Added smaller batch size for exploration\n",
        "    \"optimizer__momentum\": [0.0, 0.9],\n",
        "    \"optimizer__weight_decay\": [0.0, 1e-4, 5e-4],\n",
        "}"
      ],
      "metadata": {
        "id": "eIAU9fznF6ms"
      },
      "execution_count": 9,
      "outputs": []
    },
    {
      "cell_type": "code",
      "source": [
        "%%time\n",
        "# 4b. Randomized Search Actual (sample combos, actual run;)\n",
        "\n",
        "rs = RandomizedSearchCV(\n",
        "    estimator=net\n",
        "    , param_distributions=param_dist\n",
        "    , n_iter=10\n",
        "    , cv=3\n",
        "    , scoring=\"accuracy\"\n",
        "    , verbose=1\n",
        "    , random_state=27\n",
        "    , n_jobs=-1\n",
        ")\n",
        "\n",
        "rs.fit(X_train, y_train)\n",
        "\n",
        "print(\"Best CV accuracy:\", rs.best_score_)\n",
        "print(\"Best params:\", rs.best_params_)"
      ],
      "metadata": {
        "colab": {
          "base_uri": "https://localhost:8080/"
        },
        "id": "U5j44_mMF6pq",
        "outputId": "22acc032-31e3-4454-fbb8-263a04f5aae6"
      },
      "execution_count": 10,
      "outputs": [
        {
          "output_type": "stream",
          "name": "stdout",
          "text": [
            "Fitting 3 folds for each of 10 candidates, totalling 30 fits\n",
            "  epoch    train_loss    valid_acc    valid_loss     dur\n",
            "-------  ------------  -----------  ------------  ------\n",
            "      1        \u001b[36m1.6179\u001b[0m       \u001b[32m0.5169\u001b[0m        \u001b[35m1.3302\u001b[0m  4.4919\n",
            "      2        \u001b[36m1.2178\u001b[0m       \u001b[32m0.5527\u001b[0m        1.3477  4.5786\n",
            "      3        \u001b[36m1.0290\u001b[0m       \u001b[32m0.6485\u001b[0m        \u001b[35m1.0338\u001b[0m  4.5365\n",
            "      4        \u001b[36m0.8977\u001b[0m       \u001b[32m0.6691\u001b[0m        \u001b[35m0.9354\u001b[0m  4.4992\n",
            "      5        \u001b[36m0.7863\u001b[0m       0.5731        1.2896  4.6003\n",
            "      6        \u001b[36m0.6965\u001b[0m       \u001b[32m0.7110\u001b[0m        \u001b[35m0.8468\u001b[0m  4.4833\n",
            "      7        \u001b[36m0.6078\u001b[0m       0.5804        1.3539  4.4872\n",
            "      8        \u001b[36m0.5242\u001b[0m       \u001b[32m0.7216\u001b[0m        \u001b[35m0.8172\u001b[0m  4.5961\n",
            "      9        \u001b[36m0.4648\u001b[0m       0.7131        0.9048  4.7459\n",
            "     10        \u001b[36m0.3946\u001b[0m       0.7159        0.9234  4.6256\n",
            "Best CV accuracy: 0.7008014783390434\n",
            "Best params: {'optimizer__weight_decay': 0.0, 'optimizer__momentum': 0.9, 'optimizer': <class 'torch.optim.rmsprop.RMSprop'>, 'module__dropout': 0.3, 'module__channels': 64, 'lr': 0.0003, 'batch_size': 128}\n"
          ]
        }
      ]
    },
    {
      "cell_type": "code",
      "source": [
        "# 5. Send results to a dataframe for clean review;\n",
        "\n",
        "results = pd.DataFrame(rs.cv_results_)\n",
        "results[[\n",
        "    \"mean_test_score\"\n",
        "    , \"std_test_score\"\n",
        "    , \"params\"\n",
        "]].sort_values(\"mean_test_score\", ascending=False, inplace=True)\n",
        "results.head(3)"
      ],
      "metadata": {
        "colab": {
          "base_uri": "https://localhost:8080/",
          "height": 216
        },
        "id": "UH7O1aIzF6sr",
        "outputId": "e07b8244-f1c8-449b-b624-6e958ff34b74"
      },
      "execution_count": 12,
      "outputs": [
        {
          "output_type": "execute_result",
          "data": {
            "text/plain": [
              "   mean_fit_time  std_fit_time  mean_score_time  std_score_time  \\\n",
              "0     128.054189      6.681777         2.169934        0.467530   \n",
              "1      59.212780      4.307163         1.367290        0.035737   \n",
              "2      40.729980      4.928447         1.125044        0.452975   \n",
              "\n",
              "   param_optimizer__weight_decay  param_optimizer__momentum  \\\n",
              "0                         0.0001                        0.0   \n",
              "1                         0.0000                        0.0   \n",
              "2                         0.0005                        0.9   \n",
              "\n",
              "                         param_optimizer  param_module__dropout  \\\n",
              "0  <class 'torch.optim.rmsprop.RMSprop'>                    0.5   \n",
              "1  <class 'torch.optim.rmsprop.RMSprop'>                    0.2   \n",
              "2          <class 'torch.optim.sgd.SGD'>                    0.5   \n",
              "\n",
              "   param_module__channels  param_lr  param_batch_size  \\\n",
              "0                     128    0.0001               128   \n",
              "1                      64    0.0001               128   \n",
              "2                      32    0.0001                64   \n",
              "\n",
              "                                              params  split0_test_score  \\\n",
              "0  {'optimizer__weight_decay': 0.0001, 'optimizer...           0.621044   \n",
              "1  {'optimizer__weight_decay': 0.0, 'optimizer__m...           0.614894   \n",
              "2  {'optimizer__weight_decay': 0.0005, 'optimizer...           0.323684   \n",
              "\n",
              "   split1_test_score  split2_test_score  mean_test_score  std_test_score  \\\n",
              "0           0.665342           0.724593         0.670326        0.042420   \n",
              "1           0.654166           0.663917         0.644326        0.021188   \n",
              "2           0.317858           0.297307         0.312950        0.011314   \n",
              "\n",
              "   rank_test_score  \n",
              "0                3  \n",
              "1                4  \n",
              "2                6  "
            ],
            "text/html": [
              "\n",
              "  <div id=\"df-5cd45b07-9f1b-476d-91a3-1cdcc5712ba0\" class=\"colab-df-container\">\n",
              "    <div>\n",
              "<style scoped>\n",
              "    .dataframe tbody tr th:only-of-type {\n",
              "        vertical-align: middle;\n",
              "    }\n",
              "\n",
              "    .dataframe tbody tr th {\n",
              "        vertical-align: top;\n",
              "    }\n",
              "\n",
              "    .dataframe thead th {\n",
              "        text-align: right;\n",
              "    }\n",
              "</style>\n",
              "<table border=\"1\" class=\"dataframe\">\n",
              "  <thead>\n",
              "    <tr style=\"text-align: right;\">\n",
              "      <th></th>\n",
              "      <th>mean_fit_time</th>\n",
              "      <th>std_fit_time</th>\n",
              "      <th>mean_score_time</th>\n",
              "      <th>std_score_time</th>\n",
              "      <th>param_optimizer__weight_decay</th>\n",
              "      <th>param_optimizer__momentum</th>\n",
              "      <th>param_optimizer</th>\n",
              "      <th>param_module__dropout</th>\n",
              "      <th>param_module__channels</th>\n",
              "      <th>param_lr</th>\n",
              "      <th>param_batch_size</th>\n",
              "      <th>params</th>\n",
              "      <th>split0_test_score</th>\n",
              "      <th>split1_test_score</th>\n",
              "      <th>split2_test_score</th>\n",
              "      <th>mean_test_score</th>\n",
              "      <th>std_test_score</th>\n",
              "      <th>rank_test_score</th>\n",
              "    </tr>\n",
              "  </thead>\n",
              "  <tbody>\n",
              "    <tr>\n",
              "      <th>0</th>\n",
              "      <td>128.054189</td>\n",
              "      <td>6.681777</td>\n",
              "      <td>2.169934</td>\n",
              "      <td>0.467530</td>\n",
              "      <td>0.0001</td>\n",
              "      <td>0.0</td>\n",
              "      <td>&lt;class 'torch.optim.rmsprop.RMSprop'&gt;</td>\n",
              "      <td>0.5</td>\n",
              "      <td>128</td>\n",
              "      <td>0.0001</td>\n",
              "      <td>128</td>\n",
              "      <td>{'optimizer__weight_decay': 0.0001, 'optimizer...</td>\n",
              "      <td>0.621044</td>\n",
              "      <td>0.665342</td>\n",
              "      <td>0.724593</td>\n",
              "      <td>0.670326</td>\n",
              "      <td>0.042420</td>\n",
              "      <td>3</td>\n",
              "    </tr>\n",
              "    <tr>\n",
              "      <th>1</th>\n",
              "      <td>59.212780</td>\n",
              "      <td>4.307163</td>\n",
              "      <td>1.367290</td>\n",
              "      <td>0.035737</td>\n",
              "      <td>0.0000</td>\n",
              "      <td>0.0</td>\n",
              "      <td>&lt;class 'torch.optim.rmsprop.RMSprop'&gt;</td>\n",
              "      <td>0.2</td>\n",
              "      <td>64</td>\n",
              "      <td>0.0001</td>\n",
              "      <td>128</td>\n",
              "      <td>{'optimizer__weight_decay': 0.0, 'optimizer__m...</td>\n",
              "      <td>0.614894</td>\n",
              "      <td>0.654166</td>\n",
              "      <td>0.663917</td>\n",
              "      <td>0.644326</td>\n",
              "      <td>0.021188</td>\n",
              "      <td>4</td>\n",
              "    </tr>\n",
              "    <tr>\n",
              "      <th>2</th>\n",
              "      <td>40.729980</td>\n",
              "      <td>4.928447</td>\n",
              "      <td>1.125044</td>\n",
              "      <td>0.452975</td>\n",
              "      <td>0.0005</td>\n",
              "      <td>0.9</td>\n",
              "      <td>&lt;class 'torch.optim.sgd.SGD'&gt;</td>\n",
              "      <td>0.5</td>\n",
              "      <td>32</td>\n",
              "      <td>0.0001</td>\n",
              "      <td>64</td>\n",
              "      <td>{'optimizer__weight_decay': 0.0005, 'optimizer...</td>\n",
              "      <td>0.323684</td>\n",
              "      <td>0.317858</td>\n",
              "      <td>0.297307</td>\n",
              "      <td>0.312950</td>\n",
              "      <td>0.011314</td>\n",
              "      <td>6</td>\n",
              "    </tr>\n",
              "  </tbody>\n",
              "</table>\n",
              "</div>\n",
              "    <div class=\"colab-df-buttons\">\n",
              "\n",
              "  <div class=\"colab-df-container\">\n",
              "    <button class=\"colab-df-convert\" onclick=\"convertToInteractive('df-5cd45b07-9f1b-476d-91a3-1cdcc5712ba0')\"\n",
              "            title=\"Convert this dataframe to an interactive table.\"\n",
              "            style=\"display:none;\">\n",
              "\n",
              "  <svg xmlns=\"http://www.w3.org/2000/svg\" height=\"24px\" viewBox=\"0 -960 960 960\">\n",
              "    <path d=\"M120-120v-720h720v720H120Zm60-500h600v-160H180v160Zm220 220h160v-160H400v160Zm0 220h160v-160H400v160ZM180-400h160v-160H180v160Zm440 0h160v-160H620v160ZM180-180h160v-160H180v160Zm440 0h160v-160H620v160Z\"/>\n",
              "  </svg>\n",
              "    </button>\n",
              "\n",
              "  <style>\n",
              "    .colab-df-container {\n",
              "      display:flex;\n",
              "      gap: 12px;\n",
              "    }\n",
              "\n",
              "    .colab-df-convert {\n",
              "      background-color: #E8F0FE;\n",
              "      border: none;\n",
              "      border-radius: 50%;\n",
              "      cursor: pointer;\n",
              "      display: none;\n",
              "      fill: #1967D2;\n",
              "      height: 32px;\n",
              "      padding: 0 0 0 0;\n",
              "      width: 32px;\n",
              "    }\n",
              "\n",
              "    .colab-df-convert:hover {\n",
              "      background-color: #E2EBFA;\n",
              "      box-shadow: 0px 1px 2px rgba(60, 64, 67, 0.3), 0px 1px 3px 1px rgba(60, 64, 67, 0.15);\n",
              "      fill: #174EA6;\n",
              "    }\n",
              "\n",
              "    .colab-df-buttons div {\n",
              "      margin-bottom: 4px;\n",
              "    }\n",
              "\n",
              "    [theme=dark] .colab-df-convert {\n",
              "      background-color: #3B4455;\n",
              "      fill: #D2E3FC;\n",
              "    }\n",
              "\n",
              "    [theme=dark] .colab-df-convert:hover {\n",
              "      background-color: #434B5C;\n",
              "      box-shadow: 0px 1px 3px 1px rgba(0, 0, 0, 0.15);\n",
              "      filter: drop-shadow(0px 1px 2px rgba(0, 0, 0, 0.3));\n",
              "      fill: #FFFFFF;\n",
              "    }\n",
              "  </style>\n",
              "\n",
              "    <script>\n",
              "      const buttonEl =\n",
              "        document.querySelector('#df-5cd45b07-9f1b-476d-91a3-1cdcc5712ba0 button.colab-df-convert');\n",
              "      buttonEl.style.display =\n",
              "        google.colab.kernel.accessAllowed ? 'block' : 'none';\n",
              "\n",
              "      async function convertToInteractive(key) {\n",
              "        const element = document.querySelector('#df-5cd45b07-9f1b-476d-91a3-1cdcc5712ba0');\n",
              "        const dataTable =\n",
              "          await google.colab.kernel.invokeFunction('convertToInteractive',\n",
              "                                                    [key], {});\n",
              "        if (!dataTable) return;\n",
              "\n",
              "        const docLinkHtml = 'Like what you see? Visit the ' +\n",
              "          '<a target=\"_blank\" href=https://colab.research.google.com/notebooks/data_table.ipynb>data table notebook</a>'\n",
              "          + ' to learn more about interactive tables.';\n",
              "        element.innerHTML = '';\n",
              "        dataTable['output_type'] = 'display_data';\n",
              "        await google.colab.output.renderOutput(dataTable, element);\n",
              "        const docLink = document.createElement('div');\n",
              "        docLink.innerHTML = docLinkHtml;\n",
              "        element.appendChild(docLink);\n",
              "      }\n",
              "    </script>\n",
              "  </div>\n",
              "\n",
              "\n",
              "    <div id=\"df-209f99a9-6b44-40fc-98d5-5b3af1f66d38\">\n",
              "      <button class=\"colab-df-quickchart\" onclick=\"quickchart('df-209f99a9-6b44-40fc-98d5-5b3af1f66d38')\"\n",
              "                title=\"Suggest charts\"\n",
              "                style=\"display:none;\">\n",
              "\n",
              "<svg xmlns=\"http://www.w3.org/2000/svg\" height=\"24px\"viewBox=\"0 0 24 24\"\n",
              "     width=\"24px\">\n",
              "    <g>\n",
              "        <path d=\"M19 3H5c-1.1 0-2 .9-2 2v14c0 1.1.9 2 2 2h14c1.1 0 2-.9 2-2V5c0-1.1-.9-2-2-2zM9 17H7v-7h2v7zm4 0h-2V7h2v10zm4 0h-2v-4h2v4z\"/>\n",
              "    </g>\n",
              "</svg>\n",
              "      </button>\n",
              "\n",
              "<style>\n",
              "  .colab-df-quickchart {\n",
              "      --bg-color: #E8F0FE;\n",
              "      --fill-color: #1967D2;\n",
              "      --hover-bg-color: #E2EBFA;\n",
              "      --hover-fill-color: #174EA6;\n",
              "      --disabled-fill-color: #AAA;\n",
              "      --disabled-bg-color: #DDD;\n",
              "  }\n",
              "\n",
              "  [theme=dark] .colab-df-quickchart {\n",
              "      --bg-color: #3B4455;\n",
              "      --fill-color: #D2E3FC;\n",
              "      --hover-bg-color: #434B5C;\n",
              "      --hover-fill-color: #FFFFFF;\n",
              "      --disabled-bg-color: #3B4455;\n",
              "      --disabled-fill-color: #666;\n",
              "  }\n",
              "\n",
              "  .colab-df-quickchart {\n",
              "    background-color: var(--bg-color);\n",
              "    border: none;\n",
              "    border-radius: 50%;\n",
              "    cursor: pointer;\n",
              "    display: none;\n",
              "    fill: var(--fill-color);\n",
              "    height: 32px;\n",
              "    padding: 0;\n",
              "    width: 32px;\n",
              "  }\n",
              "\n",
              "  .colab-df-quickchart:hover {\n",
              "    background-color: var(--hover-bg-color);\n",
              "    box-shadow: 0 1px 2px rgba(60, 64, 67, 0.3), 0 1px 3px 1px rgba(60, 64, 67, 0.15);\n",
              "    fill: var(--button-hover-fill-color);\n",
              "  }\n",
              "\n",
              "  .colab-df-quickchart-complete:disabled,\n",
              "  .colab-df-quickchart-complete:disabled:hover {\n",
              "    background-color: var(--disabled-bg-color);\n",
              "    fill: var(--disabled-fill-color);\n",
              "    box-shadow: none;\n",
              "  }\n",
              "\n",
              "  .colab-df-spinner {\n",
              "    border: 2px solid var(--fill-color);\n",
              "    border-color: transparent;\n",
              "    border-bottom-color: var(--fill-color);\n",
              "    animation:\n",
              "      spin 1s steps(1) infinite;\n",
              "  }\n",
              "\n",
              "  @keyframes spin {\n",
              "    0% {\n",
              "      border-color: transparent;\n",
              "      border-bottom-color: var(--fill-color);\n",
              "      border-left-color: var(--fill-color);\n",
              "    }\n",
              "    20% {\n",
              "      border-color: transparent;\n",
              "      border-left-color: var(--fill-color);\n",
              "      border-top-color: var(--fill-color);\n",
              "    }\n",
              "    30% {\n",
              "      border-color: transparent;\n",
              "      border-left-color: var(--fill-color);\n",
              "      border-top-color: var(--fill-color);\n",
              "      border-right-color: var(--fill-color);\n",
              "    }\n",
              "    40% {\n",
              "      border-color: transparent;\n",
              "      border-right-color: var(--fill-color);\n",
              "      border-top-color: var(--fill-color);\n",
              "    }\n",
              "    60% {\n",
              "      border-color: transparent;\n",
              "      border-right-color: var(--fill-color);\n",
              "    }\n",
              "    80% {\n",
              "      border-color: transparent;\n",
              "      border-right-color: var(--fill-color);\n",
              "      border-bottom-color: var(--fill-color);\n",
              "    }\n",
              "    90% {\n",
              "      border-color: transparent;\n",
              "      border-bottom-color: var(--fill-color);\n",
              "    }\n",
              "  }\n",
              "</style>\n",
              "\n",
              "      <script>\n",
              "        async function quickchart(key) {\n",
              "          const quickchartButtonEl =\n",
              "            document.querySelector('#' + key + ' button');\n",
              "          quickchartButtonEl.disabled = true;  // To prevent multiple clicks.\n",
              "          quickchartButtonEl.classList.add('colab-df-spinner');\n",
              "          try {\n",
              "            const charts = await google.colab.kernel.invokeFunction(\n",
              "                'suggestCharts', [key], {});\n",
              "          } catch (error) {\n",
              "            console.error('Error during call to suggestCharts:', error);\n",
              "          }\n",
              "          quickchartButtonEl.classList.remove('colab-df-spinner');\n",
              "          quickchartButtonEl.classList.add('colab-df-quickchart-complete');\n",
              "        }\n",
              "        (() => {\n",
              "          let quickchartButtonEl =\n",
              "            document.querySelector('#df-209f99a9-6b44-40fc-98d5-5b3af1f66d38 button');\n",
              "          quickchartButtonEl.style.display =\n",
              "            google.colab.kernel.accessAllowed ? 'block' : 'none';\n",
              "        })();\n",
              "      </script>\n",
              "    </div>\n",
              "\n",
              "    </div>\n",
              "  </div>\n"
            ],
            "application/vnd.google.colaboratory.intrinsic+json": {
              "type": "dataframe",
              "variable_name": "results",
              "summary": "{\n  \"name\": \"results\",\n  \"rows\": 10,\n  \"fields\": [\n    {\n      \"column\": \"mean_fit_time\",\n      \"properties\": {\n        \"dtype\": \"number\",\n        \"std\": 40.13155002714393,\n        \"min\": 0.4600737889607747,\n        \"max\": 128.05418888727823,\n        \"num_unique_values\": 10,\n        \"samples\": [\n          28.002170085906982,\n          59.21278039614359,\n          39.64368987083435\n        ],\n        \"semantic_type\": \"\",\n        \"description\": \"\"\n      }\n    },\n    {\n      \"column\": \"std_fit_time\",\n      \"properties\": {\n        \"dtype\": \"number\",\n        \"std\": 2.6131811397423785,\n        \"min\": 0.009772037748013076,\n        \"max\": 6.68177714759572,\n        \"num_unique_values\": 10,\n        \"samples\": [\n          5.294839960697225,\n          4.307163223566096,\n          0.5391248191539963\n        ],\n        \"semantic_type\": \"\",\n        \"description\": \"\"\n      }\n    },\n    {\n      \"column\": \"mean_score_time\",\n      \"properties\": {\n        \"dtype\": \"number\",\n        \"std\": 0.752180256867837,\n        \"min\": 0.0,\n        \"max\": 2.1699344317118325,\n        \"num_unique_values\": 7,\n        \"samples\": [\n          2.1699344317118325,\n          1.3672903378804524,\n          1.251727024714152\n        ],\n        \"semantic_type\": \"\",\n        \"description\": \"\"\n      }\n    },\n    {\n      \"column\": \"std_score_time\",\n      \"properties\": {\n        \"dtype\": \"number\",\n        \"std\": 0.18154349644734424,\n        \"min\": 0.0,\n        \"max\": 0.46753029613139563,\n        \"num_unique_values\": 7,\n        \"samples\": [\n          0.46753029613139563,\n          0.03573673177463839,\n          0.0916713703206072\n        ],\n        \"semantic_type\": \"\",\n        \"description\": \"\"\n      }\n    },\n    {\n      \"column\": \"param_optimizer__weight_decay\",\n      \"properties\": {\n        \"dtype\": \"number\",\n        \"std\": 0.0002440400695696417,\n        \"min\": 0.0,\n        \"max\": 0.0005,\n        \"num_unique_values\": 3,\n        \"samples\": [\n          0.0001,\n          0.0,\n          0.0005\n        ],\n        \"semantic_type\": \"\",\n        \"description\": \"\"\n      }\n    },\n    {\n      \"column\": \"param_optimizer__momentum\",\n      \"properties\": {\n        \"dtype\": \"number\",\n        \"std\": 0.474341649025257,\n        \"min\": 0.0,\n        \"max\": 0.9,\n        \"num_unique_values\": 2,\n        \"samples\": [\n          0.9,\n          0.0\n        ],\n        \"semantic_type\": \"\",\n        \"description\": \"\"\n      }\n    },\n    {\n      \"column\": \"param_optimizer\",\n      \"properties\": {\n        \"dtype\": \"category\",\n        \"num_unique_values\": 3,\n        \"samples\": [\n          \"<class 'torch.optim.rmsprop.RMSprop'>\",\n          \"<class 'torch.optim.sgd.SGD'>\"\n        ],\n        \"semantic_type\": \"\",\n        \"description\": \"\"\n      }\n    },\n    {\n      \"column\": \"param_module__dropout\",\n      \"properties\": {\n        \"dtype\": \"number\",\n        \"std\": 0.12516655570345725,\n        \"min\": 0.2,\n        \"max\": 0.5,\n        \"num_unique_values\": 3,\n        \"samples\": [\n          0.5,\n          0.2\n        ],\n        \"semantic_type\": \"\",\n        \"description\": \"\"\n      }\n    },\n    {\n      \"column\": \"param_module__channels\",\n      \"properties\": {\n        \"dtype\": \"number\",\n        \"std\": 30,\n        \"min\": 32,\n        \"max\": 128,\n        \"num_unique_values\": 3,\n        \"samples\": [\n          128,\n          64\n        ],\n        \"semantic_type\": \"\",\n        \"description\": \"\"\n      }\n    },\n    {\n      \"column\": \"param_lr\",\n      \"properties\": {\n        \"dtype\": \"number\",\n        \"std\": 9.660917830792957e-05,\n        \"min\": 0.0001,\n        \"max\": 0.0003,\n        \"num_unique_values\": 2,\n        \"samples\": [\n          0.0003,\n          0.0001\n        ],\n        \"semantic_type\": \"\",\n        \"description\": \"\"\n      }\n    },\n    {\n      \"column\": \"param_batch_size\",\n      \"properties\": {\n        \"dtype\": \"number\",\n        \"std\": 33,\n        \"min\": 64,\n        \"max\": 128,\n        \"num_unique_values\": 2,\n        \"samples\": [\n          64,\n          128\n        ],\n        \"semantic_type\": \"\",\n        \"description\": \"\"\n      }\n    },\n    {\n      \"column\": \"params\",\n      \"properties\": {\n        \"dtype\": \"object\",\n        \"semantic_type\": \"\",\n        \"description\": \"\"\n      }\n    },\n    {\n      \"column\": \"split0_test_score\",\n      \"properties\": {\n        \"dtype\": \"number\",\n        \"std\": 0.15500923953428145,\n        \"min\": 0.3236838158092095,\n        \"max\": 0.6994900254987251,\n        \"num_unique_values\": 6,\n        \"samples\": [\n          0.6210439478026099,\n          0.6148942552872356\n        ],\n        \"semantic_type\": \"\",\n        \"description\": \"\"\n      }\n    },\n    {\n      \"column\": \"split1_test_score\",\n      \"properties\": {\n        \"dtype\": \"number\",\n        \"std\": 0.18130152075762504,\n        \"min\": 0.3178579464486612,\n        \"max\": 0.7332183304582615,\n        \"num_unique_values\": 6,\n        \"samples\": [\n          0.6653416335408385,\n          0.6541663541588539\n        ],\n        \"semantic_type\": \"\",\n        \"description\": \"\"\n      }\n    },\n    {\n      \"column\": \"split2_test_score\",\n      \"properties\": {\n        \"dtype\": \"number\",\n        \"std\": 0.19424696605251932,\n        \"min\": 0.29730743268581716,\n        \"max\": 0.7275181879546989,\n        \"num_unique_values\": 6,\n        \"samples\": [\n          0.7245931148278707,\n          0.6639165979149478\n        ],\n        \"semantic_type\": \"\",\n        \"description\": \"\"\n      }\n    },\n    {\n      \"column\": \"mean_test_score\",\n      \"properties\": {\n        \"dtype\": \"number\",\n        \"std\": 0.1757976675785297,\n        \"min\": 0.31294973164789597,\n        \"max\": 0.7008014783390434,\n        \"num_unique_values\": 6,\n        \"samples\": [\n          0.6703262320571063,\n          0.6443257357870125\n        ],\n        \"semantic_type\": \"\",\n        \"description\": \"\"\n      }\n    },\n    {\n      \"column\": \"std_test_score\",\n      \"properties\": {\n        \"dtype\": \"number\",\n        \"std\": 0.01594777233450424,\n        \"min\": 0.008129410394514884,\n        \"max\": 0.04242045233675714,\n        \"num_unique_values\": 6,\n        \"samples\": [\n          0.04242045233675714,\n          0.02118845356371201\n        ],\n        \"semantic_type\": \"\",\n        \"description\": \"\"\n      }\n    },\n    {\n      \"column\": \"rank_test_score\",\n      \"properties\": {\n        \"dtype\": \"int32\",\n        \"num_unique_values\": 7,\n        \"samples\": [\n          3,\n          4\n        ],\n        \"semantic_type\": \"\",\n        \"description\": \"\"\n      }\n    }\n  ]\n}"
            }
          },
          "metadata": {},
          "execution_count": 12
        }
      ]
    },
    {
      "cell_type": "code",
      "source": [
        "results['params'].iloc[0]"
      ],
      "metadata": {
        "colab": {
          "base_uri": "https://localhost:8080/"
        },
        "id": "tirjq3kaJGuM",
        "outputId": "3497e589-db1e-426a-8f48-619c71b7cea9"
      },
      "execution_count": 13,
      "outputs": [
        {
          "output_type": "execute_result",
          "data": {
            "text/plain": [
              "{'optimizer__weight_decay': 0.0001,\n",
              " 'optimizer__momentum': 0.0,\n",
              " 'optimizer': torch.optim.rmsprop.RMSprop,\n",
              " 'module__dropout': 0.5,\n",
              " 'module__channels': 128,\n",
              " 'lr': 0.0001,\n",
              " 'batch_size': 128}"
            ]
          },
          "metadata": {},
          "execution_count": 13
        }
      ]
    },
    {
      "cell_type": "code",
      "source": [
        "# 6. Predict & Evaluate Performance with Best Model\n",
        "\n",
        "best_model = rs.best_estimator_\n",
        "y_pred = best_model.predict(X_test)\n",
        "\n",
        "print(\"Accuracy:\\n\", accuracy_score(y_test, y_pred))\n",
        "print('\\n=================================================================\\n')\n",
        "print('Confusion Matrix:\\n', confusion_matrix(y_test, y_pred))\n",
        "print('\\n=================================================================\\n')\n",
        "print(\"Classification Report:\\n\", classification_report(y_test, y_pred))\n",
        "\n",
        "cm = ConfusionMatrix(num_classes=10, task='multiclass')\n",
        "cm_tensor = cm(torch.tensor(y_pred), y_test)"
      ],
      "metadata": {
        "colab": {
          "base_uri": "https://localhost:8080/"
        },
        "id": "dAoojeaoF6v1",
        "outputId": "26b209bf-9230-4f97-9fb9-b2792b7360aa"
      },
      "execution_count": 14,
      "outputs": [
        {
          "output_type": "stream",
          "name": "stdout",
          "text": [
            "Accuracy:\n",
            " 0.7181\n",
            "\n",
            "=================================================================\n",
            "\n",
            "Confusion Matrix:\n",
            " [[860   8  35  17  10  18   7  33   6   6]\n",
            " [ 40 871   1   6   2  11   4  13   9  43]\n",
            " [ 86   2 549  40  63 174  21  64   0   1]\n",
            " [ 29   1  19 320  30 514  20  63   3   1]\n",
            " [ 33   3  29  30 666 103  13 122   0   1]\n",
            " [  4   1   5  35  22 867   2  61   2   1]\n",
            " [  9   4  21  80  37  94 730  21   3   1]\n",
            " [  8   2  12   9  28  82   0 859   0   0]\n",
            " [136  27  12  34   4  40   5   9 722  11]\n",
            " [ 60  61   2  38   0  20   3  74   5 737]]\n",
            "\n",
            "=================================================================\n",
            "\n",
            "Classification Report:\n",
            "               precision    recall  f1-score   support\n",
            "\n",
            "           0       0.68      0.86      0.76      1000\n",
            "           1       0.89      0.87      0.88      1000\n",
            "           2       0.80      0.55      0.65      1000\n",
            "           3       0.53      0.32      0.40      1000\n",
            "           4       0.77      0.67      0.72      1000\n",
            "           5       0.45      0.87      0.59      1000\n",
            "           6       0.91      0.73      0.81      1000\n",
            "           7       0.65      0.86      0.74      1000\n",
            "           8       0.96      0.72      0.83      1000\n",
            "           9       0.92      0.74      0.82      1000\n",
            "\n",
            "    accuracy                           0.72     10000\n",
            "   macro avg       0.76      0.72      0.72     10000\n",
            "weighted avg       0.76      0.72      0.72     10000\n",
            "\n"
          ]
        }
      ]
    },
    {
      "cell_type": "code",
      "source": [
        "# 7. Plot the Confusion Matrix\n",
        "\n",
        "fig, ax = plt.subplots(figsize=(12, 10))\n",
        "\n",
        "# disp = ConfusionMatrixDisplay.from_predictions(\n",
        "#     y_test, y_pred\n",
        "#     , display_labels=dataset.classes\n",
        "#     , cmap='Blues'\n",
        "#     , normalize='true', xticks_rotation=45\n",
        "# )\n",
        "\n",
        "disp.plot(ax=ax, cmap='Blues')\n",
        "plt.show();"
      ],
      "metadata": {
        "colab": {
          "base_uri": "https://localhost:8080/",
          "height": 837
        },
        "id": "99kklmvPF6yo",
        "outputId": "65a3a6a8-09b1-4b87-f0be-18cb4d168e47"
      },
      "execution_count": 17,
      "outputs": [
        {
          "output_type": "display_data",
          "data": {
            "text/plain": [
              "<Figure size 1200x1000 with 2 Axes>"
            ],
            "image/png": "[encoded data removed]"
          },
          "metadata": {}
        }
      ]
    },
    {
      "cell_type": "code",
      "source": [
        " # 8. Functionize the train & test loop(s):\n",
        "\n",
        "def train_step(model, loader, loss_fn, optimizer, accuracy_fn, device):\n",
        "    model.train()\n",
        "    total_loss, total_acc = 0, 0\n",
        "    for X, y in loader:\n",
        "        X, y = X.to(device), y.to(device)\n",
        "        # Apply train transforms to the batch\n",
        "        X = train_transform_batch(X)\n",
        "        y_pred = model(X)\n",
        "        loss = loss_fn(y_pred, y)\n",
        "        optimizer.zero_grad()\n",
        "        loss.backward()\n",
        "        optimizer.step()\n",
        "        total_loss += loss.item()\n",
        "        total_acc += accuracy_fn(y_pred.argmax(dim=1), y).item()\n",
        "    return total_loss / len(loader), total_acc / len(loader)\n",
        "\n",
        "def test_step(model, loader, loss_fn, accuracy_fn, device):\n",
        "    model.eval()\n",
        "    total_loss, total_acc = 0, 0\n",
        "    with torch.no_grad():\n",
        "        for X, y in loader:\n",
        "            X, y = X.to(device), y.to(device)\n",
        "            # Apply test transforms to the batch\n",
        "            X = test_transform_batch(X)\n",
        "            y_pred = model(X)\n",
        "            loss = loss_fn(y_pred, y)\n",
        "            total_loss += loss.item()\n",
        "            total_acc += accuracy_fn(y_pred.argmax(dim=1), y).item()\n",
        "    return total_loss / len(loader), total_acc / len(loader)"
      ],
      "metadata": {
        "id": "FlkgLcZXF61g"
      },
      "execution_count": 24,
      "outputs": []
    },
    {
      "cell_type": "markdown",
      "source": [],
      "metadata": {
        "id": "k2mP3zx8XFNA"
      }
    },
    {
      "cell_type": "code",
      "source": [
        "# ---------------------------------------------------------\n",
        "# 9. Set the final model with the best params (including channels & dropout)\n",
        "# ---------------------------------------------------------\n",
        "\n",
        "model = Cifar10CNN_v3(\n",
        "    channels=rs.best_params_[\"module__channels\"]\n",
        "    , dropout=rs.best_params_[\"module__dropout\"]\n",
        ").to(device)\n",
        "\n",
        "model"
      ],
      "metadata": {
        "colab": {
          "base_uri": "https://localhost:8080/"
        },
        "id": "NmwX420VF65-",
        "outputId": "b8a97294-81ef-4715-ae34-55fdc1e4ca7f"
      },
      "execution_count": 19,
      "outputs": [
        {
          "output_type": "execute_result",
          "data": {
            "text/plain": [
              "Cifar10CNN_v3(\n",
              "  (conv1): Conv2d(3, 64, kernel_size=(3, 3), stride=(1, 1), padding=(1, 1))\n",
              "  (bn1): BatchNorm2d(64, eps=1e-05, momentum=0.1, affine=True, track_running_stats=True)\n",
              "  (conv2): Conv2d(64, 128, kernel_size=(3, 3), stride=(1, 1), padding=(1, 1))\n",
              "  (bn2): BatchNorm2d(128, eps=1e-05, momentum=0.1, affine=True, track_running_stats=True)\n",
              "  (conv3): Conv2d(128, 256, kernel_size=(3, 3), stride=(1, 1), padding=(1, 1))\n",
              "  (bn3): BatchNorm2d(256, eps=1e-05, momentum=0.1, affine=True, track_running_stats=True)\n",
              "  (conv4): Conv2d(256, 512, kernel_size=(3, 3), stride=(1, 1), padding=(1, 1))\n",
              "  (bn4): BatchNorm2d(512, eps=1e-05, momentum=0.1, affine=True, track_running_stats=True)\n",
              "  (global_avgpool): AdaptiveAvgPool2d(output_size=1)\n",
              "  (fc1): Linear(in_features=512, out_features=512, bias=True)\n",
              "  (fc2): Linear(in_features=512, out_features=256, bias=True)\n",
              "  (fc_out): Linear(in_features=256, out_features=10, bias=True)\n",
              "  (dropout): Dropout(p=0.3, inplace=False)\n",
              ")"
            ]
          },
          "metadata": {},
          "execution_count": 19
        }
      ]
    },
    {
      "cell_type": "code",
      "source": [
        "%%time\n",
        "\n",
        "# 10. Train the Best Model\n",
        "\n",
        "epochs = 50  # Increased to 50\n",
        "optimizer = rs.best_params_[\"optimizer\"](model.parameters(), lr=rs.best_params_[\"lr\"])\n",
        "scheduler = torch.optim.lr_scheduler.CosineAnnealingLR(optimizer, T_max=epochs)\n",
        "loss_fn = nn.CrossEntropyLoss()\n",
        "accuracy_fn = Accuracy(task='multiclass', num_classes=10).to(device)\n",
        "\n",
        "\n",
        "for epoch in tqdm(range(epochs)):\n",
        "    train_loss, train_acc = train_step(\n",
        "        model, train_loader, loss_fn, optimizer, accuracy_fn, device)\n",
        "    test_loss, test_acc = test_step(\n",
        "        model, test_loader, loss_fn, accuracy_fn, device)\n",
        "    scheduler.step()  # Update learning rate\n",
        "    print(\n",
        "        f\"Epoch {epoch+1}/{epochs} - \"\n",
        "        f\"Train Loss: {train_loss:.4f}, Train Acc: {train_acc:.2f} - \"\n",
        "        f\"Test Loss: {test_loss:.4f}, Test Acc: {test_acc:.2f}\"\n",
        "    )"
      ],
      "metadata": {
        "colab": {
          "base_uri": "https://localhost:8080/"
        },
        "id": "dcGwQNBGF68m",
        "outputId": "6c82013b-cba0-4997-f14a-7ea4c0f693d9"
      },
      "execution_count": 25,
      "outputs": [
        {
          "output_type": "stream",
          "name": "stderr",
          "text": [
            "  2%|▏         | 1/50 [00:05<04:47,  5.87s/it]"
          ]
        },
        {
          "output_type": "stream",
          "name": "stdout",
          "text": [
            "Epoch 1/50 - Train Loss: 1.5019, Train Acc: 0.44 - Test Loss: 1.4721, Test Acc: 0.49\n"
          ]
        },
        {
          "output_type": "stream",
          "name": "stderr",
          "text": [
            "\r  4%|▍         | 2/50 [00:11<04:30,  5.63s/it]"
          ]
        },
        {
          "output_type": "stream",
          "name": "stdout",
          "text": [
            "Epoch 2/50 - Train Loss: 1.1391, Train Acc: 0.59 - Test Loss: 1.3059, Test Acc: 0.54\n"
          ]
        },
        {
          "output_type": "stream",
          "name": "stderr",
          "text": [
            "\r  6%|▌         | 3/50 [00:16<04:23,  5.60s/it]"
          ]
        },
        {
          "output_type": "stream",
          "name": "stdout",
          "text": [
            "Epoch 3/50 - Train Loss: 0.9958, Train Acc: 0.64 - Test Loss: 1.1886, Test Acc: 0.59\n"
          ]
        },
        {
          "output_type": "stream",
          "name": "stderr",
          "text": [
            "\r  8%|▊         | 4/50 [00:22<04:14,  5.52s/it]"
          ]
        },
        {
          "output_type": "stream",
          "name": "stdout",
          "text": [
            "Epoch 4/50 - Train Loss: 0.9028, Train Acc: 0.68 - Test Loss: 1.1721, Test Acc: 0.60\n"
          ]
        },
        {
          "output_type": "stream",
          "name": "stderr",
          "text": [
            "\r 10%|█         | 5/50 [00:27<04:08,  5.52s/it]"
          ]
        },
        {
          "output_type": "stream",
          "name": "stdout",
          "text": [
            "Epoch 5/50 - Train Loss: 0.8408, Train Acc: 0.70 - Test Loss: 1.5621, Test Acc: 0.55\n"
          ]
        },
        {
          "output_type": "stream",
          "name": "stderr",
          "text": [
            "\r 12%|█▏        | 6/50 [00:33<04:05,  5.59s/it]"
          ]
        },
        {
          "output_type": "stream",
          "name": "stdout",
          "text": [
            "Epoch 6/50 - Train Loss: 0.7904, Train Acc: 0.72 - Test Loss: 0.8965, Test Acc: 0.69\n"
          ]
        },
        {
          "output_type": "stream",
          "name": "stderr",
          "text": [
            "\r 14%|█▍        | 7/50 [00:39<04:00,  5.58s/it]"
          ]
        },
        {
          "output_type": "stream",
          "name": "stdout",
          "text": [
            "Epoch 7/50 - Train Loss: 0.7475, Train Acc: 0.74 - Test Loss: 0.7835, Test Acc: 0.73\n"
          ]
        },
        {
          "output_type": "stream",
          "name": "stderr",
          "text": [
            "\r 16%|█▌        | 8/50 [00:45<03:59,  5.71s/it]"
          ]
        },
        {
          "output_type": "stream",
          "name": "stdout",
          "text": [
            "Epoch 8/50 - Train Loss: 0.7078, Train Acc: 0.75 - Test Loss: 0.9950, Test Acc: 0.67\n"
          ]
        },
        {
          "output_type": "stream",
          "name": "stderr",
          "text": [
            "\r 18%|█▊        | 9/50 [00:50<03:53,  5.69s/it]"
          ]
        },
        {
          "output_type": "stream",
          "name": "stdout",
          "text": [
            "Epoch 9/50 - Train Loss: 0.6829, Train Acc: 0.76 - Test Loss: 0.9778, Test Acc: 0.69\n"
          ]
        },
        {
          "output_type": "stream",
          "name": "stderr",
          "text": [
            "\r 20%|██        | 10/50 [00:56<03:45,  5.63s/it]"
          ]
        },
        {
          "output_type": "stream",
          "name": "stdout",
          "text": [
            "Epoch 10/50 - Train Loss: 0.6577, Train Acc: 0.77 - Test Loss: 0.7065, Test Acc: 0.76\n"
          ]
        },
        {
          "output_type": "stream",
          "name": "stderr",
          "text": [
            "\r 22%|██▏       | 11/50 [01:01<03:39,  5.62s/it]"
          ]
        },
        {
          "output_type": "stream",
          "name": "stdout",
          "text": [
            "Epoch 11/50 - Train Loss: 0.6316, Train Acc: 0.78 - Test Loss: 0.8184, Test Acc: 0.73\n"
          ]
        },
        {
          "output_type": "stream",
          "name": "stderr",
          "text": [
            "\r 24%|██▍       | 12/50 [01:07<03:32,  5.59s/it]"
          ]
        },
        {
          "output_type": "stream",
          "name": "stdout",
          "text": [
            "Epoch 12/50 - Train Loss: 0.6060, Train Acc: 0.79 - Test Loss: 0.6767, Test Acc: 0.77\n"
          ]
        },
        {
          "output_type": "stream",
          "name": "stderr",
          "text": [
            "\r 26%|██▌       | 13/50 [01:12<03:26,  5.59s/it]"
          ]
        },
        {
          "output_type": "stream",
          "name": "stdout",
          "text": [
            "Epoch 13/50 - Train Loss: 0.5846, Train Acc: 0.80 - Test Loss: 0.6721, Test Acc: 0.77\n"
          ]
        },
        {
          "output_type": "stream",
          "name": "stderr",
          "text": [
            "\r 28%|██▊       | 14/50 [01:18<03:20,  5.58s/it]"
          ]
        },
        {
          "output_type": "stream",
          "name": "stdout",
          "text": [
            "Epoch 14/50 - Train Loss: 0.5687, Train Acc: 0.80 - Test Loss: 0.6304, Test Acc: 0.78\n"
          ]
        },
        {
          "output_type": "stream",
          "name": "stderr",
          "text": [
            "\r 30%|███       | 15/50 [01:24<03:15,  5.57s/it]"
          ]
        },
        {
          "output_type": "stream",
          "name": "stdout",
          "text": [
            "Epoch 15/50 - Train Loss: 0.5503, Train Acc: 0.81 - Test Loss: 0.7516, Test Acc: 0.75\n"
          ]
        },
        {
          "output_type": "stream",
          "name": "stderr",
          "text": [
            "\r 32%|███▏      | 16/50 [01:29<03:09,  5.59s/it]"
          ]
        },
        {
          "output_type": "stream",
          "name": "stdout",
          "text": [
            "Epoch 16/50 - Train Loss: 0.5343, Train Acc: 0.81 - Test Loss: 0.6049, Test Acc: 0.79\n"
          ]
        },
        {
          "output_type": "stream",
          "name": "stderr",
          "text": [
            "\r 34%|███▍      | 17/50 [01:35<03:04,  5.58s/it]"
          ]
        },
        {
          "output_type": "stream",
          "name": "stdout",
          "text": [
            "Epoch 17/50 - Train Loss: 0.5144, Train Acc: 0.82 - Test Loss: 0.7767, Test Acc: 0.75\n"
          ]
        },
        {
          "output_type": "stream",
          "name": "stderr",
          "text": [
            "\r 36%|███▌      | 18/50 [01:40<02:59,  5.60s/it]"
          ]
        },
        {
          "output_type": "stream",
          "name": "stdout",
          "text": [
            "Epoch 18/50 - Train Loss: 0.4971, Train Acc: 0.83 - Test Loss: 0.6862, Test Acc: 0.77\n"
          ]
        },
        {
          "output_type": "stream",
          "name": "stderr",
          "text": [
            "\r 38%|███▊      | 19/50 [01:46<02:53,  5.60s/it]"
          ]
        },
        {
          "output_type": "stream",
          "name": "stdout",
          "text": [
            "Epoch 19/50 - Train Loss: 0.4930, Train Acc: 0.83 - Test Loss: 0.5712, Test Acc: 0.81\n"
          ]
        },
        {
          "output_type": "stream",
          "name": "stderr",
          "text": [
            "\r 40%|████      | 20/50 [01:52<02:48,  5.60s/it]"
          ]
        },
        {
          "output_type": "stream",
          "name": "stdout",
          "text": [
            "Epoch 20/50 - Train Loss: 0.4732, Train Acc: 0.83 - Test Loss: 0.6271, Test Acc: 0.79\n"
          ]
        },
        {
          "output_type": "stream",
          "name": "stderr",
          "text": [
            "\r 42%|████▏     | 21/50 [01:57<02:41,  5.58s/it]"
          ]
        },
        {
          "output_type": "stream",
          "name": "stdout",
          "text": [
            "Epoch 21/50 - Train Loss: 0.4623, Train Acc: 0.84 - Test Loss: 0.5367, Test Acc: 0.82\n"
          ]
        },
        {
          "output_type": "stream",
          "name": "stderr",
          "text": [
            "\r 44%|████▍     | 22/50 [02:03<02:36,  5.60s/it]"
          ]
        },
        {
          "output_type": "stream",
          "name": "stdout",
          "text": [
            "Epoch 22/50 - Train Loss: 0.4464, Train Acc: 0.85 - Test Loss: 0.5485, Test Acc: 0.81\n"
          ]
        },
        {
          "output_type": "stream",
          "name": "stderr",
          "text": [
            "\r 46%|████▌     | 23/50 [02:08<02:31,  5.60s/it]"
          ]
        },
        {
          "output_type": "stream",
          "name": "stdout",
          "text": [
            "Epoch 23/50 - Train Loss: 0.4286, Train Acc: 0.85 - Test Loss: 0.6793, Test Acc: 0.78\n"
          ]
        },
        {
          "output_type": "stream",
          "name": "stderr",
          "text": [
            "\r 48%|████▊     | 24/50 [02:14<02:26,  5.63s/it]"
          ]
        },
        {
          "output_type": "stream",
          "name": "stdout",
          "text": [
            "Epoch 24/50 - Train Loss: 0.4237, Train Acc: 0.85 - Test Loss: 0.5257, Test Acc: 0.82\n"
          ]
        },
        {
          "output_type": "stream",
          "name": "stderr",
          "text": [
            "\r 50%|█████     | 25/50 [02:20<02:20,  5.63s/it]"
          ]
        },
        {
          "output_type": "stream",
          "name": "stdout",
          "text": [
            "Epoch 25/50 - Train Loss: 0.4142, Train Acc: 0.86 - Test Loss: 0.6622, Test Acc: 0.79\n"
          ]
        },
        {
          "output_type": "stream",
          "name": "stderr",
          "text": [
            "\r 52%|█████▏    | 26/50 [02:25<02:15,  5.65s/it]"
          ]
        },
        {
          "output_type": "stream",
          "name": "stdout",
          "text": [
            "Epoch 26/50 - Train Loss: 0.3980, Train Acc: 0.86 - Test Loss: 0.5197, Test Acc: 0.83\n"
          ]
        },
        {
          "output_type": "stream",
          "name": "stderr",
          "text": [
            "\r 54%|█████▍    | 27/50 [02:31<02:09,  5.64s/it]"
          ]
        },
        {
          "output_type": "stream",
          "name": "stdout",
          "text": [
            "Epoch 27/50 - Train Loss: 0.3971, Train Acc: 0.86 - Test Loss: 0.4719, Test Acc: 0.84\n"
          ]
        },
        {
          "output_type": "stream",
          "name": "stderr",
          "text": [
            "\r 56%|█████▌    | 28/50 [02:37<02:04,  5.65s/it]"
          ]
        },
        {
          "output_type": "stream",
          "name": "stdout",
          "text": [
            "Epoch 28/50 - Train Loss: 0.3801, Train Acc: 0.87 - Test Loss: 0.5536, Test Acc: 0.82\n"
          ]
        },
        {
          "output_type": "stream",
          "name": "stderr",
          "text": [
            "\r 58%|█████▊    | 29/50 [02:42<01:58,  5.64s/it]"
          ]
        },
        {
          "output_type": "stream",
          "name": "stdout",
          "text": [
            "Epoch 29/50 - Train Loss: 0.3737, Train Acc: 0.87 - Test Loss: 0.4704, Test Acc: 0.85\n"
          ]
        },
        {
          "output_type": "stream",
          "name": "stderr",
          "text": [
            "\r 60%|██████    | 30/50 [02:48<01:52,  5.64s/it]"
          ]
        },
        {
          "output_type": "stream",
          "name": "stdout",
          "text": [
            "Epoch 30/50 - Train Loss: 0.3616, Train Acc: 0.87 - Test Loss: 0.4907, Test Acc: 0.84\n"
          ]
        },
        {
          "output_type": "stream",
          "name": "stderr",
          "text": [
            "\r 62%|██████▏   | 31/50 [02:54<01:47,  5.64s/it]"
          ]
        },
        {
          "output_type": "stream",
          "name": "stdout",
          "text": [
            "Epoch 31/50 - Train Loss: 0.3559, Train Acc: 0.88 - Test Loss: 0.5346, Test Acc: 0.83\n"
          ]
        },
        {
          "output_type": "stream",
          "name": "stderr",
          "text": [
            "\r 64%|██████▍   | 32/50 [02:59<01:41,  5.63s/it]"
          ]
        },
        {
          "output_type": "stream",
          "name": "stdout",
          "text": [
            "Epoch 32/50 - Train Loss: 0.3446, Train Acc: 0.88 - Test Loss: 0.4658, Test Acc: 0.85\n"
          ]
        },
        {
          "output_type": "stream",
          "name": "stderr",
          "text": [
            "\r 66%|██████▌   | 33/50 [03:05<01:35,  5.64s/it]"
          ]
        },
        {
          "output_type": "stream",
          "name": "stdout",
          "text": [
            "Epoch 33/50 - Train Loss: 0.3382, Train Acc: 0.88 - Test Loss: 0.4566, Test Acc: 0.85\n"
          ]
        },
        {
          "output_type": "stream",
          "name": "stderr",
          "text": [
            "\r 68%|██████▊   | 34/50 [03:10<01:29,  5.62s/it]"
          ]
        },
        {
          "output_type": "stream",
          "name": "stdout",
          "text": [
            "Epoch 34/50 - Train Loss: 0.3311, Train Acc: 0.88 - Test Loss: 0.4431, Test Acc: 0.85\n"
          ]
        },
        {
          "output_type": "stream",
          "name": "stderr",
          "text": [
            "\r 70%|███████   | 35/50 [03:16<01:24,  5.63s/it]"
          ]
        },
        {
          "output_type": "stream",
          "name": "stdout",
          "text": [
            "Epoch 35/50 - Train Loss: 0.3170, Train Acc: 0.89 - Test Loss: 0.4341, Test Acc: 0.85\n"
          ]
        },
        {
          "output_type": "stream",
          "name": "stderr",
          "text": [
            "\r 72%|███████▏  | 36/50 [03:22<01:18,  5.61s/it]"
          ]
        },
        {
          "output_type": "stream",
          "name": "stdout",
          "text": [
            "Epoch 36/50 - Train Loss: 0.3130, Train Acc: 0.89 - Test Loss: 0.4385, Test Acc: 0.86\n"
          ]
        },
        {
          "output_type": "stream",
          "name": "stderr",
          "text": [
            "\r 74%|███████▍  | 37/50 [03:27<01:13,  5.63s/it]"
          ]
        },
        {
          "output_type": "stream",
          "name": "stdout",
          "text": [
            "Epoch 37/50 - Train Loss: 0.3064, Train Acc: 0.89 - Test Loss: 0.4270, Test Acc: 0.86\n"
          ]
        },
        {
          "output_type": "stream",
          "name": "stderr",
          "text": [
            "\r 76%|███████▌  | 38/50 [03:33<01:07,  5.62s/it]"
          ]
        },
        {
          "output_type": "stream",
          "name": "stdout",
          "text": [
            "Epoch 38/50 - Train Loss: 0.3011, Train Acc: 0.89 - Test Loss: 0.4360, Test Acc: 0.86\n"
          ]
        },
        {
          "output_type": "stream",
          "name": "stderr",
          "text": [
            "\r 78%|███████▊  | 39/50 [03:39<01:01,  5.63s/it]"
          ]
        },
        {
          "output_type": "stream",
          "name": "stdout",
          "text": [
            "Epoch 39/50 - Train Loss: 0.2991, Train Acc: 0.90 - Test Loss: 0.4206, Test Acc: 0.86\n"
          ]
        },
        {
          "output_type": "stream",
          "name": "stderr",
          "text": [
            "\r 80%|████████  | 40/50 [03:44<00:56,  5.62s/it]"
          ]
        },
        {
          "output_type": "stream",
          "name": "stdout",
          "text": [
            "Epoch 40/50 - Train Loss: 0.2926, Train Acc: 0.90 - Test Loss: 0.4324, Test Acc: 0.86\n"
          ]
        },
        {
          "output_type": "stream",
          "name": "stderr",
          "text": [
            "\r 82%|████████▏ | 41/50 [03:50<00:50,  5.64s/it]"
          ]
        },
        {
          "output_type": "stream",
          "name": "stdout",
          "text": [
            "Epoch 41/50 - Train Loss: 0.2928, Train Acc: 0.90 - Test Loss: 0.4335, Test Acc: 0.86\n"
          ]
        },
        {
          "output_type": "stream",
          "name": "stderr",
          "text": [
            "\r 84%|████████▍ | 42/50 [03:55<00:44,  5.62s/it]"
          ]
        },
        {
          "output_type": "stream",
          "name": "stdout",
          "text": [
            "Epoch 42/50 - Train Loss: 0.2845, Train Acc: 0.90 - Test Loss: 0.4280, Test Acc: 0.87\n"
          ]
        },
        {
          "output_type": "stream",
          "name": "stderr",
          "text": [
            "\r 86%|████████▌ | 43/50 [04:01<00:39,  5.64s/it]"
          ]
        },
        {
          "output_type": "stream",
          "name": "stdout",
          "text": [
            "Epoch 43/50 - Train Loss: 0.2816, Train Acc: 0.90 - Test Loss: 0.4392, Test Acc: 0.86\n"
          ]
        },
        {
          "output_type": "stream",
          "name": "stderr",
          "text": [
            "\r 88%|████████▊ | 44/50 [04:07<00:33,  5.65s/it]"
          ]
        },
        {
          "output_type": "stream",
          "name": "stdout",
          "text": [
            "Epoch 44/50 - Train Loss: 0.2767, Train Acc: 0.90 - Test Loss: 0.4223, Test Acc: 0.87\n"
          ]
        },
        {
          "output_type": "stream",
          "name": "stderr",
          "text": [
            "\r 90%|█████████ | 45/50 [04:12<00:28,  5.63s/it]"
          ]
        },
        {
          "output_type": "stream",
          "name": "stdout",
          "text": [
            "Epoch 45/50 - Train Loss: 0.2817, Train Acc: 0.90 - Test Loss: 0.4230, Test Acc: 0.86\n"
          ]
        },
        {
          "output_type": "stream",
          "name": "stderr",
          "text": [
            "\r 92%|█████████▏| 46/50 [04:19<00:23,  5.81s/it]"
          ]
        },
        {
          "output_type": "stream",
          "name": "stdout",
          "text": [
            "Epoch 46/50 - Train Loss: 0.2722, Train Acc: 0.90 - Test Loss: 0.4195, Test Acc: 0.87\n"
          ]
        },
        {
          "output_type": "stream",
          "name": "stderr",
          "text": [
            "\r 94%|█████████▍| 47/50 [04:24<00:17,  5.74s/it]"
          ]
        },
        {
          "output_type": "stream",
          "name": "stdout",
          "text": [
            "Epoch 47/50 - Train Loss: 0.2724, Train Acc: 0.90 - Test Loss: 0.4216, Test Acc: 0.87\n"
          ]
        },
        {
          "output_type": "stream",
          "name": "stderr",
          "text": [
            "\r 96%|█████████▌| 48/50 [04:30<00:11,  5.71s/it]"
          ]
        },
        {
          "output_type": "stream",
          "name": "stdout",
          "text": [
            "Epoch 48/50 - Train Loss: 0.2722, Train Acc: 0.91 - Test Loss: 0.4248, Test Acc: 0.87\n"
          ]
        },
        {
          "output_type": "stream",
          "name": "stderr",
          "text": [
            "\r 98%|█████████▊| 49/50 [04:35<00:05,  5.67s/it]"
          ]
        },
        {
          "output_type": "stream",
          "name": "stdout",
          "text": [
            "Epoch 49/50 - Train Loss: 0.2713, Train Acc: 0.90 - Test Loss: 0.4239, Test Acc: 0.87\n"
          ]
        },
        {
          "output_type": "stream",
          "name": "stderr",
          "text": [
            "100%|██████████| 50/50 [04:41<00:00,  5.63s/it]"
          ]
        },
        {
          "output_type": "stream",
          "name": "stdout",
          "text": [
            "Epoch 50/50 - Train Loss: 0.2735, Train Acc: 0.90 - Test Loss: 0.4229, Test Acc: 0.86\n",
            "CPU times: user 4min 36s, sys: 975 ms, total: 4min 37s\n",
            "Wall time: 4min 41s\n"
          ]
        },
        {
          "output_type": "stream",
          "name": "stderr",
          "text": [
            "\n"
          ]
        }
      ]
    },
    {
      "cell_type": "code",
      "source": [
        "# ---------------------------------------------------------\n",
        "# 11. Eval Mode for Final Predictions, Metrics on Best Model\n",
        "# ---------------------------------------------------------\n",
        "\n",
        "# Ensure the model is in evaluation mode\n",
        "model.eval()\n",
        "\n",
        "# Initialize lists to store predictions and labels\n",
        "all_preds = []\n",
        "all_labels = []\n",
        "\n",
        "# Disable gradient computation for inference\n",
        "with torch.inference_mode():\n",
        "    # Iterate through the test DataLoader\n",
        "    for images, labels in test_loader:\n",
        "        # Apply transforms dynamically via the test DataLoader\n",
        "        images, labels = images.to(device), labels.to(device)\n",
        "\n",
        "        # Forward pass\n",
        "        outputs = model(images)\n",
        "\n",
        "        # Get predicted class indices\n",
        "        preds = outputs.argmax(dim=1)\n",
        "\n",
        "        # Collect predictions and true labels\n",
        "        all_preds.append(preds.cpu())  # Move to CPU for metric calculations\n",
        "        all_labels.append(labels.cpu())\n",
        "\n",
        "# Concatenate all predictions and labels into single tensors\n",
        "all_preds = torch.cat(all_preds)\n",
        "all_labels = torch.cat(all_labels)\n",
        "\n",
        "# Evaluate metrics\n",
        "from sklearn.metrics import accuracy_score, confusion_matrix, classification_report\n",
        "\n",
        "print(\"\\nAccuracy:\\n\", accuracy_score(all_labels.numpy(), all_preds.numpy()))\n",
        "print('\\n=================================================================\\n')\n",
        "print('Confusion Matrix:\\n', confusion_matrix(all_labels.numpy(), all_preds.numpy()))\n",
        "print('\\n=================================================================\\n')\n",
        "print(\"Classification Report:\\n\", classification_report(all_labels.numpy(), all_preds.numpy()))"
      ],
      "metadata": {
        "colab": {
          "base_uri": "https://localhost:8080/"
        },
        "id": "u17MthEuF6_V",
        "outputId": "fafd7f18-ad5d-4a1a-9635-9391be690dbc"
      },
      "execution_count": 29,
      "outputs": [
        {
          "output_type": "stream",
          "name": "stdout",
          "text": [
            "\n",
            "Accuracy:\n",
            " 0.2622\n",
            "\n",
            "=================================================================\n",
            "\n",
            "Confusion Matrix:\n",
            " [[ 62   0   0 346 122   4  11   0 455   0]\n",
            " [  2   1   0 553 254   8  17   0 165   0]\n",
            " [  3   0  15 660 184  14  21   0 103   0]\n",
            " [  0   0   1 958  20   3   3   0  15   0]\n",
            " [  0   0   0 447 504   3   0   0  46   0]\n",
            " [  0   0   0 795  54 139   1   0  11   0]\n",
            " [  0   0   0 697 138   8 145   0  12   0]\n",
            " [  0   0   0 435 436  73   1   1  54   0]\n",
            " [  1   0   0 175  24   0   6   0 794   0]\n",
            " [  0   0   1 607 116  74  15   0 184   3]]\n",
            "\n",
            "=================================================================\n",
            "\n",
            "Classification Report:\n",
            "               precision    recall  f1-score   support\n",
            "\n",
            "           0       0.91      0.06      0.12      1000\n",
            "           1       1.00      0.00      0.00      1000\n",
            "           2       0.88      0.01      0.03      1000\n",
            "           3       0.17      0.96      0.29      1000\n",
            "           4       0.27      0.50      0.35      1000\n",
            "           5       0.43      0.14      0.21      1000\n",
            "           6       0.66      0.14      0.24      1000\n",
            "           7       1.00      0.00      0.00      1000\n",
            "           8       0.43      0.79      0.56      1000\n",
            "           9       1.00      0.00      0.01      1000\n",
            "\n",
            "    accuracy                           0.26     10000\n",
            "   macro avg       0.68      0.26      0.18     10000\n",
            "weighted avg       0.68      0.26      0.18     10000\n",
            "\n"
          ]
        }
      ]
    },
    {
      "cell_type": "code",
      "source": [
        "# ---------------------------------------------------------\n",
        "# 12. Final Confusion Matrix for Best & Fully Trained Model\n",
        "# ---------------------------------------------------------\n",
        "\n",
        "fig, ax = plt.subplots(figsize=(12, 10))\n",
        "\n",
        "# disp = ConfusionMatrixDisplay.from_predictions(\n",
        "#     all_labels, all_preds\n",
        "#     , display_labels=dataset.classes\n",
        "#     , normalize='true'\n",
        "# )\n",
        "\n",
        "disp.plot(ax=ax, cmap=\"Blues\", xticks_rotation=45)\n",
        "plt.title(\"Confusion Matrix for CIFAR-10 - Final Model\")\n",
        "plt.show();"
      ],
      "metadata": {
        "colab": {
          "base_uri": "https://localhost:8080/",
          "height": 898
        },
        "id": "6bmhbuzTHddm",
        "outputId": "a9646240-88b1-4564-a857-e9374f7d9cc7"
      },
      "execution_count": 30,
      "outputs": [
        {
          "output_type": "display_data",
          "data": {
            "text/plain": [
              "<Figure size 1200x1000 with 2 Axes>"
            ],
            "image/png": "[encoded data removed]"
          },
          "metadata": {}
        }
      ]
    },
    {
      "cell_type": "code",
      "source": [
        "# Retrain step?\n",
        "\n",
        "# epochs = 30\n",
        "# for epoch in tqdm(range(epochs)):\n",
        "#     train_loss, train_acc = train_step(\n",
        "#         model, train_loader, loss_fn, optimizer, accuracy_fn, device)\n",
        "#     test_loss, test_acc = test_step(\n",
        "#         model, test_loader, loss_fn, accuracy_fn, device)\n",
        "#     print(\n",
        "#         f\"Epoch {epoch+1}/{epochs} - \"\n",
        "#         f\"Train Loss: {train_loss:.4f}, Train Acc: {train_acc:.2f} - \"\n",
        "#         f\"Test Loss: {test_loss:.4f}, Test Acc: {test_acc:.2f}\"\n",
        "#     )\n",
        "\n",
        "\n",
        "epochs = 30  # Increased to 50\n",
        "optimizer = rs.best_params_[\"optimizer\"](model.parameters(), lr=rs.best_params_[\"lr\"])\n",
        "scheduler = torch.optim.lr_scheduler.CosineAnnealingLR(optimizer, T_max=epochs)\n",
        "loss_fn = nn.CrossEntropyLoss()\n",
        "accuracy_fn = Accuracy(task='multiclass', num_classes=10).to(device)\n",
        "\n",
        "\n",
        "for epoch in tqdm(range(epochs)):\n",
        "    train_loss, train_acc = train_step(\n",
        "        model, train_loader, loss_fn, optimizer, accuracy_fn, device)\n",
        "    test_loss, test_acc = test_step(\n",
        "        model, test_loader, loss_fn, accuracy_fn, device)\n",
        "    scheduler.step()  # Update learning rate\n",
        "    print(\n",
        "        f\"Epoch {epoch+1}/{epochs} - \"\n",
        "        f\"Train Loss: {train_loss:.4f}, Train Acc: {train_acc:.2f} - \"\n",
        "        f\"Test Loss: {test_loss:.4f}, Test Acc: {test_acc:.2f}\"\n",
        "    )"
      ],
      "metadata": {
        "colab": {
          "base_uri": "https://localhost:8080/"
        },
        "id": "MmnIF7T0Hdir",
        "outputId": "18626b61-186a-4e03-bec1-ca5199ba4ba9"
      },
      "execution_count": 31,
      "outputs": [
        {
          "output_type": "stream",
          "name": "stderr",
          "text": [
            "  3%|▎         | 1/30 [00:05<02:40,  5.54s/it]"
          ]
        },
        {
          "output_type": "stream",
          "name": "stdout",
          "text": [
            "Epoch 1/30 - Train Loss: 0.4941, Train Acc: 0.83 - Test Loss: 0.5384, Test Acc: 0.82\n"
          ]
        },
        {
          "output_type": "stream",
          "name": "stderr",
          "text": [
            "\r  7%|▋         | 2/30 [00:10<02:32,  5.43s/it]"
          ]
        },
        {
          "output_type": "stream",
          "name": "stdout",
          "text": [
            "Epoch 2/30 - Train Loss: 0.4226, Train Acc: 0.85 - Test Loss: 0.5485, Test Acc: 0.82\n"
          ]
        },
        {
          "output_type": "stream",
          "name": "stderr",
          "text": [
            "\r 10%|█         | 3/30 [00:16<02:27,  5.46s/it]"
          ]
        },
        {
          "output_type": "stream",
          "name": "stdout",
          "text": [
            "Epoch 3/30 - Train Loss: 0.4064, Train Acc: 0.86 - Test Loss: 1.0228, Test Acc: 0.72\n"
          ]
        },
        {
          "output_type": "stream",
          "name": "stderr",
          "text": [
            "\r 13%|█▎        | 4/30 [00:21<02:21,  5.44s/it]"
          ]
        },
        {
          "output_type": "stream",
          "name": "stdout",
          "text": [
            "Epoch 4/30 - Train Loss: 0.4023, Train Acc: 0.86 - Test Loss: 0.7434, Test Acc: 0.78\n"
          ]
        },
        {
          "output_type": "stream",
          "name": "stderr",
          "text": [
            "\r 17%|█▋        | 5/30 [00:27<02:15,  5.43s/it]"
          ]
        },
        {
          "output_type": "stream",
          "name": "stdout",
          "text": [
            "Epoch 5/30 - Train Loss: 0.3897, Train Acc: 0.86 - Test Loss: 0.5977, Test Acc: 0.81\n"
          ]
        },
        {
          "output_type": "stream",
          "name": "stderr",
          "text": [
            "\r 20%|██        | 6/30 [00:32<02:10,  5.45s/it]"
          ]
        },
        {
          "output_type": "stream",
          "name": "stdout",
          "text": [
            "Epoch 6/30 - Train Loss: 0.3798, Train Acc: 0.87 - Test Loss: 0.5522, Test Acc: 0.82\n"
          ]
        },
        {
          "output_type": "stream",
          "name": "stderr",
          "text": [
            "\r 23%|██▎       | 7/30 [00:38<02:05,  5.44s/it]"
          ]
        },
        {
          "output_type": "stream",
          "name": "stdout",
          "text": [
            "Epoch 7/30 - Train Loss: 0.3697, Train Acc: 0.87 - Test Loss: 0.7634, Test Acc: 0.77\n"
          ]
        },
        {
          "output_type": "stream",
          "name": "stderr",
          "text": [
            "\r 27%|██▋       | 8/30 [00:43<02:00,  5.46s/it]"
          ]
        },
        {
          "output_type": "stream",
          "name": "stdout",
          "text": [
            "Epoch 8/30 - Train Loss: 0.3599, Train Acc: 0.87 - Test Loss: 0.4910, Test Acc: 0.84\n"
          ]
        },
        {
          "output_type": "stream",
          "name": "stderr",
          "text": [
            "\r 30%|███       | 9/30 [00:49<01:54,  5.45s/it]"
          ]
        },
        {
          "output_type": "stream",
          "name": "stdout",
          "text": [
            "Epoch 9/30 - Train Loss: 0.3530, Train Acc: 0.88 - Test Loss: 0.4946, Test Acc: 0.84\n"
          ]
        },
        {
          "output_type": "stream",
          "name": "stderr",
          "text": [
            "\r 33%|███▎      | 10/30 [00:54<01:49,  5.48s/it]"
          ]
        },
        {
          "output_type": "stream",
          "name": "stdout",
          "text": [
            "Epoch 10/30 - Train Loss: 0.3343, Train Acc: 0.88 - Test Loss: 0.4954, Test Acc: 0.84\n"
          ]
        },
        {
          "output_type": "stream",
          "name": "stderr",
          "text": [
            "\r 37%|███▋      | 11/30 [01:00<01:43,  5.47s/it]"
          ]
        },
        {
          "output_type": "stream",
          "name": "stdout",
          "text": [
            "Epoch 11/30 - Train Loss: 0.3254, Train Acc: 0.89 - Test Loss: 0.5559, Test Acc: 0.83\n"
          ]
        },
        {
          "output_type": "stream",
          "name": "stderr",
          "text": [
            "\r 40%|████      | 12/30 [01:05<01:39,  5.50s/it]"
          ]
        },
        {
          "output_type": "stream",
          "name": "stdout",
          "text": [
            "Epoch 12/30 - Train Loss: 0.3145, Train Acc: 0.89 - Test Loss: 0.5771, Test Acc: 0.83\n"
          ]
        },
        {
          "output_type": "stream",
          "name": "stderr",
          "text": [
            "\r 43%|████▎     | 13/30 [01:11<01:33,  5.49s/it]"
          ]
        },
        {
          "output_type": "stream",
          "name": "stdout",
          "text": [
            "Epoch 13/30 - Train Loss: 0.3037, Train Acc: 0.89 - Test Loss: 0.4464, Test Acc: 0.86\n"
          ]
        },
        {
          "output_type": "stream",
          "name": "stderr",
          "text": [
            "\r 47%|████▋     | 14/30 [01:16<01:28,  5.52s/it]"
          ]
        },
        {
          "output_type": "stream",
          "name": "stdout",
          "text": [
            "Epoch 14/30 - Train Loss: 0.2941, Train Acc: 0.90 - Test Loss: 0.5160, Test Acc: 0.84\n"
          ]
        },
        {
          "output_type": "stream",
          "name": "stderr",
          "text": [
            "\r 50%|█████     | 15/30 [01:22<01:24,  5.61s/it]"
          ]
        },
        {
          "output_type": "stream",
          "name": "stdout",
          "text": [
            "Epoch 15/30 - Train Loss: 0.2820, Train Acc: 0.90 - Test Loss: 0.4335, Test Acc: 0.86\n"
          ]
        },
        {
          "output_type": "stream",
          "name": "stderr",
          "text": [
            "\r 53%|█████▎    | 16/30 [01:28<01:18,  5.59s/it]"
          ]
        },
        {
          "output_type": "stream",
          "name": "stdout",
          "text": [
            "Epoch 16/30 - Train Loss: 0.2763, Train Acc: 0.90 - Test Loss: 0.4887, Test Acc: 0.85\n"
          ]
        },
        {
          "output_type": "stream",
          "name": "stderr",
          "text": [
            "\r 57%|█████▋    | 17/30 [01:33<01:12,  5.58s/it]"
          ]
        },
        {
          "output_type": "stream",
          "name": "stdout",
          "text": [
            "Epoch 17/30 - Train Loss: 0.2597, Train Acc: 0.91 - Test Loss: 0.4233, Test Acc: 0.87\n"
          ]
        },
        {
          "output_type": "stream",
          "name": "stderr",
          "text": [
            "\r 60%|██████    | 18/30 [01:39<01:06,  5.55s/it]"
          ]
        },
        {
          "output_type": "stream",
          "name": "stdout",
          "text": [
            "Epoch 18/30 - Train Loss: 0.2548, Train Acc: 0.91 - Test Loss: 0.4362, Test Acc: 0.87\n"
          ]
        },
        {
          "output_type": "stream",
          "name": "stderr",
          "text": [
            "\r 63%|██████▎   | 19/30 [01:44<01:02,  5.64s/it]"
          ]
        },
        {
          "output_type": "stream",
          "name": "stdout",
          "text": [
            "Epoch 19/30 - Train Loss: 0.2444, Train Acc: 0.91 - Test Loss: 0.4463, Test Acc: 0.87\n"
          ]
        },
        {
          "output_type": "stream",
          "name": "stderr",
          "text": [
            "\r 67%|██████▋   | 20/30 [01:50<00:55,  5.60s/it]"
          ]
        },
        {
          "output_type": "stream",
          "name": "stdout",
          "text": [
            "Epoch 20/30 - Train Loss: 0.2322, Train Acc: 0.92 - Test Loss: 0.4571, Test Acc: 0.86\n"
          ]
        },
        {
          "output_type": "stream",
          "name": "stderr",
          "text": [
            "\r 70%|███████   | 21/30 [01:56<00:52,  5.79s/it]"
          ]
        },
        {
          "output_type": "stream",
          "name": "stdout",
          "text": [
            "Epoch 21/30 - Train Loss: 0.2259, Train Acc: 0.92 - Test Loss: 0.4192, Test Acc: 0.87\n"
          ]
        },
        {
          "output_type": "stream",
          "name": "stderr",
          "text": [
            "\r 73%|███████▎  | 22/30 [02:02<00:46,  5.78s/it]"
          ]
        },
        {
          "output_type": "stream",
          "name": "stdout",
          "text": [
            "Epoch 22/30 - Train Loss: 0.2180, Train Acc: 0.92 - Test Loss: 0.4086, Test Acc: 0.88\n"
          ]
        },
        {
          "output_type": "stream",
          "name": "stderr",
          "text": [
            "\r 77%|███████▋  | 23/30 [02:08<00:40,  5.73s/it]"
          ]
        },
        {
          "output_type": "stream",
          "name": "stdout",
          "text": [
            "Epoch 23/30 - Train Loss: 0.2099, Train Acc: 0.93 - Test Loss: 0.4101, Test Acc: 0.88\n"
          ]
        },
        {
          "output_type": "stream",
          "name": "stderr",
          "text": [
            "\r 80%|████████  | 24/30 [02:13<00:34,  5.67s/it]"
          ]
        },
        {
          "output_type": "stream",
          "name": "stdout",
          "text": [
            "Epoch 24/30 - Train Loss: 0.2058, Train Acc: 0.93 - Test Loss: 0.4059, Test Acc: 0.88\n"
          ]
        },
        {
          "output_type": "stream",
          "name": "stderr",
          "text": [
            "\r 83%|████████▎ | 25/30 [02:19<00:28,  5.67s/it]"
          ]
        },
        {
          "output_type": "stream",
          "name": "stdout",
          "text": [
            "Epoch 25/30 - Train Loss: 0.1959, Train Acc: 0.93 - Test Loss: 0.4045, Test Acc: 0.88\n"
          ]
        },
        {
          "output_type": "stream",
          "name": "stderr",
          "text": [
            "\r 87%|████████▋ | 26/30 [02:24<00:22,  5.63s/it]"
          ]
        },
        {
          "output_type": "stream",
          "name": "stdout",
          "text": [
            "Epoch 26/30 - Train Loss: 0.1953, Train Acc: 0.93 - Test Loss: 0.4089, Test Acc: 0.88\n"
          ]
        },
        {
          "output_type": "stream",
          "name": "stderr",
          "text": [
            "\r 90%|█████████ | 27/30 [02:30<00:16,  5.63s/it]"
          ]
        },
        {
          "output_type": "stream",
          "name": "stdout",
          "text": [
            "Epoch 27/30 - Train Loss: 0.1934, Train Acc: 0.93 - Test Loss: 0.3993, Test Acc: 0.88\n"
          ]
        },
        {
          "output_type": "stream",
          "name": "stderr",
          "text": [
            "\r 93%|█████████▎| 28/30 [02:35<00:11,  5.60s/it]"
          ]
        },
        {
          "output_type": "stream",
          "name": "stdout",
          "text": [
            "Epoch 28/30 - Train Loss: 0.1936, Train Acc: 0.93 - Test Loss: 0.4012, Test Acc: 0.88\n"
          ]
        },
        {
          "output_type": "stream",
          "name": "stderr",
          "text": [
            "\r 97%|█████████▋| 29/30 [02:41<00:05,  5.61s/it]"
          ]
        },
        {
          "output_type": "stream",
          "name": "stdout",
          "text": [
            "Epoch 29/30 - Train Loss: 0.1881, Train Acc: 0.93 - Test Loss: 0.3979, Test Acc: 0.88\n"
          ]
        },
        {
          "output_type": "stream",
          "name": "stderr",
          "text": [
            "100%|██████████| 30/30 [02:47<00:00,  5.57s/it]"
          ]
        },
        {
          "output_type": "stream",
          "name": "stdout",
          "text": [
            "Epoch 30/30 - Train Loss: 0.1860, Train Acc: 0.93 - Test Loss: 0.3953, Test Acc: 0.88\n"
          ]
        },
        {
          "output_type": "stream",
          "name": "stderr",
          "text": [
            "\n"
          ]
        }
      ]
    },
    {
      "cell_type": "code",
      "source": [
        "train_acc, test_acc"
      ],
      "metadata": {
        "colab": {
          "base_uri": "https://localhost:8080/"
        },
        "id": "JuWgTuNaKWNp",
        "outputId": "f9c7d63c-bb3d-4247-8afa-ee68ab2ed119"
      },
      "execution_count": 32,
      "outputs": [
        {
          "output_type": "execute_result",
          "data": {
            "text/plain": [
              "(0.9334315095846646, 0.8817246835443038)"
            ]
          },
          "metadata": {},
          "execution_count": 32
        }
      ]
    },
    {
      "cell_type": "code",
      "source": [
        "from torchmetrics.classification import MulticlassConfusionMatrix, MulticlassAccuracy\n",
        "# from torchmetrics.functional import precision_recall\n",
        "\n",
        "# Number of classes in CIFAR-10\n",
        "num_classes = 10\n",
        "\n",
        "# Initialize confusion matrix and accuracy metric\n",
        "confusion_matrix = MulticlassConfusionMatrix(num_classes=num_classes).to(device)\n",
        "accuracy_metric = MulticlassAccuracy(num_classes=num_classes).to(device)\n",
        "\n",
        "# Set model to evaluation mode\n",
        "model.eval()\n",
        "\n",
        "# Initialize predictions and labels\n",
        "all_preds = []\n",
        "all_labels = []\n",
        "\n",
        "# Disable gradient computations for evaluation\n",
        "with torch.no_grad():\n",
        "    for images, labels in test_loader:\n",
        "        images, labels = images.to(device), labels.to(device)\n",
        "\n",
        "        # Forward pass\n",
        "        outputs = model(images)\n",
        "        preds = outputs.argmax(dim=1)  # Predicted classes\n",
        "\n",
        "        # Update metrics\n",
        "        confusion_matrix.update(preds, labels)\n",
        "        accuracy_metric.update(preds, labels)\n",
        "\n",
        "        # Collect predictions and labels for debugging\n",
        "        all_preds.append(preds.cpu())\n",
        "        all_labels.append(labels.cpu())\n",
        "\n",
        "# Compute confusion matrix and accuracy\n",
        "final_conf_matrix = confusion_matrix.compute().cpu()\n",
        "final_accuracy = accuracy_metric.compute().item()\n",
        "\n",
        "# Convert confusion matrix to percentages\n",
        "conf_matrix_percent = final_conf_matrix / final_conf_matrix.sum(axis=1, keepdims=True)\n",
        "\n",
        "# Print results\n",
        "print(\"\\nPyTorch-Native Accuracy:\", final_accuracy)\n",
        "print(\"\\nConfusion Matrix (Counts):\\n\", final_conf_matrix)\n",
        "print(\"\\nConfusion Matrix (Percentages):\\n\", conf_matrix_percent)\n",
        "\n",
        "# Per-class Precision and Recall\n",
        "precision, recall = precision_recall(final_conf_matrix, average=None)\n",
        "for i in range(num_classes):\n",
        "    print(f\"Class {i} - Precision: {precision[i]:.4f}, Recall: {recall[i]:.4f}\")"
      ],
      "metadata": {
        "colab": {
          "base_uri": "https://localhost:8080/",
          "height": 859
        },
        "id": "iLU3HYVkHdmU",
        "outputId": "03c499fd-9877-40d5-f8d1-8426d29eb574"
      },
      "execution_count": 36,
      "outputs": [
        {
          "output_type": "stream",
          "name": "stdout",
          "text": [
            "\n",
            "PyTorch-Native Accuracy: 0.2352999895811081\n",
            "\n",
            "Confusion Matrix (Counts):\n",
            " tensor([[ 55,   0,   1, 246,  55,   1,  21,   0, 621,   0],\n",
            "        [  2,   4,   0, 546, 140,   9,  20,   0, 276,   3],\n",
            "        [  4,   0,  21, 673,  82,   4,  26,   0, 190,   0],\n",
            "        [  0,   0,   1, 958,  10,   0,   4,   0,  27,   0],\n",
            "        [  1,   0,   0, 639, 292,   0,   0,   0,  68,   0],\n",
            "        [  0,   0,   0, 893,  40,  46,   2,   0,  19,   0],\n",
            "        [  0,   0,   0, 776,  67,   0, 140,   0,  17,   0],\n",
            "        [  0,   0,   0, 504, 359,  28,   2,   6, 101,   0],\n",
            "        [  1,   0,   0, 179,   6,   1,   3,   0, 810,   0],\n",
            "        [  0,   0,   0, 575,  78,  25,  10,   0, 291,  21]])\n",
            "\n",
            "Confusion Matrix (Percentages):\n",
            " tensor([[0.0550, 0.0000, 0.0010, 0.2460, 0.0550, 0.0010, 0.0210, 0.0000, 0.6210,\n",
            "         0.0000],\n",
            "        [0.0020, 0.0040, 0.0000, 0.5460, 0.1400, 0.0090, 0.0200, 0.0000, 0.2760,\n",
            "         0.0030],\n",
            "        [0.0040, 0.0000, 0.0210, 0.6730, 0.0820, 0.0040, 0.0260, 0.0000, 0.1900,\n",
            "         0.0000],\n",
            "        [0.0000, 0.0000, 0.0010, 0.9580, 0.0100, 0.0000, 0.0040, 0.0000, 0.0270,\n",
            "         0.0000],\n",
            "        [0.0010, 0.0000, 0.0000, 0.6390, 0.2920, 0.0000, 0.0000, 0.0000, 0.0680,\n",
            "         0.0000],\n",
            "        [0.0000, 0.0000, 0.0000, 0.8930, 0.0400, 0.0460, 0.0020, 0.0000, 0.0190,\n",
            "         0.0000],\n",
            "        [0.0000, 0.0000, 0.0000, 0.7760, 0.0670, 0.0000, 0.1400, 0.0000, 0.0170,\n",
            "         0.0000],\n",
            "        [0.0000, 0.0000, 0.0000, 0.5040, 0.3590, 0.0280, 0.0020, 0.0060, 0.1010,\n",
            "         0.0000],\n",
            "        [0.0010, 0.0000, 0.0000, 0.1790, 0.0060, 0.0010, 0.0030, 0.0000, 0.8100,\n",
            "         0.0000],\n",
            "        [0.0000, 0.0000, 0.0000, 0.5750, 0.0780, 0.0250, 0.0100, 0.0000, 0.2910,\n",
            "         0.0210]])\n"
          ]
        },
        {
          "output_type": "error",
          "ename": "NameError",
          "evalue": "name 'precision_recall' is not defined",
          "traceback": [
            "\u001b[0;31m---------------------------------------------------------------------------\u001b[0m",
            "\u001b[0;31mNameError\u001b[0m                                 Traceback (most recent call last)",
            "\u001b[0;32m/tmp/ipython-input-3612238987.py\u001b[0m in \u001b[0;36m<cell line: 0>\u001b[0;34m()\u001b[0m\n\u001b[1;32m     46\u001b[0m \u001b[0;34m\u001b[0m\u001b[0m\n\u001b[1;32m     47\u001b[0m \u001b[0;31m# Per-class Precision and Recall\u001b[0m\u001b[0;34m\u001b[0m\u001b[0;34m\u001b[0m\u001b[0m\n\u001b[0;32m---> 48\u001b[0;31m \u001b[0mprecision\u001b[0m\u001b[0;34m,\u001b[0m \u001b[0mrecall\u001b[0m \u001b[0;34m=\u001b[0m \u001b[0mprecision_recall\u001b[0m\u001b[0;34m(\u001b[0m\u001b[0mfinal_conf_matrix\u001b[0m\u001b[0;34m,\u001b[0m \u001b[0maverage\u001b[0m\u001b[0;34m=\u001b[0m\u001b[0;32mNone\u001b[0m\u001b[0;34m)\u001b[0m\u001b[0;34m\u001b[0m\u001b[0;34m\u001b[0m\u001b[0m\n\u001b[0m\u001b[1;32m     49\u001b[0m \u001b[0;32mfor\u001b[0m \u001b[0mi\u001b[0m \u001b[0;32min\u001b[0m \u001b[0mrange\u001b[0m\u001b[0;34m(\u001b[0m\u001b[0mnum_classes\u001b[0m\u001b[0;34m)\u001b[0m\u001b[0;34m:\u001b[0m\u001b[0;34m\u001b[0m\u001b[0;34m\u001b[0m\u001b[0m\n\u001b[1;32m     50\u001b[0m     \u001b[0mprint\u001b[0m\u001b[0;34m(\u001b[0m\u001b[0;34mf\"Class {i} - Precision: {precision[i]:.4f}, Recall: {recall[i]:.4f}\"\u001b[0m\u001b[0;34m)\u001b[0m\u001b[0;34m\u001b[0m\u001b[0;34m\u001b[0m\u001b[0m\n",
            "\u001b[0;31mNameError\u001b[0m: name 'precision_recall' is not defined"
          ]
        }
      ]
    },
    {
      "cell_type": "code",
      "source": [
        "print(\"Shape of all_preds:\", all_preds.shape)\n",
        "print(\"Shape of all_labels:\", all_labels.shape)\n",
        "print(\"Sample predictions:\", all_preds[:10])\n",
        "print(\"Sample labels:\", all_labels[:10])"
      ],
      "metadata": {
        "colab": {
          "base_uri": "https://localhost:8080/",
          "height": 198
        },
        "id": "0Bin8fhHbe2b",
        "outputId": "193eb892-5573-41c4-d91b-47acadd77d0b"
      },
      "execution_count": 38,
      "outputs": [
        {
          "output_type": "error",
          "ename": "AttributeError",
          "evalue": "'list' object has no attribute 'shape'",
          "traceback": [
            "\u001b[0;31m---------------------------------------------------------------------------\u001b[0m",
            "\u001b[0;31mAttributeError\u001b[0m                            Traceback (most recent call last)",
            "\u001b[0;32m/tmp/ipython-input-4138788594.py\u001b[0m in \u001b[0;36m<cell line: 0>\u001b[0;34m()\u001b[0m\n\u001b[0;32m----> 1\u001b[0;31m \u001b[0mprint\u001b[0m\u001b[0;34m(\u001b[0m\u001b[0;34m\"Shape of all_preds:\"\u001b[0m\u001b[0;34m,\u001b[0m \u001b[0mall_preds\u001b[0m\u001b[0;34m.\u001b[0m\u001b[0mshape\u001b[0m\u001b[0;34m)\u001b[0m\u001b[0;34m\u001b[0m\u001b[0;34m\u001b[0m\u001b[0m\n\u001b[0m\u001b[1;32m      2\u001b[0m \u001b[0mprint\u001b[0m\u001b[0;34m(\u001b[0m\u001b[0;34m\"Shape of all_labels:\"\u001b[0m\u001b[0;34m,\u001b[0m \u001b[0mall_labels\u001b[0m\u001b[0;34m.\u001b[0m\u001b[0mshape\u001b[0m\u001b[0;34m)\u001b[0m\u001b[0;34m\u001b[0m\u001b[0;34m\u001b[0m\u001b[0m\n\u001b[1;32m      3\u001b[0m \u001b[0mprint\u001b[0m\u001b[0;34m(\u001b[0m\u001b[0;34m\"Sample predictions:\"\u001b[0m\u001b[0;34m,\u001b[0m \u001b[0mall_preds\u001b[0m\u001b[0;34m[\u001b[0m\u001b[0;34m:\u001b[0m\u001b[0;36m10\u001b[0m\u001b[0;34m]\u001b[0m\u001b[0;34m)\u001b[0m\u001b[0;34m\u001b[0m\u001b[0;34m\u001b[0m\u001b[0m\n\u001b[1;32m      4\u001b[0m \u001b[0mprint\u001b[0m\u001b[0;34m(\u001b[0m\u001b[0;34m\"Sample labels:\"\u001b[0m\u001b[0;34m,\u001b[0m \u001b[0mall_labels\u001b[0m\u001b[0;34m[\u001b[0m\u001b[0;34m:\u001b[0m\u001b[0;36m10\u001b[0m\u001b[0;34m]\u001b[0m\u001b[0;34m)\u001b[0m\u001b[0;34m\u001b[0m\u001b[0;34m\u001b[0m\u001b[0m\n",
            "\u001b[0;31mAttributeError\u001b[0m: 'list' object has no attribute 'shape'"
          ]
        }
      ]
    },
    {
      "cell_type": "code",
      "source": [
        "from sklearn.metrics import accuracy_score, confusion_matrix, classification_report\n",
        "\n",
        "all_preds_np = all_preds.numpy()\n",
        "all_labels_np = all_labels.numpy()\n",
        "\n",
        "print(\"\\nAccuracy (sklearn):\", accuracy_score(all_labels_np, all_preds_np))\n",
        "print(\"\\nConfusion Matrix (sklearn):\\n\", confusion_matrix(all_labels_np, all_preds_np))\n",
        "print(\"\\nClassification Report (sklearn):\\n\", classification_report(all_labels_np, all_preds_np))"
      ],
      "metadata": {
        "colab": {
          "base_uri": "https://localhost:8080/",
          "height": 216
        },
        "id": "Vn2rpXOcbjzK",
        "outputId": "38dcceb7-73fe-467f-8c8c-cbf2e275a268"
      },
      "execution_count": 39,
      "outputs": [
        {
          "output_type": "error",
          "ename": "AttributeError",
          "evalue": "'list' object has no attribute 'numpy'",
          "traceback": [
            "\u001b[0;31m---------------------------------------------------------------------------\u001b[0m",
            "\u001b[0;31mAttributeError\u001b[0m                            Traceback (most recent call last)",
            "\u001b[0;32m/tmp/ipython-input-2071146008.py\u001b[0m in \u001b[0;36m<cell line: 0>\u001b[0;34m()\u001b[0m\n\u001b[1;32m      1\u001b[0m \u001b[0;32mfrom\u001b[0m \u001b[0msklearn\u001b[0m\u001b[0;34m.\u001b[0m\u001b[0mmetrics\u001b[0m \u001b[0;32mimport\u001b[0m \u001b[0maccuracy_score\u001b[0m\u001b[0;34m,\u001b[0m \u001b[0mconfusion_matrix\u001b[0m\u001b[0;34m,\u001b[0m \u001b[0mclassification_report\u001b[0m\u001b[0;34m\u001b[0m\u001b[0;34m\u001b[0m\u001b[0m\n\u001b[1;32m      2\u001b[0m \u001b[0;34m\u001b[0m\u001b[0m\n\u001b[0;32m----> 3\u001b[0;31m \u001b[0mall_preds_np\u001b[0m \u001b[0;34m=\u001b[0m \u001b[0mall_preds\u001b[0m\u001b[0;34m.\u001b[0m\u001b[0mnumpy\u001b[0m\u001b[0;34m(\u001b[0m\u001b[0;34m)\u001b[0m\u001b[0;34m\u001b[0m\u001b[0;34m\u001b[0m\u001b[0m\n\u001b[0m\u001b[1;32m      4\u001b[0m \u001b[0mall_labels_np\u001b[0m \u001b[0;34m=\u001b[0m \u001b[0mall_labels\u001b[0m\u001b[0;34m.\u001b[0m\u001b[0mnumpy\u001b[0m\u001b[0;34m(\u001b[0m\u001b[0;34m)\u001b[0m\u001b[0;34m\u001b[0m\u001b[0;34m\u001b[0m\u001b[0m\n\u001b[1;32m      5\u001b[0m \u001b[0;34m\u001b[0m\u001b[0m\n",
            "\u001b[0;31mAttributeError\u001b[0m: 'list' object has no attribute 'numpy'"
          ]
        }
      ]
    },
    {
      "cell_type": "code",
      "metadata": {
        "colab": {
          "base_uri": "https://localhost:8080/"
        },
        "id": "1192e94e",
        "outputId": "763e1d46-1559-4d84-996b-6b96311d02de"
      },
      "source": [
        "# 11. Eval Mode for Final Predix, Metrics on Best & Fully Trained Model\n",
        "\n",
        "model.eval()\n",
        "\n",
        "all_preds = []\n",
        "all_labels = []\n",
        "\n",
        "with torch.no_grad():\n",
        "    for images, labels in test_loader:\n",
        "        images, labels = images.to(device), labels.to(device)\n",
        "        outputs = model(images)\n",
        "        preds = outputs.argmax(dim=1)\n",
        "        all_preds.append(preds.cpu())\n",
        "        all_labels.append(labels.cpu())\n",
        "\n",
        "all_preds = torch.cat(all_preds)\n",
        "all_labels = torch.cat(all_labels)\n",
        "\n",
        "print(\"\\nAccuracy:\\n\", accuracy_score(all_labels, all_preds))\n",
        "print('\\n=================================================================\\n')\n",
        "print('Confusion Matrix:\\n', confusion_matrix(all_labels, all_preds))\n",
        "print('\\n=================================================================\\n')\n",
        "print(\"Classification Report:\\n\", classification_report(all_labels, all_preds))"
      ],
      "execution_count": 35,
      "outputs": [
        {
          "output_type": "stream",
          "name": "stdout",
          "text": [
            "\n",
            "Accuracy:\n",
            " 0.2353\n",
            "\n",
            "=================================================================\n",
            "\n",
            "Confusion Matrix:\n",
            " [[ 55   0   1 246  55   1  21   0 621   0]\n",
            " [  2   4   0 546 140   9  20   0 276   3]\n",
            " [  4   0  21 673  82   4  26   0 190   0]\n",
            " [  0   0   1 958  10   0   4   0  27   0]\n",
            " [  1   0   0 639 292   0   0   0  68   0]\n",
            " [  0   0   0 893  40  46   2   0  19   0]\n",
            " [  0   0   0 776  67   0 140   0  17   0]\n",
            " [  0   0   0 504 359  28   2   6 101   0]\n",
            " [  1   0   0 179   6   1   3   0 810   0]\n",
            " [  0   0   0 575  78  25  10   0 291  21]]\n",
            "\n",
            "=================================================================\n",
            "\n",
            "Classification Report:\n",
            "               precision    recall  f1-score   support\n",
            "\n",
            "           0       0.87      0.06      0.10      1000\n",
            "           1       1.00      0.00      0.01      1000\n",
            "           2       0.91      0.02      0.04      1000\n",
            "           3       0.16      0.96      0.27      1000\n",
            "           4       0.26      0.29      0.27      1000\n",
            "           5       0.40      0.05      0.08      1000\n",
            "           6       0.61      0.14      0.23      1000\n",
            "           7       1.00      0.01      0.01      1000\n",
            "           8       0.33      0.81      0.47      1000\n",
            "           9       0.88      0.02      0.04      1000\n",
            "\n",
            "    accuracy                           0.24     10000\n",
            "   macro avg       0.64      0.24      0.15     10000\n",
            "weighted avg       0.64      0.24      0.15     10000\n",
            "\n"
          ]
        }
      ]
    },
    {
      "cell_type": "code",
      "metadata": {
        "colab": {
          "base_uri": "https://localhost:8080/",
          "height": 1000
        },
        "id": "fcb6f7f7",
        "outputId": "8cfe36fb-4ce8-4580-d9f7-6eefecbb20cf"
      },
      "source": [
        "# 12. Final Confusion Matrix for Best & Fully Trained Model\n",
        "\n",
        "fig, ax = plt.subplots(figsize=(12, 10))\n",
        "\n",
        "disp = ConfusionMatrixDisplay.from_predictions(\n",
        "    all_labels, all_preds\n",
        "    , display_labels=dataset.classes\n",
        "    , normalize='true'\n",
        ")\n",
        "\n",
        "disp.plot(ax=ax, cmap=\"Blues\", xticks_rotation=45)\n",
        "plt.title(\"Confusion Matrix for CIFAR-10 - Final Model\")\n",
        "plt.show();"
      ],
      "execution_count": 37,
      "outputs": [
        {
          "output_type": "error",
          "ename": "ValueError",
          "evalue": "unknown is not supported",
          "traceback": [
            "\u001b[0;31m---------------------------------------------------------------------------\u001b[0m",
            "\u001b[0;31mValueError\u001b[0m                                Traceback (most recent call last)",
            "\u001b[0;32m/tmp/ipython-input-3248426242.py\u001b[0m in \u001b[0;36m<cell line: 0>\u001b[0;34m()\u001b[0m\n\u001b[1;32m      3\u001b[0m \u001b[0mfig\u001b[0m\u001b[0;34m,\u001b[0m \u001b[0max\u001b[0m \u001b[0;34m=\u001b[0m \u001b[0mplt\u001b[0m\u001b[0;34m.\u001b[0m\u001b[0msubplots\u001b[0m\u001b[0;34m(\u001b[0m\u001b[0mfigsize\u001b[0m\u001b[0;34m=\u001b[0m\u001b[0;34m(\u001b[0m\u001b[0;36m12\u001b[0m\u001b[0;34m,\u001b[0m \u001b[0;36m10\u001b[0m\u001b[0;34m)\u001b[0m\u001b[0;34m)\u001b[0m\u001b[0;34m\u001b[0m\u001b[0;34m\u001b[0m\u001b[0m\n\u001b[1;32m      4\u001b[0m \u001b[0;34m\u001b[0m\u001b[0m\n\u001b[0;32m----> 5\u001b[0;31m disp = ConfusionMatrixDisplay.from_predictions(\n\u001b[0m\u001b[1;32m      6\u001b[0m     \u001b[0mall_labels\u001b[0m\u001b[0;34m,\u001b[0m \u001b[0mall_preds\u001b[0m\u001b[0;34m\u001b[0m\u001b[0;34m\u001b[0m\u001b[0m\n\u001b[1;32m      7\u001b[0m     \u001b[0;34m,\u001b[0m \u001b[0mdisplay_labels\u001b[0m\u001b[0;34m=\u001b[0m\u001b[0mdataset\u001b[0m\u001b[0;34m.\u001b[0m\u001b[0mclasses\u001b[0m\u001b[0;34m\u001b[0m\u001b[0;34m\u001b[0m\u001b[0m\n",
            "\u001b[0;32m/usr/local/lib/python3.12/dist-packages/sklearn/metrics/_plot/confusion_matrix.py\u001b[0m in \u001b[0;36mfrom_predictions\u001b[0;34m(cls, y_true, y_pred, labels, sample_weight, normalize, display_labels, include_values, xticks_rotation, values_format, cmap, ax, colorbar, im_kw, text_kw)\u001b[0m\n\u001b[1;32m    465\u001b[0m                 \u001b[0mdisplay_labels\u001b[0m \u001b[0;34m=\u001b[0m \u001b[0mlabels\u001b[0m\u001b[0;34m\u001b[0m\u001b[0;34m\u001b[0m\u001b[0m\n\u001b[1;32m    466\u001b[0m \u001b[0;34m\u001b[0m\u001b[0m\n\u001b[0;32m--> 467\u001b[0;31m         cm = confusion_matrix(\n\u001b[0m\u001b[1;32m    468\u001b[0m             \u001b[0my_true\u001b[0m\u001b[0;34m,\u001b[0m\u001b[0;34m\u001b[0m\u001b[0;34m\u001b[0m\u001b[0m\n\u001b[1;32m    469\u001b[0m             \u001b[0my_pred\u001b[0m\u001b[0;34m,\u001b[0m\u001b[0;34m\u001b[0m\u001b[0;34m\u001b[0m\u001b[0m\n",
            "\u001b[0;32m/usr/local/lib/python3.12/dist-packages/sklearn/utils/_param_validation.py\u001b[0m in \u001b[0;36mwrapper\u001b[0;34m(*args, **kwargs)\u001b[0m\n\u001b[1;32m    214\u001b[0m                     )\n\u001b[1;32m    215\u001b[0m                 ):\n\u001b[0;32m--> 216\u001b[0;31m                     \u001b[0;32mreturn\u001b[0m \u001b[0mfunc\u001b[0m\u001b[0;34m(\u001b[0m\u001b[0;34m*\u001b[0m\u001b[0margs\u001b[0m\u001b[0;34m,\u001b[0m \u001b[0;34m**\u001b[0m\u001b[0mkwargs\u001b[0m\u001b[0;34m)\u001b[0m\u001b[0;34m\u001b[0m\u001b[0;34m\u001b[0m\u001b[0m\n\u001b[0m\u001b[1;32m    217\u001b[0m             \u001b[0;32mexcept\u001b[0m \u001b[0mInvalidParameterError\u001b[0m \u001b[0;32mas\u001b[0m \u001b[0me\u001b[0m\u001b[0;34m:\u001b[0m\u001b[0;34m\u001b[0m\u001b[0;34m\u001b[0m\u001b[0m\n\u001b[1;32m    218\u001b[0m                 \u001b[0;31m# When the function is just a wrapper around an estimator, we allow\u001b[0m\u001b[0;34m\u001b[0m\u001b[0;34m\u001b[0m\u001b[0m\n",
            "\u001b[0;32m/usr/local/lib/python3.12/dist-packages/sklearn/metrics/_classification.py\u001b[0m in \u001b[0;36mconfusion_matrix\u001b[0;34m(y_true, y_pred, labels, sample_weight, normalize)\u001b[0m\n\u001b[1;32m    338\u001b[0m     \"\"\"\n\u001b[1;32m    339\u001b[0m     \u001b[0my_true\u001b[0m\u001b[0;34m,\u001b[0m \u001b[0my_pred\u001b[0m \u001b[0;34m=\u001b[0m \u001b[0mattach_unique\u001b[0m\u001b[0;34m(\u001b[0m\u001b[0my_true\u001b[0m\u001b[0;34m,\u001b[0m \u001b[0my_pred\u001b[0m\u001b[0;34m)\u001b[0m\u001b[0;34m\u001b[0m\u001b[0;34m\u001b[0m\u001b[0m\n\u001b[0;32m--> 340\u001b[0;31m     \u001b[0my_type\u001b[0m\u001b[0;34m,\u001b[0m \u001b[0my_true\u001b[0m\u001b[0;34m,\u001b[0m \u001b[0my_pred\u001b[0m \u001b[0;34m=\u001b[0m \u001b[0m_check_targets\u001b[0m\u001b[0;34m(\u001b[0m\u001b[0my_true\u001b[0m\u001b[0;34m,\u001b[0m \u001b[0my_pred\u001b[0m\u001b[0;34m)\u001b[0m\u001b[0;34m\u001b[0m\u001b[0;34m\u001b[0m\u001b[0m\n\u001b[0m\u001b[1;32m    341\u001b[0m     \u001b[0;32mif\u001b[0m \u001b[0my_type\u001b[0m \u001b[0;32mnot\u001b[0m \u001b[0;32min\u001b[0m \u001b[0;34m(\u001b[0m\u001b[0;34m\"binary\"\u001b[0m\u001b[0;34m,\u001b[0m \u001b[0;34m\"multiclass\"\u001b[0m\u001b[0;34m)\u001b[0m\u001b[0;34m:\u001b[0m\u001b[0;34m\u001b[0m\u001b[0;34m\u001b[0m\u001b[0m\n\u001b[1;32m    342\u001b[0m         \u001b[0;32mraise\u001b[0m \u001b[0mValueError\u001b[0m\u001b[0;34m(\u001b[0m\u001b[0;34m\"%s is not supported\"\u001b[0m \u001b[0;34m%\u001b[0m \u001b[0my_type\u001b[0m\u001b[0;34m)\u001b[0m\u001b[0;34m\u001b[0m\u001b[0;34m\u001b[0m\u001b[0m\n",
            "\u001b[0;32m/usr/local/lib/python3.12/dist-packages/sklearn/metrics/_classification.py\u001b[0m in \u001b[0;36m_check_targets\u001b[0;34m(y_true, y_pred)\u001b[0m\n\u001b[1;32m    116\u001b[0m     \u001b[0;31m# No metrics support \"multiclass-multioutput\" format\u001b[0m\u001b[0;34m\u001b[0m\u001b[0;34m\u001b[0m\u001b[0m\n\u001b[1;32m    117\u001b[0m     \u001b[0;32mif\u001b[0m \u001b[0my_type\u001b[0m \u001b[0;32mnot\u001b[0m \u001b[0;32min\u001b[0m \u001b[0;34m[\u001b[0m\u001b[0;34m\"binary\"\u001b[0m\u001b[0;34m,\u001b[0m \u001b[0;34m\"multiclass\"\u001b[0m\u001b[0;34m,\u001b[0m \u001b[0;34m\"multilabel-indicator\"\u001b[0m\u001b[0;34m]\u001b[0m\u001b[0;34m:\u001b[0m\u001b[0;34m\u001b[0m\u001b[0;34m\u001b[0m\u001b[0m\n\u001b[0;32m--> 118\u001b[0;31m         \u001b[0;32mraise\u001b[0m \u001b[0mValueError\u001b[0m\u001b[0;34m(\u001b[0m\u001b[0;34m\"{0} is not supported\"\u001b[0m\u001b[0;34m.\u001b[0m\u001b[0mformat\u001b[0m\u001b[0;34m(\u001b[0m\u001b[0my_type\u001b[0m\u001b[0;34m)\u001b[0m\u001b[0;34m)\u001b[0m\u001b[0;34m\u001b[0m\u001b[0;34m\u001b[0m\u001b[0m\n\u001b[0m\u001b[1;32m    119\u001b[0m \u001b[0;34m\u001b[0m\u001b[0m\n\u001b[1;32m    120\u001b[0m     \u001b[0;32mif\u001b[0m \u001b[0my_type\u001b[0m \u001b[0;32min\u001b[0m \u001b[0;34m[\u001b[0m\u001b[0;34m\"binary\"\u001b[0m\u001b[0;34m,\u001b[0m \u001b[0;34m\"multiclass\"\u001b[0m\u001b[0;34m]\u001b[0m\u001b[0;34m:\u001b[0m\u001b[0;34m\u001b[0m\u001b[0;34m\u001b[0m\u001b[0m\n",
            "\u001b[0;31mValueError\u001b[0m: unknown is not supported"
          ]
        },
        {
          "output_type": "display_data",
          "data": {
            "text/plain": [
              "<Figure size 1200x1000 with 1 Axes>"
            ],
            "image/png": "[encoded data removed]"
          },
          "metadata": {}
        }
      ]
    }
  ]
}