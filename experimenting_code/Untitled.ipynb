{
 "cells": [
  {
   "cell_type": "code",
   "execution_count": 1,
   "id": "3f4cc02a",
   "metadata": {},
   "outputs": [],
   "source": [
    "# Imports\n",
    "\n",
    "import os\n",
    "import re\n",
    "import torch\n",
    "import torch.nn as nn\n",
    "from torch.utils.data import Dataset, DataLoader\n",
    "from torch.nn.utils.rnn import pad_sequence\n",
    "from collections import Counter\n",
    "from tqdm import tqdm\n",
    "\n",
    "import warnings\n",
    "warnings.simplefilter('ignore')\n",
    "\n",
    "from IPython.core.interactiveshell import InteractiveShell\n",
    "InteractiveShell.ast_node_interactivity = 'all'"
   ]
  },
  {
   "cell_type": "code",
   "execution_count": 7,
   "id": "cf08bef7",
   "metadata": {},
   "outputs": [
    {
     "name": "stdout",
     "output_type": "stream",
     "text": [
      "mps\n"
     ]
    }
   ],
   "source": [
    "if torch.cuda.is_available():\n",
    "    device = \"cuda\" # Use NVIDIA GPU (if available)\n",
    "elif torch.backends.mps.is_available():\n",
    "    device = \"mps\" # Use Apple Silicon GPU (if available)\n",
    "else:\n",
    "    device = \"cpu\" # Default to CPU if no GPU is available\n",
    "    \n",
    "print(device)"
   ]
  },
  {
   "cell_type": "code",
   "execution_count": 2,
   "id": "01db5914",
   "metadata": {},
   "outputs": [],
   "source": [
    "# Custom Dataset to Read Local IMDB Files\n",
    "\n",
    "class IMDBDataset(Dataset):\n",
    "    \"\"\"\n",
    "    Custom PyTorch Dataset for IMDB movie reviews.\n",
    "    Expects directory structure with 'pos' and 'neg' subfolders.\n",
    "    \"\"\"\n",
    "    def __init__(self, root_dir, vocab=None, tokenizer=None, max_length=256):\n",
    "        self.root_dir = root_dir\n",
    "        self.max_length = max_length\n",
    "\n",
    "        # Collect all file paths & labels\n",
    "        self.samples = []\n",
    "        for label_name in [\"pos\", \"neg\"]:\n",
    "            label = 1 if label_name == \"pos\" else 0\n",
    "            folder_path = os.path.join(root_dir, label_name)\n",
    "            for filename in os.listdir(folder_path):\n",
    "                if filename.endswith(\".txt\"):\n",
    "                    self.samples.append(\n",
    "                        (os.path.join(folder_path, filename), label)\n",
    "                    )\n",
    "\n",
    "        # Use provided tokenizer or fall back to a simple regex-based one\n",
    "        self.tokenizer = tokenizer if tokenizer else self.basic_tokenizer\n",
    "\n",
    "        # Build vocab if not provided (e.g., training split)\n",
    "        if vocab:\n",
    "            self.vocab = vocab\n",
    "        else:\n",
    "            self.vocab = self.build_vocab()\n",
    "\n",
    "    def basic_tokenizer(self, text):\n",
    "        \"\"\"\n",
    "        Basic tokenizer: \n",
    "        - Lowercases\n",
    "        - Splits on word boundaries\n",
    "        - Strips punctuation\n",
    "        \"\"\"\n",
    "        text = text.lower()\n",
    "        tokens = re.findall(r\"\\b\\w+\\b\", text)\n",
    "        return tokens\n",
    "\n",
    "    def build_vocab(self, min_freq=2):\n",
    "        \"\"\"\n",
    "        Construct a vocabulary dictionary from the training set.\n",
    "        Rare tokens (freq < min_freq) are ignored.\n",
    "        \"\"\"\n",
    "        counter = Counter()\n",
    "        print(\" Building vocabulary...\")\n",
    "        for path, _ in tqdm(self.samples):\n",
    "            with open(path, \"r\", encoding=\"utf-8\") as f:\n",
    "                tokens = self.tokenizer(f.read())\n",
    "                counter.update(tokens)\n",
    "\n",
    "        # Reserve 0 for <PAD>, 1 for <UNK>\n",
    "        vocab = {\"<PAD>\": 0, \"<UNK>\": 1}\n",
    "        for token, freq in counter.items():\n",
    "            if freq >= min_freq:\n",
    "                vocab[token] = len(vocab)\n",
    "\n",
    "        print(f\" Vocab size: {len(vocab):,}\")\n",
    "        return vocab\n",
    "\n",
    "    def numericalize(self, tokens):\n",
    "        \"\"\"\n",
    "        Convert list of tokens into list of vocab indices.\n",
    "        \"\"\"\n",
    "        return [self.vocab.get(t, self.vocab[\"<UNK>\"]) for t in tokens]\n",
    "\n",
    "    def __len__(self):\n",
    "        return len(self.samples)\n",
    "\n",
    "    def __getitem__(self, idx):\n",
    "        path, label = self.samples[idx]\n",
    "        with open(path, \"r\", encoding=\"utf-8\") as f:\n",
    "            text = f.read()\n",
    "        tokens = self.tokenizer(text)\n",
    "        token_ids = self.numericalize(tokens)[: self.max_length]\n",
    "        return torch.tensor(token_ids, dtype=torch.long), torch.tensor(label, dtype=torch.long)"
   ]
  },
  {
   "cell_type": "code",
   "execution_count": 3,
   "id": "5bfa4e00",
   "metadata": {},
   "outputs": [],
   "source": [
    "# Collate Function for Batching\n",
    "\n",
    "def collate_batch(batch):\n",
    "    \"\"\"\n",
    "    Collate function for DataLoader.\n",
    "    - Pads sequences in a batch to the same length\n",
    "    - Stacks labels into a tensor\n",
    "    \"\"\"\n",
    "    sequences, labels = zip(*batch)\n",
    "    padded_seqs = pad_sequence(\n",
    "        sequences\n",
    "        , batch_first=True\n",
    "        , padding_value=0  # <PAD> index\n",
    "    )\n",
    "    labels = torch.stack(labels)\n",
    "    return padded_seqs, labels"
   ]
  },
  {
   "cell_type": "code",
   "execution_count": 4,
   "id": "1d91316f",
   "metadata": {},
   "outputs": [
    {
     "name": "stdout",
     "output_type": "stream",
     "text": [
      " Building vocabulary...\n"
     ]
    },
    {
     "name": "stderr",
     "output_type": "stream",
     "text": [
      "100%|███████████████████████████████████| 25000/25000 [00:09<00:00, 2608.16it/s]\n"
     ]
    },
    {
     "name": "stdout",
     "output_type": "stream",
     "text": [
      " Vocab size: 47,010\n"
     ]
    }
   ],
   "source": [
    "# Build Datasets & DataLoaders\n",
    "\n",
    "train_dir = '../../ML_Tinkering_Python/data/aclImdb/train/'\n",
    "test_dir  = '../../ML_Tinkering_Python/data/aclImdb/test/'\n",
    "\n",
    "# Build train dataset (and vocab)\n",
    "train_dataset = IMDBDataset(\n",
    "    root_dir=train_dir\n",
    "    , vocab=None     # triggers vocab building\n",
    ")\n",
    "\n",
    "# Build test dataset using the same vocab\n",
    "test_dataset = IMDBDataset(\n",
    "    root_dir=test_dir\n",
    "    , vocab=train_dataset.vocab\n",
    ")\n",
    "\n",
    "train_loader = DataLoader(\n",
    "    train_dataset\n",
    "    , batch_size=32\n",
    "    , shuffle=True\n",
    "    , collate_fn=collate_batch\n",
    ")\n",
    "\n",
    "test_loader = DataLoader(\n",
    "    test_dataset\n",
    "    , batch_size=32\n",
    "    , shuffle=False\n",
    "    , collate_fn=collate_batch\n",
    ")\n"
   ]
  },
  {
   "cell_type": "code",
   "execution_count": 5,
   "id": "7c298fcb",
   "metadata": {},
   "outputs": [],
   "source": [
    "# Simple RNN-based Classification Model\n",
    "\n",
    "class RNNClassifier(nn.Module):\n",
    "    \"\"\"\n",
    "    Simple LSTM-based text classification model.\n",
    "    - Embedding layer\n",
    "    - LSTM encoder\n",
    "    - Linear layer → binary output\n",
    "    \"\"\"\n",
    "    def __init__(self, vocab_size, embed_dim=128, hidden_dim=128, num_classes=2):\n",
    "        super().__init__()\n",
    "        self.embedding = nn.Embedding(vocab_size, embed_dim, padding_idx=0)\n",
    "        self.lstm = nn.LSTM(\n",
    "            input_size=embed_dim\n",
    "            , hidden_size=hidden_dim\n",
    "            , batch_first=True\n",
    "        )\n",
    "        self.fc = nn.Linear(hidden_dim, num_classes)\n",
    "\n",
    "    def forward(self, x):\n",
    "        # x: (batch, seq_len)\n",
    "        embedded = self.embedding(x)             # (batch, seq_len, embed_dim)\n",
    "        _, (hidden, _) = self.lstm(embedded)     # hidden: (1, batch, hidden_dim)\n",
    "        hidden = hidden.squeeze(0)              # (batch, hidden_dim)\n",
    "        logits = self.fc(hidden)                # (batch, num_classes)\n",
    "        return logits"
   ]
  },
  {
   "cell_type": "code",
   "execution_count": 8,
   "id": "7e3a15fc",
   "metadata": {},
   "outputs": [
    {
     "data": {
      "text/plain": [
       "RNNClassifier(\n",
       "  (embedding): Embedding(47010, 128, padding_idx=0)\n",
       "  (lstm): LSTM(128, 128, batch_first=True)\n",
       "  (fc): Linear(in_features=128, out_features=2, bias=True)\n",
       ")"
      ]
     },
     "execution_count": 8,
     "metadata": {},
     "output_type": "execute_result"
    }
   ],
   "source": [
    "# Instantiate model & key params ~ [loss fn (criterion) & optim]\n",
    "\n",
    "model = RNNClassifier(vocab_size=len(train_dataset.vocab)).to(device)\n",
    "\n",
    "criterion = nn.CrossEntropyLoss()\n",
    "\n",
    "optimizer = torch.optim.Adam(\n",
    "    model.parameters()\n",
    "    , lr=1e-3\n",
    ")\n",
    "\n",
    "model"
   ]
  },
  {
   "cell_type": "code",
   "execution_count": 9,
   "id": "3e50d5a5",
   "metadata": {},
   "outputs": [
    {
     "data": {
      "text/plain": [
       "RNNClassifier(\n",
       "  (embedding): Embedding(47010, 128, padding_idx=0)\n",
       "  (lstm): LSTM(128, 128, batch_first=True)\n",
       "  (fc): Linear(in_features=128, out_features=2, bias=True)\n",
       ")"
      ]
     },
     "execution_count": 9,
     "metadata": {},
     "output_type": "execute_result"
    },
    {
     "name": "stderr",
     "output_type": "stream",
     "text": [
      "Epoch 1/3: 100%|██████████████████████████████| 782/782 [00:53<00:00, 14.72it/s]"
     ]
    },
    {
     "name": "stdout",
     "output_type": "stream",
     "text": [
      "Train Loss: 0.6929 | Acc: 0.5133\n"
     ]
    },
    {
     "name": "stderr",
     "output_type": "stream",
     "text": [
      "\n"
     ]
    },
    {
     "data": {
      "text/plain": [
       "RNNClassifier(\n",
       "  (embedding): Embedding(47010, 128, padding_idx=0)\n",
       "  (lstm): LSTM(128, 128, batch_first=True)\n",
       "  (fc): Linear(in_features=128, out_features=2, bias=True)\n",
       ")"
      ]
     },
     "execution_count": 9,
     "metadata": {},
     "output_type": "execute_result"
    },
    {
     "name": "stderr",
     "output_type": "stream",
     "text": [
      "Epoch 2/3: 100%|██████████████████████████████| 782/782 [00:50<00:00, 15.48it/s]"
     ]
    },
    {
     "name": "stdout",
     "output_type": "stream",
     "text": [
      "Train Loss: 0.6892 | Acc: 0.5253\n"
     ]
    },
    {
     "name": "stderr",
     "output_type": "stream",
     "text": [
      "\n"
     ]
    },
    {
     "data": {
      "text/plain": [
       "RNNClassifier(\n",
       "  (embedding): Embedding(47010, 128, padding_idx=0)\n",
       "  (lstm): LSTM(128, 128, batch_first=True)\n",
       "  (fc): Linear(in_features=128, out_features=2, bias=True)\n",
       ")"
      ]
     },
     "execution_count": 9,
     "metadata": {},
     "output_type": "execute_result"
    },
    {
     "name": "stderr",
     "output_type": "stream",
     "text": [
      "Epoch 3/3: 100%|██████████████████████████████| 782/782 [00:50<00:00, 15.50it/s]"
     ]
    },
    {
     "name": "stdout",
     "output_type": "stream",
     "text": [
      "Train Loss: 0.6619 | Acc: 0.5979\n"
     ]
    },
    {
     "name": "stderr",
     "output_type": "stream",
     "text": [
      "\n"
     ]
    }
   ],
   "source": [
    "# Training Loop (Basic)\n",
    "\n",
    "num_epochs = 3\n",
    "\n",
    "for epoch in range(num_epochs):\n",
    "    model.train()\n",
    "    total_loss = 0\n",
    "    correct = 0\n",
    "    total = 0\n",
    "\n",
    "    for x_batch, y_batch in tqdm(\n",
    "        train_loader, desc=f\"Epoch {epoch+1}/{num_epochs}\"\n",
    "    ):\n",
    "        x_batch, y_batch = x_batch.to(device), y_batch.to(device)\n",
    "\n",
    "        optimizer.zero_grad()\n",
    "        logits = model(x_batch)\n",
    "        loss = criterion(logits, y_batch)\n",
    "        loss.backward()\n",
    "        optimizer.step()\n",
    "\n",
    "        total_loss += loss.item() * x_batch.size(0)\n",
    "        preds = logits.argmax(dim=1)\n",
    "        correct += (preds == y_batch).sum().item()\n",
    "        total += x_batch.size(0)\n",
    "\n",
    "    avg_loss = total_loss / total\n",
    "    acc = correct / total\n",
    "    print(f\"Train Loss: {avg_loss:.4f} | Acc: {acc:.4f}\")"
   ]
  },
  {
   "cell_type": "code",
   "execution_count": null,
   "id": "f9f3e538",
   "metadata": {},
   "outputs": [],
   "source": [
    "# Quick Evaluation on Test Set\n",
    "\n",
    "model.eval()\n",
    "correct = 0\n",
    "total = 0\n",
    "\n",
    "with torch.no_grad():\n",
    "    for x_batch, y_batch in test_loader:\n",
    "        x_batch, y_batch = x_batch.to(device), y_batch.to(device)\n",
    "        logits = model(x_batch)\n",
    "        preds = logits.argmax(dim=1)\n",
    "        correct += (preds == y_batch).sum().item()\n",
    "        total += x_batch.size(0)\n",
    "\n",
    "print(f\"Test Accuracy: {correct / total:.4f}\")\n"
   ]
  },
  {
   "cell_type": "code",
   "execution_count": null,
   "id": "7dad0b4b",
   "metadata": {},
   "outputs": [],
   "source": []
  },
  {
   "cell_type": "code",
   "execution_count": null,
   "id": "5a26afdb",
   "metadata": {},
   "outputs": [],
   "source": []
  },
  {
   "cell_type": "code",
   "execution_count": null,
   "id": "7589e00e",
   "metadata": {},
   "outputs": [],
   "source": []
  }
 ],
 "metadata": {
  "kernelspec": {
   "display_name": "Python 3 (ipykernel)",
   "language": "python",
   "name": "python3"
  },
  "language_info": {
   "codemirror_mode": {
    "name": "ipython",
    "version": 3
   },
   "file_extension": ".py",
   "mimetype": "text/x-python",
   "name": "python",
   "nbconvert_exporter": "python",
   "pygments_lexer": "ipython3",
   "version": "3.11.5"
  }
 },
 "nbformat": 4,
 "nbformat_minor": 5
}
