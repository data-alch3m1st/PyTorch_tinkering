{
 "cells": [
  {
   "cell_type": "code",
   "execution_count": 1,
   "id": "7fd4b377",
   "metadata": {},
   "outputs": [],
   "source": [
    "# Import necessary libraries\n",
    "import torch\n",
    "import torch.nn as nn\n",
    "import torch.optim as optim\n",
    "\n",
    "from sklearn.datasets import make_moons\n",
    "from sklearn.model_selection import train_test_split\n",
    "from sklearn.preprocessing import StandardScaler\n",
    "from sklearn.metrics import accuracy_score\n",
    "\n",
    "import numpy as np\n",
    "import pandas as pd\n",
    "import matplotlib.pyplot as plt\n",
    "\n",
    "import warnings\n",
    "warnings.simplefilter('ignore')"
   ]
  },
  {
   "cell_type": "code",
   "execution_count": 2,
   "id": "66fe0228",
   "metadata": {},
   "outputs": [
    {
     "name": "stdout",
     "output_type": "stream",
     "text": [
      "mps\n"
     ]
    }
   ],
   "source": [
    "# If on MacBook:\n",
    "if torch.cuda.is_available():\n",
    "    device = \"cuda\" # Use NVIDIA GPU (if available)\n",
    "elif torch.backends.mps.is_available():\n",
    "    device = \"mps\" # Use Apple Silicon GPU (if available)\n",
    "else:\n",
    "    device = \"cpu\" # Default to CPU if no GPU is available\n",
    "    \n",
    "print(device)"
   ]
  },
  {
   "cell_type": "code",
   "execution_count": 3,
   "id": "932758f0",
   "metadata": {},
   "outputs": [],
   "source": [
    "# Step 1: Create a non-linear dataset (make_moons)\n",
    "\n",
    "# make_moons generates a two-class dataset that is non-linear and slightly challenging but simple to work with\n",
    "\n",
    "X, y = make_moons(\n",
    "    n_samples=1000\n",
    "    , noise=0.2\n",
    "    , random_state=27)"
   ]
  },
  {
   "cell_type": "code",
   "execution_count": 4,
   "id": "654b1c3e",
   "metadata": {},
   "outputs": [
    {
     "data": {
      "text/plain": [
       "((800, 2), (200, 2), (800,), (200,))"
      ]
     },
     "execution_count": 4,
     "metadata": {},
     "output_type": "execute_result"
    }
   ],
   "source": [
    "# Step 2: Split the data into training and testing sets\n",
    "\n",
    "# Random state ensures reproducibility\n",
    "X_train, X_test, y_train, y_test = train_test_split(\n",
    "    X, y, test_size=0.2\n",
    "    , random_state=27\n",
    ")\n",
    "\n",
    "X_train.shape, X_test.shape, y_train.shape, y_test.shape"
   ]
  },
  {
   "cell_type": "code",
   "execution_count": 5,
   "id": "a1d27ee0",
   "metadata": {},
   "outputs": [],
   "source": [
    "# Step 3: Preprocess the data\n",
    "# Standardize the features to ensure faster and more stable training of the neural network\n",
    "\n",
    "scaler = StandardScaler()\n",
    "\n",
    "X_train = scaler.fit_transform(X_train)\n",
    "X_test = scaler.transform(X_test)"
   ]
  },
  {
   "cell_type": "code",
   "execution_count": 6,
   "id": "b0deeac6",
   "metadata": {},
   "outputs": [],
   "source": [
    "# Convert the data to PyTorch tensors for compatibility with PyTorch\n",
    "\n",
    "# NOTE: In some classifications models, 'y' dtype needs to be a 'longTensor' (torch.long) when using CrossEntropyLoss, as this loss_fn needs an index value for the classification, hence needs an integer, not float;\n",
    "\n",
    "X_train_tensor = torch.tensor(X_train, dtype=torch.float32).to(device)\n",
    "y_train_tensor = torch.tensor(y_train, dtype=torch.long).to(device)\n",
    "\n",
    "X_test_tensor = torch.tensor(X_test, dtype=torch.float32).to(device)\n",
    "y_test_tensor = torch.tensor(y_test, dtype=torch.long).to(device)"
   ]
  },
  {
   "cell_type": "code",
   "execution_count": 9,
   "id": "826130d1",
   "metadata": {},
   "outputs": [],
   "source": [
    "# Step 4: Define the neural network model\n",
    "\n",
    "# This is a simple feedforward neural network with 2 hidden layers\n",
    "class MoonsNN(nn.Module):\n",
    "    def __init__(self):\n",
    "        super(MoonsNN, self).__init__()\n",
    "        # Input layer: 2 features as input\n",
    "        # Hidden layer 1: 16 neurons with ReLU activation\n",
    "        # Hidden layer 2: 8 neurons with ReLU activation\n",
    "        # Output layer: 2 neurons (one for each class) with Softmax activation\n",
    "        self.fc1 = nn.Linear(2, 16)  # First hidden layer\n",
    "        self.fc2 = nn.Linear(16, 8)  # Second hidden layer\n",
    "        self.fc3 = nn.Linear(8, 2)   # Output layer\n",
    "\n",
    "    def forward(self, x):\n",
    "        x = torch.relu(self.fc1(x))  # Apply ReLU activation to the first hidden layer\n",
    "        x = torch.relu(self.fc2(x))  # Apply ReLU activation to the second hidden layer\n",
    "        x = self.fc3(x)              # Output layer (logits)\n",
    "        return x"
   ]
  },
  {
   "cell_type": "code",
   "execution_count": 11,
   "id": "e038c1f2",
   "metadata": {},
   "outputs": [
    {
     "data": {
      "text/plain": [
       "MoonsNN(\n",
       "  (fc1): Linear(in_features=2, out_features=16, bias=True)\n",
       "  (fc2): Linear(in_features=16, out_features=8, bias=True)\n",
       "  (fc3): Linear(in_features=8, out_features=2, bias=True)\n",
       ")"
      ]
     },
     "execution_count": 11,
     "metadata": {},
     "output_type": "execute_result"
    }
   ],
   "source": [
    "# Initialize the model and move it to the selected device (CPU/GPU)\n",
    "model = MoonsNN().to(device)\n",
    "model"
   ]
  },
  {
   "cell_type": "code",
   "execution_count": 12,
   "id": "88296864",
   "metadata": {},
   "outputs": [],
   "source": [
    "# Step 5: Define the loss function and optimizer\n",
    "# CrossEntropyLoss is used for classification problems\n",
    "\n",
    "criterion = nn.CrossEntropyLoss()\n",
    "\n",
    "optimizer = optim.Adam(\n",
    "    model.parameters(), lr=0.01)  # Adam optimizer with a learning rate of 0.01"
   ]
  },
  {
   "cell_type": "code",
   "execution_count": 13,
   "id": "d572e00e",
   "metadata": {},
   "outputs": [
    {
     "name": "stdout",
     "output_type": "stream",
     "text": [
      "Epoch [10/100], Loss: 0.4783\n",
      "Epoch [20/100], Loss: 0.3700\n",
      "Epoch [30/100], Loss: 0.3063\n",
      "Epoch [40/100], Loss: 0.2799\n",
      "Epoch [50/100], Loss: 0.2464\n",
      "Epoch [60/100], Loss: 0.2092\n",
      "Epoch [70/100], Loss: 0.1661\n",
      "Epoch [80/100], Loss: 0.1261\n",
      "Epoch [90/100], Loss: 0.0986\n",
      "Epoch [100/100], Loss: 0.0826\n"
     ]
    }
   ],
   "source": [
    "# Step 6: Train the model\n",
    "# Number of epochs (iterations over the entire dataset)\n",
    "n_epochs = 100\n",
    "\n",
    "for epoch in range(n_epochs):\n",
    "    # Set the model to training mode\n",
    "    model.train()\n",
    "\n",
    "    # Forward pass: compute the predictions\n",
    "    y_pred = model(X_train_tensor)\n",
    "\n",
    "    # Compute the loss\n",
    "    loss_fn = criterion(y_pred, y_train_tensor)\n",
    "    acc = accuracy_score(y_true=y_train_tensor.detach().cpu(), y_pred=y_pred.detach().cpu()) * 100\n",
    "\n",
    "    # Zero the gradients from the previous step\n",
    "    optimizer.zero_grad()\n",
    "\n",
    "    # Backward pass: compute the gradients\n",
    "    loss.backward()\n",
    "\n",
    "    # Update the model parameters\n",
    "    optimizer.step()\n",
    "    \n",
    "    '''\n",
    "        ### Testing\n",
    "    model.eval()\n",
    "    with torch.inference_mode():\n",
    "        # 1. Forward pass\n",
    "        test_logits = model(X_test).squeeze()\n",
    "        test_pred = torch.round(torch.sigmoid(test_logits))\n",
    "\n",
    "        # 2. Caculate loss/accuracy\n",
    "        test_loss = loss_fn(test_logits, y_test)\n",
    "        test_acc = accuracy_score(y_true=y_test.detach().cpu(), y_pred=test_pred.detach().cpu()) * 100\n",
    "#         test_acc = accuracy_fn(y_true=y_test, y_pred=test_pred)\n",
    "    '''\n",
    "    # Step 7: Test the model\n",
    "    # Set the model to evaluation mode\n",
    "    model.eval()\n",
    "    \n",
    "    # Disable gradient computation during testing for efficiency\n",
    "    with torch.no_grad():\n",
    "        # Forward pass on the test set\n",
    "        y_test_pred = model(X_test_tensor)\n",
    "        # Get the class with the highest score (logits)\n",
    "        y_test_pred_classes = torch.argmax(y_test_pred, axis=1)\n",
    "\n",
    "    # Print the loss every 10 epochs\n",
    "    # Print out what's happening every 10 epochs\n",
    "    if epoch % 10 == 0:\n",
    "        print(f\"Epoch: {epoch} | Loss: {loss:.5f}, Accuracy: {acc:.2f}% | Test loss: {test_loss:.5f}, Test acc: {test_acc:.2f}%\")\n",
    "        \n",
    "        \n",
    "#     if (epoch + 1) % 10 == 0:\n",
    "#         print(f\"Epoch [{epoch + 1}/{n_epochs}], Loss: {loss.item():.4f}\")"
   ]
  },
  {
   "cell_type": "code",
   "execution_count": null,
   "id": "c31ac15b",
   "metadata": {},
   "outputs": [],
   "source": [
    "# Step 7: Test the model\n",
    "# Set the model to evaluation mode\n",
    "model.eval()\n",
    "\n",
    "# Disable gradient computation during testing for efficiency\n",
    "with torch.no_grad():\n",
    "    # Forward pass on the test set\n",
    "    y_test_pred = model(X_test_tensor)\n",
    "    # Get the class with the highest score (logits)\n",
    "    y_test_pred_classes = torch.argmax(y_test_pred, axis=1)\n"
   ]
  },
  {
   "cell_type": "code",
   "execution_count": null,
   "id": "b332c7d7",
   "metadata": {},
   "outputs": [],
   "source": []
  },
  {
   "cell_type": "code",
   "execution_count": null,
   "id": "77804d0e",
   "metadata": {},
   "outputs": [],
   "source": []
  },
  {
   "cell_type": "code",
   "execution_count": null,
   "id": "1f18a3bd",
   "metadata": {},
   "outputs": [],
   "source": []
  },
  {
   "cell_type": "code",
   "execution_count": null,
   "id": "f43fb777",
   "metadata": {},
   "outputs": [],
   "source": []
  }
 ],
 "metadata": {
  "kernelspec": {
   "display_name": "Python 3 (ipykernel)",
   "language": "python",
   "name": "python3"
  },
  "language_info": {
   "codemirror_mode": {
    "name": "ipython",
    "version": 3
   },
   "file_extension": ".py",
   "mimetype": "text/x-python",
   "name": "python",
   "nbconvert_exporter": "python",
   "pygments_lexer": "ipython3",
   "version": "3.11.5"
  }
 },
 "nbformat": 4,
 "nbformat_minor": 5
}
