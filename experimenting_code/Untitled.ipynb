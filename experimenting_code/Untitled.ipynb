{
 "cells": [
  {
   "cell_type": "code",
   "execution_count": null,
   "id": "8c11fb72",
   "metadata": {},
   "outputs": [],
   "source": [
    "# MacoOS device agnostic code:\n",
    "\n",
    "if torch.cuda.is_available():\n",
    "    device = \"cuda\" # Use NVIDIA GPU (if available)\n",
    "elif torch.backends.mps.is_available():\n",
    "    device = \"mps\" # Use Apple Silicon GPU (if available)\n",
    "else:\n",
    "    device = \"cpu\" # Default to CPU if no GPU is available\n",
    "\n",
    "device"
   ]
  },
  {
   "cell_type": "code",
   "execution_count": 1,
   "id": "7a888253",
   "metadata": {},
   "outputs": [],
   "source": [
    "import torch\n",
    "from torch import nn\n",
    "from torch.utils.data import DataLoader\n",
    "from torchvision import datasets, transforms\n",
    "\n",
    "from skorch import NeuralNetClassifier\n",
    "from sklearn.model_selection import GridSearchCV\n",
    "from sklearn.metrics import accuracy_score\n",
    "import numpy as np\n",
    "import warnings\n",
    "\n",
    "warnings.filterwarnings(\"ignore\")"
   ]
  },
  {
   "cell_type": "code",
   "execution_count": 2,
   "id": "3be98c05",
   "metadata": {},
   "outputs": [],
   "source": [
    "# 1) Define a simple CNN\n",
    "\n",
    "class SimpleCNN(nn.Module):\n",
    "    def __init__(self, channels=32, dropout=0.25):\n",
    "        super().__init__()\n",
    "        self.features = nn.Sequential(\n",
    "            nn.Conv2d(1, channels, kernel_size=3, padding=1)\n",
    "            , nn.ReLU(inplace=True)\n",
    "            , nn.MaxPool2d(2)\n",
    "            , nn.Conv2d(channels, channels * 2, kernel_size=3, padding=1)\n",
    "            , nn.ReLU(inplace=True)\n",
    "            , nn.MaxPool2d(2)\n",
    "        )\n",
    "        self.classifier = nn.Sequential(\n",
    "            nn.Flatten()\n",
    "            , nn.Dropout(dropout)\n",
    "            , nn.Linear((channels * 2) * 7 * 7, 128)\n",
    "            , nn.ReLU(inplace=True)\n",
    "            , nn.Dropout(dropout)\n",
    "            , nn.Linear(128, 10)\n",
    "        )\n",
    "\n",
    "    def forward(self, x):\n",
    "        x = self.features(x)\n",
    "        x = self.classifier(x)\n",
    "        return x\n",
    "\n",
    "# 2) Data transforms\n",
    "transform = transforms.Compose([\n",
    "    transforms.ToTensor()\n",
    "    , transforms.Normalize((0.5,), (0.5,))\n",
    "])"
   ]
  },
  {
   "cell_type": "code",
   "execution_count": 3,
   "id": "4b39bd91",
   "metadata": {},
   "outputs": [],
   "source": [
    "# 3) Load datasets\n",
    "\n",
    "train_ds = datasets.FashionMNIST(\n",
    "    root=\"./data\"\n",
    "    , train=True\n",
    "    , download=True\n",
    "    , transform=transform\n",
    ")\n",
    "test_ds = datasets.FashionMNIST(\n",
    "    root=\"./data\"\n",
    "    , train=False\n",
    "    , download=True\n",
    "    , transform=transform\n",
    ")"
   ]
  },
  {
   "cell_type": "code",
   "execution_count": 4,
   "id": "dcbd1784",
   "metadata": {},
   "outputs": [],
   "source": [
    "# 4) Skorch estimator wrapping our PyTorch module\n",
    "\n",
    "net = NeuralNetClassifier(\n",
    "    module=SimpleCNN\n",
    "    , module__channels=32\n",
    "    , module__dropout=0.25\n",
    "    , criterion=nn.CrossEntropyLoss\n",
    "    , optimizer=torch.optim.Adam\n",
    "    , optimizer__weight_decay=0.0\n",
    "    , lr=1e-3\n",
    "    , batch_size=128\n",
    "    , max_epochs=6\n",
    "    , iterator_train__shuffle=True\n",
    "    , device=device\n",
    ")"
   ]
  },
  {
   "cell_type": "code",
   "execution_count": null,
   "id": "6e711c15",
   "metadata": {},
   "outputs": [],
   "source": [
    "# 5) Define param grid (note skorch prefixes module params with 'module__')\n",
    "param_grid = {\n",
    "    \"module__channels\": [16, 32, 64]\n",
    "    , \"module__dropout\": [0.0, 0.25, 0.5]\n",
    "    , \"lr\": [1e-3, 3e-4]\n",
    "    , \"optimizer\": [torch.optim.Adam, torch.optim.SGD]\n",
    "    , \"optimizer__weight_decay\": [0.0, 1e-4]\n",
    "    , \"batch_size\": [64, 128]\n",
    "    , \"max_epochs\": [6]  # keep small for demo\n",
    "}\n"
   ]
  },
  {
   "cell_type": "code",
   "execution_count": null,
   "id": "b20925a3",
   "metadata": {},
   "outputs": [],
   "source": [
    "# 6) GridSearchCV\n",
    "gs = GridSearchCV(\n",
    "    estimator=net\n",
    "    , param_grid=param_grid\n",
    "    , scoring=\"accuracy\"\n",
    "    , n_jobs=1  # set >1 if CPU allows and your model is CPU-bound\n",
    "    , cv=3\n",
    "    , refit=True  # refit on full training set with best params\n",
    "    , verbose=1\n",
    ")"
   ]
  },
  {
   "cell_type": "code",
   "execution_count": null,
   "id": "c65b3bd8",
   "metadata": {},
   "outputs": [],
   "source": [
    "# 7) Fit on the training dataset; skorch can take PyTorch datasets directly\n",
    "gs.fit(train_ds, y=None)\n",
    "\n",
    "print(\"Best params:\", gs.best_params_)\n",
    "print(\"Best CV score:\", gs.best_score_)\n",
    "\n",
    "# 8) Evaluate on test set\n",
    "# Build a DataLoader to get predictions easily\n",
    "test_loader = DataLoader(\n",
    "    test_ds\n",
    "    , batch_size=256\n",
    "    , shuffle=False\n",
    ")\n",
    "\n",
    "y_true, y_pred = [], []\n",
    "for X, y in test_loader:\n",
    "    y_true.append(y.numpy())\n",
    "    y_pred.append(gs.best_estimator_.predict(X).numpy())\n",
    "\n",
    "y_true = np.concatenate(y_true)\n",
    "y_pred = np.concatenate(y_pred)\n",
    "test_acc = accuracy_score(y_true, y_pred)\n",
    "print(\"Test accuracy:\", test_acc)\n"
   ]
  },
  {
   "cell_type": "code",
   "execution_count": null,
   "id": "bf24a673",
   "metadata": {},
   "outputs": [],
   "source": []
  }
 ],
 "metadata": {
  "kernelspec": {
   "display_name": "Python 3 (ipykernel)",
   "language": "python",
   "name": "python3"
  },
  "language_info": {
   "codemirror_mode": {
    "name": "ipython",
    "version": 3
   },
   "file_extension": ".py",
   "mimetype": "text/x-python",
   "name": "python",
   "nbconvert_exporter": "python",
   "pygments_lexer": "ipython3",
   "version": "3.11.5"
  }
 },
 "nbformat": 4,
 "nbformat_minor": 5
}
