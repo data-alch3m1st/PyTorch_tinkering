{
 "cells": [
  {
   "cell_type": "code",
   "execution_count": 22,
   "id": "261b16ba",
   "metadata": {},
   "outputs": [],
   "source": [
    "import torch\n",
    "import torch.nn as nn\n",
    "import torch.optim as optim\n",
    "from sklearn.datasets import make_circles\n",
    "\n",
    "from sklearn.metrics import (\n",
    "    confusion_matrix\n",
    "    , classification_report\n",
    "    , ConfusionMatrixDisplay\n",
    ")\n",
    "\n",
    "from sklearn.model_selection import train_test_split\n",
    "from sklearn.preprocessing import StandardScaler\n",
    "\n",
    "import pandas as pd\n",
    "import numpy as np\n",
    "from tqdm import tqdm"
   ]
  },
  {
   "cell_type": "code",
   "execution_count": 20,
   "id": "98491468",
   "metadata": {},
   "outputs": [
    {
     "data": {
      "text/plain": [
       "'mps'"
      ]
     },
     "execution_count": 20,
     "metadata": {},
     "output_type": "execute_result"
    }
   ],
   "source": [
    "# MacoOS device agnostic code:\n",
    "\n",
    "if torch.cuda.is_available():\n",
    "    device = \"cuda\" # Use NVIDIA GPU (if available)\n",
    "elif torch.backends.mps.is_available():\n",
    "    device = \"mps\" # Use Apple Silicon GPU (if available)\n",
    "else:\n",
    "    device = \"cpu\" # Default to CPU if no GPU is available\n",
    "    \n",
    "device"
   ]
  },
  {
   "cell_type": "code",
   "execution_count": 5,
   "id": "4d3a9668",
   "metadata": {},
   "outputs": [
    {
     "data": {
      "text/plain": [
       "((5000, 2), (5000, 1))"
      ]
     },
     "execution_count": 5,
     "metadata": {},
     "output_type": "execute_result"
    }
   ],
   "source": [
    "# 1. Create the dataset (similar to Playground's \"circle\" dataset)\n",
    "X, y = make_circles(\n",
    "    n_samples=5000\n",
    "    , factor=0.5\n",
    "    , noise=0.0, random_state=27\n",
    ")\n",
    "y = y.reshape(-1, 1)  # Reshape y to be a column vector\n",
    "\n",
    "X.shape, y.shape"
   ]
  },
  {
   "cell_type": "code",
   "execution_count": 7,
   "id": "655515ab",
   "metadata": {},
   "outputs": [
    {
     "data": {
      "text/plain": [
       "((1000, 2), (4000, 2), (1000, 1), (4000, 1))"
      ]
     },
     "execution_count": 7,
     "metadata": {},
     "output_type": "execute_result"
    }
   ],
   "source": [
    "# Split into train/test sets\n",
    "X_train, X_test, y_train, y_test = train_test_split(\n",
    "    X, y, test_size=0.8\n",
    "    , random_state=42\n",
    ")\n",
    "\n",
    "X_train.shape, X_test.shape, y_train.shape, y_test.shape"
   ]
  },
  {
   "cell_type": "code",
   "execution_count": 8,
   "id": "9ec51b6f",
   "metadata": {},
   "outputs": [],
   "source": [
    "# Standardize the features\n",
    "scaler = StandardScaler()\n",
    "X_train = scaler.fit_transform(X_train)\n",
    "X_test = scaler.transform(X_test)"
   ]
  },
  {
   "cell_type": "code",
   "execution_count": 9,
   "id": "1372d6b3",
   "metadata": {},
   "outputs": [],
   "source": [
    "# Convert data to PyTorch tensors\n",
    "X_train = torch.tensor(X_train, dtype=torch.float32)\n",
    "X_test = torch.tensor(X_test, dtype=torch.float32)\n",
    "y_train = torch.tensor(y_train, dtype=torch.float32)\n",
    "y_test = torch.tensor(y_test, dtype=torch.float32)"
   ]
  },
  {
   "cell_type": "code",
   "execution_count": 10,
   "id": "abad5104",
   "metadata": {},
   "outputs": [],
   "source": [
    "# 2. Define the PyTorch model\n",
    "class CircleModel(nn.Module):\n",
    "    def __init__(self):\n",
    "        super(CircleModel, self).__init__()\n",
    "        self.layer_1 = nn.Linear(2, 5)  # Input: 2 features, Output: 5 features\n",
    "        self.layer_2 = nn.Linear(5, 2)  # Input: 5 features, Output: 2 features\n",
    "        self.out = nn.Linear(2, 1)      # Input: 2 features, Output: 1 (binary classification)\n",
    "        self.relu = nn.ReLU()\n",
    "\n",
    "    def forward(self, x):\n",
    "        x = self.relu(self.layer_1(x))\n",
    "        x = self.relu(self.layer_2(x))\n",
    "        x = self.out(x)  # No activation here because we'll use BCEWithLogitsLoss\n",
    "        return x"
   ]
  },
  {
   "cell_type": "code",
   "execution_count": 21,
   "id": "7fcc3403",
   "metadata": {},
   "outputs": [
    {
     "data": {
      "text/plain": [
       "'mps'"
      ]
     },
     "execution_count": 21,
     "metadata": {},
     "output_type": "execute_result"
    }
   ],
   "source": [
    "device"
   ]
  },
  {
   "cell_type": "code",
   "execution_count": 11,
   "id": "059d0d19",
   "metadata": {},
   "outputs": [],
   "source": [
    "# 3. Instantiate the model, loss function, and optimizer\n",
    "\n",
    "model = CircleModel()\n",
    "\n",
    "criterion = nn.BCEWithLogitsLoss()  # Combines Sigmoid + Binary Cross Entropy\n",
    "\n",
    "optimizer = optim.SGD(\n",
    "    model.parameters()\n",
    "    , lr=0.1)  # Learning rate 0.1"
   ]
  },
  {
   "cell_type": "code",
   "execution_count": 12,
   "id": "5bf4fb4b",
   "metadata": {},
   "outputs": [
    {
     "name": "stdout",
     "output_type": "stream",
     "text": [
      "Epoch [10/200], Loss: 0.0226\n",
      "Epoch [20/200], Loss: 0.0057\n",
      "Epoch [30/200], Loss: 0.0038\n",
      "Epoch [40/200], Loss: 0.0035\n",
      "Epoch [50/200], Loss: 0.0026\n",
      "Epoch [60/200], Loss: 0.0025\n",
      "Epoch [70/200], Loss: 0.0019\n",
      "Epoch [80/200], Loss: 0.0016\n",
      "Epoch [90/200], Loss: 0.0012\n",
      "Epoch [100/200], Loss: 0.0013\n",
      "Epoch [110/200], Loss: 0.0010\n",
      "Epoch [120/200], Loss: 0.0013\n",
      "Epoch [130/200], Loss: 0.0010\n",
      "Epoch [140/200], Loss: 0.0007\n",
      "Epoch [150/200], Loss: 0.0008\n",
      "Epoch [160/200], Loss: 0.0009\n",
      "Epoch [170/200], Loss: 0.0007\n",
      "Epoch [180/200], Loss: 0.0006\n",
      "Epoch [190/200], Loss: 0.0006\n",
      "Epoch [200/200], Loss: 0.0006\n"
     ]
    }
   ],
   "source": [
    "# 4. Training loop\n",
    "\n",
    "batch_size = 10\n",
    "epochs = 200\n",
    "\n",
    "train_loader = torch.utils.data.DataLoader(\n",
    "    dataset=torch.utils.data.TensorDataset(\n",
    "        X_train, y_train)\n",
    "    , batch_size=batch_size\n",
    "    , shuffle=True\n",
    ")\n",
    "\n",
    "# For epoch in a range..\n",
    "for epoch in range(epochs):\n",
    "    \n",
    "    # Call model.train()\n",
    "    model.train()  # Set model to training mode\n",
    "    \n",
    "    for X_batch, y_batch in train_loader:\n",
    "        \n",
    "        # Forward pass\n",
    "        y_pred = model(X_batch)\n",
    "        \n",
    "        # Calculate the loss\n",
    "        loss = criterion(y_pred, y_batch)\n",
    "\n",
    "        # Optimizer zero grad!\n",
    "        optimizer.zero_grad()\n",
    "\n",
    "        # Loss -> backward!\n",
    "        loss.backward()\n",
    "        \n",
    "        # optimizer step, step, step\n",
    "        optimizer.step()\n",
    "\n",
    "    # Print loss every 10 epochs\n",
    "    if (epoch + 1) % 10 == 0:\n",
    "        print(f\"Epoch [{epoch + 1}/{epochs}], Loss: {loss.item():.4f}\")"
   ]
  },
  {
   "cell_type": "code",
   "execution_count": 13,
   "id": "c1581bbf",
   "metadata": {},
   "outputs": [
    {
     "name": "stdout",
     "output_type": "stream",
     "text": [
      "Test Accuracy: 1.000000\n"
     ]
    }
   ],
   "source": [
    "# 5. Testing the model\n",
    "\n",
    "# Set model to evaluation mode\n",
    "model.eval()  \n",
    "with torch.no_grad():\n",
    "    y_test_pred = model(X_test)\n",
    "    y_test_pred = torch.sigmoid(y_test_pred)  # Apply sigmoid to convert logits to probabilities\n",
    "    y_test_pred_class = (y_test_pred > 0.5).float()  # Convert probabilities to binary predictions\n",
    "\n",
    "# Calculate accuracy\n",
    "accuracy = (y_test_pred_class == y_test).sum().item() / y_test.size(0)\n",
    "print(f\"Test Accuracy: {accuracy:.6f}\")"
   ]
  },
  {
   "cell_type": "code",
   "execution_count": 14,
   "id": "ddb60ff6",
   "metadata": {},
   "outputs": [],
   "source": [
    "# Ensure the model is in evaluation mode\n",
    "model.eval()\n",
    "\n",
    "# Get predictions on the test set\n",
    "with torch.no_grad():\n",
    "    y_test_pred = model(X_test)\n",
    "    y_test_pred = torch.sigmoid(y_test_pred)  # Apply sigmoid to logits\n",
    "    y_test_pred_class = (y_test_pred > 0.5).float()  # Convert probabilities to binary predictions\n",
    "\n",
    "# Convert predictions and true labels to NumPy arrays (required by sklearn)\n",
    "y_test_pred_class = y_test_pred_class.numpy()\n",
    "y_test = y_test.numpy()"
   ]
  },
  {
   "cell_type": "code",
   "execution_count": 15,
   "id": "18d2b44f",
   "metadata": {},
   "outputs": [
    {
     "data": {
      "text/plain": [
       "array([[2012,    0],\n",
       "       [   0, 1988]])"
      ]
     },
     "execution_count": 15,
     "metadata": {},
     "output_type": "execute_result"
    }
   ],
   "source": [
    "# 1. Calculate confusion matrix\n",
    "cm = confusion_matrix(y_test, y_test_pred_class)\n",
    "cm"
   ]
  },
  {
   "cell_type": "code",
   "execution_count": 16,
   "id": "528d9baf",
   "metadata": {},
   "outputs": [
    {
     "name": "stdout",
     "output_type": "stream",
     "text": [
      "Classification Report:\n",
      "              precision    recall  f1-score   support\n",
      "\n",
      "         0.0       1.00      1.00      1.00      2012\n",
      "         1.0       1.00      1.00      1.00      1988\n",
      "\n",
      "    accuracy                           1.00      4000\n",
      "   macro avg       1.00      1.00      1.00      4000\n",
      "weighted avg       1.00      1.00      1.00      4000\n",
      "\n"
     ]
    }
   ],
   "source": [
    "# 2. Print classification report\n",
    "print(\"Classification Report:\")\n",
    "print(classification_report(y_test, y_test_pred_class))"
   ]
  },
  {
   "cell_type": "code",
   "execution_count": 18,
   "id": "3c0cd8ff",
   "metadata": {},
   "outputs": [
    {
     "data": {
      "image/png": "[encoded data removed]",
      "text/plain": [
       "<Figure size 640x480 with 2 Axes>"
      ]
     },
     "metadata": {},
     "output_type": "display_data"
    }
   ],
   "source": [
    "# 3. Display confusion matrix\n",
    "ConfusionMatrixDisplay.from_predictions(y_test, y_test_pred_class \n",
    "    , normalize='true', values_format='.4f', cmap='Blues'\n",
    ");"
   ]
  },
  {
   "cell_type": "code",
   "execution_count": null,
   "id": "4b9135a6",
   "metadata": {},
   "outputs": [],
   "source": [
    "# Build model with non-linear activation function\n",
    "from torch import nn\n",
    "\n",
    "class CircleModelV2(nn.Module):\n",
    "    def __init__(self):\n",
    "        super().__init__()\n",
    "        self.layer_1 = nn.Linear(in_features=2, out_features=10)\n",
    "        self.layer_2 = nn.Linear(in_features=10, out_features=10)\n",
    "        self.layer_3 = nn.Linear(in_features=10, out_features=1)\n",
    "        self.relu = nn.ReLU() # <- add in ReLU activation function\n",
    "        # Can also put sigmoid in the model \n",
    "        # This would mean you don't need to use it on the predictions\n",
    "        # self.sigmoid = nn.Sigmoid()\n",
    "\n",
    "    def forward(self, x):\n",
    "      # Intersperse the ReLU activation function between layers\n",
    "       return self.layer_3(self.relu(self.layer_2(self.relu(self.layer_1(x)))))\n",
    "\n",
    "model_3 = CircleModelV2().to(device)\n",
    "print(model_3)"
   ]
  },
  {
   "cell_type": "code",
   "execution_count": null,
   "id": "8b214ada",
   "metadata": {},
   "outputs": [],
   "source": []
  },
  {
   "cell_type": "code",
   "execution_count": null,
   "id": "50e13dd4",
   "metadata": {},
   "outputs": [],
   "source": []
  },
  {
   "cell_type": "code",
   "execution_count": null,
   "id": "28968641",
   "metadata": {},
   "outputs": [],
   "source": []
  },
  {
   "cell_type": "code",
   "execution_count": null,
   "id": "84468050",
   "metadata": {},
   "outputs": [],
   "source": []
  },
  {
   "cell_type": "code",
   "execution_count": null,
   "id": "b704199d",
   "metadata": {},
   "outputs": [],
   "source": []
  },
  {
   "cell_type": "code",
   "execution_count": null,
   "id": "b884c66e",
   "metadata": {},
   "outputs": [],
   "source": []
  },
  {
   "cell_type": "code",
   "execution_count": null,
   "id": "13a5932b",
   "metadata": {},
   "outputs": [],
   "source": []
  },
  {
   "cell_type": "code",
   "execution_count": null,
   "id": "a288094a",
   "metadata": {},
   "outputs": [],
   "source": []
  }
 ],
 "metadata": {
  "kernelspec": {
   "display_name": "Python 3 (ipykernel)",
   "language": "python",
   "name": "python3"
  },
  "language_info": {
   "codemirror_mode": {
    "name": "ipython",
    "version": 3
   },
   "file_extension": ".py",
   "mimetype": "text/x-python",
   "name": "python",
   "nbconvert_exporter": "python",
   "pygments_lexer": "ipython3",
   "version": "3.11.5"
  }
 },
 "nbformat": 4,
 "nbformat_minor": 5
}
