{
 "cells": [
  {
   "cell_type": "markdown",
   "metadata": {
    "colab_type": "text",
    "id": "view-in-github"
   },
   "source": [
    "<a href=\"https://colab.research.google.com/github/data-alch3m1st/PyTorch_tinkering/blob/main/skorch_CIFAR10_cv_v003_2.ipynb\" target=\"_parent\"><img src=\"https://colab.research.google.com/assets/colab-badge.svg\" alt=\"Open In Colab\"/></a>"
   ]
  },
  {
   "cell_type": "markdown",
   "metadata": {
    "id": "dl8KC4N6GBdx"
   },
   "source": [
    "### CIFAR-10 CNN (v3.3) ###\n",
    "\n",
    "*Given the significant demands on memory (and I am using a MacBook so no CUDA for me), have to run this in Google Colab for baller T4 CUDA...*"
   ]
  },
  {
   "cell_type": "code",
   "execution_count": 39,
   "metadata": {
    "collapsed": true,
    "id": "ml7-kkPZF5EF"
   },
   "outputs": [],
   "source": [
    "# !pip install skorch\n",
    "# !pip install torchmetrics"
   ]
  },
  {
   "cell_type": "code",
   "execution_count": 2,
   "metadata": {
    "id": "Wzp6iO33F5ae"
   },
   "outputs": [],
   "source": [
    "# Imports\n",
    "\n",
    "import torch\n",
    "import torch.nn as nn\n",
    "import torch.nn.functional as F\n",
    "from torch.utils.data import DataLoader\n",
    "from torchvision import datasets, transforms\n",
    "from skorch import NeuralNetClassifier\n",
    "from sklearn.model_selection import RandomizedSearchCV, train_test_split\n",
    "from sklearn.metrics import (\n",
    "    classification_report, confusion_matrix\n",
    "    , accuracy_score, ConfusionMatrixDisplay\n",
    "    )\n",
    "from torchmetrics import Accuracy, ConfusionMatrix\n",
    "import pandas as pd\n",
    "import matplotlib.pyplot as plt\n",
    "import numpy as np\n",
    "import warnings\n",
    "from timeit import default_timer as timer\n",
    "from tqdm import tqdm\n",
    "\n",
    "warnings.filterwarnings(\"ignore\")"
   ]
  },
  {
   "cell_type": "code",
   "execution_count": 3,
   "metadata": {
    "colab": {
     "base_uri": "https://localhost:8080/",
     "height": 35
    },
    "id": "VTjaR3dPF4fL",
    "outputId": "4a4f034c-83c4-4644-fa48-5b8d9cd22b4e"
   },
   "outputs": [
    {
     "data": {
      "application/vnd.google.colaboratory.intrinsic+json": {
       "type": "string"
      },
      "text/plain": [
       "'cuda'"
      ]
     },
     "execution_count": 3,
     "metadata": {},
     "output_type": "execute_result"
    }
   ],
   "source": [
    "# MacoOS device agnostic code:\n",
    "\n",
    "if torch.cuda.is_available():\n",
    "    device = \"cuda\"  # Use NVIDIA GPU (if available)\n",
    "elif torch.backends.mps.is_available():\n",
    "    device = \"mps\"  # Use Apple Silicon GPU (if available)\n",
    "else:\n",
    "    device = \"cpu\"  # Default to CPU if no GPU is available\n",
    "\n",
    "device"
   ]
  },
  {
   "cell_type": "code",
   "execution_count": 4,
   "metadata": {
    "colab": {
     "base_uri": "https://localhost:8080/"
    },
    "id": "K-lxkno8F5MS",
    "outputId": "8c6394de-c2bc-4dc9-b46c-a13315e972df"
   },
   "outputs": [
    {
     "name": "stderr",
     "output_type": "stream",
     "text": [
      "100%|██████████| 170M/170M [00:13<00:00, 13.1MB/s]\n"
     ]
    },
    {
     "data": {
      "text/plain": [
       "(torch.Size([40000, 3, 32, 32]),\n",
       " torch.Size([10000, 3, 32, 32]),\n",
       " torch.Size([40000]),\n",
       " torch.Size([10000]))"
      ]
     },
     "execution_count": 4,
     "metadata": {},
     "output_type": "execute_result"
    }
   ],
   "source": [
    "# ---------------------------------------------------------\n",
    "# 1. Prepare dataset (CIFAR-10) with Augmentations\n",
    "# ---------------------------------------------------------\n",
    "\n",
    "# Train transforms (with augmentations)\n",
    "train_transform = transforms.Compose([\n",
    "    transforms.RandomHorizontalFlip(),  # Flip images with 50% probability\n",
    "    transforms.RandomCrop(32, padding=4),  # Add padding and crop randomly\n",
    "    transforms.Normalize((0.4914, 0.4822, 0.4465), (0.2023, 0.1994, 0.2010)),  # CIFAR-10 stats\n",
    "])\n",
    "\n",
    "# Test transforms (only normalize)\n",
    "test_transform = transforms.Compose([\n",
    "    transforms.Normalize((0.4914, 0.4822, 0.4465), (0.2023, 0.1994, 0.2010)),  \n",
    "    # CIFAR-10 stats\n",
    "])\n",
    "\n",
    "# CIFAR-10 dataset download\n",
    "dataset = datasets.CIFAR10(\n",
    "    './data', train=True, download=True\n",
    ")\n",
    "\n",
    "# Extract raw data and labels\n",
    "# Convert to [N, C, H, W]\n",
    "X = torch.tensor(dataset.data).permute(0, 3, 1, 2).float() / 255.0  \n",
    "y = torch.tensor(dataset.targets)\n",
    "\n",
    "# Split into training and testing sets\n",
    "X_train, X_test, y_train, y_test = train_test_split(\n",
    "    X, y, test_size=0.2, random_state=27, stratify=y\n",
    ")\n",
    "\n",
    "X_train.shape, X_test.shape, y_train.shape, y_test .shape"
   ]
  },
  {
   "cell_type": "code",
   "execution_count": 5,
   "metadata": {
    "id": "Z_BtG3EPSZ82"
   },
   "outputs": [],
   "source": [
    "# ---------------------------------------------------------\n",
    "# 2. Apply Transforms for Augmentation/Normalization\n",
    "# ---------------------------------------------------------\n",
    "\n",
    "# Define functions to apply transforms to batches (used in DataLoader)\n",
    "train_transform_batch = transforms.Compose([\n",
    "    transforms.RandomHorizontalFlip(),  # Flip images with 50% probability\n",
    "    transforms.RandomCrop(32, padding=4),  # Add padding and crop randomly\n",
    "    transforms.Normalize((0.4914, 0.4822, 0.4465), (0.2023, 0.1994, 0.2010)),  # CIFAR-10 stats\n",
    "])\n",
    "\n",
    "test_transform_batch = transforms.Compose([\n",
    "    transforms.Normalize((0.4914, 0.4822, 0.4465), (0.2023, 0.1994, 0.2010)),  # CIFAR-10 stats\n",
    "])"
   ]
  },
  {
   "cell_type": "code",
   "execution_count": 6,
   "metadata": {
    "colab": {
     "base_uri": "https://localhost:8080/"
    },
    "id": "fMFQEv7MF5Um",
    "outputId": "c0d20119-8e98-4f6b-ec9c-1d46313be37a"
   },
   "outputs": [
    {
     "data": {
      "text/plain": [
       "(torch.Size([40000, 3, 32, 32]),\n",
       " torch.Size([10000, 3, 32, 32]),\n",
       " torch.Size([40000]),\n",
       " torch.Size([10000]))"
      ]
     },
     "execution_count": 6,
     "metadata": {},
     "output_type": "execute_result"
    }
   ],
   "source": [
    "# Wrap in DataLoader for batching\n",
    "train_loader = DataLoader(\n",
    "    list(zip(X_train, y_train))\n",
    "    , batch_size=128\n",
    "    , shuffle=True\n",
    ")\n",
    "\n",
    "test_loader = DataLoader(\n",
    "    list(zip(X_test, y_test))\n",
    "    , batch_size=128\n",
    "    , shuffle=False\n",
    ")"
   ]
  },
  {
   "cell_type": "code",
   "execution_count": null,
   "metadata": {
    "id": "32UJBmUmF5f-"
   },
   "outputs": [],
   "source": [
    "# Wrap in DataLoader for batching\n",
    "\n",
    "train_loader = DataLoader(\n",
    "    list(zip(X_train, y_train))\n",
    "    , batch_size=128\n",
    "    , shuffle=True\n",
    ")\n",
    "\n",
    "test_loader = DataLoader(\n",
    "    list(zip(X_test, y_test))\n",
    "    , batch_size=128\n",
    "    , shuffle=False\n",
    ")"
   ]
  },
  {
   "cell_type": "code",
   "execution_count": 7,
   "metadata": {
    "id": "WnyJLNgqRAMF"
   },
   "outputs": [],
   "source": [
    "class Cifar10CNN_v3(nn.Module):\n",
    "    def __init__(self, channels=64, dropout=0.3):\n",
    "        super().__init__()\n",
    "        # Convolutional block 1\n",
    "        self.conv1 = nn.Conv2d(3, channels, kernel_size=3, padding=1)\n",
    "        self.bn1 = nn.BatchNorm2d(channels)\n",
    "\n",
    "        # Convolutional block 2\n",
    "        self.conv2 = nn.Conv2d(channels, channels * 2, kernel_size=3, padding=1)\n",
    "        self.bn2 = nn.BatchNorm2d(channels * 2)\n",
    "\n",
    "        # Convolutional block 3\n",
    "        self.conv3 = nn.Conv2d(channels * 2, channels * 4, kernel_size=3, padding=1)\n",
    "        self.bn3 = nn.BatchNorm2d(channels * 4)\n",
    "\n",
    "        # Convolutional block 4\n",
    "        self.conv4 = nn.Conv2d(channels * 4, channels * 8, kernel_size=3, padding=1)\n",
    "        self.bn4 = nn.BatchNorm2d(channels * 8)\n",
    "\n",
    "        # Global average pooling to reduce overfitting\n",
    "        self.global_avgpool = nn.AdaptiveAvgPool2d(1)\n",
    "\n",
    "        # Fully connected layers\n",
    "        self.fc1 = nn.Linear(channels * 8, 512)\n",
    "        self.fc2 = nn.Linear(512, 256)\n",
    "        self.fc_out = nn.Linear(256, 10)\n",
    "        self.dropout = nn.Dropout(dropout)\n",
    "\n",
    "    def forward(self, x):\n",
    "        # Block 1\n",
    "        x = F.relu(self.bn1(self.conv1(x)))\n",
    "        x = F.max_pool2d(x, 2)\n",
    "\n",
    "        # Block 2\n",
    "        x = F.relu(self.bn2(self.conv2(x)))\n",
    "        x = F.max_pool2d(x, 2)\n",
    "\n",
    "        # Block 3\n",
    "        x = F.relu(self.bn3(self.conv3(x)))\n",
    "        x = F.max_pool2d(x, 2)\n",
    "\n",
    "        # Block 4\n",
    "        x = F.relu(self.bn4(self.conv4(x)))\n",
    "        x = F.max_pool2d(x, 2)\n",
    "\n",
    "        # Global average pooling\n",
    "        x = self.global_avgpool(x)\n",
    "        x = torch.flatten(x, 1)\n",
    "\n",
    "        # Fully connected layers\n",
    "        x = F.relu(self.fc1(self.dropout(x)))\n",
    "        x = F.relu(self.fc2(self.dropout(x)))\n",
    "        return self.fc_out(x)"
   ]
  },
  {
   "cell_type": "code",
   "execution_count": 8,
   "metadata": {
    "colab": {
     "base_uri": "https://localhost:8080/"
    },
    "id": "2ETvJ4iPF5nI",
    "outputId": "025a5aa6-28ba-48f4-8ef5-9d59461644ee"
   },
   "outputs": [
    {
     "name": "stdout",
     "output_type": "stream",
     "text": [
      "  epoch    train_loss    valid_acc    valid_loss     dur\n",
      "-------  ------------  -----------  ------------  ------\n",
      "      1        \u001b[36m1.5651\u001b[0m       \u001b[32m0.5199\u001b[0m        \u001b[35m1.2752\u001b[0m  5.6074\n",
      "      2        \u001b[36m1.1371\u001b[0m       \u001b[32m0.5845\u001b[0m        \u001b[35m1.1694\u001b[0m  4.2864\n",
      "      3        \u001b[36m0.9609\u001b[0m       \u001b[32m0.6539\u001b[0m        \u001b[35m0.9764\u001b[0m  4.4175\n",
      "      4        \u001b[36m0.8508\u001b[0m       \u001b[32m0.6681\u001b[0m        \u001b[35m0.9181\u001b[0m  4.5093\n",
      "      5        \u001b[36m0.7538\u001b[0m       0.6619        1.0008  4.4015\n",
      "      6        \u001b[36m0.6754\u001b[0m       \u001b[32m0.7105\u001b[0m        \u001b[35m0.8519\u001b[0m  4.3180\n",
      "      7        \u001b[36m0.6032\u001b[0m       \u001b[32m0.7334\u001b[0m        \u001b[35m0.7742\u001b[0m  4.2865\n",
      "      8        \u001b[36m0.5361\u001b[0m       0.6881        0.9893  5.2351\n",
      "      9        \u001b[36m0.4785\u001b[0m       0.6551        1.1563  4.9584\n",
      "     10        \u001b[36m0.4285\u001b[0m       0.6109        1.4342  5.5588\n",
      "Train accuracy: 0.708975\n",
      "CPU times: user 45.1 s, sys: 513 ms, total: 45.6 s\n",
      "Wall time: 49.9 s\n"
     ]
    }
   ],
   "source": [
    "%%time\n",
    "# 3. Wrap (a base model) with skorch\n",
    "\n",
    "net = NeuralNetClassifier(\n",
    "    module=Cifar10CNN_v3\n",
    "    , criterion=nn.CrossEntropyLoss\n",
    "    , max_epochs=10\n",
    "    , lr=0.0001\n",
    "    , optimizer=torch.optim.Adam\n",
    "    , batch_size=128\n",
    "    , iterator_train__shuffle=True\n",
    "    , device=device\n",
    ")\n",
    "\n",
    "net.fit(X_train, y_train)\n",
    "\n",
    "print(\"Train accuracy:\", net.score(X_train, y_train))"
   ]
  },
  {
   "cell_type": "code",
   "execution_count": 9,
   "metadata": {
    "id": "eIAU9fznF6ms"
   },
   "outputs": [],
   "source": [
    "# 4a. RandomizedSearchCV for Hyperparams Tuning\n",
    "\n",
    "# (param_dist_v3)\n",
    "\n",
    "param_dist = {\n",
    "    \"module__channels\": [32, 64, 128],  # Increasing upper range\n",
    "    \"module__dropout\": [0.2, 0.3, 0.5],  # Slightly reduced dropout values\n",
    "    \"lr\": [1e-4, 3e-4, 1e-3],  # Removed extreme values for better control\n",
    "    \"optimizer\": [torch.optim.Adam, torch.optim.SGD, torch.optim.RMSprop],\n",
    "    \"batch_size\": [64, 128],  # Added smaller batch size for exploration\n",
    "    \"optimizer__momentum\": [0.0, 0.9],\n",
    "    \"optimizer__weight_decay\": [0.0, 1e-4, 5e-4],\n",
    "}"
   ]
  },
  {
   "cell_type": "code",
   "execution_count": 10,
   "metadata": {
    "colab": {
     "base_uri": "https://localhost:8080/"
    },
    "id": "U5j44_mMF6pq",
    "outputId": "8482ca58-0ac0-490c-d4e2-f58814b50fd5"
   },
   "outputs": [
    {
     "name": "stdout",
     "output_type": "stream",
     "text": [
      "Fitting 3 folds for each of 10 candidates, totalling 30 fits\n",
      "  epoch    train_loss    valid_acc    valid_loss     dur\n",
      "-------  ------------  -----------  ------------  ------\n",
      "      1        \u001b[36m1.7322\u001b[0m       \u001b[32m0.3776\u001b[0m        \u001b[35m1.7492\u001b[0m  4.4208\n",
      "      2        \u001b[36m1.3041\u001b[0m       \u001b[32m0.4898\u001b[0m        \u001b[35m1.4306\u001b[0m  4.5251\n",
      "      3        \u001b[36m1.0954\u001b[0m       \u001b[32m0.6352\u001b[0m        \u001b[35m1.0212\u001b[0m  4.4276\n",
      "      4        \u001b[36m0.9468\u001b[0m       0.5594        1.2473  4.5499\n",
      "      5        \u001b[36m0.8336\u001b[0m       \u001b[32m0.6801\u001b[0m        \u001b[35m0.9099\u001b[0m  4.5220\n",
      "      6        \u001b[36m0.7322\u001b[0m       0.6697        0.9771  4.4291\n",
      "      7        \u001b[36m0.6414\u001b[0m       0.6700        0.9879  4.5313\n",
      "      8        \u001b[36m0.5661\u001b[0m       \u001b[32m0.7469\u001b[0m        \u001b[35m0.7465\u001b[0m  4.4131\n",
      "      9        \u001b[36m0.4894\u001b[0m       0.6950        0.9143  4.4233\n",
      "     10        \u001b[36m0.4343\u001b[0m       \u001b[32m0.7475\u001b[0m        0.7763  4.5257\n",
      "Best CV accuracy: 0.7108251708842594\n",
      "Best params: {'optimizer__weight_decay': 0.0, 'optimizer__momentum': 0.9, 'optimizer': <class 'torch.optim.rmsprop.RMSprop'>, 'module__dropout': 0.3, 'module__channels': 64, 'lr': 0.0003, 'batch_size': 128}\n",
      "CPU times: user 53 s, sys: 22.1 s, total: 1min 15s\n",
      "Wall time: 10min 25s\n"
     ]
    }
   ],
   "source": [
    "%%time\n",
    "\n",
    "# 4b. Randomized Search Actual (sample combos, actual run;)\n",
    "\n",
    "rs = RandomizedSearchCV(\n",
    "    estimator=net\n",
    "    , param_distributions=param_dist\n",
    "    , n_iter=10\n",
    "    , cv=3\n",
    "    , scoring=\"accuracy\"\n",
    "    , verbose=1\n",
    "    , random_state=27\n",
    "    , n_jobs=-1\n",
    ")\n",
    "\n",
    "rs.fit(X_train, y_train)\n",
    "\n",
    "print(\"Best CV accuracy:\", rs.best_score_)\n",
    "print(\"Best params:\", rs.best_params_)"
   ]
  },
  {
   "cell_type": "code",
   "execution_count": 11,
   "metadata": {
    "colab": {
     "base_uri": "https://localhost:8080/",
     "height": 216
    },
    "id": "UH7O1aIzF6sr",
    "outputId": "40047180-9474-4827-da6e-3a722d05a5da"
   },
   "outputs": [
    {
     "data": {
      "application/vnd.google.colaboratory.intrinsic+json": {
       "summary": "{\n  \"name\": \"results\",\n  \"rows\": 10,\n  \"fields\": [\n    {\n      \"column\": \"mean_fit_time\",\n      \"properties\": {\n        \"dtype\": \"number\",\n        \"std\": 40.72267317651152,\n        \"min\": 0.4711802005767822,\n        \"max\": 131.30747946103415,\n        \"num_unique_values\": 10,\n        \"samples\": [\n          27.4114187558492,\n          57.94018546740214,\n          36.30014816919962\n        ],\n        \"semantic_type\": \"\",\n        \"description\": \"\"\n      }\n    },\n    {\n      \"column\": \"std_fit_time\",\n      \"properties\": {\n        \"dtype\": \"number\",\n        \"std\": 3.0321874029943148,\n        \"min\": 0.012530963608486653,\n        \"max\": 8.667713736717147,\n        \"num_unique_values\": 10,\n        \"samples\": [\n          4.92392176377487,\n          6.460548866767988,\n          1.8071236213442674\n        ],\n        \"semantic_type\": \"\",\n        \"description\": \"\"\n      }\n    },\n    {\n      \"column\": \"mean_score_time\",\n      \"properties\": {\n        \"dtype\": \"number\",\n        \"std\": 0.7153732524914654,\n        \"min\": 0.0,\n        \"max\": 2.1167128880818686,\n        \"num_unique_values\": 7,\n        \"samples\": [\n          2.1167128880818686,\n          1.2583382924397786,\n          1.1796358426411946\n        ],\n        \"semantic_type\": \"\",\n        \"description\": \"\"\n      }\n    },\n    {\n      \"column\": \"std_score_time\",\n      \"properties\": {\n        \"dtype\": \"number\",\n        \"std\": 0.1569817645936462,\n        \"min\": 0.0,\n        \"max\": 0.5034851009216667,\n        \"num_unique_values\": 7,\n        \"samples\": [\n          0.5034851009216667,\n          0.19269859807045497,\n          0.03460975537972179\n        ],\n        \"semantic_type\": \"\",\n        \"description\": \"\"\n      }\n    },\n    {\n      \"column\": \"param_optimizer__weight_decay\",\n      \"properties\": {\n        \"dtype\": \"number\",\n        \"std\": 0.0002440400695696417,\n        \"min\": 0.0,\n        \"max\": 0.0005,\n        \"num_unique_values\": 3,\n        \"samples\": [\n          0.0001,\n          0.0,\n          0.0005\n        ],\n        \"semantic_type\": \"\",\n        \"description\": \"\"\n      }\n    },\n    {\n      \"column\": \"param_optimizer__momentum\",\n      \"properties\": {\n        \"dtype\": \"number\",\n        \"std\": 0.474341649025257,\n        \"min\": 0.0,\n        \"max\": 0.9,\n        \"num_unique_values\": 2,\n        \"samples\": [\n          0.9,\n          0.0\n        ],\n        \"semantic_type\": \"\",\n        \"description\": \"\"\n      }\n    },\n    {\n      \"column\": \"param_optimizer\",\n      \"properties\": {\n        \"dtype\": \"category\",\n        \"num_unique_values\": 3,\n        \"samples\": [\n          \"<class 'torch.optim.rmsprop.RMSprop'>\",\n          \"<class 'torch.optim.sgd.SGD'>\"\n        ],\n        \"semantic_type\": \"\",\n        \"description\": \"\"\n      }\n    },\n    {\n      \"column\": \"param_module__dropout\",\n      \"properties\": {\n        \"dtype\": \"number\",\n        \"std\": 0.12516655570345725,\n        \"min\": 0.2,\n        \"max\": 0.5,\n        \"num_unique_values\": 3,\n        \"samples\": [\n          0.5,\n          0.2\n        ],\n        \"semantic_type\": \"\",\n        \"description\": \"\"\n      }\n    },\n    {\n      \"column\": \"param_module__channels\",\n      \"properties\": {\n        \"dtype\": \"number\",\n        \"std\": 30,\n        \"min\": 32,\n        \"max\": 128,\n        \"num_unique_values\": 3,\n        \"samples\": [\n          128,\n          64\n        ],\n        \"semantic_type\": \"\",\n        \"description\": \"\"\n      }\n    },\n    {\n      \"column\": \"param_lr\",\n      \"properties\": {\n        \"dtype\": \"number\",\n        \"std\": 9.660917830792957e-05,\n        \"min\": 0.0001,\n        \"max\": 0.0003,\n        \"num_unique_values\": 2,\n        \"samples\": [\n          0.0003,\n          0.0001\n        ],\n        \"semantic_type\": \"\",\n        \"description\": \"\"\n      }\n    },\n    {\n      \"column\": \"param_batch_size\",\n      \"properties\": {\n        \"dtype\": \"number\",\n        \"std\": 33,\n        \"min\": 64,\n        \"max\": 128,\n        \"num_unique_values\": 2,\n        \"samples\": [\n          64,\n          128\n        ],\n        \"semantic_type\": \"\",\n        \"description\": \"\"\n      }\n    },\n    {\n      \"column\": \"params\",\n      \"properties\": {\n        \"dtype\": \"object\",\n        \"semantic_type\": \"\",\n        \"description\": \"\"\n      }\n    },\n    {\n      \"column\": \"split0_test_score\",\n      \"properties\": {\n        \"dtype\": \"number\",\n        \"std\": 0.18696806533967686,\n        \"min\": 0.30808459577021147,\n        \"max\": 0.7039898005099745,\n        \"num_unique_values\": 6,\n        \"samples\": [\n          0.6863656817159142,\n          0.6720413979301035\n        ],\n        \"semantic_type\": \"\",\n        \"description\": \"\"\n      }\n    },\n    {\n      \"column\": \"split1_test_score\",\n      \"properties\": {\n        \"dtype\": \"number\",\n        \"std\": 0.17213368836260587,\n        \"min\": 0.3179329483237081,\n        \"max\": 0.7161179029475737,\n        \"num_unique_values\": 6,\n        \"samples\": [\n          0.698942473561839,\n          0.5764644116102903\n        ],\n        \"semantic_type\": \"\",\n        \"description\": \"\"\n      }\n    },\n    {\n      \"column\": \"split2_test_score\",\n      \"properties\": {\n        \"dtype\": \"number\",\n        \"std\": 0.16008098252925668,\n        \"min\": 0.32303307582689567,\n        \"max\": 0.7123678091952299,\n        \"num_unique_values\": 6,\n        \"samples\": [\n          0.49778744468611713,\n          0.5109127728193205\n        ],\n        \"semantic_type\": \"\",\n        \"description\": \"\"\n      }\n    },\n    {\n      \"column\": \"mean_test_score\",\n      \"properties\": {\n        \"dtype\": \"number\",\n        \"std\": 0.16707267323562605,\n        \"min\": 0.31635020664027175,\n        \"max\": 0.7108251708842594,\n        \"num_unique_values\": 6,\n        \"samples\": [\n          0.62769853332129,\n          0.5864728607865715\n        ],\n        \"semantic_type\": \"\",\n        \"description\": \"\"\n      }\n    },\n    {\n      \"column\": \"std_test_score\",\n      \"properties\": {\n        \"dtype\": \"number\",\n        \"std\": 0.03680045200920287,\n        \"min\": 0.005070010973234704,\n        \"max\": 0.09200439169251926,\n        \"num_unique_values\": 6,\n        \"samples\": [\n          0.09200439169251926,\n          0.06616008488864199\n        ],\n        \"semantic_type\": \"\",\n        \"description\": \"\"\n      }\n    },\n    {\n      \"column\": \"rank_test_score\",\n      \"properties\": {\n        \"dtype\": \"int32\",\n        \"num_unique_values\": 7,\n        \"samples\": [\n          3,\n          4\n        ],\n        \"semantic_type\": \"\",\n        \"description\": \"\"\n      }\n    }\n  ]\n}",
       "type": "dataframe",
       "variable_name": "results"
      },
      "text/html": [
       "\n",
       "  <div id=\"df-dc7b0d52-a9a8-454f-8447-b84236518a2a\" class=\"colab-df-container\">\n",
       "    <div>\n",
       "<style scoped>\n",
       "    .dataframe tbody tr th:only-of-type {\n",
       "        vertical-align: middle;\n",
       "    }\n",
       "\n",
       "    .dataframe tbody tr th {\n",
       "        vertical-align: top;\n",
       "    }\n",
       "\n",
       "    .dataframe thead th {\n",
       "        text-align: right;\n",
       "    }\n",
       "</style>\n",
       "<table border=\"1\" class=\"dataframe\">\n",
       "  <thead>\n",
       "    <tr style=\"text-align: right;\">\n",
       "      <th></th>\n",
       "      <th>mean_fit_time</th>\n",
       "      <th>std_fit_time</th>\n",
       "      <th>mean_score_time</th>\n",
       "      <th>std_score_time</th>\n",
       "      <th>param_optimizer__weight_decay</th>\n",
       "      <th>param_optimizer__momentum</th>\n",
       "      <th>param_optimizer</th>\n",
       "      <th>param_module__dropout</th>\n",
       "      <th>param_module__channels</th>\n",
       "      <th>param_lr</th>\n",
       "      <th>param_batch_size</th>\n",
       "      <th>params</th>\n",
       "      <th>split0_test_score</th>\n",
       "      <th>split1_test_score</th>\n",
       "      <th>split2_test_score</th>\n",
       "      <th>mean_test_score</th>\n",
       "      <th>std_test_score</th>\n",
       "      <th>rank_test_score</th>\n",
       "    </tr>\n",
       "  </thead>\n",
       "  <tbody>\n",
       "    <tr>\n",
       "      <th>0</th>\n",
       "      <td>131.307479</td>\n",
       "      <td>8.667714</td>\n",
       "      <td>2.116713</td>\n",
       "      <td>0.503485</td>\n",
       "      <td>0.0001</td>\n",
       "      <td>0.0</td>\n",
       "      <td>&lt;class 'torch.optim.rmsprop.RMSprop'&gt;</td>\n",
       "      <td>0.5</td>\n",
       "      <td>128</td>\n",
       "      <td>0.0001</td>\n",
       "      <td>128</td>\n",
       "      <td>{'optimizer__weight_decay': 0.0001, 'optimizer...</td>\n",
       "      <td>0.686366</td>\n",
       "      <td>0.698942</td>\n",
       "      <td>0.497787</td>\n",
       "      <td>0.627699</td>\n",
       "      <td>0.092004</td>\n",
       "      <td>3</td>\n",
       "    </tr>\n",
       "    <tr>\n",
       "      <th>1</th>\n",
       "      <td>57.940185</td>\n",
       "      <td>6.460549</td>\n",
       "      <td>1.258338</td>\n",
       "      <td>0.192699</td>\n",
       "      <td>0.0000</td>\n",
       "      <td>0.0</td>\n",
       "      <td>&lt;class 'torch.optim.rmsprop.RMSprop'&gt;</td>\n",
       "      <td>0.2</td>\n",
       "      <td>64</td>\n",
       "      <td>0.0001</td>\n",
       "      <td>128</td>\n",
       "      <td>{'optimizer__weight_decay': 0.0, 'optimizer__m...</td>\n",
       "      <td>0.672041</td>\n",
       "      <td>0.576464</td>\n",
       "      <td>0.510913</td>\n",
       "      <td>0.586473</td>\n",
       "      <td>0.066160</td>\n",
       "      <td>4</td>\n",
       "    </tr>\n",
       "    <tr>\n",
       "      <th>2</th>\n",
       "      <td>36.566407</td>\n",
       "      <td>2.107070</td>\n",
       "      <td>0.865899</td>\n",
       "      <td>0.173721</td>\n",
       "      <td>0.0005</td>\n",
       "      <td>0.9</td>\n",
       "      <td>&lt;class 'torch.optim.sgd.SGD'&gt;</td>\n",
       "      <td>0.5</td>\n",
       "      <td>32</td>\n",
       "      <td>0.0001</td>\n",
       "      <td>64</td>\n",
       "      <td>{'optimizer__weight_decay': 0.0005, 'optimizer...</td>\n",
       "      <td>0.308085</td>\n",
       "      <td>0.317933</td>\n",
       "      <td>0.323033</td>\n",
       "      <td>0.316350</td>\n",
       "      <td>0.006204</td>\n",
       "      <td>6</td>\n",
       "    </tr>\n",
       "  </tbody>\n",
       "</table>\n",
       "</div>\n",
       "    <div class=\"colab-df-buttons\">\n",
       "\n",
       "  <div class=\"colab-df-container\">\n",
       "    <button class=\"colab-df-convert\" onclick=\"convertToInteractive('df-dc7b0d52-a9a8-454f-8447-b84236518a2a')\"\n",
       "            title=\"Convert this dataframe to an interactive table.\"\n",
       "            style=\"display:none;\">\n",
       "\n",
       "  <svg xmlns=\"http://www.w3.org/2000/svg\" height=\"24px\" viewBox=\"0 -960 960 960\">\n",
       "    <path d=\"M120-120v-720h720v720H120Zm60-500h600v-160H180v160Zm220 220h160v-160H400v160Zm0 220h160v-160H400v160ZM180-400h160v-160H180v160Zm440 0h160v-160H620v160ZM180-180h160v-160H180v160Zm440 0h160v-160H620v160Z\"/>\n",
       "  </svg>\n",
       "    </button>\n",
       "\n",
       "  <style>\n",
       "    .colab-df-container {\n",
       "      display:flex;\n",
       "      gap: 12px;\n",
       "    }\n",
       "\n",
       "    .colab-df-convert {\n",
       "      background-color: #E8F0FE;\n",
       "      border: none;\n",
       "      border-radius: 50%;\n",
       "      cursor: pointer;\n",
       "      display: none;\n",
       "      fill: #1967D2;\n",
       "      height: 32px;\n",
       "      padding: 0 0 0 0;\n",
       "      width: 32px;\n",
       "    }\n",
       "\n",
       "    .colab-df-convert:hover {\n",
       "      background-color: #E2EBFA;\n",
       "      box-shadow: 0px 1px 2px rgba(60, 64, 67, 0.3), 0px 1px 3px 1px rgba(60, 64, 67, 0.15);\n",
       "      fill: #174EA6;\n",
       "    }\n",
       "\n",
       "    .colab-df-buttons div {\n",
       "      margin-bottom: 4px;\n",
       "    }\n",
       "\n",
       "    [theme=dark] .colab-df-convert {\n",
       "      background-color: #3B4455;\n",
       "      fill: #D2E3FC;\n",
       "    }\n",
       "\n",
       "    [theme=dark] .colab-df-convert:hover {\n",
       "      background-color: #434B5C;\n",
       "      box-shadow: 0px 1px 3px 1px rgba(0, 0, 0, 0.15);\n",
       "      filter: drop-shadow(0px 1px 2px rgba(0, 0, 0, 0.3));\n",
       "      fill: #FFFFFF;\n",
       "    }\n",
       "  </style>\n",
       "\n",
       "    <script>\n",
       "      const buttonEl =\n",
       "        document.querySelector('#df-dc7b0d52-a9a8-454f-8447-b84236518a2a button.colab-df-convert');\n",
       "      buttonEl.style.display =\n",
       "        google.colab.kernel.accessAllowed ? 'block' : 'none';\n",
       "\n",
       "      async function convertToInteractive(key) {\n",
       "        const element = document.querySelector('#df-dc7b0d52-a9a8-454f-8447-b84236518a2a');\n",
       "        const dataTable =\n",
       "          await google.colab.kernel.invokeFunction('convertToInteractive',\n",
       "                                                    [key], {});\n",
       "        if (!dataTable) return;\n",
       "\n",
       "        const docLinkHtml = 'Like what you see? Visit the ' +\n",
       "          '<a target=\"_blank\" href=https://colab.research.google.com/notebooks/data_table.ipynb>data table notebook</a>'\n",
       "          + ' to learn more about interactive tables.';\n",
       "        element.innerHTML = '';\n",
       "        dataTable['output_type'] = 'display_data';\n",
       "        await google.colab.output.renderOutput(dataTable, element);\n",
       "        const docLink = document.createElement('div');\n",
       "        docLink.innerHTML = docLinkHtml;\n",
       "        element.appendChild(docLink);\n",
       "      }\n",
       "    </script>\n",
       "  </div>\n",
       "\n",
       "\n",
       "    <div id=\"df-8934d51f-f355-4400-b0de-44b209ca56c4\">\n",
       "      <button class=\"colab-df-quickchart\" onclick=\"quickchart('df-8934d51f-f355-4400-b0de-44b209ca56c4')\"\n",
       "                title=\"Suggest charts\"\n",
       "                style=\"display:none;\">\n",
       "\n",
       "<svg xmlns=\"http://www.w3.org/2000/svg\" height=\"24px\"viewBox=\"0 0 24 24\"\n",
       "     width=\"24px\">\n",
       "    <g>\n",
       "        <path d=\"M19 3H5c-1.1 0-2 .9-2 2v14c0 1.1.9 2 2 2h14c1.1 0 2-.9 2-2V5c0-1.1-.9-2-2-2zM9 17H7v-7h2v7zm4 0h-2V7h2v10zm4 0h-2v-4h2v4z\"/>\n",
       "    </g>\n",
       "</svg>\n",
       "      </button>\n",
       "\n",
       "<style>\n",
       "  .colab-df-quickchart {\n",
       "      --bg-color: #E8F0FE;\n",
       "      --fill-color: #1967D2;\n",
       "      --hover-bg-color: #E2EBFA;\n",
       "      --hover-fill-color: #174EA6;\n",
       "      --disabled-fill-color: #AAA;\n",
       "      --disabled-bg-color: #DDD;\n",
       "  }\n",
       "\n",
       "  [theme=dark] .colab-df-quickchart {\n",
       "      --bg-color: #3B4455;\n",
       "      --fill-color: #D2E3FC;\n",
       "      --hover-bg-color: #434B5C;\n",
       "      --hover-fill-color: #FFFFFF;\n",
       "      --disabled-bg-color: #3B4455;\n",
       "      --disabled-fill-color: #666;\n",
       "  }\n",
       "\n",
       "  .colab-df-quickchart {\n",
       "    background-color: var(--bg-color);\n",
       "    border: none;\n",
       "    border-radius: 50%;\n",
       "    cursor: pointer;\n",
       "    display: none;\n",
       "    fill: var(--fill-color);\n",
       "    height: 32px;\n",
       "    padding: 0;\n",
       "    width: 32px;\n",
       "  }\n",
       "\n",
       "  .colab-df-quickchart:hover {\n",
       "    background-color: var(--hover-bg-color);\n",
       "    box-shadow: 0 1px 2px rgba(60, 64, 67, 0.3), 0 1px 3px 1px rgba(60, 64, 67, 0.15);\n",
       "    fill: var(--button-hover-fill-color);\n",
       "  }\n",
       "\n",
       "  .colab-df-quickchart-complete:disabled,\n",
       "  .colab-df-quickchart-complete:disabled:hover {\n",
       "    background-color: var(--disabled-bg-color);\n",
       "    fill: var(--disabled-fill-color);\n",
       "    box-shadow: none;\n",
       "  }\n",
       "\n",
       "  .colab-df-spinner {\n",
       "    border: 2px solid var(--fill-color);\n",
       "    border-color: transparent;\n",
       "    border-bottom-color: var(--fill-color);\n",
       "    animation:\n",
       "      spin 1s steps(1) infinite;\n",
       "  }\n",
       "\n",
       "  @keyframes spin {\n",
       "    0% {\n",
       "      border-color: transparent;\n",
       "      border-bottom-color: var(--fill-color);\n",
       "      border-left-color: var(--fill-color);\n",
       "    }\n",
       "    20% {\n",
       "      border-color: transparent;\n",
       "      border-left-color: var(--fill-color);\n",
       "      border-top-color: var(--fill-color);\n",
       "    }\n",
       "    30% {\n",
       "      border-color: transparent;\n",
       "      border-left-color: var(--fill-color);\n",
       "      border-top-color: var(--fill-color);\n",
       "      border-right-color: var(--fill-color);\n",
       "    }\n",
       "    40% {\n",
       "      border-color: transparent;\n",
       "      border-right-color: var(--fill-color);\n",
       "      border-top-color: var(--fill-color);\n",
       "    }\n",
       "    60% {\n",
       "      border-color: transparent;\n",
       "      border-right-color: var(--fill-color);\n",
       "    }\n",
       "    80% {\n",
       "      border-color: transparent;\n",
       "      border-right-color: var(--fill-color);\n",
       "      border-bottom-color: var(--fill-color);\n",
       "    }\n",
       "    90% {\n",
       "      border-color: transparent;\n",
       "      border-bottom-color: var(--fill-color);\n",
       "    }\n",
       "  }\n",
       "</style>\n",
       "\n",
       "      <script>\n",
       "        async function quickchart(key) {\n",
       "          const quickchartButtonEl =\n",
       "            document.querySelector('#' + key + ' button');\n",
       "          quickchartButtonEl.disabled = true;  // To prevent multiple clicks.\n",
       "          quickchartButtonEl.classList.add('colab-df-spinner');\n",
       "          try {\n",
       "            const charts = await google.colab.kernel.invokeFunction(\n",
       "                'suggestCharts', [key], {});\n",
       "          } catch (error) {\n",
       "            console.error('Error during call to suggestCharts:', error);\n",
       "          }\n",
       "          quickchartButtonEl.classList.remove('colab-df-spinner');\n",
       "          quickchartButtonEl.classList.add('colab-df-quickchart-complete');\n",
       "        }\n",
       "        (() => {\n",
       "          let quickchartButtonEl =\n",
       "            document.querySelector('#df-8934d51f-f355-4400-b0de-44b209ca56c4 button');\n",
       "          quickchartButtonEl.style.display =\n",
       "            google.colab.kernel.accessAllowed ? 'block' : 'none';\n",
       "        })();\n",
       "      </script>\n",
       "    </div>\n",
       "\n",
       "    </div>\n",
       "  </div>\n"
      ],
      "text/plain": [
       "   mean_fit_time  std_fit_time  mean_score_time  std_score_time  \\\n",
       "0     131.307479      8.667714         2.116713        0.503485   \n",
       "1      57.940185      6.460549         1.258338        0.192699   \n",
       "2      36.566407      2.107070         0.865899        0.173721   \n",
       "\n",
       "   param_optimizer__weight_decay  param_optimizer__momentum  \\\n",
       "0                         0.0001                        0.0   \n",
       "1                         0.0000                        0.0   \n",
       "2                         0.0005                        0.9   \n",
       "\n",
       "                         param_optimizer  param_module__dropout  \\\n",
       "0  <class 'torch.optim.rmsprop.RMSprop'>                    0.5   \n",
       "1  <class 'torch.optim.rmsprop.RMSprop'>                    0.2   \n",
       "2          <class 'torch.optim.sgd.SGD'>                    0.5   \n",
       "\n",
       "   param_module__channels  param_lr  param_batch_size  \\\n",
       "0                     128    0.0001               128   \n",
       "1                      64    0.0001               128   \n",
       "2                      32    0.0001                64   \n",
       "\n",
       "                                              params  split0_test_score  \\\n",
       "0  {'optimizer__weight_decay': 0.0001, 'optimizer...           0.686366   \n",
       "1  {'optimizer__weight_decay': 0.0, 'optimizer__m...           0.672041   \n",
       "2  {'optimizer__weight_decay': 0.0005, 'optimizer...           0.308085   \n",
       "\n",
       "   split1_test_score  split2_test_score  mean_test_score  std_test_score  \\\n",
       "0           0.698942           0.497787         0.627699        0.092004   \n",
       "1           0.576464           0.510913         0.586473        0.066160   \n",
       "2           0.317933           0.323033         0.316350        0.006204   \n",
       "\n",
       "   rank_test_score  \n",
       "0                3  \n",
       "1                4  \n",
       "2                6  "
      ]
     },
     "execution_count": 11,
     "metadata": {},
     "output_type": "execute_result"
    }
   ],
   "source": [
    "# 5. Send results to a dataframe for clean review;\n",
    "\n",
    "results = pd.DataFrame(rs.cv_results_)\n",
    "results[[\n",
    "    \"mean_test_score\"\n",
    "    , \"std_test_score\"\n",
    "    , \"params\"\n",
    "]].sort_values(\"mean_test_score\", ascending=False, inplace=True)\n",
    "results.head(3)"
   ]
  },
  {
   "cell_type": "code",
   "execution_count": 12,
   "metadata": {
    "colab": {
     "base_uri": "https://localhost:8080/"
    },
    "id": "tirjq3kaJGuM",
    "outputId": "1bf43f52-cb3a-4ee5-d3ed-2ebff0a43c9c"
   },
   "outputs": [
    {
     "data": {
      "text/plain": [
       "{'optimizer__weight_decay': 0.0001,\n",
       " 'optimizer__momentum': 0.0,\n",
       " 'optimizer': torch.optim.rmsprop.RMSprop,\n",
       " 'module__dropout': 0.5,\n",
       " 'module__channels': 128,\n",
       " 'lr': 0.0001,\n",
       " 'batch_size': 128}"
      ]
     },
     "execution_count": 12,
     "metadata": {},
     "output_type": "execute_result"
    }
   ],
   "source": [
    "results['params'].iloc[0]"
   ]
  },
  {
   "cell_type": "code",
   "execution_count": null,
   "metadata": {
    "id": "5izpFe5u4VME"
   },
   "outputs": [],
   "source": [
    "\"\"\"\n",
    "Best params: {'optimizer__weight_decay': 0.0, 'optimizer__momentum': 0.9, 'optimizer': <class 'torch.optim.rmsprop.RMSprop'>, 'module__dropout': 0.3, 'module__channels': 64, 'lr': 0.0003, 'batch_size': 128}\n",
    "\n",
    "\n",
    "{'optimizer__weight_decay': 0.0001,\n",
    " 'optimizer__momentum': 0.0,\n",
    " 'optimizer': torch.optim.rmsprop.RMSprop,\n",
    " 'module__dropout': 0.5,\n",
    " 'module__channels': 128,\n",
    " 'lr': 0.0001,\n",
    " 'batch_size': 128}\n",
    "\n",
    "\"\"\""
   ]
  },
  {
   "cell_type": "code",
   "execution_count": 13,
   "metadata": {
    "colab": {
     "base_uri": "https://localhost:8080/"
    },
    "id": "dAoojeaoF6v1",
    "outputId": "ff00b912-6513-4347-dc07-abd5a85d86b3"
   },
   "outputs": [
    {
     "name": "stdout",
     "output_type": "stream",
     "text": [
      "Accuracy:\n",
      " 0.7557\n",
      "\n",
      "=================================================================\n",
      "\n",
      "Confusion Matrix:\n",
      " [[729   8  41  14  30   2   9  78  52  37]\n",
      " [  7 911   2   2   1   1   4   7  16  49]\n",
      " [ 44   3 585  27 114  41  53 123   8   2]\n",
      " [  7   5  41 394 113 161  76 162  21  20]\n",
      " [  4   0  16   8 765   7  21 171   6   2]\n",
      " [  2   2  22  82  43 646  31 159   7   6]\n",
      " [  2   2  18  20  49  15 862  25   5   2]\n",
      " [  4   0   9   6  16  16   5 940   3   1]\n",
      " [ 26  19   6   8   8   3   6  18 887  19]\n",
      " [ 18  70   1   4   3   1   4  47  14 838]]\n",
      "\n",
      "=================================================================\n",
      "\n",
      "Classification Report:\n",
      "               precision    recall  f1-score   support\n",
      "\n",
      "           0       0.86      0.73      0.79      1000\n",
      "           1       0.89      0.91      0.90      1000\n",
      "           2       0.79      0.58      0.67      1000\n",
      "           3       0.70      0.39      0.50      1000\n",
      "           4       0.67      0.77      0.71      1000\n",
      "           5       0.72      0.65      0.68      1000\n",
      "           6       0.80      0.86      0.83      1000\n",
      "           7       0.54      0.94      0.69      1000\n",
      "           8       0.87      0.89      0.88      1000\n",
      "           9       0.86      0.84      0.85      1000\n",
      "\n",
      "    accuracy                           0.76     10000\n",
      "   macro avg       0.77      0.76      0.75     10000\n",
      "weighted avg       0.77      0.76      0.75     10000\n",
      "\n"
     ]
    }
   ],
   "source": [
    "# 6. Predict & Evaluate Performance with Best Model\n",
    "\n",
    "best_model = rs.best_estimator_\n",
    "y_pred = best_model.predict(X_test)\n",
    "\n",
    "print(\"Accuracy:\\n\", accuracy_score(y_test, y_pred))\n",
    "print('\\n=================================================================\\n')\n",
    "print('Confusion Matrix:\\n', confusion_matrix(y_test, y_pred))\n",
    "print('\\n=================================================================\\n')\n",
    "print(\"Classification Report:\\n\", classification_report(y_test, y_pred))\n",
    "\n",
    "cm = ConfusionMatrix(num_classes=10, task='multiclass')\n",
    "cm_tensor = cm(torch.tensor(y_pred), y_test)"
   ]
  },
  {
   "cell_type": "code",
   "execution_count": 15,
   "metadata": {
    "colab": {
     "base_uri": "https://localhost:8080/",
     "height": 837
    },
    "id": "99kklmvPF6yo",
    "outputId": "8a306b0e-e7e2-4c6e-8f86-e011c3f54443"
   },
   "outputs": [
    {
     "data": {
      "image/png": "[encoded data removed]",
      "text/plain": [
       "<Figure size 1200x1000 with 2 Axes>"
      ]
     },
     "metadata": {},
     "output_type": "display_data"
    }
   ],
   "source": [
    "# 7. Plot the Confusion Matrix\n",
    "\n",
    "fig, ax = plt.subplots(figsize=(12, 10))\n",
    "\n",
    "# disp = ConfusionMatrixDisplay.from_predictions(\n",
    "#     y_test, y_pred\n",
    "#     , display_labels=dataset.classes\n",
    "#     , cmap='Blues'\n",
    "#     , normalize='true', xticks_rotation=45\n",
    "# )\n",
    "\n",
    "disp.plot(ax=ax, cmap='Blues')\n",
    "plt.show();"
   ]
  },
  {
   "cell_type": "code",
   "execution_count": 16,
   "metadata": {
    "id": "FlkgLcZXF61g"
   },
   "outputs": [],
   "source": [
    " # 8. Functionize the train & test loop(s):\n",
    "\n",
    "def train_step(model, loader, loss_fn, optimizer, accuracy_fn, device):\n",
    "    model.train()\n",
    "    total_loss, total_acc = 0, 0\n",
    "    for X, y in loader:\n",
    "        X, y = X.to(device), y.to(device)\n",
    "        # Apply train transforms to the batch\n",
    "        X = train_transform_batch(X)\n",
    "        y_pred = model(X)\n",
    "        loss = loss_fn(y_pred, y)\n",
    "        optimizer.zero_grad()\n",
    "        loss.backward()\n",
    "        optimizer.step()\n",
    "        total_loss += loss.item()\n",
    "        total_acc += accuracy_fn(y_pred.argmax(dim=1), y).item()\n",
    "    return total_loss / len(loader), total_acc / len(loader)\n",
    "\n",
    "def test_step(model, loader, loss_fn, accuracy_fn, device):\n",
    "    model.eval()\n",
    "    total_loss, total_acc = 0, 0\n",
    "    with torch.no_grad():\n",
    "        for X, y in loader:\n",
    "            X, y = X.to(device), y.to(device)\n",
    "            # Apply test transforms to the batch\n",
    "            X = test_transform_batch(X)\n",
    "            y_pred = model(X)\n",
    "            loss = loss_fn(y_pred, y)\n",
    "            total_loss += loss.item()\n",
    "            total_acc += accuracy_fn(y_pred.argmax(dim=1), y).item()\n",
    "    return total_loss / len(loader), total_acc / len(loader)"
   ]
  },
  {
   "cell_type": "markdown",
   "metadata": {
    "id": "k2mP3zx8XFNA"
   },
   "source": []
  },
  {
   "cell_type": "code",
   "execution_count": 17,
   "metadata": {
    "colab": {
     "base_uri": "https://localhost:8080/"
    },
    "id": "NmwX420VF65-",
    "outputId": "27601def-a504-4405-f8eb-2916cc0dd31f"
   },
   "outputs": [
    {
     "data": {
      "text/plain": [
       "Cifar10CNN_v3(\n",
       "  (conv1): Conv2d(3, 64, kernel_size=(3, 3), stride=(1, 1), padding=(1, 1))\n",
       "  (bn1): BatchNorm2d(64, eps=1e-05, momentum=0.1, affine=True, track_running_stats=True)\n",
       "  (conv2): Conv2d(64, 128, kernel_size=(3, 3), stride=(1, 1), padding=(1, 1))\n",
       "  (bn2): BatchNorm2d(128, eps=1e-05, momentum=0.1, affine=True, track_running_stats=True)\n",
       "  (conv3): Conv2d(128, 256, kernel_size=(3, 3), stride=(1, 1), padding=(1, 1))\n",
       "  (bn3): BatchNorm2d(256, eps=1e-05, momentum=0.1, affine=True, track_running_stats=True)\n",
       "  (conv4): Conv2d(256, 512, kernel_size=(3, 3), stride=(1, 1), padding=(1, 1))\n",
       "  (bn4): BatchNorm2d(512, eps=1e-05, momentum=0.1, affine=True, track_running_stats=True)\n",
       "  (global_avgpool): AdaptiveAvgPool2d(output_size=1)\n",
       "  (fc1): Linear(in_features=512, out_features=512, bias=True)\n",
       "  (fc2): Linear(in_features=512, out_features=256, bias=True)\n",
       "  (fc_out): Linear(in_features=256, out_features=10, bias=True)\n",
       "  (dropout): Dropout(p=0.3, inplace=False)\n",
       ")"
      ]
     },
     "execution_count": 17,
     "metadata": {},
     "output_type": "execute_result"
    }
   ],
   "source": [
    "# ---------------------------------------------------------\n",
    "# 9. Set the final model with the best params (including channels & dropout)\n",
    "# ---------------------------------------------------------\n",
    "\n",
    "model = Cifar10CNN_v3(\n",
    "    channels=rs.best_params_[\"module__channels\"]\n",
    "    , dropout=rs.best_params_[\"module__dropout\"]\n",
    ").to(device)\n",
    "\n",
    "model\n",
    "\n",
    "\n",
    "# model = Cifar10CNN_v3(\n",
    "#     num_filters=best_params['module__num_filters'],\n",
    "#     num_units=best_params['module__num_units'],\n",
    "#     dropout=best_params['module__dropout']\n",
    "# ).to(device)\n",
    "\n",
    "# model"
   ]
  },
  {
   "cell_type": "code",
   "execution_count": 18,
   "metadata": {
    "colab": {
     "base_uri": "https://localhost:8080/"
    },
    "id": "dcGwQNBGF68m",
    "outputId": "2cad7a92-343c-4bb4-c890-9a91ca293209"
   },
   "outputs": [
    {
     "name": "stderr",
     "output_type": "stream",
     "text": [
      "  2%|▏         | 1/50 [00:05<04:51,  5.94s/it]"
     ]
    },
    {
     "name": "stdout",
     "output_type": "stream",
     "text": [
      "Epoch 1/50 - Train Loss: 1.4994, Train Acc: 0.44 - Test Loss: 1.4527, Test Acc: 0.50\n"
     ]
    },
    {
     "name": "stderr",
     "output_type": "stream",
     "text": [
      "\r",
      "  4%|▍         | 2/50 [00:11<04:35,  5.74s/it]"
     ]
    },
    {
     "name": "stdout",
     "output_type": "stream",
     "text": [
      "Epoch 2/50 - Train Loss: 1.1380, Train Acc: 0.59 - Test Loss: 1.1006, Test Acc: 0.60\n"
     ]
    },
    {
     "name": "stderr",
     "output_type": "stream",
     "text": [
      "\r",
      "  6%|▌         | 3/50 [00:17<04:30,  5.75s/it]"
     ]
    },
    {
     "name": "stdout",
     "output_type": "stream",
     "text": [
      "Epoch 3/50 - Train Loss: 0.9979, Train Acc: 0.65 - Test Loss: 1.0011, Test Acc: 0.65\n"
     ]
    },
    {
     "name": "stderr",
     "output_type": "stream",
     "text": [
      "\r",
      "  8%|▊         | 4/50 [00:22<04:22,  5.71s/it]"
     ]
    },
    {
     "name": "stdout",
     "output_type": "stream",
     "text": [
      "Epoch 4/50 - Train Loss: 0.9085, Train Acc: 0.68 - Test Loss: 1.0985, Test Acc: 0.64\n"
     ]
    },
    {
     "name": "stderr",
     "output_type": "stream",
     "text": [
      "\r",
      " 10%|█         | 5/50 [00:28<04:14,  5.66s/it]"
     ]
    },
    {
     "name": "stdout",
     "output_type": "stream",
     "text": [
      "Epoch 5/50 - Train Loss: 0.8495, Train Acc: 0.70 - Test Loss: 1.1342, Test Acc: 0.64\n"
     ]
    },
    {
     "name": "stderr",
     "output_type": "stream",
     "text": [
      "\r",
      " 12%|█▏        | 6/50 [00:34<04:12,  5.73s/it]"
     ]
    },
    {
     "name": "stdout",
     "output_type": "stream",
     "text": [
      "Epoch 6/50 - Train Loss: 0.7981, Train Acc: 0.72 - Test Loss: 0.8478, Test Acc: 0.70\n"
     ]
    },
    {
     "name": "stderr",
     "output_type": "stream",
     "text": [
      "\r",
      " 14%|█▍        | 7/50 [00:40<04:07,  5.75s/it]"
     ]
    },
    {
     "name": "stdout",
     "output_type": "stream",
     "text": [
      "Epoch 7/50 - Train Loss: 0.7544, Train Acc: 0.74 - Test Loss: 1.0121, Test Acc: 0.67\n"
     ]
    },
    {
     "name": "stderr",
     "output_type": "stream",
     "text": [
      "\r",
      " 16%|█▌        | 8/50 [00:45<03:59,  5.69s/it]"
     ]
    },
    {
     "name": "stdout",
     "output_type": "stream",
     "text": [
      "Epoch 8/50 - Train Loss: 0.7150, Train Acc: 0.75 - Test Loss: 1.1761, Test Acc: 0.64\n"
     ]
    },
    {
     "name": "stderr",
     "output_type": "stream",
     "text": [
      "\r",
      " 18%|█▊        | 9/50 [00:51<03:50,  5.62s/it]"
     ]
    },
    {
     "name": "stdout",
     "output_type": "stream",
     "text": [
      "Epoch 9/50 - Train Loss: 0.6895, Train Acc: 0.76 - Test Loss: 0.7866, Test Acc: 0.73\n"
     ]
    },
    {
     "name": "stderr",
     "output_type": "stream",
     "text": [
      "\r",
      " 20%|██        | 10/50 [00:56<03:43,  5.58s/it]"
     ]
    },
    {
     "name": "stdout",
     "output_type": "stream",
     "text": [
      "Epoch 10/50 - Train Loss: 0.6586, Train Acc: 0.77 - Test Loss: 0.9321, Test Acc: 0.70\n"
     ]
    },
    {
     "name": "stderr",
     "output_type": "stream",
     "text": [
      "\r",
      " 22%|██▏       | 11/50 [01:02<03:36,  5.55s/it]"
     ]
    },
    {
     "name": "stdout",
     "output_type": "stream",
     "text": [
      "Epoch 11/50 - Train Loss: 0.6287, Train Acc: 0.78 - Test Loss: 0.6856, Test Acc: 0.76\n"
     ]
    },
    {
     "name": "stderr",
     "output_type": "stream",
     "text": [
      "\r",
      " 24%|██▍       | 12/50 [01:07<03:29,  5.52s/it]"
     ]
    },
    {
     "name": "stdout",
     "output_type": "stream",
     "text": [
      "Epoch 12/50 - Train Loss: 0.6119, Train Acc: 0.79 - Test Loss: 0.7674, Test Acc: 0.75\n"
     ]
    },
    {
     "name": "stderr",
     "output_type": "stream",
     "text": [
      "\r",
      " 26%|██▌       | 13/50 [01:13<03:24,  5.52s/it]"
     ]
    },
    {
     "name": "stdout",
     "output_type": "stream",
     "text": [
      "Epoch 13/50 - Train Loss: 0.5865, Train Acc: 0.80 - Test Loss: 0.7490, Test Acc: 0.75\n"
     ]
    },
    {
     "name": "stderr",
     "output_type": "stream",
     "text": [
      "\r",
      " 28%|██▊       | 14/50 [01:18<03:17,  5.50s/it]"
     ]
    },
    {
     "name": "stdout",
     "output_type": "stream",
     "text": [
      "Epoch 14/50 - Train Loss: 0.5687, Train Acc: 0.80 - Test Loss: 0.6039, Test Acc: 0.79\n"
     ]
    },
    {
     "name": "stderr",
     "output_type": "stream",
     "text": [
      "\r",
      " 30%|███       | 15/50 [01:24<03:12,  5.51s/it]"
     ]
    },
    {
     "name": "stdout",
     "output_type": "stream",
     "text": [
      "Epoch 15/50 - Train Loss: 0.5522, Train Acc: 0.81 - Test Loss: 0.5790, Test Acc: 0.80\n"
     ]
    },
    {
     "name": "stderr",
     "output_type": "stream",
     "text": [
      "\r",
      " 32%|███▏      | 16/50 [01:29<03:06,  5.50s/it]"
     ]
    },
    {
     "name": "stdout",
     "output_type": "stream",
     "text": [
      "Epoch 16/50 - Train Loss: 0.5375, Train Acc: 0.81 - Test Loss: 0.5780, Test Acc: 0.80\n"
     ]
    },
    {
     "name": "stderr",
     "output_type": "stream",
     "text": [
      "\r",
      " 34%|███▍      | 17/50 [01:35<03:01,  5.51s/it]"
     ]
    },
    {
     "name": "stdout",
     "output_type": "stream",
     "text": [
      "Epoch 17/50 - Train Loss: 0.5183, Train Acc: 0.82 - Test Loss: 0.6246, Test Acc: 0.79\n"
     ]
    },
    {
     "name": "stderr",
     "output_type": "stream",
     "text": [
      "\r",
      " 36%|███▌      | 18/50 [01:40<02:56,  5.51s/it]"
     ]
    },
    {
     "name": "stdout",
     "output_type": "stream",
     "text": [
      "Epoch 18/50 - Train Loss: 0.5047, Train Acc: 0.83 - Test Loss: 0.6252, Test Acc: 0.79\n"
     ]
    },
    {
     "name": "stderr",
     "output_type": "stream",
     "text": [
      "\r",
      " 38%|███▊      | 19/50 [01:46<02:51,  5.54s/it]"
     ]
    },
    {
     "name": "stdout",
     "output_type": "stream",
     "text": [
      "Epoch 19/50 - Train Loss: 0.4943, Train Acc: 0.83 - Test Loss: 0.6170, Test Acc: 0.79\n"
     ]
    },
    {
     "name": "stderr",
     "output_type": "stream",
     "text": [
      "\r",
      " 40%|████      | 20/50 [01:51<02:46,  5.54s/it]"
     ]
    },
    {
     "name": "stdout",
     "output_type": "stream",
     "text": [
      "Epoch 20/50 - Train Loss: 0.4771, Train Acc: 0.83 - Test Loss: 0.5195, Test Acc: 0.82\n"
     ]
    },
    {
     "name": "stderr",
     "output_type": "stream",
     "text": [
      "\r",
      " 42%|████▏     | 21/50 [01:58<02:46,  5.75s/it]"
     ]
    },
    {
     "name": "stdout",
     "output_type": "stream",
     "text": [
      "Epoch 21/50 - Train Loss: 0.4632, Train Acc: 0.84 - Test Loss: 0.5808, Test Acc: 0.81\n"
     ]
    },
    {
     "name": "stderr",
     "output_type": "stream",
     "text": [
      "\r",
      " 44%|████▍     | 22/50 [02:05<02:55,  6.28s/it]"
     ]
    },
    {
     "name": "stdout",
     "output_type": "stream",
     "text": [
      "Epoch 22/50 - Train Loss: 0.4523, Train Acc: 0.84 - Test Loss: 0.6455, Test Acc: 0.79\n"
     ]
    },
    {
     "name": "stderr",
     "output_type": "stream",
     "text": [
      "\r",
      " 46%|████▌     | 23/50 [02:11<02:46,  6.15s/it]"
     ]
    },
    {
     "name": "stdout",
     "output_type": "stream",
     "text": [
      "Epoch 23/50 - Train Loss: 0.4374, Train Acc: 0.85 - Test Loss: 0.5151, Test Acc: 0.82\n"
     ]
    },
    {
     "name": "stderr",
     "output_type": "stream",
     "text": [
      "\r",
      " 48%|████▊     | 24/50 [02:16<02:34,  5.95s/it]"
     ]
    },
    {
     "name": "stdout",
     "output_type": "stream",
     "text": [
      "Epoch 24/50 - Train Loss: 0.4213, Train Acc: 0.85 - Test Loss: 0.5146, Test Acc: 0.82\n"
     ]
    },
    {
     "name": "stderr",
     "output_type": "stream",
     "text": [
      "\r",
      " 50%|█████     | 25/50 [02:22<02:27,  5.88s/it]"
     ]
    },
    {
     "name": "stdout",
     "output_type": "stream",
     "text": [
      "Epoch 25/50 - Train Loss: 0.4139, Train Acc: 0.86 - Test Loss: 0.5663, Test Acc: 0.81\n"
     ]
    },
    {
     "name": "stderr",
     "output_type": "stream",
     "text": [
      "\r",
      " 52%|█████▏    | 26/50 [02:28<02:19,  5.80s/it]"
     ]
    },
    {
     "name": "stdout",
     "output_type": "stream",
     "text": [
      "Epoch 26/50 - Train Loss: 0.4065, Train Acc: 0.86 - Test Loss: 0.5009, Test Acc: 0.83\n"
     ]
    },
    {
     "name": "stderr",
     "output_type": "stream",
     "text": [
      "\r",
      " 54%|█████▍    | 27/50 [02:33<02:11,  5.72s/it]"
     ]
    },
    {
     "name": "stdout",
     "output_type": "stream",
     "text": [
      "Epoch 27/50 - Train Loss: 0.3879, Train Acc: 0.86 - Test Loss: 0.4658, Test Acc: 0.84\n"
     ]
    },
    {
     "name": "stderr",
     "output_type": "stream",
     "text": [
      "\r",
      " 56%|█████▌    | 28/50 [02:39<02:04,  5.67s/it]"
     ]
    },
    {
     "name": "stdout",
     "output_type": "stream",
     "text": [
      "Epoch 28/50 - Train Loss: 0.3882, Train Acc: 0.87 - Test Loss: 0.4709, Test Acc: 0.84\n"
     ]
    },
    {
     "name": "stderr",
     "output_type": "stream",
     "text": [
      "\r",
      " 58%|█████▊    | 29/50 [02:44<01:57,  5.61s/it]"
     ]
    },
    {
     "name": "stdout",
     "output_type": "stream",
     "text": [
      "Epoch 29/50 - Train Loss: 0.3708, Train Acc: 0.87 - Test Loss: 0.5633, Test Acc: 0.82\n"
     ]
    },
    {
     "name": "stderr",
     "output_type": "stream",
     "text": [
      "\r",
      " 60%|██████    | 30/50 [02:50<01:52,  5.61s/it]"
     ]
    },
    {
     "name": "stdout",
     "output_type": "stream",
     "text": [
      "Epoch 30/50 - Train Loss: 0.3672, Train Acc: 0.87 - Test Loss: 0.4732, Test Acc: 0.84\n"
     ]
    },
    {
     "name": "stderr",
     "output_type": "stream",
     "text": [
      "\r",
      " 62%|██████▏   | 31/50 [02:55<01:45,  5.57s/it]"
     ]
    },
    {
     "name": "stdout",
     "output_type": "stream",
     "text": [
      "Epoch 31/50 - Train Loss: 0.3579, Train Acc: 0.88 - Test Loss: 0.5043, Test Acc: 0.84\n"
     ]
    },
    {
     "name": "stderr",
     "output_type": "stream",
     "text": [
      "\r",
      " 64%|██████▍   | 32/50 [03:01<01:40,  5.57s/it]"
     ]
    },
    {
     "name": "stdout",
     "output_type": "stream",
     "text": [
      "Epoch 32/50 - Train Loss: 0.3491, Train Acc: 0.88 - Test Loss: 0.4455, Test Acc: 0.85\n"
     ]
    },
    {
     "name": "stderr",
     "output_type": "stream",
     "text": [
      "\r",
      " 66%|██████▌   | 33/50 [03:06<01:34,  5.54s/it]"
     ]
    },
    {
     "name": "stdout",
     "output_type": "stream",
     "text": [
      "Epoch 33/50 - Train Loss: 0.3395, Train Acc: 0.88 - Test Loss: 0.4682, Test Acc: 0.85\n"
     ]
    },
    {
     "name": "stderr",
     "output_type": "stream",
     "text": [
      "\r",
      " 68%|██████▊   | 34/50 [03:12<01:30,  5.65s/it]"
     ]
    },
    {
     "name": "stdout",
     "output_type": "stream",
     "text": [
      "Epoch 34/50 - Train Loss: 0.3311, Train Acc: 0.89 - Test Loss: 0.4528, Test Acc: 0.85\n"
     ]
    },
    {
     "name": "stderr",
     "output_type": "stream",
     "text": [
      "\r",
      " 70%|███████   | 35/50 [03:18<01:25,  5.69s/it]"
     ]
    },
    {
     "name": "stdout",
     "output_type": "stream",
     "text": [
      "Epoch 35/50 - Train Loss: 0.3202, Train Acc: 0.89 - Test Loss: 0.4213, Test Acc: 0.86\n"
     ]
    },
    {
     "name": "stderr",
     "output_type": "stream",
     "text": [
      "\r",
      " 72%|███████▏  | 36/50 [03:24<01:19,  5.66s/it]"
     ]
    },
    {
     "name": "stdout",
     "output_type": "stream",
     "text": [
      "Epoch 36/50 - Train Loss: 0.3125, Train Acc: 0.89 - Test Loss: 0.4466, Test Acc: 0.85\n"
     ]
    },
    {
     "name": "stderr",
     "output_type": "stream",
     "text": [
      "\r",
      " 74%|███████▍  | 37/50 [03:29<01:12,  5.61s/it]"
     ]
    },
    {
     "name": "stdout",
     "output_type": "stream",
     "text": [
      "Epoch 37/50 - Train Loss: 0.3106, Train Acc: 0.89 - Test Loss: 0.4035, Test Acc: 0.87\n"
     ]
    },
    {
     "name": "stderr",
     "output_type": "stream",
     "text": [
      "\r",
      " 76%|███████▌  | 38/50 [03:35<01:07,  5.59s/it]"
     ]
    },
    {
     "name": "stdout",
     "output_type": "stream",
     "text": [
      "Epoch 38/50 - Train Loss: 0.3035, Train Acc: 0.89 - Test Loss: 0.4229, Test Acc: 0.86\n"
     ]
    },
    {
     "name": "stderr",
     "output_type": "stream",
     "text": [
      "\r",
      " 78%|███████▊  | 39/50 [03:40<01:01,  5.57s/it]"
     ]
    },
    {
     "name": "stdout",
     "output_type": "stream",
     "text": [
      "Epoch 39/50 - Train Loss: 0.3008, Train Acc: 0.89 - Test Loss: 0.4284, Test Acc: 0.86\n"
     ]
    },
    {
     "name": "stderr",
     "output_type": "stream",
     "text": [
      "\r",
      " 80%|████████  | 40/50 [03:46<00:55,  5.55s/it]"
     ]
    },
    {
     "name": "stdout",
     "output_type": "stream",
     "text": [
      "Epoch 40/50 - Train Loss: 0.2956, Train Acc: 0.90 - Test Loss: 0.4142, Test Acc: 0.87\n"
     ]
    },
    {
     "name": "stderr",
     "output_type": "stream",
     "text": [
      "\r",
      " 82%|████████▏ | 41/50 [03:51<00:50,  5.56s/it]"
     ]
    },
    {
     "name": "stdout",
     "output_type": "stream",
     "text": [
      "Epoch 41/50 - Train Loss: 0.2902, Train Acc: 0.90 - Test Loss: 0.4093, Test Acc: 0.87\n"
     ]
    },
    {
     "name": "stderr",
     "output_type": "stream",
     "text": [
      "\r",
      " 84%|████████▍ | 42/50 [03:57<00:44,  5.53s/it]"
     ]
    },
    {
     "name": "stdout",
     "output_type": "stream",
     "text": [
      "Epoch 42/50 - Train Loss: 0.2898, Train Acc: 0.90 - Test Loss: 0.4054, Test Acc: 0.87\n"
     ]
    },
    {
     "name": "stderr",
     "output_type": "stream",
     "text": [
      "\r",
      " 86%|████████▌ | 43/50 [04:02<00:38,  5.54s/it]"
     ]
    },
    {
     "name": "stdout",
     "output_type": "stream",
     "text": [
      "Epoch 43/50 - Train Loss: 0.2829, Train Acc: 0.90 - Test Loss: 0.4125, Test Acc: 0.86\n"
     ]
    },
    {
     "name": "stderr",
     "output_type": "stream",
     "text": [
      "\r",
      " 88%|████████▊ | 44/50 [04:08<00:33,  5.52s/it]"
     ]
    },
    {
     "name": "stdout",
     "output_type": "stream",
     "text": [
      "Epoch 44/50 - Train Loss: 0.2781, Train Acc: 0.90 - Test Loss: 0.4073, Test Acc: 0.87\n"
     ]
    },
    {
     "name": "stderr",
     "output_type": "stream",
     "text": [
      "\r",
      " 90%|█████████ | 45/50 [04:13<00:27,  5.52s/it]"
     ]
    },
    {
     "name": "stdout",
     "output_type": "stream",
     "text": [
      "Epoch 45/50 - Train Loss: 0.2776, Train Acc: 0.90 - Test Loss: 0.4125, Test Acc: 0.87\n"
     ]
    },
    {
     "name": "stderr",
     "output_type": "stream",
     "text": [
      "\r",
      " 92%|█████████▏| 46/50 [04:19<00:22,  5.51s/it]"
     ]
    },
    {
     "name": "stdout",
     "output_type": "stream",
     "text": [
      "Epoch 46/50 - Train Loss: 0.2736, Train Acc: 0.90 - Test Loss: 0.4113, Test Acc: 0.87\n"
     ]
    },
    {
     "name": "stderr",
     "output_type": "stream",
     "text": [
      "\r",
      " 94%|█████████▍| 47/50 [04:24<00:16,  5.52s/it]"
     ]
    },
    {
     "name": "stdout",
     "output_type": "stream",
     "text": [
      "Epoch 47/50 - Train Loss: 0.2696, Train Acc: 0.90 - Test Loss: 0.4059, Test Acc: 0.87\n"
     ]
    },
    {
     "name": "stderr",
     "output_type": "stream",
     "text": [
      "\r",
      " 96%|█████████▌| 48/50 [04:30<00:11,  5.51s/it]"
     ]
    },
    {
     "name": "stdout",
     "output_type": "stream",
     "text": [
      "Epoch 48/50 - Train Loss: 0.2706, Train Acc: 0.90 - Test Loss: 0.4024, Test Acc: 0.87\n"
     ]
    },
    {
     "name": "stderr",
     "output_type": "stream",
     "text": [
      "\r",
      " 98%|█████████▊| 49/50 [04:35<00:05,  5.51s/it]"
     ]
    },
    {
     "name": "stdout",
     "output_type": "stream",
     "text": [
      "Epoch 49/50 - Train Loss: 0.2734, Train Acc: 0.91 - Test Loss: 0.4062, Test Acc: 0.87\n"
     ]
    },
    {
     "name": "stderr",
     "output_type": "stream",
     "text": [
      "100%|██████████| 50/50 [04:41<00:00,  5.63s/it]"
     ]
    },
    {
     "name": "stdout",
     "output_type": "stream",
     "text": [
      "Epoch 50/50 - Train Loss: 0.2681, Train Acc: 0.91 - Test Loss: 0.4031, Test Acc: 0.87\n",
      "CPU times: user 4min 31s, sys: 823 ms, total: 4min 32s\n",
      "Wall time: 4min 41s\n"
     ]
    },
    {
     "name": "stderr",
     "output_type": "stream",
     "text": [
      "\n"
     ]
    }
   ],
   "source": [
    "%%time\n",
    "\n",
    "# 10. Train the Best Model\n",
    "\n",
    "epochs = 50  # Increased to 50\n",
    "\n",
    "optimizer = rs.best_params_[\"optimizer\"](model.parameters(), lr=rs.best_params_[\"lr\"])\n",
    "scheduler = torch.optim.lr_scheduler.CosineAnnealingLR(optimizer, T_max=epochs)\n",
    "loss_fn = nn.CrossEntropyLoss()\n",
    "accuracy_fn = Accuracy(task='multiclass', num_classes=10).to(device)\n",
    "\n",
    "\n",
    "for epoch in tqdm(range(epochs)):\n",
    "    train_loss, train_acc = train_step(\n",
    "        model, train_loader, loss_fn, optimizer, accuracy_fn, device)\n",
    "    test_loss, test_acc = test_step(\n",
    "        model, test_loader, loss_fn, accuracy_fn, device)\n",
    "    scheduler.step()  # Update learning rate\n",
    "    print(\n",
    "        f\"Epoch {epoch+1}/{epochs} - \"\n",
    "        f\"Train Loss: {train_loss:.4f}, Train Acc: {train_acc:.2f} - \"\n",
    "        f\"Test Loss: {test_loss:.4f}, Test Acc: {test_acc:.2f}\"\n",
    "    )"
   ]
  },
  {
   "cell_type": "code",
   "execution_count": 19,
   "metadata": {
    "colab": {
     "base_uri": "https://localhost:8080/"
    },
    "id": "YopAuRn48LwF",
    "outputId": "25daba1a-7531-44d6-fe77-48def1da04b1"
   },
   "outputs": [
    {
     "data": {
      "text/plain": [
       "(0.9053264776357828, 0.8691653481012658)"
      ]
     },
     "execution_count": 19,
     "metadata": {},
     "output_type": "execute_result"
    }
   ],
   "source": [
    "train_acc, test_acc"
   ]
  },
  {
   "cell_type": "code",
   "execution_count": 20,
   "metadata": {
    "id": "K_fTvypK10FU"
   },
   "outputs": [],
   "source": [
    "# ---------------------------------------------------------\n",
    "# 11: [UPDATED] Eval Mode for Final Predix, Metrics on Best & Fully Trained Model\n",
    "# ---------------------------------------------------------\n",
    "\n",
    "# 11d. Final evaluation on test set with sklearn metrics\n",
    "model.eval()\n",
    "all_preds = []\n",
    "all_labels = []\n",
    "\n",
    "with torch.no_grad():\n",
    "    for X, y in test_loader:\n",
    "        X, y = X.to(device), y.to(device)\n",
    "        X = test_transform_batch(X)   # normalize just like during training\n",
    "        y_pred = model(X)\n",
    "        all_preds.extend(y_pred.argmax(dim=1).cpu().numpy())\n",
    "        all_labels.extend(y.cpu().numpy())"
   ]
  },
  {
   "cell_type": "code",
   "execution_count": 21,
   "metadata": {
    "colab": {
     "base_uri": "https://localhost:8080/"
    },
    "id": "AqYiCiLa76IW",
    "outputId": "a9ff1ed8-e1d9-4d9e-a7bc-0bd81eb14b02"
   },
   "outputs": [
    {
     "name": "stdout",
     "output_type": "stream",
     "text": [
      "\n",
      "✅ Final Evaluation with Sklearn Metrics\n",
      "Accuracy: 0.8684\n",
      "\n",
      "Confusion Matrix:\n",
      " [[897   7  26   9  15   5   2   3  21  15]\n",
      " [  9 937   0   2   1   1   4   0  11  35]\n",
      " [ 41   1 802  29  34  31  41  15   5   1]\n",
      " [ 19   3  22 752  27 108  47  13   3   6]\n",
      " [ 11   0  19  33 876  23  21  14   3   0]\n",
      " [  5   0  21 112  30 790  18  16   6   2]\n",
      " [  7   2  18  27   3   9 931   1   1   1]\n",
      " [ 10   0  17  33  35  31   3 868   0   3]\n",
      " [ 29   6   4   9   2   2   2   5 936   5]\n",
      " [ 21  30   2  10   1   2   9   2  28 895]]\n",
      "\n",
      "Classification Report:\n",
      "               precision    recall  f1-score   support\n",
      "\n",
      "           0       0.86      0.90      0.88      1000\n",
      "           1       0.95      0.94      0.94      1000\n",
      "           2       0.86      0.80      0.83      1000\n",
      "           3       0.74      0.75      0.75      1000\n",
      "           4       0.86      0.88      0.87      1000\n",
      "           5       0.79      0.79      0.79      1000\n",
      "           6       0.86      0.93      0.90      1000\n",
      "           7       0.93      0.87      0.90      1000\n",
      "           8       0.92      0.94      0.93      1000\n",
      "           9       0.93      0.90      0.91      1000\n",
      "\n",
      "    accuracy                           0.87     10000\n",
      "   macro avg       0.87      0.87      0.87     10000\n",
      "weighted avg       0.87      0.87      0.87     10000\n",
      "\n"
     ]
    }
   ],
   "source": [
    "# 11e. Compute metrics\n",
    "\n",
    "print(\"\\n✅ Final Evaluation with Sklearn Metrics\")\n",
    "print(\"Accuracy:\", accuracy_score(all_labels, all_preds))\n",
    "print(\"\\nConfusion Matrix:\\n\", confusion_matrix(all_labels, all_preds))\n",
    "print(\"\\nClassification Report:\\n\", classification_report(all_labels, all_preds))"
   ]
  },
  {
   "cell_type": "code",
   "execution_count": 23,
   "metadata": {
    "colab": {
     "base_uri": "https://localhost:8080/",
     "height": 898
    },
    "id": "6bmhbuzTHddm",
    "outputId": "0bcbacbb-69fd-4d79-8605-2196a61f4d25"
   },
   "outputs": [
    {
     "data": {
      "image/png": "[encoded data removed]",
      "text/plain": [
       "<Figure size 1200x1000 with 2 Axes>"
      ]
     },
     "metadata": {},
     "output_type": "display_data"
    }
   ],
   "source": [
    "# ---------------------------------------------------------\n",
    "# 12. Final Confusion Matrix for Best & Fully Trained Model\n",
    "# ---------------------------------------------------------\n",
    "\n",
    "fig, ax = plt.subplots(figsize=(12, 10))\n",
    "\n",
    "# disp = ConfusionMatrixDisplay.from_predictions(\n",
    "#     all_labels, all_preds\n",
    "#     , display_labels=dataset.classes\n",
    "#     , normalize='true'\n",
    "# )\n",
    "\n",
    "disp.plot(ax=ax, cmap=\"Blues\", xticks_rotation=45)\n",
    "plt.title(\"Confusion Matrix for CIFAR-10 - Final Model\")\n",
    "plt.show();"
   ]
  },
  {
   "cell_type": "code",
   "execution_count": 24,
   "metadata": {
    "colab": {
     "base_uri": "https://localhost:8080/"
    },
    "id": "Df3mBJdu-A9O",
    "outputId": "20aa07dd-8106-48e3-f8d0-95f89d81e9f4"
   },
   "outputs": [
    {
     "data": {
      "text/plain": [
       "Cifar10CNN_v3(\n",
       "  (conv1): Conv2d(3, 64, kernel_size=(3, 3), stride=(1, 1), padding=(1, 1))\n",
       "  (bn1): BatchNorm2d(64, eps=1e-05, momentum=0.1, affine=True, track_running_stats=True)\n",
       "  (conv2): Conv2d(64, 128, kernel_size=(3, 3), stride=(1, 1), padding=(1, 1))\n",
       "  (bn2): BatchNorm2d(128, eps=1e-05, momentum=0.1, affine=True, track_running_stats=True)\n",
       "  (conv3): Conv2d(128, 256, kernel_size=(3, 3), stride=(1, 1), padding=(1, 1))\n",
       "  (bn3): BatchNorm2d(256, eps=1e-05, momentum=0.1, affine=True, track_running_stats=True)\n",
       "  (conv4): Conv2d(256, 512, kernel_size=(3, 3), stride=(1, 1), padding=(1, 1))\n",
       "  (bn4): BatchNorm2d(512, eps=1e-05, momentum=0.1, affine=True, track_running_stats=True)\n",
       "  (global_avgpool): AdaptiveAvgPool2d(output_size=1)\n",
       "  (fc1): Linear(in_features=512, out_features=512, bias=True)\n",
       "  (fc2): Linear(in_features=512, out_features=256, bias=True)\n",
       "  (fc_out): Linear(in_features=256, out_features=10, bias=True)\n",
       "  (dropout): Dropout(p=0.3, inplace=False)\n",
       ")"
      ]
     },
     "execution_count": 24,
     "metadata": {},
     "output_type": "execute_result"
    }
   ],
   "source": [
    "model"
   ]
  },
  {
   "cell_type": "code",
   "execution_count": 27,
   "metadata": {
    "colab": {
     "base_uri": "https://localhost:8080/"
    },
    "id": "ndKboQiN926p",
    "outputId": "a30569ae-b52a-4554-a807-be8c47703baa"
   },
   "outputs": [
    {
     "name": "stdout",
     "output_type": "stream",
     "text": [
      "Model saved to Cifar10CNN_v3_best.pth\n"
     ]
    }
   ],
   "source": [
    "# Save both model weights and optimizer state\n",
    "torch.save({\n",
    "    'epoch': epochs\n",
    "    , 'model_state_dict': model.state_dict()\n",
    "    , 'optimizer_state_dict': optimizer.state_dict()\n",
    "    , 'loss': loss_fn  # optional\n",
    "}, \"Cifar10CNN_v3_best.pth\")\n",
    "\n",
    "print(\"Model saved to Cifar10CNN_v3_best.pth\")"
   ]
  },
  {
   "cell_type": "code",
   "execution_count": 40,
   "metadata": {
    "colab": {
     "base_uri": "https://localhost:8080/"
    },
    "id": "MmnIF7T0Hdir",
    "outputId": "8c3418c9-f11e-472d-c1b0-2eec20e9e75f"
   },
   "outputs": [
    {
     "name": "stderr",
     "output_type": "stream",
     "text": [
      "  2%|▏         | 1/50 [00:05<04:35,  5.62s/it]"
     ]
    },
    {
     "name": "stdout",
     "output_type": "stream",
     "text": [
      "Epoch 51/50 - Train Loss: 0.3364, Train Acc: 0.89 - Test Loss: 0.4977, Test Acc: 0.84\n"
     ]
    },
    {
     "name": "stderr",
     "output_type": "stream",
     "text": [
      "\r",
      "  4%|▍         | 2/50 [00:11<04:30,  5.63s/it]"
     ]
    },
    {
     "name": "stdout",
     "output_type": "stream",
     "text": [
      "Epoch 52/50 - Train Loss: 0.2714, Train Acc: 0.90 - Test Loss: 0.6397, Test Acc: 0.82\n"
     ]
    },
    {
     "name": "stderr",
     "output_type": "stream",
     "text": [
      "\r",
      "  6%|▌         | 3/50 [00:16<04:24,  5.62s/it]"
     ]
    },
    {
     "name": "stdout",
     "output_type": "stream",
     "text": [
      "Epoch 53/50 - Train Loss: 0.2732, Train Acc: 0.90 - Test Loss: 0.4616, Test Acc: 0.86\n"
     ]
    },
    {
     "name": "stderr",
     "output_type": "stream",
     "text": [
      "\r",
      "  8%|▊         | 4/50 [00:22<04:18,  5.62s/it]"
     ]
    },
    {
     "name": "stdout",
     "output_type": "stream",
     "text": [
      "Epoch 54/50 - Train Loss: 0.2667, Train Acc: 0.91 - Test Loss: 0.4652, Test Acc: 0.85\n"
     ]
    },
    {
     "name": "stderr",
     "output_type": "stream",
     "text": [
      "\r",
      " 10%|█         | 5/50 [00:28<04:12,  5.60s/it]"
     ]
    },
    {
     "name": "stdout",
     "output_type": "stream",
     "text": [
      "Epoch 55/50 - Train Loss: 0.2611, Train Acc: 0.91 - Test Loss: 0.5342, Test Acc: 0.84\n"
     ]
    },
    {
     "name": "stderr",
     "output_type": "stream",
     "text": [
      "\r",
      " 12%|█▏        | 6/50 [00:33<04:04,  5.56s/it]"
     ]
    },
    {
     "name": "stdout",
     "output_type": "stream",
     "text": [
      "Epoch 56/50 - Train Loss: 0.2597, Train Acc: 0.91 - Test Loss: 0.4315, Test Acc: 0.86\n"
     ]
    },
    {
     "name": "stderr",
     "output_type": "stream",
     "text": [
      "\r",
      " 14%|█▍        | 7/50 [00:39<03:59,  5.56s/it]"
     ]
    },
    {
     "name": "stdout",
     "output_type": "stream",
     "text": [
      "Epoch 57/50 - Train Loss: 0.2534, Train Acc: 0.91 - Test Loss: 0.4844, Test Acc: 0.85\n"
     ]
    },
    {
     "name": "stderr",
     "output_type": "stream",
     "text": [
      "\r",
      " 16%|█▌        | 8/50 [00:44<03:51,  5.52s/it]"
     ]
    },
    {
     "name": "stdout",
     "output_type": "stream",
     "text": [
      "Epoch 58/50 - Train Loss: 0.2494, Train Acc: 0.91 - Test Loss: 0.5324, Test Acc: 0.84\n"
     ]
    },
    {
     "name": "stderr",
     "output_type": "stream",
     "text": [
      "\r",
      " 18%|█▊        | 9/50 [00:50<03:46,  5.52s/it]"
     ]
    },
    {
     "name": "stdout",
     "output_type": "stream",
     "text": [
      "Epoch 59/50 - Train Loss: 0.2476, Train Acc: 0.91 - Test Loss: 0.4479, Test Acc: 0.86\n"
     ]
    },
    {
     "name": "stderr",
     "output_type": "stream",
     "text": [
      "\r",
      " 20%|██        | 10/50 [00:55<03:39,  5.49s/it]"
     ]
    },
    {
     "name": "stdout",
     "output_type": "stream",
     "text": [
      "Epoch 60/50 - Train Loss: 0.2386, Train Acc: 0.92 - Test Loss: 0.4404, Test Acc: 0.86\n"
     ]
    },
    {
     "name": "stderr",
     "output_type": "stream",
     "text": [
      "\r",
      " 22%|██▏       | 11/50 [01:00<03:34,  5.49s/it]"
     ]
    },
    {
     "name": "stdout",
     "output_type": "stream",
     "text": [
      "Epoch 61/50 - Train Loss: 0.2367, Train Acc: 0.92 - Test Loss: 0.5265, Test Acc: 0.85\n"
     ]
    },
    {
     "name": "stderr",
     "output_type": "stream",
     "text": [
      "\r",
      " 24%|██▍       | 12/50 [01:06<03:28,  5.47s/it]"
     ]
    },
    {
     "name": "stdout",
     "output_type": "stream",
     "text": [
      "Epoch 62/50 - Train Loss: 0.2306, Train Acc: 0.92 - Test Loss: 0.4548, Test Acc: 0.86\n"
     ]
    },
    {
     "name": "stderr",
     "output_type": "stream",
     "text": [
      "\r",
      " 26%|██▌       | 13/50 [01:11<03:23,  5.49s/it]"
     ]
    },
    {
     "name": "stdout",
     "output_type": "stream",
     "text": [
      "Epoch 63/50 - Train Loss: 0.2212, Train Acc: 0.92 - Test Loss: 0.4359, Test Acc: 0.87\n"
     ]
    },
    {
     "name": "stderr",
     "output_type": "stream",
     "text": [
      "\r",
      " 28%|██▊       | 14/50 [01:17<03:17,  5.48s/it]"
     ]
    },
    {
     "name": "stdout",
     "output_type": "stream",
     "text": [
      "Epoch 64/50 - Train Loss: 0.2125, Train Acc: 0.93 - Test Loss: 0.4810, Test Acc: 0.86\n"
     ]
    },
    {
     "name": "stderr",
     "output_type": "stream",
     "text": [
      "\r",
      " 30%|███       | 15/50 [01:22<03:12,  5.49s/it]"
     ]
    },
    {
     "name": "stdout",
     "output_type": "stream",
     "text": [
      "Epoch 65/50 - Train Loss: 0.2096, Train Acc: 0.93 - Test Loss: 0.6081, Test Acc: 0.83\n"
     ]
    },
    {
     "name": "stderr",
     "output_type": "stream",
     "text": [
      "\r",
      " 32%|███▏      | 16/50 [01:28<03:07,  5.51s/it]"
     ]
    },
    {
     "name": "stdout",
     "output_type": "stream",
     "text": [
      "Epoch 66/50 - Train Loss: 0.2038, Train Acc: 0.93 - Test Loss: 0.5433, Test Acc: 0.85\n"
     ]
    },
    {
     "name": "stderr",
     "output_type": "stream",
     "text": [
      "\r",
      " 34%|███▍      | 17/50 [01:33<03:01,  5.50s/it]"
     ]
    },
    {
     "name": "stdout",
     "output_type": "stream",
     "text": [
      "Epoch 67/50 - Train Loss: 0.1996, Train Acc: 0.93 - Test Loss: 0.4917, Test Acc: 0.86\n"
     ]
    },
    {
     "name": "stderr",
     "output_type": "stream",
     "text": [
      "\r",
      " 36%|███▌      | 18/50 [01:39<02:56,  5.52s/it]"
     ]
    },
    {
     "name": "stdout",
     "output_type": "stream",
     "text": [
      "Epoch 68/50 - Train Loss: 0.1912, Train Acc: 0.93 - Test Loss: 0.4874, Test Acc: 0.86\n"
     ]
    },
    {
     "name": "stderr",
     "output_type": "stream",
     "text": [
      "\r",
      " 38%|███▊      | 19/50 [01:45<02:50,  5.51s/it]"
     ]
    },
    {
     "name": "stdout",
     "output_type": "stream",
     "text": [
      "Epoch 69/50 - Train Loss: 0.1854, Train Acc: 0.93 - Test Loss: 0.4309, Test Acc: 0.87\n"
     ]
    },
    {
     "name": "stderr",
     "output_type": "stream",
     "text": [
      "\r",
      " 40%|████      | 20/50 [01:50<02:45,  5.53s/it]"
     ]
    },
    {
     "name": "stdout",
     "output_type": "stream",
     "text": [
      "Epoch 70/50 - Train Loss: 0.1777, Train Acc: 0.94 - Test Loss: 0.4258, Test Acc: 0.87\n"
     ]
    },
    {
     "name": "stderr",
     "output_type": "stream",
     "text": [
      "\r",
      " 42%|████▏     | 21/50 [01:56<02:39,  5.52s/it]"
     ]
    },
    {
     "name": "stdout",
     "output_type": "stream",
     "text": [
      "Epoch 71/50 - Train Loss: 0.1775, Train Acc: 0.94 - Test Loss: 0.4258, Test Acc: 0.87\n"
     ]
    },
    {
     "name": "stderr",
     "output_type": "stream",
     "text": [
      "\r",
      " 44%|████▍     | 22/50 [02:01<02:34,  5.53s/it]"
     ]
    },
    {
     "name": "stdout",
     "output_type": "stream",
     "text": [
      "Epoch 72/50 - Train Loss: 0.1680, Train Acc: 0.94 - Test Loss: 0.4191, Test Acc: 0.88\n"
     ]
    },
    {
     "name": "stderr",
     "output_type": "stream",
     "text": [
      "\r",
      " 46%|████▌     | 23/50 [02:07<02:28,  5.51s/it]"
     ]
    },
    {
     "name": "stdout",
     "output_type": "stream",
     "text": [
      "Epoch 73/50 - Train Loss: 0.1658, Train Acc: 0.94 - Test Loss: 0.4184, Test Acc: 0.88\n"
     ]
    },
    {
     "name": "stderr",
     "output_type": "stream",
     "text": [
      "\r",
      " 48%|████▊     | 24/50 [02:12<02:23,  5.52s/it]"
     ]
    },
    {
     "name": "stdout",
     "output_type": "stream",
     "text": [
      "Epoch 74/50 - Train Loss: 0.1540, Train Acc: 0.95 - Test Loss: 0.4340, Test Acc: 0.88\n"
     ]
    },
    {
     "name": "stderr",
     "output_type": "stream",
     "text": [
      "\r",
      " 50%|█████     | 25/50 [02:18<02:17,  5.50s/it]"
     ]
    },
    {
     "name": "stdout",
     "output_type": "stream",
     "text": [
      "Epoch 75/50 - Train Loss: 0.1542, Train Acc: 0.95 - Test Loss: 0.4360, Test Acc: 0.87\n"
     ]
    },
    {
     "name": "stderr",
     "output_type": "stream",
     "text": [
      "\r",
      " 52%|█████▏    | 26/50 [02:23<02:12,  5.50s/it]"
     ]
    },
    {
     "name": "stdout",
     "output_type": "stream",
     "text": [
      "Epoch 76/50 - Train Loss: 0.1484, Train Acc: 0.95 - Test Loss: 0.4558, Test Acc: 0.87\n"
     ]
    },
    {
     "name": "stderr",
     "output_type": "stream",
     "text": [
      "\r",
      " 54%|█████▍    | 27/50 [02:29<02:06,  5.51s/it]"
     ]
    },
    {
     "name": "stdout",
     "output_type": "stream",
     "text": [
      "Epoch 77/50 - Train Loss: 0.1479, Train Acc: 0.95 - Test Loss: 0.4015, Test Acc: 0.89\n"
     ]
    },
    {
     "name": "stderr",
     "output_type": "stream",
     "text": [
      "\r",
      " 56%|█████▌    | 28/50 [02:34<02:00,  5.50s/it]"
     ]
    },
    {
     "name": "stdout",
     "output_type": "stream",
     "text": [
      "Epoch 78/50 - Train Loss: 0.1371, Train Acc: 0.95 - Test Loss: 0.4063, Test Acc: 0.88\n"
     ]
    },
    {
     "name": "stderr",
     "output_type": "stream",
     "text": [
      "\r",
      " 58%|█████▊    | 29/50 [02:40<01:55,  5.51s/it]"
     ]
    },
    {
     "name": "stdout",
     "output_type": "stream",
     "text": [
      "Epoch 79/50 - Train Loss: 0.1334, Train Acc: 0.95 - Test Loss: 0.4220, Test Acc: 0.89\n"
     ]
    },
    {
     "name": "stderr",
     "output_type": "stream",
     "text": [
      "\r",
      " 60%|██████    | 30/50 [02:45<01:49,  5.50s/it]"
     ]
    },
    {
     "name": "stdout",
     "output_type": "stream",
     "text": [
      "Epoch 80/50 - Train Loss: 0.1279, Train Acc: 0.95 - Test Loss: 0.4148, Test Acc: 0.89\n"
     ]
    },
    {
     "name": "stderr",
     "output_type": "stream",
     "text": [
      "\r",
      " 62%|██████▏   | 31/50 [02:51<01:44,  5.51s/it]"
     ]
    },
    {
     "name": "stdout",
     "output_type": "stream",
     "text": [
      "Epoch 81/50 - Train Loss: 0.1245, Train Acc: 0.96 - Test Loss: 0.4241, Test Acc: 0.89\n"
     ]
    },
    {
     "name": "stderr",
     "output_type": "stream",
     "text": [
      "\r",
      " 64%|██████▍   | 32/50 [02:56<01:39,  5.54s/it]"
     ]
    },
    {
     "name": "stdout",
     "output_type": "stream",
     "text": [
      "Epoch 82/50 - Train Loss: 0.1200, Train Acc: 0.96 - Test Loss: 0.4403, Test Acc: 0.89\n"
     ]
    },
    {
     "name": "stderr",
     "output_type": "stream",
     "text": [
      "\r",
      " 66%|██████▌   | 33/50 [03:02<01:34,  5.55s/it]"
     ]
    },
    {
     "name": "stdout",
     "output_type": "stream",
     "text": [
      "Epoch 83/50 - Train Loss: 0.1166, Train Acc: 0.96 - Test Loss: 0.4256, Test Acc: 0.89\n"
     ]
    },
    {
     "name": "stderr",
     "output_type": "stream",
     "text": [
      "\r",
      " 68%|██████▊   | 34/50 [03:07<01:28,  5.53s/it]"
     ]
    },
    {
     "name": "stdout",
     "output_type": "stream",
     "text": [
      "Epoch 84/50 - Train Loss: 0.1130, Train Acc: 0.96 - Test Loss: 0.4312, Test Acc: 0.89\n"
     ]
    },
    {
     "name": "stderr",
     "output_type": "stream",
     "text": [
      "\r",
      " 70%|███████   | 35/50 [03:13<01:23,  5.54s/it]"
     ]
    },
    {
     "name": "stdout",
     "output_type": "stream",
     "text": [
      "Epoch 85/50 - Train Loss: 0.1138, Train Acc: 0.96 - Test Loss: 0.4104, Test Acc: 0.89\n"
     ]
    },
    {
     "name": "stderr",
     "output_type": "stream",
     "text": [
      "\r",
      " 72%|███████▏  | 36/50 [03:18<01:17,  5.52s/it]"
     ]
    },
    {
     "name": "stdout",
     "output_type": "stream",
     "text": [
      "Epoch 86/50 - Train Loss: 0.1037, Train Acc: 0.96 - Test Loss: 0.4203, Test Acc: 0.89\n"
     ]
    },
    {
     "name": "stderr",
     "output_type": "stream",
     "text": [
      "\r",
      " 74%|███████▍  | 37/50 [03:24<01:11,  5.53s/it]"
     ]
    },
    {
     "name": "stdout",
     "output_type": "stream",
     "text": [
      "Epoch 87/50 - Train Loss: 0.1011, Train Acc: 0.96 - Test Loss: 0.4141, Test Acc: 0.89\n"
     ]
    },
    {
     "name": "stderr",
     "output_type": "stream",
     "text": [
      "\r",
      " 76%|███████▌  | 38/50 [03:29<01:06,  5.52s/it]"
     ]
    },
    {
     "name": "stdout",
     "output_type": "stream",
     "text": [
      "Epoch 88/50 - Train Loss: 0.0977, Train Acc: 0.97 - Test Loss: 0.4119, Test Acc: 0.89\n"
     ]
    },
    {
     "name": "stderr",
     "output_type": "stream",
     "text": [
      "\r",
      " 78%|███████▊  | 39/50 [03:35<01:00,  5.52s/it]"
     ]
    },
    {
     "name": "stdout",
     "output_type": "stream",
     "text": [
      "Epoch 89/50 - Train Loss: 0.0962, Train Acc: 0.97 - Test Loss: 0.4217, Test Acc: 0.89\n"
     ]
    },
    {
     "name": "stderr",
     "output_type": "stream",
     "text": [
      "\r",
      " 80%|████████  | 40/50 [03:40<00:55,  5.52s/it]"
     ]
    },
    {
     "name": "stdout",
     "output_type": "stream",
     "text": [
      "Epoch 90/50 - Train Loss: 0.0932, Train Acc: 0.97 - Test Loss: 0.4169, Test Acc: 0.89\n"
     ]
    },
    {
     "name": "stderr",
     "output_type": "stream",
     "text": [
      "\r",
      " 82%|████████▏ | 41/50 [03:46<00:49,  5.52s/it]"
     ]
    },
    {
     "name": "stdout",
     "output_type": "stream",
     "text": [
      "Epoch 91/50 - Train Loss: 0.0914, Train Acc: 0.97 - Test Loss: 0.4240, Test Acc: 0.89\n"
     ]
    },
    {
     "name": "stderr",
     "output_type": "stream",
     "text": [
      "\r",
      " 84%|████████▍ | 42/50 [03:52<00:44,  5.53s/it]"
     ]
    },
    {
     "name": "stdout",
     "output_type": "stream",
     "text": [
      "Epoch 92/50 - Train Loss: 0.0895, Train Acc: 0.97 - Test Loss: 0.4212, Test Acc: 0.89\n"
     ]
    },
    {
     "name": "stderr",
     "output_type": "stream",
     "text": [
      "\r",
      " 86%|████████▌ | 43/50 [03:57<00:38,  5.51s/it]"
     ]
    },
    {
     "name": "stdout",
     "output_type": "stream",
     "text": [
      "Epoch 93/50 - Train Loss: 0.0912, Train Acc: 0.97 - Test Loss: 0.4118, Test Acc: 0.89\n"
     ]
    },
    {
     "name": "stderr",
     "output_type": "stream",
     "text": [
      "\r",
      " 88%|████████▊ | 44/50 [04:03<00:33,  5.52s/it]"
     ]
    },
    {
     "name": "stdout",
     "output_type": "stream",
     "text": [
      "Epoch 94/50 - Train Loss: 0.0868, Train Acc: 0.97 - Test Loss: 0.4200, Test Acc: 0.90\n"
     ]
    },
    {
     "name": "stderr",
     "output_type": "stream",
     "text": [
      "\r",
      " 90%|█████████ | 45/50 [04:08<00:27,  5.50s/it]"
     ]
    },
    {
     "name": "stdout",
     "output_type": "stream",
     "text": [
      "Epoch 95/50 - Train Loss: 0.0859, Train Acc: 0.97 - Test Loss: 0.4080, Test Acc: 0.90\n"
     ]
    },
    {
     "name": "stderr",
     "output_type": "stream",
     "text": [
      "\r",
      " 92%|█████████▏| 46/50 [04:14<00:22,  5.52s/it]"
     ]
    },
    {
     "name": "stdout",
     "output_type": "stream",
     "text": [
      "Epoch 96/50 - Train Loss: 0.0849, Train Acc: 0.97 - Test Loss: 0.4280, Test Acc: 0.89\n"
     ]
    },
    {
     "name": "stderr",
     "output_type": "stream",
     "text": [
      "\r",
      " 94%|█████████▍| 47/50 [04:19<00:16,  5.51s/it]"
     ]
    },
    {
     "name": "stdout",
     "output_type": "stream",
     "text": [
      "Epoch 97/50 - Train Loss: 0.0840, Train Acc: 0.97 - Test Loss: 0.4270, Test Acc: 0.89\n"
     ]
    },
    {
     "name": "stderr",
     "output_type": "stream",
     "text": [
      "\r",
      " 96%|█████████▌| 48/50 [04:25<00:11,  5.53s/it]"
     ]
    },
    {
     "name": "stdout",
     "output_type": "stream",
     "text": [
      "Epoch 98/50 - Train Loss: 0.0810, Train Acc: 0.97 - Test Loss: 0.4213, Test Acc: 0.89\n"
     ]
    },
    {
     "name": "stderr",
     "output_type": "stream",
     "text": [
      "\r",
      " 98%|█████████▊| 49/50 [04:30<00:05,  5.52s/it]"
     ]
    },
    {
     "name": "stdout",
     "output_type": "stream",
     "text": [
      "Epoch 99/50 - Train Loss: 0.0825, Train Acc: 0.97 - Test Loss: 0.4207, Test Acc: 0.90\n"
     ]
    },
    {
     "name": "stderr",
     "output_type": "stream",
     "text": [
      "100%|██████████| 50/50 [04:36<00:00,  5.52s/it]"
     ]
    },
    {
     "name": "stdout",
     "output_type": "stream",
     "text": [
      "Epoch 100/50 - Train Loss: 0.0817, Train Acc: 0.97 - Test Loss: 0.4214, Test Acc: 0.89\n"
     ]
    },
    {
     "name": "stderr",
     "output_type": "stream",
     "text": [
      "\n"
     ]
    }
   ],
   "source": [
    "# Retrain step?\n",
    "\n",
    "more_epochs = 50\n",
    "\n",
    "optimizer = rs.best_params_[\"optimizer\"](model.parameters(), lr=rs.best_params_[\"lr\"])\n",
    "scheduler = torch.optim.lr_scheduler.CosineAnnealingLR(optimizer, T_max=epochs)\n",
    "loss_fn = nn.CrossEntropyLoss()\n",
    "accuracy_fn = Accuracy(task='multiclass', num_classes=10).to(device)\n",
    "\n",
    "\n",
    "for epoch in tqdm(range(epochs, epochs + more_epochs)):\n",
    "    train_loss, train_acc = train_step(\n",
    "        model, train_loader, loss_fn, optimizer, accuracy_fn, device)\n",
    "    test_loss, test_acc = test_step(\n",
    "        model, test_loader, loss_fn, accuracy_fn, device)\n",
    "    scheduler.step()  # Update learning rate\n",
    "    print(\n",
    "        f\"Epoch {epoch+1}/{epochs} - \"\n",
    "        f\"Train Loss: {train_loss:.4f}, Train Acc: {train_acc:.2f} - \"\n",
    "        f\"Test Loss: {test_loss:.4f}, Test Acc: {test_acc:.2f}\"\n",
    "    )"
   ]
  },
  {
   "cell_type": "code",
   "execution_count": 41,
   "metadata": {
    "colab": {
     "base_uri": "https://localhost:8080/"
    },
    "id": "JuWgTuNaKWNp",
    "outputId": "0f75cf08-3938-4587-f3b4-9deef0fd18f2"
   },
   "outputs": [
    {
     "data": {
      "text/plain": [
       "(0.9711212060702875, 0.8944818037974683)"
      ]
     },
     "execution_count": 41,
     "metadata": {},
     "output_type": "execute_result"
    }
   ],
   "source": [
    "train_acc, test_acc"
   ]
  },
  {
   "cell_type": "code",
   "execution_count": 46,
   "metadata": {
    "id": "wahtjmRG_Ptx"
   },
   "outputs": [],
   "source": [
    "# 11d. Final evaluation on test set with sklearn metrics\n",
    "model.eval()\n",
    "all_preds = []\n",
    "all_labels = []\n",
    "\n",
    "with torch.no_grad():\n",
    "    for X, y in test_loader:\n",
    "        X, y = X.to(device), y.to(device)\n",
    "        X = test_transform_batch(X)   # normalize just like during training\n",
    "        y_pred = model(X)\n",
    "        all_preds.extend(y_pred.argmax(dim=1).cpu().numpy())\n",
    "        all_labels.extend(y.cpu().numpy())\n",
    "\n",
    "# Convert lists to numpy arrays\n",
    "all_preds = np.array(all_preds)\n",
    "all_labels = np.array(all_labels)"
   ]
  },
  {
   "cell_type": "markdown",
   "metadata": {
    "id": "FWu2u6ya_dmN"
   },
   "source": []
  },
  {
   "cell_type": "code",
   "execution_count": 60,
   "metadata": {
    "colab": {
     "base_uri": "https://localhost:8080/"
    },
    "id": "9gZ0ps6O_P7N",
    "outputId": "bbb4983d-5fc4-4936-aca5-b170a3fe7ffd"
   },
   "outputs": [
    {
     "name": "stdout",
     "output_type": "stream",
     "text": [
      "\n",
      "Final Evaluation with Sklearn Metrics\n",
      "Accuracy: 0.8933\n",
      "\n",
      "Final Evaluation with torchmetrics Metrics\n",
      " tensor([[895,   4,  29,  10,  10,   3,   4,   6,  24,  15],\n",
      "        [  5, 941,   0,   1,   0,   2,   6,   0,  12,  33],\n",
      "        [ 26,   1, 852,  33,  25,  26,  22,  11,   3,   1],\n",
      "        [ 15,   1,  26, 817,  28,  65,  32,   8,   3,   5],\n",
      "        [  6,   0,  19,  28, 897,  21,  13,  14,   2,   0],\n",
      "        [  5,   0,  12, 102,  19, 832,  12,  14,   3,   1],\n",
      "        [  6,   1,  17,  20,   6,   7, 941,   0,   1,   1],\n",
      "        [  7,   0,   7,  29,  32,  26,   4, 889,   3,   3],\n",
      "        [ 21,   3,   5,   7,   3,   2,   1,   4, 947,   7],\n",
      "        [ 15,  28,   2,  10,   2,   1,   4,   0,  16, 922]])\n",
      "\n",
      "Classification Report:\n",
      "               precision    recall  f1-score   support\n",
      "\n",
      "           0       0.89      0.90      0.89      1000\n",
      "           1       0.96      0.94      0.95      1000\n",
      "           2       0.88      0.85      0.87      1000\n",
      "           3       0.77      0.82      0.79      1000\n",
      "           4       0.88      0.90      0.89      1000\n",
      "           5       0.84      0.83      0.84      1000\n",
      "           6       0.91      0.94      0.92      1000\n",
      "           7       0.94      0.89      0.91      1000\n",
      "           8       0.93      0.95      0.94      1000\n",
      "           9       0.93      0.92      0.93      1000\n",
      "\n",
      "    accuracy                           0.89     10000\n",
      "   macro avg       0.89      0.89      0.89     10000\n",
      "weighted avg       0.89      0.89      0.89     10000\n",
      "\n"
     ]
    }
   ],
   "source": [
    "# 11e. Compute metrics\n",
    "\n",
    "print(\"\\nFinal Evaluation with Sklearn Metrics\")\n",
    "print(\"Accuracy:\", accuracy_score(all_labels, all_preds))\n",
    "# print(\"\\nConfusion Matrix:\\n\", confusion_matrix(all_labels, all_preds))\n",
    "# print(\"\\nClassification Report:\\n\", classification_report(all_labels, all_preds))\n",
    "\n",
    "# Convert back to tensors for torchmetrics\n",
    "all_preds_tensor = torch.tensor(all_preds)\n",
    "all_labels_tensor = torch.tensor(all_labels)\n",
    "\n",
    "print(\"\\nFinal Evaluation with torchmetrics Metrics\\n\", cm_tensor)\n",
    "cm = ConfusionMatrix(num_classes=10, task='multiclass')\n",
    "cm_tensor = cm(all_preds_tensor, all_labels_tensor)\n",
    "# cm_tensor\n",
    "print(\"\\nClassification Report:\\n\", classification_report(all_labels, all_preds))"
   ]
  },
  {
   "cell_type": "code",
   "execution_count": 50,
   "metadata": {
    "colab": {
     "base_uri": "https://localhost:8080/",
     "height": 898
    },
    "id": "_yVO6TZv_TUF",
    "outputId": "c52aeebd-0f20-4c11-bf3d-01837b9569cf"
   },
   "outputs": [
    {
     "data": {
      "image/png": "[encoded data removed]",
      "text/plain": [
       "<Figure size 1200x1000 with 2 Axes>"
      ]
     },
     "metadata": {},
     "output_type": "display_data"
    }
   ],
   "source": [
    "# 12. Final Confusion Matrix for Best & Fully Trained Model\n",
    "\n",
    "fig, ax = plt.subplots(figsize=(12, 10))\n",
    "\n",
    "# disp = ConfusionMatrixDisplay.from_predictions(\n",
    "#     all_labels, all_preds\n",
    "#     , display_labels=dataset.classes\n",
    "#     , normalize='true'\n",
    "# )\n",
    "\n",
    "disp.plot(ax=ax, cmap=\"Blues\", xticks_rotation=45)\n",
    "plt.title(\"Confusion Matrix for CIFAR-10 - Final Model\")\n",
    "plt.show();"
   ]
  },
  {
   "cell_type": "code",
   "execution_count": 51,
   "metadata": {
    "colab": {
     "base_uri": "https://localhost:8080/"
    },
    "id": "U3lfrBAu3CON",
    "outputId": "4f0a7ba1-6a3d-4103-b76e-39db4a7da0c3"
   },
   "outputs": [
    {
     "name": "stdout",
     "output_type": "stream",
     "text": [
      "Model saved to Cifar10CNN_v3_more_retrained_best.pth\n"
     ]
    }
   ],
   "source": [
    "# Save both model weights and optimizer state\n",
    "torch.save({\n",
    "    'epoch': epochs + more_epochs\n",
    "    , 'model_state_dict': model.state_dict()\n",
    "    , 'optimizer_state_dict': optimizer.state_dict()\n",
    "    , 'loss': loss_fn,  # optional\n",
    "}, \"Cifar10CNN_v3_more_retrained_best.pth\")\n",
    "\n",
    "print(\"Model saved to Cifar10CNN_v3_more_retrained_best.pth\")"
   ]
  },
  {
   "cell_type": "code",
   "execution_count": 52,
   "metadata": {
    "id": "sRyUkPKc3CRU"
   },
   "outputs": [],
   "source": [
    "torch.save(model.state_dict(), \"Cifar10CNN_v3_more_retrained_best_weights.pth\")"
   ]
  },
  {
   "cell_type": "code",
   "execution_count": 36,
   "metadata": {
    "id": "Nfs5RL83_AVE"
   },
   "outputs": [],
   "source": [
    "# Cifar10CNN_v3_best\n",
    "\n",
    "torch.save(model.state_dict(), \"Cifar10CNN_v3_best_weights.pth\")"
   ]
  },
  {
   "cell_type": "code",
   "execution_count": 57,
   "metadata": {
    "colab": {
     "base_uri": "https://localhost:8080/"
    },
    "id": "ZEZs2L3B_Aey",
    "outputId": "b24d8d03-04e3-4e16-e0c7-69b85bffb5fe"
   },
   "outputs": [
    {
     "name": "stdout",
     "output_type": "stream",
     "text": [
      "\n",
      "Classification Report:\n",
      "               precision    recall  f1-score   support\n",
      "\n",
      "           0       0.89      0.90      0.89      1000\n",
      "           1       0.96      0.94      0.95      1000\n",
      "           2       0.88      0.85      0.87      1000\n",
      "           3       0.77      0.82      0.79      1000\n",
      "           4       0.88      0.90      0.89      1000\n",
      "           5       0.84      0.83      0.84      1000\n",
      "           6       0.91      0.94      0.92      1000\n",
      "           7       0.94      0.89      0.91      1000\n",
      "           8       0.93      0.95      0.94      1000\n",
      "           9       0.93      0.92      0.93      1000\n",
      "\n",
      "    accuracy                           0.89     10000\n",
      "   macro avg       0.89      0.89      0.89     10000\n",
      "weighted avg       0.89      0.89      0.89     10000\n",
      "\n"
     ]
    }
   ],
   "source": [
    "print(\"\\nClassification Report:\\n\", classification_report(all_labels, all_preds))"
   ]
  },
  {
   "cell_type": "code",
   "execution_count": null,
   "metadata": {
    "id": "efCDEsrX_AiX"
   },
   "outputs": [],
   "source": []
  },
  {
   "cell_type": "code",
   "execution_count": null,
   "metadata": {
    "id": "57pqyyAM3CUo"
   },
   "outputs": [],
   "source": []
  }
 ],
 "metadata": {
  "accelerator": "GPU",
  "colab": {
   "authorship_tag": "ABX9TyPiK4qXYnGOCqQOnixI9yeX",
   "gpuType": "T4",
   "include_colab_link": true,
   "provenance": []
  },
  "kernelspec": {
   "display_name": "Python 3 (ipykernel)",
   "language": "python",
   "name": "python3"
  },
  "language_info": {
   "codemirror_mode": {
    "name": "ipython",
    "version": 3
   },
   "file_extension": ".py",
   "mimetype": "text/x-python",
   "name": "python",
   "nbconvert_exporter": "python",
   "pygments_lexer": "ipython3",
   "version": "3.11.5"
  }
 },
 "nbformat": 4,
 "nbformat_minor": 1
}
