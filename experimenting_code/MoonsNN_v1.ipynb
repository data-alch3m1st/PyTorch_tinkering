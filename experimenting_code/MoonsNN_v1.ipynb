{
 "cells": [
  {
   "cell_type": "code",
   "execution_count": 1,
   "id": "3408b953",
   "metadata": {},
   "outputs": [],
   "source": [
    "# Import necessary libraries\n",
    "import torch\n",
    "import torch.nn as nn\n",
    "import torch.optim as optim\n",
    "\n",
    "from sklearn.datasets import make_moons\n",
    "from sklearn.model_selection import train_test_split\n",
    "from sklearn.preprocessing import StandardScaler\n",
    "from sklearn.metrics import accuracy_score\n",
    "\n",
    "import numpy as np\n",
    "import pandas as pd\n",
    "import matplotlib.pyplot as plt\n",
    "\n",
    "import warnings\n",
    "warnings.simplefilter('ignore')"
   ]
  },
  {
   "cell_type": "code",
   "execution_count": 2,
   "id": "b6f69c25",
   "metadata": {},
   "outputs": [
    {
     "name": "stdout",
     "output_type": "stream",
     "text": [
      "mps\n"
     ]
    }
   ],
   "source": [
    "# If on MacBook:\n",
    "if torch.cuda.is_available():\n",
    "    device = \"cuda\" # Use NVIDIA GPU (if available)\n",
    "elif torch.backends.mps.is_available():\n",
    "    device = \"mps\" # Use Apple Silicon GPU (if available)\n",
    "else:\n",
    "    device = \"cpu\" # Default to CPU if no GPU is available\n",
    "    \n",
    "print(device)"
   ]
  },
  {
   "cell_type": "code",
   "execution_count": 16,
   "id": "611b0798",
   "metadata": {},
   "outputs": [],
   "source": [
    "# Step 1: Create a non-linear dataset (make_moons)\n",
    "\n",
    "# make_moons generates a two-class dataset that is non-linear and slightly challenging but simple to work with\n",
    "\n",
    "X, y = make_moons(\n",
    "    n_samples=1000\n",
    "    , noise=0.2\n",
    "    , random_state=27)"
   ]
  },
  {
   "cell_type": "code",
   "execution_count": 17,
   "id": "9615f914",
   "metadata": {},
   "outputs": [
    {
     "data": {
      "text/plain": [
       "((800, 2), (200, 2), (800,), (200,))"
      ]
     },
     "execution_count": 17,
     "metadata": {},
     "output_type": "execute_result"
    }
   ],
   "source": [
    "# Step 2: Split the data into training and testing sets\n",
    "\n",
    "# Random state ensures reproducibility\n",
    "X_train, X_test, y_train, y_test = train_test_split(\n",
    "    X, y, test_size=0.2\n",
    "    , random_state=27\n",
    ")\n",
    "\n",
    "X_train.shape, X_test.shape, y_train.shape, y_test.shape"
   ]
  },
  {
   "cell_type": "code",
   "execution_count": 5,
   "id": "47d529d8",
   "metadata": {},
   "outputs": [],
   "source": [
    "# Step 3: Preprocess the data\n",
    "# Standardize the features to ensure faster and more stable training of the neural network\n",
    "\n",
    "scaler = StandardScaler()\n",
    "\n",
    "X_train = scaler.fit_transform(X_train)\n",
    "X_test = scaler.transform(X_test)"
   ]
  },
  {
   "cell_type": "code",
   "execution_count": 18,
   "id": "1258950d",
   "metadata": {},
   "outputs": [],
   "source": [
    "# Convert the data to PyTorch tensors for compatibility with PyTorch\n",
    "\n",
    "# NOTE: In some classifications models, 'y' dtype needs to be a 'longTensor' (torch.long) when using CrossEntropyLoss, as this loss_fn needs an index value for the classification, hence needs an integer, not float;\n",
    "\n",
    "X_train_tensor = torch.tensor(X_train, dtype=torch.float32).to(device)\n",
    "y_train_tensor = torch.tensor(y_train, dtype=torch.long).to(device)\n",
    "\n",
    "X_test_tensor = torch.tensor(X_test, dtype=torch.float32).to(device)\n",
    "y_test_tensor = torch.tensor(y_test, dtype=torch.long).to(device)"
   ]
  },
  {
   "cell_type": "code",
   "execution_count": 19,
   "id": "adb1c472",
   "metadata": {},
   "outputs": [],
   "source": [
    "# Step 4: Define the neural network model\n",
    "\n",
    "# This is a simple feedforward neural network with 2 hidden layers\n",
    "class MoonsNN(nn.Module):\n",
    "    def __init__(self):\n",
    "        super(MoonsNN, self).__init__()\n",
    "        # Input layer: 2 features as input\n",
    "        # Hidden layer 1: 16 neurons with ReLU activation\n",
    "        # Hidden layer 2: 8 neurons with ReLU activation\n",
    "        # Output layer: 2 neurons (one for each class) with Softmax activation\n",
    "        self.fc1 = nn.Linear(2, 16)  # First hidden layer\n",
    "        self.fc2 = nn.Linear(16, 8)  # Second hidden layer\n",
    "        self.fc3 = nn.Linear(8, 2)   # Output layer\n",
    "\n",
    "    def forward(self, x):\n",
    "        x = torch.relu(self.fc1(x))  # Apply ReLU activation to the first hidden layer\n",
    "        x = torch.relu(self.fc2(x))  # Apply ReLU activation to the second hidden layer\n",
    "        x = self.fc3(x)              # Output layer (logits)\n",
    "        return x"
   ]
  },
  {
   "cell_type": "code",
   "execution_count": 20,
   "id": "ea5b1103",
   "metadata": {},
   "outputs": [
    {
     "data": {
      "text/plain": [
       "MoonsNN(\n",
       "  (fc1): Linear(in_features=2, out_features=16, bias=True)\n",
       "  (fc2): Linear(in_features=16, out_features=8, bias=True)\n",
       "  (fc3): Linear(in_features=8, out_features=2, bias=True)\n",
       ")"
      ]
     },
     "execution_count": 20,
     "metadata": {},
     "output_type": "execute_result"
    }
   ],
   "source": [
    "# Initialize the model and move it to the selected device (CPU/GPU)\n",
    "model = MoonsNN().to(device)\n",
    "model"
   ]
  },
  {
   "cell_type": "code",
   "execution_count": 21,
   "id": "80c48b9c",
   "metadata": {},
   "outputs": [],
   "source": [
    "# Step 5: Define the loss function and optimizer\n",
    "# CrossEntropyLoss is used for classification problems\n",
    "\n",
    "criterion = nn.CrossEntropyLoss()\n",
    "\n",
    "optimizer = optim.Adam(\n",
    "    model.parameters(), lr=0.01)  # Adam optimizer with a learning rate of 0.01"
   ]
  },
  {
   "cell_type": "code",
   "execution_count": 23,
   "id": "58deb826",
   "metadata": {},
   "outputs": [
    {
     "name": "stdout",
     "output_type": "stream",
     "text": [
      "Epoch [10/100], Loss: 0.0932, Accuracy: 96.0000%\n",
      "Epoch [20/100], Loss: 0.0823, Accuracy: 96.1250%\n",
      "Epoch [30/100], Loss: 0.0756, Accuracy: 96.3750%\n",
      "Epoch [40/100], Loss: 0.0707, Accuracy: 96.7500%\n",
      "Epoch [50/100], Loss: 0.0679, Accuracy: 97.0000%\n",
      "Epoch [60/100], Loss: 0.0658, Accuracy: 97.0000%\n",
      "Epoch [70/100], Loss: 0.0645, Accuracy: 97.0000%\n",
      "Epoch [80/100], Loss: 0.0633, Accuracy: 97.1250%\n",
      "Epoch [90/100], Loss: 0.0625, Accuracy: 97.0000%\n",
      "Epoch [100/100], Loss: 0.0620, Accuracy: 97.1250%\n"
     ]
    }
   ],
   "source": [
    "# Step 6: Train the model\n",
    "# Number of epochs (iterations over the entire dataset)\n",
    "\n",
    "n_epochs = 100\n",
    "\n",
    "for epoch in range(n_epochs):\n",
    "    # Set the model to training mode\n",
    "    model.train()\n",
    "\n",
    "    # Forward pass: compute the predictions\n",
    "    y_pred = model(X_train_tensor)\n",
    "\n",
    "    # Compute the loss\n",
    "    loss = criterion(y_pred, y_train_tensor)\n",
    "\n",
    "    # Zero the gradients from the previous step\n",
    "    optimizer.zero_grad()\n",
    "\n",
    "    # Backward pass: compute the gradients\n",
    "    loss.backward()\n",
    "\n",
    "    # Update the model parameters\n",
    "    optimizer.step()\n",
    "\n",
    "    # Print the loss and accuracy every 10 epochs\n",
    "    if (epoch + 1) % 10 == 0:\n",
    "        # Calculate accuracy\n",
    "        model.eval()  # Set the model to evaluation mode\n",
    "        with torch.no_grad():\n",
    "            y_pred_classes = torch.argmax(y_pred, dim=1)  # Get predicted class labels\n",
    "            correct = (y_pred_classes == y_train_tensor).sum().item()  # Count correct predictions\n",
    "            accuracy = (correct / y_train_tensor.size(0)) *100  # Calculate accuracy\n",
    "        \n",
    "        print(f\"Epoch [{epoch + 1}/{n_epochs}], Loss: {loss.item():.4f}, Accuracy: {accuracy:.4f}%\")"
   ]
  },
  {
   "cell_type": "code",
   "execution_count": 26,
   "id": "5d0dd7bf",
   "metadata": {},
   "outputs": [
    {
     "name": "stdout",
     "output_type": "stream",
     "text": [
      "Test Loss: 0.0542, Test Accuracy: 0.9750\n"
     ]
    }
   ],
   "source": [
    "# Step 7: Evaluate the model on the test data\n",
    "# Set the model to evaluation mode\n",
    "model.eval()\n",
    "\n",
    "# Initialize variables to store test loss and correct predictions\n",
    "test_loss = 0.0\n",
    "correct = 0\n",
    "\n",
    "with torch.no_grad():  # Disable gradient computation for evaluation\n",
    "    # Forward pass: compute the predictions\n",
    "    y_test_pred = model(X_test_tensor)\n",
    "\n",
    "    # Compute the loss\n",
    "    test_loss = criterion(y_test_pred, y_test_tensor).item()\n",
    "\n",
    "    # Calculate accuracy\n",
    "    y_test_pred_classes = torch.argmax(y_test_pred, dim=1)  # Get predicted class labels\n",
    "    correct = (y_test_pred_classes == y_test_tensor).sum().item()  # Count correct predictions\n",
    "    accuracy = correct / y_test_tensor.size(0)  # Calculate accuracy\n",
    "\n",
    "# Print test loss and accuracy\n",
    "print(f\"Test Loss: {test_loss:.4f}, Test Accuracy: {accuracy:.4f}\")"
   ]
  },
  {
   "cell_type": "code",
   "execution_count": 27,
   "id": "2e037dbb",
   "metadata": {},
   "outputs": [
    {
     "name": "stdout",
     "output_type": "stream",
     "text": [
      "Epoch [10/100], Train Loss: 0.0616, Train Accuracy: 0.9712, Test Loss: 0.0542, Test Accuracy: 0.9750\n",
      "Epoch [20/100], Train Loss: 0.0613, Train Accuracy: 0.9712, Test Loss: 0.0542, Test Accuracy: 0.9750\n",
      "Epoch [30/100], Train Loss: 0.0610, Train Accuracy: 0.9712, Test Loss: 0.0541, Test Accuracy: 0.9750\n",
      "Epoch [40/100], Train Loss: 0.0608, Train Accuracy: 0.9712, Test Loss: 0.0542, Test Accuracy: 0.9750\n",
      "Epoch [50/100], Train Loss: 0.0606, Train Accuracy: 0.9712, Test Loss: 0.0541, Test Accuracy: 0.9750\n",
      "Epoch [60/100], Train Loss: 0.0605, Train Accuracy: 0.9712, Test Loss: 0.0539, Test Accuracy: 0.9750\n",
      "Epoch [70/100], Train Loss: 0.0603, Train Accuracy: 0.9700, Test Loss: 0.0546, Test Accuracy: 0.9750\n",
      "Epoch [80/100], Train Loss: 0.0599, Train Accuracy: 0.9712, Test Loss: 0.0559, Test Accuracy: 0.9750\n",
      "Epoch [90/100], Train Loss: 0.0595, Train Accuracy: 0.9725, Test Loss: 0.0562, Test Accuracy: 0.9750\n",
      "Epoch [100/100], Train Loss: 0.0594, Train Accuracy: 0.9738, Test Loss: 0.0553, Test Accuracy: 0.9750\n"
     ]
    }
   ],
   "source": [
    "# Number of epochs (iterations over the entire dataset)\n",
    "n_epochs = 100\n",
    "\n",
    "for epoch in range(n_epochs):\n",
    "    # ===== Training =====\n",
    "    model.train()  # Set the model to training mode\n",
    "\n",
    "    # Forward pass: compute the predictions\n",
    "    y_pred = model(X_train_tensor)\n",
    "\n",
    "    # Compute the training loss\n",
    "    loss = criterion(y_pred, y_train_tensor)\n",
    "\n",
    "    # Zero the gradients from the previous step\n",
    "    optimizer.zero_grad()\n",
    "\n",
    "    # Backward pass: compute the gradients\n",
    "    loss.backward()\n",
    "\n",
    "    # Update the model parameters\n",
    "    optimizer.step()\n",
    "\n",
    "    # ===== Evaluation every 10 epochs =====\n",
    "    if (epoch + 1) % 10 == 0:\n",
    "        # Calculate training accuracy\n",
    "        model.eval()  # Set the model to evaluation mode\n",
    "        with torch.no_grad():\n",
    "            # Training accuracy\n",
    "            y_train_pred_classes = torch.argmax(y_pred, dim=1)  # Get predicted class labels\n",
    "            train_correct = (y_train_pred_classes == y_train_tensor).sum().item()\n",
    "            train_accuracy = train_correct / y_train_tensor.size(0)\n",
    "\n",
    "            # Test loss and accuracy\n",
    "            y_test_pred = model(X_test_tensor)  # Forward pass on test data\n",
    "            test_loss = criterion(y_test_pred, y_test_tensor).item()  # Test loss\n",
    "            y_test_pred_classes = torch.argmax(y_test_pred, dim=1)  # Predicted class labels\n",
    "            test_correct = (y_test_pred_classes == y_test_tensor).sum().item()\n",
    "            test_accuracy = test_correct / y_test_tensor.size(0)\n",
    "\n",
    "        # Print training and test results\n",
    "        print(f\"Epoch [{epoch + 1}/{n_epochs}], \"\n",
    "              f\"Train Loss: {loss.item():.4f}, Train Accuracy: {train_accuracy:.4f}, \"\n",
    "              f\"Test Loss: {test_loss:.4f}, Test Accuracy: {test_accuracy:.4f}\")"
   ]
  },
  {
   "cell_type": "code",
   "execution_count": null,
   "id": "1baf9dbe",
   "metadata": {},
   "outputs": [],
   "source": []
  },
  {
   "cell_type": "code",
   "execution_count": null,
   "id": "4b91cc65",
   "metadata": {},
   "outputs": [],
   "source": []
  },
  {
   "cell_type": "code",
   "execution_count": null,
   "id": "583b3e19",
   "metadata": {},
   "outputs": [],
   "source": []
  },
  {
   "cell_type": "code",
   "execution_count": 28,
   "id": "10513d31",
   "metadata": {},
   "outputs": [
    {
     "name": "stdout",
     "output_type": "stream",
     "text": [
      "helper_functions.py already exists, skipping download\n"
     ]
    }
   ],
   "source": [
    "import requests\n",
    "from pathlib import Path \n",
    "\n",
    "# Download helper functions from Learn PyTorch repo (if not already downloaded)\n",
    "if Path(\"helper_functions.py\").is_file():\n",
    "  print(\"helper_functions.py already exists, skipping download\")\n",
    "else:\n",
    "  print(\"Downloading helper_functions.py\")\n",
    "  request = requests.get(\"https://raw.githubusercontent.com/mrdbourke/pytorch-deep-learning/main/helper_functions.py\")\n",
    "  with open(\"helper_functions.py\", \"wb\") as f:\n",
    "    f.write(request.content)\n",
    "\n",
    "from helper_functions import plot_predictions, plot_decision_boundary"
   ]
  },
  {
   "cell_type": "code",
   "execution_count": 30,
   "id": "03075f9b",
   "metadata": {},
   "outputs": [
    {
     "data": {
      "text/plain": [
       "torch.Size([800, 2])"
      ]
     },
     "execution_count": 30,
     "metadata": {},
     "output_type": "execute_result"
    }
   ],
   "source": [
    "y_pred.shape"
   ]
  },
  {
   "cell_type": "code",
   "execution_count": 29,
   "id": "38e6a894",
   "metadata": {},
   "outputs": [
    {
     "ename": "RuntimeError",
     "evalue": "shape '[101, 101]' is invalid for input of size 20402",
     "output_type": "error",
     "traceback": [
      "\u001b[0;31m---------------------------------------------------------------------------\u001b[0m",
      "\u001b[0;31mRuntimeError\u001b[0m                              Traceback (most recent call last)",
      "Cell \u001b[0;32mIn[29], line 5\u001b[0m\n\u001b[1;32m      3\u001b[0m plt\u001b[38;5;241m.\u001b[39msubplot(\u001b[38;5;241m1\u001b[39m, \u001b[38;5;241m2\u001b[39m, \u001b[38;5;241m1\u001b[39m)\n\u001b[1;32m      4\u001b[0m plt\u001b[38;5;241m.\u001b[39mtitle(\u001b[38;5;124m\"\u001b[39m\u001b[38;5;124mTrain\u001b[39m\u001b[38;5;124m\"\u001b[39m)\n\u001b[0;32m----> 5\u001b[0m plot_decision_boundary(model, X_train_tensor, y_train_tensor)\n\u001b[1;32m      6\u001b[0m plt\u001b[38;5;241m.\u001b[39msubplot(\u001b[38;5;241m1\u001b[39m, \u001b[38;5;241m2\u001b[39m, \u001b[38;5;241m2\u001b[39m)\n\u001b[1;32m      7\u001b[0m plt\u001b[38;5;241m.\u001b[39mtitle(\u001b[38;5;124m\"\u001b[39m\u001b[38;5;124mTest\u001b[39m\u001b[38;5;124m\"\u001b[39m)\n",
      "File \u001b[0;32m~/Documents/_c0d3_l0c4l/PyTorch_tinkering/experimenting_code/helper_functions.py:67\u001b[0m, in \u001b[0;36mplot_decision_boundary\u001b[0;34m(model, X, y)\u001b[0m\n\u001b[1;32m     64\u001b[0m     y_pred \u001b[38;5;241m=\u001b[39m torch\u001b[38;5;241m.\u001b[39mround(torch\u001b[38;5;241m.\u001b[39msigmoid(y_logits))  \u001b[38;5;66;03m# binary\u001b[39;00m\n\u001b[1;32m     66\u001b[0m \u001b[38;5;66;03m# Reshape preds and plot\u001b[39;00m\n\u001b[0;32m---> 67\u001b[0m y_pred \u001b[38;5;241m=\u001b[39m y_pred\u001b[38;5;241m.\u001b[39mreshape(xx\u001b[38;5;241m.\u001b[39mshape)\u001b[38;5;241m.\u001b[39mdetach()\u001b[38;5;241m.\u001b[39mnumpy()\n\u001b[1;32m     68\u001b[0m plt\u001b[38;5;241m.\u001b[39mcontourf(xx, yy, y_pred, cmap\u001b[38;5;241m=\u001b[39mplt\u001b[38;5;241m.\u001b[39mcm\u001b[38;5;241m.\u001b[39mRdYlBu, alpha\u001b[38;5;241m=\u001b[39m\u001b[38;5;241m0.7\u001b[39m)\n\u001b[1;32m     69\u001b[0m plt\u001b[38;5;241m.\u001b[39mscatter(X[:, \u001b[38;5;241m0\u001b[39m], X[:, \u001b[38;5;241m1\u001b[39m], c\u001b[38;5;241m=\u001b[39my, s\u001b[38;5;241m=\u001b[39m\u001b[38;5;241m40\u001b[39m, cmap\u001b[38;5;241m=\u001b[39mplt\u001b[38;5;241m.\u001b[39mcm\u001b[38;5;241m.\u001b[39mRdYlBu)\n",
      "\u001b[0;31mRuntimeError\u001b[0m: shape '[101, 101]' is invalid for input of size 20402"
     ]
    },
    {
     "data": {
      "image/png": "[encoded data removed]",
      "text/plain": [
       "<Figure size 1200x600 with 1 Axes>"
      ]
     },
     "metadata": {},
     "output_type": "display_data"
    }
   ],
   "source": [
    "# Plot decision boundaries for training and test sets\n",
    "plt.figure(figsize=(12, 6))\n",
    "plt.subplot(1, 2, 1)\n",
    "plt.title(\"Train\")\n",
    "plot_decision_boundary(model, X_train_tensor, y_train_tensor)\n",
    "plt.subplot(1, 2, 2)\n",
    "plt.title(\"Test\")\n",
    "plot_decision_boundary(model, X_test_tensor, y_test_tensor)"
   ]
  },
  {
   "cell_type": "code",
   "execution_count": null,
   "id": "81bf7ca0",
   "metadata": {},
   "outputs": [],
   "source": []
  },
  {
   "cell_type": "code",
   "execution_count": null,
   "id": "560fa754",
   "metadata": {},
   "outputs": [],
   "source": []
  },
  {
   "cell_type": "code",
   "execution_count": null,
   "id": "58f8f3e1",
   "metadata": {},
   "outputs": [],
   "source": []
  },
  {
   "cell_type": "code",
   "execution_count": 15,
   "id": "91c41e09",
   "metadata": {},
   "outputs": [
    {
     "name": "stdout",
     "output_type": "stream",
     "text": [
      "Epoch [10/100], Loss: 0.0741\n",
      "Epoch [20/100], Loss: 0.0692\n",
      "Epoch [30/100], Loss: 0.0662\n",
      "Epoch [40/100], Loss: 0.0640\n",
      "Epoch [50/100], Loss: 0.0624\n",
      "Epoch [60/100], Loss: 0.0612\n",
      "Epoch [70/100], Loss: 0.0604\n",
      "Epoch [80/100], Loss: 0.0596\n",
      "Epoch [90/100], Loss: 0.0590\n",
      "Epoch [100/100], Loss: 0.0585\n"
     ]
    }
   ],
   "source": [
    "# Step 6: Train the model\n",
    "# Number of epochs (iterations over the entire dataset)\n",
    "n_epochs = 100\n",
    "\n",
    "for epoch in range(n_epochs):\n",
    "    # Set the model to training mode\n",
    "    model.train()\n",
    "\n",
    "    # Forward pass: compute the predictions\n",
    "    y_pred = model(X_train_tensor)\n",
    "\n",
    "    # Compute the loss\n",
    "    loss = criterion(y_pred, y_train_tensor)\n",
    "\n",
    "    # Zero the gradients from the previous step\n",
    "    optimizer.zero_grad()\n",
    "\n",
    "    # Backward pass: compute the gradients\n",
    "    loss.backward()\n",
    "\n",
    "    # Update the model parameters\n",
    "    optimizer.step()\n",
    "\n",
    "    # Print the loss every 10 epochs\n",
    "    if (epoch + 1) % 10 == 0:\n",
    "        print(f\"Epoch [{epoch + 1}/{n_epochs}], Loss: {loss.item():.4f}\")"
   ]
  },
  {
   "cell_type": "code",
   "execution_count": null,
   "id": "2800584d",
   "metadata": {},
   "outputs": [],
   "source": [
    "# Step 7: Test the model\n",
    "# Set the model to evaluation mode\n",
    "model.eval()\n",
    "\n",
    "# Disable gradient computation during testing for efficiency\n",
    "with torch.no_grad():\n",
    "    # Forward pass on the test set\n",
    "    y_test_pred = model(X_test_tensor)\n",
    "    # Get the class with the highest score (logits)\n",
    "    y_test_pred_classes = torch.argmax(y_test_pred, axis=1)\n"
   ]
  },
  {
   "cell_type": "code",
   "execution_count": null,
   "id": "a0e0e65b",
   "metadata": {},
   "outputs": [],
   "source": []
  },
  {
   "cell_type": "code",
   "execution_count": null,
   "id": "9ffc89c9",
   "metadata": {},
   "outputs": [],
   "source": []
  },
  {
   "cell_type": "code",
   "execution_count": null,
   "id": "ae4ec7a5",
   "metadata": {},
   "outputs": [],
   "source": []
  },
  {
   "cell_type": "code",
   "execution_count": null,
   "id": "5cfca06f",
   "metadata": {},
   "outputs": [],
   "source": []
  }
 ],
 "metadata": {
  "kernelspec": {
   "display_name": "Python 3 (ipykernel)",
   "language": "python",
   "name": "python3"
  },
  "language_info": {
   "codemirror_mode": {
    "name": "ipython",
    "version": 3
   },
   "file_extension": ".py",
   "mimetype": "text/x-python",
   "name": "python",
   "nbconvert_exporter": "python",
   "pygments_lexer": "ipython3",
   "version": "3.11.5"
  }
 },
 "nbformat": 4,
 "nbformat_minor": 5
}
