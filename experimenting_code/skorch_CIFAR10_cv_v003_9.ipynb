{
 "cells": [
  {
   "cell_type": "markdown",
   "metadata": {
    "colab_type": "text",
    "id": "view-in-github"
   },
   "source": [
    "<a href=\"https://colab.research.google.com/github/data-alch3m1st/PyTorch_tinkering/blob/main/skorch_CIFAR10_cv_v003_9.ipynb\" target=\"_parent\"><img src=\"https://colab.research.google.com/assets/colab-badge.svg\" alt=\"Open In Colab\"/></a>"
   ]
  },
  {
   "cell_type": "markdown",
   "metadata": {
    "id": "dl8KC4N6GBdx"
   },
   "source": [
    "### CIFAR-10 CNN (v009) ###\n",
    "\n",
    "*Given the significant demands on memory (and I am using a MacBook so no CUDA for me), have to run this in Google Colab for baller T4 CUDA...*"
   ]
  },
  {
   "cell_type": "markdown",
   "metadata": {},
   "source": [
    "***UPDATE:*** \n",
    "\n",
    "*I re-ran a skorch RandomSearchCV but with some adjustments to get better efficiency out of the grid search in order to exposed a greater number of hyper-params combinations. As such, I upped the n_iter=20 (prev. n_iter=10) and lowered the cv=2 (prev. cv=3). which increasd total iterations to 40, but getting 20 hyperparam combos instead of 10.*"
   ]
  },
  {
   "cell_type": "code",
   "execution_count": 1,
   "metadata": {
    "colab": {
     "base_uri": "https://localhost:8080/"
    },
    "collapsed": true,
    "id": "ml7-kkPZF5EF",
    "outputId": "074811bd-ba28-4da4-9cb7-ba19882f4b6a"
   },
   "outputs": [
    {
     "name": "stdout",
     "output_type": "stream",
     "text": [
      "Collecting skorch\n",
      "  Downloading skorch-1.2.0-py3-none-any.whl.metadata (11 kB)\n",
      "Requirement already satisfied: numpy>=1.13.3 in /usr/local/lib/python3.12/dist-packages (from skorch) (2.0.2)\n",
      "Requirement already satisfied: scikit-learn>=0.22.0 in /usr/local/lib/python3.12/dist-packages (from skorch) (1.6.1)\n",
      "Requirement already satisfied: scipy>=1.1.0 in /usr/local/lib/python3.12/dist-packages (from skorch) (1.16.1)\n",
      "Requirement already satisfied: tabulate>=0.7.7 in /usr/local/lib/python3.12/dist-packages (from skorch) (0.9.0)\n",
      "Requirement already satisfied: tqdm>=4.14.0 in /usr/local/lib/python3.12/dist-packages (from skorch) (4.67.1)\n",
      "Requirement already satisfied: joblib>=1.2.0 in /usr/local/lib/python3.12/dist-packages (from scikit-learn>=0.22.0->skorch) (1.5.2)\n",
      "Requirement already satisfied: threadpoolctl>=3.1.0 in /usr/local/lib/python3.12/dist-packages (from scikit-learn>=0.22.0->skorch) (3.6.0)\n",
      "Downloading skorch-1.2.0-py3-none-any.whl (263 kB)\n",
      "\u001b[2K   \u001b[90m━━━━━━━━━━━━━━━━━━━━━━━━━━━━━━━━━━━━━━━━\u001b[0m \u001b[32m263.1/263.1 kB\u001b[0m \u001b[31m8.5 MB/s\u001b[0m eta \u001b[36m0:00:00\u001b[0m\n",
      "\u001b[?25hInstalling collected packages: skorch\n",
      "Successfully installed skorch-1.2.0\n",
      "Collecting torchmetrics\n",
      "  Downloading torchmetrics-1.8.2-py3-none-any.whl.metadata (22 kB)\n",
      "Requirement already satisfied: numpy>1.20.0 in /usr/local/lib/python3.12/dist-packages (from torchmetrics) (2.0.2)\n",
      "Requirement already satisfied: packaging>17.1 in /usr/local/lib/python3.12/dist-packages (from torchmetrics) (25.0)\n",
      "Requirement already satisfied: torch>=2.0.0 in /usr/local/lib/python3.12/dist-packages (from torchmetrics) (2.8.0+cu126)\n",
      "Collecting lightning-utilities>=0.8.0 (from torchmetrics)\n",
      "  Downloading lightning_utilities-0.15.2-py3-none-any.whl.metadata (5.7 kB)\n",
      "Requirement already satisfied: setuptools in /usr/local/lib/python3.12/dist-packages (from lightning-utilities>=0.8.0->torchmetrics) (75.2.0)\n",
      "Requirement already satisfied: typing_extensions in /usr/local/lib/python3.12/dist-packages (from lightning-utilities>=0.8.0->torchmetrics) (4.15.0)\n",
      "Requirement already satisfied: filelock in /usr/local/lib/python3.12/dist-packages (from torch>=2.0.0->torchmetrics) (3.19.1)\n",
      "Requirement already satisfied: sympy>=1.13.3 in /usr/local/lib/python3.12/dist-packages (from torch>=2.0.0->torchmetrics) (1.13.3)\n",
      "Requirement already satisfied: networkx in /usr/local/lib/python3.12/dist-packages (from torch>=2.0.0->torchmetrics) (3.5)\n",
      "Requirement already satisfied: jinja2 in /usr/local/lib/python3.12/dist-packages (from torch>=2.0.0->torchmetrics) (3.1.6)\n",
      "Requirement already satisfied: fsspec in /usr/local/lib/python3.12/dist-packages (from torch>=2.0.0->torchmetrics) (2025.3.0)\n",
      "Requirement already satisfied: nvidia-cuda-nvrtc-cu12==12.6.77 in /usr/local/lib/python3.12/dist-packages (from torch>=2.0.0->torchmetrics) (12.6.77)\n",
      "Requirement already satisfied: nvidia-cuda-runtime-cu12==12.6.77 in /usr/local/lib/python3.12/dist-packages (from torch>=2.0.0->torchmetrics) (12.6.77)\n",
      "Requirement already satisfied: nvidia-cuda-cupti-cu12==12.6.80 in /usr/local/lib/python3.12/dist-packages (from torch>=2.0.0->torchmetrics) (12.6.80)\n",
      "Requirement already satisfied: nvidia-cudnn-cu12==9.10.2.21 in /usr/local/lib/python3.12/dist-packages (from torch>=2.0.0->torchmetrics) (9.10.2.21)\n",
      "Requirement already satisfied: nvidia-cublas-cu12==12.6.4.1 in /usr/local/lib/python3.12/dist-packages (from torch>=2.0.0->torchmetrics) (12.6.4.1)\n",
      "Requirement already satisfied: nvidia-cufft-cu12==11.3.0.4 in /usr/local/lib/python3.12/dist-packages (from torch>=2.0.0->torchmetrics) (11.3.0.4)\n",
      "Requirement already satisfied: nvidia-curand-cu12==10.3.7.77 in /usr/local/lib/python3.12/dist-packages (from torch>=2.0.0->torchmetrics) (10.3.7.77)\n",
      "Requirement already satisfied: nvidia-cusolver-cu12==11.7.1.2 in /usr/local/lib/python3.12/dist-packages (from torch>=2.0.0->torchmetrics) (11.7.1.2)\n",
      "Requirement already satisfied: nvidia-cusparse-cu12==12.5.4.2 in /usr/local/lib/python3.12/dist-packages (from torch>=2.0.0->torchmetrics) (12.5.4.2)\n",
      "Requirement already satisfied: nvidia-cusparselt-cu12==0.7.1 in /usr/local/lib/python3.12/dist-packages (from torch>=2.0.0->torchmetrics) (0.7.1)\n",
      "Requirement already satisfied: nvidia-nccl-cu12==2.27.3 in /usr/local/lib/python3.12/dist-packages (from torch>=2.0.0->torchmetrics) (2.27.3)\n",
      "Requirement already satisfied: nvidia-nvtx-cu12==12.6.77 in /usr/local/lib/python3.12/dist-packages (from torch>=2.0.0->torchmetrics) (12.6.77)\n",
      "Requirement already satisfied: nvidia-nvjitlink-cu12==12.6.85 in /usr/local/lib/python3.12/dist-packages (from torch>=2.0.0->torchmetrics) (12.6.85)\n",
      "Requirement already satisfied: nvidia-cufile-cu12==1.11.1.6 in /usr/local/lib/python3.12/dist-packages (from torch>=2.0.0->torchmetrics) (1.11.1.6)\n",
      "Requirement already satisfied: triton==3.4.0 in /usr/local/lib/python3.12/dist-packages (from torch>=2.0.0->torchmetrics) (3.4.0)\n",
      "Requirement already satisfied: mpmath<1.4,>=1.1.0 in /usr/local/lib/python3.12/dist-packages (from sympy>=1.13.3->torch>=2.0.0->torchmetrics) (1.3.0)\n",
      "Requirement already satisfied: MarkupSafe>=2.0 in /usr/local/lib/python3.12/dist-packages (from jinja2->torch>=2.0.0->torchmetrics) (3.0.2)\n",
      "Downloading torchmetrics-1.8.2-py3-none-any.whl (983 kB)\n",
      "\u001b[2K   \u001b[90m━━━━━━━━━━━━━━━━━━━━━━━━━━━━━━━━━━━━━━━━\u001b[0m \u001b[32m983.2/983.2 kB\u001b[0m \u001b[31m24.6 MB/s\u001b[0m eta \u001b[36m0:00:00\u001b[0m\n",
      "\u001b[?25hDownloading lightning_utilities-0.15.2-py3-none-any.whl (29 kB)\n",
      "Installing collected packages: lightning-utilities, torchmetrics\n",
      "Successfully installed lightning-utilities-0.15.2 torchmetrics-1.8.2\n"
     ]
    }
   ],
   "source": [
    "## If running on Colab, will need to pip install skorch & torchmetrics each time;\n",
    "\n",
    "# !pip install skorch\n",
    "# !pip install torchmetrics"
   ]
  },
  {
   "cell_type": "code",
   "execution_count": 2,
   "metadata": {
    "id": "Wzp6iO33F5ae"
   },
   "outputs": [],
   "source": [
    "# Imports\n",
    "\n",
    "import torch\n",
    "import torch.nn as nn\n",
    "import torch.nn.functional as F\n",
    "from torch.utils.data import DataLoader\n",
    "from torchvision import datasets, transforms\n",
    "from skorch import NeuralNetClassifier\n",
    "from sklearn.model_selection import RandomizedSearchCV, train_test_split\n",
    "from sklearn.metrics import (\n",
    "    classification_report, confusion_matrix\n",
    "    , accuracy_score, ConfusionMatrixDisplay\n",
    "    )\n",
    "from torchmetrics import Accuracy, ConfusionMatrix\n",
    "import pandas as pd\n",
    "import matplotlib.pyplot as plt\n",
    "import numpy as np\n",
    "import warnings\n",
    "from timeit import default_timer as timer\n",
    "from tqdm import tqdm\n",
    "\n",
    "warnings.filterwarnings(\"ignore\")"
   ]
  },
  {
   "cell_type": "code",
   "execution_count": 3,
   "metadata": {
    "id": "qfbPUHfYqBJV"
   },
   "outputs": [],
   "source": [
    "from IPython.core.interactiveshell import InteractiveShell\n",
    "InteractiveShell.ast_node_interactivity = \"all\""
   ]
  },
  {
   "cell_type": "code",
   "execution_count": 4,
   "metadata": {
    "colab": {
     "base_uri": "https://localhost:8080/",
     "height": 35
    },
    "id": "VTjaR3dPF4fL",
    "outputId": "d4317f65-9c6a-4786-9467-e1666fac54a9"
   },
   "outputs": [
    {
     "data": {
      "application/vnd.google.colaboratory.intrinsic+json": {
       "type": "string"
      },
      "text/plain": [
       "'cuda'"
      ]
     },
     "execution_count": 4,
     "metadata": {},
     "output_type": "execute_result"
    }
   ],
   "source": [
    "# MacoOS device agnostic code:\n",
    "\n",
    "if torch.cuda.is_available():\n",
    "    device = \"cuda\"  # Use NVIDIA GPU (if available)\n",
    "elif torch.backends.mps.is_available():\n",
    "    device = \"mps\"  # Use Apple Silicon GPU (if available)\n",
    "else:\n",
    "    device = \"cpu\"  # Default to CPU if no GPU is available\n",
    "\n",
    "device"
   ]
  },
  {
   "cell_type": "code",
   "execution_count": 5,
   "metadata": {
    "colab": {
     "base_uri": "https://localhost:8080/"
    },
    "id": "K-lxkno8F5MS",
    "outputId": "6a600aa8-9b97-47e0-f708-bc8ec2e71cfa"
   },
   "outputs": [
    {
     "name": "stderr",
     "output_type": "stream",
     "text": [
      "100%|██████████| 170M/170M [00:04<00:00, 41.2MB/s]\n"
     ]
    },
    {
     "data": {
      "text/plain": [
       "(torch.Size([40000, 3, 32, 32]),\n",
       " torch.Size([10000, 3, 32, 32]),\n",
       " torch.Size([40000]),\n",
       " torch.Size([10000]))"
      ]
     },
     "execution_count": 5,
     "metadata": {},
     "output_type": "execute_result"
    }
   ],
   "source": [
    "# ---------------------------------------------------------\n",
    "# 1. Prepare dataset (CIFAR-10) with Augmentations\n",
    "# ---------------------------------------------------------\n",
    "\n",
    "# Train transforms (with augmentations)\n",
    "train_transform_batch = transforms.Compose([\n",
    "    transforms.RandomHorizontalFlip(),  # Flip images with 50% probability\n",
    "    transforms.RandomCrop(32, padding=4),  # Add padding and crop randomly\n",
    "    transforms.Normalize((0.4914, 0.4822, 0.4465), (0.2023, 0.1994, 0.2010)),  # CIFAR-10 stats\n",
    "])\n",
    "\n",
    "# Test transforms (only normalize)\n",
    "test_transform_batch = transforms.Compose([\n",
    "    transforms.Normalize((0.4914, 0.4822, 0.4465), (0.2023, 0.1994, 0.2010)),  # CIFAR-10 stats\n",
    "])\n",
    "\n",
    "# CIFAR-10 dataset download\n",
    "dataset = datasets.CIFAR10(\n",
    "    './data', train=True, download=True\n",
    ")\n",
    "\n",
    "# Extract raw data and labels\n",
    "X = torch.tensor(dataset.data).permute(0, 3, 1, 2).float() / 255.0  # Convert to [N, C, H, W]\n",
    "y = torch.tensor(dataset.targets)\n",
    "\n",
    "# Split into training and testing sets\n",
    "X_train, X_test, y_train, y_test = train_test_split(\n",
    "    X, y, test_size=0.2, random_state=27, stratify=y\n",
    ")\n",
    "\n",
    "X_train.shape, X_test.shape, y_train.shape, y_test .shape"
   ]
  },
  {
   "cell_type": "code",
   "execution_count": 6,
   "metadata": {
    "id": "32UJBmUmF5f-"
   },
   "outputs": [],
   "source": [
    "# ---------------------------------------------------------\n",
    "# 2b. Wrap in DataLoader for batching\n",
    "# ---------------------------------------------------------\n",
    "\n",
    "train_loader = DataLoader(\n",
    "    list(zip(X_train, y_train))\n",
    "    , batch_size=128\n",
    "    , shuffle=True\n",
    ")\n",
    "\n",
    "test_loader = DataLoader(\n",
    "    list(zip(X_test, y_test))\n",
    "    , batch_size=128\n",
    "    , shuffle=False\n",
    ")"
   ]
  },
  {
   "cell_type": "code",
   "execution_count": 7,
   "metadata": {
    "id": "WnyJLNgqRAMF"
   },
   "outputs": [],
   "source": [
    "# ---------------------------------------------------------\n",
    "# 3. Build the model class; (layers, blocks, forward, flatten, dropout, etc.)\n",
    "# ---------------------------------------------------------\n",
    "\n",
    "class Cifar10CNN_v9(nn.Module):\n",
    "    def __init__(self, channels=64, dropout=0.3):\n",
    "        super().__init__()\n",
    "        # Convolutional block 1\n",
    "        self.conv1 = nn.Conv2d(3, channels, kernel_size=3, padding=1)\n",
    "        self.bn1 = nn.BatchNorm2d(channels)\n",
    "\n",
    "        # Convolutional block 2\n",
    "        self.conv2 = nn.Conv2d(channels, channels * 2, kernel_size=3, padding=1)\n",
    "        self.bn2 = nn.BatchNorm2d(channels * 2)\n",
    "\n",
    "        # Convolutional block 3\n",
    "        self.conv3 = nn.Conv2d(channels * 2, channels * 4, kernel_size=3, padding=1)\n",
    "        self.bn3 = nn.BatchNorm2d(channels * 4)\n",
    "\n",
    "        # Convolutional block 4\n",
    "        self.conv4 = nn.Conv2d(channels * 4, channels * 8, kernel_size=3, padding=1)\n",
    "        self.bn4 = nn.BatchNorm2d(channels * 8)\n",
    "\n",
    "        # Global average pooling to reduce overfitting\n",
    "        self.global_avgpool = nn.AdaptiveAvgPool2d(1)\n",
    "\n",
    "        # Fully connected layers\n",
    "        self.fc1 = nn.Linear(channels * 8, 512)\n",
    "        self.fc2 = nn.Linear(512, 256)\n",
    "        self.fc_out = nn.Linear(256, 10)\n",
    "        self.dropout = nn.Dropout(dropout)\n",
    "\n",
    "    def forward(self, x):\n",
    "        # Block 1\n",
    "        x = F.relu(self.bn1(self.conv1(x)))\n",
    "        x = F.max_pool2d(x, 2)\n",
    "\n",
    "        # Block 2\n",
    "        x = F.relu(self.bn2(self.conv2(x)))\n",
    "        x = F.max_pool2d(x, 2)\n",
    "\n",
    "        # Block 3\n",
    "        x = F.relu(self.bn3(self.conv3(x)))\n",
    "        x = F.max_pool2d(x, 2)\n",
    "\n",
    "        # Block 4\n",
    "        x = F.relu(self.bn4(self.conv4(x)))\n",
    "        x = F.max_pool2d(x, 2)\n",
    "\n",
    "        # Global average pooling\n",
    "        x = self.global_avgpool(x)\n",
    "        x = torch.flatten(x, 1)\n",
    "\n",
    "        # Fully connected layers\n",
    "        x = F.relu(self.fc1(self.dropout(x)))\n",
    "        x = F.relu(self.fc2(self.dropout(x)))\n",
    "        return self.fc_out(x)"
   ]
  },
  {
   "cell_type": "code",
   "execution_count": 8,
   "metadata": {
    "colab": {
     "base_uri": "https://localhost:8080/"
    },
    "id": "2ETvJ4iPF5nI",
    "outputId": "35bfbafd-b1e7-4c9c-e32a-32d4ce05508c"
   },
   "outputs": [
    {
     "name": "stdout",
     "output_type": "stream",
     "text": [
      "  epoch    train_loss    valid_acc    valid_loss     dur\n",
      "-------  ------------  -----------  ------------  ------\n",
      "      1        \u001b[36m1.4189\u001b[0m       \u001b[32m0.5583\u001b[0m        \u001b[35m1.2401\u001b[0m  5.7731\n",
      "      2        \u001b[36m1.0753\u001b[0m       \u001b[32m0.5637\u001b[0m        \u001b[35m1.2235\u001b[0m  4.3306\n",
      "      3        \u001b[36m0.9375\u001b[0m       \u001b[32m0.6581\u001b[0m        \u001b[35m0.9563\u001b[0m  4.2424\n",
      "      4        \u001b[36m0.8355\u001b[0m       0.6348        1.0673  4.3402\n",
      "      5        \u001b[36m0.7589\u001b[0m       0.6171        1.1556  4.3146\n",
      "      6        \u001b[36m0.6890\u001b[0m       \u001b[32m0.6823\u001b[0m        \u001b[35m0.9532\u001b[0m  4.2646\n",
      "      7        \u001b[36m0.6288\u001b[0m       0.6646        1.0144  4.3834\n",
      "      8        \u001b[36m0.5704\u001b[0m       0.6686        1.0501  4.2811\n",
      "      9        \u001b[36m0.5195\u001b[0m       0.6384        1.2147  4.2817\n",
      "     10        \u001b[36m0.4718\u001b[0m       0.5931        1.5160  4.3775\n",
      "Train accuracy: 0.66745\n",
      "CPU times: user 44.6 s, sys: 847 ms, total: 45.5 s\n",
      "Wall time: 46.8 s\n"
     ]
    }
   ],
   "source": [
    "%%time\n",
    "# ---------------------------------------------------------\n",
    "# 4. Wrap (base model) with skorch\n",
    "# ---------------------------------------------------------\n",
    "\n",
    "net = NeuralNetClassifier(\n",
    "    module=Cifar10CNN_v9\n",
    "    , criterion=nn.CrossEntropyLoss\n",
    "    , max_epochs=10\n",
    "    , lr=0.0001\n",
    "    , optimizer=torch.optim.RMSprop\n",
    "    , batch_size=128\n",
    "    , iterator_train__shuffle=True\n",
    "    , device=device\n",
    ")\n",
    "\n",
    "net.fit(X_train, y_train)\n",
    "\n",
    "print(\"Train accuracy:\", net.score(X_train, y_train))"
   ]
  },
  {
   "cell_type": "code",
   "execution_count": 9,
   "metadata": {
    "id": "eIAU9fznF6ms"
   },
   "outputs": [],
   "source": [
    "# ---------------------------------------------------------\n",
    "# 5a. RandomizedSearchCV for Hyperparams Tuning\n",
    "# ---------------------------------------------------------\n",
    "\n",
    "# (param_dist_v6) # Removed torch.optim.Adam, and 64 batch_size to increase coverage in grid_search (as these are not likely ideal for this model and are just wasting space/time in a grid_search;)\n",
    "\n",
    "param_dist = {\n",
    "    \"module__channels\": [64, 128]  # Increasing upper range\n",
    "    , \"module__dropout\": [0.2, 0.3]  # Slightly reduced dropout values\n",
    "    , \"lr\": [1e-4, 3e-4, 1e-3]  # Removed extreme values for better control\n",
    "    , \"optimizer\": [torch.optim.SGD, torch.optim.RMSprop]   # torch.optim.Adam,\n",
    "    , \"batch_size\": [128]  # Added smaller batch size for exploration # 64,\n",
    "    , \"optimizer__momentum\": [0.0, 0.9]\n",
    "    , \"optimizer__weight_decay\": [0.0, 1e-4, 5e-4]\n",
    "}"
   ]
  },
  {
   "cell_type": "code",
   "execution_count": 10,
   "metadata": {
    "colab": {
     "base_uri": "https://localhost:8080/"
    },
    "id": "U5j44_mMF6pq",
    "outputId": "0dc5ed54-73ba-40f8-8e1c-cc7e46a2da7b"
   },
   "outputs": [
    {
     "name": "stdout",
     "output_type": "stream",
     "text": [
      "Fitting 2 folds for each of 20 candidates, totalling 40 fits\n",
      "  epoch    train_loss    valid_acc    valid_loss     dur\n",
      "-------  ------------  -----------  ------------  ------\n",
      "      1        \u001b[36m1.4547\u001b[0m       \u001b[32m0.5511\u001b[0m        \u001b[35m1.2331\u001b[0m  9.7779\n",
      "      2        \u001b[36m1.0279\u001b[0m       \u001b[32m0.6096\u001b[0m        \u001b[35m1.1002\u001b[0m  9.8031\n",
      "      3        \u001b[36m0.8490\u001b[0m       \u001b[32m0.7055\u001b[0m        \u001b[35m0.8462\u001b[0m  9.8180\n",
      "      4        \u001b[36m0.7220\u001b[0m       0.6843        0.9094  9.8204\n",
      "      5        \u001b[36m0.6425\u001b[0m       0.6743        0.9541  9.8296\n",
      "      6        \u001b[36m0.5704\u001b[0m       0.6614        1.1459  9.7514\n",
      "      7        \u001b[36m0.4933\u001b[0m       \u001b[32m0.7498\u001b[0m        \u001b[35m0.7820\u001b[0m  9.8247\n",
      "      8        \u001b[36m0.4390\u001b[0m       0.6160        1.4061  9.8263\n",
      "      9        \u001b[36m0.3856\u001b[0m       0.7331        0.8469  9.8071\n",
      "     10        \u001b[36m0.3416\u001b[0m       \u001b[32m0.7671\u001b[0m        \u001b[35m0.7581\u001b[0m  9.7639\n",
      "Best CV accuracy: 0.686325\n",
      "Best params: {'optimizer__weight_decay': 0.0001, 'optimizer__momentum': 0.0, 'optimizer': <class 'torch.optim.rmsprop.RMSprop'>, 'module__dropout': 0.3, 'module__channels': 128, 'lr': 0.0003, 'batch_size': 128}\n",
      "CPU times: user 1min 49s, sys: 29.7 s, total: 2min 18s\n",
      "Wall time: 26min 44s\n"
     ]
    }
   ],
   "source": [
    "%%time\n",
    "# ---------------------------------------------------------\n",
    "# 5b. Randomized Search Actual (sample combos, actual run;)\n",
    "# ---------------------------------------------------------\n",
    "\n",
    "rs = RandomizedSearchCV(\n",
    "    estimator=net\n",
    "    , param_distributions=param_dist\n",
    "    , n_iter=20\n",
    "    , cv=2\n",
    "    , scoring=\"accuracy\"\n",
    "    , verbose=1\n",
    "    , random_state=27\n",
    "    , n_jobs=-1\n",
    ")\n",
    "\n",
    "rs.fit(X_train, y_train)\n",
    "\n",
    "print(\"Best CV accuracy:\", rs.best_score_)\n",
    "print(\"Best params:\", rs.best_params_)"
   ]
  },
  {
   "cell_type": "code",
   "execution_count": 11,
   "metadata": {
    "colab": {
     "base_uri": "https://localhost:8080/"
    },
    "id": "xM50HtiXl4wT",
    "outputId": "4090060f-26e1-4b40-b8e4-1b8183e92a07"
   },
   "outputs": [
    {
     "data": {
      "text/plain": [
       "{'optimizer__weight_decay': 0.0001,\n",
       " 'optimizer__momentum': 0.0,\n",
       " 'optimizer': torch.optim.rmsprop.RMSprop,\n",
       " 'module__dropout': 0.3,\n",
       " 'module__channels': 128,\n",
       " 'lr': 0.0003,\n",
       " 'batch_size': 128}"
      ]
     },
     "execution_count": 11,
     "metadata": {},
     "output_type": "execute_result"
    }
   ],
   "source": [
    "rs.best_params_"
   ]
  },
  {
   "cell_type": "code",
   "execution_count": 13,
   "metadata": {
    "colab": {
     "base_uri": "https://localhost:8080/",
     "height": 313
    },
    "id": "UH7O1aIzF6sr",
    "outputId": "53ea283e-fdd4-40da-8471-c09c9e73948e"
   },
   "outputs": [
    {
     "data": {
      "application/vnd.google.colaboratory.intrinsic+json": {
       "summary": "{\n  \"name\": \"results_v9\",\n  \"rows\": 20,\n  \"fields\": [\n    {\n      \"column\": \"mean_fit_time\",\n      \"properties\": {\n        \"dtype\": \"number\",\n        \"std\": 29.141441061794502,\n        \"min\": 40.4008686542511,\n        \"max\": 102.45097494125366,\n        \"num_unique_values\": 20,\n        \"samples\": [\n          102.45097494125366,\n          41.10878670215607,\n          96.13287544250488\n        ],\n        \"semantic_type\": \"\",\n        \"description\": \"\"\n      }\n    },\n    {\n      \"column\": \"std_fit_time\",\n      \"properties\": {\n        \"dtype\": \"number\",\n        \"std\": 0.3293256823931769,\n        \"min\": 0.008915305137634277,\n        \"max\": 0.933000922203064,\n        \"num_unique_values\": 20,\n        \"samples\": [\n          0.38976550102233887,\n          0.008915305137634277,\n          0.7806432247161865\n        ],\n        \"semantic_type\": \"\",\n        \"description\": \"\"\n      }\n    },\n    {\n      \"column\": \"mean_score_time\",\n      \"properties\": {\n        \"dtype\": \"number\",\n        \"std\": 0.6987131385249947,\n        \"min\": 1.5097181797027588,\n        \"max\": 3.249292731285095,\n        \"num_unique_values\": 20,\n        \"samples\": [\n          3.013165593147278,\n          1.5874919891357422,\n          2.9459978342056274\n        ],\n        \"semantic_type\": \"\",\n        \"description\": \"\"\n      }\n    },\n    {\n      \"column\": \"std_score_time\",\n      \"properties\": {\n        \"dtype\": \"number\",\n        \"std\": 0.3405907452436333,\n        \"min\": 0.01932668685913086,\n        \"max\": 0.8816827535629272,\n        \"num_unique_values\": 20,\n        \"samples\": [\n          0.7741175889968872,\n          0.11761212348937988,\n          0.7869375944137573\n        ],\n        \"semantic_type\": \"\",\n        \"description\": \"\"\n      }\n    },\n    {\n      \"column\": \"param_optimizer__weight_decay\",\n      \"properties\": {\n        \"dtype\": \"number\",\n        \"std\": 0.0002254235779009911,\n        \"min\": 0.0,\n        \"max\": 0.0005,\n        \"num_unique_values\": 3,\n        \"samples\": [\n          0.0001,\n          0.0005,\n          0.0\n        ],\n        \"semantic_type\": \"\",\n        \"description\": \"\"\n      }\n    },\n    {\n      \"column\": \"param_optimizer__momentum\",\n      \"properties\": {\n        \"dtype\": \"number\",\n        \"std\": 0.4231461113834646,\n        \"min\": 0.0,\n        \"max\": 0.9,\n        \"num_unique_values\": 2,\n        \"samples\": [\n          0.9,\n          0.0\n        ],\n        \"semantic_type\": \"\",\n        \"description\": \"\"\n      }\n    },\n    {\n      \"column\": \"param_optimizer\",\n      \"properties\": {\n        \"dtype\": \"category\",\n        \"num_unique_values\": 2,\n        \"samples\": [\n          \"<class 'torch.optim.sgd.SGD'>\",\n          \"<class 'torch.optim.rmsprop.RMSprop'>\"\n        ],\n        \"semantic_type\": \"\",\n        \"description\": \"\"\n      }\n    },\n    {\n      \"column\": \"param_module__dropout\",\n      \"properties\": {\n        \"dtype\": \"number\",\n        \"std\": 0.050262468995003445,\n        \"min\": 0.2,\n        \"max\": 0.3,\n        \"num_unique_values\": 2,\n        \"samples\": [\n          0.2,\n          0.3\n        ],\n        \"semantic_type\": \"\",\n        \"description\": \"\"\n      }\n    },\n    {\n      \"column\": \"param_module__channels\",\n      \"properties\": {\n        \"dtype\": \"number\",\n        \"std\": 32,\n        \"min\": 64,\n        \"max\": 128,\n        \"num_unique_values\": 2,\n        \"samples\": [\n          64,\n          128\n        ],\n        \"semantic_type\": \"\",\n        \"description\": \"\"\n      }\n    },\n    {\n      \"column\": \"param_lr\",\n      \"properties\": {\n        \"dtype\": \"number\",\n        \"std\": 0.0003886210439354432,\n        \"min\": 0.0001,\n        \"max\": 0.001,\n        \"num_unique_values\": 3,\n        \"samples\": [\n          0.0003,\n          0.001\n        ],\n        \"semantic_type\": \"\",\n        \"description\": \"\"\n      }\n    },\n    {\n      \"column\": \"param_batch_size\",\n      \"properties\": {\n        \"dtype\": \"number\",\n        \"std\": 0,\n        \"min\": 128,\n        \"max\": 128,\n        \"num_unique_values\": 1,\n        \"samples\": [\n          128\n        ],\n        \"semantic_type\": \"\",\n        \"description\": \"\"\n      }\n    },\n    {\n      \"column\": \"params\",\n      \"properties\": {\n        \"dtype\": \"object\",\n        \"semantic_type\": \"\",\n        \"description\": \"\"\n      }\n    },\n    {\n      \"column\": \"split0_test_score\",\n      \"properties\": {\n        \"dtype\": \"number\",\n        \"std\": 0.18965512556035966,\n        \"min\": 0.14905,\n        \"max\": 0.74215,\n        \"num_unique_values\": 20,\n        \"samples\": [\n          0.74215\n        ],\n        \"semantic_type\": \"\",\n        \"description\": \"\"\n      }\n    },\n    {\n      \"column\": \"split1_test_score\",\n      \"properties\": {\n        \"dtype\": \"number\",\n        \"std\": 0.1933757894550619,\n        \"min\": 0.16,\n        \"max\": 0.69225,\n        \"num_unique_values\": 20,\n        \"samples\": [\n          0.6305\n        ],\n        \"semantic_type\": \"\",\n        \"description\": \"\"\n      }\n    },\n    {\n      \"column\": \"mean_test_score\",\n      \"properties\": {\n        \"dtype\": \"number\",\n        \"std\": 0.18844719794369177,\n        \"min\": 0.154525,\n        \"max\": 0.686325,\n        \"num_unique_values\": 20,\n        \"samples\": [\n          0.686325\n        ],\n        \"semantic_type\": \"\",\n        \"description\": \"\"\n      }\n    },\n    {\n      \"column\": \"std_test_score\",\n      \"properties\": {\n        \"dtype\": \"number\",\n        \"std\": 0.02443900769342884,\n        \"min\": 0.0017499999999999738,\n        \"max\": 0.08124999999999999,\n        \"num_unique_values\": 20,\n        \"samples\": [\n          0.055825000000000014\n        ],\n        \"semantic_type\": \"\",\n        \"description\": \"\"\n      }\n    },\n    {\n      \"column\": \"rank_test_score\",\n      \"properties\": {\n        \"dtype\": \"int32\",\n        \"num_unique_values\": 20,\n        \"samples\": [\n          1\n        ],\n        \"semantic_type\": \"\",\n        \"description\": \"\"\n      }\n    }\n  ]\n}",
       "type": "dataframe",
       "variable_name": "results_v9"
      },
      "text/html": [
       "\n",
       "  <div id=\"df-f3e7581c-1347-49a2-8304-76f6b6c1f77b\" class=\"colab-df-container\">\n",
       "    <div>\n",
       "<style scoped>\n",
       "    .dataframe tbody tr th:only-of-type {\n",
       "        vertical-align: middle;\n",
       "    }\n",
       "\n",
       "    .dataframe tbody tr th {\n",
       "        vertical-align: top;\n",
       "    }\n",
       "\n",
       "    .dataframe thead th {\n",
       "        text-align: right;\n",
       "    }\n",
       "</style>\n",
       "<table border=\"1\" class=\"dataframe\">\n",
       "  <thead>\n",
       "    <tr style=\"text-align: right;\">\n",
       "      <th></th>\n",
       "      <th>mean_fit_time</th>\n",
       "      <th>std_fit_time</th>\n",
       "      <th>mean_score_time</th>\n",
       "      <th>std_score_time</th>\n",
       "      <th>param_optimizer__weight_decay</th>\n",
       "      <th>param_optimizer__momentum</th>\n",
       "      <th>param_optimizer</th>\n",
       "      <th>param_module__dropout</th>\n",
       "      <th>param_module__channels</th>\n",
       "      <th>param_lr</th>\n",
       "      <th>param_batch_size</th>\n",
       "      <th>params</th>\n",
       "      <th>split0_test_score</th>\n",
       "      <th>split1_test_score</th>\n",
       "      <th>mean_test_score</th>\n",
       "      <th>std_test_score</th>\n",
       "      <th>rank_test_score</th>\n",
       "    </tr>\n",
       "  </thead>\n",
       "  <tbody>\n",
       "    <tr>\n",
       "      <th>0</th>\n",
       "      <td>102.450975</td>\n",
       "      <td>0.389766</td>\n",
       "      <td>3.013166</td>\n",
       "      <td>0.774118</td>\n",
       "      <td>0.0001</td>\n",
       "      <td>0.0</td>\n",
       "      <td>&lt;class 'torch.optim.rmsprop.RMSprop'&gt;</td>\n",
       "      <td>0.3</td>\n",
       "      <td>128</td>\n",
       "      <td>0.0003</td>\n",
       "      <td>128</td>\n",
       "      <td>{'optimizer__weight_decay': 0.0001, 'optimizer...</td>\n",
       "      <td>0.74215</td>\n",
       "      <td>0.63050</td>\n",
       "      <td>0.686325</td>\n",
       "      <td>0.055825</td>\n",
       "      <td>1</td>\n",
       "    </tr>\n",
       "    <tr>\n",
       "      <th>1</th>\n",
       "      <td>40.800192</td>\n",
       "      <td>0.195213</td>\n",
       "      <td>1.656367</td>\n",
       "      <td>0.019327</td>\n",
       "      <td>0.0005</td>\n",
       "      <td>0.9</td>\n",
       "      <td>&lt;class 'torch.optim.rmsprop.RMSprop'&gt;</td>\n",
       "      <td>0.3</td>\n",
       "      <td>64</td>\n",
       "      <td>0.0010</td>\n",
       "      <td>128</td>\n",
       "      <td>{'optimizer__weight_decay': 0.0005, 'optimizer...</td>\n",
       "      <td>0.60095</td>\n",
       "      <td>0.43845</td>\n",
       "      <td>0.519700</td>\n",
       "      <td>0.081250</td>\n",
       "      <td>10</td>\n",
       "    </tr>\n",
       "    <tr>\n",
       "      <th>2</th>\n",
       "      <td>96.508720</td>\n",
       "      <td>0.603892</td>\n",
       "      <td>3.249293</td>\n",
       "      <td>0.518854</td>\n",
       "      <td>0.0005</td>\n",
       "      <td>0.0</td>\n",
       "      <td>&lt;class 'torch.optim.sgd.SGD'&gt;</td>\n",
       "      <td>0.3</td>\n",
       "      <td>128</td>\n",
       "      <td>0.0001</td>\n",
       "      <td>128</td>\n",
       "      <td>{'optimizer__weight_decay': 0.0005, 'optimizer...</td>\n",
       "      <td>0.19505</td>\n",
       "      <td>0.17460</td>\n",
       "      <td>0.184825</td>\n",
       "      <td>0.010225</td>\n",
       "      <td>19</td>\n",
       "    </tr>\n",
       "    <tr>\n",
       "      <th>3</th>\n",
       "      <td>41.979588</td>\n",
       "      <td>0.144578</td>\n",
       "      <td>1.565844</td>\n",
       "      <td>0.123472</td>\n",
       "      <td>0.0001</td>\n",
       "      <td>0.0</td>\n",
       "      <td>&lt;class 'torch.optim.sgd.SGD'&gt;</td>\n",
       "      <td>0.3</td>\n",
       "      <td>64</td>\n",
       "      <td>0.0010</td>\n",
       "      <td>128</td>\n",
       "      <td>{'optimizer__weight_decay': 0.0001, 'optimizer...</td>\n",
       "      <td>0.30045</td>\n",
       "      <td>0.29495</td>\n",
       "      <td>0.297700</td>\n",
       "      <td>0.002750</td>\n",
       "      <td>14</td>\n",
       "    </tr>\n",
       "    <tr>\n",
       "      <th>4</th>\n",
       "      <td>96.528429</td>\n",
       "      <td>0.748957</td>\n",
       "      <td>2.978017</td>\n",
       "      <td>0.758660</td>\n",
       "      <td>0.0005</td>\n",
       "      <td>0.0</td>\n",
       "      <td>&lt;class 'torch.optim.sgd.SGD'&gt;</td>\n",
       "      <td>0.2</td>\n",
       "      <td>128</td>\n",
       "      <td>0.0010</td>\n",
       "      <td>128</td>\n",
       "      <td>{'optimizer__weight_decay': 0.0005, 'optimizer...</td>\n",
       "      <td>0.35850</td>\n",
       "      <td>0.34905</td>\n",
       "      <td>0.353775</td>\n",
       "      <td>0.004725</td>\n",
       "      <td>12</td>\n",
       "    </tr>\n",
       "  </tbody>\n",
       "</table>\n",
       "</div>\n",
       "    <div class=\"colab-df-buttons\">\n",
       "\n",
       "  <div class=\"colab-df-container\">\n",
       "    <button class=\"colab-df-convert\" onclick=\"convertToInteractive('df-f3e7581c-1347-49a2-8304-76f6b6c1f77b')\"\n",
       "            title=\"Convert this dataframe to an interactive table.\"\n",
       "            style=\"display:none;\">\n",
       "\n",
       "  <svg xmlns=\"http://www.w3.org/2000/svg\" height=\"24px\" viewBox=\"0 -960 960 960\">\n",
       "    <path d=\"M120-120v-720h720v720H120Zm60-500h600v-160H180v160Zm220 220h160v-160H400v160Zm0 220h160v-160H400v160ZM180-400h160v-160H180v160Zm440 0h160v-160H620v160ZM180-180h160v-160H180v160Zm440 0h160v-160H620v160Z\"/>\n",
       "  </svg>\n",
       "    </button>\n",
       "\n",
       "  <style>\n",
       "    .colab-df-container {\n",
       "      display:flex;\n",
       "      gap: 12px;\n",
       "    }\n",
       "\n",
       "    .colab-df-convert {\n",
       "      background-color: #E8F0FE;\n",
       "      border: none;\n",
       "      border-radius: 50%;\n",
       "      cursor: pointer;\n",
       "      display: none;\n",
       "      fill: #1967D2;\n",
       "      height: 32px;\n",
       "      padding: 0 0 0 0;\n",
       "      width: 32px;\n",
       "    }\n",
       "\n",
       "    .colab-df-convert:hover {\n",
       "      background-color: #E2EBFA;\n",
       "      box-shadow: 0px 1px 2px rgba(60, 64, 67, 0.3), 0px 1px 3px 1px rgba(60, 64, 67, 0.15);\n",
       "      fill: #174EA6;\n",
       "    }\n",
       "\n",
       "    .colab-df-buttons div {\n",
       "      margin-bottom: 4px;\n",
       "    }\n",
       "\n",
       "    [theme=dark] .colab-df-convert {\n",
       "      background-color: #3B4455;\n",
       "      fill: #D2E3FC;\n",
       "    }\n",
       "\n",
       "    [theme=dark] .colab-df-convert:hover {\n",
       "      background-color: #434B5C;\n",
       "      box-shadow: 0px 1px 3px 1px rgba(0, 0, 0, 0.15);\n",
       "      filter: drop-shadow(0px 1px 2px rgba(0, 0, 0, 0.3));\n",
       "      fill: #FFFFFF;\n",
       "    }\n",
       "  </style>\n",
       "\n",
       "    <script>\n",
       "      const buttonEl =\n",
       "        document.querySelector('#df-f3e7581c-1347-49a2-8304-76f6b6c1f77b button.colab-df-convert');\n",
       "      buttonEl.style.display =\n",
       "        google.colab.kernel.accessAllowed ? 'block' : 'none';\n",
       "\n",
       "      async function convertToInteractive(key) {\n",
       "        const element = document.querySelector('#df-f3e7581c-1347-49a2-8304-76f6b6c1f77b');\n",
       "        const dataTable =\n",
       "          await google.colab.kernel.invokeFunction('convertToInteractive',\n",
       "                                                    [key], {});\n",
       "        if (!dataTable) return;\n",
       "\n",
       "        const docLinkHtml = 'Like what you see? Visit the ' +\n",
       "          '<a target=\"_blank\" href=https://colab.research.google.com/notebooks/data_table.ipynb>data table notebook</a>'\n",
       "          + ' to learn more about interactive tables.';\n",
       "        element.innerHTML = '';\n",
       "        dataTable['output_type'] = 'display_data';\n",
       "        await google.colab.output.renderOutput(dataTable, element);\n",
       "        const docLink = document.createElement('div');\n",
       "        docLink.innerHTML = docLinkHtml;\n",
       "        element.appendChild(docLink);\n",
       "      }\n",
       "    </script>\n",
       "  </div>\n",
       "\n",
       "\n",
       "    <div id=\"df-f25a97ab-fdfc-4dd4-9805-c97d5e7aa2a4\">\n",
       "      <button class=\"colab-df-quickchart\" onclick=\"quickchart('df-f25a97ab-fdfc-4dd4-9805-c97d5e7aa2a4')\"\n",
       "                title=\"Suggest charts\"\n",
       "                style=\"display:none;\">\n",
       "\n",
       "<svg xmlns=\"http://www.w3.org/2000/svg\" height=\"24px\"viewBox=\"0 0 24 24\"\n",
       "     width=\"24px\">\n",
       "    <g>\n",
       "        <path d=\"M19 3H5c-1.1 0-2 .9-2 2v14c0 1.1.9 2 2 2h14c1.1 0 2-.9 2-2V5c0-1.1-.9-2-2-2zM9 17H7v-7h2v7zm4 0h-2V7h2v10zm4 0h-2v-4h2v4z\"/>\n",
       "    </g>\n",
       "</svg>\n",
       "      </button>\n",
       "\n",
       "<style>\n",
       "  .colab-df-quickchart {\n",
       "      --bg-color: #E8F0FE;\n",
       "      --fill-color: #1967D2;\n",
       "      --hover-bg-color: #E2EBFA;\n",
       "      --hover-fill-color: #174EA6;\n",
       "      --disabled-fill-color: #AAA;\n",
       "      --disabled-bg-color: #DDD;\n",
       "  }\n",
       "\n",
       "  [theme=dark] .colab-df-quickchart {\n",
       "      --bg-color: #3B4455;\n",
       "      --fill-color: #D2E3FC;\n",
       "      --hover-bg-color: #434B5C;\n",
       "      --hover-fill-color: #FFFFFF;\n",
       "      --disabled-bg-color: #3B4455;\n",
       "      --disabled-fill-color: #666;\n",
       "  }\n",
       "\n",
       "  .colab-df-quickchart {\n",
       "    background-color: var(--bg-color);\n",
       "    border: none;\n",
       "    border-radius: 50%;\n",
       "    cursor: pointer;\n",
       "    display: none;\n",
       "    fill: var(--fill-color);\n",
       "    height: 32px;\n",
       "    padding: 0;\n",
       "    width: 32px;\n",
       "  }\n",
       "\n",
       "  .colab-df-quickchart:hover {\n",
       "    background-color: var(--hover-bg-color);\n",
       "    box-shadow: 0 1px 2px rgba(60, 64, 67, 0.3), 0 1px 3px 1px rgba(60, 64, 67, 0.15);\n",
       "    fill: var(--button-hover-fill-color);\n",
       "  }\n",
       "\n",
       "  .colab-df-quickchart-complete:disabled,\n",
       "  .colab-df-quickchart-complete:disabled:hover {\n",
       "    background-color: var(--disabled-bg-color);\n",
       "    fill: var(--disabled-fill-color);\n",
       "    box-shadow: none;\n",
       "  }\n",
       "\n",
       "  .colab-df-spinner {\n",
       "    border: 2px solid var(--fill-color);\n",
       "    border-color: transparent;\n",
       "    border-bottom-color: var(--fill-color);\n",
       "    animation:\n",
       "      spin 1s steps(1) infinite;\n",
       "  }\n",
       "\n",
       "  @keyframes spin {\n",
       "    0% {\n",
       "      border-color: transparent;\n",
       "      border-bottom-color: var(--fill-color);\n",
       "      border-left-color: var(--fill-color);\n",
       "    }\n",
       "    20% {\n",
       "      border-color: transparent;\n",
       "      border-left-color: var(--fill-color);\n",
       "      border-top-color: var(--fill-color);\n",
       "    }\n",
       "    30% {\n",
       "      border-color: transparent;\n",
       "      border-left-color: var(--fill-color);\n",
       "      border-top-color: var(--fill-color);\n",
       "      border-right-color: var(--fill-color);\n",
       "    }\n",
       "    40% {\n",
       "      border-color: transparent;\n",
       "      border-right-color: var(--fill-color);\n",
       "      border-top-color: var(--fill-color);\n",
       "    }\n",
       "    60% {\n",
       "      border-color: transparent;\n",
       "      border-right-color: var(--fill-color);\n",
       "    }\n",
       "    80% {\n",
       "      border-color: transparent;\n",
       "      border-right-color: var(--fill-color);\n",
       "      border-bottom-color: var(--fill-color);\n",
       "    }\n",
       "    90% {\n",
       "      border-color: transparent;\n",
       "      border-bottom-color: var(--fill-color);\n",
       "    }\n",
       "  }\n",
       "</style>\n",
       "\n",
       "      <script>\n",
       "        async function quickchart(key) {\n",
       "          const quickchartButtonEl =\n",
       "            document.querySelector('#' + key + ' button');\n",
       "          quickchartButtonEl.disabled = true;  // To prevent multiple clicks.\n",
       "          quickchartButtonEl.classList.add('colab-df-spinner');\n",
       "          try {\n",
       "            const charts = await google.colab.kernel.invokeFunction(\n",
       "                'suggestCharts', [key], {});\n",
       "          } catch (error) {\n",
       "            console.error('Error during call to suggestCharts:', error);\n",
       "          }\n",
       "          quickchartButtonEl.classList.remove('colab-df-spinner');\n",
       "          quickchartButtonEl.classList.add('colab-df-quickchart-complete');\n",
       "        }\n",
       "        (() => {\n",
       "          let quickchartButtonEl =\n",
       "            document.querySelector('#df-f25a97ab-fdfc-4dd4-9805-c97d5e7aa2a4 button');\n",
       "          quickchartButtonEl.style.display =\n",
       "            google.colab.kernel.accessAllowed ? 'block' : 'none';\n",
       "        })();\n",
       "      </script>\n",
       "    </div>\n",
       "\n",
       "    </div>\n",
       "  </div>\n"
      ],
      "text/plain": [
       "   mean_fit_time  std_fit_time  mean_score_time  std_score_time  \\\n",
       "0     102.450975      0.389766         3.013166        0.774118   \n",
       "1      40.800192      0.195213         1.656367        0.019327   \n",
       "2      96.508720      0.603892         3.249293        0.518854   \n",
       "3      41.979588      0.144578         1.565844        0.123472   \n",
       "4      96.528429      0.748957         2.978017        0.758660   \n",
       "\n",
       "   param_optimizer__weight_decay  param_optimizer__momentum  \\\n",
       "0                         0.0001                        0.0   \n",
       "1                         0.0005                        0.9   \n",
       "2                         0.0005                        0.0   \n",
       "3                         0.0001                        0.0   \n",
       "4                         0.0005                        0.0   \n",
       "\n",
       "                         param_optimizer  param_module__dropout  \\\n",
       "0  <class 'torch.optim.rmsprop.RMSprop'>                    0.3   \n",
       "1  <class 'torch.optim.rmsprop.RMSprop'>                    0.3   \n",
       "2          <class 'torch.optim.sgd.SGD'>                    0.3   \n",
       "3          <class 'torch.optim.sgd.SGD'>                    0.3   \n",
       "4          <class 'torch.optim.sgd.SGD'>                    0.2   \n",
       "\n",
       "   param_module__channels  param_lr  param_batch_size  \\\n",
       "0                     128    0.0003               128   \n",
       "1                      64    0.0010               128   \n",
       "2                     128    0.0001               128   \n",
       "3                      64    0.0010               128   \n",
       "4                     128    0.0010               128   \n",
       "\n",
       "                                              params  split0_test_score  \\\n",
       "0  {'optimizer__weight_decay': 0.0001, 'optimizer...            0.74215   \n",
       "1  {'optimizer__weight_decay': 0.0005, 'optimizer...            0.60095   \n",
       "2  {'optimizer__weight_decay': 0.0005, 'optimizer...            0.19505   \n",
       "3  {'optimizer__weight_decay': 0.0001, 'optimizer...            0.30045   \n",
       "4  {'optimizer__weight_decay': 0.0005, 'optimizer...            0.35850   \n",
       "\n",
       "   split1_test_score  mean_test_score  std_test_score  rank_test_score  \n",
       "0            0.63050         0.686325        0.055825                1  \n",
       "1            0.43845         0.519700        0.081250               10  \n",
       "2            0.17460         0.184825        0.010225               19  \n",
       "3            0.29495         0.297700        0.002750               14  \n",
       "4            0.34905         0.353775        0.004725               12  "
      ]
     },
     "execution_count": 13,
     "metadata": {},
     "output_type": "execute_result"
    }
   ],
   "source": [
    "# ---------------------------------------------------------\n",
    "# 6. Send results to a dataframe for clean review;\n",
    "# ---------------------------------------------------------\n",
    "\n",
    "results_v9 = pd.DataFrame(rs.cv_results_)\n",
    "results_v9[[\n",
    "    \"mean_test_score\"\n",
    "    , \"std_test_score\"\n",
    "    , \"params\"\n",
    "]].sort_values(\"mean_test_score\", ascending=False, inplace=True)\n",
    "results_v9.head()"
   ]
  },
  {
   "cell_type": "code",
   "execution_count": 14,
   "metadata": {
    "colab": {
     "base_uri": "https://localhost:8080/",
     "height": 313
    },
    "id": "QEiWYhRvmOH3",
    "outputId": "4f2c009b-e8f6-4e7b-a7c8-c580892125d0"
   },
   "outputs": [
    {
     "data": {
      "application/vnd.google.colaboratory.intrinsic+json": {
       "summary": "{\n  \"name\": \"results_v9\",\n  \"rows\": 5,\n  \"fields\": [\n    {\n      \"column\": \"mean_fit_time\",\n      \"properties\": {\n        \"dtype\": \"number\",\n        \"std\": 32.675142023714166,\n        \"min\": 41.10878670215607,\n        \"max\": 102.45097494125366,\n        \"num_unique_values\": 5,\n        \"samples\": [\n          41.619983434677124,\n          99.92907392978668,\n          100.60811519622803\n        ],\n        \"semantic_type\": \"\",\n        \"description\": \"\"\n      }\n    },\n    {\n      \"column\": \"std_fit_time\",\n      \"properties\": {\n        \"dtype\": \"number\",\n        \"std\": 0.36494149190816527,\n        \"min\": 0.008915305137634277,\n        \"max\": 0.822738528251648,\n        \"num_unique_values\": 5,\n        \"samples\": [\n          0.059194087982177734,\n          0.822738528251648,\n          0.6915066242218018\n        ],\n        \"semantic_type\": \"\",\n        \"description\": \"\"\n      }\n    },\n    {\n      \"column\": \"mean_score_time\",\n      \"properties\": {\n        \"dtype\": \"number\",\n        \"std\": 0.7570924213623927,\n        \"min\": 1.5874919891357422,\n        \"max\": 3.015260100364685,\n        \"num_unique_values\": 5,\n        \"samples\": [\n          1.6542754173278809,\n          2.978189468383789,\n          3.015260100364685\n        ],\n        \"semantic_type\": \"\",\n        \"description\": \"\"\n      }\n    },\n    {\n      \"column\": \"std_score_time\",\n      \"properties\": {\n        \"dtype\": \"number\",\n        \"std\": 0.38336013043960404,\n        \"min\": 0.02098989486694336,\n        \"max\": 0.7741175889968872,\n        \"num_unique_values\": 5,\n        \"samples\": [\n          0.02098989486694336,\n          0.7733345031738281,\n          0.7512427568435669\n        ],\n        \"semantic_type\": \"\",\n        \"description\": \"\"\n      }\n    },\n    {\n      \"column\": \"param_optimizer__weight_decay\",\n      \"properties\": {\n        \"dtype\": \"number\",\n        \"std\": 0.00019493588689617928,\n        \"min\": 0.0,\n        \"max\": 0.0005,\n        \"num_unique_values\": 3,\n        \"samples\": [\n          0.0001,\n          0.0,\n          0.0005\n        ],\n        \"semantic_type\": \"\",\n        \"description\": \"\"\n      }\n    },\n    {\n      \"column\": \"param_optimizer__momentum\",\n      \"properties\": {\n        \"dtype\": \"number\",\n        \"std\": 0.4929503017546495,\n        \"min\": 0.0,\n        \"max\": 0.9,\n        \"num_unique_values\": 2,\n        \"samples\": [\n          0.9,\n          0.0\n        ],\n        \"semantic_type\": \"\",\n        \"description\": \"\"\n      }\n    },\n    {\n      \"column\": \"param_optimizer\",\n      \"properties\": {\n        \"dtype\": \"category\",\n        \"num_unique_values\": 1,\n        \"samples\": [\n          \"<class 'torch.optim.rmsprop.RMSprop'>\"\n        ],\n        \"semantic_type\": \"\",\n        \"description\": \"\"\n      }\n    },\n    {\n      \"column\": \"param_module__dropout\",\n      \"properties\": {\n        \"dtype\": \"number\",\n        \"std\": 0.0547722557505166,\n        \"min\": 0.2,\n        \"max\": 0.3,\n        \"num_unique_values\": 2,\n        \"samples\": [\n          0.2\n        ],\n        \"semantic_type\": \"\",\n        \"description\": \"\"\n      }\n    },\n    {\n      \"column\": \"param_module__channels\",\n      \"properties\": {\n        \"dtype\": \"number\",\n        \"std\": 35,\n        \"min\": 64,\n        \"max\": 128,\n        \"num_unique_values\": 2,\n        \"samples\": [\n          64\n        ],\n        \"semantic_type\": \"\",\n        \"description\": \"\"\n      }\n    },\n    {\n      \"column\": \"param_lr\",\n      \"properties\": {\n        \"dtype\": \"number\",\n        \"std\": 0.00037148351242013425,\n        \"min\": 0.0001,\n        \"max\": 0.001,\n        \"num_unique_values\": 3,\n        \"samples\": [\n          0.0003\n        ],\n        \"semantic_type\": \"\",\n        \"description\": \"\"\n      }\n    },\n    {\n      \"column\": \"param_batch_size\",\n      \"properties\": {\n        \"dtype\": \"number\",\n        \"std\": 0,\n        \"min\": 128,\n        \"max\": 128,\n        \"num_unique_values\": 1,\n        \"samples\": [\n          128\n        ],\n        \"semantic_type\": \"\",\n        \"description\": \"\"\n      }\n    },\n    {\n      \"column\": \"params\",\n      \"properties\": {\n        \"dtype\": \"object\",\n        \"semantic_type\": \"\",\n        \"description\": \"\"\n      }\n    },\n    {\n      \"column\": \"split0_test_score\",\n      \"properties\": {\n        \"dtype\": \"number\",\n        \"std\": 0.059701576612347526,\n        \"min\": 0.5942,\n        \"max\": 0.74215,\n        \"num_unique_values\": 5,\n        \"samples\": [\n          0.60005\n        ],\n        \"semantic_type\": \"\",\n        \"description\": \"\"\n      }\n    },\n    {\n      \"column\": \"split1_test_score\",\n      \"properties\": {\n        \"dtype\": \"number\",\n        \"std\": 0.03588125206845493,\n        \"min\": 0.60095,\n        \"max\": 0.69225,\n        \"num_unique_values\": 5,\n        \"samples\": [\n          0.69225\n        ],\n        \"semantic_type\": \"\",\n        \"description\": \"\"\n      }\n    },\n    {\n      \"column\": \"mean_test_score\",\n      \"properties\": {\n        \"dtype\": \"number\",\n        \"std\": 0.022632363442645544,\n        \"min\": 0.6305000000000001,\n        \"max\": 0.686325,\n        \"num_unique_values\": 5,\n        \"samples\": [\n          0.64615\n        ],\n        \"semantic_type\": \"\",\n        \"description\": \"\"\n      }\n    },\n    {\n      \"column\": \"std_test_score\",\n      \"properties\": {\n        \"dtype\": \"number\",\n        \"std\": 0.016407806830896092,\n        \"min\": 0.01279999999999998,\n        \"max\": 0.055825000000000014,\n        \"num_unique_values\": 5,\n        \"samples\": [\n          0.04610000000000003\n        ],\n        \"semantic_type\": \"\",\n        \"description\": \"\"\n      }\n    },\n    {\n      \"column\": \"rank_test_score\",\n      \"properties\": {\n        \"dtype\": \"int32\",\n        \"num_unique_values\": 5,\n        \"samples\": [\n          2\n        ],\n        \"semantic_type\": \"\",\n        \"description\": \"\"\n      }\n    }\n  ]\n}",
       "type": "dataframe"
      },
      "text/html": [
       "\n",
       "  <div id=\"df-a56cd296-4207-4184-bfab-9b600b96096b\" class=\"colab-df-container\">\n",
       "    <div>\n",
       "<style scoped>\n",
       "    .dataframe tbody tr th:only-of-type {\n",
       "        vertical-align: middle;\n",
       "    }\n",
       "\n",
       "    .dataframe tbody tr th {\n",
       "        vertical-align: top;\n",
       "    }\n",
       "\n",
       "    .dataframe thead th {\n",
       "        text-align: right;\n",
       "    }\n",
       "</style>\n",
       "<table border=\"1\" class=\"dataframe\">\n",
       "  <thead>\n",
       "    <tr style=\"text-align: right;\">\n",
       "      <th></th>\n",
       "      <th>mean_fit_time</th>\n",
       "      <th>std_fit_time</th>\n",
       "      <th>mean_score_time</th>\n",
       "      <th>std_score_time</th>\n",
       "      <th>param_optimizer__weight_decay</th>\n",
       "      <th>param_optimizer__momentum</th>\n",
       "      <th>param_optimizer</th>\n",
       "      <th>param_module__dropout</th>\n",
       "      <th>param_module__channels</th>\n",
       "      <th>param_lr</th>\n",
       "      <th>param_batch_size</th>\n",
       "      <th>params</th>\n",
       "      <th>split0_test_score</th>\n",
       "      <th>split1_test_score</th>\n",
       "      <th>mean_test_score</th>\n",
       "      <th>std_test_score</th>\n",
       "      <th>rank_test_score</th>\n",
       "    </tr>\n",
       "  </thead>\n",
       "  <tbody>\n",
       "    <tr>\n",
       "      <th>0</th>\n",
       "      <td>102.450975</td>\n",
       "      <td>0.389766</td>\n",
       "      <td>3.013166</td>\n",
       "      <td>0.774118</td>\n",
       "      <td>0.0001</td>\n",
       "      <td>0.0</td>\n",
       "      <td>&lt;class 'torch.optim.rmsprop.RMSprop'&gt;</td>\n",
       "      <td>0.3</td>\n",
       "      <td>128</td>\n",
       "      <td>0.0003</td>\n",
       "      <td>128</td>\n",
       "      <td>{'optimizer__weight_decay': 0.0001, 'optimizer...</td>\n",
       "      <td>0.74215</td>\n",
       "      <td>0.63050</td>\n",
       "      <td>0.686325</td>\n",
       "      <td>0.055825</td>\n",
       "      <td>1</td>\n",
       "    </tr>\n",
       "    <tr>\n",
       "      <th>9</th>\n",
       "      <td>41.619983</td>\n",
       "      <td>0.059194</td>\n",
       "      <td>1.654275</td>\n",
       "      <td>0.020990</td>\n",
       "      <td>0.0000</td>\n",
       "      <td>0.9</td>\n",
       "      <td>&lt;class 'torch.optim.rmsprop.RMSprop'&gt;</td>\n",
       "      <td>0.2</td>\n",
       "      <td>64</td>\n",
       "      <td>0.0001</td>\n",
       "      <td>128</td>\n",
       "      <td>{'optimizer__weight_decay': 0.0, 'optimizer__m...</td>\n",
       "      <td>0.60005</td>\n",
       "      <td>0.69225</td>\n",
       "      <td>0.646150</td>\n",
       "      <td>0.046100</td>\n",
       "      <td>2</td>\n",
       "    </tr>\n",
       "    <tr>\n",
       "      <th>10</th>\n",
       "      <td>100.608115</td>\n",
       "      <td>0.691507</td>\n",
       "      <td>3.015260</td>\n",
       "      <td>0.751243</td>\n",
       "      <td>0.0005</td>\n",
       "      <td>0.9</td>\n",
       "      <td>&lt;class 'torch.optim.rmsprop.RMSprop'&gt;</td>\n",
       "      <td>0.3</td>\n",
       "      <td>128</td>\n",
       "      <td>0.0001</td>\n",
       "      <td>128</td>\n",
       "      <td>{'optimizer__weight_decay': 0.0005, 'optimizer...</td>\n",
       "      <td>0.65770</td>\n",
       "      <td>0.63210</td>\n",
       "      <td>0.644900</td>\n",
       "      <td>0.012800</td>\n",
       "      <td>3</td>\n",
       "    </tr>\n",
       "    <tr>\n",
       "      <th>17</th>\n",
       "      <td>41.108787</td>\n",
       "      <td>0.008915</td>\n",
       "      <td>1.587492</td>\n",
       "      <td>0.117612</td>\n",
       "      <td>0.0001</td>\n",
       "      <td>0.9</td>\n",
       "      <td>&lt;class 'torch.optim.rmsprop.RMSprop'&gt;</td>\n",
       "      <td>0.2</td>\n",
       "      <td>64</td>\n",
       "      <td>0.0003</td>\n",
       "      <td>128</td>\n",
       "      <td>{'optimizer__weight_decay': 0.0001, 'optimizer...</td>\n",
       "      <td>0.59420</td>\n",
       "      <td>0.66950</td>\n",
       "      <td>0.631850</td>\n",
       "      <td>0.037650</td>\n",
       "      <td>4</td>\n",
       "    </tr>\n",
       "    <tr>\n",
       "      <th>14</th>\n",
       "      <td>99.929074</td>\n",
       "      <td>0.822739</td>\n",
       "      <td>2.978189</td>\n",
       "      <td>0.773335</td>\n",
       "      <td>0.0001</td>\n",
       "      <td>0.0</td>\n",
       "      <td>&lt;class 'torch.optim.rmsprop.RMSprop'&gt;</td>\n",
       "      <td>0.3</td>\n",
       "      <td>128</td>\n",
       "      <td>0.0010</td>\n",
       "      <td>128</td>\n",
       "      <td>{'optimizer__weight_decay': 0.0001, 'optimizer...</td>\n",
       "      <td>0.66005</td>\n",
       "      <td>0.60095</td>\n",
       "      <td>0.630500</td>\n",
       "      <td>0.029550</td>\n",
       "      <td>5</td>\n",
       "    </tr>\n",
       "  </tbody>\n",
       "</table>\n",
       "</div>\n",
       "    <div class=\"colab-df-buttons\">\n",
       "\n",
       "  <div class=\"colab-df-container\">\n",
       "    <button class=\"colab-df-convert\" onclick=\"convertToInteractive('df-a56cd296-4207-4184-bfab-9b600b96096b')\"\n",
       "            title=\"Convert this dataframe to an interactive table.\"\n",
       "            style=\"display:none;\">\n",
       "\n",
       "  <svg xmlns=\"http://www.w3.org/2000/svg\" height=\"24px\" viewBox=\"0 -960 960 960\">\n",
       "    <path d=\"M120-120v-720h720v720H120Zm60-500h600v-160H180v160Zm220 220h160v-160H400v160Zm0 220h160v-160H400v160ZM180-400h160v-160H180v160Zm440 0h160v-160H620v160ZM180-180h160v-160H180v160Zm440 0h160v-160H620v160Z\"/>\n",
       "  </svg>\n",
       "    </button>\n",
       "\n",
       "  <style>\n",
       "    .colab-df-container {\n",
       "      display:flex;\n",
       "      gap: 12px;\n",
       "    }\n",
       "\n",
       "    .colab-df-convert {\n",
       "      background-color: #E8F0FE;\n",
       "      border: none;\n",
       "      border-radius: 50%;\n",
       "      cursor: pointer;\n",
       "      display: none;\n",
       "      fill: #1967D2;\n",
       "      height: 32px;\n",
       "      padding: 0 0 0 0;\n",
       "      width: 32px;\n",
       "    }\n",
       "\n",
       "    .colab-df-convert:hover {\n",
       "      background-color: #E2EBFA;\n",
       "      box-shadow: 0px 1px 2px rgba(60, 64, 67, 0.3), 0px 1px 3px 1px rgba(60, 64, 67, 0.15);\n",
       "      fill: #174EA6;\n",
       "    }\n",
       "\n",
       "    .colab-df-buttons div {\n",
       "      margin-bottom: 4px;\n",
       "    }\n",
       "\n",
       "    [theme=dark] .colab-df-convert {\n",
       "      background-color: #3B4455;\n",
       "      fill: #D2E3FC;\n",
       "    }\n",
       "\n",
       "    [theme=dark] .colab-df-convert:hover {\n",
       "      background-color: #434B5C;\n",
       "      box-shadow: 0px 1px 3px 1px rgba(0, 0, 0, 0.15);\n",
       "      filter: drop-shadow(0px 1px 2px rgba(0, 0, 0, 0.3));\n",
       "      fill: #FFFFFF;\n",
       "    }\n",
       "  </style>\n",
       "\n",
       "    <script>\n",
       "      const buttonEl =\n",
       "        document.querySelector('#df-a56cd296-4207-4184-bfab-9b600b96096b button.colab-df-convert');\n",
       "      buttonEl.style.display =\n",
       "        google.colab.kernel.accessAllowed ? 'block' : 'none';\n",
       "\n",
       "      async function convertToInteractive(key) {\n",
       "        const element = document.querySelector('#df-a56cd296-4207-4184-bfab-9b600b96096b');\n",
       "        const dataTable =\n",
       "          await google.colab.kernel.invokeFunction('convertToInteractive',\n",
       "                                                    [key], {});\n",
       "        if (!dataTable) return;\n",
       "\n",
       "        const docLinkHtml = 'Like what you see? Visit the ' +\n",
       "          '<a target=\"_blank\" href=https://colab.research.google.com/notebooks/data_table.ipynb>data table notebook</a>'\n",
       "          + ' to learn more about interactive tables.';\n",
       "        element.innerHTML = '';\n",
       "        dataTable['output_type'] = 'display_data';\n",
       "        await google.colab.output.renderOutput(dataTable, element);\n",
       "        const docLink = document.createElement('div');\n",
       "        docLink.innerHTML = docLinkHtml;\n",
       "        element.appendChild(docLink);\n",
       "      }\n",
       "    </script>\n",
       "  </div>\n",
       "\n",
       "\n",
       "    <div id=\"df-e1858cc7-a831-456d-ad58-25768806c2ee\">\n",
       "      <button class=\"colab-df-quickchart\" onclick=\"quickchart('df-e1858cc7-a831-456d-ad58-25768806c2ee')\"\n",
       "                title=\"Suggest charts\"\n",
       "                style=\"display:none;\">\n",
       "\n",
       "<svg xmlns=\"http://www.w3.org/2000/svg\" height=\"24px\"viewBox=\"0 0 24 24\"\n",
       "     width=\"24px\">\n",
       "    <g>\n",
       "        <path d=\"M19 3H5c-1.1 0-2 .9-2 2v14c0 1.1.9 2 2 2h14c1.1 0 2-.9 2-2V5c0-1.1-.9-2-2-2zM9 17H7v-7h2v7zm4 0h-2V7h2v10zm4 0h-2v-4h2v4z\"/>\n",
       "    </g>\n",
       "</svg>\n",
       "      </button>\n",
       "\n",
       "<style>\n",
       "  .colab-df-quickchart {\n",
       "      --bg-color: #E8F0FE;\n",
       "      --fill-color: #1967D2;\n",
       "      --hover-bg-color: #E2EBFA;\n",
       "      --hover-fill-color: #174EA6;\n",
       "      --disabled-fill-color: #AAA;\n",
       "      --disabled-bg-color: #DDD;\n",
       "  }\n",
       "\n",
       "  [theme=dark] .colab-df-quickchart {\n",
       "      --bg-color: #3B4455;\n",
       "      --fill-color: #D2E3FC;\n",
       "      --hover-bg-color: #434B5C;\n",
       "      --hover-fill-color: #FFFFFF;\n",
       "      --disabled-bg-color: #3B4455;\n",
       "      --disabled-fill-color: #666;\n",
       "  }\n",
       "\n",
       "  .colab-df-quickchart {\n",
       "    background-color: var(--bg-color);\n",
       "    border: none;\n",
       "    border-radius: 50%;\n",
       "    cursor: pointer;\n",
       "    display: none;\n",
       "    fill: var(--fill-color);\n",
       "    height: 32px;\n",
       "    padding: 0;\n",
       "    width: 32px;\n",
       "  }\n",
       "\n",
       "  .colab-df-quickchart:hover {\n",
       "    background-color: var(--hover-bg-color);\n",
       "    box-shadow: 0 1px 2px rgba(60, 64, 67, 0.3), 0 1px 3px 1px rgba(60, 64, 67, 0.15);\n",
       "    fill: var(--button-hover-fill-color);\n",
       "  }\n",
       "\n",
       "  .colab-df-quickchart-complete:disabled,\n",
       "  .colab-df-quickchart-complete:disabled:hover {\n",
       "    background-color: var(--disabled-bg-color);\n",
       "    fill: var(--disabled-fill-color);\n",
       "    box-shadow: none;\n",
       "  }\n",
       "\n",
       "  .colab-df-spinner {\n",
       "    border: 2px solid var(--fill-color);\n",
       "    border-color: transparent;\n",
       "    border-bottom-color: var(--fill-color);\n",
       "    animation:\n",
       "      spin 1s steps(1) infinite;\n",
       "  }\n",
       "\n",
       "  @keyframes spin {\n",
       "    0% {\n",
       "      border-color: transparent;\n",
       "      border-bottom-color: var(--fill-color);\n",
       "      border-left-color: var(--fill-color);\n",
       "    }\n",
       "    20% {\n",
       "      border-color: transparent;\n",
       "      border-left-color: var(--fill-color);\n",
       "      border-top-color: var(--fill-color);\n",
       "    }\n",
       "    30% {\n",
       "      border-color: transparent;\n",
       "      border-left-color: var(--fill-color);\n",
       "      border-top-color: var(--fill-color);\n",
       "      border-right-color: var(--fill-color);\n",
       "    }\n",
       "    40% {\n",
       "      border-color: transparent;\n",
       "      border-right-color: var(--fill-color);\n",
       "      border-top-color: var(--fill-color);\n",
       "    }\n",
       "    60% {\n",
       "      border-color: transparent;\n",
       "      border-right-color: var(--fill-color);\n",
       "    }\n",
       "    80% {\n",
       "      border-color: transparent;\n",
       "      border-right-color: var(--fill-color);\n",
       "      border-bottom-color: var(--fill-color);\n",
       "    }\n",
       "    90% {\n",
       "      border-color: transparent;\n",
       "      border-bottom-color: var(--fill-color);\n",
       "    }\n",
       "  }\n",
       "</style>\n",
       "\n",
       "      <script>\n",
       "        async function quickchart(key) {\n",
       "          const quickchartButtonEl =\n",
       "            document.querySelector('#' + key + ' button');\n",
       "          quickchartButtonEl.disabled = true;  // To prevent multiple clicks.\n",
       "          quickchartButtonEl.classList.add('colab-df-spinner');\n",
       "          try {\n",
       "            const charts = await google.colab.kernel.invokeFunction(\n",
       "                'suggestCharts', [key], {});\n",
       "          } catch (error) {\n",
       "            console.error('Error during call to suggestCharts:', error);\n",
       "          }\n",
       "          quickchartButtonEl.classList.remove('colab-df-spinner');\n",
       "          quickchartButtonEl.classList.add('colab-df-quickchart-complete');\n",
       "        }\n",
       "        (() => {\n",
       "          let quickchartButtonEl =\n",
       "            document.querySelector('#df-e1858cc7-a831-456d-ad58-25768806c2ee button');\n",
       "          quickchartButtonEl.style.display =\n",
       "            google.colab.kernel.accessAllowed ? 'block' : 'none';\n",
       "        })();\n",
       "      </script>\n",
       "    </div>\n",
       "\n",
       "    </div>\n",
       "  </div>\n"
      ],
      "text/plain": [
       "    mean_fit_time  std_fit_time  mean_score_time  std_score_time  \\\n",
       "0      102.450975      0.389766         3.013166        0.774118   \n",
       "9       41.619983      0.059194         1.654275        0.020990   \n",
       "10     100.608115      0.691507         3.015260        0.751243   \n",
       "17      41.108787      0.008915         1.587492        0.117612   \n",
       "14      99.929074      0.822739         2.978189        0.773335   \n",
       "\n",
       "    param_optimizer__weight_decay  param_optimizer__momentum  \\\n",
       "0                          0.0001                        0.0   \n",
       "9                          0.0000                        0.9   \n",
       "10                         0.0005                        0.9   \n",
       "17                         0.0001                        0.9   \n",
       "14                         0.0001                        0.0   \n",
       "\n",
       "                          param_optimizer  param_module__dropout  \\\n",
       "0   <class 'torch.optim.rmsprop.RMSprop'>                    0.3   \n",
       "9   <class 'torch.optim.rmsprop.RMSprop'>                    0.2   \n",
       "10  <class 'torch.optim.rmsprop.RMSprop'>                    0.3   \n",
       "17  <class 'torch.optim.rmsprop.RMSprop'>                    0.2   \n",
       "14  <class 'torch.optim.rmsprop.RMSprop'>                    0.3   \n",
       "\n",
       "    param_module__channels  param_lr  param_batch_size  \\\n",
       "0                      128    0.0003               128   \n",
       "9                       64    0.0001               128   \n",
       "10                     128    0.0001               128   \n",
       "17                      64    0.0003               128   \n",
       "14                     128    0.0010               128   \n",
       "\n",
       "                                               params  split0_test_score  \\\n",
       "0   {'optimizer__weight_decay': 0.0001, 'optimizer...            0.74215   \n",
       "9   {'optimizer__weight_decay': 0.0, 'optimizer__m...            0.60005   \n",
       "10  {'optimizer__weight_decay': 0.0005, 'optimizer...            0.65770   \n",
       "17  {'optimizer__weight_decay': 0.0001, 'optimizer...            0.59420   \n",
       "14  {'optimizer__weight_decay': 0.0001, 'optimizer...            0.66005   \n",
       "\n",
       "    split1_test_score  mean_test_score  std_test_score  rank_test_score  \n",
       "0             0.63050         0.686325        0.055825                1  \n",
       "9             0.69225         0.646150        0.046100                2  \n",
       "10            0.63210         0.644900        0.012800                3  \n",
       "17            0.66950         0.631850        0.037650                4  \n",
       "14            0.60095         0.630500        0.029550                5  "
      ]
     },
     "execution_count": 14,
     "metadata": {},
     "output_type": "execute_result"
    }
   ],
   "source": [
    "results_v9.sort_values(by='rank_test_score', ascending=True).head(5)"
   ]
  },
  {
   "cell_type": "code",
   "execution_count": 15,
   "metadata": {
    "colab": {
     "base_uri": "https://localhost:8080/"
    },
    "id": "gGnLkYRqmbCW",
    "outputId": "143b24a9-e3d4-445d-b306-d84ac0822b4b"
   },
   "outputs": [
    {
     "name": "stdout",
     "output_type": "stream",
     "text": [
      "{'optimizer__weight_decay': 0.0001, 'optimizer__momentum': 0.0, 'optimizer': <class 'torch.optim.rmsprop.RMSprop'>, 'module__dropout': 0.3, 'module__channels': 128, 'lr': 0.0003, 'batch_size': 128}\n",
      "{'optimizer__weight_decay': 0.0, 'optimizer__momentum': 0.9, 'optimizer': <class 'torch.optim.rmsprop.RMSprop'>, 'module__dropout': 0.2, 'module__channels': 64, 'lr': 0.0001, 'batch_size': 128}\n",
      "{'optimizer__weight_decay': 0.0005, 'optimizer__momentum': 0.9, 'optimizer': <class 'torch.optim.rmsprop.RMSprop'>, 'module__dropout': 0.3, 'module__channels': 128, 'lr': 0.0001, 'batch_size': 128}\n"
     ]
    }
   ],
   "source": [
    "print(results_v9.sort_values(by='rank_test_score', ascending=True)['params'].iloc[0])\n",
    "print(results_v9.sort_values(by='rank_test_score', ascending=True)['params'].iloc[1])\n",
    "print(results_v9.sort_values(by='rank_test_score', ascending=True)['params'].iloc[2])"
   ]
  },
  {
   "cell_type": "code",
   "execution_count": 20,
   "metadata": {
    "id": "TGU3TBzAn7W9"
   },
   "outputs": [],
   "source": [
    "# from google.colab import drive\n",
    "# drive.mount('/content/drive')   # follow the auth steps\n",
    "results_v9.to_csv('/content/drive/MyDrive/results_v9.csv', index=False)"
   ]
  },
  {
   "cell_type": "code",
   "execution_count": 22,
   "metadata": {
    "colab": {
     "base_uri": "https://localhost:8080/"
    },
    "id": "Esj1JTNQop-p",
    "outputId": "c0a64efd-7ac1-45d1-d22d-c8c818950ef0"
   },
   "outputs": [
    {
     "name": "stdout",
     "output_type": "stream",
     "text": [
      "Colab VM cwd: /content\n",
      "Files in /content: ['.config', 'drive', 'data', 'sample_data']\n",
      "Target folder ready at: /content/drive/MyDrive/Colab Notebooks/PyTorch_tinkering\n",
      "Saved CSV to: /content/drive/MyDrive/Colab Notebooks/PyTorch_tinkering/results_v9.csv\n"
     ]
    }
   ],
   "source": [
    "# 2) Inspect the current Colab VM working directory\n",
    "import os\n",
    "print(\"Colab VM cwd:\", os.getcwd())\n",
    "print(\"Files in /content:\", os.listdir('/content'))\n",
    "\n",
    "# 3) Define the Drive path you want to use\n",
    "# Note: \"MyDrive\" is the mount point for \"My Drive\"\n",
    "drive_folder = '/content/drive/MyDrive/Colab Notebooks/PyTorch_tinkering'\n",
    "\n",
    "# 4) Create the target folder if it doesn't exist\n",
    "os.makedirs(drive_folder, exist_ok=True)\n",
    "print(\"Target folder ready at:\", drive_folder)\n",
    "\n",
    "# 5) Save the DataFrame to that folder\n",
    "# replace `results` with your actual DataFrame variable name\n",
    "csv_path = os.path.join(drive_folder, 'results_v9.csv')\n",
    "results_v9.to_csv(csv_path, index=False)\n",
    "print(\"Saved CSV to:\", csv_path)"
   ]
  },
  {
   "cell_type": "code",
   "execution_count": 24,
   "metadata": {
    "id": "j2mwaIW0nGNP"
   },
   "outputs": [],
   "source": [
    "results_v9.to_csv(\"results_v9.csv\", index=False)"
   ]
  },
  {
   "cell_type": "code",
   "execution_count": 25,
   "metadata": {
    "colab": {
     "base_uri": "https://localhost:8080/",
     "height": 34
    },
    "id": "p3AbJ4EQoyBT",
    "outputId": "3bac015d-9d71-4e66-feb1-796ce7958a55"
   },
   "outputs": [
    {
     "data": {
      "application/javascript": [
       "\n",
       "    async function download(id, filename, size) {\n",
       "      if (!google.colab.kernel.accessAllowed) {\n",
       "        return;\n",
       "      }\n",
       "      const div = document.createElement('div');\n",
       "      const label = document.createElement('label');\n",
       "      label.textContent = `Downloading \"${filename}\": `;\n",
       "      div.appendChild(label);\n",
       "      const progress = document.createElement('progress');\n",
       "      progress.max = size;\n",
       "      div.appendChild(progress);\n",
       "      document.body.appendChild(div);\n",
       "\n",
       "      const buffers = [];\n",
       "      let downloaded = 0;\n",
       "\n",
       "      const channel = await google.colab.kernel.comms.open(id);\n",
       "      // Send a message to notify the kernel that we're ready.\n",
       "      channel.send({})\n",
       "\n",
       "      for await (const message of channel.messages) {\n",
       "        // Send a message to notify the kernel that we're ready.\n",
       "        channel.send({})\n",
       "        if (message.buffers) {\n",
       "          for (const buffer of message.buffers) {\n",
       "            buffers.push(buffer);\n",
       "            downloaded += buffer.byteLength;\n",
       "            progress.value = downloaded;\n",
       "          }\n",
       "        }\n",
       "      }\n",
       "      const blob = new Blob(buffers, {type: 'application/binary'});\n",
       "      const a = document.createElement('a');\n",
       "      a.href = window.URL.createObjectURL(blob);\n",
       "      a.download = filename;\n",
       "      div.appendChild(a);\n",
       "      a.click();\n",
       "      div.remove();\n",
       "    }\n",
       "  "
      ],
      "text/plain": [
       "<IPython.core.display.Javascript object>"
      ]
     },
     "metadata": {},
     "output_type": "display_data"
    },
    {
     "data": {
      "application/javascript": [
       "download(\"download_e1fe927e-003a-42c7-a2fb-4b7064a7ecac\", \"results_v9.csv\", 7938)"
      ],
      "text/plain": [
       "<IPython.core.display.Javascript object>"
      ]
     },
     "metadata": {},
     "output_type": "display_data"
    }
   ],
   "source": [
    "from google.colab import files\n",
    "files.download(\"results_v9.csv\")"
   ]
  },
  {
   "cell_type": "code",
   "execution_count": 26,
   "metadata": {
    "colab": {
     "base_uri": "https://localhost:8080/",
     "height": 1000
    },
    "collapsed": true,
    "id": "ma5pvMPipJeu",
    "outputId": "57dd983c-e559-4473-d39a-7735af3c6e57"
   },
   "outputs": [
    {
     "data": {
      "text/html": [
       "<style>#sk-container-id-1 {\n",
       "  /* Definition of color scheme common for light and dark mode */\n",
       "  --sklearn-color-text: #000;\n",
       "  --sklearn-color-text-muted: #666;\n",
       "  --sklearn-color-line: gray;\n",
       "  /* Definition of color scheme for unfitted estimators */\n",
       "  --sklearn-color-unfitted-level-0: #fff5e6;\n",
       "  --sklearn-color-unfitted-level-1: #f6e4d2;\n",
       "  --sklearn-color-unfitted-level-2: #ffe0b3;\n",
       "  --sklearn-color-unfitted-level-3: chocolate;\n",
       "  /* Definition of color scheme for fitted estimators */\n",
       "  --sklearn-color-fitted-level-0: #f0f8ff;\n",
       "  --sklearn-color-fitted-level-1: #d4ebff;\n",
       "  --sklearn-color-fitted-level-2: #b3dbfd;\n",
       "  --sklearn-color-fitted-level-3: cornflowerblue;\n",
       "\n",
       "  /* Specific color for light theme */\n",
       "  --sklearn-color-text-on-default-background: var(--sg-text-color, var(--theme-code-foreground, var(--jp-content-font-color1, black)));\n",
       "  --sklearn-color-background: var(--sg-background-color, var(--theme-background, var(--jp-layout-color0, white)));\n",
       "  --sklearn-color-border-box: var(--sg-text-color, var(--theme-code-foreground, var(--jp-content-font-color1, black)));\n",
       "  --sklearn-color-icon: #696969;\n",
       "\n",
       "  @media (prefers-color-scheme: dark) {\n",
       "    /* Redefinition of color scheme for dark theme */\n",
       "    --sklearn-color-text-on-default-background: var(--sg-text-color, var(--theme-code-foreground, var(--jp-content-font-color1, white)));\n",
       "    --sklearn-color-background: var(--sg-background-color, var(--theme-background, var(--jp-layout-color0, #111)));\n",
       "    --sklearn-color-border-box: var(--sg-text-color, var(--theme-code-foreground, var(--jp-content-font-color1, white)));\n",
       "    --sklearn-color-icon: #878787;\n",
       "  }\n",
       "}\n",
       "\n",
       "#sk-container-id-1 {\n",
       "  color: var(--sklearn-color-text);\n",
       "}\n",
       "\n",
       "#sk-container-id-1 pre {\n",
       "  padding: 0;\n",
       "}\n",
       "\n",
       "#sk-container-id-1 input.sk-hidden--visually {\n",
       "  border: 0;\n",
       "  clip: rect(1px 1px 1px 1px);\n",
       "  clip: rect(1px, 1px, 1px, 1px);\n",
       "  height: 1px;\n",
       "  margin: -1px;\n",
       "  overflow: hidden;\n",
       "  padding: 0;\n",
       "  position: absolute;\n",
       "  width: 1px;\n",
       "}\n",
       "\n",
       "#sk-container-id-1 div.sk-dashed-wrapped {\n",
       "  border: 1px dashed var(--sklearn-color-line);\n",
       "  margin: 0 0.4em 0.5em 0.4em;\n",
       "  box-sizing: border-box;\n",
       "  padding-bottom: 0.4em;\n",
       "  background-color: var(--sklearn-color-background);\n",
       "}\n",
       "\n",
       "#sk-container-id-1 div.sk-container {\n",
       "  /* jupyter's `normalize.less` sets `[hidden] { display: none; }`\n",
       "     but bootstrap.min.css set `[hidden] { display: none !important; }`\n",
       "     so we also need the `!important` here to be able to override the\n",
       "     default hidden behavior on the sphinx rendered scikit-learn.org.\n",
       "     See: https://github.com/scikit-learn/scikit-learn/issues/21755 */\n",
       "  display: inline-block !important;\n",
       "  position: relative;\n",
       "}\n",
       "\n",
       "#sk-container-id-1 div.sk-text-repr-fallback {\n",
       "  display: none;\n",
       "}\n",
       "\n",
       "div.sk-parallel-item,\n",
       "div.sk-serial,\n",
       "div.sk-item {\n",
       "  /* draw centered vertical line to link estimators */\n",
       "  background-image: linear-gradient(var(--sklearn-color-text-on-default-background), var(--sklearn-color-text-on-default-background));\n",
       "  background-size: 2px 100%;\n",
       "  background-repeat: no-repeat;\n",
       "  background-position: center center;\n",
       "}\n",
       "\n",
       "/* Parallel-specific style estimator block */\n",
       "\n",
       "#sk-container-id-1 div.sk-parallel-item::after {\n",
       "  content: \"\";\n",
       "  width: 100%;\n",
       "  border-bottom: 2px solid var(--sklearn-color-text-on-default-background);\n",
       "  flex-grow: 1;\n",
       "}\n",
       "\n",
       "#sk-container-id-1 div.sk-parallel {\n",
       "  display: flex;\n",
       "  align-items: stretch;\n",
       "  justify-content: center;\n",
       "  background-color: var(--sklearn-color-background);\n",
       "  position: relative;\n",
       "}\n",
       "\n",
       "#sk-container-id-1 div.sk-parallel-item {\n",
       "  display: flex;\n",
       "  flex-direction: column;\n",
       "}\n",
       "\n",
       "#sk-container-id-1 div.sk-parallel-item:first-child::after {\n",
       "  align-self: flex-end;\n",
       "  width: 50%;\n",
       "}\n",
       "\n",
       "#sk-container-id-1 div.sk-parallel-item:last-child::after {\n",
       "  align-self: flex-start;\n",
       "  width: 50%;\n",
       "}\n",
       "\n",
       "#sk-container-id-1 div.sk-parallel-item:only-child::after {\n",
       "  width: 0;\n",
       "}\n",
       "\n",
       "/* Serial-specific style estimator block */\n",
       "\n",
       "#sk-container-id-1 div.sk-serial {\n",
       "  display: flex;\n",
       "  flex-direction: column;\n",
       "  align-items: center;\n",
       "  background-color: var(--sklearn-color-background);\n",
       "  padding-right: 1em;\n",
       "  padding-left: 1em;\n",
       "}\n",
       "\n",
       "\n",
       "/* Toggleable style: style used for estimator/Pipeline/ColumnTransformer box that is\n",
       "clickable and can be expanded/collapsed.\n",
       "- Pipeline and ColumnTransformer use this feature and define the default style\n",
       "- Estimators will overwrite some part of the style using the `sk-estimator` class\n",
       "*/\n",
       "\n",
       "/* Pipeline and ColumnTransformer style (default) */\n",
       "\n",
       "#sk-container-id-1 div.sk-toggleable {\n",
       "  /* Default theme specific background. It is overwritten whether we have a\n",
       "  specific estimator or a Pipeline/ColumnTransformer */\n",
       "  background-color: var(--sklearn-color-background);\n",
       "}\n",
       "\n",
       "/* Toggleable label */\n",
       "#sk-container-id-1 label.sk-toggleable__label {\n",
       "  cursor: pointer;\n",
       "  display: flex;\n",
       "  width: 100%;\n",
       "  margin-bottom: 0;\n",
       "  padding: 0.5em;\n",
       "  box-sizing: border-box;\n",
       "  text-align: center;\n",
       "  align-items: start;\n",
       "  justify-content: space-between;\n",
       "  gap: 0.5em;\n",
       "}\n",
       "\n",
       "#sk-container-id-1 label.sk-toggleable__label .caption {\n",
       "  font-size: 0.6rem;\n",
       "  font-weight: lighter;\n",
       "  color: var(--sklearn-color-text-muted);\n",
       "}\n",
       "\n",
       "#sk-container-id-1 label.sk-toggleable__label-arrow:before {\n",
       "  /* Arrow on the left of the label */\n",
       "  content: \"▸\";\n",
       "  float: left;\n",
       "  margin-right: 0.25em;\n",
       "  color: var(--sklearn-color-icon);\n",
       "}\n",
       "\n",
       "#sk-container-id-1 label.sk-toggleable__label-arrow:hover:before {\n",
       "  color: var(--sklearn-color-text);\n",
       "}\n",
       "\n",
       "/* Toggleable content - dropdown */\n",
       "\n",
       "#sk-container-id-1 div.sk-toggleable__content {\n",
       "  max-height: 0;\n",
       "  max-width: 0;\n",
       "  overflow: hidden;\n",
       "  text-align: left;\n",
       "  /* unfitted */\n",
       "  background-color: var(--sklearn-color-unfitted-level-0);\n",
       "}\n",
       "\n",
       "#sk-container-id-1 div.sk-toggleable__content.fitted {\n",
       "  /* fitted */\n",
       "  background-color: var(--sklearn-color-fitted-level-0);\n",
       "}\n",
       "\n",
       "#sk-container-id-1 div.sk-toggleable__content pre {\n",
       "  margin: 0.2em;\n",
       "  border-radius: 0.25em;\n",
       "  color: var(--sklearn-color-text);\n",
       "  /* unfitted */\n",
       "  background-color: var(--sklearn-color-unfitted-level-0);\n",
       "}\n",
       "\n",
       "#sk-container-id-1 div.sk-toggleable__content.fitted pre {\n",
       "  /* unfitted */\n",
       "  background-color: var(--sklearn-color-fitted-level-0);\n",
       "}\n",
       "\n",
       "#sk-container-id-1 input.sk-toggleable__control:checked~div.sk-toggleable__content {\n",
       "  /* Expand drop-down */\n",
       "  max-height: 200px;\n",
       "  max-width: 100%;\n",
       "  overflow: auto;\n",
       "}\n",
       "\n",
       "#sk-container-id-1 input.sk-toggleable__control:checked~label.sk-toggleable__label-arrow:before {\n",
       "  content: \"▾\";\n",
       "}\n",
       "\n",
       "/* Pipeline/ColumnTransformer-specific style */\n",
       "\n",
       "#sk-container-id-1 div.sk-label input.sk-toggleable__control:checked~label.sk-toggleable__label {\n",
       "  color: var(--sklearn-color-text);\n",
       "  background-color: var(--sklearn-color-unfitted-level-2);\n",
       "}\n",
       "\n",
       "#sk-container-id-1 div.sk-label.fitted input.sk-toggleable__control:checked~label.sk-toggleable__label {\n",
       "  background-color: var(--sklearn-color-fitted-level-2);\n",
       "}\n",
       "\n",
       "/* Estimator-specific style */\n",
       "\n",
       "/* Colorize estimator box */\n",
       "#sk-container-id-1 div.sk-estimator input.sk-toggleable__control:checked~label.sk-toggleable__label {\n",
       "  /* unfitted */\n",
       "  background-color: var(--sklearn-color-unfitted-level-2);\n",
       "}\n",
       "\n",
       "#sk-container-id-1 div.sk-estimator.fitted input.sk-toggleable__control:checked~label.sk-toggleable__label {\n",
       "  /* fitted */\n",
       "  background-color: var(--sklearn-color-fitted-level-2);\n",
       "}\n",
       "\n",
       "#sk-container-id-1 div.sk-label label.sk-toggleable__label,\n",
       "#sk-container-id-1 div.sk-label label {\n",
       "  /* The background is the default theme color */\n",
       "  color: var(--sklearn-color-text-on-default-background);\n",
       "}\n",
       "\n",
       "/* On hover, darken the color of the background */\n",
       "#sk-container-id-1 div.sk-label:hover label.sk-toggleable__label {\n",
       "  color: var(--sklearn-color-text);\n",
       "  background-color: var(--sklearn-color-unfitted-level-2);\n",
       "}\n",
       "\n",
       "/* Label box, darken color on hover, fitted */\n",
       "#sk-container-id-1 div.sk-label.fitted:hover label.sk-toggleable__label.fitted {\n",
       "  color: var(--sklearn-color-text);\n",
       "  background-color: var(--sklearn-color-fitted-level-2);\n",
       "}\n",
       "\n",
       "/* Estimator label */\n",
       "\n",
       "#sk-container-id-1 div.sk-label label {\n",
       "  font-family: monospace;\n",
       "  font-weight: bold;\n",
       "  display: inline-block;\n",
       "  line-height: 1.2em;\n",
       "}\n",
       "\n",
       "#sk-container-id-1 div.sk-label-container {\n",
       "  text-align: center;\n",
       "}\n",
       "\n",
       "/* Estimator-specific */\n",
       "#sk-container-id-1 div.sk-estimator {\n",
       "  font-family: monospace;\n",
       "  border: 1px dotted var(--sklearn-color-border-box);\n",
       "  border-radius: 0.25em;\n",
       "  box-sizing: border-box;\n",
       "  margin-bottom: 0.5em;\n",
       "  /* unfitted */\n",
       "  background-color: var(--sklearn-color-unfitted-level-0);\n",
       "}\n",
       "\n",
       "#sk-container-id-1 div.sk-estimator.fitted {\n",
       "  /* fitted */\n",
       "  background-color: var(--sklearn-color-fitted-level-0);\n",
       "}\n",
       "\n",
       "/* on hover */\n",
       "#sk-container-id-1 div.sk-estimator:hover {\n",
       "  /* unfitted */\n",
       "  background-color: var(--sklearn-color-unfitted-level-2);\n",
       "}\n",
       "\n",
       "#sk-container-id-1 div.sk-estimator.fitted:hover {\n",
       "  /* fitted */\n",
       "  background-color: var(--sklearn-color-fitted-level-2);\n",
       "}\n",
       "\n",
       "/* Specification for estimator info (e.g. \"i\" and \"?\") */\n",
       "\n",
       "/* Common style for \"i\" and \"?\" */\n",
       "\n",
       ".sk-estimator-doc-link,\n",
       "a:link.sk-estimator-doc-link,\n",
       "a:visited.sk-estimator-doc-link {\n",
       "  float: right;\n",
       "  font-size: smaller;\n",
       "  line-height: 1em;\n",
       "  font-family: monospace;\n",
       "  background-color: var(--sklearn-color-background);\n",
       "  border-radius: 1em;\n",
       "  height: 1em;\n",
       "  width: 1em;\n",
       "  text-decoration: none !important;\n",
       "  margin-left: 0.5em;\n",
       "  text-align: center;\n",
       "  /* unfitted */\n",
       "  border: var(--sklearn-color-unfitted-level-1) 1pt solid;\n",
       "  color: var(--sklearn-color-unfitted-level-1);\n",
       "}\n",
       "\n",
       ".sk-estimator-doc-link.fitted,\n",
       "a:link.sk-estimator-doc-link.fitted,\n",
       "a:visited.sk-estimator-doc-link.fitted {\n",
       "  /* fitted */\n",
       "  border: var(--sklearn-color-fitted-level-1) 1pt solid;\n",
       "  color: var(--sklearn-color-fitted-level-1);\n",
       "}\n",
       "\n",
       "/* On hover */\n",
       "div.sk-estimator:hover .sk-estimator-doc-link:hover,\n",
       ".sk-estimator-doc-link:hover,\n",
       "div.sk-label-container:hover .sk-estimator-doc-link:hover,\n",
       ".sk-estimator-doc-link:hover {\n",
       "  /* unfitted */\n",
       "  background-color: var(--sklearn-color-unfitted-level-3);\n",
       "  color: var(--sklearn-color-background);\n",
       "  text-decoration: none;\n",
       "}\n",
       "\n",
       "div.sk-estimator.fitted:hover .sk-estimator-doc-link.fitted:hover,\n",
       ".sk-estimator-doc-link.fitted:hover,\n",
       "div.sk-label-container:hover .sk-estimator-doc-link.fitted:hover,\n",
       ".sk-estimator-doc-link.fitted:hover {\n",
       "  /* fitted */\n",
       "  background-color: var(--sklearn-color-fitted-level-3);\n",
       "  color: var(--sklearn-color-background);\n",
       "  text-decoration: none;\n",
       "}\n",
       "\n",
       "/* Span, style for the box shown on hovering the info icon */\n",
       ".sk-estimator-doc-link span {\n",
       "  display: none;\n",
       "  z-index: 9999;\n",
       "  position: relative;\n",
       "  font-weight: normal;\n",
       "  right: .2ex;\n",
       "  padding: .5ex;\n",
       "  margin: .5ex;\n",
       "  width: min-content;\n",
       "  min-width: 20ex;\n",
       "  max-width: 50ex;\n",
       "  color: var(--sklearn-color-text);\n",
       "  box-shadow: 2pt 2pt 4pt #999;\n",
       "  /* unfitted */\n",
       "  background: var(--sklearn-color-unfitted-level-0);\n",
       "  border: .5pt solid var(--sklearn-color-unfitted-level-3);\n",
       "}\n",
       "\n",
       ".sk-estimator-doc-link.fitted span {\n",
       "  /* fitted */\n",
       "  background: var(--sklearn-color-fitted-level-0);\n",
       "  border: var(--sklearn-color-fitted-level-3);\n",
       "}\n",
       "\n",
       ".sk-estimator-doc-link:hover span {\n",
       "  display: block;\n",
       "}\n",
       "\n",
       "/* \"?\"-specific style due to the `<a>` HTML tag */\n",
       "\n",
       "#sk-container-id-1 a.estimator_doc_link {\n",
       "  float: right;\n",
       "  font-size: 1rem;\n",
       "  line-height: 1em;\n",
       "  font-family: monospace;\n",
       "  background-color: var(--sklearn-color-background);\n",
       "  border-radius: 1rem;\n",
       "  height: 1rem;\n",
       "  width: 1rem;\n",
       "  text-decoration: none;\n",
       "  /* unfitted */\n",
       "  color: var(--sklearn-color-unfitted-level-1);\n",
       "  border: var(--sklearn-color-unfitted-level-1) 1pt solid;\n",
       "}\n",
       "\n",
       "#sk-container-id-1 a.estimator_doc_link.fitted {\n",
       "  /* fitted */\n",
       "  border: var(--sklearn-color-fitted-level-1) 1pt solid;\n",
       "  color: var(--sklearn-color-fitted-level-1);\n",
       "}\n",
       "\n",
       "/* On hover */\n",
       "#sk-container-id-1 a.estimator_doc_link:hover {\n",
       "  /* unfitted */\n",
       "  background-color: var(--sklearn-color-unfitted-level-3);\n",
       "  color: var(--sklearn-color-background);\n",
       "  text-decoration: none;\n",
       "}\n",
       "\n",
       "#sk-container-id-1 a.estimator_doc_link.fitted:hover {\n",
       "  /* fitted */\n",
       "  background-color: var(--sklearn-color-fitted-level-3);\n",
       "}\n",
       "</style><div id=\"sk-container-id-1\" class=\"sk-top-container\"><div class=\"sk-text-repr-fallback\"><pre>&lt;class &#x27;skorch.classifier.NeuralNetClassifier&#x27;&gt;[initialized](\n",
       "  module_=Cifar10CNN_v9(\n",
       "    (conv1): Conv2d(3, 128, kernel_size=(3, 3), stride=(1, 1), padding=(1, 1))\n",
       "    (bn1): BatchNorm2d(128, eps=1e-05, momentum=0.1, affine=True, track_running_stats=True)\n",
       "    (conv2): Conv2d(128, 256, kernel_size=(3, 3), stride=(1, 1), padding=(1, 1))\n",
       "    (bn2): BatchNorm2d(256, eps=1e-05, momentum=0.1, affine=True, track_running_stats=True)\n",
       "    (conv3): Conv2d(256, 512, kernel_size=(3, 3), stride=(1, 1), padding=(1, 1))\n",
       "    (bn3): BatchNorm2d(512, eps=1e-05, momentum=0.1, affine=True, track_running_stats=True)\n",
       "    (conv4): Conv2d(512, 1024, kernel_size=(3, 3), stride=(1, 1), padding=(1, 1))\n",
       "    (bn4): BatchNorm2d(1024, eps=1e-05, momentum=0.1, affine=True, track_running_stats=True)\n",
       "    (global_avgpool): AdaptiveAvgPool2d(output_size=1)\n",
       "    (fc1): Linear(in_features=1024, out_features=512, bias=True)\n",
       "    (fc2): Linear(in_features=512, out_features=256, bias=True)\n",
       "    (fc_out): Linear(in_features=256, out_features=10, bias=True)\n",
       "    (dropout): Dropout(p=0.3, inplace=False)\n",
       "  ),\n",
       ")</pre><b>In a Jupyter environment, please rerun this cell to show the HTML representation or trust the notebook. <br />On GitHub, the HTML representation is unable to render, please try loading this page with nbviewer.org.</b></div><div class=\"sk-container\" hidden><div class=\"sk-item\"><div class=\"sk-estimator fitted sk-toggleable\"><input class=\"sk-toggleable__control sk-hidden--visually\" id=\"sk-estimator-id-1\" type=\"checkbox\" checked><label for=\"sk-estimator-id-1\" class=\"sk-toggleable__label fitted sk-toggleable__label-arrow\"><div><div>NeuralNetClassifier</div></div><div><span class=\"sk-estimator-doc-link fitted\">i<span>Fitted</span></span></div></label><div class=\"sk-toggleable__content fitted\"><pre>&lt;class &#x27;skorch.classifier.NeuralNetClassifier&#x27;&gt;[initialized](\n",
       "  module_=Cifar10CNN_v9(\n",
       "    (conv1): Conv2d(3, 128, kernel_size=(3, 3), stride=(1, 1), padding=(1, 1))\n",
       "    (bn1): BatchNorm2d(128, eps=1e-05, momentum=0.1, affine=True, track_running_stats=True)\n",
       "    (conv2): Conv2d(128, 256, kernel_size=(3, 3), stride=(1, 1), padding=(1, 1))\n",
       "    (bn2): BatchNorm2d(256, eps=1e-05, momentum=0.1, affine=True, track_running_stats=True)\n",
       "    (conv3): Conv2d(256, 512, kernel_size=(3, 3), stride=(1, 1), padding=(1, 1))\n",
       "    (bn3): BatchNorm2d(512, eps=1e-05, momentum=0.1, affine=True, track_running_stats=True)\n",
       "    (conv4): Conv2d(512, 1024, kernel_size=(3, 3), stride=(1, 1), padding=(1, 1))\n",
       "    (bn4): BatchNorm2d(1024, eps=1e-05, momentum=0.1, affine=True, track_running_stats=True)\n",
       "    (global_avgpool): AdaptiveAvgPool2d(output_size=1)\n",
       "    (fc1): Linear(in_features=1024, out_features=512, bias=True)\n",
       "    (fc2): Linear(in_features=512, out_features=256, bias=True)\n",
       "    (fc_out): Linear(in_features=256, out_features=10, bias=True)\n",
       "    (dropout): Dropout(p=0.3, inplace=False)\n",
       "  ),\n",
       ")</pre></div> </div></div></div></div>"
      ],
      "text/plain": [
       "<class 'skorch.classifier.NeuralNetClassifier'>[initialized](\n",
       "  module_=Cifar10CNN_v9(\n",
       "    (conv1): Conv2d(3, 128, kernel_size=(3, 3), stride=(1, 1), padding=(1, 1))\n",
       "    (bn1): BatchNorm2d(128, eps=1e-05, momentum=0.1, affine=True, track_running_stats=True)\n",
       "    (conv2): Conv2d(128, 256, kernel_size=(3, 3), stride=(1, 1), padding=(1, 1))\n",
       "    (bn2): BatchNorm2d(256, eps=1e-05, momentum=0.1, affine=True, track_running_stats=True)\n",
       "    (conv3): Conv2d(256, 512, kernel_size=(3, 3), stride=(1, 1), padding=(1, 1))\n",
       "    (bn3): BatchNorm2d(512, eps=1e-05, momentum=0.1, affine=True, track_running_stats=True)\n",
       "    (conv4): Conv2d(512, 1024, kernel_size=(3, 3), stride=(1, 1), padding=(1, 1))\n",
       "    (bn4): BatchNorm2d(1024, eps=1e-05, momentum=0.1, affine=True, track_running_stats=True)\n",
       "    (global_avgpool): AdaptiveAvgPool2d(output_size=1)\n",
       "    (fc1): Linear(in_features=1024, out_features=512, bias=True)\n",
       "    (fc2): Linear(in_features=512, out_features=256, bias=True)\n",
       "    (fc_out): Linear(in_features=256, out_features=10, bias=True)\n",
       "    (dropout): Dropout(p=0.3, inplace=False)\n",
       "  ),\n",
       ")"
      ]
     },
     "execution_count": 26,
     "metadata": {},
     "output_type": "execute_result"
    },
    {
     "data": {
      "text/plain": [
       "{'optimizer__weight_decay': 0.0001,\n",
       " 'optimizer__momentum': 0.0,\n",
       " 'optimizer': torch.optim.rmsprop.RMSprop,\n",
       " 'module__dropout': 0.3,\n",
       " 'module__channels': 128,\n",
       " 'lr': 0.0003,\n",
       " 'batch_size': 128}"
      ]
     },
     "execution_count": 26,
     "metadata": {},
     "output_type": "execute_result"
    },
    {
     "data": {
      "text/html": [
       "<div style=\"max-width:800px; border: 1px solid var(--colab-border-color);\"><style>\n",
       "      pre.function-repr-contents {\n",
       "        overflow-x: auto;\n",
       "        padding: 8px 12px;\n",
       "        max-height: 500px;\n",
       "      }\n",
       "\n",
       "      pre.function-repr-contents.function-repr-contents-collapsed {\n",
       "        cursor: pointer;\n",
       "        max-height: 100px;\n",
       "      }\n",
       "    </style>\n",
       "    <pre style=\"white-space: initial; background:\n",
       "         var(--colab-secondary-surface-color); padding: 8px 12px;\n",
       "         border-bottom: 1px solid var(--colab-border-color);\"><b>sklearn.base.BaseEstimator.get_params</b><br/>def get_params(deep=True)</pre><pre class=\"function-repr-contents function-repr-contents-collapsed\" style=\"\"><a class=\"filepath\" style=\"display:none\" href=\"#\">/usr/local/lib/python3.12/dist-packages/sklearn/base.py</a>Get parameters for this estimator.\n",
       "\n",
       "Parameters\n",
       "----------\n",
       "deep : bool, default=True\n",
       "    If True, will return the parameters for this estimator and\n",
       "    contained subobjects that are estimators.\n",
       "\n",
       "Returns\n",
       "-------\n",
       "params : dict\n",
       "    Parameter names mapped to their values.</pre>\n",
       "      <script>\n",
       "      if (google.colab.kernel.accessAllowed && google.colab.files && google.colab.files.view) {\n",
       "        for (const element of document.querySelectorAll('.filepath')) {\n",
       "          element.style.display = 'block'\n",
       "          element.onclick = (event) => {\n",
       "            event.preventDefault();\n",
       "            event.stopPropagation();\n",
       "            google.colab.files.view(element.textContent, 231);\n",
       "          };\n",
       "        }\n",
       "      }\n",
       "      for (const element of document.querySelectorAll('.function-repr-contents')) {\n",
       "        element.onclick = (event) => {\n",
       "          event.preventDefault();\n",
       "          event.stopPropagation();\n",
       "          element.classList.toggle('function-repr-contents-collapsed');\n",
       "        };\n",
       "      }\n",
       "      </script>\n",
       "      </div>"
      ],
      "text/plain": [
       "<bound method BaseEstimator.get_params of RandomizedSearchCV(cv=2,\n",
       "                   estimator=NeuralNetClassifier(_params_to_validate={'iterator_train__shuffle'}, batch_size=128, callbacks=None, compile=False, criterion=<class 'torch.nn.modules.loss.CrossEntropyLoss'>, dataset=<class 'skorch.dataset.Dataset'>, device='cuda', iterator_train=<class 'torch.utils.data.dataloader.DataLoader'>, iterator_train__shuffle=True,...e),\n",
       "                   n_iter=20, n_jobs=-1,\n",
       "                   param_distributions={'batch_size': [128],\n",
       "                                        'lr': [0.0001, 0.0003, 0.001],\n",
       "                                        'module__channels': [64, 128],\n",
       "                                        'module__dropout': [0.2, 0.3],\n",
       "                                        'optimizer': [<class 'torch.optim.sgd.SGD'>,\n",
       "                                                      <class 'torch.optim.rmsprop.RMSprop'>],\n",
       "                                        'optimizer__momentum': [0.0, 0.9],\n",
       "                                        'optimizer__weight_decay': [0.0, 0.0001,\n",
       "                                                                    0.0005]},\n",
       "                   random_state=27, scoring='accuracy', verbose=1)>"
      ]
     },
     "execution_count": 26,
     "metadata": {},
     "output_type": "execute_result"
    },
    {
     "data": {
      "text/plain": [
       "{'mean_fit_time': array([102.45097494,  40.80019188,  96.5087198 ,  41.97958767,\n",
       "         96.52842903,  41.65803123,  96.56148469,  40.78692734,\n",
       "         41.67225838,  41.61998343, 100.6081152 ,  41.70570993,\n",
       "         99.64619136,  43.67226017,  99.92907393,  96.13287544,\n",
       "         98.83320928,  41.1087867 ,  40.40086865,  95.25447726]),\n",
       " 'std_fit_time': array([0.3897655 , 0.19521284, 0.60389173, 0.1445781 , 0.74895716,\n",
       "        0.0650754 , 0.93300092, 0.12464964, 0.11580873, 0.05919409,\n",
       "        0.69150662, 0.14420605, 0.87085342, 0.20640934, 0.82273853,\n",
       "        0.78064322, 0.84958577, 0.00891531, 0.20603323, 0.46499252]),\n",
       " 'mean_score_time': array([3.01316559, 1.65636706, 3.24929273, 1.56584418, 2.97801721,\n",
       "        1.69898641, 3.02146077, 1.62571466, 1.50971818, 1.65427542,\n",
       "        3.0152601 , 1.743312  , 3.0298301 , 1.68382204, 2.97818947,\n",
       "        2.94599783, 2.98596489, 1.58749199, 1.83656502, 2.83872354]),\n",
       " 'std_score_time': array([0.77411759, 0.01932669, 0.5188545 , 0.12347186, 0.75866044,\n",
       "        0.24291527, 0.82934737, 0.06650412, 0.1723516 , 0.02098989,\n",
       "        0.75124276, 0.04358041, 0.78059065, 0.22598302, 0.7733345 ,\n",
       "        0.78693759, 0.71666133, 0.11761212, 0.11160994, 0.88168275]),\n",
       " 'param_optimizer__weight_decay': masked_array(data=[0.0001, 0.0005, 0.0005, 0.0001, 0.0005, 0.0001, 0.0005,\n",
       "                    0.0001, 0.0, 0.0, 0.0005, 0.0, 0.0005, 0.0, 0.0001,\n",
       "                    0.0005, 0.0005, 0.0001, 0.0001, 0.0],\n",
       "              mask=[False, False, False, False, False, False, False, False,\n",
       "                    False, False, False, False, False, False, False, False,\n",
       "                    False, False, False, False],\n",
       "        fill_value=1e+20),\n",
       " 'param_optimizer__momentum': masked_array(data=[0.0, 0.9, 0.0, 0.0, 0.0, 0.0, 0.0, 0.0, 0.9, 0.9, 0.9,\n",
       "                    0.9, 0.0, 0.0, 0.0, 0.0, 0.0, 0.9, 0.0, 0.0],\n",
       "              mask=[False, False, False, False, False, False, False, False,\n",
       "                    False, False, False, False, False, False, False, False,\n",
       "                    False, False, False, False],\n",
       "        fill_value=1e+20),\n",
       " 'param_optimizer': masked_array(data=[<class 'torch.optim.rmsprop.RMSprop'>,\n",
       "                    <class 'torch.optim.rmsprop.RMSprop'>,\n",
       "                    <class 'torch.optim.sgd.SGD'>,\n",
       "                    <class 'torch.optim.sgd.SGD'>,\n",
       "                    <class 'torch.optim.sgd.SGD'>,\n",
       "                    <class 'torch.optim.rmsprop.RMSprop'>,\n",
       "                    <class 'torch.optim.sgd.SGD'>,\n",
       "                    <class 'torch.optim.sgd.SGD'>,\n",
       "                    <class 'torch.optim.sgd.SGD'>,\n",
       "                    <class 'torch.optim.rmsprop.RMSprop'>,\n",
       "                    <class 'torch.optim.rmsprop.RMSprop'>,\n",
       "                    <class 'torch.optim.rmsprop.RMSprop'>,\n",
       "                    <class 'torch.optim.rmsprop.RMSprop'>,\n",
       "                    <class 'torch.optim.sgd.SGD'>,\n",
       "                    <class 'torch.optim.rmsprop.RMSprop'>,\n",
       "                    <class 'torch.optim.sgd.SGD'>,\n",
       "                    <class 'torch.optim.rmsprop.RMSprop'>,\n",
       "                    <class 'torch.optim.rmsprop.RMSprop'>,\n",
       "                    <class 'torch.optim.sgd.SGD'>,\n",
       "                    <class 'torch.optim.sgd.SGD'>],\n",
       "              mask=[False, False, False, False, False, False, False, False,\n",
       "                    False, False, False, False, False, False, False, False,\n",
       "                    False, False, False, False],\n",
       "        fill_value=np.str_('?'),\n",
       "             dtype=object),\n",
       " 'param_module__dropout': masked_array(data=[0.3, 0.3, 0.3, 0.3, 0.2, 0.3, 0.2, 0.2, 0.3, 0.2, 0.3,\n",
       "                    0.3, 0.2, 0.3, 0.3, 0.3, 0.2, 0.2, 0.2, 0.3],\n",
       "              mask=[False, False, False, False, False, False, False, False,\n",
       "                    False, False, False, False, False, False, False, False,\n",
       "                    False, False, False, False],\n",
       "        fill_value=1e+20),\n",
       " 'param_module__channels': masked_array(data=[128, 64, 128, 64, 128, 64, 128, 64, 64, 64, 128, 64,\n",
       "                    128, 64, 128, 128, 128, 64, 64, 128],\n",
       "              mask=[False, False, False, False, False, False, False, False,\n",
       "                    False, False, False, False, False, False, False, False,\n",
       "                    False, False, False, False],\n",
       "        fill_value=999999),\n",
       " 'param_lr': masked_array(data=[0.0003, 0.001, 0.0001, 0.001, 0.001, 0.001, 0.0003,\n",
       "                    0.0003, 0.0003, 0.0001, 0.0001, 0.0001, 0.0003, 0.0001,\n",
       "                    0.001, 0.0003, 0.001, 0.0003, 0.001, 0.0003],\n",
       "              mask=[False, False, False, False, False, False, False, False,\n",
       "                    False, False, False, False, False, False, False, False,\n",
       "                    False, False, False, False],\n",
       "        fill_value=1e+20),\n",
       " 'param_batch_size': masked_array(data=[128, 128, 128, 128, 128, 128, 128, 128, 128, 128, 128,\n",
       "                    128, 128, 128, 128, 128, 128, 128, 128, 128],\n",
       "              mask=[False, False, False, False, False, False, False, False,\n",
       "                    False, False, False, False, False, False, False, False,\n",
       "                    False, False, False, False],\n",
       "        fill_value=999999),\n",
       " 'params': [{'optimizer__weight_decay': 0.0001,\n",
       "   'optimizer__momentum': 0.0,\n",
       "   'optimizer': torch.optim.rmsprop.RMSprop,\n",
       "   'module__dropout': 0.3,\n",
       "   'module__channels': 128,\n",
       "   'lr': 0.0003,\n",
       "   'batch_size': 128},\n",
       "  {'optimizer__weight_decay': 0.0005,\n",
       "   'optimizer__momentum': 0.9,\n",
       "   'optimizer': torch.optim.rmsprop.RMSprop,\n",
       "   'module__dropout': 0.3,\n",
       "   'module__channels': 64,\n",
       "   'lr': 0.001,\n",
       "   'batch_size': 128},\n",
       "  {'optimizer__weight_decay': 0.0005,\n",
       "   'optimizer__momentum': 0.0,\n",
       "   'optimizer': torch.optim.sgd.SGD,\n",
       "   'module__dropout': 0.3,\n",
       "   'module__channels': 128,\n",
       "   'lr': 0.0001,\n",
       "   'batch_size': 128},\n",
       "  {'optimizer__weight_decay': 0.0001,\n",
       "   'optimizer__momentum': 0.0,\n",
       "   'optimizer': torch.optim.sgd.SGD,\n",
       "   'module__dropout': 0.3,\n",
       "   'module__channels': 64,\n",
       "   'lr': 0.001,\n",
       "   'batch_size': 128},\n",
       "  {'optimizer__weight_decay': 0.0005,\n",
       "   'optimizer__momentum': 0.0,\n",
       "   'optimizer': torch.optim.sgd.SGD,\n",
       "   'module__dropout': 0.2,\n",
       "   'module__channels': 128,\n",
       "   'lr': 0.001,\n",
       "   'batch_size': 128},\n",
       "  {'optimizer__weight_decay': 0.0001,\n",
       "   'optimizer__momentum': 0.0,\n",
       "   'optimizer': torch.optim.rmsprop.RMSprop,\n",
       "   'module__dropout': 0.3,\n",
       "   'module__channels': 64,\n",
       "   'lr': 0.001,\n",
       "   'batch_size': 128},\n",
       "  {'optimizer__weight_decay': 0.0005,\n",
       "   'optimizer__momentum': 0.0,\n",
       "   'optimizer': torch.optim.sgd.SGD,\n",
       "   'module__dropout': 0.2,\n",
       "   'module__channels': 128,\n",
       "   'lr': 0.0003,\n",
       "   'batch_size': 128},\n",
       "  {'optimizer__weight_decay': 0.0001,\n",
       "   'optimizer__momentum': 0.0,\n",
       "   'optimizer': torch.optim.sgd.SGD,\n",
       "   'module__dropout': 0.2,\n",
       "   'module__channels': 64,\n",
       "   'lr': 0.0003,\n",
       "   'batch_size': 128},\n",
       "  {'optimizer__weight_decay': 0.0,\n",
       "   'optimizer__momentum': 0.9,\n",
       "   'optimizer': torch.optim.sgd.SGD,\n",
       "   'module__dropout': 0.3,\n",
       "   'module__channels': 64,\n",
       "   'lr': 0.0003,\n",
       "   'batch_size': 128},\n",
       "  {'optimizer__weight_decay': 0.0,\n",
       "   'optimizer__momentum': 0.9,\n",
       "   'optimizer': torch.optim.rmsprop.RMSprop,\n",
       "   'module__dropout': 0.2,\n",
       "   'module__channels': 64,\n",
       "   'lr': 0.0001,\n",
       "   'batch_size': 128},\n",
       "  {'optimizer__weight_decay': 0.0005,\n",
       "   'optimizer__momentum': 0.9,\n",
       "   'optimizer': torch.optim.rmsprop.RMSprop,\n",
       "   'module__dropout': 0.3,\n",
       "   'module__channels': 128,\n",
       "   'lr': 0.0001,\n",
       "   'batch_size': 128},\n",
       "  {'optimizer__weight_decay': 0.0,\n",
       "   'optimizer__momentum': 0.9,\n",
       "   'optimizer': torch.optim.rmsprop.RMSprop,\n",
       "   'module__dropout': 0.3,\n",
       "   'module__channels': 64,\n",
       "   'lr': 0.0001,\n",
       "   'batch_size': 128},\n",
       "  {'optimizer__weight_decay': 0.0005,\n",
       "   'optimizer__momentum': 0.0,\n",
       "   'optimizer': torch.optim.rmsprop.RMSprop,\n",
       "   'module__dropout': 0.2,\n",
       "   'module__channels': 128,\n",
       "   'lr': 0.0003,\n",
       "   'batch_size': 128},\n",
       "  {'optimizer__weight_decay': 0.0,\n",
       "   'optimizer__momentum': 0.0,\n",
       "   'optimizer': torch.optim.sgd.SGD,\n",
       "   'module__dropout': 0.3,\n",
       "   'module__channels': 64,\n",
       "   'lr': 0.0001,\n",
       "   'batch_size': 128},\n",
       "  {'optimizer__weight_decay': 0.0001,\n",
       "   'optimizer__momentum': 0.0,\n",
       "   'optimizer': torch.optim.rmsprop.RMSprop,\n",
       "   'module__dropout': 0.3,\n",
       "   'module__channels': 128,\n",
       "   'lr': 0.001,\n",
       "   'batch_size': 128},\n",
       "  {'optimizer__weight_decay': 0.0005,\n",
       "   'optimizer__momentum': 0.0,\n",
       "   'optimizer': torch.optim.sgd.SGD,\n",
       "   'module__dropout': 0.3,\n",
       "   'module__channels': 128,\n",
       "   'lr': 0.0003,\n",
       "   'batch_size': 128},\n",
       "  {'optimizer__weight_decay': 0.0005,\n",
       "   'optimizer__momentum': 0.0,\n",
       "   'optimizer': torch.optim.rmsprop.RMSprop,\n",
       "   'module__dropout': 0.2,\n",
       "   'module__channels': 128,\n",
       "   'lr': 0.001,\n",
       "   'batch_size': 128},\n",
       "  {'optimizer__weight_decay': 0.0001,\n",
       "   'optimizer__momentum': 0.9,\n",
       "   'optimizer': torch.optim.rmsprop.RMSprop,\n",
       "   'module__dropout': 0.2,\n",
       "   'module__channels': 64,\n",
       "   'lr': 0.0003,\n",
       "   'batch_size': 128},\n",
       "  {'optimizer__weight_decay': 0.0001,\n",
       "   'optimizer__momentum': 0.0,\n",
       "   'optimizer': torch.optim.sgd.SGD,\n",
       "   'module__dropout': 0.2,\n",
       "   'module__channels': 64,\n",
       "   'lr': 0.001,\n",
       "   'batch_size': 128},\n",
       "  {'optimizer__weight_decay': 0.0,\n",
       "   'optimizer__momentum': 0.0,\n",
       "   'optimizer': torch.optim.sgd.SGD,\n",
       "   'module__dropout': 0.3,\n",
       "   'module__channels': 128,\n",
       "   'lr': 0.0003,\n",
       "   'batch_size': 128}],\n",
       " 'split0_test_score': array([0.74215, 0.60095, 0.19505, 0.30045, 0.3585 , 0.52165, 0.26   ,\n",
       "        0.2164 , 0.4059 , 0.60005, 0.6577 , 0.6154 , 0.61875, 0.14905,\n",
       "        0.66005, 0.2602 , 0.58735, 0.5942 , 0.31535, 0.271  ]),\n",
       " 'split1_test_score': array([0.6305 , 0.43845, 0.1746 , 0.29495, 0.34905, 0.6763 , 0.29385,\n",
       "        0.23235, 0.4116 , 0.69225, 0.6321 , 0.6119 , 0.59735, 0.16   ,\n",
       "        0.60095, 0.24355, 0.6486 , 0.6695 , 0.29875, 0.2402 ]),\n",
       " 'mean_test_score': array([0.686325, 0.5197  , 0.184825, 0.2977  , 0.353775, 0.598975,\n",
       "        0.276925, 0.224375, 0.40875 , 0.64615 , 0.6449  , 0.61365 ,\n",
       "        0.60805 , 0.154525, 0.6305  , 0.251875, 0.617975, 0.63185 ,\n",
       "        0.30705 , 0.2556  ]),\n",
       " 'std_test_score': array([0.055825, 0.08125 , 0.010225, 0.00275 , 0.004725, 0.077325,\n",
       "        0.016925, 0.007975, 0.00285 , 0.0461  , 0.0128  , 0.00175 ,\n",
       "        0.0107  , 0.005475, 0.02955 , 0.008325, 0.030625, 0.03765 ,\n",
       "        0.0083  , 0.0154  ]),\n",
       " 'rank_test_score': array([ 1, 10, 19, 14, 12,  9, 15, 18, 11,  2,  3,  7,  8, 20,  5, 17,  6,\n",
       "         4, 13, 16], dtype=int32)}"
      ]
     },
     "execution_count": 26,
     "metadata": {},
     "output_type": "execute_result"
    }
   ],
   "source": [
    "rs.best_estimator_\n",
    "rs.best_params_\n",
    "rs.get_params\n",
    "rs.cv_results_"
   ]
  },
  {
   "cell_type": "code",
   "execution_count": 1,
   "metadata": {
    "id": "XS9-c6Icp0ou"
   },
   "outputs": [],
   "source": [
    "# rs.cv_results_"
   ]
  },
  {
   "cell_type": "code",
   "execution_count": 27,
   "metadata": {
    "colab": {
     "base_uri": "https://localhost:8080/"
    },
    "id": "6kTwvguMp1iE",
    "outputId": "ff8cbd80-5a99-4343-8301-0790f53ad02c"
   },
   "outputs": [
    {
     "data": {
      "text/plain": [
       "np.int64(0)"
      ]
     },
     "execution_count": 27,
     "metadata": {},
     "output_type": "execute_result"
    }
   ],
   "source": [
    "rs.best_index_"
   ]
  },
  {
   "cell_type": "code",
   "execution_count": null,
   "metadata": {
    "id": "PlY_Rakbp4jJ"
   },
   "outputs": [],
   "source": []
  },
  {
   "cell_type": "code",
   "execution_count": 28,
   "metadata": {
    "colab": {
     "base_uri": "https://localhost:8080/"
    },
    "id": "dAoojeaoF6v1",
    "outputId": "f0f04f5d-a7f4-48a9-dd89-941906b6f963"
   },
   "outputs": [
    {
     "name": "stdout",
     "output_type": "stream",
     "text": [
      "Accuracy:\n",
      " 0.7635\n",
      "\n",
      "=================================================================\n",
      "\n",
      "Confusion Matrix:\n",
      " [[730  25  35  69  35   1  11  24  12  58]\n",
      " [  4 910   3   2   1   0  18   0   4  58]\n",
      " [ 40   4 636 158  63   9  66  22   0   2]\n",
      " [  7   2  33 805  43  17  74  12   3   4]\n",
      " [  6   1  28  71 809   5  49  26   1   4]\n",
      " [  1   4  24 412  62 413  36  45   2   1]\n",
      " [  6   4  21  57  14   0 896   1   0   1]\n",
      " [  3   1  24  91  70  12  10 786   0   3]\n",
      " [ 40  28  16  63  14   0  36   6 758  39]\n",
      " [  6  46   3  25   4   1  15   5   3 892]]\n",
      "\n",
      "=================================================================\n",
      "\n",
      "Classification Report:\n",
      "               precision    recall  f1-score   support\n",
      "\n",
      "           0       0.87      0.73      0.79      1000\n",
      "           1       0.89      0.91      0.90      1000\n",
      "           2       0.77      0.64      0.70      1000\n",
      "           3       0.46      0.81      0.58      1000\n",
      "           4       0.73      0.81      0.77      1000\n",
      "           5       0.90      0.41      0.57      1000\n",
      "           6       0.74      0.90      0.81      1000\n",
      "           7       0.85      0.79      0.82      1000\n",
      "           8       0.97      0.76      0.85      1000\n",
      "           9       0.84      0.89      0.87      1000\n",
      "\n",
      "    accuracy                           0.76     10000\n",
      "   macro avg       0.80      0.76      0.76     10000\n",
      "weighted avg       0.80      0.76      0.76     10000\n",
      "\n"
     ]
    }
   ],
   "source": [
    "# ---------------------------------------------------------\n",
    "# 7a. Predict & Evaluate Performance with Best Model (Metrics)\n",
    "# ---------------------------------------------------------\n",
    "\n",
    "best_model = rs.best_estimator_\n",
    "y_pred = best_model.predict(X_test)\n",
    "\n",
    "print(\"Accuracy:\\n\", accuracy_score(y_test, y_pred))\n",
    "print('\\n=================================================================\\n')\n",
    "print('Confusion Matrix:\\n', confusion_matrix(y_test, y_pred))\n",
    "print('\\n=================================================================\\n')\n",
    "print(\"Classification Report:\\n\", classification_report(y_test, y_pred))\n",
    "\n",
    "cm = ConfusionMatrix(num_classes=10, task='multiclass')\n",
    "cm_tensor = cm(torch.tensor(y_pred), y_test)"
   ]
  },
  {
   "cell_type": "code",
   "execution_count": 30,
   "metadata": {
    "colab": {
     "base_uri": "https://localhost:8080/",
     "height": 837
    },
    "id": "99kklmvPF6yo",
    "outputId": "093bc775-d005-4a27-d9d3-f7f20b530114"
   },
   "outputs": [
    {
     "data": {
      "image/png": "[encoded data removed]",
      "text/plain": [
       "<Figure size 1200x1000 with 2 Axes>"
      ]
     },
     "metadata": {},
     "output_type": "display_data"
    }
   ],
   "source": [
    "# 7b. Plot the Confusion Matrix (Visualized Metrics)\n",
    "\n",
    "fig, ax = plt.subplots(figsize=(12, 10))\n",
    "\n",
    "# disp = ConfusionMatrixDisplay.from_predictions(\n",
    "#     y_test, y_pred\n",
    "#     , display_labels=dataset.classes\n",
    "#     , cmap='Blues'\n",
    "#     , normalize='true', xticks_rotation=45\n",
    "# )\n",
    "\n",
    "disp.plot(ax=ax, cmap='Blues')\n",
    "plt.show();"
   ]
  },
  {
   "cell_type": "code",
   "execution_count": 36,
   "metadata": {
    "id": "FlkgLcZXF61g"
   },
   "outputs": [],
   "source": [
    "# 8. Functionize the train & test loop(s):\n",
    "\n",
    "def train_step(model, loader, loss_fn, optimizer, accuracy_fn, device):\n",
    "    model.train()\n",
    "    total_loss, total_acc = 0, 0\n",
    "    for X, y in loader:\n",
    "        X, y = X.to(device), y.to(device)\n",
    "        # Apply train transforms to the batch\n",
    "        X = train_transform_batch(X)\n",
    "        y_pred = model(X)\n",
    "        loss = loss_fn(y_pred, y)\n",
    "        optimizer.zero_grad()\n",
    "        loss.backward()\n",
    "        optimizer.step()\n",
    "        total_loss += loss.item()\n",
    "        total_acc += accuracy_fn(y_pred.argmax(dim=1), y).item()\n",
    "    return total_loss / len(loader), total_acc / len(loader)\n",
    "\n",
    "def test_step(model, loader, loss_fn, accuracy_fn, device):\n",
    "    model.eval()\n",
    "    total_loss, total_acc = 0, 0\n",
    "    with torch.no_grad():\n",
    "        for X, y in loader:\n",
    "            X, y = X.to(device), y.to(device)\n",
    "            # Apply test transforms to the batch\n",
    "            X = test_transform_batch(X)\n",
    "            y_pred = model(X)\n",
    "            loss = loss_fn(y_pred, y)\n",
    "            total_loss += loss.item()\n",
    "            total_acc += accuracy_fn(y_pred.argmax(dim=1), y).item()\n",
    "    return total_loss / len(loader), total_acc / len(loader) # Return test loss"
   ]
  },
  {
   "cell_type": "code",
   "execution_count": 37,
   "metadata": {
    "colab": {
     "base_uri": "https://localhost:8080/"
    },
    "id": "NmwX420VF65-",
    "outputId": "fed56cce-1ce1-4ca2-abad-280460e207fb"
   },
   "outputs": [
    {
     "data": {
      "text/plain": [
       "Cifar10CNN_v9(\n",
       "  (conv1): Conv2d(3, 128, kernel_size=(3, 3), stride=(1, 1), padding=(1, 1))\n",
       "  (bn1): BatchNorm2d(128, eps=1e-05, momentum=0.1, affine=True, track_running_stats=True)\n",
       "  (conv2): Conv2d(128, 256, kernel_size=(3, 3), stride=(1, 1), padding=(1, 1))\n",
       "  (bn2): BatchNorm2d(256, eps=1e-05, momentum=0.1, affine=True, track_running_stats=True)\n",
       "  (conv3): Conv2d(256, 512, kernel_size=(3, 3), stride=(1, 1), padding=(1, 1))\n",
       "  (bn3): BatchNorm2d(512, eps=1e-05, momentum=0.1, affine=True, track_running_stats=True)\n",
       "  (conv4): Conv2d(512, 1024, kernel_size=(3, 3), stride=(1, 1), padding=(1, 1))\n",
       "  (bn4): BatchNorm2d(1024, eps=1e-05, momentum=0.1, affine=True, track_running_stats=True)\n",
       "  (global_avgpool): AdaptiveAvgPool2d(output_size=1)\n",
       "  (fc1): Linear(in_features=1024, out_features=512, bias=True)\n",
       "  (fc2): Linear(in_features=512, out_features=256, bias=True)\n",
       "  (fc_out): Linear(in_features=256, out_features=10, bias=True)\n",
       "  (dropout): Dropout(p=0.3, inplace=False)\n",
       ")"
      ]
     },
     "execution_count": 37,
     "metadata": {},
     "output_type": "execute_result"
    }
   ],
   "source": [
    "# ---------------------------------------------------------\n",
    "# 9. Set the final model with the best params (including channels & dropout)\n",
    "# ---------------------------------------------------------\n",
    "\n",
    "model = Cifar10CNN_v9(\n",
    "    channels=rs.best_params_[\"module__channels\"]\n",
    "    , dropout=rs.best_params_[\"module__dropout\"]\n",
    ").to(device)\n",
    "\n",
    "model"
   ]
  },
  {
   "cell_type": "code",
   "execution_count": null,
   "metadata": {
    "id": "nFFcSJWBt82q"
   },
   "outputs": [],
   "source": [
    "\"\"\"\n",
    "# Old model.train params (keeping handy for a rainy day;;;):\n",
    "# scheduler = torch.optim.lr_scheduler.CosineAnnealingLR(optimizer, T_max=epochs)\n",
    "# scheduler = torch.optim.lr_scheduler.StepLR(optimizer, step_size=10, gamma=0.1)\n",
    "# scheduler = torch.optim.lr_scheduler.ReduceLROnPlateau(optimizer, mode='min', factor=0.1, patience=5)\n",
    "\n",
    "\"\"\""
   ]
  },
  {
   "cell_type": "code",
   "execution_count": 38,
   "metadata": {
    "colab": {
     "base_uri": "https://localhost:8080/"
    },
    "id": "dcGwQNBGF68m",
    "outputId": "c117e258-6b6f-444f-e03b-2ed1dc504241"
   },
   "outputs": [
    {
     "name": "stderr",
     "output_type": "stream",
     "text": [
      "  1%|          | 1/100 [00:11<19:01, 11.53s/it]"
     ]
    },
    {
     "name": "stdout",
     "output_type": "stream",
     "text": [
      "Epoch 1/100 - Train Loss: 1.5393, Train Acc: 0.42 - Test Loss: 1.4713, Test Acc: 0.47\n"
     ]
    },
    {
     "name": "stderr",
     "output_type": "stream",
     "text": [
      "\r",
      "  2%|▏         | 2/100 [00:22<18:43, 11.46s/it]"
     ]
    },
    {
     "name": "stdout",
     "output_type": "stream",
     "text": [
      "Epoch 2/100 - Train Loss: 1.1390, Train Acc: 0.59 - Test Loss: 1.4198, Test Acc: 0.53\n"
     ]
    },
    {
     "name": "stderr",
     "output_type": "stream",
     "text": [
      "\r",
      "  3%|▎         | 3/100 [00:34<18:32, 11.47s/it]"
     ]
    },
    {
     "name": "stdout",
     "output_type": "stream",
     "text": [
      "Epoch 3/100 - Train Loss: 0.9740, Train Acc: 0.65 - Test Loss: 0.9474, Test Acc: 0.66\n"
     ]
    },
    {
     "name": "stderr",
     "output_type": "stream",
     "text": [
      "\r",
      "  4%|▍         | 4/100 [00:46<18:41, 11.68s/it]"
     ]
    },
    {
     "name": "stdout",
     "output_type": "stream",
     "text": [
      "Epoch 4/100 - Train Loss: 0.8722, Train Acc: 0.69 - Test Loss: 1.0240, Test Acc: 0.65\n"
     ]
    },
    {
     "name": "stderr",
     "output_type": "stream",
     "text": [
      "\r",
      "  5%|▌         | 5/100 [00:58<18:32, 11.71s/it]"
     ]
    },
    {
     "name": "stdout",
     "output_type": "stream",
     "text": [
      "Epoch 5/100 - Train Loss: 0.8012, Train Acc: 0.72 - Test Loss: 0.8310, Test Acc: 0.71\n"
     ]
    },
    {
     "name": "stderr",
     "output_type": "stream",
     "text": [
      "\r",
      "  6%|▌         | 6/100 [01:10<18:40, 11.92s/it]"
     ]
    },
    {
     "name": "stdout",
     "output_type": "stream",
     "text": [
      "Epoch 6/100 - Train Loss: 0.7508, Train Acc: 0.74 - Test Loss: 1.0860, Test Acc: 0.64\n"
     ]
    },
    {
     "name": "stderr",
     "output_type": "stream",
     "text": [
      "\r",
      "  7%|▋         | 7/100 [01:22<18:29, 11.93s/it]"
     ]
    },
    {
     "name": "stdout",
     "output_type": "stream",
     "text": [
      "Epoch 7/100 - Train Loss: 0.7026, Train Acc: 0.75 - Test Loss: 1.0117, Test Acc: 0.66\n"
     ]
    },
    {
     "name": "stderr",
     "output_type": "stream",
     "text": [
      "\r",
      "  8%|▊         | 8/100 [01:34<18:17, 11.93s/it]"
     ]
    },
    {
     "name": "stdout",
     "output_type": "stream",
     "text": [
      "Epoch 8/100 - Train Loss: 0.6743, Train Acc: 0.77 - Test Loss: 1.0674, Test Acc: 0.67\n"
     ]
    },
    {
     "name": "stderr",
     "output_type": "stream",
     "text": [
      "\r",
      "  9%|▉         | 9/100 [01:46<18:05, 11.93s/it]"
     ]
    },
    {
     "name": "stdout",
     "output_type": "stream",
     "text": [
      "Epoch 9/100 - Train Loss: 0.6406, Train Acc: 0.78 - Test Loss: 0.7615, Test Acc: 0.74\n"
     ]
    },
    {
     "name": "stderr",
     "output_type": "stream",
     "text": [
      "\r",
      " 10%|█         | 10/100 [01:58<17:53, 11.93s/it]"
     ]
    },
    {
     "name": "stdout",
     "output_type": "stream",
     "text": [
      "Epoch 10/100 - Train Loss: 0.6108, Train Acc: 0.79 - Test Loss: 0.8012, Test Acc: 0.73\n"
     ]
    },
    {
     "name": "stderr",
     "output_type": "stream",
     "text": [
      "\r",
      " 11%|█         | 11/100 [02:09<17:35, 11.86s/it]"
     ]
    },
    {
     "name": "stdout",
     "output_type": "stream",
     "text": [
      "Epoch 11/100 - Train Loss: 0.5858, Train Acc: 0.80 - Test Loss: 0.9474, Test Acc: 0.70\n"
     ]
    },
    {
     "name": "stderr",
     "output_type": "stream",
     "text": [
      "\r",
      " 12%|█▏        | 12/100 [02:21<17:20, 11.82s/it]"
     ]
    },
    {
     "name": "stdout",
     "output_type": "stream",
     "text": [
      "Epoch 12/100 - Train Loss: 0.5600, Train Acc: 0.81 - Test Loss: 0.9547, Test Acc: 0.71\n"
     ]
    },
    {
     "name": "stderr",
     "output_type": "stream",
     "text": [
      "\r",
      " 13%|█▎        | 13/100 [02:33<17:09, 11.83s/it]"
     ]
    },
    {
     "name": "stdout",
     "output_type": "stream",
     "text": [
      "Epoch 13/100 - Train Loss: 0.5389, Train Acc: 0.81 - Test Loss: 1.1093, Test Acc: 0.68\n"
     ]
    },
    {
     "name": "stderr",
     "output_type": "stream",
     "text": [
      "\r",
      " 14%|█▍        | 14/100 [02:45<16:56, 11.82s/it]"
     ]
    },
    {
     "name": "stdout",
     "output_type": "stream",
     "text": [
      "Epoch 14/100 - Train Loss: 0.5231, Train Acc: 0.82 - Test Loss: 0.5904, Test Acc: 0.80\n"
     ]
    },
    {
     "name": "stderr",
     "output_type": "stream",
     "text": [
      "\r",
      " 15%|█▌        | 15/100 [02:57<16:45, 11.83s/it]"
     ]
    },
    {
     "name": "stdout",
     "output_type": "stream",
     "text": [
      "Epoch 15/100 - Train Loss: 0.5074, Train Acc: 0.82 - Test Loss: 0.6003, Test Acc: 0.80\n"
     ]
    },
    {
     "name": "stderr",
     "output_type": "stream",
     "text": [
      "\r",
      " 16%|█▌        | 16/100 [03:09<16:46, 11.98s/it]"
     ]
    },
    {
     "name": "stdout",
     "output_type": "stream",
     "text": [
      "Epoch 16/100 - Train Loss: 0.4857, Train Acc: 0.83 - Test Loss: 0.5827, Test Acc: 0.81\n"
     ]
    },
    {
     "name": "stderr",
     "output_type": "stream",
     "text": [
      "\r",
      " 17%|█▋        | 17/100 [03:21<16:30, 11.94s/it]"
     ]
    },
    {
     "name": "stdout",
     "output_type": "stream",
     "text": [
      "Epoch 17/100 - Train Loss: 0.4706, Train Acc: 0.84 - Test Loss: 0.7980, Test Acc: 0.75\n"
     ]
    },
    {
     "name": "stderr",
     "output_type": "stream",
     "text": [
      "\r",
      " 18%|█▊        | 18/100 [03:33<16:19, 11.95s/it]"
     ]
    },
    {
     "name": "stdout",
     "output_type": "stream",
     "text": [
      "Epoch 18/100 - Train Loss: 0.4585, Train Acc: 0.84 - Test Loss: 0.6491, Test Acc: 0.79\n"
     ]
    },
    {
     "name": "stderr",
     "output_type": "stream",
     "text": [
      "\r",
      " 19%|█▉        | 19/100 [03:45<16:21, 12.11s/it]"
     ]
    },
    {
     "name": "stdout",
     "output_type": "stream",
     "text": [
      "Epoch 19/100 - Train Loss: 0.4464, Train Acc: 0.84 - Test Loss: 0.7024, Test Acc: 0.76\n"
     ]
    },
    {
     "name": "stderr",
     "output_type": "stream",
     "text": [
      "\r",
      " 20%|██        | 20/100 [03:57<16:04, 12.05s/it]"
     ]
    },
    {
     "name": "stdout",
     "output_type": "stream",
     "text": [
      "Epoch 20/100 - Train Loss: 0.4327, Train Acc: 0.85 - Test Loss: 0.7731, Test Acc: 0.76\n"
     ]
    },
    {
     "name": "stderr",
     "output_type": "stream",
     "text": [
      "\r",
      " 21%|██        | 21/100 [04:09<15:48, 12.01s/it]"
     ]
    },
    {
     "name": "stdout",
     "output_type": "stream",
     "text": [
      "Epoch 21/100 - Train Loss: 0.4195, Train Acc: 0.85 - Test Loss: 0.6291, Test Acc: 0.81\n"
     ]
    },
    {
     "name": "stderr",
     "output_type": "stream",
     "text": [
      "\r",
      " 22%|██▏       | 22/100 [04:21<15:34, 11.98s/it]"
     ]
    },
    {
     "name": "stdout",
     "output_type": "stream",
     "text": [
      "Epoch 22/100 - Train Loss: 0.4042, Train Acc: 0.86 - Test Loss: 1.0976, Test Acc: 0.70\n"
     ]
    },
    {
     "name": "stderr",
     "output_type": "stream",
     "text": [
      "\r",
      " 23%|██▎       | 23/100 [04:33<15:19, 11.94s/it]"
     ]
    },
    {
     "name": "stdout",
     "output_type": "stream",
     "text": [
      "Epoch 23/100 - Train Loss: 0.3919, Train Acc: 0.86 - Test Loss: 0.5632, Test Acc: 0.82\n"
     ]
    },
    {
     "name": "stderr",
     "output_type": "stream",
     "text": [
      "\r",
      " 24%|██▍       | 24/100 [04:45<15:17, 12.07s/it]"
     ]
    },
    {
     "name": "stdout",
     "output_type": "stream",
     "text": [
      "Epoch 24/100 - Train Loss: 0.3861, Train Acc: 0.87 - Test Loss: 0.5043, Test Acc: 0.84\n"
     ]
    },
    {
     "name": "stderr",
     "output_type": "stream",
     "text": [
      "\r",
      " 25%|██▌       | 25/100 [04:57<15:06, 12.09s/it]"
     ]
    },
    {
     "name": "stdout",
     "output_type": "stream",
     "text": [
      "Epoch 25/100 - Train Loss: 0.3679, Train Acc: 0.87 - Test Loss: 0.4502, Test Acc: 0.85\n"
     ]
    },
    {
     "name": "stderr",
     "output_type": "stream",
     "text": [
      "\r",
      " 26%|██▌       | 26/100 [05:09<14:49, 12.03s/it]"
     ]
    },
    {
     "name": "stdout",
     "output_type": "stream",
     "text": [
      "Epoch 26/100 - Train Loss: 0.3609, Train Acc: 0.87 - Test Loss: 0.5533, Test Acc: 0.82\n"
     ]
    },
    {
     "name": "stderr",
     "output_type": "stream",
     "text": [
      "\r",
      " 27%|██▋       | 27/100 [05:21<14:35, 11.99s/it]"
     ]
    },
    {
     "name": "stdout",
     "output_type": "stream",
     "text": [
      "Epoch 27/100 - Train Loss: 0.3513, Train Acc: 0.88 - Test Loss: 0.5683, Test Acc: 0.83\n"
     ]
    },
    {
     "name": "stderr",
     "output_type": "stream",
     "text": [
      "\r",
      " 28%|██▊       | 28/100 [05:33<14:22, 11.98s/it]"
     ]
    },
    {
     "name": "stdout",
     "output_type": "stream",
     "text": [
      "Epoch 28/100 - Train Loss: 0.3373, Train Acc: 0.88 - Test Loss: 0.7032, Test Acc: 0.80\n"
     ]
    },
    {
     "name": "stderr",
     "output_type": "stream",
     "text": [
      "\r",
      " 29%|██▉       | 29/100 [05:45<14:10, 11.98s/it]"
     ]
    },
    {
     "name": "stdout",
     "output_type": "stream",
     "text": [
      "Epoch 29/100 - Train Loss: 0.3388, Train Acc: 0.88 - Test Loss: 0.4295, Test Acc: 0.86\n"
     ]
    },
    {
     "name": "stderr",
     "output_type": "stream",
     "text": [
      "\r",
      " 30%|███       | 30/100 [05:57<13:58, 11.98s/it]"
     ]
    },
    {
     "name": "stdout",
     "output_type": "stream",
     "text": [
      "Epoch 30/100 - Train Loss: 0.3278, Train Acc: 0.89 - Test Loss: 0.6714, Test Acc: 0.79\n"
     ]
    },
    {
     "name": "stderr",
     "output_type": "stream",
     "text": [
      "\r",
      " 31%|███       | 31/100 [06:09<13:47, 11.99s/it]"
     ]
    },
    {
     "name": "stdout",
     "output_type": "stream",
     "text": [
      "Epoch 31/100 - Train Loss: 0.3122, Train Acc: 0.89 - Test Loss: 0.6239, Test Acc: 0.81\n"
     ]
    },
    {
     "name": "stderr",
     "output_type": "stream",
     "text": [
      "\r",
      " 32%|███▏      | 32/100 [06:22<13:43, 12.11s/it]"
     ]
    },
    {
     "name": "stdout",
     "output_type": "stream",
     "text": [
      "Epoch 32/100 - Train Loss: 0.3031, Train Acc: 0.89 - Test Loss: 0.6037, Test Acc: 0.82\n"
     ]
    },
    {
     "name": "stderr",
     "output_type": "stream",
     "text": [
      "\r",
      " 33%|███▎      | 33/100 [06:34<13:35, 12.17s/it]"
     ]
    },
    {
     "name": "stdout",
     "output_type": "stream",
     "text": [
      "Epoch 33/100 - Train Loss: 0.3036, Train Acc: 0.89 - Test Loss: 0.5107, Test Acc: 0.84\n"
     ]
    },
    {
     "name": "stderr",
     "output_type": "stream",
     "text": [
      "\r",
      " 34%|███▍      | 34/100 [06:46<13:18, 12.10s/it]"
     ]
    },
    {
     "name": "stdout",
     "output_type": "stream",
     "text": [
      "Epoch 34/100 - Train Loss: 0.2925, Train Acc: 0.90 - Test Loss: 0.5626, Test Acc: 0.83\n"
     ]
    },
    {
     "name": "stderr",
     "output_type": "stream",
     "text": [
      "\r",
      " 35%|███▌      | 35/100 [06:58<13:03, 12.05s/it]"
     ]
    },
    {
     "name": "stdout",
     "output_type": "stream",
     "text": [
      "Epoch 35/100 - Train Loss: 0.2901, Train Acc: 0.90 - Test Loss: 0.4936, Test Acc: 0.84\n"
     ]
    },
    {
     "name": "stderr",
     "output_type": "stream",
     "text": [
      "\r",
      " 36%|███▌      | 36/100 [07:10<12:49, 12.02s/it]"
     ]
    },
    {
     "name": "stdout",
     "output_type": "stream",
     "text": [
      "Epoch 36/100 - Train Loss: 0.2805, Train Acc: 0.90 - Test Loss: 0.5674, Test Acc: 0.83\n"
     ]
    },
    {
     "name": "stderr",
     "output_type": "stream",
     "text": [
      "\r",
      " 37%|███▋      | 37/100 [07:22<12:36, 12.00s/it]"
     ]
    },
    {
     "name": "stdout",
     "output_type": "stream",
     "text": [
      "Epoch 37/100 - Train Loss: 0.2685, Train Acc: 0.91 - Test Loss: 0.5278, Test Acc: 0.84\n"
     ]
    },
    {
     "name": "stderr",
     "output_type": "stream",
     "text": [
      "\r",
      " 38%|███▊      | 38/100 [07:34<12:24, 12.00s/it]"
     ]
    },
    {
     "name": "stdout",
     "output_type": "stream",
     "text": [
      "Epoch 38/100 - Train Loss: 0.2088, Train Acc: 0.93 - Test Loss: 0.3656, Test Acc: 0.89\n"
     ]
    },
    {
     "name": "stderr",
     "output_type": "stream",
     "text": [
      "\r",
      " 39%|███▉      | 39/100 [07:46<12:11, 11.99s/it]"
     ]
    },
    {
     "name": "stdout",
     "output_type": "stream",
     "text": [
      "Epoch 39/100 - Train Loss: 0.1843, Train Acc: 0.94 - Test Loss: 0.3685, Test Acc: 0.89\n"
     ]
    },
    {
     "name": "stderr",
     "output_type": "stream",
     "text": [
      "\r",
      " 40%|████      | 40/100 [07:58<11:59, 11.98s/it]"
     ]
    },
    {
     "name": "stdout",
     "output_type": "stream",
     "text": [
      "Epoch 40/100 - Train Loss: 0.1757, Train Acc: 0.94 - Test Loss: 0.3579, Test Acc: 0.89\n"
     ]
    },
    {
     "name": "stderr",
     "output_type": "stream",
     "text": [
      "\r",
      " 41%|████      | 41/100 [08:10<11:47, 11.99s/it]"
     ]
    },
    {
     "name": "stdout",
     "output_type": "stream",
     "text": [
      "Epoch 41/100 - Train Loss: 0.1664, Train Acc: 0.94 - Test Loss: 0.3706, Test Acc: 0.89\n"
     ]
    },
    {
     "name": "stderr",
     "output_type": "stream",
     "text": [
      "\r",
      " 42%|████▏     | 42/100 [08:21<11:34, 11.98s/it]"
     ]
    },
    {
     "name": "stdout",
     "output_type": "stream",
     "text": [
      "Epoch 42/100 - Train Loss: 0.1629, Train Acc: 0.94 - Test Loss: 0.3601, Test Acc: 0.89\n"
     ]
    },
    {
     "name": "stderr",
     "output_type": "stream",
     "text": [
      "\r",
      " 43%|████▎     | 43/100 [08:33<11:22, 11.97s/it]"
     ]
    },
    {
     "name": "stdout",
     "output_type": "stream",
     "text": [
      "Epoch 43/100 - Train Loss: 0.1567, Train Acc: 0.95 - Test Loss: 0.3759, Test Acc: 0.89\n"
     ]
    },
    {
     "name": "stderr",
     "output_type": "stream",
     "text": [
      "\r",
      " 44%|████▍     | 44/100 [08:45<11:10, 11.97s/it]"
     ]
    },
    {
     "name": "stdout",
     "output_type": "stream",
     "text": [
      "Epoch 44/100 - Train Loss: 0.1586, Train Acc: 0.95 - Test Loss: 0.3818, Test Acc: 0.89\n"
     ]
    },
    {
     "name": "stderr",
     "output_type": "stream",
     "text": [
      "\r",
      " 45%|████▌     | 45/100 [08:57<10:58, 11.97s/it]"
     ]
    },
    {
     "name": "stdout",
     "output_type": "stream",
     "text": [
      "Epoch 45/100 - Train Loss: 0.1557, Train Acc: 0.95 - Test Loss: 0.3788, Test Acc: 0.89\n"
     ]
    },
    {
     "name": "stderr",
     "output_type": "stream",
     "text": [
      "\r",
      " 46%|████▌     | 46/100 [09:09<10:46, 11.97s/it]"
     ]
    },
    {
     "name": "stdout",
     "output_type": "stream",
     "text": [
      "Epoch 46/100 - Train Loss: 0.1514, Train Acc: 0.95 - Test Loss: 0.3656, Test Acc: 0.90\n"
     ]
    },
    {
     "name": "stderr",
     "output_type": "stream",
     "text": [
      "\r",
      " 47%|████▋     | 47/100 [09:21<10:34, 11.97s/it]"
     ]
    },
    {
     "name": "stdout",
     "output_type": "stream",
     "text": [
      "Epoch 47/100 - Train Loss: 0.1466, Train Acc: 0.95 - Test Loss: 0.3780, Test Acc: 0.89\n"
     ]
    },
    {
     "name": "stderr",
     "output_type": "stream",
     "text": [
      "\r",
      " 48%|████▊     | 48/100 [09:33<10:22, 11.97s/it]"
     ]
    },
    {
     "name": "stdout",
     "output_type": "stream",
     "text": [
      "Epoch 48/100 - Train Loss: 0.1464, Train Acc: 0.95 - Test Loss: 0.3811, Test Acc: 0.89\n"
     ]
    },
    {
     "name": "stderr",
     "output_type": "stream",
     "text": [
      "\r",
      " 49%|████▉     | 49/100 [09:45<10:10, 11.97s/it]"
     ]
    },
    {
     "name": "stdout",
     "output_type": "stream",
     "text": [
      "Epoch 49/100 - Train Loss: 0.1381, Train Acc: 0.95 - Test Loss: 0.3694, Test Acc: 0.89\n"
     ]
    },
    {
     "name": "stderr",
     "output_type": "stream",
     "text": [
      "\r",
      " 50%|█████     | 50/100 [09:57<09:58, 11.96s/it]"
     ]
    },
    {
     "name": "stdout",
     "output_type": "stream",
     "text": [
      "Epoch 50/100 - Train Loss: 0.1374, Train Acc: 0.95 - Test Loss: 0.3709, Test Acc: 0.89\n"
     ]
    },
    {
     "name": "stderr",
     "output_type": "stream",
     "text": [
      "\r",
      " 51%|█████     | 51/100 [10:09<09:46, 11.96s/it]"
     ]
    },
    {
     "name": "stdout",
     "output_type": "stream",
     "text": [
      "Epoch 51/100 - Train Loss: 0.1341, Train Acc: 0.95 - Test Loss: 0.3750, Test Acc: 0.89\n"
     ]
    },
    {
     "name": "stderr",
     "output_type": "stream",
     "text": [
      "\r",
      " 52%|█████▏    | 52/100 [10:21<09:34, 11.97s/it]"
     ]
    },
    {
     "name": "stdout",
     "output_type": "stream",
     "text": [
      "Epoch 52/100 - Train Loss: 0.1361, Train Acc: 0.95 - Test Loss: 0.3681, Test Acc: 0.90\n"
     ]
    },
    {
     "name": "stderr",
     "output_type": "stream",
     "text": [
      "\r",
      " 53%|█████▎    | 53/100 [10:33<09:22, 11.96s/it]"
     ]
    },
    {
     "name": "stdout",
     "output_type": "stream",
     "text": [
      "Epoch 53/100 - Train Loss: 0.1368, Train Acc: 0.95 - Test Loss: 0.3707, Test Acc: 0.89\n"
     ]
    },
    {
     "name": "stderr",
     "output_type": "stream",
     "text": [
      "\r",
      " 54%|█████▍    | 54/100 [10:45<09:10, 11.96s/it]"
     ]
    },
    {
     "name": "stdout",
     "output_type": "stream",
     "text": [
      "Epoch 54/100 - Train Loss: 0.1318, Train Acc: 0.95 - Test Loss: 0.3661, Test Acc: 0.89\n"
     ]
    },
    {
     "name": "stderr",
     "output_type": "stream",
     "text": [
      "\r",
      " 55%|█████▌    | 55/100 [10:57<08:58, 11.96s/it]"
     ]
    },
    {
     "name": "stdout",
     "output_type": "stream",
     "text": [
      "Epoch 55/100 - Train Loss: 0.1322, Train Acc: 0.95 - Test Loss: 0.3695, Test Acc: 0.90\n"
     ]
    },
    {
     "name": "stderr",
     "output_type": "stream",
     "text": [
      "\r",
      " 56%|█████▌    | 56/100 [11:09<08:46, 11.96s/it]"
     ]
    },
    {
     "name": "stdout",
     "output_type": "stream",
     "text": [
      "Epoch 56/100 - Train Loss: 0.1354, Train Acc: 0.95 - Test Loss: 0.3767, Test Acc: 0.89\n"
     ]
    },
    {
     "name": "stderr",
     "output_type": "stream",
     "text": [
      "\r",
      " 57%|█████▋    | 57/100 [11:21<08:34, 11.96s/it]"
     ]
    },
    {
     "name": "stdout",
     "output_type": "stream",
     "text": [
      "Epoch 57/100 - Train Loss: 0.1331, Train Acc: 0.95 - Test Loss: 0.3670, Test Acc: 0.89\n"
     ]
    },
    {
     "name": "stderr",
     "output_type": "stream",
     "text": [
      "\r",
      " 58%|█████▊    | 58/100 [11:33<08:22, 11.96s/it]"
     ]
    },
    {
     "name": "stdout",
     "output_type": "stream",
     "text": [
      "Epoch 58/100 - Train Loss: 0.1315, Train Acc: 0.95 - Test Loss: 0.3833, Test Acc: 0.89\n"
     ]
    },
    {
     "name": "stderr",
     "output_type": "stream",
     "text": [
      "\r",
      " 59%|█████▉    | 59/100 [11:45<08:10, 11.95s/it]"
     ]
    },
    {
     "name": "stdout",
     "output_type": "stream",
     "text": [
      "Epoch 59/100 - Train Loss: 0.1307, Train Acc: 0.95 - Test Loss: 0.3661, Test Acc: 0.90\n"
     ]
    },
    {
     "name": "stderr",
     "output_type": "stream",
     "text": [
      "\r",
      " 60%|██████    | 60/100 [11:57<07:58, 11.95s/it]"
     ]
    },
    {
     "name": "stdout",
     "output_type": "stream",
     "text": [
      "Epoch 60/100 - Train Loss: 0.1278, Train Acc: 0.96 - Test Loss: 0.3653, Test Acc: 0.90\n"
     ]
    },
    {
     "name": "stderr",
     "output_type": "stream",
     "text": [
      "\r",
      " 61%|██████    | 61/100 [12:09<07:46, 11.95s/it]"
     ]
    },
    {
     "name": "stdout",
     "output_type": "stream",
     "text": [
      "Epoch 61/100 - Train Loss: 0.1314, Train Acc: 0.95 - Test Loss: 0.3678, Test Acc: 0.90\n"
     ]
    },
    {
     "name": "stderr",
     "output_type": "stream",
     "text": [
      "\r",
      " 62%|██████▏   | 62/100 [12:21<07:34, 11.97s/it]"
     ]
    },
    {
     "name": "stdout",
     "output_type": "stream",
     "text": [
      "Epoch 62/100 - Train Loss: 0.1278, Train Acc: 0.96 - Test Loss: 0.3755, Test Acc: 0.89\n"
     ]
    },
    {
     "name": "stderr",
     "output_type": "stream",
     "text": [
      "\r",
      " 63%|██████▎   | 63/100 [12:33<07:22, 11.96s/it]"
     ]
    },
    {
     "name": "stdout",
     "output_type": "stream",
     "text": [
      "Epoch 63/100 - Train Loss: 0.1278, Train Acc: 0.96 - Test Loss: 0.3696, Test Acc: 0.90\n"
     ]
    },
    {
     "name": "stderr",
     "output_type": "stream",
     "text": [
      "\r",
      " 64%|██████▍   | 64/100 [12:45<07:10, 11.96s/it]"
     ]
    },
    {
     "name": "stdout",
     "output_type": "stream",
     "text": [
      "Epoch 64/100 - Train Loss: 0.1234, Train Acc: 0.96 - Test Loss: 0.3739, Test Acc: 0.90\n"
     ]
    },
    {
     "name": "stderr",
     "output_type": "stream",
     "text": [
      "\r",
      " 65%|██████▌   | 65/100 [12:57<06:58, 11.96s/it]"
     ]
    },
    {
     "name": "stdout",
     "output_type": "stream",
     "text": [
      "Epoch 65/100 - Train Loss: 0.1281, Train Acc: 0.96 - Test Loss: 0.3749, Test Acc: 0.89\n"
     ]
    },
    {
     "name": "stderr",
     "output_type": "stream",
     "text": [
      "\r",
      " 66%|██████▌   | 66/100 [13:08<06:46, 11.95s/it]"
     ]
    },
    {
     "name": "stdout",
     "output_type": "stream",
     "text": [
      "Epoch 66/100 - Train Loss: 0.1248, Train Acc: 0.96 - Test Loss: 0.3732, Test Acc: 0.90\n"
     ]
    },
    {
     "name": "stderr",
     "output_type": "stream",
     "text": [
      "\r",
      " 67%|██████▋   | 67/100 [13:20<06:34, 11.95s/it]"
     ]
    },
    {
     "name": "stdout",
     "output_type": "stream",
     "text": [
      "Epoch 67/100 - Train Loss: 0.1244, Train Acc: 0.96 - Test Loss: 0.3715, Test Acc: 0.90\n"
     ]
    },
    {
     "name": "stderr",
     "output_type": "stream",
     "text": [
      "\r",
      " 68%|██████▊   | 68/100 [13:32<06:22, 11.94s/it]"
     ]
    },
    {
     "name": "stdout",
     "output_type": "stream",
     "text": [
      "Epoch 68/100 - Train Loss: 0.1215, Train Acc: 0.96 - Test Loss: 0.3742, Test Acc: 0.90\n"
     ]
    },
    {
     "name": "stderr",
     "output_type": "stream",
     "text": [
      "\r",
      " 69%|██████▉   | 69/100 [13:44<06:10, 11.94s/it]"
     ]
    },
    {
     "name": "stdout",
     "output_type": "stream",
     "text": [
      "Epoch 69/100 - Train Loss: 0.1228, Train Acc: 0.96 - Test Loss: 0.3763, Test Acc: 0.89\n"
     ]
    },
    {
     "name": "stderr",
     "output_type": "stream",
     "text": [
      "\r",
      " 70%|███████   | 70/100 [13:56<05:58, 11.95s/it]"
     ]
    },
    {
     "name": "stdout",
     "output_type": "stream",
     "text": [
      "Epoch 70/100 - Train Loss: 0.1216, Train Acc: 0.96 - Test Loss: 0.3871, Test Acc: 0.89\n"
     ]
    },
    {
     "name": "stderr",
     "output_type": "stream",
     "text": [
      "\r",
      " 71%|███████   | 71/100 [14:08<05:46, 11.95s/it]"
     ]
    },
    {
     "name": "stdout",
     "output_type": "stream",
     "text": [
      "Epoch 71/100 - Train Loss: 0.1187, Train Acc: 0.96 - Test Loss: 0.3847, Test Acc: 0.89\n"
     ]
    },
    {
     "name": "stderr",
     "output_type": "stream",
     "text": [
      "\r",
      " 72%|███████▏  | 72/100 [14:20<05:34, 11.94s/it]"
     ]
    },
    {
     "name": "stdout",
     "output_type": "stream",
     "text": [
      "Epoch 72/100 - Train Loss: 0.1187, Train Acc: 0.96 - Test Loss: 0.3770, Test Acc: 0.90\n"
     ]
    },
    {
     "name": "stderr",
     "output_type": "stream",
     "text": [
      "\r",
      " 73%|███████▎  | 73/100 [14:32<05:22, 11.95s/it]"
     ]
    },
    {
     "name": "stdout",
     "output_type": "stream",
     "text": [
      "Epoch 73/100 - Train Loss: 0.1210, Train Acc: 0.96 - Test Loss: 0.3825, Test Acc: 0.90\n"
     ]
    },
    {
     "name": "stderr",
     "output_type": "stream",
     "text": [
      "\r",
      " 74%|███████▍  | 74/100 [14:44<05:10, 11.95s/it]"
     ]
    },
    {
     "name": "stdout",
     "output_type": "stream",
     "text": [
      "Epoch 74/100 - Train Loss: 0.1192, Train Acc: 0.96 - Test Loss: 0.3755, Test Acc: 0.90\n"
     ]
    },
    {
     "name": "stderr",
     "output_type": "stream",
     "text": [
      "\r",
      " 75%|███████▌  | 75/100 [14:56<04:59, 11.96s/it]"
     ]
    },
    {
     "name": "stdout",
     "output_type": "stream",
     "text": [
      "Epoch 75/100 - Train Loss: 0.1205, Train Acc: 0.96 - Test Loss: 0.3775, Test Acc: 0.90\n"
     ]
    },
    {
     "name": "stderr",
     "output_type": "stream",
     "text": [
      "\r",
      " 76%|███████▌  | 76/100 [15:08<04:47, 11.98s/it]"
     ]
    },
    {
     "name": "stdout",
     "output_type": "stream",
     "text": [
      "Epoch 76/100 - Train Loss: 0.1199, Train Acc: 0.96 - Test Loss: 0.3757, Test Acc: 0.90\n"
     ]
    },
    {
     "name": "stderr",
     "output_type": "stream",
     "text": [
      "\r",
      " 77%|███████▋  | 77/100 [15:20<04:35, 12.00s/it]"
     ]
    },
    {
     "name": "stdout",
     "output_type": "stream",
     "text": [
      "Epoch 77/100 - Train Loss: 0.1170, Train Acc: 0.96 - Test Loss: 0.3810, Test Acc: 0.90\n"
     ]
    },
    {
     "name": "stderr",
     "output_type": "stream",
     "text": [
      "\r",
      " 78%|███████▊  | 78/100 [15:32<04:23, 11.99s/it]"
     ]
    },
    {
     "name": "stdout",
     "output_type": "stream",
     "text": [
      "Epoch 78/100 - Train Loss: 0.1135, Train Acc: 0.96 - Test Loss: 0.3825, Test Acc: 0.90\n"
     ]
    },
    {
     "name": "stderr",
     "output_type": "stream",
     "text": [
      "\r",
      " 79%|███████▉  | 79/100 [15:44<04:11, 11.98s/it]"
     ]
    },
    {
     "name": "stdout",
     "output_type": "stream",
     "text": [
      "Epoch 79/100 - Train Loss: 0.1153, Train Acc: 0.96 - Test Loss: 0.3843, Test Acc: 0.90\n"
     ]
    },
    {
     "name": "stderr",
     "output_type": "stream",
     "text": [
      "\r",
      " 80%|████████  | 80/100 [15:56<03:59, 11.99s/it]"
     ]
    },
    {
     "name": "stdout",
     "output_type": "stream",
     "text": [
      "Epoch 80/100 - Train Loss: 0.1161, Train Acc: 0.96 - Test Loss: 0.3782, Test Acc: 0.90\n"
     ]
    },
    {
     "name": "stderr",
     "output_type": "stream",
     "text": [
      "\r",
      " 81%|████████  | 81/100 [16:08<03:47, 11.98s/it]"
     ]
    },
    {
     "name": "stdout",
     "output_type": "stream",
     "text": [
      "Epoch 81/100 - Train Loss: 0.1140, Train Acc: 0.96 - Test Loss: 0.3854, Test Acc: 0.90\n"
     ]
    },
    {
     "name": "stderr",
     "output_type": "stream",
     "text": [
      "\r",
      " 82%|████████▏ | 82/100 [16:20<03:35, 11.99s/it]"
     ]
    },
    {
     "name": "stdout",
     "output_type": "stream",
     "text": [
      "Epoch 82/100 - Train Loss: 0.1132, Train Acc: 0.96 - Test Loss: 0.3801, Test Acc: 0.90\n"
     ]
    },
    {
     "name": "stderr",
     "output_type": "stream",
     "text": [
      "\r",
      " 83%|████████▎ | 83/100 [16:32<03:24, 12.02s/it]"
     ]
    },
    {
     "name": "stdout",
     "output_type": "stream",
     "text": [
      "Epoch 83/100 - Train Loss: 0.1133, Train Acc: 0.96 - Test Loss: 0.3792, Test Acc: 0.90\n"
     ]
    },
    {
     "name": "stderr",
     "output_type": "stream",
     "text": [
      "\r",
      " 84%|████████▍ | 84/100 [16:44<03:13, 12.07s/it]"
     ]
    },
    {
     "name": "stdout",
     "output_type": "stream",
     "text": [
      "Epoch 84/100 - Train Loss: 0.1162, Train Acc: 0.96 - Test Loss: 0.3801, Test Acc: 0.90\n"
     ]
    },
    {
     "name": "stderr",
     "output_type": "stream",
     "text": [
      "\r",
      " 85%|████████▌ | 85/100 [16:57<03:01, 12.12s/it]"
     ]
    },
    {
     "name": "stdout",
     "output_type": "stream",
     "text": [
      "Epoch 85/100 - Train Loss: 0.1125, Train Acc: 0.96 - Test Loss: 0.3832, Test Acc: 0.90\n"
     ]
    },
    {
     "name": "stderr",
     "output_type": "stream",
     "text": [
      "\r",
      " 86%|████████▌ | 86/100 [17:09<02:49, 12.12s/it]"
     ]
    },
    {
     "name": "stdout",
     "output_type": "stream",
     "text": [
      "Epoch 86/100 - Train Loss: 0.1123, Train Acc: 0.96 - Test Loss: 0.3873, Test Acc: 0.90\n"
     ]
    },
    {
     "name": "stderr",
     "output_type": "stream",
     "text": [
      "\r",
      " 87%|████████▋ | 87/100 [17:21<02:37, 12.11s/it]"
     ]
    },
    {
     "name": "stdout",
     "output_type": "stream",
     "text": [
      "Epoch 87/100 - Train Loss: 0.1107, Train Acc: 0.96 - Test Loss: 0.3907, Test Acc: 0.89\n"
     ]
    },
    {
     "name": "stderr",
     "output_type": "stream",
     "text": [
      "\r",
      " 88%|████████▊ | 88/100 [17:33<02:25, 12.11s/it]"
     ]
    },
    {
     "name": "stdout",
     "output_type": "stream",
     "text": [
      "Epoch 88/100 - Train Loss: 0.1121, Train Acc: 0.96 - Test Loss: 0.3793, Test Acc: 0.90\n"
     ]
    },
    {
     "name": "stderr",
     "output_type": "stream",
     "text": [
      "\r",
      " 89%|████████▉ | 89/100 [17:45<02:13, 12.10s/it]"
     ]
    },
    {
     "name": "stdout",
     "output_type": "stream",
     "text": [
      "Epoch 89/100 - Train Loss: 0.1097, Train Acc: 0.96 - Test Loss: 0.3849, Test Acc: 0.90\n"
     ]
    },
    {
     "name": "stderr",
     "output_type": "stream",
     "text": [
      "\r",
      " 90%|█████████ | 90/100 [17:57<02:01, 12.10s/it]"
     ]
    },
    {
     "name": "stdout",
     "output_type": "stream",
     "text": [
      "Epoch 90/100 - Train Loss: 0.1102, Train Acc: 0.96 - Test Loss: 0.3848, Test Acc: 0.90\n"
     ]
    },
    {
     "name": "stderr",
     "output_type": "stream",
     "text": [
      "\r",
      " 91%|█████████ | 91/100 [18:09<01:48, 12.10s/it]"
     ]
    },
    {
     "name": "stdout",
     "output_type": "stream",
     "text": [
      "Epoch 91/100 - Train Loss: 0.1086, Train Acc: 0.96 - Test Loss: 0.3896, Test Acc: 0.90\n"
     ]
    },
    {
     "name": "stderr",
     "output_type": "stream",
     "text": [
      "\r",
      " 92%|█████████▏| 92/100 [18:21<01:36, 12.10s/it]"
     ]
    },
    {
     "name": "stdout",
     "output_type": "stream",
     "text": [
      "Epoch 92/100 - Train Loss: 0.1118, Train Acc: 0.96 - Test Loss: 0.3899, Test Acc: 0.89\n"
     ]
    },
    {
     "name": "stderr",
     "output_type": "stream",
     "text": [
      "\r",
      " 93%|█████████▎| 93/100 [18:33<01:24, 12.10s/it]"
     ]
    },
    {
     "name": "stdout",
     "output_type": "stream",
     "text": [
      "Epoch 93/100 - Train Loss: 0.1099, Train Acc: 0.96 - Test Loss: 0.3876, Test Acc: 0.90\n"
     ]
    },
    {
     "name": "stderr",
     "output_type": "stream",
     "text": [
      "\r",
      " 94%|█████████▍| 94/100 [18:45<01:12, 12.11s/it]"
     ]
    },
    {
     "name": "stdout",
     "output_type": "stream",
     "text": [
      "Epoch 94/100 - Train Loss: 0.1082, Train Acc: 0.96 - Test Loss: 0.3873, Test Acc: 0.90\n"
     ]
    },
    {
     "name": "stderr",
     "output_type": "stream",
     "text": [
      "\r",
      " 95%|█████████▌| 95/100 [18:58<01:00, 12.11s/it]"
     ]
    },
    {
     "name": "stdout",
     "output_type": "stream",
     "text": [
      "Epoch 95/100 - Train Loss: 0.1101, Train Acc: 0.96 - Test Loss: 0.3923, Test Acc: 0.90\n"
     ]
    },
    {
     "name": "stderr",
     "output_type": "stream",
     "text": [
      "\r",
      " 96%|█████████▌| 96/100 [19:10<00:48, 12.11s/it]"
     ]
    },
    {
     "name": "stdout",
     "output_type": "stream",
     "text": [
      "Epoch 96/100 - Train Loss: 0.1099, Train Acc: 0.96 - Test Loss: 0.3910, Test Acc: 0.90\n"
     ]
    },
    {
     "name": "stderr",
     "output_type": "stream",
     "text": [
      "\r",
      " 97%|█████████▋| 97/100 [19:22<00:36, 12.08s/it]"
     ]
    },
    {
     "name": "stdout",
     "output_type": "stream",
     "text": [
      "Epoch 97/100 - Train Loss: 0.1050, Train Acc: 0.96 - Test Loss: 0.3985, Test Acc: 0.90\n"
     ]
    },
    {
     "name": "stderr",
     "output_type": "stream",
     "text": [
      "\r",
      " 98%|█████████▊| 98/100 [19:34<00:24, 12.07s/it]"
     ]
    },
    {
     "name": "stdout",
     "output_type": "stream",
     "text": [
      "Epoch 98/100 - Train Loss: 0.1059, Train Acc: 0.96 - Test Loss: 0.3978, Test Acc: 0.90\n"
     ]
    },
    {
     "name": "stderr",
     "output_type": "stream",
     "text": [
      "\r",
      " 99%|█████████▉| 99/100 [19:46<00:12, 12.06s/it]"
     ]
    },
    {
     "name": "stdout",
     "output_type": "stream",
     "text": [
      "Epoch 99/100 - Train Loss: 0.1075, Train Acc: 0.96 - Test Loss: 0.3928, Test Acc: 0.90\n"
     ]
    },
    {
     "name": "stderr",
     "output_type": "stream",
     "text": [
      "100%|██████████| 100/100 [19:58<00:00, 11.98s/it]"
     ]
    },
    {
     "name": "stdout",
     "output_type": "stream",
     "text": [
      "Epoch 100/100 - Train Loss: 0.1073, Train Acc: 0.96 - Test Loss: 0.3935, Test Acc: 0.90\n",
      "CPU times: user 19min 32s, sys: 1.96 s, total: 19min 34s\n",
      "Wall time: 19min 58s\n"
     ]
    },
    {
     "name": "stderr",
     "output_type": "stream",
     "text": [
      "\n"
     ]
    }
   ],
   "source": [
    "%%time\n",
    "\n",
    "# 10. Train the Best Model\n",
    "\n",
    "epochs = 100  # For CIFAR-10, can start w/ 50 and do add'l 50 retrain if needed OR just go full 100;\n",
    "\n",
    "optimizer = rs.best_params_[\"optimizer\"](model.parameters(), lr=rs.best_params_[\"lr\"])\n",
    "scheduler = torch.optim.lr_scheduler.ReduceLROnPlateau(optimizer, mode='min', factor=0.1, patience=7, min_lr=0.00001)\n",
    "loss_fn = nn.CrossEntropyLoss()\n",
    "accuracy_fn = Accuracy(task='multiclass', num_classes=10).to(device)\n",
    "\n",
    "\n",
    "for epoch in tqdm(range(epochs)):\n",
    "    train_loss, train_acc = train_step(\n",
    "        model, train_loader, loss_fn, optimizer, accuracy_fn, device)\n",
    "    test_loss, test_acc = test_step(\n",
    "        model, test_loader, loss_fn, accuracy_fn, device)\n",
    "    scheduler.step(test_loss)  # Update learning rate with test_loss\n",
    "    print(\n",
    "        f\"Epoch {epoch+1}/{epochs} - \"\n",
    "        f\"Train Loss: {train_loss:.4f}, Train Acc: {train_acc:.2f} - \"\n",
    "        f\"Test Loss: {test_loss:.4f}, Test Acc: {test_acc:.2f}\"\n",
    "    )"
   ]
  },
  {
   "cell_type": "code",
   "execution_count": null,
   "metadata": {
    "colab": {
     "base_uri": "https://localhost:8080/"
    },
    "id": "YopAuRn48LwF",
    "outputId": "25daba1a-7531-44d6-fe77-48def1da04b1"
   },
   "outputs": [
    {
     "data": {
      "text/plain": [
       "(0.9053264776357828, 0.8691653481012658)"
      ]
     },
     "execution_count": 19,
     "metadata": {},
     "output_type": "execute_result"
    }
   ],
   "source": [
    "# print best train & test acc's;\n",
    "# train_acc, test_acc"
   ]
  },
  {
   "cell_type": "code",
   "execution_count": 39,
   "metadata": {
    "colab": {
     "base_uri": "https://localhost:8080/"
    },
    "id": "Q-SO6GD5vLfD",
    "outputId": "b5a5a342-ed9c-47e5-ad4e-3e2661fb99c5"
   },
   "outputs": [
    {
     "data": {
      "text/plain": [
       "(0.961985822683706, 0.8961629746835443)"
      ]
     },
     "execution_count": 39,
     "metadata": {},
     "output_type": "execute_result"
    }
   ],
   "source": [
    "# print best train & test acc's;\n",
    "train_acc, test_acc"
   ]
  },
  {
   "cell_type": "code",
   "execution_count": 40,
   "metadata": {
    "colab": {
     "base_uri": "https://localhost:8080/"
    },
    "id": "K_fTvypK10FU",
    "outputId": "cd0a1bfc-981b-4780-ab5b-d7825e41f336"
   },
   "outputs": [
    {
     "data": {
      "text/plain": [
       "Cifar10CNN_v9(\n",
       "  (conv1): Conv2d(3, 128, kernel_size=(3, 3), stride=(1, 1), padding=(1, 1))\n",
       "  (bn1): BatchNorm2d(128, eps=1e-05, momentum=0.1, affine=True, track_running_stats=True)\n",
       "  (conv2): Conv2d(128, 256, kernel_size=(3, 3), stride=(1, 1), padding=(1, 1))\n",
       "  (bn2): BatchNorm2d(256, eps=1e-05, momentum=0.1, affine=True, track_running_stats=True)\n",
       "  (conv3): Conv2d(256, 512, kernel_size=(3, 3), stride=(1, 1), padding=(1, 1))\n",
       "  (bn3): BatchNorm2d(512, eps=1e-05, momentum=0.1, affine=True, track_running_stats=True)\n",
       "  (conv4): Conv2d(512, 1024, kernel_size=(3, 3), stride=(1, 1), padding=(1, 1))\n",
       "  (bn4): BatchNorm2d(1024, eps=1e-05, momentum=0.1, affine=True, track_running_stats=True)\n",
       "  (global_avgpool): AdaptiveAvgPool2d(output_size=1)\n",
       "  (fc1): Linear(in_features=1024, out_features=512, bias=True)\n",
       "  (fc2): Linear(in_features=512, out_features=256, bias=True)\n",
       "  (fc_out): Linear(in_features=256, out_features=10, bias=True)\n",
       "  (dropout): Dropout(p=0.3, inplace=False)\n",
       ")"
      ]
     },
     "execution_count": 40,
     "metadata": {},
     "output_type": "execute_result"
    }
   ],
   "source": [
    "# ---------------------------------------------------------\n",
    "# 11: [UPDATED] Eval Mode for Final Predix, Metrics on Best & Fully Trained Model\n",
    "# ---------------------------------------------------------\n",
    "\n",
    "# 11a. Final evaluation on test set with sklearn metrics\n",
    "model.eval()\n",
    "all_preds = []\n",
    "all_labels = []\n",
    "\n",
    "with torch.no_grad():\n",
    "    for X, y in test_loader:\n",
    "        X, y = X.to(device), y.to(device)\n",
    "        X = test_transform_batch(X)   # normalize just like during training\n",
    "        y_pred = model(X)\n",
    "        all_preds.extend(y_pred.argmax(dim=1).cpu().numpy())\n",
    "        all_labels.extend(y.cpu().numpy())"
   ]
  },
  {
   "cell_type": "code",
   "execution_count": 41,
   "metadata": {
    "colab": {
     "base_uri": "https://localhost:8080/"
    },
    "id": "AqYiCiLa76IW",
    "outputId": "65357e51-03db-405d-8f06-cbe05bf449ec"
   },
   "outputs": [
    {
     "name": "stdout",
     "output_type": "stream",
     "text": [
      "\n",
      " Final Evaluation with Sklearn Metrics\n",
      "Accuracy: 0.8957\n",
      "\n",
      "Confusion Matrix:\n",
      " [[923   6  26  10   5   2   2   2  13  11]\n",
      " [  9 949   0   1   0   0   5   0   9  27]\n",
      " [ 27   1 875  20  18  20  25  13   0   1]\n",
      " [ 15   1  36 783  17  92  32  14   7   3]\n",
      " [  8   1  20  25 884  21  15  24   0   2]\n",
      " [  7   0  18 109  26 813  12  13   2   0]\n",
      " [  6   1  23  14   4  11 938   0   2   1]\n",
      " [ 11   1  11  21  14  15   2 920   1   4]\n",
      " [ 25   3   6   6   0   2   3   0 947   8]\n",
      " [ 16  26   3   6   0   2   4   3  15 925]]\n",
      "\n",
      "Classification Report:\n",
      "               precision    recall  f1-score   support\n",
      "\n",
      "           0       0.88      0.92      0.90      1000\n",
      "           1       0.96      0.95      0.95      1000\n",
      "           2       0.86      0.88      0.87      1000\n",
      "           3       0.79      0.78      0.78      1000\n",
      "           4       0.91      0.88      0.90      1000\n",
      "           5       0.83      0.81      0.82      1000\n",
      "           6       0.90      0.94      0.92      1000\n",
      "           7       0.93      0.92      0.93      1000\n",
      "           8       0.95      0.95      0.95      1000\n",
      "           9       0.94      0.93      0.93      1000\n",
      "\n",
      "    accuracy                           0.90     10000\n",
      "   macro avg       0.90      0.90      0.90     10000\n",
      "weighted avg       0.90      0.90      0.90     10000\n",
      "\n"
     ]
    }
   ],
   "source": [
    "# 11b. Compute metrics\n",
    "\n",
    "print(\"\\n Final Evaluation with Sklearn Metrics\")\n",
    "print(\"Accuracy:\", accuracy_score(all_labels, all_preds))\n",
    "print(\"\\nConfusion Matrix:\\n\", confusion_matrix(all_labels, all_preds))\n",
    "print(\"\\nClassification Report:\\n\", classification_report(all_labels, all_preds))"
   ]
  },
  {
   "cell_type": "code",
   "execution_count": 43,
   "metadata": {
    "colab": {
     "base_uri": "https://localhost:8080/",
     "height": 898
    },
    "id": "6bmhbuzTHddm",
    "outputId": "8396e715-7792-470a-ecaf-3f8dab5d417b"
   },
   "outputs": [
    {
     "data": {
      "image/png": "[encoded data removed]",
      "text/plain": [
       "<Figure size 1200x1000 with 2 Axes>"
      ]
     },
     "metadata": {},
     "output_type": "display_data"
    }
   ],
   "source": [
    "# ---------------------------------------------------------\n",
    "# 12. Final Confusion Matrix for Best & Fully Trained Model\n",
    "# ---------------------------------------------------------\n",
    "\n",
    "fig, ax = plt.subplots(figsize=(12, 10))\n",
    "\n",
    "# disp = ConfusionMatrixDisplay.from_predictions(\n",
    "#     all_labels, all_preds\n",
    "#     , display_labels=dataset.classes\n",
    "#     , normalize='true'\n",
    "# )\n",
    "\n",
    "disp.plot(ax=ax, cmap=\"Blues\", xticks_rotation=45)\n",
    "plt.title(\"Confusion Matrix for CIFAR-10 - Final Model\")\n",
    "plt.show();"
   ]
  },
  {
   "cell_type": "code",
   "execution_count": 44,
   "metadata": {
    "colab": {
     "base_uri": "https://localhost:8080/"
    },
    "id": "Df3mBJdu-A9O",
    "outputId": "a3e6ca0d-ba8f-499a-a027-83bb1cdfd09b"
   },
   "outputs": [
    {
     "data": {
      "text/plain": [
       "Cifar10CNN_v9(\n",
       "  (conv1): Conv2d(3, 128, kernel_size=(3, 3), stride=(1, 1), padding=(1, 1))\n",
       "  (bn1): BatchNorm2d(128, eps=1e-05, momentum=0.1, affine=True, track_running_stats=True)\n",
       "  (conv2): Conv2d(128, 256, kernel_size=(3, 3), stride=(1, 1), padding=(1, 1))\n",
       "  (bn2): BatchNorm2d(256, eps=1e-05, momentum=0.1, affine=True, track_running_stats=True)\n",
       "  (conv3): Conv2d(256, 512, kernel_size=(3, 3), stride=(1, 1), padding=(1, 1))\n",
       "  (bn3): BatchNorm2d(512, eps=1e-05, momentum=0.1, affine=True, track_running_stats=True)\n",
       "  (conv4): Conv2d(512, 1024, kernel_size=(3, 3), stride=(1, 1), padding=(1, 1))\n",
       "  (bn4): BatchNorm2d(1024, eps=1e-05, momentum=0.1, affine=True, track_running_stats=True)\n",
       "  (global_avgpool): AdaptiveAvgPool2d(output_size=1)\n",
       "  (fc1): Linear(in_features=1024, out_features=512, bias=True)\n",
       "  (fc2): Linear(in_features=512, out_features=256, bias=True)\n",
       "  (fc_out): Linear(in_features=256, out_features=10, bias=True)\n",
       "  (dropout): Dropout(p=0.3, inplace=False)\n",
       ")"
      ]
     },
     "execution_count": 44,
     "metadata": {},
     "output_type": "execute_result"
    }
   ],
   "source": [
    "model"
   ]
  },
  {
   "cell_type": "code",
   "execution_count": 45,
   "metadata": {
    "colab": {
     "base_uri": "https://localhost:8080/"
    },
    "id": "ndKboQiN926p",
    "outputId": "88ef65bf-3daf-47d1-9a6c-982c8f312770"
   },
   "outputs": [
    {
     "name": "stdout",
     "output_type": "stream",
     "text": [
      "Model saved to Cifar10CNN_v9_best_100_epochs.pth\n"
     ]
    }
   ],
   "source": [
    "# Save both model weights and optimizer state\n",
    "torch.save({\n",
    "    'epoch': epochs\n",
    "    , 'model_state_dict': model.state_dict()\n",
    "    , 'optimizer_state_dict': optimizer.state_dict()\n",
    "    , 'loss': loss_fn  # optional\n",
    "}, \"Cifar10CNN_v9_best_100_epochs.pth\")\n",
    "\n",
    "print(\"Model saved to Cifar10CNN_v9_best_100_epochs.pth\")"
   ]
  },
  {
   "cell_type": "code",
   "execution_count": 48,
   "metadata": {
    "colab": {
     "base_uri": "https://localhost:8080/"
    },
    "id": "MmnIF7T0Hdir",
    "outputId": "0a6d92cd-7eee-4dc3-9c89-599081a6733a"
   },
   "outputs": [
    {
     "name": "stderr",
     "output_type": "stream",
     "text": [
      "  1%|          | 1/100 [00:11<18:59, 11.51s/it]"
     ]
    },
    {
     "name": "stdout",
     "output_type": "stream",
     "text": [
      "Epoch 1/100 - Train Loss: 0.1060, Train Acc: 0.9631 - Test Loss: 0.3893, Test Acc: 0.8970\n"
     ]
    },
    {
     "name": "stderr",
     "output_type": "stream",
     "text": [
      "\r",
      "  2%|▏         | 2/100 [00:23<18:47, 11.51s/it]"
     ]
    },
    {
     "name": "stdout",
     "output_type": "stream",
     "text": [
      "Epoch 2/100 - Train Loss: 0.1031, Train Acc: 0.9637 - Test Loss: 0.3911, Test Acc: 0.8975\n"
     ]
    },
    {
     "name": "stderr",
     "output_type": "stream",
     "text": [
      "\r",
      "  3%|▎         | 3/100 [00:34<18:41, 11.56s/it]"
     ]
    },
    {
     "name": "stdout",
     "output_type": "stream",
     "text": [
      "Epoch 3/100 - Train Loss: 0.1056, Train Acc: 0.9628 - Test Loss: 0.4016, Test Acc: 0.8968\n"
     ]
    },
    {
     "name": "stderr",
     "output_type": "stream",
     "text": [
      "\r",
      "  4%|▍         | 4/100 [00:46<18:34, 11.61s/it]"
     ]
    },
    {
     "name": "stdout",
     "output_type": "stream",
     "text": [
      "Epoch 4/100 - Train Loss: 0.1028, Train Acc: 0.9641 - Test Loss: 0.3937, Test Acc: 0.8970\n"
     ]
    },
    {
     "name": "stderr",
     "output_type": "stream",
     "text": [
      "\r",
      "  5%|▌         | 5/100 [00:57<18:23, 11.61s/it]"
     ]
    },
    {
     "name": "stdout",
     "output_type": "stream",
     "text": [
      "Epoch 5/100 - Train Loss: 0.1023, Train Acc: 0.9647 - Test Loss: 0.3932, Test Acc: 0.8961\n"
     ]
    },
    {
     "name": "stderr",
     "output_type": "stream",
     "text": [
      "\r",
      "  6%|▌         | 6/100 [01:10<18:35, 11.86s/it]"
     ]
    },
    {
     "name": "stdout",
     "output_type": "stream",
     "text": [
      "Epoch 6/100 - Train Loss: 0.1009, Train Acc: 0.9651 - Test Loss: 0.4024, Test Acc: 0.8944\n"
     ]
    },
    {
     "name": "stderr",
     "output_type": "stream",
     "text": [
      "\r",
      "  7%|▋         | 7/100 [01:21<18:18, 11.81s/it]"
     ]
    },
    {
     "name": "stdout",
     "output_type": "stream",
     "text": [
      "Epoch 7/100 - Train Loss: 0.1018, Train Acc: 0.9636 - Test Loss: 0.3977, Test Acc: 0.8967\n"
     ]
    },
    {
     "name": "stderr",
     "output_type": "stream",
     "text": [
      "\r",
      "  8%|▊         | 8/100 [01:33<18:06, 11.81s/it]"
     ]
    },
    {
     "name": "stdout",
     "output_type": "stream",
     "text": [
      "Epoch 8/100 - Train Loss: 0.1021, Train Acc: 0.9636 - Test Loss: 0.3960, Test Acc: 0.8972\n"
     ]
    },
    {
     "name": "stderr",
     "output_type": "stream",
     "text": [
      "\r",
      "  9%|▉         | 9/100 [01:45<17:52, 11.79s/it]"
     ]
    },
    {
     "name": "stdout",
     "output_type": "stream",
     "text": [
      "Epoch 9/100 - Train Loss: 0.1020, Train Acc: 0.9639 - Test Loss: 0.4006, Test Acc: 0.8966\n"
     ]
    },
    {
     "name": "stderr",
     "output_type": "stream",
     "text": [
      "\r",
      " 10%|█         | 10/100 [01:57<17:39, 11.77s/it]"
     ]
    },
    {
     "name": "stdout",
     "output_type": "stream",
     "text": [
      "Epoch 10/100 - Train Loss: 0.0977, Train Acc: 0.9659 - Test Loss: 0.3965, Test Acc: 0.8962\n"
     ]
    },
    {
     "name": "stderr",
     "output_type": "stream",
     "text": [
      "\r",
      " 11%|█         | 11/100 [02:09<17:27, 11.77s/it]"
     ]
    },
    {
     "name": "stdout",
     "output_type": "stream",
     "text": [
      "Epoch 11/100 - Train Loss: 0.0993, Train Acc: 0.9652 - Test Loss: 0.4000, Test Acc: 0.8967\n"
     ]
    },
    {
     "name": "stderr",
     "output_type": "stream",
     "text": [
      "\r",
      " 12%|█▏        | 12/100 [02:20<17:15, 11.77s/it]"
     ]
    },
    {
     "name": "stdout",
     "output_type": "stream",
     "text": [
      "Epoch 12/100 - Train Loss: 0.1002, Train Acc: 0.9649 - Test Loss: 0.3967, Test Acc: 0.8966\n"
     ]
    },
    {
     "name": "stderr",
     "output_type": "stream",
     "text": [
      "\r",
      " 13%|█▎        | 13/100 [02:32<17:04, 11.78s/it]"
     ]
    },
    {
     "name": "stdout",
     "output_type": "stream",
     "text": [
      "Epoch 13/100 - Train Loss: 0.0964, Train Acc: 0.9656 - Test Loss: 0.4058, Test Acc: 0.8965\n"
     ]
    },
    {
     "name": "stderr",
     "output_type": "stream",
     "text": [
      "\r",
      " 14%|█▍        | 14/100 [02:44<16:54, 11.79s/it]"
     ]
    },
    {
     "name": "stdout",
     "output_type": "stream",
     "text": [
      "Epoch 14/100 - Train Loss: 0.0999, Train Acc: 0.9645 - Test Loss: 0.4056, Test Acc: 0.8975\n"
     ]
    },
    {
     "name": "stderr",
     "output_type": "stream",
     "text": [
      "\r",
      " 15%|█▌        | 15/100 [02:56<16:43, 11.81s/it]"
     ]
    },
    {
     "name": "stdout",
     "output_type": "stream",
     "text": [
      "Epoch 15/100 - Train Loss: 0.1007, Train Acc: 0.9646 - Test Loss: 0.4038, Test Acc: 0.8969\n"
     ]
    },
    {
     "name": "stderr",
     "output_type": "stream",
     "text": [
      "\r",
      " 16%|█▌        | 16/100 [03:08<16:34, 11.84s/it]"
     ]
    },
    {
     "name": "stdout",
     "output_type": "stream",
     "text": [
      "Epoch 16/100 - Train Loss: 0.0991, Train Acc: 0.9653 - Test Loss: 0.3940, Test Acc: 0.8986\n"
     ]
    },
    {
     "name": "stderr",
     "output_type": "stream",
     "text": [
      "\r",
      " 17%|█▋        | 17/100 [03:20<16:23, 11.85s/it]"
     ]
    },
    {
     "name": "stdout",
     "output_type": "stream",
     "text": [
      "Epoch 17/100 - Train Loss: 0.0984, Train Acc: 0.9639 - Test Loss: 0.4024, Test Acc: 0.8955\n"
     ]
    },
    {
     "name": "stderr",
     "output_type": "stream",
     "text": [
      "\r",
      " 18%|█▊        | 18/100 [03:31<16:12, 11.86s/it]"
     ]
    },
    {
     "name": "stdout",
     "output_type": "stream",
     "text": [
      "Epoch 18/100 - Train Loss: 0.0959, Train Acc: 0.9653 - Test Loss: 0.4058, Test Acc: 0.8971\n"
     ]
    },
    {
     "name": "stderr",
     "output_type": "stream",
     "text": [
      "\r",
      " 19%|█▉        | 19/100 [03:43<16:01, 11.87s/it]"
     ]
    },
    {
     "name": "stdout",
     "output_type": "stream",
     "text": [
      "Epoch 19/100 - Train Loss: 0.0964, Train Acc: 0.9652 - Test Loss: 0.4081, Test Acc: 0.8967\n"
     ]
    },
    {
     "name": "stderr",
     "output_type": "stream",
     "text": [
      "\r",
      " 20%|██        | 20/100 [03:55<15:50, 11.89s/it]"
     ]
    },
    {
     "name": "stdout",
     "output_type": "stream",
     "text": [
      "Epoch 20/100 - Train Loss: 0.0989, Train Acc: 0.9649 - Test Loss: 0.4014, Test Acc: 0.8952\n"
     ]
    },
    {
     "name": "stderr",
     "output_type": "stream",
     "text": [
      "\r",
      " 21%|██        | 21/100 [04:07<15:39, 11.89s/it]"
     ]
    },
    {
     "name": "stdout",
     "output_type": "stream",
     "text": [
      "Epoch 21/100 - Train Loss: 0.0948, Train Acc: 0.9657 - Test Loss: 0.4049, Test Acc: 0.8976\n"
     ]
    },
    {
     "name": "stderr",
     "output_type": "stream",
     "text": [
      "\r",
      " 22%|██▏       | 22/100 [04:19<15:27, 11.89s/it]"
     ]
    },
    {
     "name": "stdout",
     "output_type": "stream",
     "text": [
      "Epoch 22/100 - Train Loss: 0.0918, Train Acc: 0.9673 - Test Loss: 0.4074, Test Acc: 0.8963\n"
     ]
    },
    {
     "name": "stderr",
     "output_type": "stream",
     "text": [
      "\r",
      " 23%|██▎       | 23/100 [04:31<15:16, 11.90s/it]"
     ]
    },
    {
     "name": "stdout",
     "output_type": "stream",
     "text": [
      "Epoch 23/100 - Train Loss: 0.0935, Train Acc: 0.9668 - Test Loss: 0.4111, Test Acc: 0.8971\n"
     ]
    },
    {
     "name": "stderr",
     "output_type": "stream",
     "text": [
      "\r",
      " 24%|██▍       | 24/100 [04:43<15:04, 11.90s/it]"
     ]
    },
    {
     "name": "stdout",
     "output_type": "stream",
     "text": [
      "Epoch 24/100 - Train Loss: 0.0954, Train Acc: 0.9659 - Test Loss: 0.4176, Test Acc: 0.8949\n"
     ]
    },
    {
     "name": "stderr",
     "output_type": "stream",
     "text": [
      "\r",
      " 25%|██▌       | 25/100 [04:55<14:53, 11.91s/it]"
     ]
    },
    {
     "name": "stdout",
     "output_type": "stream",
     "text": [
      "Epoch 25/100 - Train Loss: 0.0937, Train Acc: 0.9675 - Test Loss: 0.4086, Test Acc: 0.8966\n"
     ]
    },
    {
     "name": "stderr",
     "output_type": "stream",
     "text": [
      "\r",
      " 26%|██▌       | 26/100 [05:07<14:41, 11.91s/it]"
     ]
    },
    {
     "name": "stdout",
     "output_type": "stream",
     "text": [
      "Epoch 26/100 - Train Loss: 0.0919, Train Acc: 0.9677 - Test Loss: 0.4101, Test Acc: 0.8973\n"
     ]
    },
    {
     "name": "stderr",
     "output_type": "stream",
     "text": [
      "\r",
      " 27%|██▋       | 27/100 [05:19<14:29, 11.92s/it]"
     ]
    },
    {
     "name": "stdout",
     "output_type": "stream",
     "text": [
      "Epoch 27/100 - Train Loss: 0.0946, Train Acc: 0.9655 - Test Loss: 0.4106, Test Acc: 0.8972\n"
     ]
    },
    {
     "name": "stderr",
     "output_type": "stream",
     "text": [
      "\r",
      " 28%|██▊       | 28/100 [05:31<14:18, 11.92s/it]"
     ]
    },
    {
     "name": "stdout",
     "output_type": "stream",
     "text": [
      "Epoch 28/100 - Train Loss: 0.0959, Train Acc: 0.9671 - Test Loss: 0.4184, Test Acc: 0.8960\n"
     ]
    },
    {
     "name": "stderr",
     "output_type": "stream",
     "text": [
      "\r",
      " 29%|██▉       | 29/100 [05:43<14:06, 11.92s/it]"
     ]
    },
    {
     "name": "stdout",
     "output_type": "stream",
     "text": [
      "Epoch 29/100 - Train Loss: 0.0964, Train Acc: 0.9649 - Test Loss: 0.4070, Test Acc: 0.8959\n"
     ]
    },
    {
     "name": "stderr",
     "output_type": "stream",
     "text": [
      "\r",
      " 30%|███       | 30/100 [05:54<13:54, 11.92s/it]"
     ]
    },
    {
     "name": "stdout",
     "output_type": "stream",
     "text": [
      "Epoch 30/100 - Train Loss: 0.0931, Train Acc: 0.9660 - Test Loss: 0.4028, Test Acc: 0.8973\n"
     ]
    },
    {
     "name": "stderr",
     "output_type": "stream",
     "text": [
      "\r",
      " 31%|███       | 31/100 [06:06<13:42, 11.92s/it]"
     ]
    },
    {
     "name": "stdout",
     "output_type": "stream",
     "text": [
      "Epoch 31/100 - Train Loss: 0.0926, Train Acc: 0.9663 - Test Loss: 0.4099, Test Acc: 0.8982\n"
     ]
    },
    {
     "name": "stderr",
     "output_type": "stream",
     "text": [
      "\r",
      " 32%|███▏      | 32/100 [06:18<13:30, 11.92s/it]"
     ]
    },
    {
     "name": "stdout",
     "output_type": "stream",
     "text": [
      "Epoch 32/100 - Train Loss: 0.0884, Train Acc: 0.9693 - Test Loss: 0.4072, Test Acc: 0.8976\n"
     ]
    },
    {
     "name": "stderr",
     "output_type": "stream",
     "text": [
      "\r",
      " 33%|███▎      | 33/100 [06:30<13:18, 11.92s/it]"
     ]
    },
    {
     "name": "stdout",
     "output_type": "stream",
     "text": [
      "Epoch 33/100 - Train Loss: 0.0869, Train Acc: 0.9688 - Test Loss: 0.4108, Test Acc: 0.8978\n"
     ]
    },
    {
     "name": "stderr",
     "output_type": "stream",
     "text": [
      "\r",
      " 34%|███▍      | 34/100 [06:42<13:06, 11.92s/it]"
     ]
    },
    {
     "name": "stdout",
     "output_type": "stream",
     "text": [
      "Epoch 34/100 - Train Loss: 0.0901, Train Acc: 0.9680 - Test Loss: 0.4146, Test Acc: 0.8966\n"
     ]
    },
    {
     "name": "stderr",
     "output_type": "stream",
     "text": [
      "\r",
      " 35%|███▌      | 35/100 [06:54<12:55, 11.93s/it]"
     ]
    },
    {
     "name": "stdout",
     "output_type": "stream",
     "text": [
      "Epoch 35/100 - Train Loss: 0.0920, Train Acc: 0.9678 - Test Loss: 0.4069, Test Acc: 0.8967\n"
     ]
    },
    {
     "name": "stderr",
     "output_type": "stream",
     "text": [
      "\r",
      " 36%|███▌      | 36/100 [07:06<12:43, 11.93s/it]"
     ]
    },
    {
     "name": "stdout",
     "output_type": "stream",
     "text": [
      "Epoch 36/100 - Train Loss: 0.0913, Train Acc: 0.9679 - Test Loss: 0.4159, Test Acc: 0.8986\n"
     ]
    },
    {
     "name": "stderr",
     "output_type": "stream",
     "text": [
      "\r",
      " 37%|███▋      | 37/100 [07:18<12:31, 11.93s/it]"
     ]
    },
    {
     "name": "stdout",
     "output_type": "stream",
     "text": [
      "Epoch 37/100 - Train Loss: 0.0868, Train Acc: 0.9693 - Test Loss: 0.4177, Test Acc: 0.8966\n"
     ]
    },
    {
     "name": "stderr",
     "output_type": "stream",
     "text": [
      "\r",
      " 38%|███▊      | 38/100 [07:30<12:19, 11.93s/it]"
     ]
    },
    {
     "name": "stdout",
     "output_type": "stream",
     "text": [
      "Epoch 38/100 - Train Loss: 0.0856, Train Acc: 0.9692 - Test Loss: 0.4206, Test Acc: 0.8957\n"
     ]
    },
    {
     "name": "stderr",
     "output_type": "stream",
     "text": [
      "\r",
      " 39%|███▉      | 39/100 [07:42<12:07, 11.93s/it]"
     ]
    },
    {
     "name": "stdout",
     "output_type": "stream",
     "text": [
      "Epoch 39/100 - Train Loss: 0.0883, Train Acc: 0.9693 - Test Loss: 0.4156, Test Acc: 0.8971\n"
     ]
    },
    {
     "name": "stderr",
     "output_type": "stream",
     "text": [
      "\r",
      " 40%|████      | 40/100 [07:54<11:56, 11.94s/it]"
     ]
    },
    {
     "name": "stdout",
     "output_type": "stream",
     "text": [
      "Epoch 40/100 - Train Loss: 0.0886, Train Acc: 0.9698 - Test Loss: 0.4165, Test Acc: 0.8979\n"
     ]
    },
    {
     "name": "stderr",
     "output_type": "stream",
     "text": [
      "\r",
      " 41%|████      | 41/100 [08:06<11:43, 11.93s/it]"
     ]
    },
    {
     "name": "stdout",
     "output_type": "stream",
     "text": [
      "Epoch 41/100 - Train Loss: 0.0891, Train Acc: 0.9689 - Test Loss: 0.4045, Test Acc: 0.8985\n"
     ]
    },
    {
     "name": "stderr",
     "output_type": "stream",
     "text": [
      "\r",
      " 42%|████▏     | 42/100 [08:18<11:31, 11.93s/it]"
     ]
    },
    {
     "name": "stdout",
     "output_type": "stream",
     "text": [
      "Epoch 42/100 - Train Loss: 0.0865, Train Acc: 0.9696 - Test Loss: 0.4177, Test Acc: 0.8973\n"
     ]
    },
    {
     "name": "stderr",
     "output_type": "stream",
     "text": [
      "\r",
      " 43%|████▎     | 43/100 [08:29<11:19, 11.93s/it]"
     ]
    },
    {
     "name": "stdout",
     "output_type": "stream",
     "text": [
      "Epoch 43/100 - Train Loss: 0.0886, Train Acc: 0.9682 - Test Loss: 0.4164, Test Acc: 0.8970\n"
     ]
    },
    {
     "name": "stderr",
     "output_type": "stream",
     "text": [
      "\r",
      " 44%|████▍     | 44/100 [08:41<11:08, 11.93s/it]"
     ]
    },
    {
     "name": "stdout",
     "output_type": "stream",
     "text": [
      "Epoch 44/100 - Train Loss: 0.0868, Train Acc: 0.9684 - Test Loss: 0.4240, Test Acc: 0.8959\n"
     ]
    },
    {
     "name": "stderr",
     "output_type": "stream",
     "text": [
      "\r",
      " 45%|████▌     | 45/100 [08:53<10:56, 11.94s/it]"
     ]
    },
    {
     "name": "stdout",
     "output_type": "stream",
     "text": [
      "Epoch 45/100 - Train Loss: 0.0887, Train Acc: 0.9688 - Test Loss: 0.4129, Test Acc: 0.8967\n"
     ]
    },
    {
     "name": "stderr",
     "output_type": "stream",
     "text": [
      "\r",
      " 46%|████▌     | 46/100 [09:05<10:45, 11.94s/it]"
     ]
    },
    {
     "name": "stdout",
     "output_type": "stream",
     "text": [
      "Epoch 46/100 - Train Loss: 0.0833, Train Acc: 0.9692 - Test Loss: 0.4213, Test Acc: 0.8963\n"
     ]
    },
    {
     "name": "stderr",
     "output_type": "stream",
     "text": [
      "\r",
      " 47%|████▋     | 47/100 [09:17<10:33, 11.95s/it]"
     ]
    },
    {
     "name": "stdout",
     "output_type": "stream",
     "text": [
      "Epoch 47/100 - Train Loss: 0.0842, Train Acc: 0.9698 - Test Loss: 0.4178, Test Acc: 0.8979\n"
     ]
    },
    {
     "name": "stderr",
     "output_type": "stream",
     "text": [
      "\r",
      " 48%|████▊     | 48/100 [09:29<10:21, 11.95s/it]"
     ]
    },
    {
     "name": "stdout",
     "output_type": "stream",
     "text": [
      "Epoch 48/100 - Train Loss: 0.0834, Train Acc: 0.9703 - Test Loss: 0.4185, Test Acc: 0.8983\n"
     ]
    },
    {
     "name": "stderr",
     "output_type": "stream",
     "text": [
      "\r",
      " 49%|████▉     | 49/100 [09:41<10:09, 11.95s/it]"
     ]
    },
    {
     "name": "stdout",
     "output_type": "stream",
     "text": [
      "Epoch 49/100 - Train Loss: 0.0878, Train Acc: 0.9693 - Test Loss: 0.4113, Test Acc: 0.8983\n"
     ]
    },
    {
     "name": "stderr",
     "output_type": "stream",
     "text": [
      "\r",
      " 50%|█████     | 50/100 [09:53<09:57, 11.94s/it]"
     ]
    },
    {
     "name": "stdout",
     "output_type": "stream",
     "text": [
      "Epoch 50/100 - Train Loss: 0.0867, Train Acc: 0.9700 - Test Loss: 0.4289, Test Acc: 0.8963\n"
     ]
    },
    {
     "name": "stderr",
     "output_type": "stream",
     "text": [
      "\r",
      " 51%|█████     | 51/100 [10:05<09:45, 11.94s/it]"
     ]
    },
    {
     "name": "stdout",
     "output_type": "stream",
     "text": [
      "Epoch 51/100 - Train Loss: 0.0821, Train Acc: 0.9705 - Test Loss: 0.4181, Test Acc: 0.8973\n"
     ]
    },
    {
     "name": "stderr",
     "output_type": "stream",
     "text": [
      "\r",
      " 52%|█████▏    | 52/100 [10:17<09:33, 11.94s/it]"
     ]
    },
    {
     "name": "stdout",
     "output_type": "stream",
     "text": [
      "Epoch 52/100 - Train Loss: 0.0831, Train Acc: 0.9702 - Test Loss: 0.4179, Test Acc: 0.8984\n"
     ]
    },
    {
     "name": "stderr",
     "output_type": "stream",
     "text": [
      "\r",
      " 53%|█████▎    | 53/100 [10:29<09:21, 11.95s/it]"
     ]
    },
    {
     "name": "stdout",
     "output_type": "stream",
     "text": [
      "Epoch 53/100 - Train Loss: 0.0827, Train Acc: 0.9703 - Test Loss: 0.4212, Test Acc: 0.8970\n"
     ]
    },
    {
     "name": "stderr",
     "output_type": "stream",
     "text": [
      "\r",
      " 54%|█████▍    | 54/100 [10:41<09:09, 11.95s/it]"
     ]
    },
    {
     "name": "stdout",
     "output_type": "stream",
     "text": [
      "Epoch 54/100 - Train Loss: 0.0842, Train Acc: 0.9701 - Test Loss: 0.4270, Test Acc: 0.8960\n"
     ]
    },
    {
     "name": "stderr",
     "output_type": "stream",
     "text": [
      "\r",
      " 55%|█████▌    | 55/100 [10:53<08:57, 11.95s/it]"
     ]
    },
    {
     "name": "stdout",
     "output_type": "stream",
     "text": [
      "Epoch 55/100 - Train Loss: 0.0830, Train Acc: 0.9688 - Test Loss: 0.4138, Test Acc: 0.8991\n"
     ]
    },
    {
     "name": "stderr",
     "output_type": "stream",
     "text": [
      "\r",
      " 56%|█████▌    | 56/100 [11:05<08:46, 11.96s/it]"
     ]
    },
    {
     "name": "stdout",
     "output_type": "stream",
     "text": [
      "Epoch 56/100 - Train Loss: 0.0804, Train Acc: 0.9712 - Test Loss: 0.4244, Test Acc: 0.8962\n"
     ]
    },
    {
     "name": "stderr",
     "output_type": "stream",
     "text": [
      "\r",
      " 57%|█████▋    | 57/100 [11:17<08:33, 11.95s/it]"
     ]
    },
    {
     "name": "stdout",
     "output_type": "stream",
     "text": [
      "Epoch 57/100 - Train Loss: 0.0824, Train Acc: 0.9715 - Test Loss: 0.4159, Test Acc: 0.8988\n"
     ]
    },
    {
     "name": "stderr",
     "output_type": "stream",
     "text": [
      "\r",
      " 58%|█████▊    | 58/100 [11:29<08:21, 11.95s/it]"
     ]
    },
    {
     "name": "stdout",
     "output_type": "stream",
     "text": [
      "Epoch 58/100 - Train Loss: 0.0821, Train Acc: 0.9709 - Test Loss: 0.4263, Test Acc: 0.8968\n"
     ]
    },
    {
     "name": "stderr",
     "output_type": "stream",
     "text": [
      "\r",
      " 59%|█████▉    | 59/100 [11:41<08:10, 11.95s/it]"
     ]
    },
    {
     "name": "stdout",
     "output_type": "stream",
     "text": [
      "Epoch 59/100 - Train Loss: 0.0821, Train Acc: 0.9706 - Test Loss: 0.4279, Test Acc: 0.8968\n"
     ]
    },
    {
     "name": "stderr",
     "output_type": "stream",
     "text": [
      "\r",
      " 60%|██████    | 60/100 [11:53<07:57, 11.95s/it]"
     ]
    },
    {
     "name": "stdout",
     "output_type": "stream",
     "text": [
      "Epoch 60/100 - Train Loss: 0.0795, Train Acc: 0.9717 - Test Loss: 0.4251, Test Acc: 0.8980\n"
     ]
    },
    {
     "name": "stderr",
     "output_type": "stream",
     "text": [
      "\r",
      " 61%|██████    | 61/100 [12:05<07:46, 11.95s/it]"
     ]
    },
    {
     "name": "stdout",
     "output_type": "stream",
     "text": [
      "Epoch 61/100 - Train Loss: 0.0796, Train Acc: 0.9716 - Test Loss: 0.4266, Test Acc: 0.8953\n"
     ]
    },
    {
     "name": "stderr",
     "output_type": "stream",
     "text": [
      "\r",
      " 62%|██████▏   | 62/100 [12:17<07:34, 11.95s/it]"
     ]
    },
    {
     "name": "stdout",
     "output_type": "stream",
     "text": [
      "Epoch 62/100 - Train Loss: 0.0848, Train Acc: 0.9701 - Test Loss: 0.4275, Test Acc: 0.8970\n"
     ]
    },
    {
     "name": "stderr",
     "output_type": "stream",
     "text": [
      "\r",
      " 63%|██████▎   | 63/100 [12:29<07:22, 11.97s/it]"
     ]
    },
    {
     "name": "stdout",
     "output_type": "stream",
     "text": [
      "Epoch 63/100 - Train Loss: 0.0799, Train Acc: 0.9718 - Test Loss: 0.4268, Test Acc: 0.8964\n"
     ]
    },
    {
     "name": "stderr",
     "output_type": "stream",
     "text": [
      "\r",
      " 64%|██████▍   | 64/100 [12:41<07:10, 11.97s/it]"
     ]
    },
    {
     "name": "stdout",
     "output_type": "stream",
     "text": [
      "Epoch 64/100 - Train Loss: 0.0806, Train Acc: 0.9704 - Test Loss: 0.4190, Test Acc: 0.8970\n"
     ]
    },
    {
     "name": "stderr",
     "output_type": "stream",
     "text": [
      "\r",
      " 65%|██████▌   | 65/100 [12:52<06:58, 11.96s/it]"
     ]
    },
    {
     "name": "stdout",
     "output_type": "stream",
     "text": [
      "Epoch 65/100 - Train Loss: 0.0807, Train Acc: 0.9721 - Test Loss: 0.4317, Test Acc: 0.8963\n"
     ]
    },
    {
     "name": "stderr",
     "output_type": "stream",
     "text": [
      "\r",
      " 66%|██████▌   | 66/100 [13:04<06:46, 11.96s/it]"
     ]
    },
    {
     "name": "stdout",
     "output_type": "stream",
     "text": [
      "Epoch 66/100 - Train Loss: 0.0803, Train Acc: 0.9713 - Test Loss: 0.4185, Test Acc: 0.8988\n"
     ]
    },
    {
     "name": "stderr",
     "output_type": "stream",
     "text": [
      "\r",
      " 67%|██████▋   | 67/100 [13:16<06:34, 11.95s/it]"
     ]
    },
    {
     "name": "stdout",
     "output_type": "stream",
     "text": [
      "Epoch 67/100 - Train Loss: 0.0811, Train Acc: 0.9717 - Test Loss: 0.4192, Test Acc: 0.8978\n"
     ]
    },
    {
     "name": "stderr",
     "output_type": "stream",
     "text": [
      "\r",
      " 68%|██████▊   | 68/100 [13:28<06:22, 11.95s/it]"
     ]
    },
    {
     "name": "stdout",
     "output_type": "stream",
     "text": [
      "Epoch 68/100 - Train Loss: 0.0808, Train Acc: 0.9707 - Test Loss: 0.4268, Test Acc: 0.8972\n"
     ]
    },
    {
     "name": "stderr",
     "output_type": "stream",
     "text": [
      "\r",
      " 69%|██████▉   | 69/100 [13:40<06:10, 11.97s/it]"
     ]
    },
    {
     "name": "stdout",
     "output_type": "stream",
     "text": [
      "Epoch 69/100 - Train Loss: 0.0775, Train Acc: 0.9723 - Test Loss: 0.4291, Test Acc: 0.8974\n"
     ]
    },
    {
     "name": "stderr",
     "output_type": "stream",
     "text": [
      "\r",
      " 70%|███████   | 70/100 [13:52<05:59, 11.98s/it]"
     ]
    },
    {
     "name": "stdout",
     "output_type": "stream",
     "text": [
      "Epoch 70/100 - Train Loss: 0.0786, Train Acc: 0.9721 - Test Loss: 0.4223, Test Acc: 0.8993\n"
     ]
    },
    {
     "name": "stderr",
     "output_type": "stream",
     "text": [
      "\r",
      " 71%|███████   | 71/100 [14:04<05:48, 12.01s/it]"
     ]
    },
    {
     "name": "stdout",
     "output_type": "stream",
     "text": [
      "Epoch 71/100 - Train Loss: 0.0779, Train Acc: 0.9726 - Test Loss: 0.4312, Test Acc: 0.8965\n"
     ]
    },
    {
     "name": "stderr",
     "output_type": "stream",
     "text": [
      "\r",
      " 72%|███████▏  | 72/100 [14:16<05:36, 12.02s/it]"
     ]
    },
    {
     "name": "stdout",
     "output_type": "stream",
     "text": [
      "Epoch 72/100 - Train Loss: 0.0781, Train Acc: 0.9726 - Test Loss: 0.4347, Test Acc: 0.8980\n"
     ]
    },
    {
     "name": "stderr",
     "output_type": "stream",
     "text": [
      "\r",
      " 73%|███████▎  | 73/100 [14:28<05:24, 12.03s/it]"
     ]
    },
    {
     "name": "stdout",
     "output_type": "stream",
     "text": [
      "Epoch 73/100 - Train Loss: 0.0768, Train Acc: 0.9723 - Test Loss: 0.4400, Test Acc: 0.8962\n"
     ]
    },
    {
     "name": "stderr",
     "output_type": "stream",
     "text": [
      "\r",
      " 74%|███████▍  | 74/100 [14:40<05:12, 12.02s/it]"
     ]
    },
    {
     "name": "stdout",
     "output_type": "stream",
     "text": [
      "Epoch 74/100 - Train Loss: 0.0735, Train Acc: 0.9745 - Test Loss: 0.4303, Test Acc: 0.8982\n"
     ]
    },
    {
     "name": "stderr",
     "output_type": "stream",
     "text": [
      "\r",
      " 75%|███████▌  | 75/100 [14:52<05:00, 12.01s/it]"
     ]
    },
    {
     "name": "stdout",
     "output_type": "stream",
     "text": [
      "Epoch 75/100 - Train Loss: 0.0748, Train Acc: 0.9730 - Test Loss: 0.4307, Test Acc: 0.8994\n"
     ]
    },
    {
     "name": "stderr",
     "output_type": "stream",
     "text": [
      "\r",
      " 76%|███████▌  | 76/100 [15:04<04:48, 12.02s/it]"
     ]
    },
    {
     "name": "stdout",
     "output_type": "stream",
     "text": [
      "Epoch 76/100 - Train Loss: 0.0785, Train Acc: 0.9718 - Test Loss: 0.4390, Test Acc: 0.8967\n"
     ]
    },
    {
     "name": "stderr",
     "output_type": "stream",
     "text": [
      "\r",
      " 77%|███████▋  | 77/100 [15:17<04:37, 12.05s/it]"
     ]
    },
    {
     "name": "stdout",
     "output_type": "stream",
     "text": [
      "Epoch 77/100 - Train Loss: 0.0749, Train Acc: 0.9737 - Test Loss: 0.4329, Test Acc: 0.8973\n"
     ]
    },
    {
     "name": "stderr",
     "output_type": "stream",
     "text": [
      "\r",
      " 78%|███████▊  | 78/100 [15:29<04:26, 12.11s/it]"
     ]
    },
    {
     "name": "stdout",
     "output_type": "stream",
     "text": [
      "Epoch 78/100 - Train Loss: 0.0779, Train Acc: 0.9725 - Test Loss: 0.4338, Test Acc: 0.8980\n"
     ]
    },
    {
     "name": "stderr",
     "output_type": "stream",
     "text": [
      "\r",
      " 79%|███████▉  | 79/100 [15:41<04:15, 12.15s/it]"
     ]
    },
    {
     "name": "stdout",
     "output_type": "stream",
     "text": [
      "Epoch 79/100 - Train Loss: 0.0755, Train Acc: 0.9724 - Test Loss: 0.4412, Test Acc: 0.8956\n"
     ]
    },
    {
     "name": "stderr",
     "output_type": "stream",
     "text": [
      "\r",
      " 80%|████████  | 80/100 [15:53<04:02, 12.15s/it]"
     ]
    },
    {
     "name": "stdout",
     "output_type": "stream",
     "text": [
      "Epoch 80/100 - Train Loss: 0.0765, Train Acc: 0.9734 - Test Loss: 0.4344, Test Acc: 0.8967\n"
     ]
    },
    {
     "name": "stderr",
     "output_type": "stream",
     "text": [
      "\r",
      " 81%|████████  | 81/100 [16:06<03:54, 12.35s/it]"
     ]
    },
    {
     "name": "stdout",
     "output_type": "stream",
     "text": [
      "Epoch 81/100 - Train Loss: 0.0757, Train Acc: 0.9730 - Test Loss: 0.4359, Test Acc: 0.8968\n"
     ]
    },
    {
     "name": "stderr",
     "output_type": "stream",
     "text": [
      "\r",
      " 82%|████████▏ | 82/100 [16:18<03:42, 12.34s/it]"
     ]
    },
    {
     "name": "stdout",
     "output_type": "stream",
     "text": [
      "Epoch 82/100 - Train Loss: 0.0743, Train Acc: 0.9735 - Test Loss: 0.4352, Test Acc: 0.8972\n"
     ]
    },
    {
     "name": "stderr",
     "output_type": "stream",
     "text": [
      "\r",
      " 83%|████████▎ | 83/100 [16:31<03:28, 12.27s/it]"
     ]
    },
    {
     "name": "stdout",
     "output_type": "stream",
     "text": [
      "Epoch 83/100 - Train Loss: 0.0725, Train Acc: 0.9741 - Test Loss: 0.4377, Test Acc: 0.8986\n"
     ]
    },
    {
     "name": "stderr",
     "output_type": "stream",
     "text": [
      "\r",
      " 84%|████████▍ | 84/100 [16:43<03:15, 12.22s/it]"
     ]
    },
    {
     "name": "stdout",
     "output_type": "stream",
     "text": [
      "Epoch 84/100 - Train Loss: 0.0729, Train Acc: 0.9742 - Test Loss: 0.4394, Test Acc: 0.8981\n"
     ]
    },
    {
     "name": "stderr",
     "output_type": "stream",
     "text": [
      "\r",
      " 85%|████████▌ | 85/100 [16:55<03:02, 12.19s/it]"
     ]
    },
    {
     "name": "stdout",
     "output_type": "stream",
     "text": [
      "Epoch 85/100 - Train Loss: 0.0704, Train Acc: 0.9755 - Test Loss: 0.4477, Test Acc: 0.8976\n"
     ]
    },
    {
     "name": "stderr",
     "output_type": "stream",
     "text": [
      "\r",
      " 86%|████████▌ | 86/100 [17:07<02:50, 12.19s/it]"
     ]
    },
    {
     "name": "stdout",
     "output_type": "stream",
     "text": [
      "Epoch 86/100 - Train Loss: 0.0707, Train Acc: 0.9747 - Test Loss: 0.4444, Test Acc: 0.8991\n"
     ]
    },
    {
     "name": "stderr",
     "output_type": "stream",
     "text": [
      "\r",
      " 87%|████████▋ | 87/100 [17:19<02:38, 12.18s/it]"
     ]
    },
    {
     "name": "stdout",
     "output_type": "stream",
     "text": [
      "Epoch 87/100 - Train Loss: 0.0728, Train Acc: 0.9742 - Test Loss: 0.4544, Test Acc: 0.8966\n"
     ]
    },
    {
     "name": "stderr",
     "output_type": "stream",
     "text": [
      "\r",
      " 88%|████████▊ | 88/100 [17:31<02:25, 12.16s/it]"
     ]
    },
    {
     "name": "stdout",
     "output_type": "stream",
     "text": [
      "Epoch 88/100 - Train Loss: 0.0736, Train Acc: 0.9740 - Test Loss: 0.4359, Test Acc: 0.8988\n"
     ]
    },
    {
     "name": "stderr",
     "output_type": "stream",
     "text": [
      "\r",
      " 89%|████████▉ | 89/100 [17:43<02:13, 12.14s/it]"
     ]
    },
    {
     "name": "stdout",
     "output_type": "stream",
     "text": [
      "Epoch 89/100 - Train Loss: 0.0701, Train Acc: 0.9748 - Test Loss: 0.4402, Test Acc: 0.8986\n"
     ]
    },
    {
     "name": "stderr",
     "output_type": "stream",
     "text": [
      "\r",
      " 90%|█████████ | 90/100 [17:55<02:01, 12.12s/it]"
     ]
    },
    {
     "name": "stdout",
     "output_type": "stream",
     "text": [
      "Epoch 90/100 - Train Loss: 0.0725, Train Acc: 0.9749 - Test Loss: 0.4416, Test Acc: 0.8980\n"
     ]
    },
    {
     "name": "stderr",
     "output_type": "stream",
     "text": [
      "\r",
      " 91%|█████████ | 91/100 [18:07<01:48, 12.11s/it]"
     ]
    },
    {
     "name": "stdout",
     "output_type": "stream",
     "text": [
      "Epoch 91/100 - Train Loss: 0.0709, Train Acc: 0.9748 - Test Loss: 0.4443, Test Acc: 0.8973\n"
     ]
    },
    {
     "name": "stderr",
     "output_type": "stream",
     "text": [
      "\r",
      " 92%|█████████▏| 92/100 [18:19<01:36, 12.09s/it]"
     ]
    },
    {
     "name": "stdout",
     "output_type": "stream",
     "text": [
      "Epoch 92/100 - Train Loss: 0.0708, Train Acc: 0.9746 - Test Loss: 0.4444, Test Acc: 0.8986\n"
     ]
    },
    {
     "name": "stderr",
     "output_type": "stream",
     "text": [
      "\r",
      " 93%|█████████▎| 93/100 [18:32<01:24, 12.08s/it]"
     ]
    },
    {
     "name": "stdout",
     "output_type": "stream",
     "text": [
      "Epoch 93/100 - Train Loss: 0.0701, Train Acc: 0.9749 - Test Loss: 0.4461, Test Acc: 0.8958\n"
     ]
    },
    {
     "name": "stderr",
     "output_type": "stream",
     "text": [
      "\r",
      " 94%|█████████▍| 94/100 [18:44<01:12, 12.07s/it]"
     ]
    },
    {
     "name": "stdout",
     "output_type": "stream",
     "text": [
      "Epoch 94/100 - Train Loss: 0.0719, Train Acc: 0.9753 - Test Loss: 0.4530, Test Acc: 0.8977\n"
     ]
    },
    {
     "name": "stderr",
     "output_type": "stream",
     "text": [
      "\r",
      " 95%|█████████▌| 95/100 [18:56<01:00, 12.06s/it]"
     ]
    },
    {
     "name": "stdout",
     "output_type": "stream",
     "text": [
      "Epoch 95/100 - Train Loss: 0.0726, Train Acc: 0.9747 - Test Loss: 0.4390, Test Acc: 0.8982\n"
     ]
    },
    {
     "name": "stderr",
     "output_type": "stream",
     "text": [
      "\r",
      " 96%|█████████▌| 96/100 [19:08<00:48, 12.05s/it]"
     ]
    },
    {
     "name": "stdout",
     "output_type": "stream",
     "text": [
      "Epoch 96/100 - Train Loss: 0.0731, Train Acc: 0.9745 - Test Loss: 0.4467, Test Acc: 0.8978\n"
     ]
    },
    {
     "name": "stderr",
     "output_type": "stream",
     "text": [
      "\r",
      " 97%|█████████▋| 97/100 [19:20<00:36, 12.05s/it]"
     ]
    },
    {
     "name": "stdout",
     "output_type": "stream",
     "text": [
      "Epoch 97/100 - Train Loss: 0.0676, Train Acc: 0.9760 - Test Loss: 0.4485, Test Acc: 0.8967\n"
     ]
    },
    {
     "name": "stderr",
     "output_type": "stream",
     "text": [
      "\r",
      " 98%|█████████▊| 98/100 [19:32<00:24, 12.05s/it]"
     ]
    },
    {
     "name": "stdout",
     "output_type": "stream",
     "text": [
      "Epoch 98/100 - Train Loss: 0.0689, Train Acc: 0.9754 - Test Loss: 0.4375, Test Acc: 0.8976\n"
     ]
    },
    {
     "name": "stderr",
     "output_type": "stream",
     "text": [
      "\r",
      " 99%|█████████▉| 99/100 [19:44<00:12, 12.05s/it]"
     ]
    },
    {
     "name": "stdout",
     "output_type": "stream",
     "text": [
      "Epoch 99/100 - Train Loss: 0.0705, Train Acc: 0.9750 - Test Loss: 0.4484, Test Acc: 0.8984\n"
     ]
    },
    {
     "name": "stderr",
     "output_type": "stream",
     "text": [
      "100%|██████████| 100/100 [19:56<00:00, 11.96s/it]"
     ]
    },
    {
     "name": "stdout",
     "output_type": "stream",
     "text": [
      "Epoch 100/100 - Train Loss: 0.0694, Train Acc: 0.9746 - Test Loss: 0.4403, Test Acc: 0.8980\n"
     ]
    },
    {
     "name": "stderr",
     "output_type": "stream",
     "text": [
      "\n"
     ]
    }
   ],
   "source": [
    "# 13. Retrain (If needed)\n",
    "\n",
    "more_epochs = 100\n",
    "\n",
    "for epoch in tqdm(range(more_epochs)):\n",
    "    train_loss, train_acc = train_step(\n",
    "        model, train_loader, loss_fn, optimizer, accuracy_fn, device)\n",
    "    test_loss, test_acc = test_step(\n",
    "        model, test_loader, loss_fn, accuracy_fn, device)\n",
    "    scheduler.step(test_loss)  # Update learning rate\n",
    "    print(\n",
    "        f\"Epoch {epoch+1}/{epochs} - \"\n",
    "        f\"Train Loss: {train_loss:.4f}, Train Acc: {train_acc:.4f} - \"\n",
    "        f\"Test Loss: {test_loss:.4f}, Test Acc: {test_acc:.4f}\"\n",
    "    )"
   ]
  },
  {
   "cell_type": "code",
   "execution_count": null,
   "metadata": {
    "colab": {
     "base_uri": "https://localhost:8080/"
    },
    "id": "JuWgTuNaKWNp",
    "outputId": "0f75cf08-3938-4587-f3b4-9deef0fd18f2"
   },
   "outputs": [
    {
     "data": {
      "text/plain": [
       "(0.9711212060702875, 0.8944818037974683)"
      ]
     },
     "execution_count": 41,
     "metadata": {},
     "output_type": "execute_result"
    }
   ],
   "source": [
    "# train_acc, test_acc"
   ]
  },
  {
   "cell_type": "code",
   "execution_count": 49,
   "metadata": {
    "colab": {
     "base_uri": "https://localhost:8080/"
    },
    "id": "7OxCGJnC2p4p",
    "outputId": "af9f5650-10c0-4836-ac84-e1f695da14f2"
   },
   "outputs": [
    {
     "data": {
      "text/plain": [
       "(0.9746156150159745, 0.8980419303797469)"
      ]
     },
     "execution_count": 49,
     "metadata": {},
     "output_type": "execute_result"
    }
   ],
   "source": [
    "train_acc, test_acc"
   ]
  },
  {
   "cell_type": "code",
   "execution_count": 50,
   "metadata": {
    "colab": {
     "base_uri": "https://localhost:8080/"
    },
    "id": "wahtjmRG_Ptx",
    "outputId": "9e434b11-f5ef-4a61-eb14-5c1fb0b17ea8"
   },
   "outputs": [
    {
     "data": {
      "text/plain": [
       "Cifar10CNN_v9(\n",
       "  (conv1): Conv2d(3, 128, kernel_size=(3, 3), stride=(1, 1), padding=(1, 1))\n",
       "  (bn1): BatchNorm2d(128, eps=1e-05, momentum=0.1, affine=True, track_running_stats=True)\n",
       "  (conv2): Conv2d(128, 256, kernel_size=(3, 3), stride=(1, 1), padding=(1, 1))\n",
       "  (bn2): BatchNorm2d(256, eps=1e-05, momentum=0.1, affine=True, track_running_stats=True)\n",
       "  (conv3): Conv2d(256, 512, kernel_size=(3, 3), stride=(1, 1), padding=(1, 1))\n",
       "  (bn3): BatchNorm2d(512, eps=1e-05, momentum=0.1, affine=True, track_running_stats=True)\n",
       "  (conv4): Conv2d(512, 1024, kernel_size=(3, 3), stride=(1, 1), padding=(1, 1))\n",
       "  (bn4): BatchNorm2d(1024, eps=1e-05, momentum=0.1, affine=True, track_running_stats=True)\n",
       "  (global_avgpool): AdaptiveAvgPool2d(output_size=1)\n",
       "  (fc1): Linear(in_features=1024, out_features=512, bias=True)\n",
       "  (fc2): Linear(in_features=512, out_features=256, bias=True)\n",
       "  (fc_out): Linear(in_features=256, out_features=10, bias=True)\n",
       "  (dropout): Dropout(p=0.3, inplace=False)\n",
       ")"
      ]
     },
     "execution_count": 50,
     "metadata": {},
     "output_type": "execute_result"
    }
   ],
   "source": [
    "# 14a. Final evaluation on test set with sklearn metrics\n",
    "model.eval()\n",
    "all_preds = []\n",
    "all_labels = []\n",
    "\n",
    "with torch.no_grad():\n",
    "    for X, y in test_loader:\n",
    "        X, y = X.to(device), y.to(device)\n",
    "        X = test_transform_batch(X)   # normalize just like during training\n",
    "        y_pred = model(X)\n",
    "        all_preds.extend(y_pred.argmax(dim=1).cpu().numpy())\n",
    "        all_labels.extend(y.cpu().numpy())\n",
    "\n",
    "# Convert lists to numpy arrays\n",
    "all_preds = np.array(all_preds)\n",
    "all_labels = np.array(all_labels)"
   ]
  },
  {
   "cell_type": "code",
   "execution_count": 51,
   "metadata": {
    "colab": {
     "base_uri": "https://localhost:8080/"
    },
    "id": "9gZ0ps6O_P7N",
    "outputId": "fbb4946e-c0aa-4a6c-b152-72e3d120b532"
   },
   "outputs": [
    {
     "name": "stdout",
     "output_type": "stream",
     "text": [
      "\n",
      "Final Evaluation with Sklearn Metrics\n",
      "Accuracy: 0.8976\n",
      "\n",
      "Final Evaluation with torchmetrics Metrics\n",
      " tensor([[730,  25,  35,  69,  35,   1,  11,  24,  12,  58],\n",
      "        [  4, 910,   3,   2,   1,   0,  18,   0,   4,  58],\n",
      "        [ 40,   4, 636, 158,  63,   9,  66,  22,   0,   2],\n",
      "        [  7,   2,  33, 805,  43,  17,  74,  12,   3,   4],\n",
      "        [  6,   1,  28,  71, 809,   5,  49,  26,   1,   4],\n",
      "        [  1,   4,  24, 412,  62, 413,  36,  45,   2,   1],\n",
      "        [  6,   4,  21,  57,  14,   0, 896,   1,   0,   1],\n",
      "        [  3,   1,  24,  91,  70,  12,  10, 786,   0,   3],\n",
      "        [ 40,  28,  16,  63,  14,   0,  36,   6, 758,  39],\n",
      "        [  6,  46,   3,  25,   4,   1,  15,   5,   3, 892]])\n",
      "\n",
      "Classification Report:\n",
      "               precision    recall  f1-score   support\n",
      "\n",
      "           0       0.89      0.92      0.91      1000\n",
      "           1       0.97      0.93      0.95      1000\n",
      "           2       0.86      0.88      0.87      1000\n",
      "           3       0.81      0.78      0.79      1000\n",
      "           4       0.92      0.88      0.90      1000\n",
      "           5       0.82      0.83      0.83      1000\n",
      "           6       0.90      0.93      0.92      1000\n",
      "           7       0.93      0.93      0.93      1000\n",
      "           8       0.94      0.95      0.94      1000\n",
      "           9       0.94      0.93      0.94      1000\n",
      "\n",
      "    accuracy                           0.90     10000\n",
      "   macro avg       0.90      0.90      0.90     10000\n",
      "weighted avg       0.90      0.90      0.90     10000\n",
      "\n"
     ]
    }
   ],
   "source": [
    "# 14b. Compute metrics\n",
    "\n",
    "print(\"\\nFinal Evaluation with Sklearn Metrics\")\n",
    "print(\"Accuracy:\", accuracy_score(all_labels, all_preds))\n",
    "# print(\"\\nConfusion Matrix:\\n\", confusion_matrix(all_labels, all_preds))\n",
    "# print(\"\\nClassification Report:\\n\", classification_report(all_labels, all_preds))\n",
    "\n",
    "# Convert back to tensors for torchmetrics\n",
    "all_preds_tensor = torch.tensor(all_preds)\n",
    "all_labels_tensor = torch.tensor(all_labels)\n",
    "\n",
    "print(\"\\nFinal Evaluation with torchmetrics Metrics\\n\", cm_tensor)\n",
    "cm = ConfusionMatrix(num_classes=10, task='multiclass')\n",
    "cm_tensor = cm(all_preds_tensor, all_labels_tensor)\n",
    "# cm_tensor\n",
    "print(\"\\nClassification Report:\\n\", classification_report(all_labels, all_preds))"
   ]
  },
  {
   "cell_type": "code",
   "execution_count": 54,
   "metadata": {
    "colab": {
     "base_uri": "https://localhost:8080/",
     "height": 898
    },
    "id": "_yVO6TZv_TUF",
    "outputId": "17d9e393-4a70-4d15-b0d1-9fc364eef2fb"
   },
   "outputs": [
    {
     "data": {
      "image/png": "[encoded data removed]",
      "text/plain": [
       "<Figure size 1200x1000 with 2 Axes>"
      ]
     },
     "metadata": {},
     "output_type": "display_data"
    }
   ],
   "source": [
    "# 15. Final Confusion Matrix for Best & Fully Trained Model\n",
    "\n",
    "fig, ax = plt.subplots(figsize=(12, 10))\n",
    "\n",
    "# disp = ConfusionMatrixDisplay.from_predictions(\n",
    "#     all_labels, all_preds\n",
    "#     , display_labels=dataset.classes\n",
    "#     , normalize='true'\n",
    "# )\n",
    "\n",
    "disp.plot(ax=ax, cmap=\"Blues\", xticks_rotation=45)\n",
    "plt.title(\"Confusion Matrix for CIFAR-10 - Final Model\")\n",
    "plt.show();"
   ]
  },
  {
   "cell_type": "code",
   "execution_count": 55,
   "metadata": {
    "colab": {
     "base_uri": "https://localhost:8080/"
    },
    "id": "U3lfrBAu3CON",
    "outputId": "93fa91a1-bf7e-4fcf-9954-e72402f4326d"
   },
   "outputs": [
    {
     "name": "stdout",
     "output_type": "stream",
     "text": [
      "Model saved to Cifar10CNN_v9_more_retrained_200_epochs__best.pth\n"
     ]
    }
   ],
   "source": [
    "# 16a. Save both model weights and optimizer state (in case you want to retrain, run add'l epochs, etc.)\n",
    "torch.save({\n",
    "    'epoch': epochs + more_epochs\n",
    "    , 'model_state_dict': model.state_dict()\n",
    "    , 'optimizer_state_dict': optimizer.state_dict()\n",
    "    , 'loss': loss_fn,  # optional\n",
    "}, \"Cifar10CNN_v9_more_retrained_200_epochs_best.pth\")\n",
    "\n",
    "print(\"Model saved to Cifar10CNN_v9_more_retrained_200_epochs__best.pth\")"
   ]
  },
  {
   "cell_type": "code",
   "execution_count": 56,
   "metadata": {
    "id": "sRyUkPKc3CRU"
   },
   "outputs": [],
   "source": [
    "# 16b. Save best weights  (for eval mode only, so can only eval new data w/ weights; no add'l training;)\n",
    "torch.save(model.state_dict(), \"Cifar10CNN_v9_more_retrained_best_weights.pth\")"
   ]
  },
  {
   "cell_type": "code",
   "execution_count": 57,
   "metadata": {
    "id": "Nfs5RL83_AVE"
   },
   "outputs": [],
   "source": [
    "# Cifar10CNN_v9_best\n",
    "\n",
    "torch.save(model.state_dict(), \"Cifar10CNN_v9_best_weights.pth\")"
   ]
  },
  {
   "cell_type": "code",
   "execution_count": 58,
   "metadata": {
    "colab": {
     "base_uri": "https://localhost:8080/"
    },
    "id": "ZEZs2L3B_Aey",
    "outputId": "fd214f49-0104-4524-e5de-374f5cc0338d"
   },
   "outputs": [
    {
     "name": "stdout",
     "output_type": "stream",
     "text": [
      "\n",
      "Classification Report:\n",
      "               precision    recall  f1-score   support\n",
      "\n",
      "           0       0.89      0.92      0.91      1000\n",
      "           1       0.97      0.93      0.95      1000\n",
      "           2       0.86      0.88      0.87      1000\n",
      "           3       0.81      0.78      0.79      1000\n",
      "           4       0.92      0.88      0.90      1000\n",
      "           5       0.82      0.83      0.83      1000\n",
      "           6       0.90      0.93      0.92      1000\n",
      "           7       0.93      0.93      0.93      1000\n",
      "           8       0.94      0.95      0.94      1000\n",
      "           9       0.94      0.93      0.94      1000\n",
      "\n",
      "    accuracy                           0.90     10000\n",
      "   macro avg       0.90      0.90      0.90     10000\n",
      "weighted avg       0.90      0.90      0.90     10000\n",
      "\n"
     ]
    }
   ],
   "source": [
    "print(\"\\nClassification Report:\\n\", classification_report(all_labels, all_preds))"
   ]
  },
  {
   "cell_type": "code",
   "execution_count": null,
   "metadata": {
    "id": "efCDEsrX_AiX"
   },
   "outputs": [],
   "source": []
  },
  {
   "cell_type": "code",
   "execution_count": null,
   "metadata": {
    "id": "57pqyyAM3CUo"
   },
   "outputs": [],
   "source": []
  }
 ],
 "metadata": {
  "accelerator": "GPU",
  "colab": {
   "authorship_tag": "ABX9TyP34isdLlja0Mr65qyqfBMq",
   "gpuType": "T4",
   "include_colab_link": true,
   "provenance": []
  },
  "kernelspec": {
   "display_name": "Python 3 (ipykernel)",
   "language": "python",
   "name": "python3"
  },
  "language_info": {
   "codemirror_mode": {
    "name": "ipython",
    "version": 3
   },
   "file_extension": ".py",
   "mimetype": "text/x-python",
   "name": "python",
   "nbconvert_exporter": "python",
   "pygments_lexer": "ipython3",
   "version": "3.11.5"
  }
 },
 "nbformat": 4,
 "nbformat_minor": 1
}
