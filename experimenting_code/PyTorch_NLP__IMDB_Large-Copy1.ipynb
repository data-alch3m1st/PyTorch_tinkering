{
 "cells": [
  {
   "cell_type": "code",
   "execution_count": 1,
   "id": "26140146",
   "metadata": {},
   "outputs": [],
   "source": [
    "import pandas as pd\n",
    "import numpy as np\n",
    "import matplotlib.pyplot as plt\n",
    "import seaborn as sns\n",
    "\n",
    "import os\n",
    "import torch\n",
    "import torch.nn as nn\n",
    "import torch.optim as optim\n",
    "from torch.utils.data import DataLoader, WeightedRandomSampler\n",
    "from torchtext.data.utils import get_tokenizer\n",
    "from torchtext.vocab import build_vocab_from_iterator\n",
    "\n",
    "from collections import Counter\n",
    "from sklearn.metrics import (\n",
    "    classification_report, confusion_matrix, accuracy_score, ConfusionMatrixDisplay\n",
    ")\n",
    "\n",
    "import warnings\n",
    "warnings.simplefilter('ignore')\n",
    "\n",
    "from IPython.core.interactiveshell import InteractiveShell\n",
    "InteractiveShell.ast_node_interactivity = 'all'"
   ]
  },
  {
   "cell_type": "code",
   "execution_count": 2,
   "id": "74d5d3ec",
   "metadata": {},
   "outputs": [
    {
     "name": "stdout",
     "output_type": "stream",
     "text": [
      "mps\n"
     ]
    }
   ],
   "source": [
    "if torch.cuda.is_available():\n",
    "    device = \"cuda\" # Use NVIDIA GPU (if available)\n",
    "elif torch.backends.mps.is_available():\n",
    "    device = \"mps\" # Use Apple Silicon GPU (if available)\n",
    "else:\n",
    "    device = \"cpu\" # Default to CPU if no GPU is available\n",
    "    \n",
    "print(device)"
   ]
  },
  {
   "cell_type": "code",
   "execution_count": 3,
   "id": "1a88303e",
   "metadata": {},
   "outputs": [
    {
     "data": {
      "text/plain": [
       "<torch._C.Generator at 0x126cb1a30>"
      ]
     },
     "execution_count": 3,
     "metadata": {},
     "output_type": "execute_result"
    }
   ],
   "source": [
    "# 1. Parameters\n",
    "BATCH_SIZE = 64\n",
    "EMBED_DIM = 128\n",
    "HIDDEN_DIM = 128\n",
    "EPOCHS = 20\n",
    "MAX_VOCAB_SIZE = 25_000\n",
    "MAX_SEQ_LEN = 256\n",
    "DEVICE = device\n",
    "\n",
    "RANDOM_SEED = 27\n",
    "torch.manual_seed(RANDOM_SEED)"
   ]
  },
  {
   "cell_type": "code",
   "execution_count": 5,
   "id": "ae97f700",
   "metadata": {},
   "outputs": [
    {
     "data": {
      "text/plain": [
       "'mps'"
      ]
     },
     "execution_count": 5,
     "metadata": {},
     "output_type": "execute_result"
    }
   ],
   "source": [
    "device"
   ]
  },
  {
   "cell_type": "code",
   "execution_count": 53,
   "id": "d81ecbd4",
   "metadata": {},
   "outputs": [],
   "source": [
    "# import os\n",
    "\n",
    "# def load_imdb_data(data_dir, split):\n",
    "#     \"\"\"Loads IMDB reviews from disk. Returns list of (label, text) tuples.\"\"\"\n",
    "#     data = []\n",
    "#     for label in ('pos', 'neg'):\n",
    "#         labeled_dir = os.path.join(data_dir, split, label)\n",
    "#         for fname in os.listdir(labeled_dir):\n",
    "#             if fname.endswith('.txt'):\n",
    "#                 with open(os.path.join(labeled_dir, fname), encoding='utf-8') as f:\n",
    "#                     text = f.read()\n",
    "#                     data.append((label, text))\n",
    "#     return data"
   ]
  },
  {
   "cell_type": "code",
   "execution_count": 6,
   "id": "fdb90c5a",
   "metadata": {},
   "outputs": [],
   "source": [
    "# Example usage:\n",
    "# train_data = load_imdb_data('../../ML_Tinkering_Python/data/aclImdb', 'train')\n",
    "# test_data = load_imdb_data('../../ML_Tinkering_Python/data/aclImdb', 'test')\n",
    "\n",
    "train_data = '../../ML_Tinkering_Python/data/aclImdb/train/'\n",
    "test_data = '../../ML_Tinkering_Python/data/aclImdb/test/'"
   ]
  },
  {
   "cell_type": "code",
   "execution_count": null,
   "id": "5b98a9d4",
   "metadata": {},
   "outputs": [],
   "source": [
    "\"\"\"Creates training and testing DataLoaders.\n",
    "\n",
    "  Takes in a training directory and testing directory path and turns\n",
    "  them into PyTorch Datasets and then into PyTorch DataLoaders.\n",
    "\n",
    "  Args:\n",
    "    train_dir: Path to training directory.\n",
    "    test_dir: Path to testing directory.\n",
    "    transform: torchvision transforms to perform on training and testing data.\n",
    "    batch_size: Number of samples per batch in each of the DataLoaders.\n",
    "    num_workers: An integer for number of workers per DataLoader.\n",
    "\n",
    "  Returns:\n",
    "    A tuple of (train_dataloader, test_dataloader, class_names).\n",
    "    Where class_names is a list of the target classes.\n",
    "    Example usage:\n",
    "      train_dataloader, test_dataloader, class_names = \\\n",
    "        = create_dataloaders(train_dir=path/to/train_dir,\n",
    "                             test_dir=path/to/test_dir,\n",
    "                             transform=some_transform,\n",
    "                             batch_size=32,\n",
    "                             num_workers=4)\n",
    "  \"\"\""
   ]
  },
  {
   "cell_type": "code",
   "execution_count": 9,
   "id": "c673e395",
   "metadata": {},
   "outputs": [],
   "source": [
    "# Contains functionality for creating PyTorch DataLoaders for image classification data.\n",
    "\n",
    "import os\n",
    "\n",
    "from torchvision import datasets, transforms\n",
    "from torch.utils.data import DataLoader\n",
    "\n",
    "NUM_WORKERS = os.cpu_count()\n",
    "\n",
    "def create_dataloaders(\n",
    "    train_dir: str\n",
    "    , test_dir: str\n",
    "    , transform: transforms.Compose\n",
    "    , batch_size: int\n",
    "    , num_workers: int=NUM_WORKERS\n",
    "):\n",
    "  \n",
    "  # Use ImageFolder to create dataset(s)\n",
    "  train_data = datasets.ImageFolder(train_dir, transform=transform)\n",
    "  test_data = datasets.ImageFolder(test_dir, transform=transform)\n",
    "\n",
    "  # Get class names\n",
    "  class_names = train_data.classes\n",
    "\n",
    "  # Turn images into data loaders\n",
    "  train_dataloader = DataLoader(\n",
    "      train_data\n",
    "      , batch_size=batch_size\n",
    "      , shuffle=True\n",
    "      , num_workers=num_workers\n",
    "      , pin_memory=True\n",
    "  )\n",
    "  test_dataloader = DataLoader(\n",
    "      test_data\n",
    "      , batch_size=batch_size\n",
    "      , shuffle=False\n",
    "      , num_workers=num_workers\n",
    "      , pin_memory=True\n",
    "  )\n",
    "\n",
    "  return train_dataloader, test_dataloader, class_names"
   ]
  },
  {
   "cell_type": "code",
   "execution_count": null,
   "id": "cf2ee769",
   "metadata": {},
   "outputs": [],
   "source": []
  },
  {
   "cell_type": "code",
   "execution_count": 54,
   "id": "3905bf57",
   "metadata": {},
   "outputs": [],
   "source": [
    "# 3. Build Vocabulary\n",
    "tokenizer = get_tokenizer(\"basic_english\")\n",
    "\n",
    "def yield_tokens(data_list):\n",
    "    for label, text in data_list:\n",
    "        yield tokenizer(text)\n",
    "\n",
    "vocab = build_vocab_from_iterator(\n",
    "    yield_tokens(train_data),\n",
    "    specials=[\"<unk>\", \"<pad>\"],\n",
    "    max_tokens=MAX_VOCAB_SIZE\n",
    ")\n",
    "vocab.set_default_index(vocab[\"<unk>\"])"
   ]
  },
  {
   "cell_type": "code",
   "execution_count": 55,
   "id": "57f2e612",
   "metadata": {},
   "outputs": [],
   "source": [
    "# 4. Text + Label Preprocessing\n",
    "label_map = {\"neg\": 0, \"pos\": 1}\n",
    "\n",
    "def process_text(text):\n",
    "    tokens = tokenizer(text)\n",
    "    token_ids = vocab(tokens)\n",
    "    if len(token_ids) > MAX_SEQ_LEN:\n",
    "        token_ids = token_ids[:MAX_SEQ_LEN]\n",
    "    else:\n",
    "        token_ids += [vocab[\"<pad>\"]] * (MAX_SEQ_LEN - len(token_ids))\n",
    "    return torch.tensor(token_ids, dtype=torch.long)\n",
    "\n",
    "def process_label(label):\n",
    "    return torch.tensor(label_map[label], dtype=torch.long)"
   ]
  },
  {
   "cell_type": "code",
   "execution_count": 56,
   "id": "942b4b0b",
   "metadata": {},
   "outputs": [],
   "source": [
    "# 5. Create PyTorch Dataset\n",
    "class IMDBDataset(torch.utils.data.Dataset):\n",
    "    def __init__(self, samples):\n",
    "        self.samples = []\n",
    "        for label, text in samples:\n",
    "            self.samples.append((process_text(text), process_label(label)))\n",
    "    def __len__(self):\n",
    "        return len(self.samples)\n",
    "    def __getitem__(self, idx):\n",
    "        return self.samples[idx]\n",
    "\n",
    "train_dataset = IMDBDataset(train_data)\n",
    "test_dataset = IMDBDataset(test_data)"
   ]
  },
  {
   "cell_type": "code",
   "execution_count": 57,
   "id": "6d5064cd",
   "metadata": {},
   "outputs": [],
   "source": [
    "# 6. Handle Imbalanced Dataset (Weighted Loss)\n",
    "labels = [label.item() for _, label in train_dataset]\n",
    "\n",
    "class_counts = Counter(labels)\n",
    "\n",
    "class_weights = [1.0 / class_counts[i] for i in range(len(class_counts))]\n",
    "\n",
    "sample_weights = [class_weights[label] for label in labels]\n",
    "\n",
    "sampler = WeightedRandomSampler(\n",
    "    sample_weights\n",
    "    , num_samples=len(sample_weights)\n",
    "    , replacement=True\n",
    ")"
   ]
  },
  {
   "cell_type": "code",
   "execution_count": 58,
   "id": "a688bada",
   "metadata": {},
   "outputs": [],
   "source": [
    "# 7. Create DataLoaders\n",
    "train_loader = DataLoader(\n",
    "    train_dataset\n",
    "    , batch_size=BATCH_SIZE\n",
    "    , sampler=sampler\n",
    "    , num_workers=0  # <-- Fix: Use single process (avoid pickle issues)\n",
    ")\n",
    "\n",
    "test_loader = DataLoader(\n",
    "    test_dataset\n",
    "    , batch_size=BATCH_SIZE\n",
    "    , shuffle=False\n",
    "    , num_workers=0  # <-- Fix: Use single process (avoid pickle issues)\n",
    ")"
   ]
  },
  {
   "cell_type": "code",
   "execution_count": 59,
   "id": "e34e7ad8",
   "metadata": {},
   "outputs": [],
   "source": [
    "# 8. Define Model\n",
    "class SimpleLSTM(nn.Module):\n",
    "    def __init__(self, vocab_size, embed_dim, hidden_dim, num_classes, pad_idx):\n",
    "        super().__init__()\n",
    "        self.embedding = nn.Embedding(\n",
    "            vocab_size\n",
    "            , embed_dim\n",
    "            , padding_idx=pad_idx\n",
    "        )\n",
    "        self.lstm = nn.LSTM(\n",
    "            embed_dim\n",
    "            , hidden_dim\n",
    "            , batch_first=True\n",
    "        )\n",
    "        self.fc = nn.Linear(\n",
    "            hidden_dim\n",
    "            , num_classes\n",
    "        )\n",
    "    def forward(self, x):\n",
    "        # x: (batch, seq_len)\n",
    "        embedded = self.embedding(x)\n",
    "        _, (hidden, _) = self.lstm(embedded)\n",
    "        # hidden: (1, batch, hidden_dim)\n",
    "        out = self.fc(hidden[-1])\n",
    "        return out\n",
    "\n",
    "model = SimpleLSTM(\n",
    "    vocab_size=len(vocab)\n",
    "    , embed_dim=EMBED_DIM\n",
    "    , hidden_dim=HIDDEN_DIM\n",
    "    , num_classes=2\n",
    "    , pad_idx=vocab[\"<pad>\"]\n",
    ").to(DEVICE)"
   ]
  },
  {
   "cell_type": "code",
   "execution_count": 60,
   "id": "ea44a42b",
   "metadata": {},
   "outputs": [],
   "source": [
    "# 9. Loss and Optimizer\n",
    "# Use weighted cross entropy to deal with class imbalance\n",
    "\n",
    "# weights\n",
    "weights = torch.tensor(\n",
    "    class_weights\n",
    "    , dtype=torch.float\n",
    ").to(DEVICE)\n",
    "\n",
    "# criterion (CEL)\n",
    "criterion = nn.CrossEntropyLoss(\n",
    "    weight=weights)\n",
    "\n",
    "# Optimizer (ADAM)\n",
    "\n",
    "optimizer = optim.Adam(\n",
    "    model.parameters(), lr=1e-3\n",
    "    , weight_decay=1e-5 # added weight_decay to counteract overfitting (seen by decreasing test acc'y)\n",
    ")"
   ]
  },
  {
   "cell_type": "code",
   "execution_count": 61,
   "id": "f4f7b2a8",
   "metadata": {
    "scrolled": true
   },
   "outputs": [
    {
     "data": {
      "text/plain": [
       "20"
      ]
     },
     "execution_count": 61,
     "metadata": {},
     "output_type": "execute_result"
    }
   ],
   "source": [
    "EPOCHS"
   ]
  },
  {
   "cell_type": "code",
   "execution_count": 62,
   "id": "e03db545",
   "metadata": {
    "scrolled": false
   },
   "outputs": [
    {
     "data": {
      "text/plain": [
       "SimpleLSTM(\n",
       "  (embedding): Embedding(25000, 128, padding_idx=1)\n",
       "  (lstm): LSTM(128, 128, batch_first=True)\n",
       "  (fc): Linear(in_features=128, out_features=2, bias=True)\n",
       ")"
      ]
     },
     "execution_count": 62,
     "metadata": {},
     "output_type": "execute_result"
    },
    {
     "name": "stdout",
     "output_type": "stream",
     "text": [
      "Epoch 1: Loss=0.6864, Acc=0.5312\n"
     ]
    },
    {
     "data": {
      "text/plain": [
       "SimpleLSTM(\n",
       "  (embedding): Embedding(25000, 128, padding_idx=1)\n",
       "  (lstm): LSTM(128, 128, batch_first=True)\n",
       "  (fc): Linear(in_features=128, out_features=2, bias=True)\n",
       ")"
      ]
     },
     "execution_count": 62,
     "metadata": {},
     "output_type": "execute_result"
    },
    {
     "name": "stdout",
     "output_type": "stream",
     "text": [
      "Epoch 2: Loss=0.6683, Acc=0.5610\n"
     ]
    },
    {
     "data": {
      "text/plain": [
       "SimpleLSTM(\n",
       "  (embedding): Embedding(25000, 128, padding_idx=1)\n",
       "  (lstm): LSTM(128, 128, batch_first=True)\n",
       "  (fc): Linear(in_features=128, out_features=2, bias=True)\n",
       ")"
      ]
     },
     "execution_count": 62,
     "metadata": {},
     "output_type": "execute_result"
    },
    {
     "name": "stdout",
     "output_type": "stream",
     "text": [
      "Epoch 3: Loss=0.6345, Acc=0.6301\n"
     ]
    },
    {
     "data": {
      "text/plain": [
       "SimpleLSTM(\n",
       "  (embedding): Embedding(25000, 128, padding_idx=1)\n",
       "  (lstm): LSTM(128, 128, batch_first=True)\n",
       "  (fc): Linear(in_features=128, out_features=2, bias=True)\n",
       ")"
      ]
     },
     "execution_count": 62,
     "metadata": {},
     "output_type": "execute_result"
    },
    {
     "name": "stdout",
     "output_type": "stream",
     "text": [
      "Epoch 4: Loss=0.6257, Acc=0.6218\n"
     ]
    },
    {
     "data": {
      "text/plain": [
       "SimpleLSTM(\n",
       "  (embedding): Embedding(25000, 128, padding_idx=1)\n",
       "  (lstm): LSTM(128, 128, batch_first=True)\n",
       "  (fc): Linear(in_features=128, out_features=2, bias=True)\n",
       ")"
      ]
     },
     "execution_count": 62,
     "metadata": {},
     "output_type": "execute_result"
    },
    {
     "name": "stdout",
     "output_type": "stream",
     "text": [
      "Epoch 5: Loss=0.6122, Acc=0.6308\n"
     ]
    },
    {
     "data": {
      "text/plain": [
       "SimpleLSTM(\n",
       "  (embedding): Embedding(25000, 128, padding_idx=1)\n",
       "  (lstm): LSTM(128, 128, batch_first=True)\n",
       "  (fc): Linear(in_features=128, out_features=2, bias=True)\n",
       ")"
      ]
     },
     "execution_count": 62,
     "metadata": {},
     "output_type": "execute_result"
    },
    {
     "name": "stdout",
     "output_type": "stream",
     "text": [
      "Epoch 6: Loss=0.5926, Acc=0.6302\n"
     ]
    },
    {
     "data": {
      "text/plain": [
       "SimpleLSTM(\n",
       "  (embedding): Embedding(25000, 128, padding_idx=1)\n",
       "  (lstm): LSTM(128, 128, batch_first=True)\n",
       "  (fc): Linear(in_features=128, out_features=2, bias=True)\n",
       ")"
      ]
     },
     "execution_count": 62,
     "metadata": {},
     "output_type": "execute_result"
    },
    {
     "name": "stdout",
     "output_type": "stream",
     "text": [
      "Epoch 7: Loss=0.5084, Acc=0.7492\n"
     ]
    },
    {
     "data": {
      "text/plain": [
       "SimpleLSTM(\n",
       "  (embedding): Embedding(25000, 128, padding_idx=1)\n",
       "  (lstm): LSTM(128, 128, batch_first=True)\n",
       "  (fc): Linear(in_features=128, out_features=2, bias=True)\n",
       ")"
      ]
     },
     "execution_count": 62,
     "metadata": {},
     "output_type": "execute_result"
    },
    {
     "name": "stdout",
     "output_type": "stream",
     "text": [
      "Epoch 8: Loss=0.5321, Acc=0.6581\n"
     ]
    },
    {
     "data": {
      "text/plain": [
       "SimpleLSTM(\n",
       "  (embedding): Embedding(25000, 128, padding_idx=1)\n",
       "  (lstm): LSTM(128, 128, batch_first=True)\n",
       "  (fc): Linear(in_features=128, out_features=2, bias=True)\n",
       ")"
      ]
     },
     "execution_count": 62,
     "metadata": {},
     "output_type": "execute_result"
    },
    {
     "name": "stdout",
     "output_type": "stream",
     "text": [
      "Epoch 9: Loss=0.4940, Acc=0.6998\n"
     ]
    },
    {
     "data": {
      "text/plain": [
       "SimpleLSTM(\n",
       "  (embedding): Embedding(25000, 128, padding_idx=1)\n",
       "  (lstm): LSTM(128, 128, batch_first=True)\n",
       "  (fc): Linear(in_features=128, out_features=2, bias=True)\n",
       ")"
      ]
     },
     "execution_count": 62,
     "metadata": {},
     "output_type": "execute_result"
    },
    {
     "name": "stdout",
     "output_type": "stream",
     "text": [
      "Epoch 10: Loss=0.4565, Acc=0.7550\n"
     ]
    },
    {
     "data": {
      "text/plain": [
       "SimpleLSTM(\n",
       "  (embedding): Embedding(25000, 128, padding_idx=1)\n",
       "  (lstm): LSTM(128, 128, batch_first=True)\n",
       "  (fc): Linear(in_features=128, out_features=2, bias=True)\n",
       ")"
      ]
     },
     "execution_count": 62,
     "metadata": {},
     "output_type": "execute_result"
    },
    {
     "name": "stdout",
     "output_type": "stream",
     "text": [
      "Epoch 11: Loss=0.3878, Acc=0.8318\n"
     ]
    },
    {
     "data": {
      "text/plain": [
       "SimpleLSTM(\n",
       "  (embedding): Embedding(25000, 128, padding_idx=1)\n",
       "  (lstm): LSTM(128, 128, batch_first=True)\n",
       "  (fc): Linear(in_features=128, out_features=2, bias=True)\n",
       ")"
      ]
     },
     "execution_count": 62,
     "metadata": {},
     "output_type": "execute_result"
    },
    {
     "name": "stdout",
     "output_type": "stream",
     "text": [
      "Epoch 12: Loss=0.3726, Acc=0.8410\n"
     ]
    },
    {
     "data": {
      "text/plain": [
       "SimpleLSTM(\n",
       "  (embedding): Embedding(25000, 128, padding_idx=1)\n",
       "  (lstm): LSTM(128, 128, batch_first=True)\n",
       "  (fc): Linear(in_features=128, out_features=2, bias=True)\n",
       ")"
      ]
     },
     "execution_count": 62,
     "metadata": {},
     "output_type": "execute_result"
    },
    {
     "name": "stdout",
     "output_type": "stream",
     "text": [
      "Epoch 13: Loss=0.3661, Acc=0.8431\n"
     ]
    },
    {
     "data": {
      "text/plain": [
       "SimpleLSTM(\n",
       "  (embedding): Embedding(25000, 128, padding_idx=1)\n",
       "  (lstm): LSTM(128, 128, batch_first=True)\n",
       "  (fc): Linear(in_features=128, out_features=2, bias=True)\n",
       ")"
      ]
     },
     "execution_count": 62,
     "metadata": {},
     "output_type": "execute_result"
    },
    {
     "name": "stdout",
     "output_type": "stream",
     "text": [
      "Epoch 14: Loss=0.3492, Acc=0.8545\n"
     ]
    },
    {
     "data": {
      "text/plain": [
       "SimpleLSTM(\n",
       "  (embedding): Embedding(25000, 128, padding_idx=1)\n",
       "  (lstm): LSTM(128, 128, batch_first=True)\n",
       "  (fc): Linear(in_features=128, out_features=2, bias=True)\n",
       ")"
      ]
     },
     "execution_count": 62,
     "metadata": {},
     "output_type": "execute_result"
    },
    {
     "name": "stdout",
     "output_type": "stream",
     "text": [
      "Epoch 15: Loss=0.4691, Acc=0.7462\n"
     ]
    },
    {
     "data": {
      "text/plain": [
       "SimpleLSTM(\n",
       "  (embedding): Embedding(25000, 128, padding_idx=1)\n",
       "  (lstm): LSTM(128, 128, batch_first=True)\n",
       "  (fc): Linear(in_features=128, out_features=2, bias=True)\n",
       ")"
      ]
     },
     "execution_count": 62,
     "metadata": {},
     "output_type": "execute_result"
    },
    {
     "name": "stdout",
     "output_type": "stream",
     "text": [
      "Epoch 16: Loss=0.3096, Acc=0.8673\n"
     ]
    },
    {
     "data": {
      "text/plain": [
       "SimpleLSTM(\n",
       "  (embedding): Embedding(25000, 128, padding_idx=1)\n",
       "  (lstm): LSTM(128, 128, batch_first=True)\n",
       "  (fc): Linear(in_features=128, out_features=2, bias=True)\n",
       ")"
      ]
     },
     "execution_count": 62,
     "metadata": {},
     "output_type": "execute_result"
    },
    {
     "name": "stdout",
     "output_type": "stream",
     "text": [
      "Epoch 17: Loss=0.1480, Acc=0.9490\n"
     ]
    },
    {
     "data": {
      "text/plain": [
       "SimpleLSTM(\n",
       "  (embedding): Embedding(25000, 128, padding_idx=1)\n",
       "  (lstm): LSTM(128, 128, batch_first=True)\n",
       "  (fc): Linear(in_features=128, out_features=2, bias=True)\n",
       ")"
      ]
     },
     "execution_count": 62,
     "metadata": {},
     "output_type": "execute_result"
    },
    {
     "name": "stdout",
     "output_type": "stream",
     "text": [
      "Epoch 18: Loss=0.0891, Acc=0.9733\n"
     ]
    },
    {
     "data": {
      "text/plain": [
       "SimpleLSTM(\n",
       "  (embedding): Embedding(25000, 128, padding_idx=1)\n",
       "  (lstm): LSTM(128, 128, batch_first=True)\n",
       "  (fc): Linear(in_features=128, out_features=2, bias=True)\n",
       ")"
      ]
     },
     "execution_count": 62,
     "metadata": {},
     "output_type": "execute_result"
    },
    {
     "name": "stdout",
     "output_type": "stream",
     "text": [
      "Epoch 19: Loss=0.0655, Acc=0.9816\n"
     ]
    },
    {
     "data": {
      "text/plain": [
       "SimpleLSTM(\n",
       "  (embedding): Embedding(25000, 128, padding_idx=1)\n",
       "  (lstm): LSTM(128, 128, batch_first=True)\n",
       "  (fc): Linear(in_features=128, out_features=2, bias=True)\n",
       ")"
      ]
     },
     "execution_count": 62,
     "metadata": {},
     "output_type": "execute_result"
    },
    {
     "name": "stdout",
     "output_type": "stream",
     "text": [
      "Epoch 20: Loss=0.0441, Acc=0.9884\n"
     ]
    }
   ],
   "source": [
    "# 10. Training Loop\n",
    "\n",
    "for epoch in range(EPOCHS):\n",
    "    model.train()\n",
    "    total_loss = 0\n",
    "    correct = 0\n",
    "    total = 0\n",
    "    for batch_x, batch_y in train_loader:\n",
    "        batch_x = batch_x.to(DEVICE)\n",
    "        batch_y = batch_y.to(DEVICE)\n",
    "        optimizer.zero_grad()\n",
    "        output = model(batch_x)\n",
    "        loss = criterion(output, batch_y)\n",
    "        loss.backward()\n",
    "        optimizer.step()\n",
    "        total_loss += loss.item() * batch_x.size(0)\n",
    "        preds = output.argmax(dim=1)\n",
    "        correct += (preds == batch_y).sum().item()\n",
    "        total += batch_x.size(0)\n",
    "    acc = correct / total\n",
    "    print(f\"Epoch {epoch+1}: Loss={total_loss/total:.4f}, Acc={acc:.4f}\")"
   ]
  },
  {
   "cell_type": "code",
   "execution_count": 63,
   "id": "da6bd41b",
   "metadata": {},
   "outputs": [
    {
     "data": {
      "text/plain": [
       "SimpleLSTM(\n",
       "  (embedding): Embedding(25000, 128, padding_idx=1)\n",
       "  (lstm): LSTM(128, 128, batch_first=True)\n",
       "  (fc): Linear(in_features=128, out_features=2, bias=True)\n",
       ")"
      ]
     },
     "execution_count": 63,
     "metadata": {},
     "output_type": "execute_result"
    },
    {
     "name": "stdout",
     "output_type": "stream",
     "text": [
      "              precision    recall  f1-score   support\n",
      "\n",
      "         neg       0.84      0.81      0.83     12500\n",
      "         pos       0.82      0.84      0.83     12500\n",
      "\n",
      "    accuracy                           0.83     25000\n",
      "   macro avg       0.83      0.83      0.83     25000\n",
      "weighted avg       0.83      0.83      0.83     25000\n",
      "\n"
     ]
    }
   ],
   "source": [
    "# 11. Evaluation\n",
    "model.eval()\n",
    "all_preds = []\n",
    "all_labels = []\n",
    "with torch.no_grad():\n",
    "    for batch_x, batch_y in test_loader:\n",
    "        batch_x = batch_x.to(DEVICE)\n",
    "        batch_y = batch_y.to(DEVICE)\n",
    "        output = model(batch_x)\n",
    "        preds = output.argmax(dim=1)\n",
    "        all_preds.extend(preds.cpu().numpy())\n",
    "        all_labels.extend(batch_y.cpu().numpy())\n",
    "\n",
    "print(classification_report(all_labels, all_preds, target_names=[\"neg\", \"pos\"]))"
   ]
  },
  {
   "cell_type": "code",
   "execution_count": 67,
   "id": "bcf43e1b",
   "metadata": {},
   "outputs": [
    {
     "data": {
      "text/plain": [
       "array([[10181,  2319],\n",
       "       [ 1950, 10550]])"
      ]
     },
     "execution_count": 67,
     "metadata": {},
     "output_type": "execute_result"
    }
   ],
   "source": [
    "# Initial confusion matrix:\n",
    "confusion_matrix(all_labels, all_preds)"
   ]
  },
  {
   "cell_type": "code",
   "execution_count": 64,
   "id": "efd044f8",
   "metadata": {},
   "outputs": [
    {
     "data": {
      "text/plain": [
       "array([[10181,  2319],\n",
       "       [ 1950, 10550]])"
      ]
     },
     "execution_count": 64,
     "metadata": {},
     "output_type": "execute_result"
    }
   ],
   "source": [
    "confusion_matrix(all_labels, all_preds)"
   ]
  },
  {
   "cell_type": "code",
   "execution_count": 65,
   "id": "3f300437",
   "metadata": {},
   "outputs": [
    {
     "data": {
      "text/plain": [
       "(0.81448, 0.18552)"
      ]
     },
     "execution_count": 65,
     "metadata": {},
     "output_type": "execute_result"
    },
    {
     "data": {
      "text/plain": [
       "(0.156, 0.844)"
      ]
     },
     "execution_count": 65,
     "metadata": {},
     "output_type": "execute_result"
    }
   ],
   "source": [
    "(confusion_matrix(all_labels, all_preds)[0,0]/(confusion_matrix(all_labels, all_preds)[0,0]+confusion_matrix(all_labels, all_preds)[0,1])), (confusion_matrix(all_labels, all_preds)[0,1]/(confusion_matrix(all_labels, all_preds)[0,0]+confusion_matrix(all_labels, all_preds)[0,1]))\n",
    "\n",
    "# print('\\n')\n",
    "\n",
    "(confusion_matrix(all_labels, all_preds)[1,0]/(confusion_matrix(all_labels, all_preds)[1,0]+confusion_matrix(all_labels, all_preds)[1,1])), (confusion_matrix(all_labels, all_preds)[1,1]/(confusion_matrix(all_labels, all_preds)[1,0]+confusion_matrix(all_labels, all_preds)[1,1]))"
   ]
  },
  {
   "cell_type": "code",
   "execution_count": 66,
   "id": "1756ddc3",
   "metadata": {},
   "outputs": [
    {
     "data": {
      "image/png": "[encoded data removed]",
      "text/plain": [
       "<Figure size 640x480 with 2 Axes>"
      ]
     },
     "metadata": {},
     "output_type": "display_data"
    }
   ],
   "source": [
    "# Initial \n",
    "ConfusionMatrixDisplay.from_predictions(\n",
    "    all_labels, all_preds\n",
    "    , normalize='true', cmap='Purples'\n",
    ");"
   ]
  },
  {
   "cell_type": "code",
   "execution_count": 72,
   "id": "4c294128",
   "metadata": {},
   "outputs": [
    {
     "data": {
      "image/png": "[encoded data removed]",
      "text/plain": [
       "<Figure size 640x480 with 2 Axes>"
      ]
     },
     "metadata": {},
     "output_type": "display_data"
    }
   ],
   "source": [
    "ConfusionMatrixDisplay.from_predictions(\n",
    "    all_labels, all_preds\n",
    "    , normalize='true', cmap='Purples'\n",
    "    , display_labels=[\"Negative\", \"Positive\"]\n",
    ");"
   ]
  },
  {
   "cell_type": "code",
   "execution_count": 68,
   "id": "61b593d4",
   "metadata": {},
   "outputs": [],
   "source": [
    "# Function to retrain the model\n",
    "\n",
    "# Trying a lower learning rate (lr) for retraining to counteract overfitting/ decreasing test acc'y; \n",
    "optimizer_r = optim.Adam(model.parameters(), lr=1e-4)\n",
    "\n",
    "def retrain_model(model, train_loader, criterion, optimizer_r, device, epochs=10):\n",
    "    \"\"\"Retrains the model for a specified number of epochs.\"\"\"\n",
    "    print(\"Starting retraining...\")\n",
    "    for epoch in range(epochs):\n",
    "        model.train()\n",
    "        total_loss = 0\n",
    "        correct = 0\n",
    "        total = 0\n",
    "        for batch_x, batch_y in train_loader:\n",
    "            batch_x = batch_x.to(device)\n",
    "            batch_y = batch_y.to(device)\n",
    "            optimizer.zero_grad()\n",
    "            output = model(batch_x)\n",
    "            loss = criterion(output, batch_y)\n",
    "            loss.backward()\n",
    "            optimizer.step()\n",
    "            total_loss += loss.item() * batch_x.size(0)\n",
    "            preds = output.argmax(dim=1)\n",
    "            correct += (preds == batch_y).sum().item()\n",
    "            total += batch_x.size(0)\n",
    "        acc = correct / total\n",
    "        print(f\"Epoch {epoch + 1}: Loss={total_loss / total:.4f}, Acc={acc:.4f}\")\n",
    "    print(\"Retraining complete.\")"
   ]
  },
  {
   "cell_type": "code",
   "execution_count": 69,
   "id": "81fd6265",
   "metadata": {},
   "outputs": [],
   "source": [
    "# Function to reevaluate the model\n",
    "def reevaluate_model(model, test_loader, device):\n",
    "    \"\"\"Evaluates the model on the test set and prints metrics.\"\"\"\n",
    "    print(\"Starting reevaluation...\")\n",
    "    model.eval()\n",
    "    all_preds = []\n",
    "    all_labels = []\n",
    "    with torch.no_grad():\n",
    "        for batch_x, batch_y in test_loader:\n",
    "            batch_x = batch_x.to(device)\n",
    "            batch_y = batch_y.to(device)\n",
    "            output = model(batch_x)\n",
    "            preds = output.argmax(dim=1)\n",
    "            all_preds.extend(preds.cpu().numpy())\n",
    "            all_labels.extend(batch_y.cpu().numpy())\n",
    "\n",
    "    # Print evaluation metrics\n",
    "    print(classification_report(all_labels, all_preds, target_names=[\"neg\", \"pos\"]))\n",
    "    cm = confusion_matrix(all_labels, all_preds)\n",
    "    print(\"Confusion Matrix:\")\n",
    "    print(cm)\n",
    "\n",
    "    ConfusionMatrixDisplay.from_predictions(\n",
    "        all_labels, all_preds, normalize='true', cmap='Purples'\n",
    "    )\n",
    "    print(\"Reevaluation complete.\")"
   ]
  },
  {
   "cell_type": "code",
   "execution_count": 70,
   "id": "ae92864b",
   "metadata": {},
   "outputs": [
    {
     "name": "stdout",
     "output_type": "stream",
     "text": [
      "Starting retraining...\n",
      "Epoch 1: Loss=0.0339, Acc=0.9914\n",
      "Epoch 2: Loss=0.0278, Acc=0.9930\n",
      "Epoch 3: Loss=0.0222, Acc=0.9944\n",
      "Epoch 4: Loss=0.0221, Acc=0.9940\n",
      "Epoch 5: Loss=0.0237, Acc=0.9937\n",
      "Epoch 6: Loss=0.0206, Acc=0.9944\n",
      "Epoch 7: Loss=0.0226, Acc=0.9933\n",
      "Epoch 8: Loss=0.0215, Acc=0.9939\n",
      "Epoch 9: Loss=0.0158, Acc=0.9959\n",
      "Epoch 10: Loss=0.0158, Acc=0.9959\n",
      "Epoch 11: Loss=0.0159, Acc=0.9960\n",
      "Epoch 12: Loss=0.0191, Acc=0.9947\n",
      "Epoch 13: Loss=0.0126, Acc=0.9966\n",
      "Epoch 14: Loss=0.0143, Acc=0.9965\n",
      "Epoch 15: Loss=0.0123, Acc=0.9969\n",
      "Epoch 16: Loss=0.0145, Acc=0.9960\n",
      "Epoch 17: Loss=0.0099, Acc=0.9975\n",
      "Epoch 18: Loss=0.0127, Acc=0.9968\n",
      "Epoch 19: Loss=0.0131, Acc=0.9961\n",
      "Epoch 20: Loss=0.0154, Acc=0.9959\n",
      "Retraining complete.\n"
     ]
    }
   ],
   "source": [
    "# Example usage:\n",
    "# Retrain for additional epochs\n",
    "retrain_model(model, train_loader, criterion, optimizer, DEVICE, epochs=20)"
   ]
  },
  {
   "cell_type": "code",
   "execution_count": 71,
   "id": "babce2cd",
   "metadata": {},
   "outputs": [
    {
     "name": "stdout",
     "output_type": "stream",
     "text": [
      "Starting reevaluation...\n",
      "              precision    recall  f1-score   support\n",
      "\n",
      "         neg       0.80      0.87      0.84     12500\n",
      "         pos       0.86      0.79      0.82     12500\n",
      "\n",
      "    accuracy                           0.83     25000\n",
      "   macro avg       0.83      0.83      0.83     25000\n",
      "weighted avg       0.83      0.83      0.83     25000\n",
      "\n",
      "Confusion Matrix:\n",
      "[[10906  1594]\n",
      " [ 2649  9851]]\n",
      "Reevaluation complete.\n"
     ]
    },
    {
     "data": {
      "image/png": "[encoded data removed]",
      "text/plain": [
       "<Figure size 640x480 with 2 Axes>"
      ]
     },
     "metadata": {},
     "output_type": "display_data"
    }
   ],
   "source": [
    "# Reevaluate the model on the test set\n",
    "reevaluate_model(model, test_loader, DEVICE)"
   ]
  },
  {
   "cell_type": "code",
   "execution_count": null,
   "id": "9e4abbe7",
   "metadata": {},
   "outputs": [],
   "source": [
    "# reevaluate_model(model, test_loader, DEVICE)\n",
    "'''\n",
    "init cm:\n",
    "array([[10181,  2319],\n",
    "       [ 1950, 10550]])\n",
    "\n",
    "cm after retrain and reeval:\n",
    "[[10906  1594]\n",
    " [ 2649  9851]]\n",
    "\n",
    "'''"
   ]
  },
  {
   "cell_type": "code",
   "execution_count": null,
   "id": "5a446869",
   "metadata": {},
   "outputs": [],
   "source": []
  }
 ],
 "metadata": {
  "kernelspec": {
   "display_name": "Python 3 (ipykernel)",
   "language": "python",
   "name": "python3"
  },
  "language_info": {
   "codemirror_mode": {
    "name": "ipython",
    "version": 3
   },
   "file_extension": ".py",
   "mimetype": "text/x-python",
   "name": "python",
   "nbconvert_exporter": "python",
   "pygments_lexer": "ipython3",
   "version": "3.11.5"
  }
 },
 "nbformat": 4,
 "nbformat_minor": 5
}
