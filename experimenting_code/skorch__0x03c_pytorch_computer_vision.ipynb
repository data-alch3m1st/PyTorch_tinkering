{
  "cells": [
    {
      "cell_type": "markdown",
      "metadata": {
        "id": "view-in-github",
        "colab_type": "text"
      },
      "source": [
        "<a href=\"https://colab.research.google.com/github/data-alch3m1st/PyTorch_tinkering/blob/main/skorch__0x03c_pytorch_computer_vision.ipynb\" target=\"_parent\"><img src=\"https://colab.research.google.com/assets/colab-badge.svg\" alt=\"Open In Colab\"/></a>"
      ]
    },
    {
      "cell_type": "code",
      "execution_count": 24,
      "id": "e259b000",
      "metadata": {
        "id": "e259b000",
        "outputId": "eb963743-9fc2-459c-e84e-6cb753f40f19",
        "colab": {
          "base_uri": "https://localhost:8080/"
        }
      },
      "outputs": [
        {
          "output_type": "stream",
          "name": "stdout",
          "text": [
            "PyTorch version: 2.8.0+cu126\n",
            "torchvision version: 0.23.0+cu126\n"
          ]
        }
      ],
      "source": [
        "# Import PyTorch\n",
        "import torch\n",
        "from torch import nn\n",
        "\n",
        "# Import torchvision\n",
        "import torchvision\n",
        "from torchvision import datasets\n",
        "# from torchvision.transforms import ToTensor\n",
        "from torchvision import datasets, transforms\n",
        "\n",
        "# Import matplotlib for visualization\n",
        "import matplotlib.pyplot as plt\n",
        "\n",
        "# Check versions\n",
        "# Note: your PyTorch version shouldn't be lower than 1.10.0 and torchvision version shouldn't be lower than 0.11\n",
        "print(f\"PyTorch version: {torch.__version__}\\ntorchvision version: {torchvision.__version__}\")"
      ]
    },
    {
      "cell_type": "code",
      "source": [
        "!pip install skorch"
      ],
      "metadata": {
        "id": "z-ZeYBN4TAsL",
        "colab": {
          "base_uri": "https://localhost:8080/"
        },
        "outputId": "86300827-3a1f-4cf8-a8a6-3c5a61de37ee"
      },
      "id": "z-ZeYBN4TAsL",
      "execution_count": 2,
      "outputs": [
        {
          "output_type": "stream",
          "name": "stdout",
          "text": [
            "Collecting skorch\n",
            "  Downloading skorch-1.2.0-py3-none-any.whl.metadata (11 kB)\n",
            "Requirement already satisfied: numpy>=1.13.3 in /usr/local/lib/python3.12/dist-packages (from skorch) (2.0.2)\n",
            "Requirement already satisfied: scikit-learn>=0.22.0 in /usr/local/lib/python3.12/dist-packages (from skorch) (1.6.1)\n",
            "Requirement already satisfied: scipy>=1.1.0 in /usr/local/lib/python3.12/dist-packages (from skorch) (1.16.1)\n",
            "Requirement already satisfied: tabulate>=0.7.7 in /usr/local/lib/python3.12/dist-packages (from skorch) (0.9.0)\n",
            "Requirement already satisfied: tqdm>=4.14.0 in /usr/local/lib/python3.12/dist-packages (from skorch) (4.67.1)\n",
            "Requirement already satisfied: joblib>=1.2.0 in /usr/local/lib/python3.12/dist-packages (from scikit-learn>=0.22.0->skorch) (1.5.1)\n",
            "Requirement already satisfied: threadpoolctl>=3.1.0 in /usr/local/lib/python3.12/dist-packages (from scikit-learn>=0.22.0->skorch) (3.6.0)\n",
            "Downloading skorch-1.2.0-py3-none-any.whl (263 kB)\n",
            "\u001b[2K   \u001b[90m━━━━━━━━━━━━━━━━━━━━━━━━━━━━━━━━━━━━━━━━\u001b[0m \u001b[32m263.1/263.1 kB\u001b[0m \u001b[31m8.5 MB/s\u001b[0m eta \u001b[36m0:00:00\u001b[0m\n",
            "\u001b[?25hInstalling collected packages: skorch\n",
            "Successfully installed skorch-1.2.0\n"
          ]
        }
      ]
    },
    {
      "cell_type": "code",
      "source": [
        "from skorch import NeuralNetClassifier\n",
        "from sklearn.model_selection import GridSearchCV\n",
        "from sklearn.metrics import accuracy_score\n",
        "import numpy as np\n",
        "import warnings\n",
        "\n",
        "warnings.filterwarnings(\"ignore\")"
      ],
      "metadata": {
        "id": "kGvNovsVSULb"
      },
      "id": "kGvNovsVSULb",
      "execution_count": 3,
      "outputs": []
    },
    {
      "cell_type": "code",
      "execution_count": 4,
      "id": "2b3d462d",
      "metadata": {
        "id": "2b3d462d"
      },
      "outputs": [],
      "source": [
        "from IPython.core.interactiveshell import InteractiveShell\n",
        "InteractiveShell.ast_node_interactivity = 'all'"
      ]
    },
    {
      "cell_type": "code",
      "execution_count": 5,
      "id": "32e7decb",
      "metadata": {
        "id": "32e7decb",
        "outputId": "e692594b-b54d-4506-ce52-266921467362",
        "colab": {
          "base_uri": "https://localhost:8080/",
          "height": 35
        }
      },
      "outputs": [
        {
          "output_type": "execute_result",
          "data": {
            "text/plain": [
              "'cuda'"
            ],
            "application/vnd.google.colaboratory.intrinsic+json": {
              "type": "string"
            }
          },
          "metadata": {},
          "execution_count": 5
        }
      ],
      "source": [
        "# MacoOS device agnostic code:\n",
        "\n",
        "if torch.cuda.is_available():\n",
        "    device = \"cuda\" # Use NVIDIA GPU (if available)\n",
        "elif torch.backends.mps.is_available():\n",
        "    device = \"mps\" # Use Apple Silicon GPU (if available)\n",
        "else:\n",
        "    device = \"cpu\" # Default to CPU if no GPU is available\n",
        "\n",
        "device"
      ]
    },
    {
      "cell_type": "code",
      "execution_count": 6,
      "id": "a64dda18",
      "metadata": {
        "id": "a64dda18",
        "outputId": "ac87ea49-df1a-460f-b805-721abf3fb794",
        "colab": {
          "base_uri": "https://localhost:8080/"
        }
      },
      "outputs": [
        {
          "output_type": "stream",
          "name": "stderr",
          "text": [
            "100%|██████████| 26.4M/26.4M [00:02<00:00, 13.0MB/s]\n",
            "100%|██████████| 29.5k/29.5k [00:00<00:00, 205kB/s]\n",
            "100%|██████████| 4.42M/4.42M [00:01<00:00, 3.81MB/s]\n",
            "100%|██████████| 5.15k/5.15k [00:00<00:00, 11.6MB/s]\n"
          ]
        }
      ],
      "source": [
        "# Setup training data\n",
        "train_data = datasets.FashionMNIST(\n",
        "    root=\"data\" # where to download data to?\n",
        "    , train=True # get training data\n",
        "    , download=True # download data if it doesn't exist on disk\n",
        "    , transform=ToTensor() # images come as PIL format, we want to turn into Torch tensors\n",
        "    , target_transform=None # you can transform labels as well\n",
        ")\n",
        "\n",
        "# Setup testing data\n",
        "test_data = datasets.FashionMNIST(\n",
        "    root=\"data\"\n",
        "    , train=False # get test data\n",
        "    , download=True\n",
        "    , transform=ToTensor()\n",
        ")"
      ]
    },
    {
      "cell_type": "code",
      "execution_count": 7,
      "id": "a3121ab1",
      "metadata": {
        "collapsed": true,
        "id": "a3121ab1",
        "outputId": "7f95dacc-9c0b-4ecf-ba5c-791b6256c9e6",
        "colab": {
          "base_uri": "https://localhost:8080/"
        }
      },
      "outputs": [
        {
          "output_type": "execute_result",
          "data": {
            "text/plain": [
              "(tensor([[[0.0000, 0.0000, 0.0000, 0.0000, 0.0000, 0.0000, 0.0000, 0.0000,\n",
              "           0.0000, 0.0000, 0.0000, 0.0000, 0.0000, 0.0000, 0.0000, 0.0000,\n",
              "           0.0000, 0.0000, 0.0000, 0.0000, 0.0000, 0.0000, 0.0000, 0.0000,\n",
              "           0.0000, 0.0000, 0.0000, 0.0000],\n",
              "          [0.0000, 0.0000, 0.0000, 0.0000, 0.0000, 0.0000, 0.0000, 0.0000,\n",
              "           0.0000, 0.0000, 0.0000, 0.0000, 0.0000, 0.0000, 0.0000, 0.0000,\n",
              "           0.0000, 0.0000, 0.0000, 0.0000, 0.0000, 0.0000, 0.0000, 0.0000,\n",
              "           0.0000, 0.0000, 0.0000, 0.0000],\n",
              "          [0.0000, 0.0000, 0.0000, 0.0000, 0.0000, 0.0000, 0.0000, 0.0000,\n",
              "           0.0000, 0.0000, 0.0000, 0.0000, 0.0000, 0.0000, 0.0000, 0.0000,\n",
              "           0.0000, 0.0000, 0.0000, 0.0000, 0.0000, 0.0000, 0.0000, 0.0000,\n",
              "           0.0000, 0.0000, 0.0000, 0.0000],\n",
              "          [0.0000, 0.0000, 0.0000, 0.0000, 0.0000, 0.0000, 0.0000, 0.0000,\n",
              "           0.0000, 0.0000, 0.0000, 0.0000, 0.0039, 0.0000, 0.0000, 0.0510,\n",
              "           0.2863, 0.0000, 0.0000, 0.0039, 0.0157, 0.0000, 0.0000, 0.0000,\n",
              "           0.0000, 0.0039, 0.0039, 0.0000],\n",
              "          [0.0000, 0.0000, 0.0000, 0.0000, 0.0000, 0.0000, 0.0000, 0.0000,\n",
              "           0.0000, 0.0000, 0.0000, 0.0000, 0.0118, 0.0000, 0.1412, 0.5333,\n",
              "           0.4980, 0.2431, 0.2118, 0.0000, 0.0000, 0.0000, 0.0039, 0.0118,\n",
              "           0.0157, 0.0000, 0.0000, 0.0118],\n",
              "          [0.0000, 0.0000, 0.0000, 0.0000, 0.0000, 0.0000, 0.0000, 0.0000,\n",
              "           0.0000, 0.0000, 0.0000, 0.0000, 0.0235, 0.0000, 0.4000, 0.8000,\n",
              "           0.6902, 0.5255, 0.5647, 0.4824, 0.0902, 0.0000, 0.0000, 0.0000,\n",
              "           0.0000, 0.0471, 0.0392, 0.0000],\n",
              "          [0.0000, 0.0000, 0.0000, 0.0000, 0.0000, 0.0000, 0.0000, 0.0000,\n",
              "           0.0000, 0.0000, 0.0000, 0.0000, 0.0000, 0.0000, 0.6078, 0.9255,\n",
              "           0.8118, 0.6980, 0.4196, 0.6118, 0.6314, 0.4275, 0.2510, 0.0902,\n",
              "           0.3020, 0.5098, 0.2824, 0.0588],\n",
              "          [0.0000, 0.0000, 0.0000, 0.0000, 0.0000, 0.0000, 0.0000, 0.0000,\n",
              "           0.0000, 0.0000, 0.0000, 0.0039, 0.0000, 0.2706, 0.8118, 0.8745,\n",
              "           0.8549, 0.8471, 0.8471, 0.6392, 0.4980, 0.4745, 0.4784, 0.5725,\n",
              "           0.5529, 0.3451, 0.6745, 0.2588],\n",
              "          [0.0000, 0.0000, 0.0000, 0.0000, 0.0000, 0.0000, 0.0000, 0.0000,\n",
              "           0.0000, 0.0039, 0.0039, 0.0039, 0.0000, 0.7843, 0.9098, 0.9098,\n",
              "           0.9137, 0.8980, 0.8745, 0.8745, 0.8431, 0.8353, 0.6431, 0.4980,\n",
              "           0.4824, 0.7686, 0.8980, 0.0000],\n",
              "          [0.0000, 0.0000, 0.0000, 0.0000, 0.0000, 0.0000, 0.0000, 0.0000,\n",
              "           0.0000, 0.0000, 0.0000, 0.0000, 0.0000, 0.7176, 0.8824, 0.8471,\n",
              "           0.8745, 0.8941, 0.9216, 0.8902, 0.8784, 0.8706, 0.8784, 0.8667,\n",
              "           0.8745, 0.9608, 0.6784, 0.0000],\n",
              "          [0.0000, 0.0000, 0.0000, 0.0000, 0.0000, 0.0000, 0.0000, 0.0000,\n",
              "           0.0000, 0.0000, 0.0000, 0.0000, 0.0000, 0.7569, 0.8941, 0.8549,\n",
              "           0.8353, 0.7765, 0.7059, 0.8314, 0.8235, 0.8275, 0.8353, 0.8745,\n",
              "           0.8627, 0.9529, 0.7922, 0.0000],\n",
              "          [0.0000, 0.0000, 0.0000, 0.0000, 0.0000, 0.0000, 0.0000, 0.0000,\n",
              "           0.0000, 0.0039, 0.0118, 0.0000, 0.0471, 0.8588, 0.8627, 0.8314,\n",
              "           0.8549, 0.7529, 0.6627, 0.8902, 0.8157, 0.8549, 0.8784, 0.8314,\n",
              "           0.8863, 0.7725, 0.8196, 0.2039],\n",
              "          [0.0000, 0.0000, 0.0000, 0.0000, 0.0000, 0.0000, 0.0000, 0.0000,\n",
              "           0.0000, 0.0000, 0.0235, 0.0000, 0.3882, 0.9569, 0.8706, 0.8627,\n",
              "           0.8549, 0.7961, 0.7765, 0.8667, 0.8431, 0.8353, 0.8706, 0.8627,\n",
              "           0.9608, 0.4667, 0.6549, 0.2196],\n",
              "          [0.0000, 0.0000, 0.0000, 0.0000, 0.0000, 0.0000, 0.0000, 0.0000,\n",
              "           0.0000, 0.0157, 0.0000, 0.0000, 0.2157, 0.9255, 0.8941, 0.9020,\n",
              "           0.8941, 0.9412, 0.9098, 0.8353, 0.8549, 0.8745, 0.9176, 0.8510,\n",
              "           0.8510, 0.8196, 0.3608, 0.0000],\n",
              "          [0.0000, 0.0000, 0.0039, 0.0157, 0.0235, 0.0275, 0.0078, 0.0000,\n",
              "           0.0000, 0.0000, 0.0000, 0.0000, 0.9294, 0.8863, 0.8510, 0.8745,\n",
              "           0.8706, 0.8588, 0.8706, 0.8667, 0.8471, 0.8745, 0.8980, 0.8431,\n",
              "           0.8549, 1.0000, 0.3020, 0.0000],\n",
              "          [0.0000, 0.0118, 0.0000, 0.0000, 0.0000, 0.0000, 0.0000, 0.0000,\n",
              "           0.0000, 0.2431, 0.5686, 0.8000, 0.8941, 0.8118, 0.8353, 0.8667,\n",
              "           0.8549, 0.8157, 0.8275, 0.8549, 0.8784, 0.8745, 0.8588, 0.8431,\n",
              "           0.8784, 0.9569, 0.6235, 0.0000],\n",
              "          [0.0000, 0.0000, 0.0000, 0.0000, 0.0706, 0.1725, 0.3216, 0.4196,\n",
              "           0.7412, 0.8941, 0.8627, 0.8706, 0.8510, 0.8863, 0.7843, 0.8039,\n",
              "           0.8275, 0.9020, 0.8784, 0.9176, 0.6902, 0.7373, 0.9804, 0.9725,\n",
              "           0.9137, 0.9333, 0.8431, 0.0000],\n",
              "          [0.0000, 0.2235, 0.7333, 0.8157, 0.8784, 0.8667, 0.8784, 0.8157,\n",
              "           0.8000, 0.8392, 0.8157, 0.8196, 0.7843, 0.6235, 0.9608, 0.7569,\n",
              "           0.8078, 0.8745, 1.0000, 1.0000, 0.8667, 0.9176, 0.8667, 0.8275,\n",
              "           0.8627, 0.9098, 0.9647, 0.0000],\n",
              "          [0.0118, 0.7922, 0.8941, 0.8784, 0.8667, 0.8275, 0.8275, 0.8392,\n",
              "           0.8039, 0.8039, 0.8039, 0.8627, 0.9412, 0.3137, 0.5882, 1.0000,\n",
              "           0.8980, 0.8667, 0.7373, 0.6039, 0.7490, 0.8235, 0.8000, 0.8196,\n",
              "           0.8706, 0.8941, 0.8824, 0.0000],\n",
              "          [0.3843, 0.9137, 0.7765, 0.8235, 0.8706, 0.8980, 0.8980, 0.9176,\n",
              "           0.9765, 0.8627, 0.7608, 0.8431, 0.8510, 0.9451, 0.2549, 0.2863,\n",
              "           0.4157, 0.4588, 0.6588, 0.8588, 0.8667, 0.8431, 0.8510, 0.8745,\n",
              "           0.8745, 0.8784, 0.8980, 0.1137],\n",
              "          [0.2941, 0.8000, 0.8314, 0.8000, 0.7569, 0.8039, 0.8275, 0.8824,\n",
              "           0.8471, 0.7255, 0.7725, 0.8078, 0.7765, 0.8353, 0.9412, 0.7647,\n",
              "           0.8902, 0.9608, 0.9373, 0.8745, 0.8549, 0.8314, 0.8196, 0.8706,\n",
              "           0.8627, 0.8667, 0.9020, 0.2627],\n",
              "          [0.1882, 0.7961, 0.7176, 0.7608, 0.8353, 0.7725, 0.7255, 0.7451,\n",
              "           0.7608, 0.7529, 0.7922, 0.8392, 0.8588, 0.8667, 0.8627, 0.9255,\n",
              "           0.8824, 0.8471, 0.7804, 0.8078, 0.7294, 0.7098, 0.6941, 0.6745,\n",
              "           0.7098, 0.8039, 0.8078, 0.4510],\n",
              "          [0.0000, 0.4784, 0.8588, 0.7569, 0.7020, 0.6706, 0.7176, 0.7686,\n",
              "           0.8000, 0.8235, 0.8353, 0.8118, 0.8275, 0.8235, 0.7843, 0.7686,\n",
              "           0.7608, 0.7490, 0.7647, 0.7490, 0.7765, 0.7529, 0.6902, 0.6118,\n",
              "           0.6549, 0.6941, 0.8235, 0.3608],\n",
              "          [0.0000, 0.0000, 0.2902, 0.7412, 0.8314, 0.7490, 0.6863, 0.6745,\n",
              "           0.6863, 0.7098, 0.7255, 0.7373, 0.7412, 0.7373, 0.7569, 0.7765,\n",
              "           0.8000, 0.8196, 0.8235, 0.8235, 0.8275, 0.7373, 0.7373, 0.7608,\n",
              "           0.7529, 0.8471, 0.6667, 0.0000],\n",
              "          [0.0078, 0.0000, 0.0000, 0.0000, 0.2588, 0.7843, 0.8706, 0.9294,\n",
              "           0.9373, 0.9490, 0.9647, 0.9529, 0.9569, 0.8667, 0.8627, 0.7569,\n",
              "           0.7490, 0.7020, 0.7137, 0.7137, 0.7098, 0.6902, 0.6510, 0.6588,\n",
              "           0.3882, 0.2275, 0.0000, 0.0000],\n",
              "          [0.0000, 0.0000, 0.0000, 0.0000, 0.0000, 0.0000, 0.0000, 0.1569,\n",
              "           0.2392, 0.1725, 0.2824, 0.1608, 0.1373, 0.0000, 0.0000, 0.0000,\n",
              "           0.0000, 0.0000, 0.0000, 0.0000, 0.0000, 0.0000, 0.0000, 0.0000,\n",
              "           0.0000, 0.0000, 0.0000, 0.0000],\n",
              "          [0.0000, 0.0000, 0.0000, 0.0000, 0.0000, 0.0000, 0.0000, 0.0000,\n",
              "           0.0000, 0.0000, 0.0000, 0.0000, 0.0000, 0.0000, 0.0000, 0.0000,\n",
              "           0.0000, 0.0000, 0.0000, 0.0000, 0.0000, 0.0000, 0.0000, 0.0000,\n",
              "           0.0000, 0.0000, 0.0000, 0.0000],\n",
              "          [0.0000, 0.0000, 0.0000, 0.0000, 0.0000, 0.0000, 0.0000, 0.0000,\n",
              "           0.0000, 0.0000, 0.0000, 0.0000, 0.0000, 0.0000, 0.0000, 0.0000,\n",
              "           0.0000, 0.0000, 0.0000, 0.0000, 0.0000, 0.0000, 0.0000, 0.0000,\n",
              "           0.0000, 0.0000, 0.0000, 0.0000]]]),\n",
              " 9)"
            ]
          },
          "metadata": {},
          "execution_count": 7
        }
      ],
      "source": [
        "# See first training sample\n",
        "image, label = train_data[0]\n",
        "image, label"
      ]
    },
    {
      "cell_type": "code",
      "execution_count": null,
      "id": "0f91b5fb",
      "metadata": {
        "id": "0f91b5fb",
        "outputId": "cd86f2d5-6c19-4c96-c130-6e05cfaa55be",
        "colab": {
          "base_uri": "https://localhost:8080/"
        }
      },
      "outputs": [
        {
          "output_type": "execute_result",
          "data": {
            "text/plain": [
              "(torch.Size([1, 28, 28]), 9)"
            ]
          },
          "metadata": {},
          "execution_count": 10
        }
      ],
      "source": [
        "image.shape, label"
      ]
    },
    {
      "cell_type": "code",
      "execution_count": null,
      "id": "4fd5a71b",
      "metadata": {
        "id": "4fd5a71b",
        "outputId": "dcac7a68-2f7d-463d-81ef-9531feceb87a"
      },
      "outputs": [
        {
          "data": {
            "text/plain": [
              "(60000, 60000, 10000, 10000)"
            ]
          },
          "execution_count": 11,
          "metadata": {},
          "output_type": "execute_result"
        }
      ],
      "source": [
        "len(train_data.data), len(train_data.targets), len(test_data.data), len(test_data.targets)"
      ]
    },
    {
      "cell_type": "code",
      "execution_count": 8,
      "id": "aa8e684e",
      "metadata": {
        "id": "aa8e684e",
        "outputId": "d95f637c-a187-48f8-ba3e-62f83f086d1e",
        "colab": {
          "base_uri": "https://localhost:8080/"
        }
      },
      "outputs": [
        {
          "output_type": "execute_result",
          "data": {
            "text/plain": [
              "(torch.Size([60000, 28, 28]),\n",
              " torch.Size([60000]),\n",
              " torch.Size([10000, 28, 28]),\n",
              " torch.Size([10000]))"
            ]
          },
          "metadata": {},
          "execution_count": 8
        }
      ],
      "source": [
        "train_data.data.shape, train_data.targets.shape, test_data.data.shape, test_data.targets.shape"
      ]
    },
    {
      "cell_type": "code",
      "execution_count": 9,
      "id": "bafd95c0",
      "metadata": {
        "id": "bafd95c0",
        "outputId": "c21999d8-6179-4831-bca6-be5e4537b86b",
        "colab": {
          "base_uri": "https://localhost:8080/"
        }
      },
      "outputs": [
        {
          "output_type": "execute_result",
          "data": {
            "text/plain": [
              "['T-shirt/top',\n",
              " 'Trouser',\n",
              " 'Pullover',\n",
              " 'Dress',\n",
              " 'Coat',\n",
              " 'Sandal',\n",
              " 'Shirt',\n",
              " 'Sneaker',\n",
              " 'Bag',\n",
              " 'Ankle boot']"
            ]
          },
          "metadata": {},
          "execution_count": 9
        }
      ],
      "source": [
        "# See classes\n",
        "class_names = train_data.classes\n",
        "class_names"
      ]
    },
    {
      "cell_type": "code",
      "execution_count": 10,
      "id": "b0d45dc7",
      "metadata": {
        "collapsed": true,
        "id": "b0d45dc7",
        "outputId": "186270c4-cf02-43c6-9057-a9a738e4401b",
        "colab": {
          "base_uri": "https://localhost:8080/",
          "height": 470
        }
      },
      "outputs": [
        {
          "output_type": "stream",
          "name": "stdout",
          "text": [
            "Image shape: torch.Size([1, 28, 28])\n"
          ]
        },
        {
          "output_type": "display_data",
          "data": {
            "text/plain": [
              "<Figure size 640x480 with 1 Axes>"
            ],
            "image/png": "[encoded data removed]"
          },
          "metadata": {}
        }
      ],
      "source": [
        "import matplotlib.pyplot as plt\n",
        "image, label = train_data[0]\n",
        "print(f\"Image shape: {image.shape}\")\n",
        "plt.imshow(image.squeeze()) # image shape is [1, 28, 28] (colour channels, height, width)\n",
        "plt.title(label);"
      ]
    },
    {
      "cell_type": "code",
      "execution_count": 11,
      "id": "33f61b9a",
      "metadata": {
        "collapsed": true,
        "id": "33f61b9a",
        "outputId": "a8464d7b-6263-487d-da63-0ec8a6c2fa8d",
        "colab": {
          "base_uri": "https://localhost:8080/",
          "height": 452
        }
      },
      "outputs": [
        {
          "output_type": "display_data",
          "data": {
            "text/plain": [
              "<Figure size 640x480 with 1 Axes>"
            ],
            "image/png": "[encoded data removed]"
          },
          "metadata": {}
        }
      ],
      "source": [
        "plt.imshow(image.squeeze(), cmap=\"gray\")\n",
        "plt.title(class_names[label]);"
      ]
    },
    {
      "cell_type": "code",
      "execution_count": 12,
      "id": "f0962f76",
      "metadata": {
        "collapsed": true,
        "id": "f0962f76",
        "outputId": "4b81a32b-6880-4e9e-f994-ee599c8eea3b",
        "colab": {
          "base_uri": "https://localhost:8080/",
          "height": 906
        }
      },
      "outputs": [
        {
          "output_type": "display_data",
          "data": {
            "text/plain": [
              "<Figure size 900x900 with 16 Axes>"
            ],
            "image/png": "[encoded data removed]"
          },
          "metadata": {}
        }
      ],
      "source": [
        "torch.manual_seed(42)  # prevents printing the Generator\n",
        "rows, cols = 4, 4\n",
        "fig = plt.figure(figsize=(9, 9))\n",
        "\n",
        "for i in range(1, rows * cols + 1):\n",
        "    random_idx = torch.randint(0, len(train_data), (1,)).item()\n",
        "    img, label = train_data[random_idx]\n",
        "\n",
        "    ax = fig.add_subplot(rows, cols, i)\n",
        "    ax.imshow(img.squeeze(), cmap=\"gray\")      # this will suppress echo\n",
        "    ax.set_title(class_names[label])           # and this will too..\n",
        "    ax.set_axis_off()                          # no echo here... ;)\n",
        "\n",
        "plt.tight_layout()\n",
        "plt.show();"
      ]
    },
    {
      "cell_type": "code",
      "execution_count": 13,
      "id": "bb6bd04f",
      "metadata": {
        "id": "bb6bd04f",
        "outputId": "c67c5b6d-d176-4ff8-af9a-78c3ead5c4bf",
        "colab": {
          "base_uri": "https://localhost:8080/"
        }
      },
      "outputs": [
        {
          "output_type": "stream",
          "name": "stdout",
          "text": [
            "Dataloaders: (<torch.utils.data.dataloader.DataLoader object at 0x7fbbb9001850>, <torch.utils.data.dataloader.DataLoader object at 0x7fbbb8fb2e70>)\n",
            "Length of train dataloader: 1875 batches of 32\n",
            "Length of test dataloader: 313 batches of 32\n"
          ]
        }
      ],
      "source": [
        "from torch.utils.data import DataLoader\n",
        "\n",
        "# Setup the batch size hyperparameter\n",
        "BATCH_SIZE = 32\n",
        "\n",
        "# Turn datasets into iterables (batches)\n",
        "train_dataloader = DataLoader(\n",
        "    train_data # dataset to turn into iterable\n",
        "    , batch_size=BATCH_SIZE # how many samples per batch?\n",
        "    , shuffle=True # shuffle data every epoch?\n",
        ")\n",
        "\n",
        "test_dataloader = DataLoader(\n",
        "    test_data, batch_size=BATCH_SIZE\n",
        "    , shuffle=False # don't necessarily have to shuffle the testing data\n",
        ")\n",
        "\n",
        "# Let's check out what we've created\n",
        "print(f\"Dataloaders: {train_dataloader, test_dataloader}\")\n",
        "print(f\"Length of train dataloader: {len(train_dataloader)} batches of {BATCH_SIZE}\")\n",
        "print(f\"Length of test dataloader: {len(test_dataloader)} batches of {BATCH_SIZE}\")"
      ]
    },
    {
      "cell_type": "code",
      "execution_count": 15,
      "id": "84b5b771",
      "metadata": {
        "id": "84b5b771",
        "outputId": "446c6037-4b5d-435e-ac6d-534f6e286e52",
        "colab": {
          "base_uri": "https://localhost:8080/"
        }
      },
      "outputs": [
        {
          "output_type": "execute_result",
          "data": {
            "text/plain": [
              "(torch.Size([32, 1, 28, 28]), torch.Size([32]))"
            ]
          },
          "metadata": {},
          "execution_count": 15
        }
      ],
      "source": [
        "# Check out what's inside the training dataloader\n",
        "train_features_batch, train_labels_batch = next(iter(train_dataloader))\n",
        "train_features_batch.shape, train_labels_batch.shape"
      ]
    },
    {
      "cell_type": "code",
      "execution_count": 16,
      "id": "699b87e1",
      "metadata": {
        "id": "699b87e1",
        "outputId": "4457061f-217d-494d-91b0-88520b29bdb0",
        "colab": {
          "base_uri": "https://localhost:8080/",
          "height": 482
        }
      },
      "outputs": [
        {
          "output_type": "stream",
          "name": "stdout",
          "text": [
            "\n",
            "Image size: torch.Size([1, 28, 28])\n",
            "Label: 5, label size: torch.Size([])\n"
          ]
        },
        {
          "output_type": "display_data",
          "data": {
            "text/plain": [
              "<Figure size 640x480 with 1 Axes>"
            ],
            "image/png": "[encoded data removed]"
          },
          "metadata": {}
        }
      ],
      "source": [
        "# Show a sample\n",
        "torch.manual_seed(27)\n",
        "\n",
        "random_idx = torch.randint(0, len(train_features_batch), size=[1]).item()\n",
        "img, label = train_features_batch[random_idx], train_labels_batch[random_idx]\n",
        "plt.imshow(img.squeeze(), cmap=\"gray\")\n",
        "plt.title(class_names[label])\n",
        "plt.axis(\"Off\");\n",
        "\n",
        "print(f\"\\nImage size: {img.shape}\");\n",
        "print(f\"Label: {label}, label size: {label.shape}\");"
      ]
    },
    {
      "cell_type": "code",
      "execution_count": 17,
      "id": "c006feca",
      "metadata": {
        "scrolled": false,
        "id": "c006feca",
        "outputId": "512eb0b8-7f53-4bfc-f72d-7017a6b641ed",
        "colab": {
          "base_uri": "https://localhost:8080/"
        }
      },
      "outputs": [
        {
          "output_type": "stream",
          "name": "stdout",
          "text": [
            "Shape before flattening: torch.Size([1, 28, 28]) -> [color_channels, height, width]\n",
            "Shape after flattening: torch.Size([1, 784]) -> [color_channels, height*width]\n"
          ]
        }
      ],
      "source": [
        "# Create a flatten layer\n",
        "flatten_model = nn.Flatten() # all nn modules function as a model (can do a forward pass)\n",
        "\n",
        "# Get a single sample\n",
        "x = train_features_batch[0]\n",
        "\n",
        "# Flatten the sample\n",
        "output = flatten_model(x) # perform forward pass\n",
        "\n",
        "# Print out what happened\n",
        "print(f\"Shape before flattening: {x.shape} -> [color_channels, height, width]\")\n",
        "print(f\"Shape after flattening: {output.shape} -> [color_channels, height*width]\")"
      ]
    },
    {
      "cell_type": "code",
      "execution_count": null,
      "id": "58df97f6",
      "metadata": {
        "collapsed": true,
        "id": "58df97f6",
        "outputId": "c5233b6e-acc0-4e2c-cf0a-3d10d407aed2",
        "colab": {
          "base_uri": "https://localhost:8080/"
        }
      },
      "outputs": [
        {
          "output_type": "stream",
          "name": "stdout",
          "text": [
            "tensor([[[0.0000, 0.0000, 0.0000, 0.0000, 0.0000, 0.0000, 0.0000, 0.0000,\n",
            "          0.0392, 0.3333, 0.0431, 0.0000, 0.0000, 0.0000, 0.0000, 0.0000,\n",
            "          0.0000, 0.0000, 0.0000, 0.0000, 0.1608, 0.2784, 0.0000, 0.0000,\n",
            "          0.0000, 0.0000, 0.0000, 0.0000],\n",
            "         [0.0000, 0.0000, 0.0000, 0.0000, 0.0000, 0.0000, 0.0000, 0.0000,\n",
            "          0.0196, 0.4941, 0.2549, 0.0039, 0.0000, 0.0000, 0.0000, 0.0000,\n",
            "          0.0000, 0.0000, 0.0000, 0.0000, 0.2980, 0.3373, 0.0000, 0.0000,\n",
            "          0.0000, 0.0000, 0.0000, 0.0000],\n",
            "         [0.0000, 0.0000, 0.0000, 0.0000, 0.0000, 0.0000, 0.0000, 0.0039,\n",
            "          0.0000, 0.3255, 0.2745, 0.5137, 0.7176, 0.6706, 0.6863, 0.6784,\n",
            "          0.6980, 0.7569, 0.8275, 0.6588, 0.2667, 0.1490, 0.0000, 0.0000,\n",
            "          0.0000, 0.0000, 0.0000, 0.0000],\n",
            "         [0.0000, 0.0000, 0.0000, 0.0000, 0.0000, 0.0039, 0.0000, 0.0000,\n",
            "          0.0000, 0.2941, 0.2745, 0.2745, 0.3451, 0.3176, 0.3451, 0.3569,\n",
            "          0.4039, 0.4353, 0.4941, 0.3843, 0.2471, 0.2000, 0.0000, 0.0000,\n",
            "          0.0000, 0.0000, 0.0000, 0.0000],\n",
            "         [0.0000, 0.0000, 0.0000, 0.0039, 0.0118, 0.0039, 0.0000, 0.0000,\n",
            "          0.0000, 0.2353, 0.3451, 0.3255, 0.1804, 0.0118, 0.0000, 0.0000,\n",
            "          0.0000, 0.0000, 0.0196, 0.2196, 0.2980, 0.1490, 0.0000, 0.0118,\n",
            "          0.0000, 0.0000, 0.0000, 0.0000],\n",
            "         [0.0000, 0.0000, 0.0039, 0.0039, 0.0000, 0.0000, 0.0000, 0.0000,\n",
            "          0.0000, 0.3333, 0.3765, 0.2863, 0.3843, 0.3843, 0.3725, 0.3137,\n",
            "          0.3569, 0.4039, 0.3922, 0.3176, 0.3137, 0.2157, 0.0000, 0.0000,\n",
            "          0.0039, 0.0039, 0.0000, 0.0000],\n",
            "         [0.0000, 0.0000, 0.0118, 0.0000, 0.0039, 0.0000, 0.0000, 0.0000,\n",
            "          0.1608, 0.4706, 0.3647, 0.2784, 0.2196, 0.2353, 0.2196, 0.2392,\n",
            "          0.2471, 0.2353, 0.1804, 0.2157, 0.3569, 0.3176, 0.0000, 0.0000,\n",
            "          0.0118, 0.0196, 0.0000, 0.0000],\n",
            "         [0.0000, 0.0000, 0.0039, 0.0000, 0.0000, 0.0824, 0.0000, 0.0118,\n",
            "          0.6588, 0.5725, 0.2353, 0.3843, 0.2941, 0.2353, 0.2549, 0.2392,\n",
            "          0.2588, 0.2549, 0.2588, 0.1882, 0.3961, 0.5608, 0.2667, 0.0000,\n",
            "          0.0000, 0.0000, 0.0000, 0.0000],\n",
            "         [0.0000, 0.0000, 0.0039, 0.0000, 0.1569, 0.4745, 0.5294, 0.3137,\n",
            "          0.6980, 0.6588, 0.3569, 0.4157, 0.2157, 0.2588, 0.2392, 0.2196,\n",
            "          0.2471, 0.2392, 0.3451, 0.2471, 0.5490, 0.6863, 0.4902, 0.4235,\n",
            "          0.1882, 0.1176, 0.0000, 0.0000],\n",
            "         [0.0000, 0.0000, 0.0000, 0.0000, 0.3843, 0.0824, 0.6275, 0.3451,\n",
            "          0.6510, 0.2157, 0.4039, 0.2784, 0.2353, 0.2784, 0.2353, 0.2353,\n",
            "          0.2549, 0.2275, 0.3255, 0.3176, 0.1490, 0.6078, 0.6196, 0.5686,\n",
            "          0.4824, 0.6588, 0.0000, 0.0000],\n",
            "         [0.0000, 0.0000, 0.0000, 0.0235, 0.3176, 0.0039, 0.7059, 0.4039,\n",
            "          0.9059, 0.0000, 0.4118, 0.2784, 0.2588, 0.2392, 0.2196, 0.2471,\n",
            "          0.2588, 0.2078, 0.2863, 0.3725, 0.0392, 0.4039, 0.6275, 0.3176,\n",
            "          0.1569, 0.7490, 0.0000, 0.0000],\n",
            "         [0.0000, 0.0000, 0.0000, 0.1569, 0.1608, 0.4039, 0.5804, 0.5529,\n",
            "          0.7098, 0.0000, 0.4706, 0.2588, 0.2078, 0.2588, 0.2275, 0.2471,\n",
            "          0.2588, 0.2471, 0.2196, 0.3922, 0.0314, 0.2157, 0.9137, 0.3765,\n",
            "          0.0824, 0.6196, 0.0000, 0.0000],\n",
            "         [0.0000, 0.0000, 0.0000, 0.1882, 0.1412, 0.4902, 0.1765, 0.6980,\n",
            "          0.4745, 0.0000, 0.4549, 0.2392, 0.2471, 0.2471, 0.2275, 0.2549,\n",
            "          0.2549, 0.2392, 0.2078, 0.3647, 0.0000, 0.0431, 0.9608, 0.2980,\n",
            "          0.5882, 0.3647, 0.0000, 0.0000],\n",
            "         [0.0000, 0.0000, 0.0000, 0.1216, 0.4353, 0.4039, 0.0706, 0.9412,\n",
            "          0.2863, 0.0000, 0.4353, 0.2392, 0.2392, 0.2471, 0.2353, 0.2588,\n",
            "          0.2588, 0.2392, 0.2392, 0.3569, 0.0118, 0.0000, 0.9843, 0.1216,\n",
            "          0.7255, 0.2588, 0.0000, 0.0000],\n",
            "         [0.0000, 0.0000, 0.0000, 0.2157, 0.6588, 0.5137, 0.0706, 0.9451,\n",
            "          0.1216, 0.0000, 0.4118, 0.2275, 0.2392, 0.2549, 0.2392, 0.2588,\n",
            "          0.2667, 0.2392, 0.2275, 0.3451, 0.1176, 0.0000, 0.9529, 0.1686,\n",
            "          0.4549, 0.3843, 0.0000, 0.0000],\n",
            "         [0.0000, 0.0000, 0.0000, 0.3176, 0.3922, 0.2863, 0.2471, 1.0000,\n",
            "          0.0784, 0.1373, 0.3647, 0.2275, 0.2471, 0.2471, 0.2392, 0.2667,\n",
            "          0.2667, 0.2392, 0.2392, 0.2980, 0.1804, 0.0039, 0.7882, 0.5020,\n",
            "          0.1216, 0.4941, 0.0000, 0.0000],\n",
            "         [0.0000, 0.0000, 0.0000, 0.3176, 0.3137, 0.2667, 0.1961, 0.9412,\n",
            "          0.0196, 0.2588, 0.3059, 0.2275, 0.2667, 0.2275, 0.2196, 0.2667,\n",
            "          0.2667, 0.2353, 0.2196, 0.2471, 0.2196, 0.0235, 0.6667, 0.7373,\n",
            "          0.2784, 0.3647, 0.0510, 0.0000],\n",
            "         [0.0000, 0.0000, 0.0000, 0.3255, 0.2941, 0.2078, 0.2196, 0.9922,\n",
            "          0.0902, 0.3059, 0.2784, 0.2196, 0.2667, 0.2275, 0.2196, 0.2667,\n",
            "          0.2745, 0.2353, 0.2078, 0.2471, 0.2745, 0.1176, 0.5725, 0.5725,\n",
            "          0.6078, 0.2353, 0.1216, 0.0000],\n",
            "         [0.0000, 0.0000, 0.0000, 0.2392, 0.7059, 0.6588, 0.1020, 0.8275,\n",
            "          0.1686, 0.2980, 0.2549, 0.2196, 0.2667, 0.2353, 0.2196, 0.2667,\n",
            "          0.2667, 0.2392, 0.2157, 0.2196, 0.2392, 0.1098, 0.6706, 0.1294,\n",
            "          0.4706, 0.4706, 0.1098, 0.0000],\n",
            "         [0.0000, 0.0000, 0.0000, 0.4745, 0.3333, 0.3333, 0.2157, 0.7843,\n",
            "          0.2157, 0.2667, 0.2588, 0.2157, 0.2667, 0.2353, 0.2157, 0.2588,\n",
            "          0.2745, 0.2471, 0.2000, 0.2196, 0.2392, 0.1804, 0.4510, 0.4353,\n",
            "          0.6000, 0.6078, 0.2471, 0.0000],\n",
            "         [0.0000, 0.0000, 0.0000, 0.5333, 0.1804, 0.3529, 0.2588, 0.7843,\n",
            "          0.2078, 0.2196, 0.2157, 0.2157, 0.2667, 0.2196, 0.2549, 0.2549,\n",
            "          0.2588, 0.1961, 0.2078, 0.2275, 0.2078, 0.1961, 0.5608, 0.7882,\n",
            "          0.4824, 0.4706, 0.2196, 0.0000],\n",
            "         [0.0000, 0.0000, 0.0000, 0.3922, 0.0118, 0.2471, 0.2667, 0.6863,\n",
            "          0.2667, 0.2588, 0.2275, 0.2784, 0.2980, 0.2275, 0.2667, 0.2863,\n",
            "          0.3176, 0.2588, 0.2078, 0.2549, 0.2353, 0.1608, 0.5216, 0.7059,\n",
            "          0.7373, 0.2941, 0.0000, 0.0000],\n",
            "         [0.0000, 0.0000, 0.0039, 0.3373, 0.0000, 0.2784, 0.1569, 0.5412,\n",
            "          0.0314, 0.1098, 0.1608, 0.2392, 0.2863, 0.2549, 0.2667, 0.2784,\n",
            "          0.2863, 0.2392, 0.1804, 0.1765, 0.0980, 0.0784, 0.7255, 0.3137,\n",
            "          0.5412, 0.3176, 0.0000, 0.0000],\n",
            "         [0.0000, 0.0000, 0.0627, 0.4118, 0.0000, 0.3843, 0.2784, 0.5412,\n",
            "          0.0000, 0.0000, 0.0000, 0.0000, 0.0000, 0.0000, 0.0000, 0.0000,\n",
            "          0.0000, 0.0000, 0.0000, 0.0000, 0.0000, 0.0000, 0.6706, 0.3765,\n",
            "          0.2353, 0.5882, 0.0000, 0.0000],\n",
            "         [0.0000, 0.0000, 0.1294, 0.3647, 0.0000, 0.0980, 0.1490, 0.2353,\n",
            "          0.0000, 0.0000, 0.0039, 0.0039, 0.0039, 0.0000, 0.0000, 0.0000,\n",
            "          0.0000, 0.0000, 0.0039, 0.0039, 0.0000, 0.0000, 0.1373, 0.1569,\n",
            "          0.0196, 0.2588, 0.1686, 0.0000],\n",
            "         [0.0000, 0.0000, 0.2863, 0.2863, 0.0000, 0.0000, 0.0000, 0.0000,\n",
            "          0.0000, 0.0039, 0.0000, 0.0000, 0.0000, 0.0000, 0.0000, 0.0000,\n",
            "          0.0000, 0.0000, 0.0000, 0.0000, 0.0039, 0.0000, 0.0000, 0.0000,\n",
            "          0.0000, 0.0314, 0.1804, 0.0000],\n",
            "         [0.0000, 0.0000, 0.3451, 0.2392, 0.0000, 0.0235, 0.0039, 0.0118,\n",
            "          0.0000, 0.0039, 0.0000, 0.0000, 0.0000, 0.0000, 0.0000, 0.0000,\n",
            "          0.0000, 0.0000, 0.0039, 0.0000, 0.0000, 0.0039, 0.0118, 0.0118,\n",
            "          0.0000, 0.0627, 0.4157, 0.0000],\n",
            "         [0.0000, 0.0000, 0.0000, 0.0118, 0.0000, 0.0039, 0.0000, 0.0000,\n",
            "          0.0000, 0.0000, 0.0000, 0.0000, 0.0000, 0.0000, 0.0000, 0.0000,\n",
            "          0.0000, 0.0000, 0.0000, 0.0000, 0.0000, 0.0039, 0.0000, 0.0039,\n",
            "          0.0000, 0.0000, 0.3373, 0.0000]]])\n",
            "tensor([[0.0000, 0.0000, 0.0000, 0.0000, 0.0000, 0.0000, 0.0000, 0.0000, 0.0392,\n",
            "         0.3333, 0.0431, 0.0000, 0.0000, 0.0000, 0.0000, 0.0000, 0.0000, 0.0000,\n",
            "         0.0000, 0.0000, 0.1608, 0.2784, 0.0000, 0.0000, 0.0000, 0.0000, 0.0000,\n",
            "         0.0000, 0.0000, 0.0000, 0.0000, 0.0000, 0.0000, 0.0000, 0.0000, 0.0000,\n",
            "         0.0196, 0.4941, 0.2549, 0.0039, 0.0000, 0.0000, 0.0000, 0.0000, 0.0000,\n",
            "         0.0000, 0.0000, 0.0000, 0.2980, 0.3373, 0.0000, 0.0000, 0.0000, 0.0000,\n",
            "         0.0000, 0.0000, 0.0000, 0.0000, 0.0000, 0.0000, 0.0000, 0.0000, 0.0000,\n",
            "         0.0039, 0.0000, 0.3255, 0.2745, 0.5137, 0.7176, 0.6706, 0.6863, 0.6784,\n",
            "         0.6980, 0.7569, 0.8275, 0.6588, 0.2667, 0.1490, 0.0000, 0.0000, 0.0000,\n",
            "         0.0000, 0.0000, 0.0000, 0.0000, 0.0000, 0.0000, 0.0000, 0.0000, 0.0039,\n",
            "         0.0000, 0.0000, 0.0000, 0.2941, 0.2745, 0.2745, 0.3451, 0.3176, 0.3451,\n",
            "         0.3569, 0.4039, 0.4353, 0.4941, 0.3843, 0.2471, 0.2000, 0.0000, 0.0000,\n",
            "         0.0000, 0.0000, 0.0000, 0.0000, 0.0000, 0.0000, 0.0000, 0.0039, 0.0118,\n",
            "         0.0039, 0.0000, 0.0000, 0.0000, 0.2353, 0.3451, 0.3255, 0.1804, 0.0118,\n",
            "         0.0000, 0.0000, 0.0000, 0.0000, 0.0196, 0.2196, 0.2980, 0.1490, 0.0000,\n",
            "         0.0118, 0.0000, 0.0000, 0.0000, 0.0000, 0.0000, 0.0000, 0.0039, 0.0039,\n",
            "         0.0000, 0.0000, 0.0000, 0.0000, 0.0000, 0.3333, 0.3765, 0.2863, 0.3843,\n",
            "         0.3843, 0.3725, 0.3137, 0.3569, 0.4039, 0.3922, 0.3176, 0.3137, 0.2157,\n",
            "         0.0000, 0.0000, 0.0039, 0.0039, 0.0000, 0.0000, 0.0000, 0.0000, 0.0118,\n",
            "         0.0000, 0.0039, 0.0000, 0.0000, 0.0000, 0.1608, 0.4706, 0.3647, 0.2784,\n",
            "         0.2196, 0.2353, 0.2196, 0.2392, 0.2471, 0.2353, 0.1804, 0.2157, 0.3569,\n",
            "         0.3176, 0.0000, 0.0000, 0.0118, 0.0196, 0.0000, 0.0000, 0.0000, 0.0000,\n",
            "         0.0039, 0.0000, 0.0000, 0.0824, 0.0000, 0.0118, 0.6588, 0.5725, 0.2353,\n",
            "         0.3843, 0.2941, 0.2353, 0.2549, 0.2392, 0.2588, 0.2549, 0.2588, 0.1882,\n",
            "         0.3961, 0.5608, 0.2667, 0.0000, 0.0000, 0.0000, 0.0000, 0.0000, 0.0000,\n",
            "         0.0000, 0.0039, 0.0000, 0.1569, 0.4745, 0.5294, 0.3137, 0.6980, 0.6588,\n",
            "         0.3569, 0.4157, 0.2157, 0.2588, 0.2392, 0.2196, 0.2471, 0.2392, 0.3451,\n",
            "         0.2471, 0.5490, 0.6863, 0.4902, 0.4235, 0.1882, 0.1176, 0.0000, 0.0000,\n",
            "         0.0000, 0.0000, 0.0000, 0.0000, 0.3843, 0.0824, 0.6275, 0.3451, 0.6510,\n",
            "         0.2157, 0.4039, 0.2784, 0.2353, 0.2784, 0.2353, 0.2353, 0.2549, 0.2275,\n",
            "         0.3255, 0.3176, 0.1490, 0.6078, 0.6196, 0.5686, 0.4824, 0.6588, 0.0000,\n",
            "         0.0000, 0.0000, 0.0000, 0.0000, 0.0235, 0.3176, 0.0039, 0.7059, 0.4039,\n",
            "         0.9059, 0.0000, 0.4118, 0.2784, 0.2588, 0.2392, 0.2196, 0.2471, 0.2588,\n",
            "         0.2078, 0.2863, 0.3725, 0.0392, 0.4039, 0.6275, 0.3176, 0.1569, 0.7490,\n",
            "         0.0000, 0.0000, 0.0000, 0.0000, 0.0000, 0.1569, 0.1608, 0.4039, 0.5804,\n",
            "         0.5529, 0.7098, 0.0000, 0.4706, 0.2588, 0.2078, 0.2588, 0.2275, 0.2471,\n",
            "         0.2588, 0.2471, 0.2196, 0.3922, 0.0314, 0.2157, 0.9137, 0.3765, 0.0824,\n",
            "         0.6196, 0.0000, 0.0000, 0.0000, 0.0000, 0.0000, 0.1882, 0.1412, 0.4902,\n",
            "         0.1765, 0.6980, 0.4745, 0.0000, 0.4549, 0.2392, 0.2471, 0.2471, 0.2275,\n",
            "         0.2549, 0.2549, 0.2392, 0.2078, 0.3647, 0.0000, 0.0431, 0.9608, 0.2980,\n",
            "         0.5882, 0.3647, 0.0000, 0.0000, 0.0000, 0.0000, 0.0000, 0.1216, 0.4353,\n",
            "         0.4039, 0.0706, 0.9412, 0.2863, 0.0000, 0.4353, 0.2392, 0.2392, 0.2471,\n",
            "         0.2353, 0.2588, 0.2588, 0.2392, 0.2392, 0.3569, 0.0118, 0.0000, 0.9843,\n",
            "         0.1216, 0.7255, 0.2588, 0.0000, 0.0000, 0.0000, 0.0000, 0.0000, 0.2157,\n",
            "         0.6588, 0.5137, 0.0706, 0.9451, 0.1216, 0.0000, 0.4118, 0.2275, 0.2392,\n",
            "         0.2549, 0.2392, 0.2588, 0.2667, 0.2392, 0.2275, 0.3451, 0.1176, 0.0000,\n",
            "         0.9529, 0.1686, 0.4549, 0.3843, 0.0000, 0.0000, 0.0000, 0.0000, 0.0000,\n",
            "         0.3176, 0.3922, 0.2863, 0.2471, 1.0000, 0.0784, 0.1373, 0.3647, 0.2275,\n",
            "         0.2471, 0.2471, 0.2392, 0.2667, 0.2667, 0.2392, 0.2392, 0.2980, 0.1804,\n",
            "         0.0039, 0.7882, 0.5020, 0.1216, 0.4941, 0.0000, 0.0000, 0.0000, 0.0000,\n",
            "         0.0000, 0.3176, 0.3137, 0.2667, 0.1961, 0.9412, 0.0196, 0.2588, 0.3059,\n",
            "         0.2275, 0.2667, 0.2275, 0.2196, 0.2667, 0.2667, 0.2353, 0.2196, 0.2471,\n",
            "         0.2196, 0.0235, 0.6667, 0.7373, 0.2784, 0.3647, 0.0510, 0.0000, 0.0000,\n",
            "         0.0000, 0.0000, 0.3255, 0.2941, 0.2078, 0.2196, 0.9922, 0.0902, 0.3059,\n",
            "         0.2784, 0.2196, 0.2667, 0.2275, 0.2196, 0.2667, 0.2745, 0.2353, 0.2078,\n",
            "         0.2471, 0.2745, 0.1176, 0.5725, 0.5725, 0.6078, 0.2353, 0.1216, 0.0000,\n",
            "         0.0000, 0.0000, 0.0000, 0.2392, 0.7059, 0.6588, 0.1020, 0.8275, 0.1686,\n",
            "         0.2980, 0.2549, 0.2196, 0.2667, 0.2353, 0.2196, 0.2667, 0.2667, 0.2392,\n",
            "         0.2157, 0.2196, 0.2392, 0.1098, 0.6706, 0.1294, 0.4706, 0.4706, 0.1098,\n",
            "         0.0000, 0.0000, 0.0000, 0.0000, 0.4745, 0.3333, 0.3333, 0.2157, 0.7843,\n",
            "         0.2157, 0.2667, 0.2588, 0.2157, 0.2667, 0.2353, 0.2157, 0.2588, 0.2745,\n",
            "         0.2471, 0.2000, 0.2196, 0.2392, 0.1804, 0.4510, 0.4353, 0.6000, 0.6078,\n",
            "         0.2471, 0.0000, 0.0000, 0.0000, 0.0000, 0.5333, 0.1804, 0.3529, 0.2588,\n",
            "         0.7843, 0.2078, 0.2196, 0.2157, 0.2157, 0.2667, 0.2196, 0.2549, 0.2549,\n",
            "         0.2588, 0.1961, 0.2078, 0.2275, 0.2078, 0.1961, 0.5608, 0.7882, 0.4824,\n",
            "         0.4706, 0.2196, 0.0000, 0.0000, 0.0000, 0.0000, 0.3922, 0.0118, 0.2471,\n",
            "         0.2667, 0.6863, 0.2667, 0.2588, 0.2275, 0.2784, 0.2980, 0.2275, 0.2667,\n",
            "         0.2863, 0.3176, 0.2588, 0.2078, 0.2549, 0.2353, 0.1608, 0.5216, 0.7059,\n",
            "         0.7373, 0.2941, 0.0000, 0.0000, 0.0000, 0.0000, 0.0039, 0.3373, 0.0000,\n",
            "         0.2784, 0.1569, 0.5412, 0.0314, 0.1098, 0.1608, 0.2392, 0.2863, 0.2549,\n",
            "         0.2667, 0.2784, 0.2863, 0.2392, 0.1804, 0.1765, 0.0980, 0.0784, 0.7255,\n",
            "         0.3137, 0.5412, 0.3176, 0.0000, 0.0000, 0.0000, 0.0000, 0.0627, 0.4118,\n",
            "         0.0000, 0.3843, 0.2784, 0.5412, 0.0000, 0.0000, 0.0000, 0.0000, 0.0000,\n",
            "         0.0000, 0.0000, 0.0000, 0.0000, 0.0000, 0.0000, 0.0000, 0.0000, 0.0000,\n",
            "         0.6706, 0.3765, 0.2353, 0.5882, 0.0000, 0.0000, 0.0000, 0.0000, 0.1294,\n",
            "         0.3647, 0.0000, 0.0980, 0.1490, 0.2353, 0.0000, 0.0000, 0.0039, 0.0039,\n",
            "         0.0039, 0.0000, 0.0000, 0.0000, 0.0000, 0.0000, 0.0039, 0.0039, 0.0000,\n",
            "         0.0000, 0.1373, 0.1569, 0.0196, 0.2588, 0.1686, 0.0000, 0.0000, 0.0000,\n",
            "         0.2863, 0.2863, 0.0000, 0.0000, 0.0000, 0.0000, 0.0000, 0.0039, 0.0000,\n",
            "         0.0000, 0.0000, 0.0000, 0.0000, 0.0000, 0.0000, 0.0000, 0.0000, 0.0000,\n",
            "         0.0039, 0.0000, 0.0000, 0.0000, 0.0000, 0.0314, 0.1804, 0.0000, 0.0000,\n",
            "         0.0000, 0.3451, 0.2392, 0.0000, 0.0235, 0.0039, 0.0118, 0.0000, 0.0039,\n",
            "         0.0000, 0.0000, 0.0000, 0.0000, 0.0000, 0.0000, 0.0000, 0.0000, 0.0039,\n",
            "         0.0000, 0.0000, 0.0039, 0.0118, 0.0118, 0.0000, 0.0627, 0.4157, 0.0000,\n",
            "         0.0000, 0.0000, 0.0000, 0.0118, 0.0000, 0.0039, 0.0000, 0.0000, 0.0000,\n",
            "         0.0000, 0.0000, 0.0000, 0.0000, 0.0000, 0.0000, 0.0000, 0.0000, 0.0000,\n",
            "         0.0000, 0.0000, 0.0000, 0.0039, 0.0000, 0.0039, 0.0000, 0.0000, 0.3373,\n",
            "         0.0000]])\n"
          ]
        }
      ],
      "source": [
        "print(x)\n",
        "print(output)"
      ]
    },
    {
      "cell_type": "code",
      "execution_count": 18,
      "id": "7059e6db",
      "metadata": {
        "id": "7059e6db",
        "outputId": "f4f77509-0fb4-4467-9663-fae47f003e49",
        "colab": {
          "base_uri": "https://localhost:8080/"
        }
      },
      "outputs": [
        {
          "output_type": "stream",
          "name": "stdout",
          "text": [
            "Downloading helper_functions.py\n"
          ]
        },
        {
          "output_type": "execute_result",
          "data": {
            "text/plain": [
              "10160"
            ]
          },
          "metadata": {},
          "execution_count": 18
        }
      ],
      "source": [
        "import requests\n",
        "from pathlib import Path\n",
        "\n",
        "# Download helper functions from Learn PyTorch repo (if not already downloaded)\n",
        "if Path(\"helper_functions.py\").is_file():\n",
        "  print(\"helper_functions.py already exists, skipping download\")\n",
        "else:\n",
        "  print(\"Downloading helper_functions.py\")\n",
        "  # Note: you need the \"raw\" GitHub URL for this to work\n",
        "  request = requests.get(\"https://raw.githubusercontent.com/mrdbourke/pytorch-deep-learning/main/helper_functions.py\")\n",
        "  with open(\"helper_functions.py\", \"wb\") as f:\n",
        "    f.write(request.content)"
      ]
    },
    {
      "cell_type": "code",
      "source": [
        "!pip install torchmetrics"
      ],
      "metadata": {
        "collapsed": true,
        "id": "CPy-IKQnT9op",
        "outputId": "8590ee14-1fe4-4d25-8dcf-8c9e93bef3ad",
        "colab": {
          "base_uri": "https://localhost:8080/"
        }
      },
      "id": "CPy-IKQnT9op",
      "execution_count": 19,
      "outputs": [
        {
          "output_type": "stream",
          "name": "stdout",
          "text": [
            "Collecting torchmetrics\n",
            "  Downloading torchmetrics-1.8.1-py3-none-any.whl.metadata (22 kB)\n",
            "Requirement already satisfied: numpy>1.20.0 in /usr/local/lib/python3.12/dist-packages (from torchmetrics) (2.0.2)\n",
            "Requirement already satisfied: packaging>17.1 in /usr/local/lib/python3.12/dist-packages (from torchmetrics) (25.0)\n",
            "Requirement already satisfied: torch>=2.0.0 in /usr/local/lib/python3.12/dist-packages (from torchmetrics) (2.8.0+cu126)\n",
            "Collecting lightning-utilities>=0.8.0 (from torchmetrics)\n",
            "  Downloading lightning_utilities-0.15.2-py3-none-any.whl.metadata (5.7 kB)\n",
            "Requirement already satisfied: setuptools in /usr/local/lib/python3.12/dist-packages (from lightning-utilities>=0.8.0->torchmetrics) (75.2.0)\n",
            "Requirement already satisfied: typing_extensions in /usr/local/lib/python3.12/dist-packages (from lightning-utilities>=0.8.0->torchmetrics) (4.15.0)\n",
            "Requirement already satisfied: filelock in /usr/local/lib/python3.12/dist-packages (from torch>=2.0.0->torchmetrics) (3.19.1)\n",
            "Requirement already satisfied: sympy>=1.13.3 in /usr/local/lib/python3.12/dist-packages (from torch>=2.0.0->torchmetrics) (1.13.3)\n",
            "Requirement already satisfied: networkx in /usr/local/lib/python3.12/dist-packages (from torch>=2.0.0->torchmetrics) (3.5)\n",
            "Requirement already satisfied: jinja2 in /usr/local/lib/python3.12/dist-packages (from torch>=2.0.0->torchmetrics) (3.1.6)\n",
            "Requirement already satisfied: fsspec in /usr/local/lib/python3.12/dist-packages (from torch>=2.0.0->torchmetrics) (2025.3.0)\n",
            "Requirement already satisfied: nvidia-cuda-nvrtc-cu12==12.6.77 in /usr/local/lib/python3.12/dist-packages (from torch>=2.0.0->torchmetrics) (12.6.77)\n",
            "Requirement already satisfied: nvidia-cuda-runtime-cu12==12.6.77 in /usr/local/lib/python3.12/dist-packages (from torch>=2.0.0->torchmetrics) (12.6.77)\n",
            "Requirement already satisfied: nvidia-cuda-cupti-cu12==12.6.80 in /usr/local/lib/python3.12/dist-packages (from torch>=2.0.0->torchmetrics) (12.6.80)\n",
            "Requirement already satisfied: nvidia-cudnn-cu12==9.10.2.21 in /usr/local/lib/python3.12/dist-packages (from torch>=2.0.0->torchmetrics) (9.10.2.21)\n",
            "Requirement already satisfied: nvidia-cublas-cu12==12.6.4.1 in /usr/local/lib/python3.12/dist-packages (from torch>=2.0.0->torchmetrics) (12.6.4.1)\n",
            "Requirement already satisfied: nvidia-cufft-cu12==11.3.0.4 in /usr/local/lib/python3.12/dist-packages (from torch>=2.0.0->torchmetrics) (11.3.0.4)\n",
            "Requirement already satisfied: nvidia-curand-cu12==10.3.7.77 in /usr/local/lib/python3.12/dist-packages (from torch>=2.0.0->torchmetrics) (10.3.7.77)\n",
            "Requirement already satisfied: nvidia-cusolver-cu12==11.7.1.2 in /usr/local/lib/python3.12/dist-packages (from torch>=2.0.0->torchmetrics) (11.7.1.2)\n",
            "Requirement already satisfied: nvidia-cusparse-cu12==12.5.4.2 in /usr/local/lib/python3.12/dist-packages (from torch>=2.0.0->torchmetrics) (12.5.4.2)\n",
            "Requirement already satisfied: nvidia-cusparselt-cu12==0.7.1 in /usr/local/lib/python3.12/dist-packages (from torch>=2.0.0->torchmetrics) (0.7.1)\n",
            "Requirement already satisfied: nvidia-nccl-cu12==2.27.3 in /usr/local/lib/python3.12/dist-packages (from torch>=2.0.0->torchmetrics) (2.27.3)\n",
            "Requirement already satisfied: nvidia-nvtx-cu12==12.6.77 in /usr/local/lib/python3.12/dist-packages (from torch>=2.0.0->torchmetrics) (12.6.77)\n",
            "Requirement already satisfied: nvidia-nvjitlink-cu12==12.6.85 in /usr/local/lib/python3.12/dist-packages (from torch>=2.0.0->torchmetrics) (12.6.85)\n",
            "Requirement already satisfied: nvidia-cufile-cu12==1.11.1.6 in /usr/local/lib/python3.12/dist-packages (from torch>=2.0.0->torchmetrics) (1.11.1.6)\n",
            "Requirement already satisfied: triton==3.4.0 in /usr/local/lib/python3.12/dist-packages (from torch>=2.0.0->torchmetrics) (3.4.0)\n",
            "Requirement already satisfied: mpmath<1.4,>=1.1.0 in /usr/local/lib/python3.12/dist-packages (from sympy>=1.13.3->torch>=2.0.0->torchmetrics) (1.3.0)\n",
            "Requirement already satisfied: MarkupSafe>=2.0 in /usr/local/lib/python3.12/dist-packages (from jinja2->torch>=2.0.0->torchmetrics) (3.0.2)\n",
            "Downloading torchmetrics-1.8.1-py3-none-any.whl (982 kB)\n",
            "\u001b[2K   \u001b[90m━━━━━━━━━━━━━━━━━━━━━━━━━━━━━━━━━━━━━━━━\u001b[0m \u001b[32m983.0/983.0 kB\u001b[0m \u001b[31m21.2 MB/s\u001b[0m eta \u001b[36m0:00:00\u001b[0m\n",
            "\u001b[?25hDownloading lightning_utilities-0.15.2-py3-none-any.whl (29 kB)\n",
            "Installing collected packages: lightning-utilities, torchmetrics\n",
            "Successfully installed lightning-utilities-0.15.2 torchmetrics-1.8.1\n"
          ]
        }
      ]
    },
    {
      "cell_type": "code",
      "execution_count": null,
      "id": "9cad85f3",
      "metadata": {
        "id": "9cad85f3",
        "outputId": "5120c3a8-f4f7-4887-a924-e3c0b2536d7b",
        "colab": {
          "base_uri": "https://localhost:8080/",
          "height": 204
        }
      },
      "outputs": [
        {
          "output_type": "execute_result",
          "data": {
            "text/plain": [
              "<function helper_functions.accuracy_fn(y_true, y_pred)>"
            ],
            "text/html": [
              "<div style=\"max-width:800px; border: 1px solid var(--colab-border-color);\"><style>\n",
              "      pre.function-repr-contents {\n",
              "        overflow-x: auto;\n",
              "        padding: 8px 12px;\n",
              "        max-height: 500px;\n",
              "      }\n",
              "\n",
              "      pre.function-repr-contents.function-repr-contents-collapsed {\n",
              "        cursor: pointer;\n",
              "        max-height: 100px;\n",
              "      }\n",
              "    </style>\n",
              "    <pre style=\"white-space: initial; background:\n",
              "         var(--colab-secondary-surface-color); padding: 8px 12px;\n",
              "         border-bottom: 1px solid var(--colab-border-color);\"><b>helper_functions.accuracy_fn</b><br/>def accuracy_fn(y_true, y_pred)</pre><pre class=\"function-repr-contents function-repr-contents-collapsed\" style=\"\"><a class=\"filepath\" style=\"display:none\" href=\"#\">/content/helper_functions.py</a>Calculates accuracy between truth labels and predictions.\n",
              "\n",
              "Args:\n",
              "    y_true (torch.Tensor): Truth labels for predictions.\n",
              "    y_pred (torch.Tensor): Predictions to be compared to predictions.\n",
              "\n",
              "Returns:\n",
              "    [torch.float]: Accuracy value between y_true and y_pred, e.g. 78.45</pre>\n",
              "      <script>\n",
              "      if (google.colab.kernel.accessAllowed && google.colab.files && google.colab.files.view) {\n",
              "        for (const element of document.querySelectorAll('.filepath')) {\n",
              "          element.style.display = 'block'\n",
              "          element.onclick = (event) => {\n",
              "            event.preventDefault();\n",
              "            event.stopPropagation();\n",
              "            google.colab.files.view(element.textContent, 98);\n",
              "          };\n",
              "        }\n",
              "      }\n",
              "      for (const element of document.querySelectorAll('.function-repr-contents')) {\n",
              "        element.onclick = (event) => {\n",
              "          event.preventDefault();\n",
              "          event.stopPropagation();\n",
              "          element.classList.toggle('function-repr-contents-collapsed');\n",
              "        };\n",
              "      }\n",
              "      </script>\n",
              "      </div>"
            ]
          },
          "metadata": {},
          "execution_count": 25
        },
        {
          "output_type": "execute_result",
          "data": {
            "text/plain": [
              "MulticlassAccuracy()"
            ]
          },
          "metadata": {},
          "execution_count": 25
        }
      ],
      "source": [
        "# Import accuracy metric\n",
        "from helper_functions import accuracy_fn\n",
        "# Note: could also use torchmetrics.Accuracy(task = 'multiclass', num_classes=len(class_names)).to(device)\n",
        "\n",
        "import torchmetrics\n",
        "\n",
        "accuracy_torch_fn = torchmetrics.Accuracy(task = 'multiclass', num_classes=len(class_names)).to(device)\n",
        "\n",
        "accuracy_fn\n",
        "accuracy_torch_fn"
      ]
    },
    {
      "cell_type": "code",
      "execution_count": 21,
      "id": "58cd3ba1",
      "metadata": {
        "id": "58cd3ba1"
      },
      "outputs": [],
      "source": [
        "from timeit import default_timer as timer\n",
        "\n",
        "def print_train_time(start: float, end: float, device: torch.device = None):\n",
        "    \"\"\"Prints difference between start and end time.\n",
        "\n",
        "    Args:\n",
        "        start (float): Start time of computation (preferred in timeit format).\n",
        "        end (float): End time of computation.\n",
        "        device ([type], optional): Device that compute is running on. Defaults to None.\n",
        "\n",
        "    Returns:\n",
        "        float: time between start and end in seconds (higher is longer).\n",
        "    \"\"\"\n",
        "    total_time = end - start\n",
        "    print(f\"Train time on {device}: {total_time:.3f} seconds\")\n",
        "    return total_time"
      ]
    },
    {
      "cell_type": "code",
      "source": [
        "# 1) Define a simple CNN\n",
        "class SimpleCNN(nn.Module):\n",
        "    def __init__(self, channels=32, dropout=0.25):\n",
        "        super().__init__()\n",
        "        self.features = nn.Sequential(\n",
        "            nn.Conv2d(1, channels, kernel_size=3, padding=1)\n",
        "            , nn.ReLU(inplace=True)\n",
        "            , nn.MaxPool2d(2)\n",
        "            , nn.Conv2d(channels, channels * 2, kernel_size=3, padding=1)\n",
        "            , nn.ReLU(inplace=True)\n",
        "            , nn.MaxPool2d(2)\n",
        "        )\n",
        "        self.classifier = nn.Sequential(\n",
        "            nn.Flatten()\n",
        "            , nn.Dropout(dropout)\n",
        "            , nn.Linear((channels * 2) * 7 * 7, 128)\n",
        "            , nn.ReLU(inplace=True)\n",
        "            , nn.Dropout(dropout)\n",
        "            , nn.Linear(128, 10)\n",
        "        )\n",
        "\n",
        "    def forward(self, x):\n",
        "        x = self.features(x)\n",
        "        x = self.classifier(x)\n",
        "        return x"
      ],
      "metadata": {
        "id": "fMzD70pSsixE"
      },
      "id": "fMzD70pSsixE",
      "execution_count": 22,
      "outputs": []
    },
    {
      "cell_type": "code",
      "source": [
        "# 2) Data transforms\n",
        "transform = transforms.Compose([\n",
        "    transforms.ToTensor()\n",
        "    , transforms.Normalize((0.5,), (0.5,))\n",
        "])"
      ],
      "metadata": {
        "id": "af9gKCV8si0n"
      },
      "id": "af9gKCV8si0n",
      "execution_count": 25,
      "outputs": []
    },
    {
      "cell_type": "code",
      "source": [
        "net = NeuralNetClassifier(\n",
        "    module=SimpleCNN\n",
        "    , module__channels=32\n",
        "    , module__dropout=0.25\n",
        "    , criterion=nn.CrossEntropyLoss\n",
        "    , optimizer=torch.optim.Adam\n",
        "    , optimizer__weight_decay=0.0\n",
        "    , lr=1e-3\n",
        "    , batch_size=128\n",
        "    , max_epochs=6\n",
        "    , iterator_train__shuffle=True\n",
        "    , device=device\n",
        ")"
      ],
      "metadata": {
        "id": "scrOpaoxsi4P"
      },
      "id": "scrOpaoxsi4P",
      "execution_count": 26,
      "outputs": []
    },
    {
      "cell_type": "code",
      "source": [
        "# 5) Define param grid (note skorch prefixes module params with 'module__')\n",
        "param_grid = {\n",
        "    \"module__channels\": [16, 32, 64]\n",
        "    , \"module__dropout\": [0.0, 0.25, 0.5]\n",
        "    , \"lr\": [1e-3, 3e-4]\n",
        "    , \"optimizer\": [torch.optim.Adam, torch.optim.SGD]\n",
        "    , \"optimizer__weight_decay\": [0.0, 1e-4]\n",
        "    , \"batch_size\": [64, 128]\n",
        "    , \"max_epochs\": [6]  # keep small for demo\n",
        "}"
      ],
      "metadata": {
        "id": "F5cf2W5ptA5i"
      },
      "id": "F5cf2W5ptA5i",
      "execution_count": 27,
      "outputs": []
    },
    {
      "cell_type": "code",
      "source": [
        "# 6) GridSearchCV\n",
        "grid = GridSearchCV(\n",
        "    estimator=net\n",
        "    , param_grid=param_grid\n",
        "    , scoring=\"accuracy\"\n",
        "    , n_jobs=1  # set >1 if CPU allows and your model is CPU-bound\n",
        "    , cv=3\n",
        "    , refit=True  # refit on full training set with best params\n",
        "    , verbose=1\n",
        ")"
      ],
      "metadata": {
        "id": "-iBUECNetA8b"
      },
      "id": "-iBUECNetA8b",
      "execution_count": 28,
      "outputs": []
    },
    {
      "cell_type": "code",
      "source": [
        "# 7) Fit on the training dataset; skorch can take PyTorch datasets directly\n",
        "grid.fit(train_data, y=None)\n",
        "\n",
        "print(\"Best params:\", grid.best_params_)\n",
        "print(\"Best CV score:\", grid.best_score_)"
      ],
      "metadata": {
        "colab": {
          "base_uri": "https://localhost:8080/"
        },
        "id": "Kr7APWbVtA_y",
        "outputId": "b0e4f518-f0ee-4be1-9842-ad4bf6afe980"
      },
      "id": "Kr7APWbVtA_y",
      "execution_count": null,
      "outputs": [
        {
          "metadata": {
            "tags": null
          },
          "name": "stdout",
          "output_type": "stream",
          "text": [
            "Fitting 3 folds for each of 144 candidates, totalling 432 fits\n"
          ]
        }
      ]
    },
    {
      "cell_type": "code",
      "source": [
        "# 8) Evaluate on test set\n",
        "# Build a DataLoader to get predictions easily\n",
        "test_loader = DataLoader(\n",
        "    test_data\n",
        "    , batch_size=256\n",
        "    , shuffle=False\n",
        ")\n",
        "\n",
        "y_true, y_pred = [], []\n",
        "for X, y in test_loader:\n",
        "    y_true.append(y.numpy())\n",
        "    y_pred.append(grid.best_estimator_.predict(X).numpy())\n",
        "\n",
        "y_true = np.concatenate(y_true)\n",
        "y_pred = np.concatenate(y_pred)\n",
        "test_acc = accuracy_score(y_true, y_pred)\n",
        "print(\"Test accuracy:\", test_acc)"
      ],
      "metadata": {
        "id": "-teG1z4ctBD9"
      },
      "id": "-teG1z4ctBD9",
      "execution_count": null,
      "outputs": []
    },
    {
      "cell_type": "code",
      "source": [],
      "metadata": {
        "id": "_XxM4JGYtBG3"
      },
      "id": "_XxM4JGYtBG3",
      "execution_count": null,
      "outputs": []
    },
    {
      "cell_type": "code",
      "source": [],
      "metadata": {
        "id": "6qkRURT7tBKC"
      },
      "id": "6qkRURT7tBKC",
      "execution_count": null,
      "outputs": []
    },
    {
      "cell_type": "code",
      "source": [],
      "metadata": {
        "id": "yc-pDmgrtBNj"
      },
      "id": "yc-pDmgrtBNj",
      "execution_count": null,
      "outputs": []
    },
    {
      "cell_type": "code",
      "source": [],
      "metadata": {
        "id": "hkmEJS--tBQU"
      },
      "id": "hkmEJS--tBQU",
      "execution_count": null,
      "outputs": []
    },
    {
      "cell_type": "code",
      "source": [],
      "metadata": {
        "id": "MwsaHgv1tBTX"
      },
      "id": "MwsaHgv1tBTX",
      "execution_count": null,
      "outputs": []
    },
    {
      "cell_type": "code",
      "execution_count": null,
      "id": "7b04e119",
      "metadata": {
        "id": "7b04e119"
      },
      "outputs": [],
      "source": [
        "# Functionize the train & test loop(s):\n",
        "\n",
        "def train_step(model: torch.nn.Module\n",
        "               , data_loader: torch.utils.data.DataLoader\n",
        "               , loss_fn: torch.nn.Module\n",
        "               , optimizer: torch.optim.Optimizer\n",
        "               , accuracy_fn\n",
        "               , device: torch.device = device):\n",
        "\n",
        "    train_loss, train_acc = 0, 0\n",
        "    model.to(device)\n",
        "    for batch, (X, y) in enumerate(data_loader):\n",
        "        # Send data to GPU\n",
        "        X, y = X.to(device), y.to(device)\n",
        "\n",
        "        # 1. Forward pass\n",
        "        y_pred = model(X)\n",
        "\n",
        "        # 2. Calculate loss\n",
        "        loss = loss_fn(y_pred, y)\n",
        "        train_loss += loss\n",
        "        train_acc += accuracy_fn(\n",
        "            y_true=y\n",
        "            , y_pred=y_pred.argmax(dim=1)) # Go from logits -> pred labels\n",
        "\n",
        "        # 3. Optimizer zero grad\n",
        "        optimizer.zero_grad()\n",
        "\n",
        "        # 4. Loss backward\n",
        "        loss.backward()\n",
        "\n",
        "        # 5. Optimizer step\n",
        "        optimizer.step()\n",
        "\n",
        "    # Calculate loss and accuracy per epoch and print out what's happening\n",
        "    train_loss /= len(data_loader)\n",
        "    train_acc /= len(data_loader)\n",
        "    print(f\"Train loss: {train_loss:.5f} | Train accuracy: {train_acc:.2f}%\")\n",
        "\n",
        "def test_step(\n",
        "    data_loader: torch.utils.data.DataLoader\n",
        "    , model: torch.nn.Module\n",
        "    , loss_fn: torch.nn.Module\n",
        "    , accuracy_fn\n",
        "    , device: torch.device = device):\n",
        "\n",
        "    test_loss, test_acc = 0, 0\n",
        "    model.to(device)\n",
        "    model.eval() # put model in eval mode\n",
        "    # Turn on inference context manager\n",
        "    with torch.inference_mode():\n",
        "        for X, y in data_loader:\n",
        "            # Send data to GPU\n",
        "            X, y = X.to(device), y.to(device)\n",
        "\n",
        "            # 1. Forward pass\n",
        "            test_pred = model(X)\n",
        "\n",
        "            # 2. Calculate loss and accuracy\n",
        "            test_loss += loss_fn(test_pred, y)\n",
        "            test_acc += accuracy_fn(\n",
        "                y_true=y\n",
        "                , y_pred=test_pred.argmax(dim=1) # Go from logits -> pred labels\n",
        "            )\n",
        "\n",
        "        # Adjust metrics and print out\n",
        "        test_loss /= len(data_loader)\n",
        "        test_acc /= len(data_loader)\n",
        "        print(f\"Test loss: {test_loss:.5f} | Test accuracy: {test_acc:.2f}%\\n\")"
      ]
    },
    {
      "cell_type": "code",
      "execution_count": null,
      "id": "f75cbd97",
      "metadata": {
        "id": "f75cbd97",
        "outputId": "b25a0ee5-510b-4191-847e-47bb68c7dc79"
      },
      "outputs": [
        {
          "data": {
            "text/plain": [
              "<torch._C.Generator at 0x10c154cb0>"
            ]
          },
          "execution_count": 37,
          "metadata": {},
          "output_type": "execute_result"
        }
      ],
      "source": [
        "# Move values to device\n",
        "torch.manual_seed(42)\n",
        "def eval_model(model: torch.nn.Module\n",
        "               , data_loader: torch.utils.data.DataLoader\n",
        "               , loss_fn: torch.nn.Module\n",
        "               , accuracy_fn\n",
        "               , device: torch.device = device):\n",
        "    \"\"\"Evaluates a given model on a given dataset.\n",
        "\n",
        "    Args:\n",
        "        model (torch.nn.Module): A PyTorch model capable of making predictions on data_loader.\n",
        "        data_loader (torch.utils.data.DataLoader): The target dataset to predict on.\n",
        "        loss_fn (torch.nn.Module): The loss function of model.\n",
        "        accuracy_fn: An accuracy function to compare the models predictions to the truth labels.\n",
        "        device (str, optional): Target device to compute on. Defaults to device.\n",
        "\n",
        "    Returns:\n",
        "        (dict): Results of model making predictions on data_loader.\n",
        "    \"\"\"\n",
        "    loss, acc = 0, 0\n",
        "    model.eval()\n",
        "    with torch.inference_mode():\n",
        "        for X, y in data_loader:\n",
        "            # Send data to the target device\n",
        "            X, y = X.to(device), y.to(device)\n",
        "            y_pred = model(X)\n",
        "            loss += loss_fn(y_pred, y)\n",
        "            acc += accuracy_fn(\n",
        "                y_true=y\n",
        "                , y_pred=y_pred.argmax(dim=1))\n",
        "\n",
        "        # Scale loss and acc\n",
        "        loss /= len(data_loader)\n",
        "        acc /= len(data_loader)\n",
        "    return {\"model_name\": model.__class__.__name__ # only works when model was created with a class\n",
        "            , \"model_loss\": loss.item()\n",
        "            , \"model_acc\": acc}"
      ]
    },
    {
      "cell_type": "code",
      "execution_count": null,
      "id": "5b8d2576",
      "metadata": {
        "id": "5b8d2576"
      },
      "outputs": [],
      "source": [
        "# Create a convolutional neural network\n",
        "class FashionMNISTModelV2(nn.Module):\n",
        "    \"\"\"\n",
        "    Model architecture copying TinyVGG from:\n",
        "    https://poloclub.github.io/cnn-explainer/\n",
        "    \"\"\"\n",
        "    def __init__(self, input_shape: int, hidden_units: int, output_shape: int):\n",
        "        super().__init__()\n",
        "        self.block_1 = nn.Sequential(\n",
        "            nn.Conv2d(\n",
        "                in_channels=input_shape\n",
        "                , out_channels=hidden_units\n",
        "                , kernel_size=3 # how big is the square that's going over the image?\n",
        "                , stride=1 # default\n",
        "                , padding=1) # \"valid\" (no pad) or \"same\" (output same shape as input) or int for spec num\n",
        "            , nn.ReLU()\n",
        "            , nn.Conv2d(in_channels=hidden_units\n",
        "                      , out_channels=hidden_units\n",
        "                      , kernel_size=3\n",
        "                      , stride=1\n",
        "                      , padding=1)\n",
        "            , nn.ReLU()\n",
        "            , nn.MaxPool2d(kernel_size=2,\n",
        "                         stride=2) # default stride value is same as kernel_size\n",
        "        )\n",
        "        self.block_2 = nn.Sequential(\n",
        "            nn.Conv2d(hidden_units, hidden_units, 3, padding=1)\n",
        "            , nn.ReLU()\n",
        "            , nn.Conv2d(hidden_units, hidden_units, 3, padding=1)\n",
        "            , nn.ReLU()\n",
        "            , nn.MaxPool2d(2)\n",
        "        )\n",
        "        self.classifier = nn.Sequential(\n",
        "            nn.Flatten()\n",
        "            # Where did this in_features shape come from?\n",
        "            # It's because each layer of our network compresses and changes the shape of our input data.\n",
        "            , nn.Linear(in_features=hidden_units*7*7\n",
        "                      , out_features=output_shape)\n",
        "        )\n",
        "\n",
        "    def forward(self, x: torch.Tensor):\n",
        "        x = self.block_1(x)\n",
        "        # print(x.shape)\n",
        "        x = self.block_2(x)\n",
        "        # print(x.shape)\n",
        "        x = self.classifier(x)\n",
        "        # print(x.shape)\n",
        "        return x"
      ]
    },
    {
      "cell_type": "code",
      "execution_count": null,
      "id": "fc6218cb",
      "metadata": {
        "id": "fc6218cb",
        "outputId": "fa80ba0d-41cb-4c1e-8b85-6d9073b87cd1"
      },
      "outputs": [
        {
          "data": {
            "text/plain": [
              "'mps'"
            ]
          },
          "execution_count": 89,
          "metadata": {},
          "output_type": "execute_result"
        }
      ],
      "source": [
        "device"
      ]
    },
    {
      "cell_type": "code",
      "execution_count": null,
      "id": "ae91b9f7",
      "metadata": {
        "id": "ae91b9f7",
        "outputId": "14f3b1fd-6582-48ec-88b2-7143bc54c6e4"
      },
      "outputs": [
        {
          "data": {
            "text/plain": [
              "<torch._C.Generator at 0x10c154cb0>"
            ]
          },
          "execution_count": 90,
          "metadata": {},
          "output_type": "execute_result"
        },
        {
          "data": {
            "text/plain": [
              "FashionMNISTModelV2(\n",
              "  (block_1): Sequential(\n",
              "    (0): Conv2d(1, 16, kernel_size=(3, 3), stride=(1, 1), padding=(1, 1))\n",
              "    (1): ReLU()\n",
              "    (2): Conv2d(16, 16, kernel_size=(3, 3), stride=(1, 1), padding=(1, 1))\n",
              "    (3): ReLU()\n",
              "    (4): MaxPool2d(kernel_size=2, stride=2, padding=0, dilation=1, ceil_mode=False)\n",
              "  )\n",
              "  (block_2): Sequential(\n",
              "    (0): Conv2d(16, 16, kernel_size=(3, 3), stride=(1, 1), padding=(1, 1))\n",
              "    (1): ReLU()\n",
              "    (2): Conv2d(16, 16, kernel_size=(3, 3), stride=(1, 1), padding=(1, 1))\n",
              "    (3): ReLU()\n",
              "    (4): MaxPool2d(kernel_size=2, stride=2, padding=0, dilation=1, ceil_mode=False)\n",
              "  )\n",
              "  (classifier): Sequential(\n",
              "    (0): Flatten(start_dim=1, end_dim=-1)\n",
              "    (1): Linear(in_features=784, out_features=10, bias=True)\n",
              "  )\n",
              ")"
            ]
          },
          "execution_count": 90,
          "metadata": {},
          "output_type": "execute_result"
        }
      ],
      "source": [
        "torch.manual_seed(27)\n",
        "model_2 = FashionMNISTModelV2(\n",
        "    input_shape=1\n",
        "    , hidden_units=16\n",
        "    , output_shape=len(class_names)\n",
        ").to(device)\n",
        "\n",
        "model_2"
      ]
    },
    {
      "cell_type": "code",
      "execution_count": null,
      "id": "842704ff",
      "metadata": {
        "id": "842704ff"
      },
      "outputs": [],
      "source": [
        "# Setup loss and optimizer\n",
        "\n",
        "loss_fn = nn.CrossEntropyLoss()\n",
        "optimizer = torch.optim.SGD(\n",
        "    params=model_2.parameters()\n",
        "    , lr=0.01)"
      ]
    },
    {
      "cell_type": "code",
      "execution_count": null,
      "id": "6cc3f72b",
      "metadata": {
        "id": "6cc3f72b"
      },
      "outputs": [],
      "source": [
        "from tqdm.auto import tqdm"
      ]
    },
    {
      "cell_type": "code",
      "execution_count": null,
      "id": "bb2b5386",
      "metadata": {
        "id": "bb2b5386",
        "outputId": "f09a319b-674f-4ee0-e8b7-d89b1b4c0729",
        "colab": {
          "referenced_widgets": [
            "2bbb6540e519404eae45f1de6d94e8ad"
          ]
        }
      },
      "outputs": [
        {
          "data": {
            "text/plain": [
              "<torch._C.Generator at 0x10c154cb0>"
            ]
          },
          "execution_count": 92,
          "metadata": {},
          "output_type": "execute_result"
        },
        {
          "data": {
            "application/vnd.jupyter.widget-view+json": {
              "model_id": "2bbb6540e519404eae45f1de6d94e8ad",
              "version_major": 2,
              "version_minor": 0
            },
            "text/plain": [
              "  0%|          | 0/6 [00:00<?, ?it/s]"
            ]
          },
          "metadata": {},
          "output_type": "display_data"
        },
        {
          "name": "stdout",
          "output_type": "stream",
          "text": [
            "Epoch: 0\n",
            "---------\n",
            "Train loss: 1.26926 | Train accuracy: 53.94%\n",
            "Test loss: 0.65979 | Test accuracy: 75.02%\n",
            "\n",
            "Epoch: 1\n",
            "---------\n",
            "Train loss: 0.55685 | Train accuracy: 79.73%\n",
            "Test loss: 0.50010 | Test accuracy: 81.85%\n",
            "\n",
            "Epoch: 2\n",
            "---------\n",
            "Train loss: 0.45020 | Train accuracy: 83.79%\n",
            "Test loss: 0.43742 | Test accuracy: 84.35%\n",
            "\n",
            "Epoch: 3\n",
            "---------\n",
            "Train loss: 0.40611 | Train accuracy: 85.39%\n",
            "Test loss: 0.41848 | Test accuracy: 84.83%\n",
            "\n",
            "Epoch: 4\n",
            "---------\n",
            "Train loss: 0.37893 | Train accuracy: 86.42%\n",
            "Test loss: 0.39526 | Test accuracy: 85.84%\n",
            "\n",
            "Epoch: 5\n",
            "---------\n",
            "Train loss: 0.35926 | Train accuracy: 87.11%\n",
            "Test loss: 0.36981 | Test accuracy: 86.68%\n",
            "\n",
            "Train time on mps: 390.770 seconds\n"
          ]
        }
      ],
      "source": [
        "torch.manual_seed(27)\n",
        "\n",
        "# Measure time\n",
        "from timeit import default_timer as timer\n",
        "train_time_start_model_2 = timer()\n",
        "\n",
        "# Train and test model\n",
        "epochs = 6\n",
        "for epoch in tqdm(range(epochs)):\n",
        "    print(f\"Epoch: {epoch}\\n---------\")\n",
        "    train_step(data_loader=train_dataloader\n",
        "        , model=model_2\n",
        "        , loss_fn=loss_fn\n",
        "        , optimizer=optimizer\n",
        "        , accuracy_fn=accuracy_fn\n",
        "        , device=device\n",
        "    )\n",
        "    test_step(data_loader=test_dataloader\n",
        "        , model=model_2\n",
        "        , loss_fn=loss_fn\n",
        "        , accuracy_fn=accuracy_fn\n",
        "        , device=device\n",
        "    )\n",
        "\n",
        "train_time_end_model_2 = timer()\n",
        "total_train_time_model_2 = print_train_time(\n",
        "    start=train_time_start_model_2\n",
        "    , end=train_time_end_model_2\n",
        "    , device=device)"
      ]
    },
    {
      "cell_type": "code",
      "execution_count": null,
      "id": "675ae6b7",
      "metadata": {
        "id": "675ae6b7",
        "outputId": "5d4dce60-793a-455d-ee6f-400116baa7b4"
      },
      "outputs": [
        {
          "data": {
            "text/plain": [
              "{'model_name': 'FashionMNISTModelV2',\n",
              " 'model_loss': 0.36981454491615295,\n",
              " 'model_acc': 86.68130990415335}"
            ]
          },
          "execution_count": 93,
          "metadata": {},
          "output_type": "execute_result"
        }
      ],
      "source": [
        "# Get model_2 results\n",
        "model_2_results = eval_model(\n",
        "    model=model_2\n",
        "    , data_loader=test_dataloader\n",
        "    , loss_fn=loss_fn\n",
        "    , accuracy_fn=accuracy_fn\n",
        ")\n",
        "model_2_results"
      ]
    },
    {
      "cell_type": "code",
      "execution_count": null,
      "id": "7370752f",
      "metadata": {
        "id": "7370752f",
        "outputId": "d1b20a59-6618-4957-99fe-3f3d8caad6b5"
      },
      "outputs": [
        {
          "data": {
            "text/plain": [
              "<torch._C.Generator at 0x10c154cb0>"
            ]
          },
          "execution_count": 94,
          "metadata": {},
          "output_type": "execute_result"
        },
        {
          "data": {
            "text/plain": [
              "FashionMNISTModelV2(\n",
              "  (block_1): Sequential(\n",
              "    (0): Conv2d(1, 32, kernel_size=(3, 3), stride=(1, 1), padding=(1, 1))\n",
              "    (1): ReLU()\n",
              "    (2): Conv2d(32, 32, kernel_size=(3, 3), stride=(1, 1), padding=(1, 1))\n",
              "    (3): ReLU()\n",
              "    (4): MaxPool2d(kernel_size=2, stride=2, padding=0, dilation=1, ceil_mode=False)\n",
              "  )\n",
              "  (block_2): Sequential(\n",
              "    (0): Conv2d(32, 32, kernel_size=(3, 3), stride=(1, 1), padding=(1, 1))\n",
              "    (1): ReLU()\n",
              "    (2): Conv2d(32, 32, kernel_size=(3, 3), stride=(1, 1), padding=(1, 1))\n",
              "    (3): ReLU()\n",
              "    (4): MaxPool2d(kernel_size=2, stride=2, padding=0, dilation=1, ceil_mode=False)\n",
              "  )\n",
              "  (classifier): Sequential(\n",
              "    (0): Flatten(start_dim=1, end_dim=-1)\n",
              "    (1): Linear(in_features=1568, out_features=10, bias=True)\n",
              "  )\n",
              ")"
            ]
          },
          "execution_count": 94,
          "metadata": {},
          "output_type": "execute_result"
        }
      ],
      "source": [
        "# REMEMBER: If you spin up additional models to test new params, hidden layers, neurons, etc. REMEMBER TO RE-RUN THE OPTIMIZER AND LOSS_FN FOR THAT MODEL!!! (otherwise, you will get abysmally low acc rates!!!)\n",
        "\n",
        "torch.manual_seed(27)\n",
        "model_3 = FashionMNISTModelV2(\n",
        "    input_shape=1\n",
        "    , hidden_units=32\n",
        "    , output_shape=len(class_names)\n",
        ").to(device)\n",
        "\n",
        "model_3"
      ]
    },
    {
      "cell_type": "code",
      "execution_count": null,
      "id": "e2f6f783",
      "metadata": {
        "id": "e2f6f783"
      },
      "outputs": [],
      "source": [
        "# REMEMBER: If you spin up additional models to test new params, hidden layers, neurons, etc. REMEMBER TO RE-RUN THE OPTIMIZER AND LOSS_FN FOR THAT MODEL!!! (otherwise, you will get abysmally low acc rates!!!)\n",
        "\n",
        "loss_fn = nn.CrossEntropyLoss()\n",
        "optimizer = torch.optim.SGD(\n",
        "    params=model_3.parameters()\n",
        "    , lr=0.01)"
      ]
    },
    {
      "cell_type": "code",
      "execution_count": null,
      "id": "9ef5dbad",
      "metadata": {
        "scrolled": false,
        "id": "9ef5dbad",
        "outputId": "736ec242-c0b9-4ba4-c57d-13fcc2e58b62",
        "colab": {
          "referenced_widgets": [
            "50fa3ae4ff75460ba91c9b322e81c1d2"
          ]
        }
      },
      "outputs": [
        {
          "data": {
            "text/plain": [
              "<torch._C.Generator at 0x10c154cb0>"
            ]
          },
          "execution_count": 96,
          "metadata": {},
          "output_type": "execute_result"
        },
        {
          "data": {
            "application/vnd.jupyter.widget-view+json": {
              "model_id": "50fa3ae4ff75460ba91c9b322e81c1d2",
              "version_major": 2,
              "version_minor": 0
            },
            "text/plain": [
              "  0%|          | 0/9 [00:00<?, ?it/s]"
            ]
          },
          "metadata": {},
          "output_type": "display_data"
        },
        {
          "name": "stdout",
          "output_type": "stream",
          "text": [
            "Epoch: 0\n",
            "---------\n",
            "Train loss: 0.89853 | Train accuracy: 67.58%\n",
            "Test loss: 0.54379 | Test accuracy: 80.13%\n",
            "\n",
            "Epoch: 1\n",
            "---------\n",
            "Train loss: 0.47798 | Train accuracy: 82.95%\n",
            "Test loss: 0.44460 | Test accuracy: 84.09%\n",
            "\n",
            "Epoch: 2\n",
            "---------\n",
            "Train loss: 0.40473 | Train accuracy: 85.66%\n",
            "Test loss: 0.40498 | Test accuracy: 85.53%\n",
            "\n",
            "Epoch: 3\n",
            "---------\n",
            "Train loss: 0.36373 | Train accuracy: 86.97%\n",
            "Test loss: 0.37115 | Test accuracy: 86.76%\n",
            "\n",
            "Epoch: 4\n",
            "---------\n",
            "Train loss: 0.33676 | Train accuracy: 87.89%\n",
            "Test loss: 0.34459 | Test accuracy: 87.84%\n",
            "\n",
            "Epoch: 5\n",
            "---------\n",
            "Train loss: 0.31873 | Train accuracy: 88.66%\n",
            "Test loss: 0.34991 | Test accuracy: 87.72%\n",
            "\n",
            "Epoch: 6\n",
            "---------\n",
            "Train loss: 0.30305 | Train accuracy: 89.19%\n",
            "Test loss: 0.34741 | Test accuracy: 87.79%\n",
            "\n",
            "Epoch: 7\n",
            "---------\n",
            "Train loss: 0.29167 | Train accuracy: 89.55%\n",
            "Test loss: 0.31554 | Test accuracy: 88.77%\n",
            "\n",
            "Epoch: 8\n",
            "---------\n",
            "Train loss: 0.28220 | Train accuracy: 90.00%\n",
            "Test loss: 0.31135 | Test accuracy: 89.05%\n",
            "\n",
            "Train time on mps: 602.147 seconds\n"
          ]
        }
      ],
      "source": [
        "torch.manual_seed(27)\n",
        "\n",
        "# Measure time\n",
        "from timeit import default_timer as timer\n",
        "train_time_start_model_3 = timer()\n",
        "\n",
        "# Train and test model\n",
        "epochs = 9\n",
        "for epoch in tqdm(range(epochs)):\n",
        "    print(f\"Epoch: {epoch}\\n---------\")\n",
        "    train_step(data_loader=train_dataloader\n",
        "        , model=model_3\n",
        "        , loss_fn=loss_fn\n",
        "        , optimizer=optimizer\n",
        "        , accuracy_fn=accuracy_fn\n",
        "        , device=device\n",
        "    )\n",
        "    test_step(data_loader=test_dataloader\n",
        "        , model=model_3\n",
        "        , loss_fn=loss_fn\n",
        "        , accuracy_fn=accuracy_fn\n",
        "        , device=device\n",
        "    )\n",
        "\n",
        "train_time_end_model_3 = timer()\n",
        "total_train_time_model_3 = print_train_time(\n",
        "    start=train_time_start_model_3\n",
        "    , end=train_time_end_model_3\n",
        "    , device=device)"
      ]
    },
    {
      "cell_type": "code",
      "execution_count": null,
      "id": "a10159c6",
      "metadata": {
        "id": "a10159c6",
        "outputId": "92ad6298-ed71-4e7d-977a-fecf78e25c66"
      },
      "outputs": [
        {
          "data": {
            "text/plain": [
              "{'model_name': 'FashionMNISTModelV2',\n",
              " 'model_loss': 0.2466222494840622,\n",
              " 'model_acc': 92.06269968051119}"
            ]
          },
          "execution_count": 85,
          "metadata": {},
          "output_type": "execute_result"
        }
      ],
      "source": [
        "# Get model_2 results\n",
        "model_3_results = eval_model(\n",
        "    model=model_3\n",
        "    , data_loader=test_dataloader\n",
        "    , loss_fn=loss_fn\n",
        "    , accuracy_fn=accuracy_fn\n",
        ")\n",
        "model_3_results"
      ]
    },
    {
      "cell_type": "code",
      "execution_count": null,
      "id": "cb6e25ba",
      "metadata": {
        "id": "cb6e25ba",
        "outputId": "cb884521-c332-4012-cb7b-03dca287008a"
      },
      "outputs": [
        {
          "data": {
            "text/plain": [
              "{'model_name': 'FashionMNISTModelV2',\n",
              " 'model_loss': 0.23812277615070343,\n",
              " 'model_acc': 92.1026357827476}"
            ]
          },
          "execution_count": 82,
          "metadata": {},
          "output_type": "execute_result"
        }
      ],
      "source": [
        "# Get model_2 results\n",
        "model_3_results = eval_model(\n",
        "    model=model_3\n",
        "    , data_loader=test_dataloader\n",
        "    , loss_fn=loss_fn\n",
        "    , accuracy_fn=accuracy_fn\n",
        ")\n",
        "model_3_results"
      ]
    },
    {
      "cell_type": "code",
      "execution_count": null,
      "id": "2f443ce1",
      "metadata": {
        "id": "2f443ce1",
        "outputId": "385f78fb-7f37-4dca-9da9-e000852dcfb4"
      },
      "outputs": [
        {
          "data": {
            "text/plain": [
              "<torch._C.Generator at 0x10c154cb0>"
            ]
          },
          "execution_count": 97,
          "metadata": {},
          "output_type": "execute_result"
        },
        {
          "data": {
            "text/plain": [
              "FashionMNISTModelV2(\n",
              "  (block_1): Sequential(\n",
              "    (0): Conv2d(1, 28, kernel_size=(3, 3), stride=(1, 1), padding=(1, 1))\n",
              "    (1): ReLU()\n",
              "    (2): Conv2d(28, 28, kernel_size=(3, 3), stride=(1, 1), padding=(1, 1))\n",
              "    (3): ReLU()\n",
              "    (4): MaxPool2d(kernel_size=2, stride=2, padding=0, dilation=1, ceil_mode=False)\n",
              "  )\n",
              "  (block_2): Sequential(\n",
              "    (0): Conv2d(28, 28, kernel_size=(3, 3), stride=(1, 1), padding=(1, 1))\n",
              "    (1): ReLU()\n",
              "    (2): Conv2d(28, 28, kernel_size=(3, 3), stride=(1, 1), padding=(1, 1))\n",
              "    (3): ReLU()\n",
              "    (4): MaxPool2d(kernel_size=2, stride=2, padding=0, dilation=1, ceil_mode=False)\n",
              "  )\n",
              "  (classifier): Sequential(\n",
              "    (0): Flatten(start_dim=1, end_dim=-1)\n",
              "    (1): Linear(in_features=1372, out_features=10, bias=True)\n",
              "  )\n",
              ")"
            ]
          },
          "execution_count": 97,
          "metadata": {},
          "output_type": "execute_result"
        }
      ],
      "source": [
        "# REMEMBER: If you spin up additional models to test new params, hidden layers, neurons, etc. REMEMBER TO RE-RUN THE OPTIMIZER AND LOSS_FN FOR THAT MODEL!!! (otherwise, you will get abysmally low acc rates!!!)\n",
        "\n",
        "torch.manual_seed(27)\n",
        "model_4 = FashionMNISTModelV2(\n",
        "    input_shape=1\n",
        "    , hidden_units=28\n",
        "    , output_shape=len(class_names)\n",
        ").to(device)\n",
        "\n",
        "model_4"
      ]
    },
    {
      "cell_type": "code",
      "execution_count": null,
      "id": "d574c2e5",
      "metadata": {
        "id": "d574c2e5"
      },
      "outputs": [],
      "source": [
        "# REMEMBER: If you spin up additional models to test new params, hidden layers, neurons, etc. REMEMBER TO RE-RUN THE OPTIMIZER AND LOSS_FN FOR THAT MODEL!!! (otherwise, you will get abysmally low acc rates!!!)\n",
        "\n",
        "loss_fn = nn.CrossEntropyLoss()\n",
        "optimizer = torch.optim.SGD(\n",
        "    params=model_4.parameters()\n",
        "    , lr=0.01)"
      ]
    },
    {
      "cell_type": "code",
      "execution_count": null,
      "id": "41a189a2",
      "metadata": {
        "id": "41a189a2",
        "outputId": "cc8fbff8-d5ff-42de-f716-4dfc297fbfac"
      },
      "outputs": [
        {
          "data": {
            "text/plain": [
              "0.01"
            ]
          },
          "execution_count": 133,
          "metadata": {},
          "output_type": "execute_result"
        },
        {
          "data": {
            "text/plain": [
              "CrossEntropyLoss()"
            ]
          },
          "execution_count": 133,
          "metadata": {},
          "output_type": "execute_result"
        },
        {
          "data": {
            "text/plain": [
              "Conv2d(1, 28, kernel_size=(3, 3), stride=(1, 1), padding=(1, 1))"
            ]
          },
          "execution_count": 133,
          "metadata": {},
          "output_type": "execute_result"
        }
      ],
      "source": [
        "optimizer.param_groups[0]['lr']\n",
        "loss_fn\n",
        "# model_4.parameters('hidden_units')\n",
        "model_4.block_1[0]"
      ]
    },
    {
      "cell_type": "code",
      "execution_count": null,
      "id": "16f2b119",
      "metadata": {
        "id": "16f2b119",
        "outputId": "e1020caa-a102-44c3-96cb-9348f182b7fb"
      },
      "outputs": [
        {
          "name": "stdout",
          "output_type": "stream",
          "text": [
            "Model 4: lr=0.01, model params: Conv2d(1, 28, kernel_size=(3, 3), stride=(1, 1), padding=(1, 1))\n"
          ]
        }
      ],
      "source": [
        "print(f\"Model 4: lr={optimizer.param_groups[0]['lr']}, model params: {model_4.block_1[0]}\")"
      ]
    },
    {
      "cell_type": "code",
      "execution_count": null,
      "id": "20b4e5e9",
      "metadata": {
        "scrolled": false,
        "id": "20b4e5e9",
        "outputId": "90dd7b69-9b06-44f0-aaeb-3f26897fbd83",
        "colab": {
          "referenced_widgets": [
            "439a70140f5446e9948c6dba80a36a39"
          ]
        }
      },
      "outputs": [
        {
          "name": "stdout",
          "output_type": "stream",
          "text": [
            "Model 4: lr=0.01, model params: Conv2d(1, 28, kernel_size=(3, 3), stride=(1, 1), padding=(1, 1))\n"
          ]
        },
        {
          "data": {
            "text/plain": [
              "<torch._C.Generator at 0x10c154cb0>"
            ]
          },
          "execution_count": 140,
          "metadata": {},
          "output_type": "execute_result"
        },
        {
          "data": {
            "application/vnd.jupyter.widget-view+json": {
              "model_id": "439a70140f5446e9948c6dba80a36a39",
              "version_major": 2,
              "version_minor": 0
            },
            "text/plain": [
              "  0%|          | 0/9 [00:00<?, ?it/s]"
            ]
          },
          "metadata": {},
          "output_type": "display_data"
        },
        {
          "name": "stdout",
          "output_type": "stream",
          "text": [
            "Epoch: 0\n",
            "---------\n",
            "Train loss: 0.22971 | Train accuracy: 91.59%\n",
            "Test loss: 0.29399 | Test accuracy: 89.47%\n",
            "\n",
            "Epoch: 1\n",
            "---------\n",
            "Train loss: 0.22478 | Train accuracy: 91.84%\n",
            "Test loss: 0.27778 | Test accuracy: 89.75%\n",
            "\n",
            "Epoch: 2\n",
            "---------\n",
            "Train loss: 0.22192 | Train accuracy: 91.94%\n",
            "Test loss: 0.26799 | Test accuracy: 90.16%\n",
            "\n",
            "Epoch: 3\n",
            "---------\n",
            "Train loss: 0.21755 | Train accuracy: 92.04%\n",
            "Test loss: 0.26147 | Test accuracy: 90.50%\n",
            "\n",
            "Epoch: 4\n",
            "---------\n",
            "Train loss: 0.21415 | Train accuracy: 92.32%\n",
            "Test loss: 0.25344 | Test accuracy: 90.74%\n",
            "\n",
            "Epoch: 5\n",
            "---------\n",
            "Train loss: 0.21021 | Train accuracy: 92.34%\n",
            "Test loss: 0.28515 | Test accuracy: 89.94%\n",
            "\n",
            "Epoch: 6\n",
            "---------\n",
            "Train loss: 0.20664 | Train accuracy: 92.48%\n",
            "Test loss: 0.26141 | Test accuracy: 90.71%\n",
            "\n",
            "Epoch: 7\n",
            "---------\n",
            "Train loss: 0.20367 | Train accuracy: 92.66%\n",
            "Test loss: 0.26483 | Test accuracy: 90.62%\n",
            "\n",
            "Epoch: 8\n",
            "---------\n",
            "Train loss: 0.20035 | Train accuracy: 92.69%\n",
            "Test loss: 0.25473 | Test accuracy: 90.94%\n",
            "\n",
            "Train time on mps: 543.276 seconds\n"
          ]
        }
      ],
      "source": [
        "print(f\"Model 4: lr={optimizer.param_groups[0]['lr']}, model params: {model_4.block_1[0]}\")\n",
        "\n",
        "torch.manual_seed(27)\n",
        "\n",
        "# Measure time\n",
        "from timeit import default_timer as timer\n",
        "train_time_start_model_4 = timer()\n",
        "\n",
        "# Train and test model\n",
        "epochs = 9\n",
        "for epoch in tqdm(range(epochs)):\n",
        "    print(f\"Epoch: {epoch}\\n---------\")\n",
        "    train_step(data_loader=train_dataloader\n",
        "        , model=model_4\n",
        "        , loss_fn=loss_fn\n",
        "        , optimizer=optimizer\n",
        "        , accuracy_fn=accuracy_fn\n",
        "        , device=device\n",
        "    )\n",
        "    test_step(data_loader=test_dataloader\n",
        "        , model=model_4\n",
        "        , loss_fn=loss_fn\n",
        "        , accuracy_fn=accuracy_fn\n",
        "        , device=device\n",
        "    )\n",
        "\n",
        "train_time_end_model_4 = timer()\n",
        "total_train_time_model_4 = print_train_time(\n",
        "    start=train_time_start_model_4\n",
        "    , end=train_time_end_model_4\n",
        "    , device=device)"
      ]
    },
    {
      "cell_type": "code",
      "execution_count": null,
      "id": "76f6f0c9",
      "metadata": {
        "id": "76f6f0c9",
        "outputId": "8ee4a69f-1ed3-4b22-e5b3-be7d797d9d15"
      },
      "outputs": [
        {
          "name": "stdout",
          "output_type": "stream",
          "text": [
            "Model 4: lr=0.01, model params: Conv2d(1, 28, kernel_size=(3, 3), stride=(1, 1), padding=(1, 1))\n"
          ]
        },
        {
          "data": {
            "text/plain": [
              "{'model_name': 'FashionMNISTModelV2',\n",
              " 'model_loss': 0.27338624000549316,\n",
              " 'model_acc': 90.45527156549521}"
            ]
          },
          "execution_count": 139,
          "metadata": {},
          "output_type": "execute_result"
        }
      ],
      "source": [
        "print(f\"Model 4: lr={optimizer.param_groups[0]['lr']}, model params: {model_4.block_1[0]}\")\n",
        "\n",
        "model_4_results = eval_model(\n",
        "    model=model_4\n",
        "    , data_loader=test_dataloader\n",
        "    , loss_fn=loss_fn\n",
        "    , accuracy_fn=accuracy_fn\n",
        ")\n",
        "model_4_results"
      ]
    },
    {
      "cell_type": "code",
      "execution_count": null,
      "id": "1d5295b0",
      "metadata": {
        "id": "1d5295b0",
        "outputId": "4effd2fd-68b0-49a0-a122-f40b495720a8"
      },
      "outputs": [
        {
          "data": {
            "text/plain": [
              "Conv2d(1, 28, kernel_size=(3, 3), stride=(1, 1), padding=(1, 1))"
            ]
          },
          "execution_count": 137,
          "metadata": {},
          "output_type": "execute_result"
        }
      ],
      "source": []
    },
    {
      "cell_type": "code",
      "execution_count": null,
      "id": "63ebb8d6",
      "metadata": {
        "id": "63ebb8d6"
      },
      "outputs": [],
      "source": []
    },
    {
      "cell_type": "code",
      "execution_count": null,
      "id": "1f8be836",
      "metadata": {
        "id": "1f8be836"
      },
      "outputs": [],
      "source": []
    },
    {
      "cell_type": "code",
      "execution_count": null,
      "id": "3173133b",
      "metadata": {
        "id": "3173133b"
      },
      "outputs": [],
      "source": []
    },
    {
      "cell_type": "code",
      "execution_count": null,
      "id": "15a400ae",
      "metadata": {
        "id": "15a400ae"
      },
      "outputs": [],
      "source": [
        "# A trick for remembering hidden size and calculating the spatial dementions after going through the layers:\n",
        "\n",
        "import torch.nn as nn\n",
        "\n",
        "class FashionMNISTModelV3(nn.Module):\n",
        "    def __init__(self, hidden_channels=32):\n",
        "        super().__init__()\n",
        "        self.hidden_channels = hidden_channels  # <- keep it!\n",
        "        self.block_1 = nn.Sequential(\n",
        "            nn.Conv2d(1, hidden_channels, 3, padding=1)\n",
        "            , nn.ReLU()\n",
        "            , nn.Conv2d(hidden_channels, hidden_channels, 3, padding=1)\n",
        "            , nn.ReLU()\n",
        "            , nn.MaxPool2d(2)\n",
        "        )\n",
        "        self.block_2 = nn.Sequential(\n",
        "            nn.Conv2d(hidden_channels, hidden_channels, 3, padding=1)\n",
        "            , nn.ReLU()\n",
        "            , nn.Conv2d(hidden_channels, hidden_channels, 3, padding=1)\n",
        "            , nn.ReLU()\n",
        "            , nn.MaxPool2d(2)\n",
        "        )\n",
        "        # 28x28 -> pool2x -> 14x14 -> pool2x -> 7x7; flatten -> hidden_channels*7*7\n",
        "        \"\"\"\n",
        "        Translation --> To calculate our 'in_features': In block1, since the nn.MaxPool2d kernal_size=2, we             DIVIDE 28x28 by 2 (hence 28x28 --> 14x14); then in block2, the same occurs, so 14x14 --> 7x7, which             must be multiplied by our 'hidden_channels'; so for our classifier, we flatten, then build our Linear           Layer with that equation for 'in_features' and our out_features=10, as we have 10 diff't classes;\n",
        "\n",
        "        nn.Linear(in_features=(hidden_channels * 7 * 7, out_features=10)\n",
        "\n",
        "        \"\"\"\n",
        "        self.classifier = nn.Sequential(\n",
        "            nn.Flatten(1)\n",
        "            , nn.Linear(\n",
        "                in_features=(hidden_channels * 7 * 7)\n",
        "                , out_features=10),\n",
        "        )\n",
        "\n",
        "    def __repr__(self):\n",
        "        # optional: include hyperparams in repr for easy logging\n",
        "        base = super().__repr__()\n",
        "        return f\"{base[:-1]}\\n  (hidden_channels): {self.hidden_channels}\\n)\"\n",
        "\n",
        "    def forward(self, x: torch.Tensor):\n",
        "        x = self.block_1(x)\n",
        "        x = self.block_2(x)\n",
        "        x = self.classifier(x)\n",
        "        return x"
      ]
    },
    {
      "cell_type": "code",
      "execution_count": null,
      "id": "a9fcbf1a",
      "metadata": {
        "id": "a9fcbf1a",
        "outputId": "d2fd7051-169f-4320-aad4-0c09e92021e8"
      },
      "outputs": [
        {
          "data": {
            "text/plain": [
              "<torch._C.Generator at 0x10c154cb0>"
            ]
          },
          "execution_count": 152,
          "metadata": {},
          "output_type": "execute_result"
        },
        {
          "data": {
            "text/plain": [
              "FashionMNISTModelV3(\n",
              "  (block_1): Sequential(\n",
              "    (0): Conv2d(1, 64, kernel_size=(3, 3), stride=(1, 1), padding=(1, 1))\n",
              "    (1): ReLU()\n",
              "    (2): Conv2d(64, 64, kernel_size=(3, 3), stride=(1, 1), padding=(1, 1))\n",
              "    (3): ReLU()\n",
              "    (4): MaxPool2d(kernel_size=2, stride=2, padding=0, dilation=1, ceil_mode=False)\n",
              "  )\n",
              "  (block_2): Sequential(\n",
              "    (0): Conv2d(64, 64, kernel_size=(3, 3), stride=(1, 1), padding=(1, 1))\n",
              "    (1): ReLU()\n",
              "    (2): Conv2d(64, 64, kernel_size=(3, 3), stride=(1, 1), padding=(1, 1))\n",
              "    (3): ReLU()\n",
              "    (4): MaxPool2d(kernel_size=2, stride=2, padding=0, dilation=1, ceil_mode=False)\n",
              "  )\n",
              "  (classifier): Sequential(\n",
              "    (0): Flatten(start_dim=1, end_dim=-1)\n",
              "    (1): Linear(in_features=3136, out_features=10, bias=True)\n",
              "  )\n",
              "\n",
              "  (hidden_channels): 64\n",
              ")"
            ]
          },
          "execution_count": 152,
          "metadata": {},
          "output_type": "execute_result"
        }
      ],
      "source": [
        "torch.manual_seed(27)\n",
        "model_0x = FashionMNISTModelV3(\n",
        "#     input_shape=1\n",
        "    hidden_channels=64\n",
        "#     , output_shape=len(class_names)\n",
        ").to(device)\n",
        "\n",
        "model_0x"
      ]
    },
    {
      "cell_type": "code",
      "execution_count": null,
      "id": "bf79355e",
      "metadata": {
        "id": "bf79355e"
      },
      "outputs": [],
      "source": [
        "# REMEMBER: If you spin up additional models to test new params, hidden layers, neurons, etc. REMEMBER TO RE-RUN THE OPTIMIZER AND LOSS_FN FOR THAT MODEL!!! (otherwise, you will get abysmally low acc rates!!!)\n",
        "\n",
        "loss_fn_0x = nn.CrossEntropyLoss()\n",
        "optimizer_0x = torch.optim.SGD(\n",
        "    params=model_0x.parameters()\n",
        "    , lr=0.007)"
      ]
    },
    {
      "cell_type": "code",
      "execution_count": null,
      "id": "a1ccd12e",
      "metadata": {
        "id": "a1ccd12e",
        "outputId": "87265c09-c753-405e-bf11-1efd1c92b8b7",
        "colab": {
          "referenced_widgets": [
            "f22e5ea4774445309cb052c3614a12bd"
          ]
        }
      },
      "outputs": [
        {
          "data": {
            "text/plain": [
              "<torch._C.Generator at 0x10c154cb0>"
            ]
          },
          "execution_count": 156,
          "metadata": {},
          "output_type": "execute_result"
        },
        {
          "data": {
            "application/vnd.jupyter.widget-view+json": {
              "model_id": "f22e5ea4774445309cb052c3614a12bd",
              "version_major": 2,
              "version_minor": 0
            },
            "text/plain": [
              "  0%|          | 0/9 [00:00<?, ?it/s]"
            ]
          },
          "metadata": {},
          "output_type": "display_data"
        },
        {
          "name": "stdout",
          "output_type": "stream",
          "text": [
            "Epoch: 0\n",
            "---------\n",
            "Train loss: 0.24837 | Train accuracy: 90.94%\n",
            "Test loss: 0.29816 | Test accuracy: 88.99%\n",
            "\n",
            "Epoch: 1\n",
            "---------\n",
            "Train loss: 0.24239 | Train accuracy: 91.20%\n",
            "Test loss: 0.28087 | Test accuracy: 89.89%\n",
            "\n",
            "Epoch: 2\n",
            "---------\n",
            "Train loss: 0.23673 | Train accuracy: 91.41%\n",
            "Test loss: 0.28479 | Test accuracy: 89.23%\n",
            "\n",
            "Epoch: 3\n",
            "---------\n",
            "Train loss: 0.23146 | Train accuracy: 91.58%\n",
            "Test loss: 0.26748 | Test accuracy: 90.34%\n",
            "\n",
            "Epoch: 4\n",
            "---------\n",
            "Train loss: 0.22663 | Train accuracy: 91.86%\n",
            "Test loss: 0.26710 | Test accuracy: 90.52%\n",
            "\n",
            "Epoch: 5\n",
            "---------\n",
            "Train loss: 0.22175 | Train accuracy: 92.06%\n",
            "Test loss: 0.27997 | Test accuracy: 89.90%\n",
            "\n",
            "Epoch: 6\n",
            "---------\n",
            "Train loss: 0.21633 | Train accuracy: 92.12%\n",
            "Test loss: 0.27079 | Test accuracy: 90.29%\n",
            "\n",
            "Epoch: 7\n",
            "---------\n",
            "Train loss: 0.21271 | Train accuracy: 92.28%\n",
            "Test loss: 0.26669 | Test accuracy: 90.41%\n",
            "\n",
            "Epoch: 8\n",
            "---------\n",
            "Train loss: 0.20844 | Train accuracy: 92.44%\n",
            "Test loss: 0.26565 | Test accuracy: 90.36%\n",
            "\n",
            "Train time on mps: 590.522 seconds\n"
          ]
        }
      ],
      "source": [
        "torch.manual_seed(27)\n",
        "\n",
        "# Measure time\n",
        "from timeit import default_timer as timer\n",
        "train_time_start_model_0x = timer()\n",
        "\n",
        "# Train and test model\n",
        "epochs = 9\n",
        "for epoch in tqdm(range(epochs)):\n",
        "    print(f\"Epoch: {epoch}\\n---------\")\n",
        "    train_step(data_loader=train_dataloader\n",
        "        , model=model_0x\n",
        "        , loss_fn=loss_fn_0x\n",
        "        , optimizer=optimizer_0x\n",
        "        , accuracy_fn=accuracy_fn\n",
        "        , device=device\n",
        "    )\n",
        "    test_step(data_loader=test_dataloader\n",
        "        , model=model_0x\n",
        "        , loss_fn=loss_fn_0x\n",
        "        , accuracy_fn=accuracy_fn\n",
        "        , device=device\n",
        "    )\n",
        "\n",
        "train_time_end_model_0x = timer()\n",
        "total_train_time_model_0x = print_train_time(\n",
        "    start=train_time_start_model_0x\n",
        "    , end=train_time_end_model_0x\n",
        "    , device=device)"
      ]
    },
    {
      "cell_type": "code",
      "execution_count": null,
      "id": "27450b4b",
      "metadata": {
        "id": "27450b4b",
        "outputId": "f9bf1cf4-bc8f-4e8f-ebd7-0c33fc2f11cc"
      },
      "outputs": [
        {
          "name": "stdout",
          "output_type": "stream",
          "text": [
            "Model: lr=0.007, model params: Conv2d(1, 64, kernel_size=(3, 3), stride=(1, 1), padding=(1, 1))\n"
          ]
        },
        {
          "data": {
            "text/plain": [
              "{'model_name': 'FashionMNISTModelV3',\n",
              " 'model_loss': 0.2656458020210266,\n",
              " 'model_acc': 90.35543130990415}"
            ]
          },
          "execution_count": 157,
          "metadata": {},
          "output_type": "execute_result"
        }
      ],
      "source": [
        "print(f\"Model: lr={optimizer_0x.param_groups[0]['lr']}, model params: {model_0x.block_1[0]}\")\n",
        "\n",
        "model_0x_results = eval_model(\n",
        "    model=model_0x\n",
        "    , data_loader=test_dataloader\n",
        "    , loss_fn=loss_fn_0x\n",
        "    , accuracy_fn=accuracy_fn\n",
        ")\n",
        "model_0x_results"
      ]
    },
    {
      "cell_type": "code",
      "execution_count": null,
      "id": "e09589ae",
      "metadata": {
        "id": "e09589ae"
      },
      "outputs": [],
      "source": []
    },
    {
      "cell_type": "code",
      "execution_count": null,
      "id": "122e720c",
      "metadata": {
        "id": "122e720c"
      },
      "outputs": [],
      "source": []
    },
    {
      "cell_type": "code",
      "execution_count": null,
      "id": "9170f601",
      "metadata": {
        "id": "9170f601"
      },
      "outputs": [],
      "source": [
        "# REMEMBER: If you spin up additional models to test new params, hidden layers, neurons, etc. REMEMBER TO RE-RUN THE OPTIMIZER AND LOSS_FN FOR THAT MODEL!!! (otherwise, you will get abysmally low acc rates!!!)\n",
        "\n",
        "loss_fn_0x = nn.CrossEntropyLoss()\n",
        "optimizer_0x = torch.optim.SGD(\n",
        "    params=model_0x.parameters()\n",
        "    , lr=0.005)"
      ]
    },
    {
      "cell_type": "code",
      "execution_count": null,
      "id": "02ba0c7e",
      "metadata": {
        "id": "02ba0c7e",
        "outputId": "830b168c-e589-4683-e0c2-e6bee2ec8d8d",
        "colab": {
          "referenced_widgets": [
            "c2f2f29be8e94feba72757b671df324a"
          ]
        }
      },
      "outputs": [
        {
          "data": {
            "text/plain": [
              "<torch._C.Generator at 0x10c154cb0>"
            ]
          },
          "execution_count": 159,
          "metadata": {},
          "output_type": "execute_result"
        },
        {
          "data": {
            "application/vnd.jupyter.widget-view+json": {
              "model_id": "c2f2f29be8e94feba72757b671df324a",
              "version_major": 2,
              "version_minor": 0
            },
            "text/plain": [
              "  0%|          | 0/9 [00:00<?, ?it/s]"
            ]
          },
          "metadata": {},
          "output_type": "display_data"
        },
        {
          "name": "stdout",
          "output_type": "stream",
          "text": [
            "Epoch: 0\n",
            "---------\n",
            "Train loss: 0.19841 | Train accuracy: 92.74%\n",
            "Test loss: 0.26851 | Test accuracy: 90.39%\n",
            "\n",
            "Epoch: 1\n",
            "---------\n",
            "Train loss: 0.19559 | Train accuracy: 92.89%\n",
            "Test loss: 0.25692 | Test accuracy: 90.62%\n",
            "\n",
            "Epoch: 2\n",
            "---------\n",
            "Train loss: 0.19262 | Train accuracy: 92.97%\n",
            "Test loss: 0.26444 | Test accuracy: 90.28%\n",
            "\n",
            "Epoch: 3\n",
            "---------\n",
            "Train loss: 0.18966 | Train accuracy: 93.16%\n",
            "Test loss: 0.24592 | Test accuracy: 91.47%\n",
            "\n",
            "Epoch: 4\n",
            "---------\n",
            "Train loss: 0.18686 | Train accuracy: 93.25%\n",
            "Test loss: 0.24751 | Test accuracy: 91.28%\n",
            "\n",
            "Epoch: 5\n",
            "---------\n",
            "Train loss: 0.18390 | Train accuracy: 93.38%\n",
            "Test loss: 0.26061 | Test accuracy: 90.86%\n",
            "\n",
            "Epoch: 6\n",
            "---------\n",
            "Train loss: 0.18085 | Train accuracy: 93.39%\n",
            "Test loss: 0.25148 | Test accuracy: 91.09%\n",
            "\n",
            "Epoch: 7\n",
            "---------\n",
            "Train loss: 0.17846 | Train accuracy: 93.54%\n",
            "Test loss: 0.25170 | Test accuracy: 91.14%\n",
            "\n",
            "Epoch: 8\n",
            "---------\n",
            "Train loss: 0.17574 | Train accuracy: 93.67%\n",
            "Test loss: 0.25294 | Test accuracy: 90.83%\n",
            "\n",
            "Train time on mps: 585.527 seconds\n"
          ]
        }
      ],
      "source": [
        "torch.manual_seed(27)\n",
        "\n",
        "# Measure time\n",
        "from timeit import default_timer as timer\n",
        "train_time_start_model_0x = timer()\n",
        "\n",
        "# Train and test model\n",
        "epochs = 9\n",
        "for epoch in tqdm(range(epochs)):\n",
        "    print(f\"Epoch: {epoch}\\n---------\")\n",
        "    train_step(data_loader=train_dataloader\n",
        "        , model=model_0x\n",
        "        , loss_fn=loss_fn_0x\n",
        "        , optimizer=optimizer_0x\n",
        "        , accuracy_fn=accuracy_fn\n",
        "        , device=device\n",
        "    )\n",
        "    test_step(data_loader=test_dataloader\n",
        "        , model=model_0x\n",
        "        , loss_fn=loss_fn_0x\n",
        "        , accuracy_fn=accuracy_fn\n",
        "        , device=device\n",
        "    )\n",
        "\n",
        "train_time_end_model_0x = timer()\n",
        "total_train_time_model_0x = print_train_time(\n",
        "    start=train_time_start_model_0x\n",
        "    , end=train_time_end_model_0x\n",
        "    , device=device)"
      ]
    },
    {
      "cell_type": "code",
      "execution_count": null,
      "id": "75c59e2b",
      "metadata": {
        "id": "75c59e2b",
        "outputId": "39317736-fef8-4e2d-b447-06117bfcb993"
      },
      "outputs": [
        {
          "name": "stdout",
          "output_type": "stream",
          "text": [
            "Model: lr=0.005, model params: Conv2d(1, 64, kernel_size=(3, 3), stride=(1, 1), padding=(1, 1))\n"
          ]
        },
        {
          "data": {
            "text/plain": [
              "{'model_name': 'FashionMNISTModelV3',\n",
              " 'model_loss': 0.25294041633605957,\n",
              " 'model_acc': 90.83466453674122}"
            ]
          },
          "execution_count": 162,
          "metadata": {},
          "output_type": "execute_result"
        }
      ],
      "source": [
        "print(f\"Model: lr={optimizer_0x.param_groups[0]['lr']}, model params: {model_0x.block_1[0]}\")\n",
        "\n",
        "model_0x_results = eval_model(\n",
        "    model=model_0x\n",
        "    , data_loader=test_dataloader\n",
        "    , loss_fn=loss_fn_0x\n",
        "    , accuracy_fn=accuracy_fn\n",
        ")\n",
        "model_0x_results"
      ]
    },
    {
      "cell_type": "code",
      "execution_count": null,
      "id": "de226f26",
      "metadata": {
        "id": "de226f26"
      },
      "outputs": [],
      "source": []
    },
    {
      "cell_type": "code",
      "execution_count": null,
      "id": "043d01c3",
      "metadata": {
        "id": "043d01c3"
      },
      "outputs": [],
      "source": [
        "'''\n",
        "class FashionMNIST_CNN(nn.Module):\n",
        "    def __init__(self):\n",
        "        super(FashionMNIST_CNN, self).__init__()\n",
        "        # Convolutional layers for feature extraction\n",
        "        self.conv_layers = nn.Sequential(\n",
        "            nn.Conv2d(1, 32, kernel_size=3, padding=1)\n",
        "            , nn.ReLU()\n",
        "            , nn.MaxPool2d(kernel_size=2, stride=2)\n",
        "            , nn.Conv2d(32, 64, kernel_size=3, padding=1)\n",
        "            , nn.ReLU()\n",
        "            , nn.MaxPool2d(kernel_size=2, stride=2)\n",
        "        )\n",
        "        # Fully connected layers for classification\n",
        "        # The input size to the first fully connected layer depends on the output of conv_layers\n",
        "        # For 28x28 input, after two 2x2 max pools, spatial dimensions become 7x7\n",
        "        # So, 64 filters * 7 * 7 = 3136\n",
        "        self.classifier = nn.Sequential(\n",
        "            nn.Linear(64 * 7 * 7, 128), # Example hidden layer with 128 units\n",
        "            , nn.ReLU()\n",
        "            , nn.Dropout(0.5) # Optional: Add dropout for regularization\n",
        "            , nn.Linear(128, 10) # Output layer for 10 classes\n",
        "        )\n",
        "\n",
        "    def forward(self, x):\n",
        "        x = self.conv_layers(x)\n",
        "        x = x.view(x.size(0), -1) # Flatten the feature maps\n",
        "        x = self.classifier(x)\n",
        "        return x\n",
        "'''"
      ]
    },
    {
      "cell_type": "code",
      "execution_count": null,
      "id": "e4272699",
      "metadata": {
        "id": "e4272699"
      },
      "outputs": [],
      "source": []
    },
    {
      "cell_type": "code",
      "execution_count": null,
      "id": "173ad883",
      "metadata": {
        "id": "173ad883"
      },
      "outputs": [],
      "source": []
    },
    {
      "cell_type": "code",
      "execution_count": null,
      "id": "bb7204f4",
      "metadata": {
        "id": "bb7204f4"
      },
      "outputs": [],
      "source": [
        "\"\"\"\n",
        "# lr=0.007; h/u=32:\n",
        "\n",
        "{'model_name': 'FashionMNISTModelV2',\n",
        " 'model_loss': 0.23812277615070343,\n",
        " 'model_acc': 92.1026357827476}\n",
        "\n",
        "<torch._C.Generator at 0x10c154cb0>\n",
        "100%\n",
        " 9/9 [09:12<00:00, 61.46s/it]\n",
        "Epoch: 0\n",
        "---------\n",
        "Train loss: 0.11843 | Train accuracy: 95.84%\n",
        "Test loss: 0.23914 | Test accuracy: 92.13%\n",
        "\n",
        "Epoch: 1\n",
        "---------\n",
        "Train loss: 0.11679 | Train accuracy: 95.89%\n",
        "Test loss: 0.23882 | Test accuracy: 92.00%\n",
        "\n",
        "Epoch: 2\n",
        "---------\n",
        "Train loss: 0.11516 | Train accuracy: 96.00%\n",
        "Test loss: 0.23933 | Test accuracy: 92.22%\n",
        "\n",
        "Epoch: 3\n",
        "---------\n",
        "Train loss: 0.11382 | Train accuracy: 96.06%\n",
        "Test loss: 0.24243 | Test accuracy: 91.96%\n",
        "\n",
        "Epoch: 4\n",
        "---------\n",
        "Train loss: 0.11238 | Train accuracy: 96.08%\n",
        "Test loss: 0.23996 | Test accuracy: 92.11%\n",
        "\n",
        "Epoch: 5\n",
        "---------\n",
        "Train loss: 0.11032 | Train accuracy: 96.16%\n",
        "Test loss: 0.24535 | Test accuracy: 92.02%\n",
        "\n",
        "Epoch: 6\n",
        "---------\n",
        "Train loss: 0.10877 | Train accuracy: 96.28%\n",
        "Test loss: 0.24819 | Test accuracy: 92.09%\n",
        "\n",
        "Epoch: 7\n",
        "---------\n",
        "Train loss: 0.10700 | Train accuracy: 96.20%\n",
        "Test loss: 0.25138 | Test accuracy: 91.95%\n",
        "\n",
        "Epoch: 8\n",
        "---------\n",
        "Train loss: 0.10537 | Train accuracy: 96.36%\n",
        "Test loss: 0.24662 | Test accuracy: 92.06%\n",
        "\n",
        "Train time on mps: 552.609 seconds\n",
        "\n",
        "\"\"\""
      ]
    },
    {
      "cell_type": "code",
      "execution_count": null,
      "id": "829660da",
      "metadata": {
        "id": "829660da"
      },
      "outputs": [],
      "source": []
    },
    {
      "cell_type": "code",
      "execution_count": null,
      "id": "a329cb3d",
      "metadata": {
        "id": "a329cb3d"
      },
      "outputs": [],
      "source": []
    },
    {
      "cell_type": "code",
      "execution_count": null,
      "id": "73c22103",
      "metadata": {
        "id": "73c22103"
      },
      "outputs": [],
      "source": []
    },
    {
      "cell_type": "code",
      "execution_count": null,
      "id": "1ecb0e8f",
      "metadata": {
        "id": "1ecb0e8f"
      },
      "outputs": [],
      "source": [
        "# Create a convolutional neural network\n",
        "class FashionMNISTModelV3(nn.Module):\n",
        "    \"\"\"\n",
        "    Model architecture copying TinyVGG from:\n",
        "    https://poloclub.github.io/cnn-explainer/\n",
        "    \"\"\"\n",
        "    def __init__(self, input_shape: int, hidden_units: int, output_shape: int):\n",
        "        super().__init__()\n",
        "        self.block_1 = nn.Sequential(\n",
        "            nn.Conv2d(\n",
        "                in_channels=input_shape\n",
        "                , out_channels=hidden_units\n",
        "                , kernel_size=3 # how big is the square that's going over the image?\n",
        "                , stride=1 # default\n",
        "                , padding=1) # \"valid\" (no pad) or \"same\" (output same shape as input) or int for spec num\n",
        "            , nn.ReLU()\n",
        "            , nn.Conv2d(in_channels=hidden_units\n",
        "                      , out_channels=hidden_units\n",
        "                      , kernel_size=3\n",
        "                      , stride=1\n",
        "                      , padding=1)\n",
        "            , nn.ReLU()\n",
        "            , nn.MaxPool2d(kernel_size=2,\n",
        "                         stride=2) # default stride value is same as kernel_size\n",
        "        )\n",
        "        self.block_2 = nn.Sequential(\n",
        "            nn.Conv2d(hidden_units, hidden_units, 3, padding=1)\n",
        "            , nn.ReLU()\n",
        "            , nn.Conv2d(hidden_units, hidden_units, 3, padding=1)\n",
        "            , nn.ReLU()\n",
        "            , nn.MaxPool2d(2)\n",
        "        )\n",
        "        self.classifier = nn.Sequential(\n",
        "            nn.Flatten()\n",
        "            # Where did this in_features shape come from?\n",
        "            # It's because each layer of our network compresses and changes the shape of our input data.\n",
        "            , nn.Linear(in_features=hidden_units*7*7\n",
        "                      , out_features=output_shape)\n",
        "        )\n",
        "\n",
        "    def forward(self, x: torch.Tensor):\n",
        "        x = self.block_1(x)\n",
        "        # print(x.shape)\n",
        "        x = self.block_2(x)\n",
        "        # print(x.shape)\n",
        "        x = self.classifier(x)\n",
        "        # print(x.shape)\n",
        "        return x"
      ]
    },
    {
      "cell_type": "code",
      "execution_count": null,
      "id": "27b633df",
      "metadata": {
        "id": "27b633df"
      },
      "outputs": [],
      "source": []
    },
    {
      "cell_type": "code",
      "execution_count": null,
      "id": "94f097f5",
      "metadata": {
        "id": "94f097f5"
      },
      "outputs": [],
      "source": []
    },
    {
      "cell_type": "code",
      "execution_count": null,
      "id": "7ab92c47",
      "metadata": {
        "id": "7ab92c47"
      },
      "outputs": [],
      "source": []
    },
    {
      "cell_type": "code",
      "execution_count": null,
      "id": "2491f944",
      "metadata": {
        "id": "2491f944"
      },
      "outputs": [],
      "source": []
    },
    {
      "cell_type": "code",
      "execution_count": null,
      "id": "83e7f4fc",
      "metadata": {
        "id": "83e7f4fc"
      },
      "outputs": [],
      "source": []
    },
    {
      "cell_type": "code",
      "execution_count": null,
      "id": "d5fa0dce",
      "metadata": {
        "id": "d5fa0dce"
      },
      "outputs": [],
      "source": []
    },
    {
      "cell_type": "code",
      "execution_count": null,
      "id": "12be5def",
      "metadata": {
        "id": "12be5def",
        "outputId": "9a153631-0f40-4f92-ba77-c1457d8f0908"
      },
      "outputs": [
        {
          "data": {
            "text/plain": [
              "<torch._C.Generator at 0x10c154cb0>"
            ]
          },
          "execution_count": 59,
          "metadata": {},
          "output_type": "execute_result"
        },
        {
          "data": {
            "text/plain": [
              "FashionMNISTModelV2(\n",
              "  (block_1): Sequential(\n",
              "    (0): Conv2d(1, 64, kernel_size=(3, 3), stride=(1, 1), padding=(1, 1))\n",
              "    (1): ReLU()\n",
              "    (2): Conv2d(64, 64, kernel_size=(3, 3), stride=(1, 1), padding=(1, 1))\n",
              "    (3): ReLU()\n",
              "    (4): MaxPool2d(kernel_size=2, stride=2, padding=0, dilation=1, ceil_mode=False)\n",
              "  )\n",
              "  (block_2): Sequential(\n",
              "    (0): Conv2d(64, 64, kernel_size=(3, 3), stride=(1, 1), padding=(1, 1))\n",
              "    (1): ReLU()\n",
              "    (2): Conv2d(64, 64, kernel_size=(3, 3), stride=(1, 1), padding=(1, 1))\n",
              "    (3): ReLU()\n",
              "    (4): MaxPool2d(kernel_size=2, stride=2, padding=0, dilation=1, ceil_mode=False)\n",
              "  )\n",
              "  (classifier): Sequential(\n",
              "    (0): Flatten(start_dim=1, end_dim=-1)\n",
              "    (1): Linear(in_features=3136, out_features=10, bias=True)\n",
              "  )\n",
              ")"
            ]
          },
          "execution_count": 59,
          "metadata": {},
          "output_type": "execute_result"
        }
      ],
      "source": [
        "# REMEMBER: If you spin up additional models to test new params, hidden layers, neurons, etc. REMEMBER TO RE-RUN THE OPTIMIZER AND LOSS_FN FOR THAT MODEL!!! (otherwise, you will get abysmally low acc rates!!!)\n",
        "\n",
        "torch.manual_seed(27)\n",
        "model_4 = FashionMNISTModelV2(\n",
        "    input_shape=1\n",
        "    , hidden_units=64\n",
        "    , output_shape=len(class_names)\n",
        ").to(device)\n",
        "\n",
        "model_4"
      ]
    },
    {
      "cell_type": "code",
      "execution_count": null,
      "id": "4e09fa54",
      "metadata": {
        "id": "4e09fa54"
      },
      "outputs": [],
      "source": [
        "# REMEMBER: If you spin up additional models to test new params, hidden layers, neurons, etc. REMEMBER TO RE-RUN THE OPTIMIZER AND LOSS_FN FOR THAT MODEL!!! (otherwise, you will get abysmally low acc rates!!!)\n",
        "\n",
        "loss_fn = nn.CrossEntropyLoss()\n",
        "optimizer = torch.optim.SGD(\n",
        "    params=model_4.parameters()\n",
        "    , lr=0.1)"
      ]
    },
    {
      "cell_type": "code",
      "execution_count": null,
      "id": "b4b6cd52",
      "metadata": {
        "id": "b4b6cd52",
        "outputId": "471ad370-a5cb-47c2-a5c3-3f676273d32e",
        "colab": {
          "referenced_widgets": [
            "2f61b1c53e1a4a1b99746c832938f45a"
          ]
        }
      },
      "outputs": [
        {
          "data": {
            "text/plain": [
              "<torch._C.Generator at 0x10c154cb0>"
            ]
          },
          "execution_count": 61,
          "metadata": {},
          "output_type": "execute_result"
        },
        {
          "data": {
            "application/vnd.jupyter.widget-view+json": {
              "model_id": "2f61b1c53e1a4a1b99746c832938f45a",
              "version_major": 2,
              "version_minor": 0
            },
            "text/plain": [
              "  0%|          | 0/3 [00:00<?, ?it/s]"
            ]
          },
          "metadata": {},
          "output_type": "display_data"
        },
        {
          "name": "stdout",
          "output_type": "stream",
          "text": [
            "Epoch: 0\n",
            "---------\n",
            "Train loss: 0.49425 | Train accuracy: 82.28%\n",
            "Test loss: 0.39540 | Test accuracy: 85.94%\n",
            "\n",
            "Epoch: 1\n",
            "---------\n",
            "Train loss: 0.29516 | Train accuracy: 89.44%\n",
            "Test loss: 0.28247 | Test accuracy: 89.87%\n",
            "\n",
            "Epoch: 2\n",
            "---------\n",
            "Train loss: 0.25365 | Train accuracy: 90.91%\n",
            "Test loss: 0.26480 | Test accuracy: 90.23%\n",
            "\n",
            "Train time on mps: 193.770 seconds\n"
          ]
        }
      ],
      "source": [
        "torch.manual_seed(27)\n",
        "\n",
        "# Measure time\n",
        "from timeit import default_timer as timer\n",
        "train_time_start_model_4 = timer()\n",
        "\n",
        "# Train and test model\n",
        "epochs = 3\n",
        "for epoch in tqdm(range(epochs)):\n",
        "    print(f\"Epoch: {epoch}\\n---------\")\n",
        "    train_step(data_loader=train_dataloader\n",
        "        , model=model_4\n",
        "        , loss_fn=loss_fn\n",
        "        , optimizer=optimizer\n",
        "        , accuracy_fn=accuracy_fn\n",
        "        , device=device\n",
        "    )\n",
        "    test_step(data_loader=test_dataloader\n",
        "        , model=model_4\n",
        "        , loss_fn=loss_fn\n",
        "        , accuracy_fn=accuracy_fn\n",
        "        , device=device\n",
        "    )\n",
        "\n",
        "train_time_end_model_4= timer()\n",
        "total_train_time_model_4= print_train_time(\n",
        "    start=train_time_start_model_4\n",
        "    , end=train_time_end_model_4\n",
        "    , device=device)"
      ]
    },
    {
      "cell_type": "code",
      "execution_count": null,
      "id": "30b22584",
      "metadata": {
        "id": "30b22584",
        "outputId": "3bd53b88-2259-4325-cff7-37b5d2f6915a"
      },
      "outputs": [
        {
          "data": {
            "text/plain": [
              "{'model_name': 'FashionMNISTModelV2',\n",
              " 'model_loss': 0.2647961974143982,\n",
              " 'model_acc': 90.22563897763578}"
            ]
          },
          "execution_count": 62,
          "metadata": {},
          "output_type": "execute_result"
        }
      ],
      "source": [
        "# Get model_2 results\n",
        "model_4_results = eval_model(\n",
        "    model=model_4\n",
        "    , data_loader=test_dataloader\n",
        "    , loss_fn=loss_fn\n",
        "    , accuracy_fn=accuracy_fn\n",
        ")\n",
        "model_4_results"
      ]
    },
    {
      "cell_type": "code",
      "source": [
        "!pip install skorch"
      ],
      "metadata": {
        "colab": {
          "base_uri": "https://localhost:8080/"
        },
        "id": "PY0kNSJSSdcv",
        "outputId": "d2abc247-23a1-453e-a7fd-9658a5954ab2"
      },
      "id": "PY0kNSJSSdcv",
      "execution_count": null,
      "outputs": [
        {
          "output_type": "stream",
          "name": "stdout",
          "text": [
            "Collecting skorch\n",
            "  Downloading skorch-1.2.0-py3-none-any.whl.metadata (11 kB)\n",
            "Requirement already satisfied: numpy>=1.13.3 in /usr/local/lib/python3.12/dist-packages (from skorch) (2.0.2)\n",
            "Requirement already satisfied: scikit-learn>=0.22.0 in /usr/local/lib/python3.12/dist-packages (from skorch) (1.6.1)\n",
            "Requirement already satisfied: scipy>=1.1.0 in /usr/local/lib/python3.12/dist-packages (from skorch) (1.16.1)\n",
            "Requirement already satisfied: tabulate>=0.7.7 in /usr/local/lib/python3.12/dist-packages (from skorch) (0.9.0)\n",
            "Requirement already satisfied: tqdm>=4.14.0 in /usr/local/lib/python3.12/dist-packages (from skorch) (4.67.1)\n",
            "Requirement already satisfied: joblib>=1.2.0 in /usr/local/lib/python3.12/dist-packages (from scikit-learn>=0.22.0->skorch) (1.5.1)\n",
            "Requirement already satisfied: threadpoolctl>=3.1.0 in /usr/local/lib/python3.12/dist-packages (from scikit-learn>=0.22.0->skorch) (3.6.0)\n",
            "Downloading skorch-1.2.0-py3-none-any.whl (263 kB)\n",
            "\u001b[?25l   \u001b[90m━━━━━━━━━━━━━━━━━━━━━━━━━━━━━━━━━━━━━━━━\u001b[0m \u001b[32m0.0/263.1 kB\u001b[0m \u001b[31m?\u001b[0m eta \u001b[36m-:--:--\u001b[0m\r\u001b[2K   \u001b[90m━━━━━━━━━━━━━━━━━━━━━━━━━━━━━━━━━━━━━━━━\u001b[0m \u001b[32m263.1/263.1 kB\u001b[0m \u001b[31m10.3 MB/s\u001b[0m eta \u001b[36m0:00:00\u001b[0m\n",
            "\u001b[?25hInstalling collected packages: skorch\n",
            "Successfully installed skorch-1.2.0\n"
          ]
        }
      ]
    }
  ],
  "metadata": {
    "kernelspec": {
      "display_name": "Python 3",
      "name": "python3"
    },
    "language_info": {
      "codemirror_mode": {
        "name": "ipython",
        "version": 3
      },
      "file_extension": ".py",
      "mimetype": "text/x-python",
      "name": "python",
      "nbconvert_exporter": "python",
      "pygments_lexer": "ipython3",
      "version": "3.11.5"
    },
    "colab": {
      "provenance": [],
      "gpuType": "T4",
      "include_colab_link": true
    },
    "accelerator": "GPU"
  },
  "nbformat": 4,
  "nbformat_minor": 5
}