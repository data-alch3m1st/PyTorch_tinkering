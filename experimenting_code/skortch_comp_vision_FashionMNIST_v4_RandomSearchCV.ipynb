{
 "cells": [
  {
   "cell_type": "code",
   "execution_count": 32,
   "id": "1cbb43a9",
   "metadata": {},
   "outputs": [],
   "source": [
    "import torch\n",
    "import torch.nn as nn\n",
    "import torch.nn.functional as F\n",
    "from torch.utils.data import DataLoader\n",
    "from torchvision import datasets, transforms\n",
    "\n",
    "from skorch import NeuralNetClassifier\n",
    "from sklearn.model_selection import GridSearchCV, RandomizedSearchCV\n",
    "\n",
    "import time\n",
    "import pandas as pd\n",
    "import matplotlib.pyplot as plt\n",
    "import numpy as np\n",
    "import warnings\n",
    "\n",
    "warnings.filterwarnings(\"ignore\")"
   ]
  },
  {
   "cell_type": "code",
   "execution_count": 33,
   "id": "37e65352",
   "metadata": {},
   "outputs": [
    {
     "data": {
      "text/plain": [
       "'cpu'"
      ]
     },
     "execution_count": 33,
     "metadata": {},
     "output_type": "execute_result"
    }
   ],
   "source": [
    "# MacoOS device agnostic code:\n",
    "\n",
    "if torch.cuda.is_available():\n",
    "    device = \"cuda\" # Use NVIDIA GPU (if available)\n",
    "# elif torch.backends.mps.is_available():\n",
    "#     device = \"mps\" # Use Apple Silicon GPU (if available)\n",
    "else:\n",
    "    device = \"cpu\" # Default to CPU if no GPU is available\n",
    "\n",
    "device"
   ]
  },
  {
   "cell_type": "code",
   "execution_count": 42,
   "id": "60824b63",
   "metadata": {},
   "outputs": [],
   "source": [
    "transform = transforms.Compose([\n",
    "    transforms.ToTensor(),    \n",
    "    transforms.Normalize((0.5,), (0.5,))\n",
    "])\n",
    "\n",
    "train_dataset = datasets.FashionMNIST('./data', train=True, download=True, transform=transform)\n",
    "test_dataset = datasets.FashionMNIST('./data', train=False, download=True, transform=transform)\n",
    "\n",
    "# Skorch can handle PyTorch Datasets directly\n",
    "X_train, y_train = train_dataset.data.float().unsqueeze(1), train_dataset.targets\n",
    "X_test, y_test = test_dataset.data.float().unsqueeze(1), test_dataset.targets"
   ]
  },
  {
   "cell_type": "code",
   "execution_count": 44,
   "id": "9eb6f8f0",
   "metadata": {},
   "outputs": [
    {
     "data": {
      "text/plain": [
       "(torch.Size([60000, 1, 28, 28]),\n",
       " torch.Size([60000]),\n",
       " torch.Size([10000, 1, 28, 28]),\n",
       " torch.Size([10000]))"
      ]
     },
     "execution_count": 44,
     "metadata": {},
     "output_type": "execute_result"
    }
   ],
   "source": [
    "X_train.shape, y_train.shape, X_test.shape, y_test.shape"
   ]
  },
  {
   "cell_type": "code",
   "execution_count": 43,
   "id": "3661dd87",
   "metadata": {},
   "outputs": [],
   "source": [
    "# 1. Define your CNN module\n",
    "\n",
    "class SimpleCNN(nn.Module):\n",
    "    def __init__(self, channels=32, dropout=0.0):\n",
    "        super().__init__()\n",
    "        self.conv1 = nn.Conv2d(1, channels, kernel_size=3, padding=1)\n",
    "        self.conv2 = nn.Conv2d(channels, channels * 2, kernel_size=3, padding=1)\n",
    "        self.fc1   = nn.Linear((channels * 2) * 7 * 7, 128)\n",
    "        self.fc2   = nn.Linear(128, 10)\n",
    "        self.dropout = nn.Dropout(dropout)\n",
    "\n",
    "    def forward(self, x):\n",
    "        x = F.relu(F.max_pool2d(self.conv1(x), 2))\n",
    "        x = F.relu(F.max_pool2d(self.conv2(x), 2))\n",
    "        x = torch.flatten(x, 1)\n",
    "        x = F.relu(self.fc1(self.dropout(x)))\n",
    "        x = self.fc2(x)\n",
    "        return x"
   ]
  },
  {
   "cell_type": "code",
   "execution_count": 19,
   "id": "b97d6e3f",
   "metadata": {},
   "outputs": [
    {
     "data": {
      "text/plain": [
       "(torch.Size([60000, 1, 28, 28]), torch.Size([60000]))"
      ]
     },
     "execution_count": 19,
     "metadata": {},
     "output_type": "execute_result"
    }
   ],
   "source": [
    "# 2. Prepare dataset (FashionMNIST)\n",
    "\n",
    "# transform = transforms.Compose([\n",
    "#     transforms.ToTensor()\n",
    "#     , transforms.Normalize((0.5,), (0.5,))\n",
    "# ])\n",
    "\n",
    "# train_data = datasets.FashionMNIST(\n",
    "#     root=\"./data\"\n",
    "#     , train=True\n",
    "#     , download=True\n",
    "#     , transform=transform\n",
    "# )\n",
    "\n",
    "# X = train_data.data.unsqueeze(1).float() / 255.0  # shape: (N, 1, 28, 28)\n",
    "# y = train_data.targets\n",
    "\n",
    "# X.shape, y.shape"
   ]
  },
  {
   "cell_type": "code",
   "execution_count": 35,
   "id": "60bb520c",
   "metadata": {},
   "outputs": [
    {
     "data": {
      "text/plain": [
       "((60000, 28, 28), (60000,))"
      ]
     },
     "execution_count": 35,
     "metadata": {},
     "output_type": "execute_result"
    }
   ],
   "source": [
    "# train_data = datasets.FashionMNIST(\n",
    "#     root=\"./data\",\n",
    "#     train=True,\n",
    "#     download=True,\n",
    "#     transform=transform\n",
    "# )\n",
    "# X = train_data.data.numpy()  # or just pass train_data directly\n",
    "# y = train_data.targets.numpy()\n",
    "\n",
    "# X.shape, y.shape"
   ]
  },
  {
   "cell_type": "code",
   "execution_count": 47,
   "id": "b942d864",
   "metadata": {},
   "outputs": [
    {
     "name": "stdout",
     "output_type": "stream",
     "text": [
      "  epoch    train_loss    valid_acc    valid_loss      dur\n",
      "-------  ------------  -----------  ------------  -------\n",
      "      1        \u001b[36m0.6025\u001b[0m       \u001b[32m0.8494\u001b[0m        \u001b[35m0.4165\u001b[0m  14.9288\n",
      "      2        \u001b[36m0.3653\u001b[0m       \u001b[32m0.8773\u001b[0m        \u001b[35m0.3444\u001b[0m  15.8009\n",
      "      3        \u001b[36m0.3165\u001b[0m       \u001b[32m0.8967\u001b[0m        \u001b[35m0.2916\u001b[0m  16.2570\n",
      "      4        \u001b[36m0.2775\u001b[0m       \u001b[32m0.8996\u001b[0m        \u001b[35m0.2868\u001b[0m  15.7578\n",
      "      5        \u001b[36m0.2531\u001b[0m       \u001b[32m0.9024\u001b[0m        \u001b[35m0.2741\u001b[0m  16.1300\n",
      "      6        \u001b[36m0.2361\u001b[0m       \u001b[32m0.9077\u001b[0m        \u001b[35m0.2512\u001b[0m  16.3023\n",
      "      7        \u001b[36m0.2173\u001b[0m       \u001b[32m0.9093\u001b[0m        0.2517  16.1267\n",
      "      8        \u001b[36m0.1993\u001b[0m       \u001b[32m0.9157\u001b[0m        \u001b[35m0.2292\u001b[0m  15.7634\n",
      "      9        \u001b[36m0.1860\u001b[0m       0.9143        0.2354  16.2944\n",
      "     10        \u001b[36m0.1741\u001b[0m       \u001b[32m0.9222\u001b[0m        \u001b[35m0.2199\u001b[0m  15.8141\n",
      "Train accuracy: 0.9430833333333334\n"
     ]
    }
   ],
   "source": [
    "net = NeuralNetClassifier(\n",
    "    module=SimpleCNN\n",
    "    , criterion=nn.CrossEntropyLoss\n",
    "    , max_epochs=10\n",
    "    , lr=0.001\n",
    "    , optimizer=torch.optim.Adam\n",
    "    , batch_size=256\n",
    "    , iterator_train__shuffle=True\n",
    "    , device=device\n",
    ")\n",
    "\n",
    "net.fit(X_train, y_train)\n",
    "print(\"Train accuracy:\", net.score(X, y))"
   ]
  },
  {
   "cell_type": "code",
   "execution_count": 52,
   "id": "1c7c9d38",
   "metadata": {},
   "outputs": [
    {
     "name": "stdout",
     "output_type": "stream",
     "text": [
      "  epoch    train_loss    valid_acc    valid_loss      dur\n",
      "-------  ------------  -----------  ------------  -------\n",
      "      1        \u001b[36m0.9513\u001b[0m       \u001b[32m0.8819\u001b[0m        \u001b[35m0.3327\u001b[0m  15.1738\n",
      "      2        \u001b[36m0.3071\u001b[0m       \u001b[32m0.8898\u001b[0m        \u001b[35m0.2925\u001b[0m  16.3234\n",
      "      3        \u001b[36m0.2631\u001b[0m       \u001b[32m0.9037\u001b[0m        \u001b[35m0.2708\u001b[0m  16.0947\n",
      "      4        \u001b[36m0.2287\u001b[0m       \u001b[32m0.9064\u001b[0m        \u001b[35m0.2603\u001b[0m  15.1317\n",
      "      5        \u001b[36m0.2116\u001b[0m       \u001b[32m0.9122\u001b[0m        \u001b[35m0.2541\u001b[0m  15.0414\n",
      "      6        \u001b[36m0.1900\u001b[0m       0.9096        0.2638  15.5097\n",
      "      7        \u001b[36m0.1734\u001b[0m       \u001b[32m0.9138\u001b[0m        \u001b[35m0.2519\u001b[0m  15.6656\n",
      "      8        \u001b[36m0.1605\u001b[0m       0.9093        0.2676  15.2011\n",
      "      9        \u001b[36m0.1513\u001b[0m       0.9073        0.2830  16.9694\n",
      "     10        \u001b[36m0.1361\u001b[0m       0.9124        0.2824  15.2532\n",
      "Train accuracy: 0.9505\n"
     ]
    }
   ],
   "source": [
    "net = NeuralNetClassifier(\n",
    "    module=SimpleCNN\n",
    "    , criterion=nn.CrossEntropyLoss\n",
    "    , max_epochs=10\n",
    "    , lr=0.001\n",
    "    , optimizer=torch.optim.Adam\n",
    "    , batch_size=256\n",
    "    , iterator_train__shuffle=True\n",
    "    , device=device\n",
    ")\n",
    "\n",
    "net.fit(X_train, y_train)\n",
    "print(\"Train accuracy:\", net.score(X_train, y_train))"
   ]
  },
  {
   "cell_type": "code",
   "execution_count": 53,
   "id": "3b3bb18c",
   "metadata": {},
   "outputs": [],
   "source": [
    "# 3. Wrap model with skorch\n",
    "\n",
    "net = NeuralNetClassifier(\n",
    "    module=SimpleCNN\n",
    "    , criterion=nn.CrossEntropyLoss\n",
    "    , max_epochs=10\n",
    "    , lr=0.001\n",
    "    , optimizer=torch.optim.Adam\n",
    "    , batch_size=256\n",
    "    , iterator_train__shuffle=True\n",
    "    , device=device\n",
    ")"
   ]
  },
  {
   "cell_type": "code",
   "execution_count": 40,
   "id": "0c3ce911",
   "metadata": {
    "collapsed": true
   },
   "outputs": [
    {
     "name": "stdout",
     "output_type": "stream",
     "text": [
      "Re-initializing module.\n",
      "Re-initializing criterion.\n",
      "Re-initializing optimizer.\n",
      "  epoch    train_loss    valid_acc    valid_loss      dur\n",
      "-------  ------------  -----------  ------------  -------\n",
      "      1           nan       \u001b[32m0.1000\u001b[0m           nan  16.0133\n",
      "      2           nan       0.1000           nan  16.0808\n",
      "      3           nan       0.1000           nan  15.7180\n",
      "      4           nan       0.1000           nan  15.4871\n",
      "      5           nan       0.1000           nan  15.7791\n",
      "      6           nan       0.1000           nan  16.5335\n",
      "      7           nan       0.1000           nan  17.8743\n",
      "      8           nan       0.1000           nan  15.5864\n",
      "      9           nan       0.1000           nan  15.1555\n",
      "     10           nan       0.1000           nan  16.5533\n",
      "0.1\n"
     ]
    }
   ],
   "source": [
    "# net.fit(X, y)\n",
    "# print(net.score(X, y))  # should be far above 10%"
   ]
  },
  {
   "cell_type": "code",
   "execution_count": 54,
   "id": "5f0d98b8",
   "metadata": {},
   "outputs": [],
   "source": [
    "# 4. Define parameter grid\n",
    "#    Note: use 'module__' prefix for module args\n",
    "\n",
    "param_grid = {\n",
    "    \"module__channels\": [32, 64]\n",
    "    , \"module__dropout\": [0.0, 0.25, 0.5] \n",
    "    , \"lr\": [1e-4, 3e-4, 1e-3]\n",
    "    , \"optimizer\": [torch.optim.Adam\n",
    "#                     , torch.optim.SGD\n",
    "                   ]\n",
    "    , \"batch_size\": [256]\n",
    "    , \"max_epochs\": [3]\n",
    "}"
   ]
  },
  {
   "cell_type": "code",
   "execution_count": 55,
   "id": "114d2002",
   "metadata": {
    "scrolled": true
   },
   "outputs": [
    {
     "name": "stdout",
     "output_type": "stream",
     "text": [
      "CPU times: user 6 µs, sys: 1 µs, total: 7 µs\n",
      "Wall time: 9.78 µs\n"
     ]
    }
   ],
   "source": [
    "%%time\n",
    "\n",
    "# 5B. Faster Randomized Search (params setup)\n",
    "\n",
    "param_dist = {\n",
    "    \"module__channels\": [32, 64]\n",
    "    , \"module__dropout\": [0.0, 0.25, 0.5]\n",
    "    , \"lr\": [1e-4, 3e-4, 1e-3]\n",
    "    , \"optimizer\": [torch.optim.Adam\n",
    "#                     , torch.optim.SGD\n",
    "                   ]\n",
    "    , \"batch_size\": [256]\n",
    "}"
   ]
  },
  {
   "cell_type": "code",
   "execution_count": 58,
   "id": "3213365e",
   "metadata": {
    "scrolled": false
   },
   "outputs": [
    {
     "name": "stdout",
     "output_type": "stream",
     "text": [
      "Fitting 2 folds for each of 10 candidates, totalling 20 fits\n",
      "  epoch    train_loss    valid_acc    valid_loss      dur\n",
      "-------  ------------  -----------  ------------  -------\n",
      "      1        \u001b[36m1.0883\u001b[0m       \u001b[32m0.8482\u001b[0m        \u001b[35m0.4357\u001b[0m  29.3791\n",
      "  epoch    train_loss    valid_acc    valid_loss      dur\n",
      "-------  ------------  -----------  ------------  -------\n",
      "      1        \u001b[36m1.5037\u001b[0m       \u001b[32m0.8477\u001b[0m        \u001b[35m0.4452\u001b[0m  30.5034\n",
      "  epoch    train_loss    valid_acc    valid_loss      dur\n",
      "-------  ------------  -----------  ------------  -------\n",
      "      1        \u001b[36m2.5668\u001b[0m       \u001b[32m0.8365\u001b[0m        \u001b[35m0.4487\u001b[0m  31.0023\n",
      "  epoch    train_loss    valid_acc    valid_loss      dur\n",
      "-------  ------------  -----------  ------------  -------\n",
      "      1        \u001b[36m1.5056\u001b[0m       \u001b[32m0.8520\u001b[0m        \u001b[35m0.4209\u001b[0m  32.0802\n",
      "  epoch    train_loss    valid_acc    valid_loss      dur\n",
      "-------  ------------  -----------  ------------  -------\n",
      "      1        \u001b[36m1.2010\u001b[0m       \u001b[32m0.8167\u001b[0m        \u001b[35m0.5092\u001b[0m  33.0554\n",
      "  epoch    train_loss    valid_acc    valid_loss      dur\n",
      "-------  ------------  -----------  ------------  -------\n",
      "      1        \u001b[36m1.2530\u001b[0m       \u001b[32m0.8027\u001b[0m        \u001b[35m0.5729\u001b[0m  34.5598\n",
      "      2        \u001b[36m0.4279\u001b[0m       \u001b[32m0.8637\u001b[0m        \u001b[35m0.3736\u001b[0m  37.1361\n",
      "      2        \u001b[36m0.4483\u001b[0m       \u001b[32m0.8613\u001b[0m        \u001b[35m0.3883\u001b[0m  37.4793\n",
      "      2        \u001b[36m0.4907\u001b[0m       \u001b[32m0.8622\u001b[0m        \u001b[35m0.3849\u001b[0m  38.1834\n",
      "      2        \u001b[36m0.4452\u001b[0m       \u001b[32m0.8715\u001b[0m        \u001b[35m0.3527\u001b[0m  40.2428\n",
      "      2        \u001b[36m0.4734\u001b[0m       \u001b[32m0.8360\u001b[0m        \u001b[35m0.4562\u001b[0m  42.1877\n",
      "      2        \u001b[36m0.4825\u001b[0m       \u001b[32m0.8460\u001b[0m        \u001b[35m0.4419\u001b[0m  44.5843\n",
      "      3        \u001b[36m0.3616\u001b[0m       \u001b[32m0.8853\u001b[0m        \u001b[35m0.3207\u001b[0m  48.3564\n",
      "      3        \u001b[36m0.3812\u001b[0m       \u001b[32m0.8647\u001b[0m        \u001b[35m0.3718\u001b[0m  49.6090\n",
      "      3        \u001b[36m0.4294\u001b[0m       \u001b[32m0.8752\u001b[0m        \u001b[35m0.3453\u001b[0m  49.6856\n",
      "      3        \u001b[36m0.3943\u001b[0m       \u001b[32m0.8728\u001b[0m        \u001b[35m0.3407\u001b[0m  51.0386\n",
      "      3        \u001b[36m0.3931\u001b[0m       \u001b[32m0.8450\u001b[0m        \u001b[35m0.4215\u001b[0m  51.7320\n",
      "  epoch    train_loss    valid_acc    valid_loss      dur\n",
      "-------  ------------  -----------  ------------  -------\n",
      "      1        \u001b[36m1.2764\u001b[0m       \u001b[32m0.8488\u001b[0m        \u001b[35m0.4284\u001b[0m  52.7612\n",
      "  epoch    train_loss    valid_acc    valid_loss       dur\n",
      "-------  ------------  -----------  ------------  --------\n",
      "      1        \u001b[36m1.4309\u001b[0m       \u001b[32m0.8575\u001b[0m        \u001b[35m0.4127\u001b[0m  114.1125\n",
      "      3        \u001b[36m0.4030\u001b[0m       \u001b[32m0.8593\u001b[0m        \u001b[35m0.4112\u001b[0m  53.2960\n",
      "  epoch    train_loss    valid_acc    valid_loss      dur\n",
      "-------  ------------  -----------  ------------  -------\n",
      "      1        \u001b[36m1.3312\u001b[0m       \u001b[32m0.8552\u001b[0m        \u001b[35m0.4174\u001b[0m  54.4402\n",
      "  epoch    train_loss    valid_acc    valid_loss       dur\n",
      "-------  ------------  -----------  ------------  --------\n",
      "      1        \u001b[36m1.3746\u001b[0m       \u001b[32m0.8545\u001b[0m        \u001b[35m0.4059\u001b[0m  119.7256\n",
      "      4        \u001b[36m0.3167\u001b[0m       \u001b[32m0.8855\u001b[0m        \u001b[35m0.3152\u001b[0m  56.1307\n",
      "  epoch    train_loss    valid_acc    valid_loss       dur\n",
      "-------  ------------  -----------  ------------  --------\n",
      "      1        \u001b[36m2.6038\u001b[0m       \u001b[32m0.8543\u001b[0m        \u001b[35m0.3942\u001b[0m  119.7767\n",
      "      4        \u001b[36m0.3388\u001b[0m       \u001b[32m0.8847\u001b[0m        \u001b[35m0.3218\u001b[0m  55.7963\n",
      "      4        \u001b[36m0.4022\u001b[0m       \u001b[32m0.8788\u001b[0m        \u001b[35m0.3360\u001b[0m  55.1829\n",
      "  epoch    train_loss    valid_acc    valid_loss       dur\n",
      "-------  ------------  -----------  ------------  --------\n",
      "      1        \u001b[36m1.9883\u001b[0m       \u001b[32m0.8500\u001b[0m        \u001b[35m0.3927\u001b[0m  122.8647\n",
      "      4        \u001b[36m0.3643\u001b[0m       \u001b[32m0.8863\u001b[0m        \u001b[35m0.3087\u001b[0m  55.9397\n",
      "      4        \u001b[36m0.3495\u001b[0m       \u001b[32m0.8560\u001b[0m        \u001b[35m0.4163\u001b[0m  53.6954\n",
      "      2        \u001b[36m0.3883\u001b[0m       \u001b[32m0.8720\u001b[0m        \u001b[35m0.3561\u001b[0m  54.7080\n",
      "  epoch    train_loss    valid_acc    valid_loss       dur\n",
      "-------  ------------  -----------  ------------  --------\n",
      "      1        \u001b[36m0.9273\u001b[0m       \u001b[32m0.8452\u001b[0m        \u001b[35m0.4371\u001b[0m  127.2935\n",
      "  epoch    train_loss    valid_acc    valid_loss       dur\n",
      "-------  ------------  -----------  ------------  --------\n",
      "      1        \u001b[36m1.1421\u001b[0m       \u001b[32m0.8387\u001b[0m        \u001b[35m0.4633\u001b[0m  128.3214\n",
      "      4        \u001b[36m0.3646\u001b[0m       \u001b[32m0.8653\u001b[0m        \u001b[35m0.3902\u001b[0m  53.9345\n",
      "      2        \u001b[36m0.3677\u001b[0m       \u001b[32m0.8790\u001b[0m        \u001b[35m0.3552\u001b[0m  54.5819\n",
      "      5        \u001b[36m0.2913\u001b[0m       \u001b[32m0.8927\u001b[0m        \u001b[35m0.2992\u001b[0m  56.0312\n",
      "      5        \u001b[36m0.3075\u001b[0m       \u001b[32m0.8902\u001b[0m        \u001b[35m0.3049\u001b[0m  56.2405\n",
      "      5        \u001b[36m0.3794\u001b[0m       0.8778        \u001b[35m0.3293\u001b[0m  55.1325\n",
      "      5        \u001b[36m0.3352\u001b[0m       0.8817        \u001b[35m0.3077\u001b[0m  55.7573\n",
      "      5        \u001b[36m0.3193\u001b[0m       \u001b[32m0.8828\u001b[0m        \u001b[35m0.3367\u001b[0m  54.1411\n",
      "      3        \u001b[36m0.3300\u001b[0m       \u001b[32m0.8802\u001b[0m        \u001b[35m0.3269\u001b[0m  54.1970\n",
      "  epoch    train_loss    valid_acc    valid_loss       dur\n",
      "-------  ------------  -----------  ------------  --------\n",
      "      1        \u001b[36m1.7676\u001b[0m       \u001b[32m0.8220\u001b[0m        \u001b[35m0.4949\u001b[0m  134.7594\n",
      "      5        \u001b[36m0.3321\u001b[0m       \u001b[32m0.8725\u001b[0m        \u001b[35m0.3685\u001b[0m  54.2454\n",
      "      3        \u001b[36m0.3113\u001b[0m       \u001b[32m0.8837\u001b[0m        \u001b[35m0.3323\u001b[0m  53.0544\n",
      "  epoch    train_loss    valid_acc    valid_loss       dur\n",
      "-------  ------------  -----------  ------------  --------\n",
      "      1        \u001b[36m1.7242\u001b[0m       \u001b[32m0.8307\u001b[0m        \u001b[35m0.4837\u001b[0m  134.2793\n",
      "      6        \u001b[36m0.2609\u001b[0m       \u001b[32m0.8995\u001b[0m        \u001b[35m0.2901\u001b[0m  54.9747\n",
      "      2        \u001b[36m0.4199\u001b[0m       \u001b[32m0.8797\u001b[0m        \u001b[35m0.3384\u001b[0m  133.0813\n",
      "      6        \u001b[36m0.2828\u001b[0m       \u001b[32m0.8980\u001b[0m        \u001b[35m0.2866\u001b[0m  54.9103\n",
      "      6        \u001b[36m0.3679\u001b[0m       \u001b[32m0.8835\u001b[0m        \u001b[35m0.3187\u001b[0m  53.9891\n",
      "      2        \u001b[36m0.4088\u001b[0m       \u001b[32m0.8823\u001b[0m        \u001b[35m0.3341\u001b[0m  133.1206\n",
      "      6        \u001b[36m0.3159\u001b[0m       \u001b[32m0.8917\u001b[0m        \u001b[35m0.2921\u001b[0m  55.0069\n",
      "      2        \u001b[36m0.3631\u001b[0m       \u001b[32m0.8697\u001b[0m        \u001b[35m0.3532\u001b[0m  129.6773\n",
      "      6        \u001b[36m0.2879\u001b[0m       \u001b[32m0.8843\u001b[0m        \u001b[35m0.3342\u001b[0m  54.2993\n",
      "      4        \u001b[36m0.2876\u001b[0m       \u001b[32m0.8875\u001b[0m        \u001b[35m0.3232\u001b[0m  54.3837\n",
      "      2        \u001b[36m0.3432\u001b[0m       \u001b[32m0.8812\u001b[0m        \u001b[35m0.3312\u001b[0m  130.5393\n",
      "      6        \u001b[36m0.3075\u001b[0m       \u001b[32m0.8830\u001b[0m        \u001b[35m0.3443\u001b[0m  55.2006\n",
      "      4        \u001b[36m0.2766\u001b[0m       \u001b[32m0.8868\u001b[0m        \u001b[35m0.3207\u001b[0m  55.5353\n",
      "      2        \u001b[36m0.4042\u001b[0m       \u001b[32m0.8582\u001b[0m        \u001b[35m0.3992\u001b[0m  132.5473\n",
      "      7        \u001b[36m0.2426\u001b[0m       0.8980        \u001b[35m0.2807\u001b[0m  58.2270\n",
      "      2        \u001b[36m0.4051\u001b[0m       \u001b[32m0.8677\u001b[0m        \u001b[35m0.3708\u001b[0m  133.5065\n",
      "      7        \u001b[36m0.2624\u001b[0m       \u001b[32m0.9017\u001b[0m        \u001b[35m0.2784\u001b[0m  58.4005\n",
      "      7        \u001b[36m0.3460\u001b[0m       0.8823        \u001b[35m0.3081\u001b[0m  57.7365\n",
      "      7        \u001b[36m0.3040\u001b[0m       \u001b[32m0.8948\u001b[0m        \u001b[35m0.2711\u001b[0m  58.2733\n",
      "      7        \u001b[36m0.2731\u001b[0m       \u001b[32m0.8890\u001b[0m        \u001b[35m0.3200\u001b[0m  56.8306\n",
      "      5        \u001b[36m0.2567\u001b[0m       0.8722        0.3492  56.8051\n",
      "      7        \u001b[36m0.2786\u001b[0m       0.8827        0.3456  56.7824\n",
      "      5        \u001b[36m0.2465\u001b[0m       \u001b[32m0.8963\u001b[0m        \u001b[35m0.2973\u001b[0m  56.2833\n",
      "      2        \u001b[36m0.5251\u001b[0m       \u001b[32m0.8565\u001b[0m        \u001b[35m0.4038\u001b[0m  137.7568\n",
      "      8        \u001b[36m0.2276\u001b[0m       \u001b[32m0.9052\u001b[0m        \u001b[35m0.2703\u001b[0m  57.5565\n",
      "      8        \u001b[36m0.2454\u001b[0m       \u001b[32m0.9038\u001b[0m        \u001b[35m0.2733\u001b[0m  57.8995\n",
      "      8        \u001b[36m0.3392\u001b[0m       0.8773        0.3191  57.7625\n",
      "      8        \u001b[36m0.2883\u001b[0m       \u001b[32m0.8978\u001b[0m        0.2779  57.5576\n",
      "      8        \u001b[36m0.2516\u001b[0m       \u001b[32m0.8900\u001b[0m        \u001b[35m0.3163\u001b[0m  55.6996\n",
      "      2        \u001b[36m0.5295\u001b[0m       \u001b[32m0.8630\u001b[0m        \u001b[35m0.3836\u001b[0m  139.7245\n",
      "      6        \u001b[36m0.2368\u001b[0m       \u001b[32m0.8917\u001b[0m        \u001b[35m0.3077\u001b[0m  55.5237\n",
      "      3        \u001b[36m0.3725\u001b[0m       \u001b[32m0.8837\u001b[0m        \u001b[35m0.3199\u001b[0m  138.8914\n"
     ]
    },
    {
     "name": "stdout",
     "output_type": "stream",
     "text": [
      "      8        \u001b[36m0.2677\u001b[0m       \u001b[32m0.8895\u001b[0m        \u001b[35m0.3275\u001b[0m  55.2622\n",
      "      3        \u001b[36m0.3479\u001b[0m       \u001b[32m0.8908\u001b[0m        \u001b[35m0.3073\u001b[0m  138.1968\n",
      "      3        \u001b[36m0.3160\u001b[0m       \u001b[32m0.8825\u001b[0m        \u001b[35m0.3211\u001b[0m  133.4053\n",
      "      6        \u001b[36m0.2273\u001b[0m       \u001b[32m0.8965\u001b[0m        0.2986  54.5514\n",
      "      3        \u001b[36m0.2891\u001b[0m       \u001b[32m0.8850\u001b[0m        \u001b[35m0.3143\u001b[0m  133.3826\n",
      "      9        \u001b[36m0.2089\u001b[0m       0.9012        0.2765  55.4917\n",
      "      9        \u001b[36m0.2300\u001b[0m       0.9012        0.2755  55.2493\n",
      "      9        \u001b[36m0.3238\u001b[0m       \u001b[32m0.8843\u001b[0m        \u001b[35m0.3018\u001b[0m  55.0932\n",
      "      3        \u001b[36m0.3364\u001b[0m       \u001b[32m0.8772\u001b[0m        \u001b[35m0.3504\u001b[0m  133.9014\n",
      "      9        0.2907       0.8935        0.2911  55.9482\n",
      "      9        \u001b[36m0.2403\u001b[0m       \u001b[32m0.8933\u001b[0m        0.3196  54.4731\n",
      "      7        \u001b[36m0.2152\u001b[0m       \u001b[32m0.8945\u001b[0m        \u001b[35m0.3064\u001b[0m  54.1228\n",
      "      3        \u001b[36m0.3336\u001b[0m       \u001b[32m0.8823\u001b[0m        \u001b[35m0.3439\u001b[0m  133.9700\n",
      "      9        \u001b[36m0.2492\u001b[0m       \u001b[32m0.8917\u001b[0m        \u001b[35m0.3210\u001b[0m  55.3045\n",
      "      7        \u001b[36m0.2050\u001b[0m       \u001b[32m0.8967\u001b[0m        \u001b[35m0.2911\u001b[0m  54.6255\n",
      "     10        \u001b[36m0.1977\u001b[0m       \u001b[32m0.9065\u001b[0m        0.2767  58.7672\n",
      "     10        \u001b[36m0.2160\u001b[0m       0.9023        0.2746  59.2255\n",
      "     10        \u001b[36m0.3085\u001b[0m       \u001b[32m0.8898\u001b[0m        \u001b[35m0.2959\u001b[0m  58.1057\n",
      "     10        \u001b[36m0.2706\u001b[0m       0.8945        0.2766  58.7434\n",
      "     10        \u001b[36m0.2276\u001b[0m       0.8905        \u001b[35m0.3067\u001b[0m  56.8185\n",
      "      8        \u001b[36m0.1958\u001b[0m       \u001b[32m0.8962\u001b[0m        0.3135  56.0763\n",
      "      3        \u001b[36m0.4309\u001b[0m       \u001b[32m0.8690\u001b[0m        \u001b[35m0.3643\u001b[0m  138.3234\n",
      "     10        \u001b[36m0.2349\u001b[0m       0.8840        0.3444  56.8232\n",
      "      8        \u001b[36m0.1909\u001b[0m       \u001b[32m0.9013\u001b[0m        \u001b[35m0.2907\u001b[0m  56.2328\n",
      "      3        \u001b[36m0.4157\u001b[0m       \u001b[32m0.8743\u001b[0m        \u001b[35m0.3519\u001b[0m  137.8569\n",
      "      4        \u001b[36m0.3393\u001b[0m       \u001b[32m0.8897\u001b[0m        \u001b[35m0.3053\u001b[0m  136.9219\n",
      "      4        \u001b[36m0.2858\u001b[0m       0.8777        0.3319  131.4762\n",
      "      4        \u001b[36m0.3067\u001b[0m       \u001b[32m0.8940\u001b[0m        \u001b[35m0.2953\u001b[0m  137.9947\n",
      "      4        \u001b[36m0.2514\u001b[0m       \u001b[32m0.8890\u001b[0m        0.3222  132.6027\n",
      "      9        \u001b[36m0.1848\u001b[0m       \u001b[32m0.8975\u001b[0m        \u001b[35m0.3031\u001b[0m  53.4941\n",
      "      4        \u001b[36m0.2899\u001b[0m       \u001b[32m0.8883\u001b[0m        \u001b[35m0.3174\u001b[0m  133.0351\n",
      "      9        \u001b[36m0.1829\u001b[0m       \u001b[32m0.9027\u001b[0m        \u001b[35m0.2828\u001b[0m  51.9431\n",
      "      4        \u001b[36m0.3005\u001b[0m       0.8608        0.4090  130.9502\n",
      "  epoch    train_loss    valid_acc    valid_loss      dur\n",
      "-------  ------------  -----------  ------------  -------\n",
      "      1        \u001b[36m2.0370\u001b[0m       \u001b[32m0.8432\u001b[0m        \u001b[35m0.4281\u001b[0m  53.3198\n",
      "     10        \u001b[36m0.1624\u001b[0m       0.8965        0.3035  53.9559\n",
      "  epoch    train_loss    valid_acc    valid_loss      dur\n",
      "-------  ------------  -----------  ------------  -------\n",
      "      1        \u001b[36m2.2043\u001b[0m       \u001b[32m0.8358\u001b[0m        \u001b[35m0.4385\u001b[0m  54.8307\n",
      "     10        \u001b[36m0.1610\u001b[0m       0.8968        0.2945  55.3174\n",
      "  epoch    train_loss    valid_acc    valid_loss      dur\n",
      "-------  ------------  -----------  ------------  -------\n",
      "      1        \u001b[36m1.9047\u001b[0m       \u001b[32m0.8592\u001b[0m        \u001b[35m0.3921\u001b[0m  54.5681\n",
      "      4        \u001b[36m0.3721\u001b[0m       \u001b[32m0.8802\u001b[0m        \u001b[35m0.3283\u001b[0m  133.7978\n",
      "      2        \u001b[36m0.4156\u001b[0m       \u001b[32m0.8722\u001b[0m        \u001b[35m0.3546\u001b[0m  56.9223\n",
      "  epoch    train_loss    valid_acc    valid_loss      dur\n",
      "-------  ------------  -----------  ------------  -------\n",
      "      1        \u001b[36m1.5147\u001b[0m       \u001b[32m0.8530\u001b[0m        \u001b[35m0.4211\u001b[0m  54.8770\n",
      "      5        \u001b[36m0.3164\u001b[0m       \u001b[32m0.8915\u001b[0m        \u001b[35m0.3032\u001b[0m  132.2846\n",
      "      4        \u001b[36m0.3625\u001b[0m       \u001b[32m0.8868\u001b[0m        \u001b[35m0.3176\u001b[0m  134.1920\n",
      "      2        \u001b[36m0.4119\u001b[0m       \u001b[32m0.8622\u001b[0m        \u001b[35m0.3752\u001b[0m  54.9342\n",
      "      5        \u001b[36m0.2509\u001b[0m       \u001b[32m0.8907\u001b[0m        \u001b[35m0.3159\u001b[0m  129.3355\n",
      "      5        \u001b[36m0.2852\u001b[0m       \u001b[32m0.9038\u001b[0m        \u001b[35m0.2753\u001b[0m  133.4799\n",
      "      2        \u001b[36m0.3544\u001b[0m       \u001b[32m0.8740\u001b[0m        \u001b[35m0.3501\u001b[0m  51.7474\n",
      "      5        \u001b[36m0.2200\u001b[0m       0.8865        0.3286  128.8132\n",
      "      3        \u001b[36m0.3560\u001b[0m       \u001b[32m0.8788\u001b[0m        \u001b[35m0.3231\u001b[0m  51.9349\n",
      "      2        \u001b[36m0.3593\u001b[0m       \u001b[32m0.8773\u001b[0m        \u001b[35m0.3380\u001b[0m  49.6278\n",
      "      5        \u001b[36m0.2641\u001b[0m       0.8538        0.3962  130.9179\n",
      "      5        \u001b[36m0.2707\u001b[0m       \u001b[32m0.8910\u001b[0m        \u001b[35m0.3124\u001b[0m  129.8166\n",
      "      3        \u001b[36m0.3527\u001b[0m       \u001b[32m0.8873\u001b[0m        \u001b[35m0.3173\u001b[0m  52.1122\n",
      "      3        \u001b[36m0.3030\u001b[0m       \u001b[32m0.8783\u001b[0m        \u001b[35m0.3380\u001b[0m  50.7558\n",
      "      4        \u001b[36m0.3233\u001b[0m       \u001b[32m0.8873\u001b[0m        \u001b[35m0.3061\u001b[0m  52.5491\n",
      "      3        \u001b[36m0.2962\u001b[0m       \u001b[32m0.8877\u001b[0m        \u001b[35m0.3075\u001b[0m  50.7183\n",
      "      5        \u001b[36m0.3397\u001b[0m       0.8793        \u001b[35m0.3282\u001b[0m  128.5480\n",
      "      4        \u001b[36m0.3254\u001b[0m       0.8852        0.3200  51.4120\n",
      "      4        \u001b[36m0.2753\u001b[0m       \u001b[32m0.8818\u001b[0m        \u001b[35m0.3281\u001b[0m  50.0577\n",
      "      6        \u001b[36m0.2912\u001b[0m       \u001b[32m0.8917\u001b[0m        \u001b[35m0.3004\u001b[0m  126.2637\n",
      "      5        \u001b[36m0.3209\u001b[0m       \u001b[32m0.8892\u001b[0m        \u001b[35m0.3157\u001b[0m  127.4271\n",
      "      6        \u001b[36m0.2228\u001b[0m       \u001b[32m0.8978\u001b[0m        \u001b[35m0.2993\u001b[0m  122.7829\n",
      "      4        \u001b[36m0.2576\u001b[0m       \u001b[32m0.8892\u001b[0m        0.3129  49.7176\n",
      "      5        \u001b[36m0.3032\u001b[0m       \u001b[32m0.8897\u001b[0m        \u001b[35m0.3007\u001b[0m  51.7915\n",
      "      6        \u001b[36m0.2631\u001b[0m       \u001b[32m0.9070\u001b[0m        \u001b[35m0.2628\u001b[0m  126.9662\n",
      "      6        \u001b[36m0.2085\u001b[0m       \u001b[32m0.8972\u001b[0m        \u001b[35m0.3023\u001b[0m  123.2694\n",
      "      5        \u001b[36m0.3007\u001b[0m       \u001b[32m0.8897\u001b[0m        \u001b[35m0.3001\u001b[0m  51.5081\n",
      "      6        \u001b[36m0.2378\u001b[0m       \u001b[32m0.8987\u001b[0m        \u001b[35m0.2931\u001b[0m  124.5411\n",
      "      6        \u001b[36m0.2522\u001b[0m       \u001b[32m0.8977\u001b[0m        \u001b[35m0.2961\u001b[0m  124.4841\n",
      "      5        \u001b[36m0.2451\u001b[0m       \u001b[32m0.8897\u001b[0m        \u001b[35m0.3145\u001b[0m  50.3922\n",
      "      5        \u001b[36m0.2362\u001b[0m       0.8875        0.3143  50.2746\n",
      "      6        \u001b[36m0.2827\u001b[0m       0.8888        \u001b[35m0.3004\u001b[0m  51.6706\n",
      "      6        \u001b[36m0.2839\u001b[0m       \u001b[32m0.8930\u001b[0m        \u001b[35m0.2950\u001b[0m  51.5242\n",
      "      6        \u001b[36m0.2184\u001b[0m       0.8852        0.3232  50.0245\n",
      "      6        \u001b[36m0.3089\u001b[0m       \u001b[32m0.8852\u001b[0m        \u001b[35m0.3147\u001b[0m  126.1043\n",
      "      6        \u001b[36m0.2034\u001b[0m       0.8857        0.3366  49.9371\n",
      "      7        \u001b[36m0.2661\u001b[0m       0.8885        0.3049  51.2924\n",
      "      7        \u001b[36m0.2111\u001b[0m       0.8888        0.3158  121.8792\n",
      "      7        \u001b[36m0.2816\u001b[0m       \u001b[32m0.8933\u001b[0m        \u001b[35m0.2869\u001b[0m  125.0527\n",
      "      6        \u001b[36m0.2989\u001b[0m       \u001b[32m0.8902\u001b[0m        \u001b[35m0.3116\u001b[0m  125.8839\n",
      "      7        \u001b[36m0.2651\u001b[0m       0.8895        0.2994  50.8856\n",
      "      7        \u001b[36m0.1897\u001b[0m       0.8860        0.3291  122.5949\n",
      "      7        \u001b[36m0.2466\u001b[0m       0.9058        \u001b[35m0.2583\u001b[0m  126.5600\n",
      "      7        \u001b[36m0.1992\u001b[0m       0.8872        0.3245  49.7348\n",
      "      7        \u001b[36m0.2115\u001b[0m       \u001b[32m0.8990\u001b[0m        \u001b[35m0.2929\u001b[0m  123.3581\n",
      "      7        \u001b[36m0.1978\u001b[0m       \u001b[32m0.8955\u001b[0m        0.3191  50.4389\n",
      "      7        \u001b[36m0.2290\u001b[0m       \u001b[32m0.9048\u001b[0m        \u001b[35m0.2890\u001b[0m  123.6048\n",
      "      8        \u001b[36m0.2585\u001b[0m       \u001b[32m0.8937\u001b[0m        \u001b[35m0.2869\u001b[0m  51.9966\n",
      "      8        \u001b[36m0.2516\u001b[0m       \u001b[32m0.8933\u001b[0m        0.2983  51.9203\n",
      "      8        \u001b[36m0.1844\u001b[0m       \u001b[32m0.8902\u001b[0m        0.3292  50.8203\n",
      "      8        \u001b[36m0.1707\u001b[0m       \u001b[32m0.8985\u001b[0m        0.3119  50.5777\n",
      "      9        \u001b[36m0.2436\u001b[0m       0.8915        0.2973  52.0426\n",
      "      7        \u001b[36m0.2866\u001b[0m       \u001b[32m0.8983\u001b[0m        \u001b[35m0.2902\u001b[0m  127.1885\n",
      "      9        \u001b[36m0.2447\u001b[0m       \u001b[32m0.8958\u001b[0m        \u001b[35m0.2845\u001b[0m  51.7766\n",
      "      9        \u001b[36m0.1639\u001b[0m       \u001b[32m0.8933\u001b[0m        0.3293  50.3350\n",
      "      8        \u001b[36m0.2000\u001b[0m       0.8883        0.3194  123.0026\n",
      "      8        \u001b[36m0.2637\u001b[0m       \u001b[32m0.8992\u001b[0m        \u001b[35m0.2738\u001b[0m  127.0234\n",
      "      7        \u001b[36m0.2784\u001b[0m       \u001b[32m0.8980\u001b[0m        \u001b[35m0.2865\u001b[0m  126.2421\n"
     ]
    },
    {
     "name": "stdout",
     "output_type": "stream",
     "text": [
      "      8        \u001b[36m0.1681\u001b[0m       0.8928        0.3097  123.5742\n",
      "      9        \u001b[36m0.1550\u001b[0m       0.8912        0.3432  50.1420\n",
      "      8        \u001b[36m0.2364\u001b[0m       \u001b[32m0.9098\u001b[0m        \u001b[35m0.2582\u001b[0m  126.7392\n",
      "     10        \u001b[36m0.2266\u001b[0m       \u001b[32m0.8970\u001b[0m        0.2915  51.5017\n",
      "      8        \u001b[36m0.1913\u001b[0m       0.8990        \u001b[35m0.2893\u001b[0m  123.1415\n",
      "      8        \u001b[36m0.2038\u001b[0m       \u001b[32m0.9052\u001b[0m        \u001b[35m0.2709\u001b[0m  123.7801\n",
      "     10        \u001b[36m0.2237\u001b[0m       \u001b[32m0.8980\u001b[0m        0.2915  50.7874\n",
      "     10        \u001b[36m0.1425\u001b[0m       0.8852        0.3450  50.0314\n",
      "     10        \u001b[36m0.1431\u001b[0m       0.8948        0.3321  48.6433\n",
      "      8        \u001b[36m0.2721\u001b[0m       \u001b[32m0.8995\u001b[0m        \u001b[35m0.2850\u001b[0m  119.6870\n",
      "      9        \u001b[36m0.1773\u001b[0m       \u001b[32m0.8990\u001b[0m        0.3155  114.6988\n",
      "      9        \u001b[36m0.2510\u001b[0m       0.8857        0.2989  116.1629\n",
      "      8        \u001b[36m0.2601\u001b[0m       \u001b[32m0.9023\u001b[0m        \u001b[35m0.2795\u001b[0m  115.7168\n",
      "      9        \u001b[36m0.1479\u001b[0m       0.8885        0.3560  113.1044\n",
      "      9        \u001b[36m0.2165\u001b[0m       \u001b[32m0.9125\u001b[0m        \u001b[35m0.2562\u001b[0m  114.4786\n",
      "      9        \u001b[36m0.1734\u001b[0m       \u001b[32m0.9010\u001b[0m        \u001b[35m0.2869\u001b[0m  109.4813\n",
      "      9        \u001b[36m0.1810\u001b[0m       0.9012        0.2884  109.1556\n",
      "      9        \u001b[36m0.2553\u001b[0m       0.8960        0.2897  108.0863\n",
      "     10        \u001b[36m0.1604\u001b[0m       \u001b[32m0.9000\u001b[0m        0.3201  106.4331\n",
      "      9        \u001b[36m0.2466\u001b[0m       \u001b[32m0.9073\u001b[0m        \u001b[35m0.2680\u001b[0m  107.9964\n",
      "     10        \u001b[36m0.2358\u001b[0m       \u001b[32m0.9047\u001b[0m        \u001b[35m0.2646\u001b[0m  109.0826\n",
      "     10        \u001b[36m0.1392\u001b[0m       0.8938        0.3735  106.6503\n",
      "     10        \u001b[36m0.2099\u001b[0m       0.9070        0.2637  107.0014\n",
      "     10        \u001b[36m0.1684\u001b[0m       0.8942        0.3049  106.2225\n",
      "     10        \u001b[36m0.1754\u001b[0m       0.9042        0.2791  106.2169\n",
      "     10        \u001b[36m0.2380\u001b[0m       0.8993        \u001b[35m0.2808\u001b[0m  79.5837\n",
      "     10        \u001b[36m0.2296\u001b[0m       0.9067        0.2691  69.2326\n",
      "  epoch    train_loss    valid_acc    valid_loss      dur\n",
      "-------  ------------  -----------  ------------  -------\n",
      "      1        \u001b[36m0.8616\u001b[0m       \u001b[32m0.8749\u001b[0m        \u001b[35m0.3522\u001b[0m  15.4084\n",
      "      2        \u001b[36m0.3578\u001b[0m       \u001b[32m0.8923\u001b[0m        \u001b[35m0.3002\u001b[0m  14.2304\n",
      "      3        \u001b[36m0.3053\u001b[0m       \u001b[32m0.9018\u001b[0m        \u001b[35m0.2725\u001b[0m  14.6972\n",
      "      4        \u001b[36m0.2717\u001b[0m       \u001b[32m0.9052\u001b[0m        \u001b[35m0.2591\u001b[0m  15.0505\n",
      "      5        \u001b[36m0.2513\u001b[0m       \u001b[32m0.9110\u001b[0m        \u001b[35m0.2491\u001b[0m  15.1357\n",
      "      6        \u001b[36m0.2360\u001b[0m       0.9107        \u001b[35m0.2457\u001b[0m  15.0614\n",
      "      7        \u001b[36m0.2185\u001b[0m       0.9080        0.2493  15.8242\n",
      "      8        \u001b[36m0.2063\u001b[0m       0.9090        \u001b[35m0.2447\u001b[0m  15.3152\n",
      "      9        \u001b[36m0.1954\u001b[0m       \u001b[32m0.9122\u001b[0m        \u001b[35m0.2442\u001b[0m  14.9221\n",
      "     10        \u001b[36m0.1816\u001b[0m       \u001b[32m0.9188\u001b[0m        \u001b[35m0.2319\u001b[0m  15.1187\n",
      "Best CV accuracy: 0.9025333333333333\n",
      "Best params: {'optimizer': <class 'torch.optim.adam.Adam'>, 'module__dropout': 0.25, 'module__channels': 32, 'lr': 0.0003, 'batch_size': 256}\n",
      "CPU times: user 19min 2s, sys: 1min 6s, total: 20min 8s\n",
      "Wall time: 25min 49s\n"
     ]
    }
   ],
   "source": [
    "%%time\n",
    "\n",
    "# 5C. Faster Randomized Search (sample combos, actual run;)\n",
    "\n",
    "rs = RandomizedSearchCV(\n",
    "    estimator=net\n",
    "    , param_distributions=param_dist\n",
    "    , n_iter=10          # try only 10 random combos\n",
    "    , cv=2\n",
    "    , scoring=\"accuracy\"\n",
    "    , verbose=1\n",
    "    , random_state=27\n",
    "    , n_jobs=-1\n",
    ")\n",
    "\n",
    "# Fit the randomized search\n",
    "rs.fit(X_train, y_train)\n",
    "\n",
    "print(\"Best CV accuracy:\", rs.best_score_)\n",
    "print(\"Best params:\", rs.best_params_)"
   ]
  },
  {
   "cell_type": "code",
   "execution_count": 59,
   "id": "aabd3db0",
   "metadata": {},
   "outputs": [
    {
     "data": {
      "text/html": [
       "<div>\n",
       "<style scoped>\n",
       "    .dataframe tbody tr th:only-of-type {\n",
       "        vertical-align: middle;\n",
       "    }\n",
       "\n",
       "    .dataframe tbody tr th {\n",
       "        vertical-align: top;\n",
       "    }\n",
       "\n",
       "    .dataframe thead th {\n",
       "        text-align: right;\n",
       "    }\n",
       "</style>\n",
       "<table border=\"1\" class=\"dataframe\">\n",
       "  <thead>\n",
       "    <tr style=\"text-align: right;\">\n",
       "      <th></th>\n",
       "      <th>mean_test_score</th>\n",
       "      <th>std_test_score</th>\n",
       "      <th>params</th>\n",
       "    </tr>\n",
       "  </thead>\n",
       "  <tbody>\n",
       "    <tr>\n",
       "      <th>0</th>\n",
       "      <td>0.902533</td>\n",
       "      <td>0.003000</td>\n",
       "      <td>{'optimizer': &lt;class 'torch.optim.adam.Adam'&gt;,...</td>\n",
       "    </tr>\n",
       "    <tr>\n",
       "      <th>3</th>\n",
       "      <td>0.901567</td>\n",
       "      <td>0.000233</td>\n",
       "      <td>{'optimizer': &lt;class 'torch.optim.adam.Adam'&gt;,...</td>\n",
       "    </tr>\n",
       "    <tr>\n",
       "      <th>8</th>\n",
       "      <td>0.898767</td>\n",
       "      <td>0.000100</td>\n",
       "      <td>{'optimizer': &lt;class 'torch.optim.adam.Adam'&gt;,...</td>\n",
       "    </tr>\n",
       "    <tr>\n",
       "      <th>7</th>\n",
       "      <td>0.898600</td>\n",
       "      <td>0.001733</td>\n",
       "      <td>{'optimizer': &lt;class 'torch.optim.adam.Adam'&gt;,...</td>\n",
       "    </tr>\n",
       "    <tr>\n",
       "      <th>5</th>\n",
       "      <td>0.897583</td>\n",
       "      <td>0.004383</td>\n",
       "      <td>{'optimizer': &lt;class 'torch.optim.adam.Adam'&gt;,...</td>\n",
       "    </tr>\n",
       "    <tr>\n",
       "      <th>6</th>\n",
       "      <td>0.893900</td>\n",
       "      <td>0.001567</td>\n",
       "      <td>{'optimizer': &lt;class 'torch.optim.adam.Adam'&gt;,...</td>\n",
       "    </tr>\n",
       "    <tr>\n",
       "      <th>4</th>\n",
       "      <td>0.891833</td>\n",
       "      <td>0.001500</td>\n",
       "      <td>{'optimizer': &lt;class 'torch.optim.adam.Adam'&gt;,...</td>\n",
       "    </tr>\n",
       "    <tr>\n",
       "      <th>1</th>\n",
       "      <td>0.891467</td>\n",
       "      <td>0.001467</td>\n",
       "      <td>{'optimizer': &lt;class 'torch.optim.adam.Adam'&gt;,...</td>\n",
       "    </tr>\n",
       "    <tr>\n",
       "      <th>9</th>\n",
       "      <td>0.889883</td>\n",
       "      <td>0.003083</td>\n",
       "      <td>{'optimizer': &lt;class 'torch.optim.adam.Adam'&gt;,...</td>\n",
       "    </tr>\n",
       "    <tr>\n",
       "      <th>2</th>\n",
       "      <td>0.885150</td>\n",
       "      <td>0.002183</td>\n",
       "      <td>{'optimizer': &lt;class 'torch.optim.adam.Adam'&gt;,...</td>\n",
       "    </tr>\n",
       "  </tbody>\n",
       "</table>\n",
       "</div>"
      ],
      "text/plain": [
       "   mean_test_score  std_test_score  \\\n",
       "0         0.902533        0.003000   \n",
       "3         0.901567        0.000233   \n",
       "8         0.898767        0.000100   \n",
       "7         0.898600        0.001733   \n",
       "5         0.897583        0.004383   \n",
       "6         0.893900        0.001567   \n",
       "4         0.891833        0.001500   \n",
       "1         0.891467        0.001467   \n",
       "9         0.889883        0.003083   \n",
       "2         0.885150        0.002183   \n",
       "\n",
       "                                              params  \n",
       "0  {'optimizer': <class 'torch.optim.adam.Adam'>,...  \n",
       "3  {'optimizer': <class 'torch.optim.adam.Adam'>,...  \n",
       "8  {'optimizer': <class 'torch.optim.adam.Adam'>,...  \n",
       "7  {'optimizer': <class 'torch.optim.adam.Adam'>,...  \n",
       "5  {'optimizer': <class 'torch.optim.adam.Adam'>,...  \n",
       "6  {'optimizer': <class 'torch.optim.adam.Adam'>,...  \n",
       "4  {'optimizer': <class 'torch.optim.adam.Adam'>,...  \n",
       "1  {'optimizer': <class 'torch.optim.adam.Adam'>,...  \n",
       "9  {'optimizer': <class 'torch.optim.adam.Adam'>,...  \n",
       "2  {'optimizer': <class 'torch.optim.adam.Adam'>,...  "
      ]
     },
     "execution_count": 59,
     "metadata": {},
     "output_type": "execute_result"
    }
   ],
   "source": [
    "# Send results to a dataframe for clean review;\n",
    "\n",
    "results = pd.DataFrame(rs.cv_results_)\n",
    "results[[\n",
    "    \"mean_test_score\"\n",
    "    , \"std_test_score\"\n",
    "    , \"params\"\n",
    "]].sort_values(\"mean_test_score\", ascending=False)"
   ]
  },
  {
   "cell_type": "code",
   "execution_count": 60,
   "id": "7e0e9bf8",
   "metadata": {},
   "outputs": [
    {
     "data": {
      "text/plain": [
       "{'optimizer': torch.optim.adam.Adam,\n",
       " 'module__dropout': 0.25,\n",
       " 'module__channels': 32,\n",
       " 'lr': 0.0003,\n",
       " 'batch_size': 256}"
      ]
     },
     "execution_count": 60,
     "metadata": {},
     "output_type": "execute_result"
    }
   ],
   "source": [
    "results['params'].iloc[0]"
   ]
  },
  {
   "cell_type": "code",
   "execution_count": 61,
   "id": "8ce14a9d",
   "metadata": {},
   "outputs": [
    {
     "name": "stdout",
     "output_type": "stream",
     "text": [
      "  epoch    train_loss    valid_acc    valid_loss      dur\n",
      "-------  ------------  -----------  ------------  -------\n",
      "      1        \u001b[36m0.8366\u001b[0m       \u001b[32m0.8685\u001b[0m        \u001b[35m0.3710\u001b[0m  15.5156\n",
      "      2        \u001b[36m0.3276\u001b[0m       \u001b[32m0.8840\u001b[0m        \u001b[35m0.3169\u001b[0m  15.5024\n",
      "      3        \u001b[36m0.2766\u001b[0m       \u001b[32m0.8964\u001b[0m        \u001b[35m0.2846\u001b[0m  16.8444\n",
      "      4        \u001b[36m0.2432\u001b[0m       \u001b[32m0.9051\u001b[0m        \u001b[35m0.2634\u001b[0m  16.1104\n",
      "      5        \u001b[36m0.2250\u001b[0m       0.8996        0.2804  16.0984\n",
      "      6        \u001b[36m0.2091\u001b[0m       \u001b[32m0.9104\u001b[0m        \u001b[35m0.2495\u001b[0m  16.1239\n",
      "      7        \u001b[36m0.1855\u001b[0m       0.9092        \u001b[35m0.2460\u001b[0m  16.1975\n",
      "      8        \u001b[36m0.1718\u001b[0m       \u001b[32m0.9107\u001b[0m        0.2536  15.7750\n",
      "      9        \u001b[36m0.1641\u001b[0m       0.9103        \u001b[35m0.2449\u001b[0m  15.8042\n",
      "     10        \u001b[36m0.1480\u001b[0m       0.9035        0.2779  15.8287\n",
      "     11        \u001b[36m0.1358\u001b[0m       0.9100        0.2621  15.6743\n",
      "     12        \u001b[36m0.1285\u001b[0m       \u001b[32m0.9146\u001b[0m        0.2524  15.8504\n",
      "     13        \u001b[36m0.1145\u001b[0m       \u001b[32m0.9173\u001b[0m        0.2499  15.6497\n",
      "     14        \u001b[36m0.1037\u001b[0m       0.9168        0.2536  15.6584\n",
      "     15        \u001b[36m0.0999\u001b[0m       0.9130        0.2649  15.7950\n",
      "     16        \u001b[36m0.0889\u001b[0m       0.9053        0.2872  15.7305\n",
      "     17        \u001b[36m0.0785\u001b[0m       0.9148        0.2775  15.7043\n",
      "     18        \u001b[36m0.0784\u001b[0m       0.9053        0.3013  15.6479\n",
      "     19        \u001b[36m0.0661\u001b[0m       \u001b[32m0.9187\u001b[0m        0.2749  15.6232\n",
      "     20        \u001b[36m0.0531\u001b[0m       0.9134        0.2918  15.5724\n",
      "Train accuracy: 0.9702666666666667\n"
     ]
    }
   ],
   "source": [
    "best_net = NeuralNetClassifier(\n",
    "    module=SimpleCNN\n",
    "    , criterion=nn.CrossEntropyLoss\n",
    "    , max_epochs=20\n",
    "    , lr=0.0003\n",
    "    , optimizer=torch.optim.Adam\n",
    "    , batch_size=256\n",
    "    , iterator_train__shuffle=True\n",
    "    , device=device\n",
    ")\n",
    "\n",
    "best_net.fit(X_train, y_train)\n",
    "print(\"Train accuracy:\", best_net.score(X_train, y_train))"
   ]
  },
  {
   "cell_type": "code",
   "execution_count": 62,
   "id": "72081157",
   "metadata": {},
   "outputs": [
    {
     "data": {
      "text/plain": [
       "<bound method NeuralNet.get_params of <class 'skorch.classifier.NeuralNetClassifier'>[initialized](\n",
       "  module_=SimpleCNN(\n",
       "    (conv1): Conv2d(1, 32, kernel_size=(3, 3), stride=(1, 1), padding=(1, 1))\n",
       "    (conv2): Conv2d(32, 64, kernel_size=(3, 3), stride=(1, 1), padding=(1, 1))\n",
       "    (fc1): Linear(in_features=3136, out_features=128, bias=True)\n",
       "    (fc2): Linear(in_features=128, out_features=10, bias=True)\n",
       "    (dropout): Dropout(p=0.0, inplace=False)\n",
       "  ),\n",
       ")>"
      ]
     },
     "execution_count": 62,
     "metadata": {},
     "output_type": "execute_result"
    }
   ],
   "source": [
    "best_net.get_params"
   ]
  },
  {
   "cell_type": "code",
   "execution_count": null,
   "id": "7b80e97c",
   "metadata": {},
   "outputs": [],
   "source": []
  },
  {
   "cell_type": "code",
   "execution_count": null,
   "id": "bfeea104",
   "metadata": {},
   "outputs": [],
   "source": []
  },
  {
   "cell_type": "code",
   "execution_count": null,
   "id": "14f4ae9c",
   "metadata": {},
   "outputs": [],
   "source": []
  },
  {
   "cell_type": "code",
   "execution_count": 63,
   "id": "6c81bbac",
   "metadata": {},
   "outputs": [],
   "source": [
    "from sklearn.metrics import (classification_report, confusion_matrix, ConfusionMatrixDisplay)"
   ]
  },
  {
   "cell_type": "code",
   "execution_count": null,
   "id": "4f90b651",
   "metadata": {},
   "outputs": [],
   "source": [
    "\"\"\"\n",
    "# Predict with best estimator\n",
    "y_pred = grid_search.best_estimator_.predict(\n",
    "    X_test)\n",
    "\n",
    "# Metrics\n",
    "acc = accuracy_score(y_test, y_pred)\n",
    "report = classification_report(y_test, y_pred)\n",
    "cm = confusion_matrix(y_test, y_pred)\n",
    "\n",
    "\"\"\""
   ]
  },
  {
   "cell_type": "code",
   "execution_count": 64,
   "id": "e0fb8513",
   "metadata": {},
   "outputs": [
    {
     "ename": "NameError",
     "evalue": "name 'best_params' is not defined",
     "output_type": "error",
     "traceback": [
      "\u001b[0;31m---------------------------------------------------------------------------\u001b[0m",
      "\u001b[0;31mNameError\u001b[0m                                 Traceback (most recent call last)",
      "Cell \u001b[0;32mIn[64], line 2\u001b[0m\n\u001b[1;32m      1\u001b[0m final_model \u001b[38;5;241m=\u001b[39m NeuralNetClassifier(\n\u001b[0;32m----> 2\u001b[0m     channels\u001b[38;5;241m=\u001b[39m best_params[\u001b[38;5;124m\"\u001b[39m\u001b[38;5;124mchannels\u001b[39m\u001b[38;5;124m\"\u001b[39m]\n\u001b[1;32m      3\u001b[0m     , dropout\u001b[38;5;241m=\u001b[39mbest_params[\u001b[38;5;124m\"\u001b[39m\u001b[38;5;124mdropout\u001b[39m\u001b[38;5;124m\"\u001b[39m]\n\u001b[1;32m      4\u001b[0m )\u001b[38;5;241m.\u001b[39mto(device)\n",
      "\u001b[0;31mNameError\u001b[0m: name 'best_params' is not defined"
     ]
    }
   ],
   "source": [
    "final_model = NeuralNetClassifier(\n",
    "    channels=best_params[\"channels\"]\n",
    "    , dropout=best_params[\"dropout\"]\n",
    ").to(device)"
   ]
  },
  {
   "cell_type": "code",
   "execution_count": null,
   "id": "b065eae6",
   "metadata": {},
   "outputs": [],
   "source": []
  },
  {
   "cell_type": "code",
   "execution_count": null,
   "id": "ff211865",
   "metadata": {},
   "outputs": [],
   "source": []
  },
  {
   "cell_type": "code",
   "execution_count": null,
   "id": "d848ab0c",
   "metadata": {},
   "outputs": [],
   "source": []
  },
  {
   "cell_type": "code",
   "execution_count": null,
   "id": "68cad128",
   "metadata": {},
   "outputs": [],
   "source": []
  },
  {
   "cell_type": "code",
   "execution_count": null,
   "id": "f25c385a",
   "metadata": {},
   "outputs": [],
   "source": []
  },
  {
   "cell_type": "code",
   "execution_count": null,
   "id": "c12f985d",
   "metadata": {},
   "outputs": [],
   "source": []
  },
  {
   "cell_type": "code",
   "execution_count": null,
   "id": "a958064e",
   "metadata": {},
   "outputs": [],
   "source": []
  },
  {
   "cell_type": "code",
   "execution_count": null,
   "id": "cb6b6516",
   "metadata": {},
   "outputs": [],
   "source": []
  },
  {
   "cell_type": "code",
   "execution_count": null,
   "id": "d6cc8c15",
   "metadata": {},
   "outputs": [],
   "source": [
    "# 5A. Exhaustive Grid Search (slow but complete)\n",
    "# ---------------------------------------------------------\n",
    "gs = GridSearchCV(\n",
    "    estimator=net\n",
    "    , param_grid=param_grid\n",
    "    , cv=3               # 3-fold cross validation\n",
    "    , scoring=\"accuracy\" # use accuracy for FashionMNIST\n",
    "    , verbose=2\n",
    "    , n_jobs=-1          # parallelize if possible\n",
    ")\n",
    "\n",
    "# Fit the grid search\n",
    "gs.fit(X, y)\n",
    "\n",
    "print(\"Best CV accuracy:\", gs.best_score_)\n",
    "print(\"Best params:\", gs.best_params_)"
   ]
  }
 ],
 "metadata": {
  "kernelspec": {
   "display_name": "Python 3 (ipykernel)",
   "language": "python",
   "name": "python3"
  },
  "language_info": {
   "codemirror_mode": {
    "name": "ipython",
    "version": 3
   },
   "file_extension": ".py",
   "mimetype": "text/x-python",
   "name": "python",
   "nbconvert_exporter": "python",
   "pygments_lexer": "ipython3",
   "version": "3.11.5"
  }
 },
 "nbformat": 4,
 "nbformat_minor": 5
}
