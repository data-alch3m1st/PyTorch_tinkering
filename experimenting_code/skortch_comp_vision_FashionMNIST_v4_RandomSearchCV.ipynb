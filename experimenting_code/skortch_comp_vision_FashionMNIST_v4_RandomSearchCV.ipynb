{
 "cells": [
  {
   "cell_type": "code",
   "execution_count": 32,
   "id": "e5ed7996",
   "metadata": {},
   "outputs": [],
   "source": [
    "import torch\n",
    "import torch.nn as nn\n",
    "import torch.nn.functional as F\n",
    "from torch.utils.data import DataLoader\n",
    "from torchvision import datasets, transforms\n",
    "\n",
    "from skorch import NeuralNetClassifier\n",
    "from sklearn.model_selection import GridSearchCV, RandomizedSearchCV\n",
    "\n",
    "import time\n",
    "import pandas as pd\n",
    "import matplotlib.pyplot as plt\n",
    "import numpy as np\n",
    "import warnings\n",
    "\n",
    "warnings.filterwarnings(\"ignore\")"
   ]
  },
  {
   "cell_type": "code",
   "execution_count": 33,
   "id": "e2360c39",
   "metadata": {},
   "outputs": [
    {
     "data": {
      "text/plain": [
       "'cpu'"
      ]
     },
     "execution_count": 33,
     "metadata": {},
     "output_type": "execute_result"
    }
   ],
   "source": [
    "# MacoOS device agnostic code:\n",
    "\n",
    "if torch.cuda.is_available():\n",
    "    device = \"cuda\" # Use NVIDIA GPU (if available)\n",
    "# elif torch.backends.mps.is_available():\n",
    "#     device = \"mps\" # Use Apple Silicon GPU (if available)\n",
    "else:\n",
    "    device = \"cpu\" # Default to CPU if no GPU is available\n",
    "\n",
    "device"
   ]
  },
  {
   "cell_type": "code",
   "execution_count": 34,
   "id": "4e75efd0",
   "metadata": {},
   "outputs": [],
   "source": [
    "# 1. Define your CNN module\n",
    "\n",
    "class SimpleCNN(nn.Module):\n",
    "    def __init__(self, channels=32, dropout=0.0):\n",
    "        super().__init__()\n",
    "        self.conv1 = nn.Conv2d(1, channels, kernel_size=3, padding=1)\n",
    "        self.conv2 = nn.Conv2d(channels, channels * 2, kernel_size=3, padding=1)\n",
    "        self.fc1   = nn.Linear((channels * 2) * 7 * 7, 128)\n",
    "        self.fc2   = nn.Linear(128, 10)\n",
    "        self.dropout = nn.Dropout(dropout)\n",
    "\n",
    "    def forward(self, x):\n",
    "        x = F.relu(F.max_pool2d(self.conv1(x), 2))\n",
    "        x = F.relu(F.max_pool2d(self.conv2(x), 2))\n",
    "        x = torch.flatten(x, 1)\n",
    "        x = F.relu(self.fc1(self.dropout(x)))\n",
    "        x = self.fc2(x)\n",
    "        return x"
   ]
  },
  {
   "cell_type": "code",
   "execution_count": 19,
   "id": "a9c41ace",
   "metadata": {},
   "outputs": [
    {
     "data": {
      "text/plain": [
       "(torch.Size([60000, 1, 28, 28]), torch.Size([60000]))"
      ]
     },
     "execution_count": 19,
     "metadata": {},
     "output_type": "execute_result"
    }
   ],
   "source": [
    "# 2. Prepare dataset (FashionMNIST)\n",
    "\n",
    "# transform = transforms.Compose([\n",
    "#     transforms.ToTensor()\n",
    "#     , transforms.Normalize((0.5,), (0.5,))\n",
    "# ])\n",
    "\n",
    "# train_data = datasets.FashionMNIST(\n",
    "#     root=\"./data\"\n",
    "#     , train=True\n",
    "#     , download=True\n",
    "#     , transform=transform\n",
    "# )\n",
    "\n",
    "# X = train_data.data.unsqueeze(1).float() / 255.0  # shape: (N, 1, 28, 28)\n",
    "# y = train_data.targets\n",
    "\n",
    "# X.shape, y.shape"
   ]
  },
  {
   "cell_type": "code",
   "execution_count": 35,
   "id": "2e8ceef4",
   "metadata": {},
   "outputs": [
    {
     "data": {
      "text/plain": [
       "((60000, 28, 28), (60000,))"
      ]
     },
     "execution_count": 35,
     "metadata": {},
     "output_type": "execute_result"
    }
   ],
   "source": [
    "train_data = datasets.FashionMNIST(\n",
    "    root=\"./data\",\n",
    "    train=True,\n",
    "    download=True,\n",
    "    transform=transform\n",
    ")\n",
    "X = train_data.data.numpy()  # or just pass train_data directly\n",
    "y = train_data.targets.numpy()\n",
    "\n",
    "X.shape, y.shape"
   ]
  },
  {
   "cell_type": "code",
   "execution_count": 41,
   "id": "f77c64f8",
   "metadata": {},
   "outputs": [
    {
     "name": "stdout",
     "output_type": "stream",
     "text": [
      "  epoch    train_loss    valid_acc    valid_loss      dur\n",
      "-------  ------------  -----------  ------------  -------\n",
      "      1           nan       \u001b[32m0.1000\u001b[0m           nan  16.4410\n",
      "      2           nan       0.1000           nan  15.8132\n",
      "      3           nan       0.1000           nan  17.1035\n",
      "      4           nan       0.1000           nan  16.3725\n",
      "      5           nan       0.1000           nan  15.8095\n",
      "      6           nan       0.1000           nan  17.0415\n",
      "      7           nan       0.1000           nan  17.6038\n",
      "      8           nan       0.1000           nan  16.6155\n",
      "      9           nan       0.1000           nan  16.1918\n",
      "     10           nan       0.1000           nan  16.2031\n",
      "Train accuracy: 0.1\n"
     ]
    }
   ],
   "source": [
    "transform = transforms.Compose([\n",
    "    transforms.ToTensor(),\n",
    "    transforms.Normalize((0.5,), (0.5,))\n",
    "])\n",
    "\n",
    "train_data = datasets.FashionMNIST(\n",
    "    root=\"./data\",\n",
    "    train=True,\n",
    "    download=True,\n",
    "    transform=transform\n",
    ")\n",
    "\n",
    "# Apply transform to the whole dataset\n",
    "train_loader = DataLoader(train_data, batch_size=len(train_data))\n",
    "X_all, y_all = next(iter(train_loader))\n",
    "\n",
    "X = X_all.numpy()  # (60000, 1, 28, 28), normalized\n",
    "y = y_all.numpy()\n",
    "\n",
    "net = NeuralNetClassifier(\n",
    "    module=SimpleCNN,\n",
    "    max_epochs=10,\n",
    "    lr=0.001,\n",
    "    optimizer=torch.optim.Adam,\n",
    "    batch_size=256,\n",
    "    device=device\n",
    ")\n",
    "\n",
    "net.fit(X, y)\n",
    "print(\"Train accuracy:\", net.score(X, y))"
   ]
  },
  {
   "cell_type": "code",
   "execution_count": 36,
   "id": "1eaf3009",
   "metadata": {},
   "outputs": [],
   "source": [
    "# 3. Wrap model with skorch\n",
    "\n",
    "# net = NeuralNetClassifier(\n",
    "#     module=SimpleCNN\n",
    "#     , max_epochs=3  # keep small for testing\n",
    "#     , lr=0.001\n",
    "#     , optimizer=torch.optim.Adam\n",
    "#     , batch_size=256\n",
    "#     , device=device\n",
    "# )\n",
    "\n",
    "net = NeuralNetClassifier(\n",
    "    SimpleCNN\n",
    "    , max_epochs=10\n",
    "    , lr=0.001\n",
    "    , optimizer=torch.optim.Adam\n",
    "    , batch_size=256\n",
    "    , device=device\n",
    "    , verbose=1   # suppress per-epoch logs\n",
    ")\n"
   ]
  },
  {
   "cell_type": "code",
   "execution_count": 39,
   "id": "4cf4c7c1",
   "metadata": {},
   "outputs": [],
   "source": [
    "# Use numpy arrays from dataset (with transform applied)\n",
    "X = train_data.data.unsqueeze(1).float().numpy()\n",
    "y = train_data.targets.numpy()"
   ]
  },
  {
   "cell_type": "code",
   "execution_count": 40,
   "id": "f4ec933a",
   "metadata": {},
   "outputs": [
    {
     "name": "stdout",
     "output_type": "stream",
     "text": [
      "Re-initializing module.\n",
      "Re-initializing criterion.\n",
      "Re-initializing optimizer.\n",
      "  epoch    train_loss    valid_acc    valid_loss      dur\n",
      "-------  ------------  -----------  ------------  -------\n",
      "      1           nan       \u001b[32m0.1000\u001b[0m           nan  16.0133\n",
      "      2           nan       0.1000           nan  16.0808\n",
      "      3           nan       0.1000           nan  15.7180\n",
      "      4           nan       0.1000           nan  15.4871\n",
      "      5           nan       0.1000           nan  15.7791\n",
      "      6           nan       0.1000           nan  16.5335\n",
      "      7           nan       0.1000           nan  17.8743\n",
      "      8           nan       0.1000           nan  15.5864\n",
      "      9           nan       0.1000           nan  15.1555\n",
      "     10           nan       0.1000           nan  16.5533\n",
      "0.1\n"
     ]
    }
   ],
   "source": [
    "net.fit(X, y)\n",
    "print(net.score(X, y))  # should be far above 10%"
   ]
  },
  {
   "cell_type": "code",
   "execution_count": 38,
   "id": "ff5aa559",
   "metadata": {},
   "outputs": [],
   "source": [
    "# 4. Define parameter grid\n",
    "#    Note: use 'module__' prefix for module args\n",
    "\n",
    "param_grid = {\n",
    "    \"module__channels\": [32, 64]\n",
    "    , \"module__dropout\": [0.0, 0.25, 0.5] \n",
    "    , \"lr\": [1e-4, 3e-4, 1e-3]\n",
    "    , \"optimizer\": [torch.optim.Adam\n",
    "#                     , torch.optim.SGD\n",
    "                   ]\n",
    "    , \"batch_size\": [256]\n",
    "    , \"max_epochs\": [3]\n",
    "}"
   ]
  },
  {
   "cell_type": "code",
   "execution_count": 25,
   "id": "69d00956",
   "metadata": {
    "scrolled": true
   },
   "outputs": [
    {
     "name": "stdout",
     "output_type": "stream",
     "text": [
      "CPU times: user 7 µs, sys: 1 µs, total: 8 µs\n",
      "Wall time: 35.3 µs\n"
     ]
    }
   ],
   "source": [
    "%%time\n",
    "\n",
    "# 5B. Faster Randomized Search (params setup)\n",
    "\n",
    "param_dist = {\n",
    "    \"module__channels\": [32, 64]\n",
    "    , \"module__dropout\": [0.0, 0.25, 0.5]\n",
    "    , \"lr\": [1e-4, 3e-4, 1e-3]\n",
    "    , \"optimizer\": [torch.optim.Adam, torch.optim.SGD]\n",
    "    , \"batch_size\": [256]\n",
    "}"
   ]
  },
  {
   "cell_type": "code",
   "execution_count": 26,
   "id": "7c024500",
   "metadata": {},
   "outputs": [
    {
     "name": "stdout",
     "output_type": "stream",
     "text": [
      "Fitting 3 folds for each of 10 candidates, totalling 30 fits\n",
      "Best CV accuracy: 0.13186666666666666\n",
      "Best params: {'optimizer': <class 'torch.optim.sgd.SGD'>, 'module__dropout': 0.25, 'module__channels': 64, 'lr': 0.001, 'batch_size': 256}\n",
      "CPU times: user 25.1 s, sys: 15 s, total: 40.1 s\n",
      "Wall time: 1h 23min 58s\n"
     ]
    }
   ],
   "source": [
    "%%time\n",
    "\n",
    "# 5C. Faster Randomized Search (sample combos, actual run;)\n",
    "\n",
    "rs = RandomizedSearchCV(\n",
    "    estimator=net\n",
    "    , param_distributions=param_dist\n",
    "    , n_iter=10          # try only 10 random combos\n",
    "    , cv=3\n",
    "    , scoring=\"accuracy\"\n",
    "    , verbose=1\n",
    "    , random_state=27\n",
    "    , n_jobs=-1\n",
    ")\n",
    "\n",
    "# Fit the randomized search\n",
    "rs.fit(X, y)\n",
    "\n",
    "print(\"Best CV accuracy:\", rs.best_score_)\n",
    "print(\"Best params:\", rs.best_params_)"
   ]
  },
  {
   "cell_type": "code",
   "execution_count": null,
   "id": "87f30ef0",
   "metadata": {},
   "outputs": [],
   "source": [
    "# Send results to a dataframe for clean review;\n",
    "\n",
    "results = pd.DataFrame(rs.cv_results_)\n",
    "print(results[[\n",
    "    \"mean_test_score\"\n",
    "    , \"std_test_score\"\n",
    "    , \"params\"\n",
    "]].sort_values(\"mean_test_score\", ascending=False))"
   ]
  },
  {
   "cell_type": "code",
   "execution_count": null,
   "id": "352e5c5f",
   "metadata": {},
   "outputs": [],
   "source": [
    "X = train_data.data.unsqueeze(1).float() / 255.0\n",
    "X = (X - 0.5) / 0.5"
   ]
  },
  {
   "cell_type": "code",
   "execution_count": null,
   "id": "d56849e0",
   "metadata": {},
   "outputs": [],
   "source": []
  },
  {
   "cell_type": "code",
   "execution_count": null,
   "id": "89cbb36d",
   "metadata": {},
   "outputs": [],
   "source": []
  },
  {
   "cell_type": "code",
   "execution_count": null,
   "id": "f862d9ce",
   "metadata": {},
   "outputs": [],
   "source": [
    "# 5A. Exhaustive Grid Search (slow but complete)\n",
    "# ---------------------------------------------------------\n",
    "gs = GridSearchCV(\n",
    "    estimator=net\n",
    "    , param_grid=param_grid\n",
    "    , cv=3               # 3-fold cross validation\n",
    "    , scoring=\"accuracy\" # use accuracy for FashionMNIST\n",
    "    , verbose=2\n",
    "    , n_jobs=-1          # parallelize if possible\n",
    ")\n",
    "\n",
    "# Fit the grid search\n",
    "gs.fit(X, y)\n",
    "\n",
    "print(\"Best CV accuracy:\", gs.best_score_)\n",
    "print(\"Best params:\", gs.best_params_)"
   ]
  }
 ],
 "metadata": {
  "kernelspec": {
   "display_name": "Python 3 (ipykernel)",
   "language": "python",
   "name": "python3"
  },
  "language_info": {
   "codemirror_mode": {
    "name": "ipython",
    "version": 3
   },
   "file_extension": ".py",
   "mimetype": "text/x-python",
   "name": "python",
   "nbconvert_exporter": "python",
   "pygments_lexer": "ipython3",
   "version": "3.11.5"
  }
 },
 "nbformat": 4,
 "nbformat_minor": 5
}
