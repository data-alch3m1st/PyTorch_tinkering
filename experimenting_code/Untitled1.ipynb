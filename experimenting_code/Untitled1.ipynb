{
 "cells": [
  {
   "cell_type": "code",
   "execution_count": 15,
   "id": "f55e5e72",
   "metadata": {},
   "outputs": [],
   "source": [
    "import torch\n",
    "import torch.nn as nn\n",
    "import torch.nn.functional as F\n",
    "from torch.utils.data import DataLoader\n",
    "from torchvision import datasets, transforms\n",
    "\n",
    "from skorch import NeuralNetClassifier\n",
    "from sklearn.model_selection import GridSearchCV, RandomizedSearchCV\n",
    "\n",
    "import time\n",
    "import pandas as pd\n",
    "import matplotlib.pyplot as plt\n",
    "import numpy as np\n",
    "import warnings\n",
    "\n",
    "warnings.filterwarnings(\"ignore\")"
   ]
  },
  {
   "cell_type": "code",
   "execution_count": 17,
   "id": "b7644270",
   "metadata": {},
   "outputs": [
    {
     "data": {
      "text/plain": [
       "'mps'"
      ]
     },
     "execution_count": 17,
     "metadata": {},
     "output_type": "execute_result"
    }
   ],
   "source": [
    "# MacoOS device agnostic code:\n",
    "\n",
    "if torch.cuda.is_available():\n",
    "    device = \"cuda\" # Use NVIDIA GPU (if available)\n",
    "elif torch.backends.mps.is_available():\n",
    "    device = \"mps\" # Use Apple Silicon GPU (if available)\n",
    "else:\n",
    "    device = \"cpu\" # Default to CPU if no GPU is available\n",
    "\n",
    "device"
   ]
  },
  {
   "cell_type": "code",
   "execution_count": 18,
   "id": "8a3b675b",
   "metadata": {},
   "outputs": [],
   "source": [
    "# 1. Define your CNN module\n",
    "\n",
    "class SimpleCNN(nn.Module):\n",
    "    def __init__(self, channels=32, dropout=0.0):\n",
    "        super().__init__()\n",
    "        self.conv1 = nn.Conv2d(1, channels, kernel_size=3, padding=1)\n",
    "        self.conv2 = nn.Conv2d(channels, channels * 2, kernel_size=3, padding=1)\n",
    "        self.fc1   = nn.Linear((channels * 2) * 7 * 7, 128)\n",
    "        self.fc2   = nn.Linear(128, 10)\n",
    "        self.dropout = nn.Dropout(dropout)\n",
    "\n",
    "    def forward(self, x):\n",
    "        x = F.relu(F.max_pool2d(self.conv1(x), 2))\n",
    "        x = F.relu(F.max_pool2d(self.conv2(x), 2))\n",
    "        x = torch.flatten(x, 1)\n",
    "        x = F.relu(self.fc1(self.dropout(x)))\n",
    "        x = self.fc2(x)\n",
    "        return x"
   ]
  },
  {
   "cell_type": "code",
   "execution_count": 19,
   "id": "f9ad2103",
   "metadata": {},
   "outputs": [
    {
     "data": {
      "text/plain": [
       "(torch.Size([60000, 1, 28, 28]), torch.Size([60000]))"
      ]
     },
     "execution_count": 19,
     "metadata": {},
     "output_type": "execute_result"
    }
   ],
   "source": [
    "# 2. Prepare dataset (FashionMNIST)\n",
    "\n",
    "transform = transforms.Compose([\n",
    "    transforms.ToTensor()\n",
    "    , transforms.Normalize((0.5,), (0.5,))\n",
    "])\n",
    "\n",
    "train_data = datasets.FashionMNIST(\n",
    "    root=\"./data\"\n",
    "    , train=True\n",
    "    , download=True\n",
    "    , transform=transform\n",
    ")\n",
    "\n",
    "X = train_data.data.unsqueeze(1).float() / 255.0  # shape: (N, 1, 28, 28)\n",
    "y = train_data.targets\n",
    "\n",
    "X.shape, y.shape"
   ]
  },
  {
   "cell_type": "code",
   "execution_count": 20,
   "id": "1fbdf848",
   "metadata": {},
   "outputs": [],
   "source": [
    "# 3. Wrap model with skorch\n",
    "\n",
    "# net = NeuralNetClassifier(\n",
    "#     module=SimpleCNN\n",
    "#     , max_epochs=3  # keep small for testing\n",
    "#     , lr=0.001\n",
    "#     , optimizer=torch.optim.Adam\n",
    "#     , batch_size=256\n",
    "#     , device=device\n",
    "# )\n",
    "\n",
    "net = NeuralNetClassifier(\n",
    "    SimpleCNN\n",
    "    , max_epochs=3\n",
    "    , lr=0.001\n",
    "    , optimizer=torch.optim.Adam\n",
    "    , batch_size=256\n",
    "    , device=device\n",
    "    , verbose=0   # suppress per-epoch logs\n",
    ")"
   ]
  },
  {
   "cell_type": "code",
   "execution_count": 22,
   "id": "9641d146",
   "metadata": {},
   "outputs": [],
   "source": [
    "# 4. Define parameter grid\n",
    "#    Note: use 'module__' prefix for module args\n",
    "\n",
    "param_grid = {\n",
    "    \"module__channels\": [32, 64]\n",
    "    , \"module__dropout\": [0.0, 0.25, 0.5] \n",
    "    , \"lr\": [1e-4, 3e-4, 1e-3]\n",
    "    , \"optimizer\": [torch.optim.Adam, torch.optim.SGD]\n",
    "    , \"batch_size\": [256]\n",
    "    , \"max_epochs\": [3]\n",
    "}\n"
   ]
  },
  {
   "cell_type": "code",
   "execution_count": null,
   "id": "e54b3bbf",
   "metadata": {
    "scrolled": true
   },
   "outputs": [],
   "source": [
    "%%time\n",
    "\n",
    "# 5B. Faster Randomized Search (sample combos)\n",
    "\n",
    "param_dist = {\n",
    "    \"module__channels\": [32, 64]\n",
    "    , \"module__dropout\": [0.0, 0.25, 0.5]\n",
    "    , \"lr\": [1e-4, 3e-4, 1e-3]\n",
    "    , \"optimizer\": [torch.optim.Adam, torch.optim.SGD]\n",
    "    , \"batch_size\": [256]\n",
    "}\n",
    "\n",
    "rs = RandomizedSearchCV(\n",
    "    estimator=net\n",
    "    , param_distributions=param_dist\n",
    "    , n_iter=10          # try only 10 random combos\n",
    "    , cv=3\n",
    "    , scoring=\"accuracy\"\n",
    "    , verbose=0\n",
    "    , random_state=27\n",
    "    , n_jobs=-1\n",
    ")\n",
    "\n",
    "# Fit the randomized search\n",
    "rs.fit(X, y)\n",
    "\n",
    "print(\"Best CV accuracy:\", rs.best_score_)\n",
    "print(\"Best params:\", rs.best_params_)"
   ]
  },
  {
   "cell_type": "code",
   "execution_count": null,
   "id": "7b7c1414",
   "metadata": {},
   "outputs": [],
   "source": [
    "# Send results to a dataframe for clean review;\n",
    "\n",
    "results = pd.DataFrame(rs.cv_results_)\n",
    "print(results[[\n",
    "    \"mean_test_score\"\n",
    "    , \"std_test_score\"\n",
    "    , \"params\"\n",
    "]].sort_values(\"mean_test_score\", ascending=False))"
   ]
  },
  {
   "cell_type": "code",
   "execution_count": null,
   "id": "84347576",
   "metadata": {},
   "outputs": [],
   "source": []
  },
  {
   "cell_type": "code",
   "execution_count": null,
   "id": "507fd379",
   "metadata": {},
   "outputs": [],
   "source": []
  },
  {
   "cell_type": "code",
   "execution_count": null,
   "id": "c3143c72",
   "metadata": {},
   "outputs": [],
   "source": []
  },
  {
   "cell_type": "code",
   "execution_count": null,
   "id": "85bc0b1a",
   "metadata": {},
   "outputs": [],
   "source": [
    "# 5A. Exhaustive Grid Search (slow but complete)\n",
    "# ---------------------------------------------------------\n",
    "gs = GridSearchCV(\n",
    "    estimator=net\n",
    "    , param_grid=param_grid\n",
    "    , cv=3               # 3-fold cross validation\n",
    "    , scoring=\"accuracy\" # use accuracy for FashionMNIST\n",
    "    , verbose=2\n",
    "    , n_jobs=-1          # parallelize if possible\n",
    ")\n",
    "\n",
    "# Fit the grid search\n",
    "gs.fit(X, y)\n",
    "\n",
    "print(\"Best CV accuracy:\", gs.best_score_)\n",
    "print(\"Best params:\", gs.best_params_)"
   ]
  }
 ],
 "metadata": {
  "kernelspec": {
   "display_name": "Python 3 (ipykernel)",
   "language": "python",
   "name": "python3"
  },
  "language_info": {
   "codemirror_mode": {
    "name": "ipython",
    "version": 3
   },
   "file_extension": ".py",
   "mimetype": "text/x-python",
   "name": "python",
   "nbconvert_exporter": "python",
   "pygments_lexer": "ipython3",
   "version": "3.11.5"
  }
 },
 "nbformat": 4,
 "nbformat_minor": 5
}
