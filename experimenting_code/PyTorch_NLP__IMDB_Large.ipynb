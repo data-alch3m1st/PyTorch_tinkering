{
 "cells": [
  {
   "cell_type": "code",
   "execution_count": 23,
   "id": "62346932",
   "metadata": {},
   "outputs": [],
   "source": [
    "import pandas as pd\n",
    "import numpy as np\n",
    "import matplotlib.pyplot as plt\n",
    "import seaborn as sns\n",
    "\n",
    "import os\n",
    "import torch\n",
    "import torch.nn as nn\n",
    "import torch.optim as optim\n",
    "from torch.utils.data import DataLoader, WeightedRandomSampler\n",
    "from torchtext.data.utils import get_tokenizer\n",
    "from torchtext.vocab import build_vocab_from_iterator\n",
    "\n",
    "from collections import Counter\n",
    "from sklearn.metrics import (\n",
    "    classification_report, confusion_matrix, accuracy_score, ConfusionMatrixDisplay\n",
    ")\n",
    "\n",
    "import warnings\n",
    "warnings.simplefilter('ignore')\n",
    "\n",
    "from IPython.core.interactiveshell import InteractiveShell\n",
    "InteractiveShell.ast_node_interactivity = 'all'"
   ]
  },
  {
   "cell_type": "code",
   "execution_count": 49,
   "id": "94f416d3",
   "metadata": {},
   "outputs": [
    {
     "name": "stdout",
     "output_type": "stream",
     "text": [
      "mps\n"
     ]
    }
   ],
   "source": [
    "if torch.cuda.is_available():\n",
    "    device = \"cuda\" # Use NVIDIA GPU (if available)\n",
    "elif torch.backends.mps.is_available():\n",
    "    device = \"mps\" # Use Apple Silicon GPU (if available)\n",
    "else:\n",
    "    device = \"cpu\" # Default to CPU if no GPU is available\n",
    "    \n",
    "print(device)"
   ]
  },
  {
   "cell_type": "code",
   "execution_count": 50,
   "id": "2c0c4aff",
   "metadata": {},
   "outputs": [
    {
     "data": {
      "text/plain": [
       "<torch._C.Generator at 0x130cf9870>"
      ]
     },
     "execution_count": 50,
     "metadata": {},
     "output_type": "execute_result"
    }
   ],
   "source": [
    "# 1. Parameters\n",
    "BATCH_SIZE = 64\n",
    "EMBED_DIM = 128\n",
    "HIDDEN_DIM = 128\n",
    "EPOCHS = 20\n",
    "MAX_VOCAB_SIZE = 25_000\n",
    "MAX_SEQ_LEN = 256\n",
    "DEVICE = device\n",
    "\n",
    "RANDOM_SEED = 27\n",
    "torch.manual_seed(RANDOM_SEED)"
   ]
  },
  {
   "cell_type": "code",
   "execution_count": 51,
   "id": "8ef6f49d",
   "metadata": {},
   "outputs": [
    {
     "data": {
      "text/plain": [
       "'mps'"
      ]
     },
     "execution_count": 51,
     "metadata": {},
     "output_type": "execute_result"
    }
   ],
   "source": [
    "device"
   ]
  },
  {
   "cell_type": "code",
   "execution_count": 52,
   "id": "6b51f496",
   "metadata": {},
   "outputs": [],
   "source": [
    "import os\n",
    "\n",
    "def load_imdb_data(data_dir, split):\n",
    "    \"\"\"Loads IMDB reviews from disk. Returns list of (label, text) tuples.\"\"\"\n",
    "    data = []\n",
    "    for label in ('pos', 'neg'):\n",
    "        labeled_dir = os.path.join(data_dir, split, label)\n",
    "        for fname in os.listdir(labeled_dir):\n",
    "            if fname.endswith('.txt'):\n",
    "                with open(os.path.join(labeled_dir, fname), encoding='utf-8') as f:\n",
    "                    text = f.read()\n",
    "                    data.append((label, text))\n",
    "    return data\n",
    "\n",
    "# Example usage:\n",
    "train_data = load_imdb_data('../../ML_Tinkering_Python/data/aclImdb', 'train')\n",
    "test_data = load_imdb_data('../../ML_Tinkering_Python/data/aclImdb', 'test')"
   ]
  },
  {
   "cell_type": "code",
   "execution_count": 26,
   "id": "d44d09e2",
   "metadata": {},
   "outputs": [],
   "source": [
    "# 3. Build Vocabulary\n",
    "tokenizer = get_tokenizer(\"basic_english\")\n",
    "\n",
    "def yield_tokens(data_list):\n",
    "    for label, text in data_list:\n",
    "        yield tokenizer(text)\n",
    "\n",
    "vocab = build_vocab_from_iterator(\n",
    "    yield_tokens(train_data),\n",
    "    specials=[\"<unk>\", \"<pad>\"],\n",
    "    max_tokens=MAX_VOCAB_SIZE\n",
    ")\n",
    "vocab.set_default_index(vocab[\"<unk>\"])"
   ]
  },
  {
   "cell_type": "code",
   "execution_count": 27,
   "id": "ffc528fe",
   "metadata": {},
   "outputs": [],
   "source": [
    "# 4. Text + Label Preprocessing\n",
    "label_map = {\"neg\": 0, \"pos\": 1}\n",
    "\n",
    "def process_text(text):\n",
    "    tokens = tokenizer(text)\n",
    "    token_ids = vocab(tokens)\n",
    "    if len(token_ids) > MAX_SEQ_LEN:\n",
    "        token_ids = token_ids[:MAX_SEQ_LEN]\n",
    "    else:\n",
    "        token_ids += [vocab[\"<pad>\"]] * (MAX_SEQ_LEN - len(token_ids))\n",
    "    return torch.tensor(token_ids, dtype=torch.long)\n",
    "\n",
    "def process_label(label):\n",
    "    return torch.tensor(label_map[label], dtype=torch.long)"
   ]
  },
  {
   "cell_type": "code",
   "execution_count": 28,
   "id": "ffd837ec",
   "metadata": {},
   "outputs": [],
   "source": [
    "# 5. Create PyTorch Dataset\n",
    "class IMDBDataset(torch.utils.data.Dataset):\n",
    "    def __init__(self, samples):\n",
    "        self.samples = []\n",
    "        for label, text in samples:\n",
    "            self.samples.append((process_text(text), process_label(label)))\n",
    "    def __len__(self):\n",
    "        return len(self.samples)\n",
    "    def __getitem__(self, idx):\n",
    "        return self.samples[idx]\n",
    "\n",
    "train_dataset = IMDBDataset(train_data)\n",
    "test_dataset = IMDBDataset(test_data)"
   ]
  },
  {
   "cell_type": "code",
   "execution_count": 29,
   "id": "e07dc1d1",
   "metadata": {},
   "outputs": [],
   "source": [
    "# 6. Handle Imbalanced Dataset (Weighted Loss)\n",
    "labels = [label.item() for _, label in train_dataset]\n",
    "\n",
    "class_counts = Counter(labels)\n",
    "\n",
    "class_weights = [1.0 / class_counts[i] for i in range(len(class_counts))]\n",
    "\n",
    "sample_weights = [class_weights[label] for label in labels]\n",
    "\n",
    "sampler = WeightedRandomSampler(\n",
    "    sample_weights\n",
    "    , num_samples=len(sample_weights)\n",
    "    , replacement=True\n",
    ")"
   ]
  },
  {
   "cell_type": "code",
   "execution_count": 30,
   "id": "74eee85d",
   "metadata": {},
   "outputs": [],
   "source": [
    "# 7. Create DataLoaders\n",
    "train_loader = DataLoader(\n",
    "    train_dataset\n",
    "    , batch_size=BATCH_SIZE\n",
    "    , sampler=sampler\n",
    "    , num_workers=0  # <-- Fix: Use single process (avoid pickle issues)\n",
    ")\n",
    "\n",
    "test_loader = DataLoader(\n",
    "    test_dataset\n",
    "    , batch_size=BATCH_SIZE\n",
    "    , shuffle=False\n",
    "    , num_workers=0  # <-- Fix: Use single process (avoid pickle issues)\n",
    ")"
   ]
  },
  {
   "cell_type": "code",
   "execution_count": 31,
   "id": "f909a550",
   "metadata": {},
   "outputs": [],
   "source": [
    "# 8. Define Model\n",
    "class SimpleLSTM(nn.Module):\n",
    "    def __init__(self, vocab_size, embed_dim, hidden_dim, num_classes, pad_idx):\n",
    "        super().__init__()\n",
    "        self.embedding = nn.Embedding(\n",
    "            vocab_size\n",
    "            , embed_dim\n",
    "            , padding_idx=pad_idx\n",
    "        )\n",
    "        self.lstm = nn.LSTM(\n",
    "            embed_dim\n",
    "            , hidden_dim\n",
    "            , batch_first=True\n",
    "        )\n",
    "        self.fc = nn.Linear(\n",
    "            hidden_dim\n",
    "            , num_classes\n",
    "        )\n",
    "    def forward(self, x):\n",
    "        # x: (batch, seq_len)\n",
    "        embedded = self.embedding(x)\n",
    "        _, (hidden, _) = self.lstm(embedded)\n",
    "        # hidden: (1, batch, hidden_dim)\n",
    "        out = self.fc(hidden[-1])\n",
    "        return out\n",
    "\n",
    "model = SimpleLSTM(\n",
    "    vocab_size=len(vocab)\n",
    "    , embed_dim=EMBED_DIM\n",
    "    , hidden_dim=HIDDEN_DIM\n",
    "    , num_classes=2\n",
    "    , pad_idx=vocab[\"<pad>\"]\n",
    ").to(DEVICE)"
   ]
  },
  {
   "cell_type": "code",
   "execution_count": 32,
   "id": "1358b9e7",
   "metadata": {},
   "outputs": [],
   "source": [
    "# 9. Loss and Optimizer\n",
    "# Use weighted cross entropy to deal with class imbalance\n",
    "\n",
    "# weights\n",
    "weights = torch.tensor(\n",
    "    class_weights\n",
    "    , dtype=torch.float\n",
    ").to(DEVICE)\n",
    "\n",
    "# criterion (CEL)\n",
    "criterion = nn.CrossEntropyLoss(\n",
    "    weight=weights)\n",
    "\n",
    "# Optimizer (ADAM)\n",
    "\n",
    "optimizer = optim.Adam(\n",
    "    model.parameters(), lr=1e-3\n",
    "    , weight_decay=1e-5 # added weight_decay to counteract overfitting (seen by decreasing test acc'y)\n",
    ")"
   ]
  },
  {
   "cell_type": "code",
   "execution_count": 34,
   "id": "dd7a6a68",
   "metadata": {
    "scrolled": true
   },
   "outputs": [
    {
     "data": {
      "text/plain": [
       "20"
      ]
     },
     "execution_count": 34,
     "metadata": {},
     "output_type": "execute_result"
    }
   ],
   "source": [
    "EPOCHS"
   ]
  },
  {
   "cell_type": "code",
   "execution_count": 35,
   "id": "de4bcc8d",
   "metadata": {
    "scrolled": false
   },
   "outputs": [
    {
     "data": {
      "text/plain": [
       "SimpleLSTM(\n",
       "  (embedding): Embedding(25000, 128, padding_idx=1)\n",
       "  (lstm): LSTM(128, 128, batch_first=True)\n",
       "  (fc): Linear(in_features=128, out_features=2, bias=True)\n",
       ")"
      ]
     },
     "execution_count": 35,
     "metadata": {},
     "output_type": "execute_result"
    },
    {
     "name": "stdout",
     "output_type": "stream",
     "text": [
      "Epoch 1: Loss=0.6855, Acc=0.5320\n"
     ]
    },
    {
     "data": {
      "text/plain": [
       "SimpleLSTM(\n",
       "  (embedding): Embedding(25000, 128, padding_idx=1)\n",
       "  (lstm): LSTM(128, 128, batch_first=True)\n",
       "  (fc): Linear(in_features=128, out_features=2, bias=True)\n",
       ")"
      ]
     },
     "execution_count": 35,
     "metadata": {},
     "output_type": "execute_result"
    },
    {
     "name": "stdout",
     "output_type": "stream",
     "text": [
      "Epoch 2: Loss=0.6712, Acc=0.5634\n"
     ]
    },
    {
     "data": {
      "text/plain": [
       "SimpleLSTM(\n",
       "  (embedding): Embedding(25000, 128, padding_idx=1)\n",
       "  (lstm): LSTM(128, 128, batch_first=True)\n",
       "  (fc): Linear(in_features=128, out_features=2, bias=True)\n",
       ")"
      ]
     },
     "execution_count": 35,
     "metadata": {},
     "output_type": "execute_result"
    },
    {
     "name": "stdout",
     "output_type": "stream",
     "text": [
      "Epoch 3: Loss=0.6472, Acc=0.5971\n"
     ]
    },
    {
     "data": {
      "text/plain": [
       "SimpleLSTM(\n",
       "  (embedding): Embedding(25000, 128, padding_idx=1)\n",
       "  (lstm): LSTM(128, 128, batch_first=True)\n",
       "  (fc): Linear(in_features=128, out_features=2, bias=True)\n",
       ")"
      ]
     },
     "execution_count": 35,
     "metadata": {},
     "output_type": "execute_result"
    },
    {
     "name": "stdout",
     "output_type": "stream",
     "text": [
      "Epoch 4: Loss=0.6353, Acc=0.6202\n"
     ]
    },
    {
     "data": {
      "text/plain": [
       "SimpleLSTM(\n",
       "  (embedding): Embedding(25000, 128, padding_idx=1)\n",
       "  (lstm): LSTM(128, 128, batch_first=True)\n",
       "  (fc): Linear(in_features=128, out_features=2, bias=True)\n",
       ")"
      ]
     },
     "execution_count": 35,
     "metadata": {},
     "output_type": "execute_result"
    },
    {
     "name": "stdout",
     "output_type": "stream",
     "text": [
      "Epoch 5: Loss=0.6134, Acc=0.6058\n"
     ]
    },
    {
     "data": {
      "text/plain": [
       "SimpleLSTM(\n",
       "  (embedding): Embedding(25000, 128, padding_idx=1)\n",
       "  (lstm): LSTM(128, 128, batch_first=True)\n",
       "  (fc): Linear(in_features=128, out_features=2, bias=True)\n",
       ")"
      ]
     },
     "execution_count": 35,
     "metadata": {},
     "output_type": "execute_result"
    },
    {
     "name": "stdout",
     "output_type": "stream",
     "text": [
      "Epoch 6: Loss=0.5741, Acc=0.6344\n"
     ]
    },
    {
     "data": {
      "text/plain": [
       "SimpleLSTM(\n",
       "  (embedding): Embedding(25000, 128, padding_idx=1)\n",
       "  (lstm): LSTM(128, 128, batch_first=True)\n",
       "  (fc): Linear(in_features=128, out_features=2, bias=True)\n",
       ")"
      ]
     },
     "execution_count": 35,
     "metadata": {},
     "output_type": "execute_result"
    },
    {
     "name": "stdout",
     "output_type": "stream",
     "text": [
      "Epoch 7: Loss=0.5415, Acc=0.6524\n"
     ]
    },
    {
     "data": {
      "text/plain": [
       "SimpleLSTM(\n",
       "  (embedding): Embedding(25000, 128, padding_idx=1)\n",
       "  (lstm): LSTM(128, 128, batch_first=True)\n",
       "  (fc): Linear(in_features=128, out_features=2, bias=True)\n",
       ")"
      ]
     },
     "execution_count": 35,
     "metadata": {},
     "output_type": "execute_result"
    },
    {
     "name": "stdout",
     "output_type": "stream",
     "text": [
      "Epoch 8: Loss=0.4948, Acc=0.7068\n"
     ]
    },
    {
     "data": {
      "text/plain": [
       "SimpleLSTM(\n",
       "  (embedding): Embedding(25000, 128, padding_idx=1)\n",
       "  (lstm): LSTM(128, 128, batch_first=True)\n",
       "  (fc): Linear(in_features=128, out_features=2, bias=True)\n",
       ")"
      ]
     },
     "execution_count": 35,
     "metadata": {},
     "output_type": "execute_result"
    },
    {
     "name": "stdout",
     "output_type": "stream",
     "text": [
      "Epoch 9: Loss=0.5050, Acc=0.7099\n"
     ]
    },
    {
     "data": {
      "text/plain": [
       "SimpleLSTM(\n",
       "  (embedding): Embedding(25000, 128, padding_idx=1)\n",
       "  (lstm): LSTM(128, 128, batch_first=True)\n",
       "  (fc): Linear(in_features=128, out_features=2, bias=True)\n",
       ")"
      ]
     },
     "execution_count": 35,
     "metadata": {},
     "output_type": "execute_result"
    },
    {
     "name": "stdout",
     "output_type": "stream",
     "text": [
      "Epoch 10: Loss=0.5027, Acc=0.6939\n"
     ]
    },
    {
     "data": {
      "text/plain": [
       "SimpleLSTM(\n",
       "  (embedding): Embedding(25000, 128, padding_idx=1)\n",
       "  (lstm): LSTM(128, 128, batch_first=True)\n",
       "  (fc): Linear(in_features=128, out_features=2, bias=True)\n",
       ")"
      ]
     },
     "execution_count": 35,
     "metadata": {},
     "output_type": "execute_result"
    },
    {
     "name": "stdout",
     "output_type": "stream",
     "text": [
      "Epoch 11: Loss=0.4829, Acc=0.7264\n"
     ]
    },
    {
     "data": {
      "text/plain": [
       "SimpleLSTM(\n",
       "  (embedding): Embedding(25000, 128, padding_idx=1)\n",
       "  (lstm): LSTM(128, 128, batch_first=True)\n",
       "  (fc): Linear(in_features=128, out_features=2, bias=True)\n",
       ")"
      ]
     },
     "execution_count": 35,
     "metadata": {},
     "output_type": "execute_result"
    },
    {
     "name": "stdout",
     "output_type": "stream",
     "text": [
      "Epoch 12: Loss=0.4227, Acc=0.7884\n"
     ]
    },
    {
     "data": {
      "text/plain": [
       "SimpleLSTM(\n",
       "  (embedding): Embedding(25000, 128, padding_idx=1)\n",
       "  (lstm): LSTM(128, 128, batch_first=True)\n",
       "  (fc): Linear(in_features=128, out_features=2, bias=True)\n",
       ")"
      ]
     },
     "execution_count": 35,
     "metadata": {},
     "output_type": "execute_result"
    },
    {
     "name": "stdout",
     "output_type": "stream",
     "text": [
      "Epoch 13: Loss=0.3560, Acc=0.8572\n"
     ]
    },
    {
     "data": {
      "text/plain": [
       "SimpleLSTM(\n",
       "  (embedding): Embedding(25000, 128, padding_idx=1)\n",
       "  (lstm): LSTM(128, 128, batch_first=True)\n",
       "  (fc): Linear(in_features=128, out_features=2, bias=True)\n",
       ")"
      ]
     },
     "execution_count": 35,
     "metadata": {},
     "output_type": "execute_result"
    },
    {
     "name": "stdout",
     "output_type": "stream",
     "text": [
      "Epoch 14: Loss=0.3535, Acc=0.8566\n"
     ]
    },
    {
     "data": {
      "text/plain": [
       "SimpleLSTM(\n",
       "  (embedding): Embedding(25000, 128, padding_idx=1)\n",
       "  (lstm): LSTM(128, 128, batch_first=True)\n",
       "  (fc): Linear(in_features=128, out_features=2, bias=True)\n",
       ")"
      ]
     },
     "execution_count": 35,
     "metadata": {},
     "output_type": "execute_result"
    },
    {
     "name": "stdout",
     "output_type": "stream",
     "text": [
      "Epoch 15: Loss=0.2568, Acc=0.9105\n"
     ]
    },
    {
     "data": {
      "text/plain": [
       "SimpleLSTM(\n",
       "  (embedding): Embedding(25000, 128, padding_idx=1)\n",
       "  (lstm): LSTM(128, 128, batch_first=True)\n",
       "  (fc): Linear(in_features=128, out_features=2, bias=True)\n",
       ")"
      ]
     },
     "execution_count": 35,
     "metadata": {},
     "output_type": "execute_result"
    },
    {
     "name": "stdout",
     "output_type": "stream",
     "text": [
      "Epoch 16: Loss=0.2421, Acc=0.9130\n"
     ]
    },
    {
     "data": {
      "text/plain": [
       "SimpleLSTM(\n",
       "  (embedding): Embedding(25000, 128, padding_idx=1)\n",
       "  (lstm): LSTM(128, 128, batch_first=True)\n",
       "  (fc): Linear(in_features=128, out_features=2, bias=True)\n",
       ")"
      ]
     },
     "execution_count": 35,
     "metadata": {},
     "output_type": "execute_result"
    },
    {
     "name": "stdout",
     "output_type": "stream",
     "text": [
      "Epoch 17: Loss=0.2381, Acc=0.9156\n"
     ]
    },
    {
     "data": {
      "text/plain": [
       "SimpleLSTM(\n",
       "  (embedding): Embedding(25000, 128, padding_idx=1)\n",
       "  (lstm): LSTM(128, 128, batch_first=True)\n",
       "  (fc): Linear(in_features=128, out_features=2, bias=True)\n",
       ")"
      ]
     },
     "execution_count": 35,
     "metadata": {},
     "output_type": "execute_result"
    },
    {
     "name": "stdout",
     "output_type": "stream",
     "text": [
      "Epoch 18: Loss=0.1611, Acc=0.9527\n"
     ]
    },
    {
     "data": {
      "text/plain": [
       "SimpleLSTM(\n",
       "  (embedding): Embedding(25000, 128, padding_idx=1)\n",
       "  (lstm): LSTM(128, 128, batch_first=True)\n",
       "  (fc): Linear(in_features=128, out_features=2, bias=True)\n",
       ")"
      ]
     },
     "execution_count": 35,
     "metadata": {},
     "output_type": "execute_result"
    },
    {
     "name": "stdout",
     "output_type": "stream",
     "text": [
      "Epoch 19: Loss=0.1286, Acc=0.9640\n"
     ]
    },
    {
     "data": {
      "text/plain": [
       "SimpleLSTM(\n",
       "  (embedding): Embedding(25000, 128, padding_idx=1)\n",
       "  (lstm): LSTM(128, 128, batch_first=True)\n",
       "  (fc): Linear(in_features=128, out_features=2, bias=True)\n",
       ")"
      ]
     },
     "execution_count": 35,
     "metadata": {},
     "output_type": "execute_result"
    },
    {
     "name": "stdout",
     "output_type": "stream",
     "text": [
      "Epoch 20: Loss=0.1023, Acc=0.9737\n"
     ]
    }
   ],
   "source": [
    "# 10. Training Loop\n",
    "\n",
    "for epoch in range(EPOCHS):\n",
    "    model.train()\n",
    "    total_loss = 0\n",
    "    correct = 0\n",
    "    total = 0\n",
    "    for batch_x, batch_y in train_loader:\n",
    "        batch_x = batch_x.to(DEVICE)\n",
    "        batch_y = batch_y.to(DEVICE)\n",
    "        optimizer.zero_grad()\n",
    "        output = model(batch_x)\n",
    "        loss = criterion(output, batch_y)\n",
    "        loss.backward()\n",
    "        optimizer.step()\n",
    "        total_loss += loss.item() * batch_x.size(0)\n",
    "        preds = output.argmax(dim=1)\n",
    "        correct += (preds == batch_y).sum().item()\n",
    "        total += batch_x.size(0)\n",
    "    acc = correct / total\n",
    "    print(f\"Epoch {epoch+1}: Loss={total_loss/total:.4f}, Acc={acc:.4f}\")"
   ]
  },
  {
   "cell_type": "code",
   "execution_count": 36,
   "id": "f02de373",
   "metadata": {},
   "outputs": [
    {
     "data": {
      "text/plain": [
       "SimpleLSTM(\n",
       "  (embedding): Embedding(25000, 128, padding_idx=1)\n",
       "  (lstm): LSTM(128, 128, batch_first=True)\n",
       "  (fc): Linear(in_features=128, out_features=2, bias=True)\n",
       ")"
      ]
     },
     "execution_count": 36,
     "metadata": {},
     "output_type": "execute_result"
    },
    {
     "name": "stdout",
     "output_type": "stream",
     "text": [
      "              precision    recall  f1-score   support\n",
      "\n",
      "         neg       0.78      0.84      0.81     12500\n",
      "         pos       0.83      0.77      0.80     12500\n",
      "\n",
      "    accuracy                           0.81     25000\n",
      "   macro avg       0.81      0.81      0.80     25000\n",
      "weighted avg       0.81      0.81      0.80     25000\n",
      "\n"
     ]
    }
   ],
   "source": [
    "# 11. Evaluation\n",
    "model.eval()\n",
    "all_preds = []\n",
    "all_labels = []\n",
    "with torch.no_grad():\n",
    "    for batch_x, batch_y in test_loader:\n",
    "        batch_x = batch_x.to(DEVICE)\n",
    "        batch_y = batch_y.to(DEVICE)\n",
    "        output = model(batch_x)\n",
    "        preds = output.argmax(dim=1)\n",
    "        all_preds.extend(preds.cpu().numpy())\n",
    "        all_labels.extend(batch_y.cpu().numpy())\n",
    "\n",
    "print(classification_report(all_labels, all_preds, target_names=[\"neg\", \"pos\"]))"
   ]
  },
  {
   "cell_type": "code",
   "execution_count": 13,
   "id": "f8f8666a",
   "metadata": {},
   "outputs": [
    {
     "data": {
      "text/plain": [
       "array([[10480,  2020],\n",
       "       [ 1869, 10631]])"
      ]
     },
     "execution_count": 13,
     "metadata": {},
     "output_type": "execute_result"
    }
   ],
   "source": [
    "# Initial confusion matrix:\n",
    "# confusion_matrix(all_labels, all_preds)"
   ]
  },
  {
   "cell_type": "code",
   "execution_count": 37,
   "id": "c9a23a2d",
   "metadata": {},
   "outputs": [
    {
     "data": {
      "text/plain": [
       "array([[10515,  1985],\n",
       "       [ 2884,  9616]])"
      ]
     },
     "execution_count": 37,
     "metadata": {},
     "output_type": "execute_result"
    }
   ],
   "source": [
    "confusion_matrix(all_labels, all_preds)"
   ]
  },
  {
   "cell_type": "code",
   "execution_count": 44,
   "id": "62c0bc32",
   "metadata": {},
   "outputs": [
    {
     "data": {
      "text/plain": [
       "(0.8412, 0.1588)"
      ]
     },
     "execution_count": 44,
     "metadata": {},
     "output_type": "execute_result"
    },
    {
     "data": {
      "text/plain": [
       "(0.23072, 0.76928)"
      ]
     },
     "execution_count": 44,
     "metadata": {},
     "output_type": "execute_result"
    }
   ],
   "source": [
    "(confusion_matrix(all_labels, all_preds)[0,0]/(confusion_matrix(all_labels, all_preds)[0,0]+confusion_matrix(all_labels, all_preds)[0,1])), (confusion_matrix(all_labels, all_preds)[0,1]/(confusion_matrix(all_labels, all_preds)[0,0]+confusion_matrix(all_labels, all_preds)[0,1]))\n",
    "\n",
    "# print('\\n')\n",
    "\n",
    "(confusion_matrix(all_labels, all_preds)[1,0]/(confusion_matrix(all_labels, all_preds)[1,0]+confusion_matrix(all_labels, all_preds)[1,1])), (confusion_matrix(all_labels, all_preds)[1,1]/(confusion_matrix(all_labels, all_preds)[1,0]+confusion_matrix(all_labels, all_preds)[1,1]))"
   ]
  },
  {
   "cell_type": "code",
   "execution_count": 15,
   "id": "ed039754",
   "metadata": {},
   "outputs": [
    {
     "data": {
      "image/png": "[encoded data removed]",
      "text/plain": [
       "<Figure size 640x480 with 2 Axes>"
      ]
     },
     "metadata": {},
     "output_type": "display_data"
    }
   ],
   "source": [
    "# Initial \n",
    "ConfusionMatrixDisplay.from_predictions(\n",
    "    all_labels, all_preds\n",
    "    , normalize='true', cmap='Purples'\n",
    ");"
   ]
  },
  {
   "cell_type": "code",
   "execution_count": 71,
   "id": "bec218fd",
   "metadata": {},
   "outputs": [
    {
     "data": {
      "image/png": "[encoded data removed]",
      "text/plain": [
       "<Figure size 640x480 with 2 Axes>"
      ]
     },
     "metadata": {},
     "output_type": "display_data"
    }
   ],
   "source": [
    "ConfusionMatrixDisplay.from_predictions(\n",
    "    all_labels, all_preds\n",
    "    , normalize='true', cmap='Purples'\n",
    "    , display_labels=[\"Negative\", \"Positive\"]\n",
    ");"
   ]
  },
  {
   "cell_type": "code",
   "execution_count": 45,
   "id": "9080cf4d",
   "metadata": {},
   "outputs": [],
   "source": [
    "# Function to retrain the model\n",
    "\n",
    "# Trying a lower learning rate (lr) for retraining to counteract overfitting/ decreasing test acc'y; \n",
    "optimizer_r = optim.Adam(model.parameters(), lr=1e-4)\n",
    "\n",
    "def retrain_model(model, train_loader, criterion, optimizer_r, device, epochs=10):\n",
    "    \"\"\"Retrains the model for a specified number of epochs.\"\"\"\n",
    "    print(\"Starting retraining...\")\n",
    "    for epoch in range(epochs):\n",
    "        model.train()\n",
    "        total_loss = 0\n",
    "        correct = 0\n",
    "        total = 0\n",
    "        for batch_x, batch_y in train_loader:\n",
    "            batch_x = batch_x.to(device)\n",
    "            batch_y = batch_y.to(device)\n",
    "            optimizer.zero_grad()\n",
    "            output = model(batch_x)\n",
    "            loss = criterion(output, batch_y)\n",
    "            loss.backward()\n",
    "            optimizer.step()\n",
    "            total_loss += loss.item() * batch_x.size(0)\n",
    "            preds = output.argmax(dim=1)\n",
    "            correct += (preds == batch_y).sum().item()\n",
    "            total += batch_x.size(0)\n",
    "        acc = correct / total\n",
    "        print(f\"Epoch {epoch + 1}: Loss={total_loss / total:.4f}, Acc={acc:.4f}\")\n",
    "    print(\"Retraining complete.\")"
   ]
  },
  {
   "cell_type": "code",
   "execution_count": 46,
   "id": "6b2f0d4c",
   "metadata": {},
   "outputs": [],
   "source": [
    "# Function to reevaluate the model\n",
    "def reevaluate_model(model, test_loader, device):\n",
    "    \"\"\"Evaluates the model on the test set and prints metrics.\"\"\"\n",
    "    print(\"Starting reevaluation...\")\n",
    "    model.eval()\n",
    "    all_preds = []\n",
    "    all_labels = []\n",
    "    with torch.no_grad():\n",
    "        for batch_x, batch_y in test_loader:\n",
    "            batch_x = batch_x.to(device)\n",
    "            batch_y = batch_y.to(device)\n",
    "            output = model(batch_x)\n",
    "            preds = output.argmax(dim=1)\n",
    "            all_preds.extend(preds.cpu().numpy())\n",
    "            all_labels.extend(batch_y.cpu().numpy())\n",
    "\n",
    "    # Print evaluation metrics\n",
    "    print(classification_report(all_labels, all_preds, target_names=[\"neg\", \"pos\"]))\n",
    "    cm = confusion_matrix(all_labels, all_preds)\n",
    "    print(\"Confusion Matrix:\")\n",
    "    print(cm)\n",
    "\n",
    "    ConfusionMatrixDisplay.from_predictions(\n",
    "        all_labels, all_preds, normalize='true', cmap='Purples'\n",
    "    )\n",
    "    print(\"Reevaluation complete.\")"
   ]
  },
  {
   "cell_type": "code",
   "execution_count": 47,
   "id": "b81134eb",
   "metadata": {},
   "outputs": [
    {
     "name": "stdout",
     "output_type": "stream",
     "text": [
      "Starting retraining...\n",
      "Epoch 1: Loss=0.0922, Acc=0.9777\n",
      "Epoch 2: Loss=0.0735, Acc=0.9827\n",
      "Epoch 3: Loss=0.0727, Acc=0.9836\n",
      "Epoch 4: Loss=0.0699, Acc=0.9838\n",
      "Epoch 5: Loss=0.0659, Acc=0.9836\n",
      "Epoch 6: Loss=0.0668, Acc=0.9839\n",
      "Epoch 7: Loss=0.0503, Acc=0.9887\n",
      "Epoch 8: Loss=0.0577, Acc=0.9872\n",
      "Epoch 9: Loss=0.0510, Acc=0.9887\n",
      "Epoch 10: Loss=0.0434, Acc=0.9909\n",
      "Retraining complete.\n"
     ]
    }
   ],
   "source": [
    "# Example usage:\n",
    "# Retrain for additional epochs\n",
    "retrain_model(model, train_loader, criterion, optimizer, DEVICE, epochs=10)"
   ]
  },
  {
   "cell_type": "code",
   "execution_count": 48,
   "id": "a25cda57",
   "metadata": {},
   "outputs": [
    {
     "name": "stdout",
     "output_type": "stream",
     "text": [
      "Starting reevaluation...\n",
      "              precision    recall  f1-score   support\n",
      "\n",
      "         neg       0.81      0.83      0.82     12500\n",
      "         pos       0.83      0.80      0.81     12500\n",
      "\n",
      "    accuracy                           0.82     25000\n",
      "   macro avg       0.82      0.82      0.82     25000\n",
      "weighted avg       0.82      0.82      0.82     25000\n",
      "\n",
      "Confusion Matrix:\n",
      "[[10392  2108]\n",
      " [ 2480 10020]]\n",
      "Reevaluation complete.\n"
     ]
    },
    {
     "data": {
      "image/png": "[encoded data removed]",
      "text/plain": [
       "<Figure size 640x480 with 2 Axes>"
      ]
     },
     "metadata": {},
     "output_type": "display_data"
    }
   ],
   "source": [
    "# Reevaluate the model on the test set\n",
    "reevaluate_model(model, test_loader, DEVICE)"
   ]
  },
  {
   "cell_type": "code",
   "execution_count": null,
   "id": "fa9dfc0a",
   "metadata": {},
   "outputs": [],
   "source": [
    "# reevaluate_model(model, test_loader, DEVICE)\n",
    "'''\n",
    "init cm:\n",
    "array([[10480,  2020],\n",
    "       [ 1869, 10631]])\n",
    "\n",
    "cm after retrain and reeval:\n",
    "array[[10735  1765]\n",
    "      [ 2383 10117]]\n",
    "\n",
    "'''"
   ]
  },
  {
   "cell_type": "code",
   "execution_count": null,
   "id": "18864cf6",
   "metadata": {},
   "outputs": [],
   "source": []
  }
 ],
 "metadata": {
  "kernelspec": {
   "display_name": "Python 3 (ipykernel)",
   "language": "python",
   "name": "python3"
  },
  "language_info": {
   "codemirror_mode": {
    "name": "ipython",
    "version": 3
   },
   "file_extension": ".py",
   "mimetype": "text/x-python",
   "name": "python",
   "nbconvert_exporter": "python",
   "pygments_lexer": "ipython3",
   "version": "3.11.5"
  }
 },
 "nbformat": 4,
 "nbformat_minor": 5
}
